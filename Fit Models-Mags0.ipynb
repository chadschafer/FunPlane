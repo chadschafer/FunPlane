{
 "cells": [
  {
   "cell_type": "markdown",
   "metadata": {},
   "source": [
    "# Basic settings"
   ]
  },
  {
   "cell_type": "markdown",
   "metadata": {},
   "source": [
    "### Settings that define the different runs"
   ]
  },
  {
   "cell_type": "code",
   "execution_count": 1,
   "metadata": {},
   "outputs": [],
   "source": [
    "file_dir='./temp/ChadAnalyses/Mags/'\n",
    "\n",
    "PPRpredsuse = ['rband Mag','gband Mag','iband Mag','zband Mag']\n",
    "NNpredsuse = PPRpredsuse\n",
    "\n",
    "predsscl = ['rband Mag','gband Mag','iband Mag','zband Mag']"
   ]
  },
  {
   "cell_type": "raw",
   "metadata": {},
   "source": [
    "file_dir='./temp/ChadAnalyses/MagsColors/'\n",
    "\n",
    "PPRpredsuse = ['rband Mag','gband Mag','iband Mag','zband Mag','g - r','r - i','i - z']\n",
    "\n",
    "NNpredsuse = PPRpredsuse\n",
    "\n",
    "predsscl = ['rband Mag','gband Mag','iband Mag','zband Mag','g - r','r - i','i - z']"
   ]
  },
  {
   "cell_type": "raw",
   "metadata": {},
   "source": [
    "file_dir='./temp/ChadAnalyses/MagsColorsPPRresp/'\n",
    "\n",
    "PPRpredsuse = ['rband Mag','gband Mag','iband Mag','zband Mag','g - r','r - i','i - z']\n",
    "\n",
    "NNpredsuse = PPRpredsuse\n",
    "for i in range(ruse):\n",
    "    NNpredsuse = NNpredsuse + ['PPRcompsplit' + chr(i+ord('0'))]\n",
    "    \n",
    "predsscl = ['rband Mag','gband Mag','iband Mag','zband Mag','g - r','r - i','i - z']"
   ]
  },
  {
   "cell_type": "markdown",
   "metadata": {},
   "source": [
    "### Settings that are fixed across runs"
   ]
  },
  {
   "cell_type": "code",
   "execution_count": 2,
   "metadata": {},
   "outputs": [],
   "source": [
    "# This controls the number of projection functions in the PPR\n",
    "ruse = 5\n",
    "\n",
    "traintestseed = 1"
   ]
  },
  {
   "cell_type": "markdown",
   "metadata": {},
   "source": [
    "# Import Packages"
   ]
  },
  {
   "cell_type": "code",
   "execution_count": 3,
   "metadata": {},
   "outputs": [
    {
     "name": "stdout",
     "output_type": "stream",
     "text": [
      "Populating the interactive namespace from numpy and matplotlib\n"
     ]
    }
   ],
   "source": [
    "%pylab inline\n",
    "\n",
    "import illustris_python as il\n",
    "import pandas as pd\n",
    "import pickle\n",
    "\n",
    "import os\n",
    "\n",
    "from astropy.table import Table\n",
    "\n",
    "from matplotlib.colors import LogNorm"
   ]
  },
  {
   "cell_type": "code",
   "execution_count": 4,
   "metadata": {},
   "outputs": [],
   "source": [
    "basePath= '/hildafs/datasets/IllustrisTNG/TNG100-1/output'\n",
    "snapNum=99 #refers to final snapshot, redshift of zero"
   ]
  },
  {
   "cell_type": "markdown",
   "metadata": {},
   "source": [
    "# Create the combined catalog"
   ]
  },
  {
   "cell_type": "markdown",
   "metadata": {},
   "source": [
    "Start with data from the base Illustris catalog.\n",
    "\n",
    "See https://www.tng-project.org/data/docs/specifications/#sec2b"
   ]
  },
  {
   "cell_type": "markdown",
   "metadata": {},
   "source": [
    "These are the fields that will be extracted from this catalog."
   ]
  },
  {
   "cell_type": "code",
   "execution_count": 5,
   "metadata": {},
   "outputs": [],
   "source": [
    "addvariables = ['SubhaloBHMass','SubhaloGasMetallicity','SubhaloSFR',\n",
    "                'SubhaloStarMetallicity','SubhaloVmax']"
   ]
  },
  {
   "cell_type": "code",
   "execution_count": 6,
   "metadata": {},
   "outputs": [],
   "source": [
    "fields = ['SubhaloGrNr',\n",
    "          'SubhaloFlag',\n",
    "          'SubhaloMassType',\n",
    "          'SubhaloPos',\n",
    "          'SubhaloStellarPhotometrics',\n",
    "          'SubhaloMassInHalfRad',\n",
    "          'SubhaloHalfmassRad',\n",
    "          'SubhaloHalfmassRadType'] + addvariables"
   ]
  },
  {
   "cell_type": "code",
   "execution_count": 7,
   "metadata": {},
   "outputs": [],
   "source": [
    "subhalos=il.groupcat.loadSubhalos(basePath,snapNum,fields=fields)"
   ]
  },
  {
   "cell_type": "markdown",
   "metadata": {},
   "source": [
    "This is here just for reference:\n",
    "\n",
    "0. PartType0 - GAS\n",
    "1. PartType1 - DM\n",
    "2. PartType2 - (unused)\n",
    "3. PartType3 - TRACERS\n",
    "4. PartType4 - STARS & WIND PARTICLES\n",
    "5. PartType5 - BLACK HOLES"
   ]
  },
  {
   "cell_type": "markdown",
   "metadata": {},
   "source": [
    "### Read in additional catalogs"
   ]
  },
  {
   "cell_type": "markdown",
   "metadata": {},
   "source": [
    "THIS SEEMS TO BE UNNECESSARY. EVERYTHING IN HERE APPEARS TO BE IN THE FULL CATALOG BELOW.\n",
    "The shape catalog. Note that this catalog already comes in with a mass cut of `10**10 M_sun`."
   ]
  },
  {
   "cell_type": "code",
   "execution_count": 8,
   "metadata": {},
   "outputs": [],
   "source": [
    "#df_non_red_100_subfind_shapes = pd.DataFrame(\n",
    "#    pickle.load(open('/hildafs/datasets/IllustrisTNG/TNG100-1/df_non_red_100_subfind_mass-cut10', \"rb\" ) ))\n",
    "#df_non_red_100_subfind_shapes.shape"
   ]
  },
  {
   "cell_type": "markdown",
   "metadata": {},
   "source": [
    "The velocity dispersion catalog."
   ]
  },
  {
   "cell_type": "code",
   "execution_count": 9,
   "metadata": {
    "scrolled": true
   },
   "outputs": [
    {
     "name": "stdout",
     "output_type": "stream",
     "text": [
      "(20051, 5)\n"
     ]
    },
    {
     "data": {
      "text/html": [
       "<div>\n",
       "<style scoped>\n",
       "    .dataframe tbody tr th:only-of-type {\n",
       "        vertical-align: middle;\n",
       "    }\n",
       "\n",
       "    .dataframe tbody tr th {\n",
       "        vertical-align: top;\n",
       "    }\n",
       "\n",
       "    .dataframe thead th {\n",
       "        text-align: right;\n",
       "    }\n",
       "</style>\n",
       "<table border=\"1\" class=\"dataframe\">\n",
       "  <thead>\n",
       "    <tr style=\"text-align: right;\">\n",
       "      <th></th>\n",
       "      <th>gal_id</th>\n",
       "      <th>Lx</th>\n",
       "      <th>Ly</th>\n",
       "      <th>Lz</th>\n",
       "      <th>sigma_v</th>\n",
       "    </tr>\n",
       "  </thead>\n",
       "  <tbody>\n",
       "    <tr>\n",
       "      <th>0</th>\n",
       "      <td>0.0</td>\n",
       "      <td>-9.085662</td>\n",
       "      <td>-7.872045</td>\n",
       "      <td>-4.559502</td>\n",
       "      <td>374.378662</td>\n",
       "    </tr>\n",
       "    <tr>\n",
       "      <th>1</th>\n",
       "      <td>1.0</td>\n",
       "      <td>1.795185</td>\n",
       "      <td>-0.857926</td>\n",
       "      <td>1.563985</td>\n",
       "      <td>214.005508</td>\n",
       "    </tr>\n",
       "    <tr>\n",
       "      <th>2</th>\n",
       "      <td>2.0</td>\n",
       "      <td>0.620052</td>\n",
       "      <td>2.585010</td>\n",
       "      <td>0.742175</td>\n",
       "      <td>196.719849</td>\n",
       "    </tr>\n",
       "    <tr>\n",
       "      <th>3</th>\n",
       "      <td>3.0</td>\n",
       "      <td>0.292968</td>\n",
       "      <td>-0.387597</td>\n",
       "      <td>-1.368885</td>\n",
       "      <td>106.750359</td>\n",
       "    </tr>\n",
       "    <tr>\n",
       "      <th>4</th>\n",
       "      <td>4.0</td>\n",
       "      <td>-0.058817</td>\n",
       "      <td>0.112009</td>\n",
       "      <td>-0.858557</td>\n",
       "      <td>116.125282</td>\n",
       "    </tr>\n",
       "  </tbody>\n",
       "</table>\n",
       "</div>"
      ],
      "text/plain": [
       "   gal_id        Lx        Ly        Lz     sigma_v\n",
       "0     0.0 -9.085662 -7.872045 -4.559502  374.378662\n",
       "1     1.0  1.795185 -0.857926  1.563985  214.005508\n",
       "2     2.0  0.620052  2.585010  0.742175  196.719849\n",
       "3     3.0  0.292968 -0.387597 -1.368885  106.750359\n",
       "4     4.0 -0.058817  0.112009 -0.858557  116.125282"
      ]
     },
     "execution_count": 9,
     "metadata": {},
     "output_type": "execute_result"
    }
   ],
   "source": [
    "df_non_red_100_subfind_sigma_v = pd.DataFrame(pickle.load(\n",
    "    open('/hildafs/datasets/IllustrisTNG/TNG100-1/TNG100-1_99_galaxy_vel_disp_100.0.p', \n",
    "         \"rb\" ) ))\n",
    "\n",
    "print(df_non_red_100_subfind_sigma_v.shape)\n",
    "df_non_red_100_subfind_sigma_v.head()"
   ]
  },
  {
   "cell_type": "markdown",
   "metadata": {},
   "source": [
    "The \"full\" catalog."
   ]
  },
  {
   "cell_type": "code",
   "execution_count": 10,
   "metadata": {
    "scrolled": true
   },
   "outputs": [
    {
     "name": "stdout",
     "output_type": "stream",
     "text": [
      "(20051, 114)\n"
     ]
    },
    {
     "data": {
      "text/html": [
       "<div>\n",
       "<style scoped>\n",
       "    .dataframe tbody tr th:only-of-type {\n",
       "        vertical-align: middle;\n",
       "    }\n",
       "\n",
       "    .dataframe tbody tr th {\n",
       "        vertical-align: top;\n",
       "    }\n",
       "\n",
       "    .dataframe thead th {\n",
       "        text-align: right;\n",
       "    }\n",
       "</style>\n",
       "<table border=\"1\" class=\"dataframe\">\n",
       "  <thead>\n",
       "    <tr style=\"text-align: right;\">\n",
       "      <th></th>\n",
       "      <th>gal_id</th>\n",
       "      <th>f_disk</th>\n",
       "      <th>int_disk_thin</th>\n",
       "      <th>int_disk_thick</th>\n",
       "      <th>int_disk_counter_exp2</th>\n",
       "      <th>chisq_exp2</th>\n",
       "      <th>int_disk_exp1</th>\n",
       "      <th>int_disk_counter_exp1</th>\n",
       "      <th>chisq_exp1</th>\n",
       "      <th>mc_disk</th>\n",
       "      <th>...</th>\n",
       "      <th>bv_z</th>\n",
       "      <th>cv_x</th>\n",
       "      <th>cv_y</th>\n",
       "      <th>cv_z</th>\n",
       "      <th>mass</th>\n",
       "      <th>gal_pos_x</th>\n",
       "      <th>gal_pos_y</th>\n",
       "      <th>gal_pos_z</th>\n",
       "      <th>e1</th>\n",
       "      <th>e2</th>\n",
       "    </tr>\n",
       "  </thead>\n",
       "  <tbody>\n",
       "    <tr>\n",
       "      <th>0</th>\n",
       "      <td>0.0</td>\n",
       "      <td>0.102826</td>\n",
       "      <td>1.120683e-11</td>\n",
       "      <td>0.252965</td>\n",
       "      <td>0.090781</td>\n",
       "      <td>69.553006</td>\n",
       "      <td>0.359817</td>\n",
       "      <td>0.198626</td>\n",
       "      <td>54.325447</td>\n",
       "      <td>0.229510</td>\n",
       "      <td>...</td>\n",
       "      <td>0.377225</td>\n",
       "      <td>0.782535</td>\n",
       "      <td>0.612006</td>\n",
       "      <td>0.114402</td>\n",
       "      <td>3.705585e+12</td>\n",
       "      <td>0.849091</td>\n",
       "      <td>26.326996</td>\n",
       "      <td>18.306934</td>\n",
       "      <td>-0.109703</td>\n",
       "      <td>-0.157248</td>\n",
       "    </tr>\n",
       "    <tr>\n",
       "      <th>1</th>\n",
       "      <td>1.0</td>\n",
       "      <td>0.073827</td>\n",
       "      <td>5.167568e-03</td>\n",
       "      <td>0.082322</td>\n",
       "      <td>0.064100</td>\n",
       "      <td>287.146480</td>\n",
       "      <td>0.208253</td>\n",
       "      <td>0.173610</td>\n",
       "      <td>272.848191</td>\n",
       "      <td>0.084007</td>\n",
       "      <td>...</td>\n",
       "      <td>0.469768</td>\n",
       "      <td>-0.159400</td>\n",
       "      <td>0.476258</td>\n",
       "      <td>-0.864737</td>\n",
       "      <td>5.587917e+11</td>\n",
       "      <td>0.106473</td>\n",
       "      <td>24.633322</td>\n",
       "      <td>16.900553</td>\n",
       "      <td>0.295580</td>\n",
       "      <td>0.009956</td>\n",
       "    </tr>\n",
       "    <tr>\n",
       "      <th>2</th>\n",
       "      <td>2.0</td>\n",
       "      <td>0.104297</td>\n",
       "      <td>5.651366e-02</td>\n",
       "      <td>0.208010</td>\n",
       "      <td>0.100389</td>\n",
       "      <td>63.551982</td>\n",
       "      <td>0.203645</td>\n",
       "      <td>0.071742</td>\n",
       "      <td>77.861395</td>\n",
       "      <td>0.237992</td>\n",
       "      <td>...</td>\n",
       "      <td>-0.293690</td>\n",
       "      <td>0.135702</td>\n",
       "      <td>0.904910</td>\n",
       "      <td>0.403390</td>\n",
       "      <td>6.271396e+11</td>\n",
       "      <td>0.853112</td>\n",
       "      <td>26.725748</td>\n",
       "      <td>17.510679</td>\n",
       "      <td>0.026402</td>\n",
       "      <td>-0.016790</td>\n",
       "    </tr>\n",
       "    <tr>\n",
       "      <th>3</th>\n",
       "      <td>3.0</td>\n",
       "      <td>0.293960</td>\n",
       "      <td>3.609416e-01</td>\n",
       "      <td>0.187110</td>\n",
       "      <td>0.037387</td>\n",
       "      <td>72.289555</td>\n",
       "      <td>0.448154</td>\n",
       "      <td>0.028169</td>\n",
       "      <td>967.551351</td>\n",
       "      <td>0.564971</td>\n",
       "      <td>...</td>\n",
       "      <td>-0.012360</td>\n",
       "      <td>-0.111798</td>\n",
       "      <td>0.556926</td>\n",
       "      <td>0.823003</td>\n",
       "      <td>1.715515e+11</td>\n",
       "      <td>0.245455</td>\n",
       "      <td>26.517372</td>\n",
       "      <td>15.888749</td>\n",
       "      <td>-0.066341</td>\n",
       "      <td>-0.033003</td>\n",
       "    </tr>\n",
       "    <tr>\n",
       "      <th>4</th>\n",
       "      <td>4.0</td>\n",
       "      <td>0.158796</td>\n",
       "      <td>7.771672e-02</td>\n",
       "      <td>0.102280</td>\n",
       "      <td>0.022292</td>\n",
       "      <td>72.560206</td>\n",
       "      <td>0.135537</td>\n",
       "      <td>0.005955</td>\n",
       "      <td>184.095625</td>\n",
       "      <td>0.199667</td>\n",
       "      <td>...</td>\n",
       "      <td>0.015853</td>\n",
       "      <td>-0.002944</td>\n",
       "      <td>-0.163988</td>\n",
       "      <td>0.986458</td>\n",
       "      <td>1.333404e+11</td>\n",
       "      <td>0.768784</td>\n",
       "      <td>26.518290</td>\n",
       "      <td>15.530523</td>\n",
       "      <td>-0.028562</td>\n",
       "      <td>0.007162</td>\n",
       "    </tr>\n",
       "  </tbody>\n",
       "</table>\n",
       "<p>5 rows × 114 columns</p>\n",
       "</div>"
      ],
      "text/plain": [
       "   gal_id    f_disk  int_disk_thin  int_disk_thick  int_disk_counter_exp2  \\\n",
       "0     0.0  0.102826   1.120683e-11        0.252965               0.090781   \n",
       "1     1.0  0.073827   5.167568e-03        0.082322               0.064100   \n",
       "2     2.0  0.104297   5.651366e-02        0.208010               0.100389   \n",
       "3     3.0  0.293960   3.609416e-01        0.187110               0.037387   \n",
       "4     4.0  0.158796   7.771672e-02        0.102280               0.022292   \n",
       "\n",
       "   chisq_exp2  int_disk_exp1  int_disk_counter_exp1  chisq_exp1   mc_disk  \\\n",
       "0   69.553006       0.359817               0.198626   54.325447  0.229510   \n",
       "1  287.146480       0.208253               0.173610  272.848191  0.084007   \n",
       "2   63.551982       0.203645               0.071742   77.861395  0.237992   \n",
       "3   72.289555       0.448154               0.028169  967.551351  0.564971   \n",
       "4   72.560206       0.135537               0.005955  184.095625  0.199667   \n",
       "\n",
       "   ...      bv_z      cv_x      cv_y      cv_z          mass  gal_pos_x  \\\n",
       "0  ...  0.377225  0.782535  0.612006  0.114402  3.705585e+12   0.849091   \n",
       "1  ...  0.469768 -0.159400  0.476258 -0.864737  5.587917e+11   0.106473   \n",
       "2  ... -0.293690  0.135702  0.904910  0.403390  6.271396e+11   0.853112   \n",
       "3  ... -0.012360 -0.111798  0.556926  0.823003  1.715515e+11   0.245455   \n",
       "4  ...  0.015853 -0.002944 -0.163988  0.986458  1.333404e+11   0.768784   \n",
       "\n",
       "   gal_pos_y  gal_pos_z        e1        e2  \n",
       "0  26.326996  18.306934 -0.109703 -0.157248  \n",
       "1  24.633322  16.900553  0.295580  0.009956  \n",
       "2  26.725748  17.510679  0.026402 -0.016790  \n",
       "3  26.517372  15.888749 -0.066341 -0.033003  \n",
       "4  26.518290  15.530523 -0.028562  0.007162  \n",
       "\n",
       "[5 rows x 114 columns]"
      ]
     },
     "execution_count": 10,
     "metadata": {},
     "output_type": "execute_result"
    }
   ],
   "source": [
    "df_non_red_100_subfind_full = pickle.load(\n",
    "    open('/hildafs/datasets/IllustrisTNG/TNG100-1/TNG100-1_99_galaxy_component_shapes_3I_subfind_FULL_mass-cut9.p', \n",
    "         \"rb\" ) )\n",
    "\n",
    "print(df_non_red_100_subfind_full.shape)\n",
    "df_non_red_100_subfind_full.head()"
   ]
  },
  {
   "cell_type": "markdown",
   "metadata": {},
   "source": [
    "Note that, for some reason, `gal_id` appears twice in the \"full\" catalog. Hence, the `drop` function removes both of those instances. It's for this reason that I am dropping from the \"full\" catalog, and not from the velocity dispersion catalog."
   ]
  },
  {
   "cell_type": "code",
   "execution_count": 11,
   "metadata": {
    "scrolled": true
   },
   "outputs": [],
   "source": [
    "fullinfo = pd.concat(\n",
    "    [df_non_red_100_subfind_full.drop({'gal_id'},axis=1),\n",
    "     df_non_red_100_subfind_sigma_v], \n",
    "     axis=1)"
   ]
  },
  {
   "cell_type": "markdown",
   "metadata": {},
   "source": [
    "### Create the merged catalog"
   ]
  },
  {
   "cell_type": "markdown",
   "metadata": {},
   "source": [
    "For each variable in the base catalog, need to extract the elements based on `gal_id` in the supplemental catalog."
   ]
  },
  {
   "cell_type": "markdown",
   "metadata": {},
   "source": [
    "The photometric magnitudes."
   ]
  },
  {
   "cell_type": "code",
   "execution_count": 12,
   "metadata": {},
   "outputs": [],
   "source": [
    "fullinfo['gband Mag'] = subhalos['SubhaloStellarPhotometrics'][fullinfo['gal_id'].astype('int'),4]\n",
    "fullinfo['rband Mag'] = subhalos['SubhaloStellarPhotometrics'][fullinfo['gal_id'].astype('int'),5]\n",
    "fullinfo['iband Mag'] = subhalos['SubhaloStellarPhotometrics'][fullinfo['gal_id'].astype('int'),6]\n",
    "fullinfo['zband Mag'] = subhalos['SubhaloStellarPhotometrics'][fullinfo['gal_id'].astype('int'),7]"
   ]
  },
  {
   "cell_type": "markdown",
   "metadata": {},
   "source": [
    "Colors"
   ]
  },
  {
   "cell_type": "code",
   "execution_count": 13,
   "metadata": {},
   "outputs": [],
   "source": [
    "fullinfo['g - r'] = fullinfo['gband Mag'] - fullinfo['rband Mag']\n",
    "fullinfo['r - i'] = fullinfo['rband Mag'] - fullinfo['iband Mag']\n",
    "fullinfo['i - z'] = fullinfo['iband Mag'] - fullinfo['zband Mag']"
   ]
  },
  {
   "cell_type": "markdown",
   "metadata": {},
   "source": [
    "Size and mass. (Mass measures stars.)"
   ]
  },
  {
   "cell_type": "code",
   "execution_count": 14,
   "metadata": {},
   "outputs": [],
   "source": [
    "fullinfo['size'] = subhalos['SubhaloHalfmassRad'][fullinfo['gal_id'].astype('int')]\n",
    "fullinfo['galaxy_mass'] = \\\n",
    "     subhalos['SubhaloMassType'][fullinfo['gal_id'].astype('int'),4]*10**10"
   ]
  },
  {
   "cell_type": "markdown",
   "metadata": {},
   "source": [
    "Other variables from the base catalog."
   ]
  },
  {
   "cell_type": "code",
   "execution_count": 15,
   "metadata": {},
   "outputs": [],
   "source": [
    "for addvar in addvariables:\n",
    "    fullinfo[addvar] = subhalos[addvar][fullinfo['gal_id'].astype('int')]"
   ]
  },
  {
   "cell_type": "markdown",
   "metadata": {},
   "source": [
    "The subhalo flag is mapped over, in order to exclude flagged observations."
   ]
  },
  {
   "cell_type": "code",
   "execution_count": 16,
   "metadata": {},
   "outputs": [],
   "source": [
    "fullinfo['subhaloflag'] = subhalos['SubhaloFlag'][fullinfo['gal_id'].astype('int')]"
   ]
  },
  {
   "cell_type": "markdown",
   "metadata": {},
   "source": [
    "There are some duplicated columns. Note that the data in them were not actually identical. In particular, the position variables were off by a factor of 1000."
   ]
  },
  {
   "cell_type": "code",
   "execution_count": 17,
   "metadata": {},
   "outputs": [],
   "source": [
    "fullinfo = fullinfo.loc[:,~fullinfo.columns.duplicated()]"
   ]
  },
  {
   "cell_type": "markdown",
   "metadata": {},
   "source": [
    "Exclude any observations for which the `SubhaloFlag` is `False` or the mass is not sufficiently large. If mass cutoff is $10^9$, there should be 17513 rows remaining. If the mass cutoff is $10^{10}$, there should be 4987 rows remaining."
   ]
  },
  {
   "cell_type": "code",
   "execution_count": 18,
   "metadata": {},
   "outputs": [
    {
     "name": "stdout",
     "output_type": "stream",
     "text": [
      "17513\n"
     ]
    }
   ],
   "source": [
    "keep = (fullinfo['subhaloflag']) & (fullinfo['galaxy_mass'] > 10**9) \n",
    "print(sum(keep))\n",
    "\n",
    "subinfo = fullinfo[keep].copy()"
   ]
  },
  {
   "cell_type": "markdown",
   "metadata": {},
   "source": [
    "Create log-transformed versions of some variables."
   ]
  },
  {
   "cell_type": "code",
   "execution_count": 19,
   "metadata": {},
   "outputs": [],
   "source": [
    "varsToLogTransform = ['galaxy_mass',\n",
    "                      'sigma_v',\n",
    "                      'size']\n",
    "\n",
    "for varname in varsToLogTransform:\n",
    "    subinfo['log ' + varname] = log10(subinfo[varname])"
   ]
  },
  {
   "cell_type": "markdown",
   "metadata": {},
   "source": [
    "Some of the variables have a spike of values at zero, but are otherwise positive (and skewed). The strategy taken here is to create an indicator variable for zero values, and then log transform the positive values. Hence, there are two variables included in the model for each of these."
   ]
  },
  {
   "cell_type": "code",
   "execution_count": 20,
   "metadata": {},
   "outputs": [],
   "source": [
    "# SubhaloBHMassZero\n",
    "\n",
    "subinfo['SubhaloBHMassZero'] = (subinfo['SubhaloBHMass'] == 0).astype(int)\n",
    "\n",
    "subinfo['log SubhaloBHMass'] = \\\n",
    "   [0 if val == 0 else log10(val) for val in subinfo['SubhaloBHMass']]\n",
    "\n",
    "\n",
    "# SubhaloSFR\n",
    "\n",
    "subinfo['SubhaloSFRZero'] = (subinfo['SubhaloSFR'] == 0).astype(int)\n",
    "\n",
    "subinfo['log SubhaloSFR'] = \\\n",
    "   [0 if val == 0 else log10(val) for val in subinfo['SubhaloSFR']]\n",
    "\n",
    "\n",
    "# SubhaloGasMetallicity is not skewed\n",
    "\n",
    "subinfo['SubhaloGasMetallicityZero'] = (subinfo['SubhaloGasMetallicity'] == 0).astype(int)\n"
   ]
  },
  {
   "cell_type": "markdown",
   "metadata": {},
   "source": [
    "Create indicators for the different size bins."
   ]
  },
  {
   "cell_type": "code",
   "execution_count": 21,
   "metadata": {},
   "outputs": [],
   "source": [
    "holdQ = pd.qcut(subinfo['log size'],4,labels=[\"SizeQ1\",\"SizeQ2\",\"SizeQ3\",\"SizeQ4\"])\n",
    "\n",
    "subinfo['SizeQ1'] = (holdQ == \"SizeQ1\").astype(int)\n",
    "subinfo['SizeQ2'] = (holdQ == \"SizeQ2\").astype(int)\n",
    "subinfo['SizeQ3'] = (holdQ == \"SizeQ3\").astype(int)\n",
    "subinfo['SizeQ4'] = (holdQ == \"SizeQ4\").astype(int)\n",
    "\n",
    "subinfo['small sigma_v'] = (subinfo['log sigma_v'] <-2).astype(int)\n",
    "\n",
    "#subinfo = subinfo[subinfo['SizeQ4']==1]"
   ]
  },
  {
   "cell_type": "markdown",
   "metadata": {},
   "source": [
    "## Set the predictors and response"
   ]
  },
  {
   "cell_type": "code",
   "execution_count": 22,
   "metadata": {},
   "outputs": [],
   "source": [
    "respuse = 'log size'"
   ]
  },
  {
   "cell_type": "markdown",
   "metadata": {},
   "source": [
    "The predictors are now set at the top of the file."
   ]
  },
  {
   "cell_type": "raw",
   "metadata": {},
   "source": [
    "predsuse = ['log galaxy_mass','log sigma_v','rband Mag','gband Mag','iband Mag','zband Mag',\n",
    "           'g - r','r - i','i - z','mc_disk'] + addvariables\n",
    "\n",
    "predsuse = ['log galaxy_mass','log sigma_v','rband Mag','gband Mag','iband Mag','zband Mag',\n",
    "           'mc_disk','log SubhaloBHMass','log SubhaloBHMassZero','SubhaloSFR',\n",
    "            'SubhaloStarMetallicity','SubhaloVmax']\n",
    "\n",
    "predsuse = ['log galaxy_mass','log sigma_v','rband Mag','gband Mag','iband Mag',\n",
    "            'zband Mag', 'mc_disk','log SubhaloBHMass','SubhaloBHMassZero',\n",
    "            'log SubhaloSFR', 'SubhaloSFRZero']\n",
    "\n",
    "predsuse = ['log galaxy_mass','log sigma_v','rband Mag','gband Mag','iband Mag',\n",
    "            'zband Mag', 'g - r','r - i','i - z',\n",
    "            'log SubhaloSFR', 'SubhaloSFRZero','mc_disk']\n",
    "\n",
    "predsuse = ['log galaxy_mass','log sigma_v','rband Mag','gband Mag','iband Mag',\n",
    "            'zband Mag', 'g - r','r - i','i - z',\n",
    "            'log SubhaloSFR', 'SubhaloSFRZero']\n",
    "\n",
    "predsuse = ['log galaxy_mass','log sigma_v','rband Mag','gband Mag','iband Mag',\n",
    "            'zband Mag', 'g - r','r - i','i - z',\n",
    "            'log SubhaloSFR', 'SubhaloSFRZero','SizeQ1','SizeQ2','SizeQ3']\n",
    "\n",
    "predsuse = ['log galaxy_mass','log sigma_v','rband Mag','gband Mag','iband Mag',\n",
    "            'zband Mag', 'g - r','r - i','i - z',\n",
    "            'log SubhaloSFR', 'SubhaloSFRZero','central_bool','mc_disk','small sigma_v']\n",
    "\n",
    "\n",
    "PPRpredsuse = ['rband Mag','gband Mag','iband Mag',\n",
    "            'zband Mag', 'g - r','r - i','i - z']"
   ]
  },
  {
   "cell_type": "markdown",
   "metadata": {},
   "source": [
    "## Scale Selected Predictors"
   ]
  },
  {
   "cell_type": "code",
   "execution_count": 23,
   "metadata": {},
   "outputs": [],
   "source": [
    "from sklearn import preprocessing\n",
    "\n",
    "scaler = preprocessing.StandardScaler(copy=True)\n",
    "\n",
    "scaler.fit(subinfo[predsscl])\n",
    "\n",
    "foo = pd.DataFrame(scaler.transform(subinfo[predsscl]),columns=predsscl, index=subinfo.index)\n",
    "\n",
    "subinfo = pd.DataFrame.join(subinfo.drop(predsscl,axis=1),foo)"
   ]
  },
  {
   "cell_type": "code",
   "execution_count": 24,
   "metadata": {
    "scrolled": false
   },
   "outputs": [
    {
     "data": {
      "text/html": [
       "<div>\n",
       "<style scoped>\n",
       "    .dataframe tbody tr th:only-of-type {\n",
       "        vertical-align: middle;\n",
       "    }\n",
       "\n",
       "    .dataframe tbody tr th {\n",
       "        vertical-align: top;\n",
       "    }\n",
       "\n",
       "    .dataframe thead th {\n",
       "        text-align: right;\n",
       "    }\n",
       "</style>\n",
       "<table border=\"1\" class=\"dataframe\">\n",
       "  <thead>\n",
       "    <tr style=\"text-align: right;\">\n",
       "      <th></th>\n",
       "      <th>f_disk</th>\n",
       "      <th>int_disk_thin</th>\n",
       "      <th>int_disk_thick</th>\n",
       "      <th>int_disk_counter_exp2</th>\n",
       "      <th>chisq_exp2</th>\n",
       "      <th>int_disk_exp1</th>\n",
       "      <th>int_disk_counter_exp1</th>\n",
       "      <th>chisq_exp1</th>\n",
       "      <th>mc_disk</th>\n",
       "      <th>a_simple_disk</th>\n",
       "      <th>...</th>\n",
       "      <th>SubhaloGasMetallicityZero</th>\n",
       "      <th>SizeQ1</th>\n",
       "      <th>SizeQ2</th>\n",
       "      <th>SizeQ3</th>\n",
       "      <th>SizeQ4</th>\n",
       "      <th>small sigma_v</th>\n",
       "      <th>rband Mag</th>\n",
       "      <th>gband Mag</th>\n",
       "      <th>iband Mag</th>\n",
       "      <th>zband Mag</th>\n",
       "    </tr>\n",
       "  </thead>\n",
       "  <tbody>\n",
       "    <tr>\n",
       "      <th>0</th>\n",
       "      <td>0.102826</td>\n",
       "      <td>1.120683e-11</td>\n",
       "      <td>0.252965</td>\n",
       "      <td>0.090781</td>\n",
       "      <td>69.553006</td>\n",
       "      <td>0.359817</td>\n",
       "      <td>0.198626</td>\n",
       "      <td>54.325447</td>\n",
       "      <td>0.229510</td>\n",
       "      <td>0.263015</td>\n",
       "      <td>...</td>\n",
       "      <td>0</td>\n",
       "      <td>0</td>\n",
       "      <td>0</td>\n",
       "      <td>0</td>\n",
       "      <td>1</td>\n",
       "      <td>0</td>\n",
       "      <td>-4.764354</td>\n",
       "      <td>-4.514183</td>\n",
       "      <td>-4.818780</td>\n",
       "      <td>-4.828142</td>\n",
       "    </tr>\n",
       "    <tr>\n",
       "      <th>1</th>\n",
       "      <td>0.073827</td>\n",
       "      <td>5.167568e-03</td>\n",
       "      <td>0.082322</td>\n",
       "      <td>0.064100</td>\n",
       "      <td>287.146480</td>\n",
       "      <td>0.208253</td>\n",
       "      <td>0.173610</td>\n",
       "      <td>272.848191</td>\n",
       "      <td>0.084007</td>\n",
       "      <td>0.093535</td>\n",
       "      <td>...</td>\n",
       "      <td>0</td>\n",
       "      <td>0</td>\n",
       "      <td>0</td>\n",
       "      <td>0</td>\n",
       "      <td>1</td>\n",
       "      <td>0</td>\n",
       "      <td>-3.128438</td>\n",
       "      <td>-2.902219</td>\n",
       "      <td>-3.187275</td>\n",
       "      <td>-3.206353</td>\n",
       "    </tr>\n",
       "    <tr>\n",
       "      <th>2</th>\n",
       "      <td>0.104297</td>\n",
       "      <td>5.651366e-02</td>\n",
       "      <td>0.208010</td>\n",
       "      <td>0.100389</td>\n",
       "      <td>63.551982</td>\n",
       "      <td>0.203645</td>\n",
       "      <td>0.071742</td>\n",
       "      <td>77.861395</td>\n",
       "      <td>0.237992</td>\n",
       "      <td>0.038423</td>\n",
       "      <td>...</td>\n",
       "      <td>0</td>\n",
       "      <td>0</td>\n",
       "      <td>0</td>\n",
       "      <td>0</td>\n",
       "      <td>1</td>\n",
       "      <td>0</td>\n",
       "      <td>-3.439029</td>\n",
       "      <td>-3.341743</td>\n",
       "      <td>-3.455535</td>\n",
       "      <td>-3.455128</td>\n",
       "    </tr>\n",
       "    <tr>\n",
       "      <th>3</th>\n",
       "      <td>0.293960</td>\n",
       "      <td>3.609416e-01</td>\n",
       "      <td>0.187110</td>\n",
       "      <td>0.037387</td>\n",
       "      <td>72.289555</td>\n",
       "      <td>0.448154</td>\n",
       "      <td>0.028169</td>\n",
       "      <td>967.551351</td>\n",
       "      <td>0.564971</td>\n",
       "      <td>0.017284</td>\n",
       "      <td>...</td>\n",
       "      <td>0</td>\n",
       "      <td>0</td>\n",
       "      <td>0</td>\n",
       "      <td>0</td>\n",
       "      <td>1</td>\n",
       "      <td>0</td>\n",
       "      <td>-2.542429</td>\n",
       "      <td>-2.474658</td>\n",
       "      <td>-2.551160</td>\n",
       "      <td>-2.547872</td>\n",
       "    </tr>\n",
       "    <tr>\n",
       "      <th>4</th>\n",
       "      <td>0.158796</td>\n",
       "      <td>7.771672e-02</td>\n",
       "      <td>0.102280</td>\n",
       "      <td>0.022292</td>\n",
       "      <td>72.560206</td>\n",
       "      <td>0.135537</td>\n",
       "      <td>0.005955</td>\n",
       "      <td>184.095625</td>\n",
       "      <td>0.199667</td>\n",
       "      <td>0.018827</td>\n",
       "      <td>...</td>\n",
       "      <td>0</td>\n",
       "      <td>0</td>\n",
       "      <td>0</td>\n",
       "      <td>0</td>\n",
       "      <td>1</td>\n",
       "      <td>0</td>\n",
       "      <td>-1.926942</td>\n",
       "      <td>-1.784699</td>\n",
       "      <td>-1.969079</td>\n",
       "      <td>-1.985330</td>\n",
       "    </tr>\n",
       "  </tbody>\n",
       "</table>\n",
       "<p>5 rows × 141 columns</p>\n",
       "</div>"
      ],
      "text/plain": [
       "     f_disk  int_disk_thin  int_disk_thick  int_disk_counter_exp2  chisq_exp2  \\\n",
       "0  0.102826   1.120683e-11        0.252965               0.090781   69.553006   \n",
       "1  0.073827   5.167568e-03        0.082322               0.064100  287.146480   \n",
       "2  0.104297   5.651366e-02        0.208010               0.100389   63.551982   \n",
       "3  0.293960   3.609416e-01        0.187110               0.037387   72.289555   \n",
       "4  0.158796   7.771672e-02        0.102280               0.022292   72.560206   \n",
       "\n",
       "   int_disk_exp1  int_disk_counter_exp1  chisq_exp1   mc_disk  a_simple_disk  \\\n",
       "0       0.359817               0.198626   54.325447  0.229510       0.263015   \n",
       "1       0.208253               0.173610  272.848191  0.084007       0.093535   \n",
       "2       0.203645               0.071742   77.861395  0.237992       0.038423   \n",
       "3       0.448154               0.028169  967.551351  0.564971       0.017284   \n",
       "4       0.135537               0.005955  184.095625  0.199667       0.018827   \n",
       "\n",
       "   ...  SubhaloGasMetallicityZero  SizeQ1  SizeQ2  SizeQ3  SizeQ4  \\\n",
       "0  ...                          0       0       0       0       1   \n",
       "1  ...                          0       0       0       0       1   \n",
       "2  ...                          0       0       0       0       1   \n",
       "3  ...                          0       0       0       0       1   \n",
       "4  ...                          0       0       0       0       1   \n",
       "\n",
       "   small sigma_v  rband Mag  gband Mag  iband Mag  zband Mag  \n",
       "0              0  -4.764354  -4.514183  -4.818780  -4.828142  \n",
       "1              0  -3.128438  -2.902219  -3.187275  -3.206353  \n",
       "2              0  -3.439029  -3.341743  -3.455535  -3.455128  \n",
       "3              0  -2.542429  -2.474658  -2.551160  -2.547872  \n",
       "4              0  -1.926942  -1.784699  -1.969079  -1.985330  \n",
       "\n",
       "[5 rows x 141 columns]"
      ]
     },
     "execution_count": 24,
     "metadata": {},
     "output_type": "execute_result"
    }
   ],
   "source": [
    "subinfo.head()"
   ]
  },
  {
   "cell_type": "markdown",
   "metadata": {},
   "source": [
    "## Split into Test and Training Sets"
   ]
  },
  {
   "cell_type": "code",
   "execution_count": 25,
   "metadata": {},
   "outputs": [],
   "source": [
    "from sklearn.model_selection import train_test_split"
   ]
  },
  {
   "cell_type": "code",
   "execution_count": 26,
   "metadata": {},
   "outputs": [],
   "source": [
    "train_features, test_features, train_labels, test_labels = \\\n",
    "   train_test_split(subinfo[PPRpredsuse], subinfo[respuse], \n",
    "        test_size = 0.2, random_state = traintestseed)\n",
    "\n",
    "train_features = train_features.astype(float)\n",
    "test_features = test_features.astype(float)"
   ]
  },
  {
   "cell_type": "markdown",
   "metadata": {},
   "source": [
    "# Projection Pursuit Regression"
   ]
  },
  {
   "cell_type": "code",
   "execution_count": 27,
   "metadata": {
    "scrolled": true
   },
   "outputs": [],
   "source": [
    "#pip install projection-pursuit\n",
    "from skpp import ProjectionPursuitRegressor"
   ]
  },
  {
   "cell_type": "code",
   "execution_count": 28,
   "metadata": {},
   "outputs": [],
   "source": [
    "deguse = 5"
   ]
  },
  {
   "cell_type": "code",
   "execution_count": 29,
   "metadata": {},
   "outputs": [
    {
     "data": {
      "image/png": "[encoded data removed]",
      "text/plain": [
       "<Figure size 360x360 with 1 Axes>"
      ]
     },
     "metadata": {
      "needs_background": "light"
     },
     "output_type": "display_data"
    },
    {
     "data": {
      "image/png": "[encoded data removed]",
      "text/plain": [
       "<Figure size 360x360 with 1 Axes>"
      ]
     },
     "metadata": {
      "needs_background": "light"
     },
     "output_type": "display_data"
    },
    {
     "data": {
      "image/png": "[encoded data removed]",
      "text/plain": [
       "<Figure size 360x360 with 1 Axes>"
      ]
     },
     "metadata": {
      "needs_background": "light"
     },
     "output_type": "display_data"
    },
    {
     "data": {
      "image/png": "[encoded data removed]",
      "text/plain": [
       "<Figure size 360x360 with 1 Axes>"
      ]
     },
     "metadata": {
      "needs_background": "light"
     },
     "output_type": "display_data"
    }
   ],
   "source": [
    "for pred in PPRpredsuse:\n",
    "    plt.figure(figsize=[5,5])\n",
    "    hist(subinfo[pred], bins=100)\n",
    "    plt.xlabel(pred,size=12)\n",
    "    plt.show()"
   ]
  },
  {
   "cell_type": "markdown",
   "metadata": {},
   "source": [
    "Fit the model"
   ]
  },
  {
   "cell_type": "code",
   "execution_count": 30,
   "metadata": {},
   "outputs": [],
   "source": [
    "#from sklearn import preprocessing\n",
    "\n",
    "#scaler = preprocessing.StandardScaler(copy=True)\n",
    "\n",
    "#scaler.fit(train_features)\n",
    "\n",
    "#train_features_scl = pd.DataFrame(scaler.transform(train_features),columns=predsuse)\n",
    "\n",
    "#test_features_scl = pd.DataFrame(scaler.transform(test_features),columns=predsuse)"
   ]
  },
  {
   "cell_type": "code",
   "execution_count": 31,
   "metadata": {
    "scrolled": false
   },
   "outputs": [
    {
     "data": {
      "text/plain": [
       "ProjectionPursuitRegressor(degree=5, fit_type='spline', r=5)"
      ]
     },
     "execution_count": 31,
     "metadata": {},
     "output_type": "execute_result"
    }
   ],
   "source": [
    "PPRestimatorsplit = ProjectionPursuitRegressor(r=ruse,\n",
    "        show_plots=False, degree=deguse, fit_type='spline')\n",
    "\n",
    "PPRestimatorsplit.fit(train_features,train_labels)"
   ]
  },
  {
   "cell_type": "markdown",
   "metadata": {},
   "source": [
    "This is the projection of the data using the alpha vectors, i.e., this is prior to the application of the nonlinear functions."
   ]
  },
  {
   "cell_type": "code",
   "execution_count": 32,
   "metadata": {},
   "outputs": [],
   "source": [
    "projs = PPRestimatorsplit.transform(train_features)"
   ]
  },
  {
   "cell_type": "markdown",
   "metadata": {},
   "source": [
    "Determine the fits from each projection."
   ]
  },
  {
   "cell_type": "code",
   "execution_count": 33,
   "metadata": {},
   "outputs": [],
   "source": [
    "fitsbyproj = projs.copy()\n",
    "for i in range(ruse):\n",
    "    fitsbyproj[:,i] = PPRestimatorsplit._f[i](projs[:,i])*PPRestimatorsplit._beta[0][i]"
   ]
  },
  {
   "cell_type": "markdown",
   "metadata": {},
   "source": [
    "Calculate the fitted values and residuals, but also compare with what's returned by `predict`, as a double check."
   ]
  },
  {
   "cell_type": "code",
   "execution_count": 34,
   "metadata": {},
   "outputs": [
    {
     "name": "stdout",
     "output_type": "stream",
     "text": [
      "[ 1.42999975  1.67631994  1.32108452 ...  0.40868857  1.39685696\n",
      " -0.22640334]\n",
      "[ 1.42999975  1.67631994  1.32108452 ...  0.40868857  1.39685696\n",
      " -0.22640334]\n"
     ]
    }
   ],
   "source": [
    "fittedvalues = fitsbyproj.sum(1)\n",
    "residuals = train_labels - fittedvalues\n",
    "\n",
    "print(fittedvalues)\n",
    "print(PPRestimatorsplit.predict(train_features))"
   ]
  },
  {
   "cell_type": "markdown",
   "metadata": {},
   "source": [
    "This illustrates how each nonlinear function is fit to the residuals of the other fits."
   ]
  },
  {
   "cell_type": "code",
   "execution_count": 35,
   "metadata": {},
   "outputs": [
    {
     "data": {
      "image/png": "[encoded data removed]",
      "text/plain": [
       "<Figure size 864x288 with 2 Axes>"
      ]
     },
     "metadata": {
      "needs_background": "light"
     },
     "output_type": "display_data"
    },
    {
     "data": {
      "image/png": "[encoded data removed]",
      "text/plain": [
       "<Figure size 864x288 with 2 Axes>"
      ]
     },
     "metadata": {
      "needs_background": "light"
     },
     "output_type": "display_data"
    },
    {
     "data": {
      "image/png": "[encoded data removed]",
      "text/plain": [
       "<Figure size 864x288 with 2 Axes>"
      ]
     },
     "metadata": {
      "needs_background": "light"
     },
     "output_type": "display_data"
    },
    {
     "data": {
      "image/png": "[encoded data removed]",
      "text/plain": [
       "<Figure size 864x288 with 2 Axes>"
      ]
     },
     "metadata": {
      "needs_background": "light"
     },
     "output_type": "display_data"
    },
    {
     "data": {
      "image/png": "[encoded data removed]",
      "text/plain": [
       "<Figure size 864x288 with 2 Axes>"
      ]
     },
     "metadata": {
      "needs_background": "light"
     },
     "output_type": "display_data"
    }
   ],
   "source": [
    "for i in range(ruse):\n",
    "    \n",
    "    # The residuals from the fit leaving out projection i\n",
    "    residswithouti = residuals + fitsbyproj[:,i]\n",
    "    \n",
    "    fig,axs = plt.subplots(1,2,figsize=[12,4])\n",
    "    \n",
    "    axs[0].barh(PPRpredsuse, PPRestimatorsplit._alpha[:,i])\n",
    "    axs[0].plot([0, 0], [-5, len(PPRpredsuse)+5], 'k-')\n",
    "    axs[0].set(ylim=(-1,len(PPRpredsuse)))\n",
    "    \n",
    "    axs[1].hist2d(x=projs[:,i],\n",
    "       y=residswithouti,\n",
    "         bins=300,\n",
    "         norm=matplotlib.colors.LogNorm())\n",
    "\n",
    "    foo = PPRestimatorsplit._f[i](sort(projs[:,i]))*PPRestimatorsplit._beta[0][i]\n",
    "\n",
    "    plot(sort(projs[:,i]),foo,color=\"r\")\n",
    "    plt.title('')\n",
    "    plt.ylabel('Residuals',size=12)\n",
    "    plt.xlabel(('Projection '+str(i+1)),size=12)\n",
    "    plt.show()"
   ]
  },
  {
   "cell_type": "markdown",
   "metadata": {},
   "source": [
    "Plot of residuals versus fitted values."
   ]
  },
  {
   "cell_type": "code",
   "execution_count": 36,
   "metadata": {},
   "outputs": [
    {
     "data": {
      "image/png": "[encoded data removed]",
      "text/plain": [
       "<Figure size 360x360 with 1 Axes>"
      ]
     },
     "metadata": {
      "needs_background": "light"
     },
     "output_type": "display_data"
    }
   ],
   "source": [
    "plt.figure(figsize=[5,5])\n",
    "hist2d(x=fittedvalues,\n",
    "       y=residuals,\n",
    "         bins=200,\n",
    "         norm=matplotlib.colors.LogNorm())\n",
    "plt.title('')\n",
    "plt.ylabel('Residuals',size=12)\n",
    "plt.xlabel('Fitted Values',size=12)\n",
    "plt.show()"
   ]
  },
  {
   "cell_type": "code",
   "execution_count": 37,
   "metadata": {},
   "outputs": [
    {
     "data": {
      "image/png": "[encoded data removed]",
      "text/plain": [
       "<Figure size 360x360 with 1 Axes>"
      ]
     },
     "metadata": {
      "needs_background": "light"
     },
     "output_type": "display_data"
    }
   ],
   "source": [
    "plt.figure(figsize=[5,5])\n",
    "hist2d(x=fittedvalues,\n",
    "       y=train_labels,\n",
    "         bins=200,\n",
    "         norm=matplotlib.colors.LogNorm())\n",
    "plt.title('')\n",
    "plt.ylabel('Response',size=12)\n",
    "plt.xlabel('Fitted Values',size=12)\n",
    "plt.plot([-100, 100], [-100, 100], 'b-')\n",
    "\n",
    "plt.show()"
   ]
  },
  {
   "cell_type": "markdown",
   "metadata": {},
   "source": [
    "### Performance on test set\n",
    "\n",
    "Note that there is one catastrophic outlier that needs to be investigated more fully. It's worth noting that `g-r` is extreme."
   ]
  },
  {
   "cell_type": "code",
   "execution_count": 38,
   "metadata": {},
   "outputs": [],
   "source": [
    "PPRfitsontest = PPRestimatorsplit.predict(test_features)"
   ]
  },
  {
   "cell_type": "code",
   "execution_count": 39,
   "metadata": {
    "scrolled": false
   },
   "outputs": [
    {
     "name": "stdout",
     "output_type": "stream",
     "text": [
      "[-0.07130432 -0.02116966 -0.01171303 -0.01055908  0.01379204]\n"
     ]
    },
    {
     "data": {
      "text/html": [
       "<div>\n",
       "<style scoped>\n",
       "    .dataframe tbody tr th:only-of-type {\n",
       "        vertical-align: middle;\n",
       "    }\n",
       "\n",
       "    .dataframe tbody tr th {\n",
       "        vertical-align: top;\n",
       "    }\n",
       "\n",
       "    .dataframe thead th {\n",
       "        text-align: right;\n",
       "    }\n",
       "</style>\n",
       "<table border=\"1\" class=\"dataframe\">\n",
       "  <thead>\n",
       "    <tr style=\"text-align: right;\">\n",
       "      <th></th>\n",
       "      <th>rband Mag</th>\n",
       "      <th>gband Mag</th>\n",
       "      <th>iband Mag</th>\n",
       "      <th>zband Mag</th>\n",
       "    </tr>\n",
       "  </thead>\n",
       "  <tbody>\n",
       "  </tbody>\n",
       "</table>\n",
       "</div>"
      ],
      "text/plain": [
       "Empty DataFrame\n",
       "Columns: [rband Mag, gband Mag, iband Mag, zband Mag]\n",
       "Index: []"
      ]
     },
     "execution_count": 39,
     "metadata": {},
     "output_type": "execute_result"
    }
   ],
   "source": [
    "print(sort(subinfo['g - r'])[:5])\n",
    "\n",
    "test_features[PPRfitsontest>25]"
   ]
  },
  {
   "cell_type": "code",
   "execution_count": 40,
   "metadata": {},
   "outputs": [
    {
     "data": {
      "image/png": "[encoded data removed]",
      "text/plain": [
       "<Figure size 360x360 with 1 Axes>"
      ]
     },
     "metadata": {
      "needs_background": "light"
     },
     "output_type": "display_data"
    }
   ],
   "source": [
    "plt.figure(figsize=[5,5])\n",
    "hist2d(x=PPRfitsontest[PPRfitsontest<25],\n",
    "       y=test_labels[PPRfitsontest<25],\n",
    "         bins=200,\n",
    "         norm=matplotlib.colors.LogNorm())\n",
    "plt.title('Projection Pursuit Performance')\n",
    "plt.ylabel('Test Set Response',size=12)\n",
    "plt.xlabel('Test Set Fitted Values',size=12)\n",
    "plt.plot([-100, 100], [-100, 100], 'b-')\n",
    "plt.xlim(-1.5,3)\n",
    "plt.ylim(-1.5,3)\n",
    "\n",
    "plt.show()"
   ]
  },
  {
   "cell_type": "markdown",
   "metadata": {},
   "source": [
    "RMSE"
   ]
  },
  {
   "cell_type": "code",
   "execution_count": 41,
   "metadata": {},
   "outputs": [
    {
     "name": "stdout",
     "output_type": "stream",
     "text": [
      "RMSE PPR on test set:\n",
      "0.2682344702277375\n",
      "RMSE PPR on training set:\n",
      "0.25913540402037005\n"
     ]
    }
   ],
   "source": [
    "print(\"RMSE PPR on test set:\")\n",
    "print(sqrt(mean((PPRfitsontest-test_labels)**2)))\n",
    "\n",
    "print(\"RMSE PPR on training set:\")\n",
    "print(sqrt(mean(residuals**2)))"
   ]
  },
  {
   "cell_type": "markdown",
   "metadata": {},
   "source": [
    "Refit the model using the full data set. Calculate and store the residuals."
   ]
  },
  {
   "cell_type": "code",
   "execution_count": 42,
   "metadata": {},
   "outputs": [
    {
     "data": {
      "text/plain": [
       "ProjectionPursuitRegressor(degree=5, fit_type='spline', r=5)"
      ]
     },
     "execution_count": 42,
     "metadata": {},
     "output_type": "execute_result"
    }
   ],
   "source": [
    "PPRestimatorfull = ProjectionPursuitRegressor(r=ruse,show_plots=False,\n",
    "            degree=deguse, fit_type='spline')\n",
    "\n",
    "PPRestimatorfull.fit(subinfo[PPRpredsuse].astype(float),subinfo[respuse])"
   ]
  },
  {
   "cell_type": "code",
   "execution_count": 43,
   "metadata": {},
   "outputs": [
    {
     "name": "stdout",
     "output_type": "stream",
     "text": [
      "-1.6174634522858928e-06\n",
      "0.2597120940774693\n"
     ]
    }
   ],
   "source": [
    "subinfo['PPRresids'] = subinfo[respuse] - PPRestimatorfull.predict(subinfo[PPRpredsuse].astype(float))\n",
    "\n",
    "print(mean(subinfo['PPRresids']))\n",
    "print(std(subinfo['PPRresids']))"
   ]
  },
  {
   "cell_type": "markdown",
   "metadata": {},
   "source": [
    "This will create columns in the main data frame which equal the nonparametric function applied to the projection. This is done for both the fits from the full data set, and from the fits from the training/test split."
   ]
  },
  {
   "cell_type": "code",
   "execution_count": 44,
   "metadata": {},
   "outputs": [],
   "source": [
    "projsfull = PPRestimatorfull.transform(subinfo[PPRpredsuse])\n",
    "\n",
    "for i in range(ruse):\n",
    "    subinfo['PPRcompfull' + chr(i+ord('0'))] = \\\n",
    "       PPRestimatorfull._f[i](projsfull[:,i].astype(float))*PPRestimatorfull._beta[0][i]\n",
    "    \n",
    "    \n",
    "projssplit = PPRestimatorsplit.transform(subinfo[PPRpredsuse])\n",
    "\n",
    "for i in range(ruse):\n",
    "    subinfo['PPRcompsplit' + chr(i+ord('0'))] = \\\n",
    "       PPRestimatorsplit._f[i](projssplit[:,i].astype(float))*PPRestimatorsplit._beta[0][i]"
   ]
  },
  {
   "cell_type": "code",
   "execution_count": 45,
   "metadata": {},
   "outputs": [
    {
     "data": {
      "text/html": [
       "<div>\n",
       "<style scoped>\n",
       "    .dataframe tbody tr th:only-of-type {\n",
       "        vertical-align: middle;\n",
       "    }\n",
       "\n",
       "    .dataframe tbody tr th {\n",
       "        vertical-align: top;\n",
       "    }\n",
       "\n",
       "    .dataframe thead th {\n",
       "        text-align: right;\n",
       "    }\n",
       "</style>\n",
       "<table border=\"1\" class=\"dataframe\">\n",
       "  <thead>\n",
       "    <tr style=\"text-align: right;\">\n",
       "      <th></th>\n",
       "      <th>f_disk</th>\n",
       "      <th>int_disk_thin</th>\n",
       "      <th>int_disk_thick</th>\n",
       "      <th>int_disk_counter_exp2</th>\n",
       "      <th>chisq_exp2</th>\n",
       "      <th>int_disk_exp1</th>\n",
       "      <th>int_disk_counter_exp1</th>\n",
       "      <th>chisq_exp1</th>\n",
       "      <th>mc_disk</th>\n",
       "      <th>a_simple_disk</th>\n",
       "      <th>...</th>\n",
       "      <th>PPRcompfull0</th>\n",
       "      <th>PPRcompfull1</th>\n",
       "      <th>PPRcompfull2</th>\n",
       "      <th>PPRcompfull3</th>\n",
       "      <th>PPRcompfull4</th>\n",
       "      <th>PPRcompsplit0</th>\n",
       "      <th>PPRcompsplit1</th>\n",
       "      <th>PPRcompsplit2</th>\n",
       "      <th>PPRcompsplit3</th>\n",
       "      <th>PPRcompsplit4</th>\n",
       "    </tr>\n",
       "  </thead>\n",
       "  <tbody>\n",
       "    <tr>\n",
       "      <th>0</th>\n",
       "      <td>0.102826</td>\n",
       "      <td>1.120683e-11</td>\n",
       "      <td>0.252965</td>\n",
       "      <td>0.090781</td>\n",
       "      <td>69.553006</td>\n",
       "      <td>0.359817</td>\n",
       "      <td>0.198626</td>\n",
       "      <td>54.325447</td>\n",
       "      <td>0.229510</td>\n",
       "      <td>0.263015</td>\n",
       "      <td>...</td>\n",
       "      <td>1.693328</td>\n",
       "      <td>-0.779294</td>\n",
       "      <td>2.506199</td>\n",
       "      <td>-0.050658</td>\n",
       "      <td>0.013691</td>\n",
       "      <td>1.964400</td>\n",
       "      <td>-0.082099</td>\n",
       "      <td>1.764776</td>\n",
       "      <td>-0.633002</td>\n",
       "      <td>-0.006669</td>\n",
       "    </tr>\n",
       "    <tr>\n",
       "      <th>1</th>\n",
       "      <td>0.073827</td>\n",
       "      <td>5.167568e-03</td>\n",
       "      <td>0.082322</td>\n",
       "      <td>0.064100</td>\n",
       "      <td>287.146480</td>\n",
       "      <td>0.208253</td>\n",
       "      <td>0.173610</td>\n",
       "      <td>272.848191</td>\n",
       "      <td>0.084007</td>\n",
       "      <td>0.093535</td>\n",
       "      <td>...</td>\n",
       "      <td>1.615310</td>\n",
       "      <td>0.472802</td>\n",
       "      <td>0.221258</td>\n",
       "      <td>0.062968</td>\n",
       "      <td>0.015541</td>\n",
       "      <td>1.543218</td>\n",
       "      <td>0.058227</td>\n",
       "      <td>0.624918</td>\n",
       "      <td>0.134640</td>\n",
       "      <td>-0.012008</td>\n",
       "    </tr>\n",
       "    <tr>\n",
       "      <th>2</th>\n",
       "      <td>0.104297</td>\n",
       "      <td>5.651366e-02</td>\n",
       "      <td>0.208010</td>\n",
       "      <td>0.100389</td>\n",
       "      <td>63.551982</td>\n",
       "      <td>0.203645</td>\n",
       "      <td>0.071742</td>\n",
       "      <td>77.861395</td>\n",
       "      <td>0.237992</td>\n",
       "      <td>0.038423</td>\n",
       "      <td>...</td>\n",
       "      <td>1.627588</td>\n",
       "      <td>0.276816</td>\n",
       "      <td>0.154375</td>\n",
       "      <td>-0.051934</td>\n",
       "      <td>0.011012</td>\n",
       "      <td>1.551413</td>\n",
       "      <td>-0.014622</td>\n",
       "      <td>0.537368</td>\n",
       "      <td>0.045423</td>\n",
       "      <td>-0.007429</td>\n",
       "    </tr>\n",
       "    <tr>\n",
       "      <th>3</th>\n",
       "      <td>0.293960</td>\n",
       "      <td>3.609416e-01</td>\n",
       "      <td>0.187110</td>\n",
       "      <td>0.037387</td>\n",
       "      <td>72.289555</td>\n",
       "      <td>0.448154</td>\n",
       "      <td>0.028169</td>\n",
       "      <td>967.551351</td>\n",
       "      <td>0.564971</td>\n",
       "      <td>0.017284</td>\n",
       "      <td>...</td>\n",
       "      <td>1.614815</td>\n",
       "      <td>0.104878</td>\n",
       "      <td>0.153739</td>\n",
       "      <td>0.030426</td>\n",
       "      <td>0.015244</td>\n",
       "      <td>1.541004</td>\n",
       "      <td>0.044254</td>\n",
       "      <td>0.391584</td>\n",
       "      <td>-0.014314</td>\n",
       "      <td>-0.005582</td>\n",
       "    </tr>\n",
       "    <tr>\n",
       "      <th>4</th>\n",
       "      <td>0.158796</td>\n",
       "      <td>7.771672e-02</td>\n",
       "      <td>0.102280</td>\n",
       "      <td>0.022292</td>\n",
       "      <td>72.560206</td>\n",
       "      <td>0.135537</td>\n",
       "      <td>0.005955</td>\n",
       "      <td>184.095625</td>\n",
       "      <td>0.199667</td>\n",
       "      <td>0.018827</td>\n",
       "      <td>...</td>\n",
       "      <td>1.591674</td>\n",
       "      <td>0.258171</td>\n",
       "      <td>0.152538</td>\n",
       "      <td>0.063519</td>\n",
       "      <td>0.012652</td>\n",
       "      <td>1.552004</td>\n",
       "      <td>0.066422</td>\n",
       "      <td>0.351438</td>\n",
       "      <td>0.069885</td>\n",
       "      <td>-0.011382</td>\n",
       "    </tr>\n",
       "  </tbody>\n",
       "</table>\n",
       "<p>5 rows × 152 columns</p>\n",
       "</div>"
      ],
      "text/plain": [
       "     f_disk  int_disk_thin  int_disk_thick  int_disk_counter_exp2  chisq_exp2  \\\n",
       "0  0.102826   1.120683e-11        0.252965               0.090781   69.553006   \n",
       "1  0.073827   5.167568e-03        0.082322               0.064100  287.146480   \n",
       "2  0.104297   5.651366e-02        0.208010               0.100389   63.551982   \n",
       "3  0.293960   3.609416e-01        0.187110               0.037387   72.289555   \n",
       "4  0.158796   7.771672e-02        0.102280               0.022292   72.560206   \n",
       "\n",
       "   int_disk_exp1  int_disk_counter_exp1  chisq_exp1   mc_disk  a_simple_disk  \\\n",
       "0       0.359817               0.198626   54.325447  0.229510       0.263015   \n",
       "1       0.208253               0.173610  272.848191  0.084007       0.093535   \n",
       "2       0.203645               0.071742   77.861395  0.237992       0.038423   \n",
       "3       0.448154               0.028169  967.551351  0.564971       0.017284   \n",
       "4       0.135537               0.005955  184.095625  0.199667       0.018827   \n",
       "\n",
       "   ...  PPRcompfull0  PPRcompfull1  PPRcompfull2  PPRcompfull3  PPRcompfull4  \\\n",
       "0  ...      1.693328     -0.779294      2.506199     -0.050658      0.013691   \n",
       "1  ...      1.615310      0.472802      0.221258      0.062968      0.015541   \n",
       "2  ...      1.627588      0.276816      0.154375     -0.051934      0.011012   \n",
       "3  ...      1.614815      0.104878      0.153739      0.030426      0.015244   \n",
       "4  ...      1.591674      0.258171      0.152538      0.063519      0.012652   \n",
       "\n",
       "   PPRcompsplit0  PPRcompsplit1  PPRcompsplit2  PPRcompsplit3  PPRcompsplit4  \n",
       "0       1.964400      -0.082099       1.764776      -0.633002      -0.006669  \n",
       "1       1.543218       0.058227       0.624918       0.134640      -0.012008  \n",
       "2       1.551413      -0.014622       0.537368       0.045423      -0.007429  \n",
       "3       1.541004       0.044254       0.391584      -0.014314      -0.005582  \n",
       "4       1.552004       0.066422       0.351438       0.069885      -0.011382  \n",
       "\n",
       "[5 rows x 152 columns]"
      ]
     },
     "execution_count": 45,
     "metadata": {},
     "output_type": "execute_result"
    }
   ],
   "source": [
    "subinfo.head()"
   ]
  },
  {
   "cell_type": "markdown",
   "metadata": {},
   "source": [
    "## Random Forest\n",
    "\n",
    "Some of the syntax is taken from \n",
    "https://towardsdatascience.com/random-forest-in-python-24d0893d51c0"
   ]
  },
  {
   "cell_type": "raw",
   "metadata": {},
   "source": [
    "from sklearn.ensemble import RandomForestRegressor"
   ]
  },
  {
   "cell_type": "markdown",
   "metadata": {},
   "source": [
    "Instantiate model with `numtrees` decision trees"
   ]
  },
  {
   "cell_type": "raw",
   "metadata": {},
   "source": [
    "numtrees = 50"
   ]
  },
  {
   "cell_type": "raw",
   "metadata": {},
   "source": [
    "rf = RandomForestRegressor(n_estimators = numtrees, random_state = 0)"
   ]
  },
  {
   "cell_type": "markdown",
   "metadata": {},
   "source": [
    "Train the model on training data"
   ]
  },
  {
   "cell_type": "raw",
   "metadata": {},
   "source": [
    "rf.fit(train_features, train_labels);"
   ]
  },
  {
   "cell_type": "markdown",
   "metadata": {},
   "source": [
    "Predict on the test set"
   ]
  },
  {
   "cell_type": "raw",
   "metadata": {},
   "source": [
    "RFfitsontest = rf.predict(test_features)"
   ]
  },
  {
   "cell_type": "raw",
   "metadata": {
    "scrolled": false
   },
   "source": [
    "plt.figure(figsize=[5,5])\n",
    "hist2d(x=RFfitsontest,\n",
    "       y=test_labels,\n",
    "         bins=200,\n",
    "         norm=matplotlib.colors.LogNorm())\n",
    "plt.title('Random Forest Performance')\n",
    "plt.ylabel('Test Set Response',size=12)\n",
    "plt.xlabel('Test Set Fitted Values',size=12)\n",
    "plt.plot([-100, 100], [-100, 100], 'b-')\n",
    "plt.xlim(-1.5,3)\n",
    "plt.ylim(-1.5,3)\n",
    "\n",
    "plt.show()"
   ]
  },
  {
   "cell_type": "raw",
   "metadata": {},
   "source": [
    "def scl01(x):\n",
    "    foo = x - min(x)\n",
    "    return foo/max(foo)"
   ]
  },
  {
   "cell_type": "raw",
   "metadata": {},
   "source": [
    "for varname in predsscl:\n",
    "    plt.figure(figsize=[5,5])\n",
    "    plt.scatter(RFfitsontest,test_labels,s=0.5,c=scl01(test_features[varname]),\n",
    "            cmap=\"magma\")\n",
    "    plt.title(varname)\n",
    "    plt.ylabel('Test Set Response',size=12)\n",
    "    plt.xlabel('Test Set Fitted Values',size=12)\n",
    "    plt.plot([-100, 100], [-100, 100], 'b-')\n",
    "    plt.xlim(-1.5,3)\n",
    "    plt.ylim(-1.5,3)\n",
    "\n",
    "    plt.show()"
   ]
  },
  {
   "cell_type": "raw",
   "metadata": {},
   "source": [
    "print(sqrt(mean((RFfitsontest-test_labels)**2)))\n",
    "print(std(test_labels))"
   ]
  },
  {
   "cell_type": "raw",
   "metadata": {
    "scrolled": true
   },
   "source": [
    "plt.figure(figsize=[5,5])\n",
    "hist2d(x=RFfitsontest[PPRfitsontest<25],\n",
    "       y=PPRfitsontest[PPRfitsontest<25],\n",
    "         bins=200,\n",
    "         norm=matplotlib.colors.LogNorm())\n",
    "plt.title('Comparing Predictions')\n",
    "plt.ylabel('Projection Pursuit Prediction',size=12)\n",
    "plt.xlabel('Random Forest Prediction',size=12)\n",
    "plt.plot([-100, 100], [-100, 100], 'b-')\n",
    "plt.xlim(-1.5,3)\n",
    "plt.ylim(-1.5,3)\n",
    "\n",
    "plt.show()"
   ]
  },
  {
   "cell_type": "markdown",
   "metadata": {},
   "source": [
    "Fit on the full data set."
   ]
  },
  {
   "cell_type": "raw",
   "metadata": {},
   "source": [
    "rffull = RandomForestRegressor(n_estimators = 1000, random_state = 0)\n",
    "\n",
    "rffull.fit(subinfo[predsuse],subinfo[respuse])\n",
    "\n",
    "subinfo['RFresids'] = subinfo[respuse] - rffull.predict(subinfo[predsuse])"
   ]
  },
  {
   "cell_type": "markdown",
   "metadata": {},
   "source": [
    "## Tuning parameter selection for Random forest"
   ]
  },
  {
   "cell_type": "markdown",
   "metadata": {},
   "source": [
    "Some of this code is adapated (stolen) from https://towardsdatascience.com/hyperparameter-tuning-the-random-forest-in-python-using-scikit-learn-28d2aa77dd74"
   ]
  },
  {
   "cell_type": "raw",
   "metadata": {},
   "source": [
    "from sklearn.model_selection import RandomizedSearchCV,GridSearchCV"
   ]
  },
  {
   "cell_type": "raw",
   "metadata": {},
   "source": [
    "# Number of trees in random forest\n",
    "n_estimators = [int(x) for x in np.linspace(start = 200, stop = 2000, num = 10)]\n",
    "\n",
    "# Maximum number of levels in tree\n",
    "max_depth = [int(x) for x in np.linspace(10, 110, num = 11)]\n",
    "max_depth.append(None)\n",
    "\n",
    "max_features = [int(x) for x in np.linspace(2,len(predsuse),num=4)]\n",
    "\n",
    "# Create the random grid\n",
    "random_grid = {'n_estimators': n_estimators,\n",
    "               'max_features': max_features,\n",
    "               'max_depth': max_depth}\n",
    "\n",
    "print(random_grid)"
   ]
  },
  {
   "cell_type": "raw",
   "metadata": {
    "scrolled": true
   },
   "source": [
    "# Use the random grid to search for best hyperparameters\n",
    "# First create the base model to tune\n",
    "rf = RandomForestRegressor()\n",
    "# Random search of parameters, using 3 fold cross validation, \n",
    "# search across n_iter different combinations, and use all available cores\n",
    "rf_random = RandomizedSearchCV(estimator = rf, param_distributions = random_grid,\n",
    "                    n_iter = 100, cv = 5, verbose=5, random_state=0, n_jobs = -1)\n",
    "# Fit the random search model\n",
    "rf_random.fit(train_features, train_labels)"
   ]
  },
  {
   "cell_type": "raw",
   "metadata": {},
   "source": [
    "print(rf_random.best_params_['n_estimators'])\n",
    "\n",
    "print(rf_random.best_params_['max_features'])\n",
    "\n",
    "print(rf_random.best_params_['max_depth'])"
   ]
  },
  {
   "cell_type": "raw",
   "metadata": {},
   "source": [
    "# Number of trees in random forest\n",
    "n_estimators = [int(x) for x in np.linspace(start = rf_random.best_params_['n_estimators']-200, \n",
    "                                            stop = rf_random.best_params_['n_estimators']+200, num = 3)]\n",
    "\n",
    "# Maximum number of levels in tree\n",
    "max_depth = [int(x) for x in np.linspace(max(rf_random.best_params_['max_depth']-20,10), \n",
    "                                         rf_random.best_params_['max_depth']+20, num = 3)]\n",
    "\n",
    "holdmf = min(rf_random.best_params_['max_features'],len(predsuse)-2)\n",
    "\n",
    "max_features = [int(x) for x in np.linspace(holdmf-2, holdmf+2,num=3)]\n",
    "\n",
    "param_grid = {\n",
    "    'max_depth': max_depth,\n",
    "    'max_features': max_features,\n",
    "    'n_estimators': n_estimators\n",
    "}\n",
    "print(param_grid)"
   ]
  },
  {
   "cell_type": "raw",
   "metadata": {
    "scrolled": true
   },
   "source": [
    "# Create a based model\n",
    "rf = RandomForestRegressor()\n",
    "# Instantiate the grid search model\n",
    "rf_grid = GridSearchCV(estimator = rf, param_grid = param_grid, \n",
    "                          cv = 5, n_jobs = -1, verbose = 2)\n",
    "\n",
    "rf_grid.fit(train_features, train_labels)"
   ]
  },
  {
   "cell_type": "raw",
   "metadata": {},
   "source": [
    "rf_grid.best_params_"
   ]
  },
  {
   "cell_type": "raw",
   "metadata": {},
   "source": [
    "RFgridfitsontest = rf_grid.predict(test_features)"
   ]
  },
  {
   "cell_type": "raw",
   "metadata": {},
   "source": [
    "plt.figure(figsize=[5,5])\n",
    "hist2d(x=RFgridfitsontest,\n",
    "       y=test_labels,\n",
    "         bins=200,\n",
    "         norm=matplotlib.colors.LogNorm())\n",
    "plt.title('Random Forest Performance')\n",
    "plt.ylabel('Test Set Response',size=12)\n",
    "plt.xlabel('Test Set Fitted Values',size=12)\n",
    "plt.plot([-100, 100], [-100, 100], 'b-')\n",
    "plt.xlim(-1.5,3)\n",
    "plt.ylim(-1.5,3)\n",
    "\n",
    "plt.show()"
   ]
  },
  {
   "cell_type": "markdown",
   "metadata": {},
   "source": [
    "\n",
    "# Neural Network\n",
    "\n",
    "Some of this syntax is based on https://towardsdatascience.com/deep-learning-with-python-neural-networks-complete-tutorial-6b53c0b06af0"
   ]
  },
  {
   "cell_type": "markdown",
   "metadata": {},
   "source": [
    "Need to redo the training/test split (using the same seed), so that the new variables are correctly allocated."
   ]
  },
  {
   "cell_type": "code",
   "execution_count": 46,
   "metadata": {},
   "outputs": [],
   "source": [
    "train_features, test_features, train_labels, test_labels = \\\n",
    "   train_test_split(subinfo[NNpredsuse], subinfo[respuse], \n",
    "        test_size = 0.2, random_state = traintestseed)\n",
    "\n",
    "train_features = train_features.astype(float)\n",
    "test_features = test_features.astype(float)"
   ]
  },
  {
   "cell_type": "code",
   "execution_count": 47,
   "metadata": {},
   "outputs": [],
   "source": [
    "from tensorflow.keras import models, layers, utils, backend as K"
   ]
  },
  {
   "cell_type": "markdown",
   "metadata": {},
   "source": [
    "Set up the model architecture"
   ]
  },
  {
   "cell_type": "code",
   "execution_count": 48,
   "metadata": {},
   "outputs": [
    {
     "name": "stdout",
     "output_type": "stream",
     "text": [
      "Model: \"SimpleNN\"\n",
      "_________________________________________________________________\n",
      "Layer (type)                 Output Shape              Param #   \n",
      "=================================================================\n",
      "h1 (Dense)                   (None, 100)               500       \n",
      "_________________________________________________________________\n",
      "drop1 (Dropout)              (None, 100)               0         \n",
      "_________________________________________________________________\n",
      "h2 (Dense)                   (None, 100)               10100     \n",
      "_________________________________________________________________\n",
      "drop2 (Dropout)              (None, 100)               0         \n",
      "_________________________________________________________________\n",
      "output (Dense)               (None, 1)                 101       \n",
      "=================================================================\n",
      "Total params: 10,701\n",
      "Trainable params: 10,701\n",
      "Non-trainable params: 0\n",
      "_________________________________________________________________\n"
     ]
    }
   ],
   "source": [
    "n_features = len(NNpredsuse)\n",
    "\n",
    "model = models.Sequential(name=\"SimpleNN\", layers=[\n",
    "    ### hidden layer 1\n",
    "    layers.Dense(name=\"h1\", input_dim=n_features,\n",
    "                 units=100, \n",
    "                 activation='relu'),\n",
    "    \n",
    "    layers.Dropout(name=\"drop1\", rate=0.2),\n",
    "    \n",
    "    ### hidden layer 2\n",
    "    layers.Dense(name=\"h2\", units=100, \n",
    "                 activation='relu'),\n",
    "    \n",
    "    layers.Dropout(name=\"drop2\", rate=0.2),\n",
    "    \n",
    "    ### hidden layer 3\n",
    "#    layers.Dense(name=\"h3\", units=20, \n",
    " #                activation='relu'),\n",
    "  #  layers.Dropout(name=\"drop3\", rate=0.2),\n",
    "    \n",
    "    ### layer output\n",
    "    layers.Dense(name=\"output\", units=1, activation='linear')\n",
    "])\n",
    "model.summary()"
   ]
  },
  {
   "cell_type": "markdown",
   "metadata": {},
   "source": [
    "Define metrics"
   ]
  },
  {
   "cell_type": "code",
   "execution_count": 49,
   "metadata": {},
   "outputs": [],
   "source": [
    "def R2(y, y_hat):\n",
    "    ss_res =  K.sum(K.square(y - y_hat)) \n",
    "    ss_tot = K.sum(K.square(y - K.mean(y))) \n",
    "    return ( 1 - ss_res/(ss_tot + K.epsilon()) )"
   ]
  },
  {
   "cell_type": "markdown",
   "metadata": {},
   "source": [
    "Compile the neural network"
   ]
  },
  {
   "cell_type": "code",
   "execution_count": 50,
   "metadata": {},
   "outputs": [],
   "source": [
    "from tensorflow.keras.optimizers import SGD\n",
    "\n",
    "epochs=500\n",
    "learning_rate = 0.001\n",
    "decay_rate = learning_rate / epochs\n",
    "momentum = 0.8\n",
    "\n",
    "sgd = SGD(lr=learning_rate, momentum=momentum, decay=decay_rate, nesterov=True)\n",
    "\n",
    "model.compile(optimizer=sgd, loss='mean_squared_error', metrics=[R2])"
   ]
  },
  {
   "cell_type": "code",
   "execution_count": 51,
   "metadata": {},
   "outputs": [
    {
     "name": "stdout",
     "output_type": "stream",
     "text": [
      "Epoch 1/500\n",
      "307/307 [==============================] - 1s 3ms/step - loss: 0.3605 - R2: -0.7535 - val_loss: 0.1532 - val_R2: 0.2946\n",
      "Epoch 2/500\n",
      "307/307 [==============================] - 1s 3ms/step - loss: 0.1711 - R2: 0.1936 - val_loss: 0.1372 - val_R2: 0.3753\n",
      "Epoch 3/500\n",
      "307/307 [==============================] - 1s 3ms/step - loss: 0.1602 - R2: 0.2526 - val_loss: 0.1331 - val_R2: 0.3942\n",
      "Epoch 4/500\n",
      "307/307 [==============================] - 1s 3ms/step - loss: 0.1520 - R2: 0.2899 - val_loss: 0.1304 - val_R2: 0.4074\n",
      "Epoch 5/500\n",
      "307/307 [==============================] - 1s 3ms/step - loss: 0.1492 - R2: 0.3102 - val_loss: 0.1285 - val_R2: 0.4171\n",
      "Epoch 6/500\n",
      "307/307 [==============================] - 1s 3ms/step - loss: 0.1454 - R2: 0.3186 - val_loss: 0.1272 - val_R2: 0.4213\n",
      "Epoch 7/500\n",
      "307/307 [==============================] - 1s 3ms/step - loss: 0.1439 - R2: 0.3295 - val_loss: 0.1259 - val_R2: 0.4283\n",
      "Epoch 8/500\n",
      "307/307 [==============================] - 1s 3ms/step - loss: 0.1400 - R2: 0.3490 - val_loss: 0.1246 - val_R2: 0.4328\n",
      "Epoch 9/500\n",
      "307/307 [==============================] - 1s 3ms/step - loss: 0.1370 - R2: 0.3676 - val_loss: 0.1236 - val_R2: 0.4400\n",
      "Epoch 10/500\n",
      "307/307 [==============================] - 1s 3ms/step - loss: 0.1357 - R2: 0.3690 - val_loss: 0.1226 - val_R2: 0.4434\n",
      "Epoch 11/500\n",
      "307/307 [==============================] - 1s 3ms/step - loss: 0.1363 - R2: 0.3672 - val_loss: 0.1223 - val_R2: 0.4457\n",
      "Epoch 12/500\n",
      "307/307 [==============================] - 1s 3ms/step - loss: 0.1329 - R2: 0.3870 - val_loss: 0.1214 - val_R2: 0.4486\n",
      "Epoch 13/500\n",
      "307/307 [==============================] - 1s 3ms/step - loss: 0.1331 - R2: 0.3835 - val_loss: 0.1207 - val_R2: 0.4535\n",
      "Epoch 14/500\n",
      "307/307 [==============================] - 1s 3ms/step - loss: 0.1316 - R2: 0.3908 - val_loss: 0.1200 - val_R2: 0.4562\n",
      "Epoch 15/500\n",
      "307/307 [==============================] - 1s 3ms/step - loss: 0.1309 - R2: 0.3953 - val_loss: 0.1192 - val_R2: 0.4576\n",
      "Epoch 16/500\n",
      "307/307 [==============================] - 1s 3ms/step - loss: 0.1289 - R2: 0.4047 - val_loss: 0.1186 - val_R2: 0.4609\n",
      "Epoch 17/500\n",
      "307/307 [==============================] - 1s 3ms/step - loss: 0.1291 - R2: 0.3996 - val_loss: 0.1182 - val_R2: 0.4640\n",
      "Epoch 18/500\n",
      "307/307 [==============================] - 1s 3ms/step - loss: 0.1281 - R2: 0.4085 - val_loss: 0.1178 - val_R2: 0.4662\n",
      "Epoch 19/500\n",
      "307/307 [==============================] - 1s 3ms/step - loss: 0.1275 - R2: 0.4119 - val_loss: 0.1174 - val_R2: 0.4672\n",
      "Epoch 20/500\n",
      "307/307 [==============================] - 1s 3ms/step - loss: 0.1261 - R2: 0.4079 - val_loss: 0.1173 - val_R2: 0.4692\n",
      "Epoch 21/500\n",
      "307/307 [==============================] - 1s 3ms/step - loss: 0.1251 - R2: 0.4081 - val_loss: 0.1169 - val_R2: 0.4711\n",
      "Epoch 22/500\n",
      "307/307 [==============================] - 1s 3ms/step - loss: 0.1257 - R2: 0.4152 - val_loss: 0.1163 - val_R2: 0.4721\n",
      "Epoch 23/500\n",
      "307/307 [==============================] - 1s 3ms/step - loss: 0.1243 - R2: 0.4313 - val_loss: 0.1162 - val_R2: 0.4727\n",
      "Epoch 24/500\n",
      "307/307 [==============================] - 1s 3ms/step - loss: 0.1240 - R2: 0.4212 - val_loss: 0.1162 - val_R2: 0.4749\n",
      "Epoch 25/500\n",
      "307/307 [==============================] - 1s 3ms/step - loss: 0.1231 - R2: 0.4332 - val_loss: 0.1153 - val_R2: 0.4764\n",
      "Epoch 26/500\n",
      "307/307 [==============================] - 1s 3ms/step - loss: 0.1232 - R2: 0.4235 - val_loss: 0.1152 - val_R2: 0.4768\n",
      "Epoch 27/500\n",
      "307/307 [==============================] - 1s 3ms/step - loss: 0.1228 - R2: 0.4283 - val_loss: 0.1147 - val_R2: 0.4778\n",
      "Epoch 28/500\n",
      "307/307 [==============================] - 1s 3ms/step - loss: 0.1228 - R2: 0.4355 - val_loss: 0.1149 - val_R2: 0.4787\n",
      "Epoch 29/500\n",
      "307/307 [==============================] - 1s 3ms/step - loss: 0.1207 - R2: 0.4416 - val_loss: 0.1144 - val_R2: 0.4806\n",
      "Epoch 30/500\n",
      "307/307 [==============================] - 1s 3ms/step - loss: 0.1211 - R2: 0.4390 - val_loss: 0.1140 - val_R2: 0.4821\n",
      "Epoch 31/500\n",
      "307/307 [==============================] - 1s 3ms/step - loss: 0.1203 - R2: 0.4421 - val_loss: 0.1138 - val_R2: 0.4836\n",
      "Epoch 32/500\n",
      "307/307 [==============================] - 1s 3ms/step - loss: 0.1193 - R2: 0.4469 - val_loss: 0.1135 - val_R2: 0.4839\n",
      "Epoch 33/500\n",
      "307/307 [==============================] - 1s 3ms/step - loss: 0.1207 - R2: 0.4476 - val_loss: 0.1134 - val_R2: 0.4850\n",
      "Epoch 34/500\n",
      "307/307 [==============================] - 1s 3ms/step - loss: 0.1192 - R2: 0.4513 - val_loss: 0.1134 - val_R2: 0.4861\n",
      "Epoch 35/500\n",
      "307/307 [==============================] - 1s 3ms/step - loss: 0.1189 - R2: 0.4513 - val_loss: 0.1130 - val_R2: 0.4860\n",
      "Epoch 36/500\n",
      "307/307 [==============================] - 1s 3ms/step - loss: 0.1183 - R2: 0.4461 - val_loss: 0.1131 - val_R2: 0.4839\n",
      "Epoch 37/500\n",
      "307/307 [==============================] - 1s 3ms/step - loss: 0.1188 - R2: 0.4431 - val_loss: 0.1128 - val_R2: 0.4863\n",
      "Epoch 38/500\n",
      "307/307 [==============================] - 1s 3ms/step - loss: 0.1183 - R2: 0.4471 - val_loss: 0.1124 - val_R2: 0.4887\n",
      "Epoch 39/500\n",
      "307/307 [==============================] - 1s 3ms/step - loss: 0.1182 - R2: 0.4523 - val_loss: 0.1126 - val_R2: 0.4869\n",
      "Epoch 40/500\n",
      "307/307 [==============================] - 1s 3ms/step - loss: 0.1170 - R2: 0.4596 - val_loss: 0.1123 - val_R2: 0.4879\n",
      "Epoch 41/500\n",
      "307/307 [==============================] - 1s 3ms/step - loss: 0.1177 - R2: 0.4538 - val_loss: 0.1120 - val_R2: 0.4897\n",
      "Epoch 42/500\n",
      "307/307 [==============================] - 1s 3ms/step - loss: 0.1170 - R2: 0.4547 - val_loss: 0.1119 - val_R2: 0.4896\n",
      "Epoch 43/500\n",
      "307/307 [==============================] - 1s 3ms/step - loss: 0.1170 - R2: 0.4602 - val_loss: 0.1118 - val_R2: 0.4897\n",
      "Epoch 44/500\n",
      "307/307 [==============================] - 1s 3ms/step - loss: 0.1168 - R2: 0.4617 - val_loss: 0.1118 - val_R2: 0.4909\n",
      "Epoch 45/500\n",
      "307/307 [==============================] - 1s 3ms/step - loss: 0.1168 - R2: 0.4607 - val_loss: 0.1118 - val_R2: 0.4905\n",
      "Epoch 46/500\n",
      "307/307 [==============================] - 1s 3ms/step - loss: 0.1154 - R2: 0.4720 - val_loss: 0.1118 - val_R2: 0.4911\n",
      "Epoch 47/500\n",
      "307/307 [==============================] - 1s 3ms/step - loss: 0.1161 - R2: 0.4600 - val_loss: 0.1114 - val_R2: 0.4922\n",
      "Epoch 48/500\n",
      "307/307 [==============================] - 1s 3ms/step - loss: 0.1156 - R2: 0.4626 - val_loss: 0.1115 - val_R2: 0.4927\n",
      "Epoch 49/500\n",
      "307/307 [==============================] - 1s 3ms/step - loss: 0.1155 - R2: 0.4634 - val_loss: 0.1112 - val_R2: 0.4931\n",
      "Epoch 50/500\n",
      "307/307 [==============================] - 1s 3ms/step - loss: 0.1153 - R2: 0.4648 - val_loss: 0.1112 - val_R2: 0.4947\n",
      "Epoch 51/500\n",
      "307/307 [==============================] - 1s 3ms/step - loss: 0.1159 - R2: 0.4609 - val_loss: 0.1113 - val_R2: 0.4934\n",
      "Epoch 52/500\n",
      "307/307 [==============================] - 1s 3ms/step - loss: 0.1147 - R2: 0.4702 - val_loss: 0.1110 - val_R2: 0.4935\n",
      "Epoch 53/500\n",
      "307/307 [==============================] - 1s 3ms/step - loss: 0.1152 - R2: 0.4730 - val_loss: 0.1108 - val_R2: 0.4943\n",
      "Epoch 54/500\n",
      "307/307 [==============================] - 1s 3ms/step - loss: 0.1155 - R2: 0.4569 - val_loss: 0.1107 - val_R2: 0.4951\n",
      "Epoch 55/500\n",
      "307/307 [==============================] - 1s 3ms/step - loss: 0.1139 - R2: 0.4684 - val_loss: 0.1109 - val_R2: 0.4950\n",
      "Epoch 56/500\n",
      "307/307 [==============================] - 1s 3ms/step - loss: 0.1140 - R2: 0.4717 - val_loss: 0.1107 - val_R2: 0.4950\n",
      "Epoch 57/500\n",
      "307/307 [==============================] - 1s 3ms/step - loss: 0.1140 - R2: 0.4666 - val_loss: 0.1107 - val_R2: 0.4944\n",
      "Epoch 58/500\n",
      "307/307 [==============================] - 1s 3ms/step - loss: 0.1142 - R2: 0.4793 - val_loss: 0.1109 - val_R2: 0.4961\n",
      "Epoch 59/500\n",
      "307/307 [==============================] - 1s 3ms/step - loss: 0.1137 - R2: 0.4674 - val_loss: 0.1105 - val_R2: 0.4960\n",
      "Epoch 60/500\n",
      "307/307 [==============================] - 1s 3ms/step - loss: 0.1135 - R2: 0.4759 - val_loss: 0.1104 - val_R2: 0.4974\n",
      "Epoch 61/500\n",
      "307/307 [==============================] - 1s 3ms/step - loss: 0.1137 - R2: 0.4714 - val_loss: 0.1103 - val_R2: 0.4974\n",
      "Epoch 62/500\n",
      "307/307 [==============================] - 1s 3ms/step - loss: 0.1135 - R2: 0.4719 - val_loss: 0.1103 - val_R2: 0.4967\n",
      "Epoch 63/500\n"
     ]
    },
    {
     "name": "stdout",
     "output_type": "stream",
     "text": [
      "307/307 [==============================] - 1s 3ms/step - loss: 0.1130 - R2: 0.4698 - val_loss: 0.1102 - val_R2: 0.4967\n",
      "Epoch 64/500\n",
      "307/307 [==============================] - 1s 3ms/step - loss: 0.1133 - R2: 0.4728 - val_loss: 0.1101 - val_R2: 0.4984\n",
      "Epoch 65/500\n",
      "307/307 [==============================] - 1s 3ms/step - loss: 0.1144 - R2: 0.4748 - val_loss: 0.1101 - val_R2: 0.4971\n",
      "Epoch 66/500\n",
      "307/307 [==============================] - 1s 3ms/step - loss: 0.1124 - R2: 0.4751 - val_loss: 0.1101 - val_R2: 0.4992\n",
      "Epoch 67/500\n",
      "307/307 [==============================] - 1s 3ms/step - loss: 0.1140 - R2: 0.4740 - val_loss: 0.1100 - val_R2: 0.4989\n",
      "Epoch 68/500\n",
      "307/307 [==============================] - 1s 3ms/step - loss: 0.1134 - R2: 0.4728 - val_loss: 0.1099 - val_R2: 0.5000\n",
      "Epoch 69/500\n",
      "307/307 [==============================] - 1s 3ms/step - loss: 0.1124 - R2: 0.4723 - val_loss: 0.1097 - val_R2: 0.5002\n",
      "Epoch 70/500\n",
      "307/307 [==============================] - 1s 3ms/step - loss: 0.1127 - R2: 0.4732 - val_loss: 0.1101 - val_R2: 0.4972\n",
      "Epoch 71/500\n",
      "307/307 [==============================] - 1s 3ms/step - loss: 0.1123 - R2: 0.4815 - val_loss: 0.1097 - val_R2: 0.5002\n",
      "Epoch 72/500\n",
      "307/307 [==============================] - 1s 3ms/step - loss: 0.1127 - R2: 0.4753 - val_loss: 0.1100 - val_R2: 0.4987\n",
      "Epoch 73/500\n",
      "307/307 [==============================] - 1s 3ms/step - loss: 0.1130 - R2: 0.4738 - val_loss: 0.1097 - val_R2: 0.5016\n",
      "Epoch 74/500\n",
      "307/307 [==============================] - 1s 3ms/step - loss: 0.1122 - R2: 0.4777 - val_loss: 0.1094 - val_R2: 0.5004\n",
      "Epoch 75/500\n",
      "307/307 [==============================] - 1s 3ms/step - loss: 0.1125 - R2: 0.4729 - val_loss: 0.1096 - val_R2: 0.4981\n",
      "Epoch 76/500\n",
      "307/307 [==============================] - 1s 3ms/step - loss: 0.1119 - R2: 0.4819 - val_loss: 0.1097 - val_R2: 0.4985\n",
      "Epoch 77/500\n",
      "307/307 [==============================] - 1s 3ms/step - loss: 0.1126 - R2: 0.4751 - val_loss: 0.1092 - val_R2: 0.5016\n",
      "Epoch 78/500\n",
      "307/307 [==============================] - 1s 3ms/step - loss: 0.1117 - R2: 0.4752 - val_loss: 0.1092 - val_R2: 0.5022\n",
      "Epoch 79/500\n",
      "307/307 [==============================] - 1s 3ms/step - loss: 0.1120 - R2: 0.4837 - val_loss: 0.1094 - val_R2: 0.5027\n",
      "Epoch 80/500\n",
      "307/307 [==============================] - 1s 3ms/step - loss: 0.1112 - R2: 0.4811 - val_loss: 0.1093 - val_R2: 0.5035\n",
      "Epoch 81/500\n",
      "307/307 [==============================] - 1s 3ms/step - loss: 0.1123 - R2: 0.4736 - val_loss: 0.1093 - val_R2: 0.4998\n",
      "Epoch 82/500\n",
      "307/307 [==============================] - 1s 3ms/step - loss: 0.1111 - R2: 0.4852 - val_loss: 0.1092 - val_R2: 0.5034\n",
      "Epoch 83/500\n",
      "307/307 [==============================] - 1s 3ms/step - loss: 0.1109 - R2: 0.4904 - val_loss: 0.1091 - val_R2: 0.5014\n",
      "Epoch 84/500\n",
      "307/307 [==============================] - 1s 3ms/step - loss: 0.1118 - R2: 0.4764 - val_loss: 0.1090 - val_R2: 0.5039\n",
      "Epoch 85/500\n",
      "307/307 [==============================] - 1s 3ms/step - loss: 0.1113 - R2: 0.4772 - val_loss: 0.1092 - val_R2: 0.5014\n",
      "Epoch 86/500\n",
      "307/307 [==============================] - 1s 3ms/step - loss: 0.1111 - R2: 0.4859 - val_loss: 0.1088 - val_R2: 0.5024\n",
      "Epoch 87/500\n",
      "307/307 [==============================] - 1s 3ms/step - loss: 0.1114 - R2: 0.4829 - val_loss: 0.1088 - val_R2: 0.5035\n",
      "Epoch 88/500\n",
      "307/307 [==============================] - 1s 3ms/step - loss: 0.1111 - R2: 0.4864 - val_loss: 0.1087 - val_R2: 0.5046\n",
      "Epoch 89/500\n",
      "307/307 [==============================] - 1s 3ms/step - loss: 0.1109 - R2: 0.4892 - val_loss: 0.1087 - val_R2: 0.5052\n",
      "Epoch 90/500\n",
      "307/307 [==============================] - 1s 3ms/step - loss: 0.1111 - R2: 0.4842 - val_loss: 0.1086 - val_R2: 0.5035\n",
      "Epoch 91/500\n",
      "307/307 [==============================] - 1s 3ms/step - loss: 0.1109 - R2: 0.4874 - val_loss: 0.1086 - val_R2: 0.5050\n",
      "Epoch 92/500\n",
      "307/307 [==============================] - 1s 3ms/step - loss: 0.1106 - R2: 0.4867 - val_loss: 0.1085 - val_R2: 0.5050\n",
      "Epoch 93/500\n",
      "307/307 [==============================] - 1s 3ms/step - loss: 0.1109 - R2: 0.4841 - val_loss: 0.1086 - val_R2: 0.5057\n",
      "Epoch 94/500\n",
      "307/307 [==============================] - 1s 3ms/step - loss: 0.1102 - R2: 0.4878 - val_loss: 0.1085 - val_R2: 0.5036\n",
      "Epoch 95/500\n",
      "307/307 [==============================] - 1s 3ms/step - loss: 0.1107 - R2: 0.4869 - val_loss: 0.1084 - val_R2: 0.5058\n",
      "Epoch 96/500\n",
      "307/307 [==============================] - 1s 3ms/step - loss: 0.1114 - R2: 0.4864 - val_loss: 0.1087 - val_R2: 0.5064\n",
      "Epoch 97/500\n",
      "307/307 [==============================] - 1s 3ms/step - loss: 0.1098 - R2: 0.4886 - val_loss: 0.1081 - val_R2: 0.5076\n",
      "Epoch 98/500\n",
      "307/307 [==============================] - 1s 3ms/step - loss: 0.1100 - R2: 0.4873 - val_loss: 0.1081 - val_R2: 0.5074\n",
      "Epoch 99/500\n",
      "307/307 [==============================] - 1s 3ms/step - loss: 0.1105 - R2: 0.4905 - val_loss: 0.1081 - val_R2: 0.5066\n",
      "Epoch 100/500\n",
      "307/307 [==============================] - 1s 3ms/step - loss: 0.1100 - R2: 0.4903 - val_loss: 0.1083 - val_R2: 0.5079\n",
      "Epoch 101/500\n",
      "307/307 [==============================] - 1s 3ms/step - loss: 0.1099 - R2: 0.4841 - val_loss: 0.1079 - val_R2: 0.5070\n",
      "Epoch 102/500\n",
      "307/307 [==============================] - 1s 3ms/step - loss: 0.1101 - R2: 0.4908 - val_loss: 0.1078 - val_R2: 0.5086\n",
      "Epoch 103/500\n",
      "307/307 [==============================] - 1s 3ms/step - loss: 0.1102 - R2: 0.4880 - val_loss: 0.1079 - val_R2: 0.5088\n",
      "Epoch 104/500\n",
      "307/307 [==============================] - 1s 3ms/step - loss: 0.1100 - R2: 0.4903 - val_loss: 0.1079 - val_R2: 0.5090\n",
      "Epoch 105/500\n",
      "307/307 [==============================] - 1s 3ms/step - loss: 0.1098 - R2: 0.4866 - val_loss: 0.1077 - val_R2: 0.5090\n",
      "Epoch 106/500\n",
      "307/307 [==============================] - 1s 3ms/step - loss: 0.1099 - R2: 0.4886 - val_loss: 0.1079 - val_R2: 0.5075\n",
      "Epoch 107/500\n",
      "307/307 [==============================] - 1s 3ms/step - loss: 0.1097 - R2: 0.4846 - val_loss: 0.1076 - val_R2: 0.5080\n",
      "Epoch 108/500\n",
      "307/307 [==============================] - 1s 3ms/step - loss: 0.1094 - R2: 0.5010 - val_loss: 0.1076 - val_R2: 0.5085\n",
      "Epoch 109/500\n",
      "307/307 [==============================] - 1s 3ms/step - loss: 0.1106 - R2: 0.4885 - val_loss: 0.1073 - val_R2: 0.5112\n",
      "Epoch 110/500\n",
      "307/307 [==============================] - 1s 3ms/step - loss: 0.1091 - R2: 0.4951 - val_loss: 0.1074 - val_R2: 0.5114\n",
      "Epoch 111/500\n",
      "307/307 [==============================] - 1s 3ms/step - loss: 0.1091 - R2: 0.4923 - val_loss: 0.1074 - val_R2: 0.5108\n",
      "Epoch 112/500\n",
      "307/307 [==============================] - 1s 3ms/step - loss: 0.1096 - R2: 0.4923 - val_loss: 0.1073 - val_R2: 0.5109\n",
      "Epoch 113/500\n",
      "307/307 [==============================] - 1s 3ms/step - loss: 0.1099 - R2: 0.4935 - val_loss: 0.1072 - val_R2: 0.5108\n",
      "Epoch 114/500\n",
      "307/307 [==============================] - 1s 3ms/step - loss: 0.1091 - R2: 0.4956 - val_loss: 0.1075 - val_R2: 0.5110\n",
      "Epoch 115/500\n",
      "307/307 [==============================] - 1s 3ms/step - loss: 0.1092 - R2: 0.4906 - val_loss: 0.1075 - val_R2: 0.5113\n",
      "Epoch 116/500\n",
      "307/307 [==============================] - 1s 3ms/step - loss: 0.1088 - R2: 0.4908 - val_loss: 0.1071 - val_R2: 0.5098\n",
      "Epoch 117/500\n",
      "307/307 [==============================] - 1s 3ms/step - loss: 0.1083 - R2: 0.4980 - val_loss: 0.1069 - val_R2: 0.5124\n",
      "Epoch 118/500\n",
      "307/307 [==============================] - 1s 3ms/step - loss: 0.1087 - R2: 0.4946 - val_loss: 0.1071 - val_R2: 0.5124\n",
      "Epoch 119/500\n",
      "307/307 [==============================] - 1s 3ms/step - loss: 0.1094 - R2: 0.4910 - val_loss: 0.1068 - val_R2: 0.5127\n",
      "Epoch 120/500\n",
      "307/307 [==============================] - 1s 3ms/step - loss: 0.1081 - R2: 0.4948 - val_loss: 0.1069 - val_R2: 0.5135\n",
      "Epoch 121/500\n",
      "307/307 [==============================] - 1s 3ms/step - loss: 0.1089 - R2: 0.4940 - val_loss: 0.1069 - val_R2: 0.5137\n",
      "Epoch 122/500\n",
      "307/307 [==============================] - 1s 3ms/step - loss: 0.1084 - R2: 0.4910 - val_loss: 0.1070 - val_R2: 0.5131\n",
      "Epoch 123/500\n",
      "307/307 [==============================] - 1s 3ms/step - loss: 0.1088 - R2: 0.4904 - val_loss: 0.1070 - val_R2: 0.5130\n",
      "Epoch 124/500\n",
      "307/307 [==============================] - 1s 3ms/step - loss: 0.1084 - R2: 0.5059 - val_loss: 0.1067 - val_R2: 0.5147\n"
     ]
    },
    {
     "name": "stdout",
     "output_type": "stream",
     "text": [
      "Epoch 125/500\n",
      "307/307 [==============================] - 1s 3ms/step - loss: 0.1084 - R2: 0.4979 - val_loss: 0.1067 - val_R2: 0.5139\n",
      "Epoch 126/500\n",
      "307/307 [==============================] - 1s 3ms/step - loss: 0.1090 - R2: 0.4933 - val_loss: 0.1065 - val_R2: 0.5148\n",
      "Epoch 127/500\n",
      "307/307 [==============================] - 1s 3ms/step - loss: 0.1078 - R2: 0.4946 - val_loss: 0.1064 - val_R2: 0.5149\n",
      "Epoch 128/500\n",
      "307/307 [==============================] - 1s 3ms/step - loss: 0.1078 - R2: 0.4980 - val_loss: 0.1064 - val_R2: 0.5145\n",
      "Epoch 129/500\n",
      "307/307 [==============================] - 1s 3ms/step - loss: 0.1083 - R2: 0.4997 - val_loss: 0.1063 - val_R2: 0.5150\n",
      "Epoch 130/500\n",
      "307/307 [==============================] - 1s 3ms/step - loss: 0.1081 - R2: 0.4997 - val_loss: 0.1068 - val_R2: 0.5131\n",
      "Epoch 131/500\n",
      "307/307 [==============================] - 1s 3ms/step - loss: 0.1087 - R2: 0.4914 - val_loss: 0.1065 - val_R2: 0.5152\n",
      "Epoch 132/500\n",
      "307/307 [==============================] - 1s 3ms/step - loss: 0.1079 - R2: 0.4976 - val_loss: 0.1069 - val_R2: 0.5130\n",
      "Epoch 133/500\n",
      "307/307 [==============================] - 1s 3ms/step - loss: 0.1080 - R2: 0.4969 - val_loss: 0.1064 - val_R2: 0.5146\n",
      "Epoch 134/500\n",
      "307/307 [==============================] - 1s 3ms/step - loss: 0.1078 - R2: 0.5007 - val_loss: 0.1061 - val_R2: 0.5164\n",
      "Epoch 135/500\n",
      "307/307 [==============================] - 1s 3ms/step - loss: 0.1078 - R2: 0.4980 - val_loss: 0.1061 - val_R2: 0.5145\n",
      "Epoch 136/500\n",
      "307/307 [==============================] - 1s 3ms/step - loss: 0.1079 - R2: 0.4995 - val_loss: 0.1060 - val_R2: 0.5156\n",
      "Epoch 137/500\n",
      "307/307 [==============================] - 1s 3ms/step - loss: 0.1077 - R2: 0.4990 - val_loss: 0.1059 - val_R2: 0.5171\n",
      "Epoch 138/500\n",
      "307/307 [==============================] - 1s 3ms/step - loss: 0.1076 - R2: 0.5037 - val_loss: 0.1061 - val_R2: 0.5161\n",
      "Epoch 139/500\n",
      "307/307 [==============================] - 1s 3ms/step - loss: 0.1076 - R2: 0.4999 - val_loss: 0.1058 - val_R2: 0.5164\n",
      "Epoch 140/500\n",
      "307/307 [==============================] - 1s 3ms/step - loss: 0.1077 - R2: 0.4978 - val_loss: 0.1061 - val_R2: 0.5181\n",
      "Epoch 141/500\n",
      "307/307 [==============================] - 1s 3ms/step - loss: 0.1074 - R2: 0.5015 - val_loss: 0.1058 - val_R2: 0.5169\n",
      "Epoch 142/500\n",
      "307/307 [==============================] - 1s 3ms/step - loss: 0.1075 - R2: 0.4950 - val_loss: 0.1057 - val_R2: 0.5175\n",
      "Epoch 143/500\n",
      "307/307 [==============================] - 1s 3ms/step - loss: 0.1074 - R2: 0.5029 - val_loss: 0.1057 - val_R2: 0.5167\n",
      "Epoch 144/500\n",
      "307/307 [==============================] - 1s 3ms/step - loss: 0.1068 - R2: 0.5024 - val_loss: 0.1057 - val_R2: 0.5177\n",
      "Epoch 145/500\n",
      "307/307 [==============================] - 1s 3ms/step - loss: 0.1078 - R2: 0.5032 - val_loss: 0.1057 - val_R2: 0.5180\n",
      "Epoch 146/500\n",
      "307/307 [==============================] - 1s 3ms/step - loss: 0.1078 - R2: 0.4960 - val_loss: 0.1057 - val_R2: 0.5165\n",
      "Epoch 147/500\n",
      "307/307 [==============================] - 1s 3ms/step - loss: 0.1065 - R2: 0.5007 - val_loss: 0.1056 - val_R2: 0.5190\n",
      "Epoch 148/500\n",
      "307/307 [==============================] - 1s 3ms/step - loss: 0.1059 - R2: 0.5139 - val_loss: 0.1055 - val_R2: 0.5176\n",
      "Epoch 149/500\n",
      "307/307 [==============================] - 1s 3ms/step - loss: 0.1075 - R2: 0.5027 - val_loss: 0.1054 - val_R2: 0.5185\n",
      "Epoch 150/500\n",
      "307/307 [==============================] - 1s 3ms/step - loss: 0.1063 - R2: 0.5092 - val_loss: 0.1053 - val_R2: 0.5195\n",
      "Epoch 151/500\n",
      "307/307 [==============================] - 1s 3ms/step - loss: 0.1067 - R2: 0.4944 - val_loss: 0.1052 - val_R2: 0.5207\n",
      "Epoch 152/500\n",
      "307/307 [==============================] - 1s 3ms/step - loss: 0.1070 - R2: 0.4956 - val_loss: 0.1054 - val_R2: 0.5193\n",
      "Epoch 153/500\n",
      "307/307 [==============================] - 1s 3ms/step - loss: 0.1070 - R2: 0.5055 - val_loss: 0.1053 - val_R2: 0.5199\n",
      "Epoch 154/500\n",
      "307/307 [==============================] - 1s 3ms/step - loss: 0.1065 - R2: 0.5045 - val_loss: 0.1053 - val_R2: 0.5188\n",
      "Epoch 155/500\n",
      "307/307 [==============================] - 1s 3ms/step - loss: 0.1062 - R2: 0.5075 - val_loss: 0.1052 - val_R2: 0.5209\n",
      "Epoch 156/500\n",
      "307/307 [==============================] - 1s 3ms/step - loss: 0.1067 - R2: 0.5070 - val_loss: 0.1051 - val_R2: 0.5205\n",
      "Epoch 157/500\n",
      "307/307 [==============================] - 1s 3ms/step - loss: 0.1068 - R2: 0.5032 - val_loss: 0.1053 - val_R2: 0.5182\n",
      "Epoch 158/500\n",
      "307/307 [==============================] - 1s 3ms/step - loss: 0.1063 - R2: 0.5036 - val_loss: 0.1058 - val_R2: 0.5200\n",
      "Epoch 159/500\n",
      "307/307 [==============================] - 1s 3ms/step - loss: 0.1067 - R2: 0.5018 - val_loss: 0.1053 - val_R2: 0.5198\n",
      "Epoch 160/500\n",
      "307/307 [==============================] - 1s 3ms/step - loss: 0.1068 - R2: 0.5075 - val_loss: 0.1050 - val_R2: 0.5210\n",
      "Epoch 161/500\n",
      "307/307 [==============================] - 1s 3ms/step - loss: 0.1060 - R2: 0.5020 - val_loss: 0.1051 - val_R2: 0.5211\n",
      "Epoch 162/500\n",
      "307/307 [==============================] - 1s 3ms/step - loss: 0.1062 - R2: 0.5037 - val_loss: 0.1052 - val_R2: 0.5215\n",
      "Epoch 163/500\n",
      "307/307 [==============================] - 1s 3ms/step - loss: 0.1070 - R2: 0.5041 - val_loss: 0.1052 - val_R2: 0.5205\n",
      "Epoch 164/500\n",
      "307/307 [==============================] - 1s 3ms/step - loss: 0.1063 - R2: 0.5062 - val_loss: 0.1049 - val_R2: 0.5206\n",
      "Epoch 165/500\n",
      "307/307 [==============================] - 1s 3ms/step - loss: 0.1061 - R2: 0.5098 - val_loss: 0.1048 - val_R2: 0.5217\n",
      "Epoch 166/500\n",
      "307/307 [==============================] - 1s 3ms/step - loss: 0.1065 - R2: 0.5141 - val_loss: 0.1049 - val_R2: 0.5213\n",
      "Epoch 167/500\n",
      "307/307 [==============================] - 1s 3ms/step - loss: 0.1064 - R2: 0.5025 - val_loss: 0.1048 - val_R2: 0.5228\n",
      "Epoch 168/500\n",
      "307/307 [==============================] - 1s 3ms/step - loss: 0.1065 - R2: 0.5046 - val_loss: 0.1046 - val_R2: 0.5230\n",
      "Epoch 169/500\n",
      "307/307 [==============================] - 1s 3ms/step - loss: 0.1062 - R2: 0.5016 - val_loss: 0.1048 - val_R2: 0.5225\n",
      "Epoch 170/500\n",
      "307/307 [==============================] - 1s 3ms/step - loss: 0.1059 - R2: 0.5060 - val_loss: 0.1047 - val_R2: 0.5234\n",
      "Epoch 171/500\n",
      "307/307 [==============================] - 1s 3ms/step - loss: 0.1061 - R2: 0.5091 - val_loss: 0.1047 - val_R2: 0.5230\n",
      "Epoch 172/500\n",
      "307/307 [==============================] - 1s 3ms/step - loss: 0.1061 - R2: 0.5025 - val_loss: 0.1046 - val_R2: 0.5239\n",
      "Epoch 173/500\n",
      "307/307 [==============================] - 1s 3ms/step - loss: 0.1061 - R2: 0.5060 - val_loss: 0.1049 - val_R2: 0.5233\n",
      "Epoch 174/500\n",
      "307/307 [==============================] - 1s 3ms/step - loss: 0.1064 - R2: 0.5069 - val_loss: 0.1045 - val_R2: 0.5232\n",
      "Epoch 175/500\n",
      "307/307 [==============================] - 1s 3ms/step - loss: 0.1057 - R2: 0.5082 - val_loss: 0.1046 - val_R2: 0.5234\n",
      "Epoch 176/500\n",
      "307/307 [==============================] - 1s 3ms/step - loss: 0.1054 - R2: 0.5131 - val_loss: 0.1044 - val_R2: 0.5235\n",
      "Epoch 177/500\n",
      "307/307 [==============================] - 1s 3ms/step - loss: 0.1059 - R2: 0.5103 - val_loss: 0.1045 - val_R2: 0.5233\n",
      "Epoch 178/500\n",
      "307/307 [==============================] - 1s 3ms/step - loss: 0.1055 - R2: 0.5138 - val_loss: 0.1043 - val_R2: 0.5242\n",
      "Epoch 179/500\n",
      "307/307 [==============================] - 1s 3ms/step - loss: 0.1060 - R2: 0.5103 - val_loss: 0.1043 - val_R2: 0.5241\n",
      "Epoch 180/500\n",
      "307/307 [==============================] - 1s 3ms/step - loss: 0.1054 - R2: 0.5101 - val_loss: 0.1042 - val_R2: 0.5239\n",
      "Epoch 181/500\n",
      "307/307 [==============================] - 1s 3ms/step - loss: 0.1052 - R2: 0.5087 - val_loss: 0.1041 - val_R2: 0.5257\n",
      "Epoch 182/500\n",
      "307/307 [==============================] - 1s 3ms/step - loss: 0.1059 - R2: 0.5115 - val_loss: 0.1042 - val_R2: 0.5252\n",
      "Epoch 183/500\n",
      "307/307 [==============================] - 1s 3ms/step - loss: 0.1055 - R2: 0.5114 - val_loss: 0.1041 - val_R2: 0.5250\n",
      "Epoch 184/500\n",
      "307/307 [==============================] - 1s 3ms/step - loss: 0.1050 - R2: 0.5149 - val_loss: 0.1039 - val_R2: 0.5267\n",
      "Epoch 185/500\n",
      "307/307 [==============================] - 1s 3ms/step - loss: 0.1062 - R2: 0.5015 - val_loss: 0.1044 - val_R2: 0.5248\n",
      "Epoch 186/500\n"
     ]
    },
    {
     "name": "stdout",
     "output_type": "stream",
     "text": [
      "307/307 [==============================] - 1s 3ms/step - loss: 0.1052 - R2: 0.5156 - val_loss: 0.1040 - val_R2: 0.5256\n",
      "Epoch 187/500\n",
      "307/307 [==============================] - 1s 3ms/step - loss: 0.1048 - R2: 0.5170 - val_loss: 0.1041 - val_R2: 0.5265\n",
      "Epoch 188/500\n",
      "307/307 [==============================] - 1s 3ms/step - loss: 0.1043 - R2: 0.5153 - val_loss: 0.1041 - val_R2: 0.5267\n",
      "Epoch 189/500\n",
      "307/307 [==============================] - 1s 3ms/step - loss: 0.1049 - R2: 0.5140 - val_loss: 0.1040 - val_R2: 0.5259\n",
      "Epoch 190/500\n",
      "307/307 [==============================] - 1s 3ms/step - loss: 0.1049 - R2: 0.5149 - val_loss: 0.1043 - val_R2: 0.5259\n",
      "Epoch 191/500\n",
      "307/307 [==============================] - 1s 3ms/step - loss: 0.1051 - R2: 0.5102 - val_loss: 0.1039 - val_R2: 0.5250\n",
      "Epoch 192/500\n",
      "307/307 [==============================] - 1s 3ms/step - loss: 0.1045 - R2: 0.5158 - val_loss: 0.1040 - val_R2: 0.5262\n",
      "Epoch 193/500\n",
      "307/307 [==============================] - 1s 3ms/step - loss: 0.1050 - R2: 0.5130 - val_loss: 0.1037 - val_R2: 0.5270\n",
      "Epoch 194/500\n",
      "307/307 [==============================] - 1s 3ms/step - loss: 0.1048 - R2: 0.5048 - val_loss: 0.1037 - val_R2: 0.5264\n",
      "Epoch 195/500\n",
      "307/307 [==============================] - 1s 3ms/step - loss: 0.1051 - R2: 0.5143 - val_loss: 0.1038 - val_R2: 0.5260\n",
      "Epoch 196/500\n",
      "307/307 [==============================] - 1s 3ms/step - loss: 0.1050 - R2: 0.5096 - val_loss: 0.1035 - val_R2: 0.5268\n",
      "Epoch 197/500\n",
      "307/307 [==============================] - 1s 3ms/step - loss: 0.1047 - R2: 0.5137 - val_loss: 0.1037 - val_R2: 0.5261\n",
      "Epoch 198/500\n",
      "307/307 [==============================] - 1s 3ms/step - loss: 0.1045 - R2: 0.5214 - val_loss: 0.1036 - val_R2: 0.5285\n",
      "Epoch 199/500\n",
      "307/307 [==============================] - 1s 3ms/step - loss: 0.1049 - R2: 0.5159 - val_loss: 0.1038 - val_R2: 0.5279\n",
      "Epoch 200/500\n",
      "307/307 [==============================] - 1s 3ms/step - loss: 0.1045 - R2: 0.5144 - val_loss: 0.1034 - val_R2: 0.5287\n",
      "Epoch 201/500\n",
      "307/307 [==============================] - 1s 3ms/step - loss: 0.1044 - R2: 0.5119 - val_loss: 0.1035 - val_R2: 0.5279\n",
      "Epoch 202/500\n",
      "307/307 [==============================] - 1s 3ms/step - loss: 0.1046 - R2: 0.5103 - val_loss: 0.1041 - val_R2: 0.5236\n",
      "Epoch 203/500\n",
      "307/307 [==============================] - 1s 3ms/step - loss: 0.1046 - R2: 0.5129 - val_loss: 0.1033 - val_R2: 0.5287\n",
      "Epoch 204/500\n",
      "307/307 [==============================] - 1s 3ms/step - loss: 0.1048 - R2: 0.5115 - val_loss: 0.1034 - val_R2: 0.5290\n",
      "Epoch 205/500\n",
      "307/307 [==============================] - 1s 3ms/step - loss: 0.1046 - R2: 0.5109 - val_loss: 0.1033 - val_R2: 0.5281\n",
      "Epoch 206/500\n",
      "307/307 [==============================] - 1s 3ms/step - loss: 0.1045 - R2: 0.5166 - val_loss: 0.1035 - val_R2: 0.5271\n",
      "Epoch 207/500\n",
      "307/307 [==============================] - 1s 3ms/step - loss: 0.1048 - R2: 0.5113 - val_loss: 0.1032 - val_R2: 0.5287\n",
      "Epoch 208/500\n",
      "307/307 [==============================] - 1s 3ms/step - loss: 0.1040 - R2: 0.5185 - val_loss: 0.1031 - val_R2: 0.5296\n",
      "Epoch 209/500\n",
      "307/307 [==============================] - 1s 3ms/step - loss: 0.1046 - R2: 0.5091 - val_loss: 0.1031 - val_R2: 0.5289\n",
      "Epoch 210/500\n",
      "307/307 [==============================] - 1s 3ms/step - loss: 0.1043 - R2: 0.5108 - val_loss: 0.1031 - val_R2: 0.5295\n",
      "Epoch 211/500\n",
      "307/307 [==============================] - 1s 3ms/step - loss: 0.1045 - R2: 0.5186 - val_loss: 0.1033 - val_R2: 0.5299\n",
      "Epoch 212/500\n",
      "307/307 [==============================] - 1s 3ms/step - loss: 0.1042 - R2: 0.5106 - val_loss: 0.1031 - val_R2: 0.5306\n",
      "Epoch 213/500\n",
      "307/307 [==============================] - 1s 3ms/step - loss: 0.1041 - R2: 0.5141 - val_loss: 0.1029 - val_R2: 0.5302\n",
      "Epoch 214/500\n",
      "307/307 [==============================] - 1s 3ms/step - loss: 0.1046 - R2: 0.5159 - val_loss: 0.1029 - val_R2: 0.5306\n",
      "Epoch 215/500\n",
      "307/307 [==============================] - 1s 3ms/step - loss: 0.1034 - R2: 0.5153 - val_loss: 0.1031 - val_R2: 0.5307\n",
      "Epoch 216/500\n",
      "307/307 [==============================] - 1s 3ms/step - loss: 0.1042 - R2: 0.5201 - val_loss: 0.1030 - val_R2: 0.5294\n",
      "Epoch 217/500\n",
      "307/307 [==============================] - 1s 3ms/step - loss: 0.1037 - R2: 0.5175 - val_loss: 0.1034 - val_R2: 0.5300\n",
      "Epoch 218/500\n",
      "307/307 [==============================] - 1s 3ms/step - loss: 0.1043 - R2: 0.5166 - val_loss: 0.1030 - val_R2: 0.5311\n",
      "Epoch 219/500\n",
      "307/307 [==============================] - 1s 3ms/step - loss: 0.1043 - R2: 0.5165 - val_loss: 0.1029 - val_R2: 0.5310\n",
      "Epoch 220/500\n",
      "307/307 [==============================] - 1s 3ms/step - loss: 0.1040 - R2: 0.5124 - val_loss: 0.1029 - val_R2: 0.5313\n",
      "Epoch 221/500\n",
      "307/307 [==============================] - 1s 3ms/step - loss: 0.1043 - R2: 0.5143 - val_loss: 0.1028 - val_R2: 0.5304\n",
      "Epoch 222/500\n",
      "307/307 [==============================] - 1s 3ms/step - loss: 0.1047 - R2: 0.5128 - val_loss: 0.1028 - val_R2: 0.5304\n",
      "Epoch 223/500\n",
      "307/307 [==============================] - 1s 3ms/step - loss: 0.1040 - R2: 0.5153 - val_loss: 0.1028 - val_R2: 0.5308\n",
      "Epoch 224/500\n",
      "307/307 [==============================] - 1s 3ms/step - loss: 0.1047 - R2: 0.5116 - val_loss: 0.1029 - val_R2: 0.5321\n",
      "Epoch 225/500\n",
      "307/307 [==============================] - 1s 3ms/step - loss: 0.1041 - R2: 0.5179 - val_loss: 0.1028 - val_R2: 0.5314\n",
      "Epoch 226/500\n",
      "307/307 [==============================] - 1s 3ms/step - loss: 0.1039 - R2: 0.5179 - val_loss: 0.1029 - val_R2: 0.5313\n",
      "Epoch 227/500\n",
      "307/307 [==============================] - 1s 3ms/step - loss: 0.1029 - R2: 0.5271 - val_loss: 0.1026 - val_R2: 0.5319\n",
      "Epoch 228/500\n",
      "307/307 [==============================] - 1s 3ms/step - loss: 0.1040 - R2: 0.5151 - val_loss: 0.1028 - val_R2: 0.5284\n",
      "Epoch 229/500\n",
      "307/307 [==============================] - 1s 3ms/step - loss: 0.1041 - R2: 0.5141 - val_loss: 0.1030 - val_R2: 0.5302\n",
      "Epoch 230/500\n",
      "307/307 [==============================] - 1s 3ms/step - loss: 0.1039 - R2: 0.5054 - val_loss: 0.1025 - val_R2: 0.5330\n",
      "Epoch 231/500\n",
      "307/307 [==============================] - 1s 3ms/step - loss: 0.1040 - R2: 0.5213 - val_loss: 0.1025 - val_R2: 0.5322\n",
      "Epoch 232/500\n",
      "307/307 [==============================] - 1s 3ms/step - loss: 0.1032 - R2: 0.5150 - val_loss: 0.1027 - val_R2: 0.5319\n",
      "Epoch 233/500\n",
      "307/307 [==============================] - 1s 3ms/step - loss: 0.1037 - R2: 0.5175 - val_loss: 0.1022 - val_R2: 0.5327\n",
      "Epoch 234/500\n",
      "307/307 [==============================] - 1s 3ms/step - loss: 0.1043 - R2: 0.5212 - val_loss: 0.1022 - val_R2: 0.5325\n",
      "Epoch 235/500\n",
      "307/307 [==============================] - 1s 3ms/step - loss: 0.1038 - R2: 0.5118 - val_loss: 0.1024 - val_R2: 0.5310\n",
      "Epoch 236/500\n",
      "307/307 [==============================] - 1s 3ms/step - loss: 0.1031 - R2: 0.5244 - val_loss: 0.1023 - val_R2: 0.5329\n",
      "Epoch 237/500\n",
      "307/307 [==============================] - 1s 3ms/step - loss: 0.1040 - R2: 0.5120 - val_loss: 0.1023 - val_R2: 0.5336\n",
      "Epoch 238/500\n",
      "307/307 [==============================] - 1s 3ms/step - loss: 0.1039 - R2: 0.5198 - val_loss: 0.1026 - val_R2: 0.5321\n",
      "Epoch 239/500\n",
      "307/307 [==============================] - 1s 3ms/step - loss: 0.1042 - R2: 0.5108 - val_loss: 0.1026 - val_R2: 0.5331\n",
      "Epoch 240/500\n",
      "307/307 [==============================] - 1s 3ms/step - loss: 0.1037 - R2: 0.5166 - val_loss: 0.1024 - val_R2: 0.5333\n",
      "Epoch 241/500\n",
      "307/307 [==============================] - 1s 3ms/step - loss: 0.1034 - R2: 0.5164 - val_loss: 0.1019 - val_R2: 0.5340\n",
      "Epoch 242/500\n",
      "307/307 [==============================] - 1s 2ms/step - loss: 0.1026 - R2: 0.5203 - val_loss: 0.1020 - val_R2: 0.5330\n",
      "Epoch 243/500\n",
      "307/307 [==============================] - 1s 3ms/step - loss: 0.1038 - R2: 0.5220 - val_loss: 0.1022 - val_R2: 0.5336\n",
      "Epoch 244/500\n",
      "307/307 [==============================] - 1s 3ms/step - loss: 0.1037 - R2: 0.5212 - val_loss: 0.1020 - val_R2: 0.5329\n",
      "Epoch 245/500\n",
      "307/307 [==============================] - 1s 3ms/step - loss: 0.1029 - R2: 0.5217 - val_loss: 0.1023 - val_R2: 0.5328\n",
      "Epoch 246/500\n",
      "307/307 [==============================] - 1s 3ms/step - loss: 0.1037 - R2: 0.5192 - val_loss: 0.1020 - val_R2: 0.5339\n",
      "Epoch 247/500\n",
      "307/307 [==============================] - 1s 3ms/step - loss: 0.1039 - R2: 0.5216 - val_loss: 0.1020 - val_R2: 0.5353\n"
     ]
    },
    {
     "name": "stdout",
     "output_type": "stream",
     "text": [
      "Epoch 248/500\n",
      "307/307 [==============================] - 1s 3ms/step - loss: 0.1026 - R2: 0.5194 - val_loss: 0.1020 - val_R2: 0.5346\n",
      "Epoch 249/500\n",
      "307/307 [==============================] - 1s 3ms/step - loss: 0.1033 - R2: 0.5133 - val_loss: 0.1020 - val_R2: 0.5339\n",
      "Epoch 250/500\n",
      "307/307 [==============================] - 1s 3ms/step - loss: 0.1028 - R2: 0.5195 - val_loss: 0.1024 - val_R2: 0.5341\n",
      "Epoch 251/500\n",
      "307/307 [==============================] - 1s 3ms/step - loss: 0.1023 - R2: 0.5227 - val_loss: 0.1019 - val_R2: 0.5335\n",
      "Epoch 252/500\n",
      "307/307 [==============================] - 1s 3ms/step - loss: 0.1032 - R2: 0.5225 - val_loss: 0.1018 - val_R2: 0.5350\n",
      "Epoch 253/500\n",
      "307/307 [==============================] - 1s 3ms/step - loss: 0.1033 - R2: 0.5261 - val_loss: 0.1016 - val_R2: 0.5351\n",
      "Epoch 254/500\n",
      "307/307 [==============================] - 1s 3ms/step - loss: 0.1031 - R2: 0.5215 - val_loss: 0.1018 - val_R2: 0.5348\n",
      "Epoch 255/500\n",
      "307/307 [==============================] - 1s 3ms/step - loss: 0.1028 - R2: 0.5176 - val_loss: 0.1017 - val_R2: 0.5343\n",
      "Epoch 256/500\n",
      "307/307 [==============================] - 1s 3ms/step - loss: 0.1035 - R2: 0.5144 - val_loss: 0.1018 - val_R2: 0.5351\n",
      "Epoch 257/500\n",
      "307/307 [==============================] - 1s 3ms/step - loss: 0.1038 - R2: 0.5177 - val_loss: 0.1019 - val_R2: 0.5356\n",
      "Epoch 258/500\n",
      "307/307 [==============================] - 1s 3ms/step - loss: 0.1034 - R2: 0.5187 - val_loss: 0.1016 - val_R2: 0.5362\n",
      "Epoch 259/500\n",
      "307/307 [==============================] - 1s 3ms/step - loss: 0.1023 - R2: 0.5208 - val_loss: 0.1018 - val_R2: 0.5345\n",
      "Epoch 260/500\n",
      "307/307 [==============================] - 1s 3ms/step - loss: 0.1029 - R2: 0.5200 - val_loss: 0.1019 - val_R2: 0.5336\n",
      "Epoch 261/500\n",
      "307/307 [==============================] - 1s 3ms/step - loss: 0.1025 - R2: 0.5241 - val_loss: 0.1017 - val_R2: 0.5357\n",
      "Epoch 262/500\n",
      "307/307 [==============================] - 1s 3ms/step - loss: 0.1030 - R2: 0.5232 - val_loss: 0.1016 - val_R2: 0.5355\n",
      "Epoch 263/500\n",
      "307/307 [==============================] - 1s 3ms/step - loss: 0.1035 - R2: 0.5194 - val_loss: 0.1016 - val_R2: 0.5363\n",
      "Epoch 264/500\n",
      "307/307 [==============================] - 1s 3ms/step - loss: 0.1029 - R2: 0.5211 - val_loss: 0.1017 - val_R2: 0.5367\n",
      "Epoch 265/500\n",
      "307/307 [==============================] - 1s 3ms/step - loss: 0.1035 - R2: 0.5197 - val_loss: 0.1015 - val_R2: 0.5356\n",
      "Epoch 266/500\n",
      "307/307 [==============================] - 1s 3ms/step - loss: 0.1022 - R2: 0.5214 - val_loss: 0.1016 - val_R2: 0.5350\n",
      "Epoch 267/500\n",
      "307/307 [==============================] - 1s 3ms/step - loss: 0.1032 - R2: 0.5154 - val_loss: 0.1014 - val_R2: 0.5367\n",
      "Epoch 268/500\n",
      "307/307 [==============================] - 1s 3ms/step - loss: 0.1024 - R2: 0.5230 - val_loss: 0.1015 - val_R2: 0.5373\n",
      "Epoch 269/500\n",
      "307/307 [==============================] - 1s 3ms/step - loss: 0.1026 - R2: 0.5139 - val_loss: 0.1015 - val_R2: 0.5356\n",
      "Epoch 270/500\n",
      "307/307 [==============================] - 1s 3ms/step - loss: 0.1025 - R2: 0.5236 - val_loss: 0.1018 - val_R2: 0.5368\n",
      "Epoch 271/500\n",
      "307/307 [==============================] - 1s 3ms/step - loss: 0.1024 - R2: 0.5236 - val_loss: 0.1012 - val_R2: 0.5374\n",
      "Epoch 272/500\n",
      "307/307 [==============================] - 1s 3ms/step - loss: 0.1024 - R2: 0.5193 - val_loss: 0.1013 - val_R2: 0.5375\n",
      "Epoch 273/500\n",
      "307/307 [==============================] - 1s 3ms/step - loss: 0.1026 - R2: 0.5205 - val_loss: 0.1013 - val_R2: 0.5371\n",
      "Epoch 274/500\n",
      "307/307 [==============================] - 1s 3ms/step - loss: 0.1029 - R2: 0.5209 - val_loss: 0.1016 - val_R2: 0.5334\n",
      "Epoch 275/500\n",
      "307/307 [==============================] - 1s 3ms/step - loss: 0.1018 - R2: 0.5286 - val_loss: 0.1015 - val_R2: 0.5368\n",
      "Epoch 276/500\n",
      "307/307 [==============================] - 1s 3ms/step - loss: 0.1025 - R2: 0.5211 - val_loss: 0.1011 - val_R2: 0.5383\n",
      "Epoch 277/500\n",
      "307/307 [==============================] - 1s 3ms/step - loss: 0.1023 - R2: 0.5278 - val_loss: 0.1011 - val_R2: 0.5370\n",
      "Epoch 278/500\n",
      "307/307 [==============================] - 1s 3ms/step - loss: 0.1022 - R2: 0.5236 - val_loss: 0.1012 - val_R2: 0.5383\n",
      "Epoch 279/500\n",
      "307/307 [==============================] - 1s 3ms/step - loss: 0.1029 - R2: 0.5254 - val_loss: 0.1017 - val_R2: 0.5375\n",
      "Epoch 280/500\n",
      "307/307 [==============================] - 1s 3ms/step - loss: 0.1028 - R2: 0.5204 - val_loss: 0.1011 - val_R2: 0.5376\n",
      "Epoch 281/500\n",
      "307/307 [==============================] - 1s 3ms/step - loss: 0.1021 - R2: 0.5193 - val_loss: 0.1010 - val_R2: 0.5380\n",
      "Epoch 282/500\n",
      "307/307 [==============================] - 1s 3ms/step - loss: 0.1030 - R2: 0.5239 - val_loss: 0.1014 - val_R2: 0.5387\n",
      "Epoch 283/500\n",
      "307/307 [==============================] - 1s 3ms/step - loss: 0.1024 - R2: 0.5211 - val_loss: 0.1012 - val_R2: 0.5377\n",
      "Epoch 284/500\n",
      "307/307 [==============================] - 1s 3ms/step - loss: 0.1019 - R2: 0.5222 - val_loss: 0.1012 - val_R2: 0.5390\n",
      "Epoch 285/500\n",
      "307/307 [==============================] - 1s 3ms/step - loss: 0.1029 - R2: 0.5092 - val_loss: 0.1010 - val_R2: 0.5387\n",
      "Epoch 286/500\n",
      "307/307 [==============================] - 1s 3ms/step - loss: 0.1031 - R2: 0.5163 - val_loss: 0.1010 - val_R2: 0.5380\n",
      "Epoch 287/500\n",
      "307/307 [==============================] - 1s 3ms/step - loss: 0.1025 - R2: 0.5236 - val_loss: 0.1008 - val_R2: 0.5399\n",
      "Epoch 288/500\n",
      "307/307 [==============================] - 1s 3ms/step - loss: 0.1022 - R2: 0.5280 - val_loss: 0.1012 - val_R2: 0.5373\n",
      "Epoch 289/500\n",
      "307/307 [==============================] - 1s 3ms/step - loss: 0.1023 - R2: 0.5190 - val_loss: 0.1009 - val_R2: 0.5380\n",
      "Epoch 290/500\n",
      "307/307 [==============================] - 1s 3ms/step - loss: 0.1023 - R2: 0.5246 - val_loss: 0.1009 - val_R2: 0.5394\n",
      "Epoch 291/500\n",
      "307/307 [==============================] - 1s 3ms/step - loss: 0.1025 - R2: 0.5214 - val_loss: 0.1009 - val_R2: 0.5386\n",
      "Epoch 292/500\n",
      "307/307 [==============================] - 1s 3ms/step - loss: 0.1027 - R2: 0.5230 - val_loss: 0.1014 - val_R2: 0.5346\n",
      "Epoch 293/500\n",
      "307/307 [==============================] - 1s 3ms/step - loss: 0.1023 - R2: 0.5210 - val_loss: 0.1008 - val_R2: 0.5392\n",
      "Epoch 294/500\n",
      "307/307 [==============================] - 1s 3ms/step - loss: 0.1033 - R2: 0.5249 - val_loss: 0.1008 - val_R2: 0.5395\n",
      "Epoch 295/500\n",
      "307/307 [==============================] - 1s 3ms/step - loss: 0.1020 - R2: 0.5240 - val_loss: 0.1010 - val_R2: 0.5391\n",
      "Epoch 296/500\n",
      "307/307 [==============================] - 1s 3ms/step - loss: 0.1025 - R2: 0.5244 - val_loss: 0.1008 - val_R2: 0.5401\n",
      "Epoch 297/500\n",
      "307/307 [==============================] - 1s 3ms/step - loss: 0.1016 - R2: 0.5259 - val_loss: 0.1007 - val_R2: 0.5396\n",
      "Epoch 298/500\n",
      "307/307 [==============================] - 1s 3ms/step - loss: 0.1023 - R2: 0.5213 - val_loss: 0.1008 - val_R2: 0.5399\n",
      "Epoch 299/500\n",
      "307/307 [==============================] - 1s 3ms/step - loss: 0.1017 - R2: 0.5293 - val_loss: 0.1010 - val_R2: 0.5405\n",
      "Epoch 300/500\n",
      "307/307 [==============================] - 1s 3ms/step - loss: 0.1022 - R2: 0.5303 - val_loss: 0.1010 - val_R2: 0.5389\n",
      "Epoch 301/500\n",
      "307/307 [==============================] - 1s 3ms/step - loss: 0.1021 - R2: 0.5288 - val_loss: 0.1014 - val_R2: 0.5386\n",
      "Epoch 302/500\n",
      "307/307 [==============================] - 1s 3ms/step - loss: 0.1023 - R2: 0.5178 - val_loss: 0.1007 - val_R2: 0.5390\n",
      "Epoch 303/500\n",
      "307/307 [==============================] - 1s 3ms/step - loss: 0.1018 - R2: 0.5270 - val_loss: 0.1007 - val_R2: 0.5408\n",
      "Epoch 304/500\n",
      "307/307 [==============================] - 1s 3ms/step - loss: 0.1021 - R2: 0.5239 - val_loss: 0.1006 - val_R2: 0.5396\n",
      "Epoch 305/500\n",
      "307/307 [==============================] - 1s 3ms/step - loss: 0.1024 - R2: 0.5249 - val_loss: 0.1006 - val_R2: 0.5381\n",
      "Epoch 306/500\n",
      "307/307 [==============================] - 1s 3ms/step - loss: 0.1016 - R2: 0.5265 - val_loss: 0.1004 - val_R2: 0.5403\n",
      "Epoch 307/500\n",
      "307/307 [==============================] - 1s 3ms/step - loss: 0.1020 - R2: 0.5276 - val_loss: 0.1005 - val_R2: 0.5412\n",
      "Epoch 308/500\n",
      "307/307 [==============================] - 1s 3ms/step - loss: 0.1020 - R2: 0.5255 - val_loss: 0.1006 - val_R2: 0.5410\n",
      "Epoch 309/500\n"
     ]
    },
    {
     "name": "stdout",
     "output_type": "stream",
     "text": [
      "307/307 [==============================] - 1s 3ms/step - loss: 0.1022 - R2: 0.5209 - val_loss: 0.1004 - val_R2: 0.5414\n",
      "Epoch 310/500\n",
      "307/307 [==============================] - 1s 3ms/step - loss: 0.1013 - R2: 0.5297 - val_loss: 0.1012 - val_R2: 0.5399\n",
      "Epoch 311/500\n",
      "307/307 [==============================] - 1s 3ms/step - loss: 0.1026 - R2: 0.5202 - val_loss: 0.1007 - val_R2: 0.5384\n",
      "Epoch 312/500\n",
      "307/307 [==============================] - 1s 3ms/step - loss: 0.1025 - R2: 0.5276 - val_loss: 0.1005 - val_R2: 0.5396\n",
      "Epoch 313/500\n",
      "307/307 [==============================] - 1s 3ms/step - loss: 0.1017 - R2: 0.5257 - val_loss: 0.1004 - val_R2: 0.5407\n",
      "Epoch 314/500\n",
      "307/307 [==============================] - 1s 3ms/step - loss: 0.1014 - R2: 0.5267 - val_loss: 0.1002 - val_R2: 0.5410\n",
      "Epoch 315/500\n",
      "307/307 [==============================] - 1s 3ms/step - loss: 0.1024 - R2: 0.5214 - val_loss: 0.1003 - val_R2: 0.5414\n",
      "Epoch 316/500\n",
      "307/307 [==============================] - 1s 3ms/step - loss: 0.1026 - R2: 0.5298 - val_loss: 0.1003 - val_R2: 0.5415\n",
      "Epoch 317/500\n",
      "307/307 [==============================] - 1s 3ms/step - loss: 0.1021 - R2: 0.5263 - val_loss: 0.1007 - val_R2: 0.5409\n",
      "Epoch 318/500\n",
      "307/307 [==============================] - 1s 3ms/step - loss: 0.1014 - R2: 0.5271 - val_loss: 0.1002 - val_R2: 0.5418\n",
      "Epoch 319/500\n",
      "307/307 [==============================] - 1s 3ms/step - loss: 0.1016 - R2: 0.5263 - val_loss: 0.1003 - val_R2: 0.5410\n",
      "Epoch 320/500\n",
      "307/307 [==============================] - 1s 3ms/step - loss: 0.1014 - R2: 0.5251 - val_loss: 0.1007 - val_R2: 0.5412\n",
      "Epoch 321/500\n",
      "307/307 [==============================] - 1s 3ms/step - loss: 0.1021 - R2: 0.5253 - val_loss: 0.1005 - val_R2: 0.5413\n",
      "Epoch 322/500\n",
      "307/307 [==============================] - 1s 3ms/step - loss: 0.1020 - R2: 0.5293 - val_loss: 0.1000 - val_R2: 0.5430\n",
      "Epoch 323/500\n",
      "307/307 [==============================] - 1s 3ms/step - loss: 0.1028 - R2: 0.5218 - val_loss: 0.1002 - val_R2: 0.5429\n",
      "Epoch 324/500\n",
      "307/307 [==============================] - 1s 3ms/step - loss: 0.1015 - R2: 0.5224 - val_loss: 0.1005 - val_R2: 0.5418\n",
      "Epoch 325/500\n",
      "307/307 [==============================] - 1s 3ms/step - loss: 0.1017 - R2: 0.5322 - val_loss: 0.1003 - val_R2: 0.5405\n",
      "Epoch 326/500\n",
      "307/307 [==============================] - 1s 3ms/step - loss: 0.1016 - R2: 0.5239 - val_loss: 0.1002 - val_R2: 0.5422\n",
      "Epoch 327/500\n",
      "307/307 [==============================] - 1s 3ms/step - loss: 0.1019 - R2: 0.5247 - val_loss: 0.1000 - val_R2: 0.5426\n",
      "Epoch 328/500\n",
      "307/307 [==============================] - 1s 3ms/step - loss: 0.1013 - R2: 0.5269 - val_loss: 0.1000 - val_R2: 0.5428\n",
      "Epoch 329/500\n",
      "307/307 [==============================] - 1s 3ms/step - loss: 0.1019 - R2: 0.5132 - val_loss: 0.1000 - val_R2: 0.5434\n",
      "Epoch 330/500\n",
      "307/307 [==============================] - 1s 3ms/step - loss: 0.1010 - R2: 0.5239 - val_loss: 0.1004 - val_R2: 0.5421\n",
      "Epoch 331/500\n",
      "307/307 [==============================] - 1s 3ms/step - loss: 0.1005 - R2: 0.5359 - val_loss: 0.1002 - val_R2: 0.5398\n",
      "Epoch 332/500\n",
      "307/307 [==============================] - 1s 3ms/step - loss: 0.1009 - R2: 0.5228 - val_loss: 0.1001 - val_R2: 0.5435\n",
      "Epoch 333/500\n",
      "307/307 [==============================] - 1s 3ms/step - loss: 0.1006 - R2: 0.5321 - val_loss: 0.1005 - val_R2: 0.5398\n",
      "Epoch 334/500\n",
      "307/307 [==============================] - 1s 3ms/step - loss: 0.1017 - R2: 0.5201 - val_loss: 0.1000 - val_R2: 0.5409\n",
      "Epoch 335/500\n",
      "307/307 [==============================] - 1s 3ms/step - loss: 0.1010 - R2: 0.5295 - val_loss: 0.1008 - val_R2: 0.5385\n",
      "Epoch 336/500\n",
      "307/307 [==============================] - 1s 3ms/step - loss: 0.1016 - R2: 0.5354 - val_loss: 0.0999 - val_R2: 0.5421\n",
      "Epoch 337/500\n",
      "307/307 [==============================] - 1s 3ms/step - loss: 0.1018 - R2: 0.5296 - val_loss: 0.0999 - val_R2: 0.5427\n",
      "Epoch 338/500\n",
      "307/307 [==============================] - 1s 3ms/step - loss: 0.1011 - R2: 0.5351 - val_loss: 0.1000 - val_R2: 0.5432\n",
      "Epoch 339/500\n",
      "307/307 [==============================] - 1s 3ms/step - loss: 0.1020 - R2: 0.5291 - val_loss: 0.0998 - val_R2: 0.5444\n",
      "Epoch 340/500\n",
      "307/307 [==============================] - 1s 3ms/step - loss: 0.1005 - R2: 0.5367 - val_loss: 0.0996 - val_R2: 0.5445\n",
      "Epoch 341/500\n",
      "307/307 [==============================] - 1s 3ms/step - loss: 0.1006 - R2: 0.5242 - val_loss: 0.0995 - val_R2: 0.5437\n",
      "Epoch 342/500\n",
      "307/307 [==============================] - 1s 3ms/step - loss: 0.1013 - R2: 0.5251 - val_loss: 0.0998 - val_R2: 0.5451\n",
      "Epoch 343/500\n",
      "307/307 [==============================] - 1s 3ms/step - loss: 0.1013 - R2: 0.5264 - val_loss: 0.0996 - val_R2: 0.5450\n",
      "Epoch 344/500\n",
      "307/307 [==============================] - 1s 3ms/step - loss: 0.1009 - R2: 0.5262 - val_loss: 0.0996 - val_R2: 0.5442\n",
      "Epoch 345/500\n",
      "307/307 [==============================] - 1s 3ms/step - loss: 0.1022 - R2: 0.5263 - val_loss: 0.0995 - val_R2: 0.5446\n",
      "Epoch 346/500\n",
      "307/307 [==============================] - 1s 3ms/step - loss: 0.1006 - R2: 0.5330 - val_loss: 0.0995 - val_R2: 0.5452\n",
      "Epoch 347/500\n",
      "307/307 [==============================] - 1s 3ms/step - loss: 0.1012 - R2: 0.5292 - val_loss: 0.0996 - val_R2: 0.5448\n",
      "Epoch 348/500\n",
      "307/307 [==============================] - 1s 3ms/step - loss: 0.1011 - R2: 0.5251 - val_loss: 0.0994 - val_R2: 0.5446\n",
      "Epoch 349/500\n",
      "307/307 [==============================] - 1s 3ms/step - loss: 0.1013 - R2: 0.5353 - val_loss: 0.0995 - val_R2: 0.5457\n",
      "Epoch 350/500\n",
      "307/307 [==============================] - 1s 3ms/step - loss: 0.1011 - R2: 0.5348 - val_loss: 0.0994 - val_R2: 0.5453\n",
      "Epoch 351/500\n",
      "307/307 [==============================] - 1s 3ms/step - loss: 0.1007 - R2: 0.5298 - val_loss: 0.0994 - val_R2: 0.5456\n",
      "Epoch 352/500\n",
      "307/307 [==============================] - 1s 3ms/step - loss: 0.1009 - R2: 0.5293 - val_loss: 0.0995 - val_R2: 0.5447\n",
      "Epoch 353/500\n",
      "307/307 [==============================] - 1s 3ms/step - loss: 0.1013 - R2: 0.5213 - val_loss: 0.0995 - val_R2: 0.5438\n",
      "Epoch 354/500\n",
      "307/307 [==============================] - 1s 3ms/step - loss: 0.1016 - R2: 0.5162 - val_loss: 0.0998 - val_R2: 0.5449\n",
      "Epoch 355/500\n",
      "307/307 [==============================] - 1s 3ms/step - loss: 0.1017 - R2: 0.5244 - val_loss: 0.0995 - val_R2: 0.5463\n",
      "Epoch 356/500\n",
      "307/307 [==============================] - 1s 3ms/step - loss: 0.1004 - R2: 0.5334 - val_loss: 0.0992 - val_R2: 0.5462\n",
      "Epoch 357/500\n",
      "307/307 [==============================] - 1s 3ms/step - loss: 0.1012 - R2: 0.5238 - val_loss: 0.0992 - val_R2: 0.5462\n",
      "Epoch 358/500\n",
      "307/307 [==============================] - 1s 3ms/step - loss: 0.1005 - R2: 0.5374 - val_loss: 0.0994 - val_R2: 0.5470\n",
      "Epoch 359/500\n",
      "307/307 [==============================] - 1s 3ms/step - loss: 0.1008 - R2: 0.5312 - val_loss: 0.0993 - val_R2: 0.5455\n",
      "Epoch 360/500\n",
      "307/307 [==============================] - 1s 3ms/step - loss: 0.1013 - R2: 0.5265 - val_loss: 0.0990 - val_R2: 0.5471\n",
      "Epoch 361/500\n",
      "307/307 [==============================] - 1s 3ms/step - loss: 0.1000 - R2: 0.5333 - val_loss: 0.0992 - val_R2: 0.5463\n",
      "Epoch 362/500\n",
      "307/307 [==============================] - 1s 3ms/step - loss: 0.1013 - R2: 0.5268 - val_loss: 0.0997 - val_R2: 0.5451\n",
      "Epoch 363/500\n",
      "307/307 [==============================] - 1s 3ms/step - loss: 0.1006 - R2: 0.5310 - val_loss: 0.0990 - val_R2: 0.5464\n",
      "Epoch 364/500\n",
      "307/307 [==============================] - 1s 3ms/step - loss: 0.1008 - R2: 0.5305 - val_loss: 0.0991 - val_R2: 0.5475\n",
      "Epoch 365/500\n",
      "307/307 [==============================] - 1s 3ms/step - loss: 0.1007 - R2: 0.5367 - val_loss: 0.0992 - val_R2: 0.5468\n",
      "Epoch 366/500\n",
      "307/307 [==============================] - 1s 3ms/step - loss: 0.1005 - R2: 0.5331 - val_loss: 0.0991 - val_R2: 0.5463\n",
      "Epoch 367/500\n",
      "307/307 [==============================] - 1s 3ms/step - loss: 0.1006 - R2: 0.5308 - val_loss: 0.1001 - val_R2: 0.5427\n",
      "Epoch 368/500\n",
      "307/307 [==============================] - 1s 3ms/step - loss: 0.0999 - R2: 0.5351 - val_loss: 0.0990 - val_R2: 0.5470\n",
      "Epoch 369/500\n",
      "307/307 [==============================] - 1s 3ms/step - loss: 0.1009 - R2: 0.5284 - val_loss: 0.0991 - val_R2: 0.5466\n",
      "Epoch 370/500\n",
      "307/307 [==============================] - 1s 3ms/step - loss: 0.1005 - R2: 0.5292 - val_loss: 0.0994 - val_R2: 0.5457\n"
     ]
    },
    {
     "name": "stdout",
     "output_type": "stream",
     "text": [
      "Epoch 371/500\n",
      "307/307 [==============================] - 1s 3ms/step - loss: 0.1002 - R2: 0.5338 - val_loss: 0.1001 - val_R2: 0.5426\n",
      "Epoch 372/500\n",
      "307/307 [==============================] - 1s 3ms/step - loss: 0.1011 - R2: 0.5305 - val_loss: 0.0991 - val_R2: 0.5459\n",
      "Epoch 373/500\n",
      "307/307 [==============================] - 1s 3ms/step - loss: 0.1006 - R2: 0.5356 - val_loss: 0.0988 - val_R2: 0.5466\n",
      "Epoch 374/500\n",
      "307/307 [==============================] - 1s 3ms/step - loss: 0.1004 - R2: 0.5303 - val_loss: 0.0991 - val_R2: 0.5477\n",
      "Epoch 375/500\n",
      "307/307 [==============================] - 1s 3ms/step - loss: 0.1003 - R2: 0.5365 - val_loss: 0.0988 - val_R2: 0.5482\n",
      "Epoch 376/500\n",
      "307/307 [==============================] - 1s 3ms/step - loss: 0.1000 - R2: 0.5344 - val_loss: 0.0990 - val_R2: 0.5464\n",
      "Epoch 377/500\n",
      "307/307 [==============================] - 1s 3ms/step - loss: 0.1003 - R2: 0.5351 - val_loss: 0.0993 - val_R2: 0.5470\n",
      "Epoch 378/500\n",
      "307/307 [==============================] - 1s 3ms/step - loss: 0.1005 - R2: 0.5329 - val_loss: 0.0995 - val_R2: 0.5460\n",
      "Epoch 379/500\n",
      "307/307 [==============================] - 1s 3ms/step - loss: 0.1005 - R2: 0.5328 - val_loss: 0.0992 - val_R2: 0.5465\n",
      "Epoch 380/500\n",
      "307/307 [==============================] - 1s 3ms/step - loss: 0.1002 - R2: 0.5281 - val_loss: 0.0990 - val_R2: 0.5479\n",
      "Epoch 381/500\n",
      "307/307 [==============================] - 1s 3ms/step - loss: 0.1005 - R2: 0.5268 - val_loss: 0.0990 - val_R2: 0.5474\n",
      "Epoch 382/500\n",
      "307/307 [==============================] - 1s 3ms/step - loss: 0.1010 - R2: 0.5311 - val_loss: 0.0991 - val_R2: 0.5441\n",
      "Epoch 383/500\n",
      "307/307 [==============================] - 1s 3ms/step - loss: 0.1001 - R2: 0.5404 - val_loss: 0.0988 - val_R2: 0.5472\n",
      "Epoch 384/500\n",
      "307/307 [==============================] - 1s 3ms/step - loss: 0.1001 - R2: 0.5353 - val_loss: 0.0992 - val_R2: 0.5475\n",
      "Epoch 385/500\n",
      "307/307 [==============================] - 1s 3ms/step - loss: 0.1001 - R2: 0.5255 - val_loss: 0.0990 - val_R2: 0.5484\n",
      "Epoch 386/500\n",
      "307/307 [==============================] - 1s 3ms/step - loss: 0.1012 - R2: 0.5341 - val_loss: 0.0992 - val_R2: 0.5465\n",
      "Epoch 387/500\n",
      "307/307 [==============================] - 1s 3ms/step - loss: 0.1001 - R2: 0.5356 - val_loss: 0.0986 - val_R2: 0.5485\n",
      "Epoch 388/500\n",
      "307/307 [==============================] - 1s 3ms/step - loss: 0.0999 - R2: 0.5304 - val_loss: 0.0986 - val_R2: 0.5479\n",
      "Epoch 389/500\n",
      "307/307 [==============================] - 1s 3ms/step - loss: 0.1003 - R2: 0.5370 - val_loss: 0.0986 - val_R2: 0.5496\n",
      "Epoch 390/500\n",
      "307/307 [==============================] - 1s 3ms/step - loss: 0.1000 - R2: 0.5316 - val_loss: 0.0985 - val_R2: 0.5489\n",
      "Epoch 391/500\n",
      "307/307 [==============================] - 1s 3ms/step - loss: 0.1005 - R2: 0.5342 - val_loss: 0.0988 - val_R2: 0.5497\n",
      "Epoch 392/500\n",
      "307/307 [==============================] - 1s 3ms/step - loss: 0.1004 - R2: 0.5374 - val_loss: 0.0988 - val_R2: 0.5487\n",
      "Epoch 393/500\n",
      "307/307 [==============================] - 1s 3ms/step - loss: 0.0999 - R2: 0.5383 - val_loss: 0.0986 - val_R2: 0.5487\n",
      "Epoch 394/500\n",
      "307/307 [==============================] - 1s 3ms/step - loss: 0.1005 - R2: 0.5305 - val_loss: 0.0985 - val_R2: 0.5488\n",
      "Epoch 395/500\n",
      "307/307 [==============================] - 1s 3ms/step - loss: 0.1001 - R2: 0.5385 - val_loss: 0.0984 - val_R2: 0.5484\n",
      "Epoch 396/500\n",
      "307/307 [==============================] - 1s 3ms/step - loss: 0.1001 - R2: 0.5350 - val_loss: 0.0992 - val_R2: 0.5457\n",
      "Epoch 397/500\n",
      "307/307 [==============================] - 1s 3ms/step - loss: 0.1005 - R2: 0.5360 - val_loss: 0.0985 - val_R2: 0.5495\n",
      "Epoch 398/500\n",
      "307/307 [==============================] - 1s 3ms/step - loss: 0.1002 - R2: 0.5278 - val_loss: 0.0992 - val_R2: 0.5463\n",
      "Epoch 399/500\n",
      "307/307 [==============================] - 1s 3ms/step - loss: 0.0999 - R2: 0.5352 - val_loss: 0.0991 - val_R2: 0.5486\n",
      "Epoch 400/500\n",
      "307/307 [==============================] - 1s 3ms/step - loss: 0.0995 - R2: 0.5399 - val_loss: 0.0984 - val_R2: 0.5497\n",
      "Epoch 401/500\n",
      "307/307 [==============================] - 1s 3ms/step - loss: 0.1003 - R2: 0.5347 - val_loss: 0.0983 - val_R2: 0.5504\n",
      "Epoch 402/500\n",
      "307/307 [==============================] - 1s 3ms/step - loss: 0.0999 - R2: 0.5360 - val_loss: 0.0985 - val_R2: 0.5502\n",
      "Epoch 403/500\n",
      "307/307 [==============================] - 1s 3ms/step - loss: 0.1011 - R2: 0.5343 - val_loss: 0.0985 - val_R2: 0.5498\n",
      "Epoch 404/500\n",
      "307/307 [==============================] - 1s 3ms/step - loss: 0.0995 - R2: 0.5303 - val_loss: 0.0989 - val_R2: 0.5450\n",
      "Epoch 405/500\n",
      "307/307 [==============================] - 1s 3ms/step - loss: 0.0998 - R2: 0.5349 - val_loss: 0.0992 - val_R2: 0.5472\n",
      "Epoch 406/500\n",
      "307/307 [==============================] - 1s 3ms/step - loss: 0.1002 - R2: 0.5344 - val_loss: 0.0982 - val_R2: 0.5499\n",
      "Epoch 407/500\n",
      "307/307 [==============================] - 1s 3ms/step - loss: 0.0995 - R2: 0.5369 - val_loss: 0.0983 - val_R2: 0.5496\n",
      "Epoch 408/500\n",
      "307/307 [==============================] - 1s 3ms/step - loss: 0.0993 - R2: 0.5328 - val_loss: 0.0985 - val_R2: 0.5507\n",
      "Epoch 409/500\n",
      "307/307 [==============================] - 1s 3ms/step - loss: 0.1000 - R2: 0.5316 - val_loss: 0.0982 - val_R2: 0.5498\n",
      "Epoch 410/500\n",
      "307/307 [==============================] - 1s 3ms/step - loss: 0.1004 - R2: 0.5348 - val_loss: 0.0982 - val_R2: 0.5496\n",
      "Epoch 411/500\n",
      "307/307 [==============================] - 1s 3ms/step - loss: 0.0997 - R2: 0.5254 - val_loss: 0.0986 - val_R2: 0.5484\n",
      "Epoch 412/500\n",
      "307/307 [==============================] - 1s 3ms/step - loss: 0.1003 - R2: 0.5295 - val_loss: 0.0985 - val_R2: 0.5500\n",
      "Epoch 413/500\n",
      "307/307 [==============================] - 1s 3ms/step - loss: 0.0995 - R2: 0.5369 - val_loss: 0.0986 - val_R2: 0.5502\n",
      "Epoch 414/500\n",
      "307/307 [==============================] - 1s 3ms/step - loss: 0.0998 - R2: 0.5327 - val_loss: 0.0981 - val_R2: 0.5505\n",
      "Epoch 415/500\n",
      "307/307 [==============================] - 1s 3ms/step - loss: 0.1004 - R2: 0.5270 - val_loss: 0.0987 - val_R2: 0.5491\n",
      "Epoch 416/500\n",
      "307/307 [==============================] - 1s 3ms/step - loss: 0.0991 - R2: 0.5390 - val_loss: 0.0983 - val_R2: 0.5510\n",
      "Epoch 417/500\n",
      "307/307 [==============================] - 1s 3ms/step - loss: 0.0995 - R2: 0.5377 - val_loss: 0.0984 - val_R2: 0.5507\n",
      "Epoch 418/500\n",
      "307/307 [==============================] - 1s 3ms/step - loss: 0.0992 - R2: 0.5381 - val_loss: 0.0982 - val_R2: 0.5498\n",
      "Epoch 419/500\n",
      "307/307 [==============================] - 1s 3ms/step - loss: 0.1003 - R2: 0.5343 - val_loss: 0.0988 - val_R2: 0.5491\n",
      "Epoch 420/500\n",
      "307/307 [==============================] - 1s 3ms/step - loss: 0.1002 - R2: 0.5297 - val_loss: 0.0984 - val_R2: 0.5504\n",
      "Epoch 421/500\n",
      "307/307 [==============================] - 1s 3ms/step - loss: 0.1002 - R2: 0.5308 - val_loss: 0.0980 - val_R2: 0.5517\n",
      "Epoch 422/500\n",
      "307/307 [==============================] - 1s 3ms/step - loss: 0.1003 - R2: 0.5383 - val_loss: 0.0983 - val_R2: 0.5497\n",
      "Epoch 423/500\n",
      "307/307 [==============================] - 1s 3ms/step - loss: 0.0999 - R2: 0.5374 - val_loss: 0.0987 - val_R2: 0.5500\n",
      "Epoch 424/500\n",
      "307/307 [==============================] - 1s 3ms/step - loss: 0.0989 - R2: 0.5384 - val_loss: 0.0981 - val_R2: 0.5497\n",
      "Epoch 425/500\n",
      "307/307 [==============================] - 1s 3ms/step - loss: 0.1004 - R2: 0.5303 - val_loss: 0.0979 - val_R2: 0.5518\n",
      "Epoch 426/500\n",
      "307/307 [==============================] - 1s 3ms/step - loss: 0.0991 - R2: 0.5420 - val_loss: 0.0986 - val_R2: 0.5502\n",
      "Epoch 427/500\n",
      "307/307 [==============================] - 1s 3ms/step - loss: 0.0997 - R2: 0.5372 - val_loss: 0.0984 - val_R2: 0.5492\n",
      "Epoch 428/500\n",
      "307/307 [==============================] - 1s 3ms/step - loss: 0.0992 - R2: 0.5366 - val_loss: 0.0981 - val_R2: 0.5495\n",
      "Epoch 429/500\n",
      "307/307 [==============================] - 1s 3ms/step - loss: 0.1004 - R2: 0.5360 - val_loss: 0.0983 - val_R2: 0.5513\n",
      "Epoch 430/500\n",
      "307/307 [==============================] - 1s 3ms/step - loss: 0.1002 - R2: 0.5305 - val_loss: 0.0986 - val_R2: 0.5477\n",
      "Epoch 431/500\n",
      "307/307 [==============================] - 1s 3ms/step - loss: 0.0997 - R2: 0.5368 - val_loss: 0.0983 - val_R2: 0.5493\n",
      "Epoch 432/500\n"
     ]
    },
    {
     "name": "stdout",
     "output_type": "stream",
     "text": [
      "307/307 [==============================] - 1s 3ms/step - loss: 0.0997 - R2: 0.5335 - val_loss: 0.0981 - val_R2: 0.5493\n",
      "Epoch 433/500\n",
      "307/307 [==============================] - 1s 3ms/step - loss: 0.0992 - R2: 0.5459 - val_loss: 0.0988 - val_R2: 0.5475\n",
      "Epoch 434/500\n",
      "307/307 [==============================] - 1s 3ms/step - loss: 0.0996 - R2: 0.5371 - val_loss: 0.0987 - val_R2: 0.5489\n",
      "Epoch 435/500\n",
      "307/307 [==============================] - 1s 3ms/step - loss: 0.0993 - R2: 0.5425 - val_loss: 0.0980 - val_R2: 0.5500\n",
      "Epoch 436/500\n",
      "307/307 [==============================] - 1s 3ms/step - loss: 0.0998 - R2: 0.5326 - val_loss: 0.0981 - val_R2: 0.5495\n",
      "Epoch 437/500\n",
      "307/307 [==============================] - 1s 3ms/step - loss: 0.0990 - R2: 0.5434 - val_loss: 0.0978 - val_R2: 0.5530\n",
      "Epoch 438/500\n",
      "307/307 [==============================] - 1s 3ms/step - loss: 0.0990 - R2: 0.5373 - val_loss: 0.0977 - val_R2: 0.5524\n",
      "Epoch 439/500\n",
      "307/307 [==============================] - 1s 3ms/step - loss: 0.0990 - R2: 0.5437 - val_loss: 0.0975 - val_R2: 0.5525\n",
      "Epoch 440/500\n",
      "307/307 [==============================] - 1s 3ms/step - loss: 0.0996 - R2: 0.5390 - val_loss: 0.0984 - val_R2: 0.5507\n",
      "Epoch 441/500\n",
      "307/307 [==============================] - 1s 3ms/step - loss: 0.0996 - R2: 0.5347 - val_loss: 0.0978 - val_R2: 0.5502\n",
      "Epoch 442/500\n",
      "307/307 [==============================] - 1s 3ms/step - loss: 0.0998 - R2: 0.5345 - val_loss: 0.0976 - val_R2: 0.5516\n",
      "Epoch 443/500\n",
      "307/307 [==============================] - 1s 3ms/step - loss: 0.0991 - R2: 0.5452 - val_loss: 0.0977 - val_R2: 0.5515\n",
      "Epoch 444/500\n",
      "307/307 [==============================] - 1s 3ms/step - loss: 0.0990 - R2: 0.5403 - val_loss: 0.0973 - val_R2: 0.5531\n",
      "Epoch 445/500\n",
      "307/307 [==============================] - 1s 3ms/step - loss: 0.1000 - R2: 0.5371 - val_loss: 0.0977 - val_R2: 0.5526\n",
      "Epoch 446/500\n",
      "307/307 [==============================] - 1s 3ms/step - loss: 0.0992 - R2: 0.5366 - val_loss: 0.0973 - val_R2: 0.5543\n",
      "Epoch 447/500\n",
      "307/307 [==============================] - 1s 3ms/step - loss: 0.0990 - R2: 0.5390 - val_loss: 0.0975 - val_R2: 0.5516\n",
      "Epoch 448/500\n",
      "307/307 [==============================] - 1s 3ms/step - loss: 0.1001 - R2: 0.5353 - val_loss: 0.0975 - val_R2: 0.5539\n",
      "Epoch 449/500\n",
      "307/307 [==============================] - 1s 3ms/step - loss: 0.0987 - R2: 0.5441 - val_loss: 0.0978 - val_R2: 0.5487\n",
      "Epoch 450/500\n",
      "307/307 [==============================] - 1s 3ms/step - loss: 0.0993 - R2: 0.5292 - val_loss: 0.0979 - val_R2: 0.5510\n",
      "Epoch 451/500\n",
      "307/307 [==============================] - 1s 3ms/step - loss: 0.0988 - R2: 0.5381 - val_loss: 0.0973 - val_R2: 0.5544\n",
      "Epoch 452/500\n",
      "307/307 [==============================] - 1s 3ms/step - loss: 0.0994 - R2: 0.5414 - val_loss: 0.0977 - val_R2: 0.5514\n",
      "Epoch 453/500\n",
      "307/307 [==============================] - 1s 3ms/step - loss: 0.0992 - R2: 0.5378 - val_loss: 0.0974 - val_R2: 0.5542\n",
      "Epoch 454/500\n",
      "307/307 [==============================] - 1s 3ms/step - loss: 0.0995 - R2: 0.5362 - val_loss: 0.0974 - val_R2: 0.5544\n",
      "Epoch 455/500\n",
      "307/307 [==============================] - 1s 3ms/step - loss: 0.0983 - R2: 0.5435 - val_loss: 0.0973 - val_R2: 0.5539\n",
      "Epoch 456/500\n",
      "307/307 [==============================] - 1s 3ms/step - loss: 0.0994 - R2: 0.5363 - val_loss: 0.0979 - val_R2: 0.5523\n",
      "Epoch 457/500\n",
      "307/307 [==============================] - 1s 3ms/step - loss: 0.0991 - R2: 0.5419 - val_loss: 0.0975 - val_R2: 0.5545\n",
      "Epoch 458/500\n",
      "307/307 [==============================] - 1s 3ms/step - loss: 0.0994 - R2: 0.5321 - val_loss: 0.0980 - val_R2: 0.5519\n",
      "Epoch 459/500\n",
      "307/307 [==============================] - 1s 3ms/step - loss: 0.0990 - R2: 0.5394 - val_loss: 0.0972 - val_R2: 0.5550\n",
      "Epoch 460/500\n",
      "307/307 [==============================] - 1s 3ms/step - loss: 0.0991 - R2: 0.5375 - val_loss: 0.0978 - val_R2: 0.5505\n",
      "Epoch 461/500\n",
      "307/307 [==============================] - 1s 3ms/step - loss: 0.0994 - R2: 0.5337 - val_loss: 0.0978 - val_R2: 0.5506\n",
      "Epoch 462/500\n",
      "307/307 [==============================] - 1s 3ms/step - loss: 0.0996 - R2: 0.5354 - val_loss: 0.0972 - val_R2: 0.5554\n",
      "Epoch 463/500\n",
      "307/307 [==============================] - 1s 3ms/step - loss: 0.0991 - R2: 0.5458 - val_loss: 0.0972 - val_R2: 0.5546\n",
      "Epoch 464/500\n",
      "307/307 [==============================] - 1s 3ms/step - loss: 0.0981 - R2: 0.5428 - val_loss: 0.0974 - val_R2: 0.5542\n",
      "Epoch 465/500\n",
      "307/307 [==============================] - 1s 3ms/step - loss: 0.0996 - R2: 0.5403 - val_loss: 0.0976 - val_R2: 0.5517\n",
      "Epoch 466/500\n",
      "307/307 [==============================] - 1s 3ms/step - loss: 0.0988 - R2: 0.5383 - val_loss: 0.0971 - val_R2: 0.5556\n",
      "Epoch 467/500\n",
      "307/307 [==============================] - 1s 3ms/step - loss: 0.0994 - R2: 0.5326 - val_loss: 0.0972 - val_R2: 0.5553\n",
      "Epoch 468/500\n",
      "307/307 [==============================] - 1s 3ms/step - loss: 0.0997 - R2: 0.5293 - val_loss: 0.0980 - val_R2: 0.5505\n",
      "Epoch 469/500\n",
      "307/307 [==============================] - 1s 3ms/step - loss: 0.0997 - R2: 0.5345 - val_loss: 0.0969 - val_R2: 0.5551\n",
      "Epoch 470/500\n",
      "307/307 [==============================] - 1s 3ms/step - loss: 0.0989 - R2: 0.5427 - val_loss: 0.0970 - val_R2: 0.5555\n",
      "Epoch 471/500\n",
      "307/307 [==============================] - 1s 3ms/step - loss: 0.0994 - R2: 0.5309 - val_loss: 0.0973 - val_R2: 0.5519\n",
      "Epoch 472/500\n",
      "307/307 [==============================] - 1s 3ms/step - loss: 0.0993 - R2: 0.5432 - val_loss: 0.0972 - val_R2: 0.5526\n",
      "Epoch 473/500\n",
      "307/307 [==============================] - 1s 3ms/step - loss: 0.0985 - R2: 0.5439 - val_loss: 0.0977 - val_R2: 0.5526\n",
      "Epoch 474/500\n",
      "307/307 [==============================] - 1s 3ms/step - loss: 0.0985 - R2: 0.5417 - val_loss: 0.0969 - val_R2: 0.5550\n",
      "Epoch 475/500\n",
      "307/307 [==============================] - 1s 3ms/step - loss: 0.0988 - R2: 0.5335 - val_loss: 0.0968 - val_R2: 0.5559\n",
      "Epoch 476/500\n",
      "307/307 [==============================] - 1s 3ms/step - loss: 0.0986 - R2: 0.5445 - val_loss: 0.0977 - val_R2: 0.5498\n",
      "Epoch 477/500\n",
      "307/307 [==============================] - 1s 3ms/step - loss: 0.0995 - R2: 0.5376 - val_loss: 0.0970 - val_R2: 0.5563\n",
      "Epoch 478/500\n",
      "307/307 [==============================] - 1s 3ms/step - loss: 0.0976 - R2: 0.5450 - val_loss: 0.0973 - val_R2: 0.5507\n",
      "Epoch 479/500\n",
      "307/307 [==============================] - 1s 3ms/step - loss: 0.0992 - R2: 0.5389 - val_loss: 0.0973 - val_R2: 0.5547\n",
      "Epoch 480/500\n",
      "307/307 [==============================] - 1s 3ms/step - loss: 0.0986 - R2: 0.5426 - val_loss: 0.0970 - val_R2: 0.5557\n",
      "Epoch 481/500\n",
      "307/307 [==============================] - 1s 3ms/step - loss: 0.0987 - R2: 0.5380 - val_loss: 0.0972 - val_R2: 0.5547\n",
      "Epoch 482/500\n",
      "307/307 [==============================] - 1s 3ms/step - loss: 0.0989 - R2: 0.5393 - val_loss: 0.0970 - val_R2: 0.5558\n",
      "Epoch 483/500\n",
      "307/307 [==============================] - 1s 3ms/step - loss: 0.0993 - R2: 0.5361 - val_loss: 0.0973 - val_R2: 0.5560\n",
      "Epoch 484/500\n",
      "307/307 [==============================] - 1s 3ms/step - loss: 0.0990 - R2: 0.5367 - val_loss: 0.0969 - val_R2: 0.5555\n",
      "Epoch 485/500\n",
      "307/307 [==============================] - 1s 3ms/step - loss: 0.0985 - R2: 0.5436 - val_loss: 0.0970 - val_R2: 0.5561\n",
      "Epoch 486/500\n",
      "307/307 [==============================] - 1s 3ms/step - loss: 0.0985 - R2: 0.5438 - val_loss: 0.0968 - val_R2: 0.5542\n",
      "Epoch 487/500\n",
      "307/307 [==============================] - 1s 3ms/step - loss: 0.0990 - R2: 0.5362 - val_loss: 0.0966 - val_R2: 0.5542\n",
      "Epoch 488/500\n",
      "307/307 [==============================] - 1s 3ms/step - loss: 0.0982 - R2: 0.5475 - val_loss: 0.0974 - val_R2: 0.5542\n",
      "Epoch 489/500\n",
      "307/307 [==============================] - 1s 3ms/step - loss: 0.0990 - R2: 0.5476 - val_loss: 0.0967 - val_R2: 0.5563\n",
      "Epoch 490/500\n",
      "307/307 [==============================] - 1s 3ms/step - loss: 0.0986 - R2: 0.5436 - val_loss: 0.0971 - val_R2: 0.5531\n",
      "Epoch 491/500\n",
      "307/307 [==============================] - 1s 3ms/step - loss: 0.0986 - R2: 0.5384 - val_loss: 0.0966 - val_R2: 0.5578\n",
      "Epoch 492/500\n",
      "307/307 [==============================] - 1s 3ms/step - loss: 0.0982 - R2: 0.5422 - val_loss: 0.0971 - val_R2: 0.5557\n",
      "Epoch 493/500\n",
      "307/307 [==============================] - 1s 3ms/step - loss: 0.0986 - R2: 0.5372 - val_loss: 0.0975 - val_R2: 0.5512\n"
     ]
    },
    {
     "name": "stdout",
     "output_type": "stream",
     "text": [
      "Epoch 494/500\n",
      "307/307 [==============================] - 1s 3ms/step - loss: 0.0987 - R2: 0.5420 - val_loss: 0.0966 - val_R2: 0.5562\n",
      "Epoch 495/500\n",
      "307/307 [==============================] - 1s 3ms/step - loss: 0.0987 - R2: 0.5437 - val_loss: 0.0966 - val_R2: 0.5560\n",
      "Epoch 496/500\n",
      "307/307 [==============================] - 1s 3ms/step - loss: 0.0986 - R2: 0.5427 - val_loss: 0.0967 - val_R2: 0.5573\n",
      "Epoch 497/500\n",
      "307/307 [==============================] - 1s 3ms/step - loss: 0.0983 - R2: 0.5376 - val_loss: 0.0971 - val_R2: 0.5548\n",
      "Epoch 498/500\n",
      "307/307 [==============================] - 1s 3ms/step - loss: 0.0990 - R2: 0.5371 - val_loss: 0.0972 - val_R2: 0.5545\n",
      "Epoch 499/500\n",
      "307/307 [==============================] - 1s 3ms/step - loss: 0.0979 - R2: 0.5472 - val_loss: 0.0972 - val_R2: 0.5558\n",
      "Epoch 500/500\n",
      "307/307 [==============================] - 1s 3ms/step - loss: 0.0986 - R2: 0.5389 - val_loss: 0.0967 - val_R2: 0.5559\n"
     ]
    }
   ],
   "source": [
    "training = model.fit(x=train_features, y=train_labels, \n",
    "     batch_size=32, epochs=epochs, shuffle=True, verbose=1,\n",
    "    validation_split=0.3)"
   ]
  },
  {
   "cell_type": "code",
   "execution_count": 52,
   "metadata": {},
   "outputs": [
    {
     "name": "stdout",
     "output_type": "stream",
     "text": [
      "0.3146382965404856\n",
      "0.3078380094888847\n"
     ]
    }
   ],
   "source": [
    "NNfitsontest = np.reshape(model.predict(test_features),-1)\n",
    "NNfitsontrain = np.reshape(model.predict(train_features),-1)\n",
    "\n",
    "print(sqrt(mean((NNfitsontest-test_labels)**2)))\n",
    "\n",
    "print(sqrt(mean((NNfitsontrain-train_labels)**2)))"
   ]
  },
  {
   "cell_type": "code",
   "execution_count": 53,
   "metadata": {},
   "outputs": [
    {
     "data": {
      "image/png": "[encoded data removed]",
      "text/plain": [
       "<Figure size 360x360 with 1 Axes>"
      ]
     },
     "metadata": {
      "needs_background": "light"
     },
     "output_type": "display_data"
    }
   ],
   "source": [
    "plt.figure(figsize=[5,5])\n",
    "hist2d(x=NNfitsontrain,\n",
    "       y=train_labels,\n",
    "         bins=200,\n",
    "         norm=matplotlib.colors.LogNorm())\n",
    "plt.title('Neural Network Performance')\n",
    "plt.ylabel('Training Set Response',size=12)\n",
    "plt.xlabel('Training Set Fitted Values',size=12)\n",
    "plt.plot([-100, 100], [-100, 100], 'b-')\n",
    "plt.xlim(-1.5,3)\n",
    "plt.ylim(-1.5,3)\n",
    "\n",
    "plt.show()"
   ]
  },
  {
   "cell_type": "code",
   "execution_count": 54,
   "metadata": {},
   "outputs": [
    {
     "data": {
      "image/png": "[encoded data removed]",
      "text/plain": [
       "<Figure size 360x360 with 1 Axes>"
      ]
     },
     "metadata": {
      "needs_background": "light"
     },
     "output_type": "display_data"
    }
   ],
   "source": [
    "plt.figure(figsize=[5,5])\n",
    "hist2d(x=NNfitsontest,\n",
    "       y=test_labels,\n",
    "         bins=200,\n",
    "         norm=matplotlib.colors.LogNorm())\n",
    "plt.title('Neural Network Performance')\n",
    "plt.ylabel('Test Set Response',size=12)\n",
    "plt.xlabel('Test Set Fitted Values',size=12)\n",
    "plt.plot([-100, 100], [-100, 100], 'b-')\n",
    "plt.xlim(-1.5,3)\n",
    "plt.ylim(-1.5,3)\n",
    "\n",
    "plt.show()"
   ]
  },
  {
   "cell_type": "code",
   "execution_count": 55,
   "metadata": {
    "scrolled": false
   },
   "outputs": [
    {
     "data": {
      "image/png": "[encoded data removed]",
      "text/plain": [
       "<Figure size 1080x216 with 4 Axes>"
      ]
     },
     "metadata": {
      "needs_background": "light"
     },
     "output_type": "display_data"
    }
   ],
   "source": [
    "# plot\n",
    "\n",
    "metrics = [k for k in training.history.keys() if (\"loss\" not in k) and (\"val\" not in k)]    \n",
    "fig, ax = plt.subplots(nrows=1, ncols=2, sharey=True, figsize=(15,3))\n",
    "       \n",
    "## training\n",
    "\n",
    "ax[0].set(title=\"Training\")    \n",
    "ax11 = ax[0].twinx()    \n",
    "ax[0].plot(training.history['loss'], color='black')\n",
    "ax[0].set_xlabel('Epochs')    \n",
    "ax[0].set_ylabel('Loss', color='black')    \n",
    "for metric in metrics:        \n",
    "    ax11.plot(training.history[metric], label=metric) \n",
    "    ax11.set_ylabel(\"Score\", color='steelblue')    \n",
    "ax11.legend()\n",
    "        \n",
    "## validation\n",
    "\n",
    "ax[1].set(title=\"Validation\")    \n",
    "ax22 = ax[1].twinx()    \n",
    "ax[1].plot(training.history['val_loss'], color='black')\n",
    "ax[1].set_xlabel('Epochs')    \n",
    "ax[1].set_ylabel('Loss', color='black')    \n",
    "for metric in metrics:          \n",
    "    ax22.plot(training.history['val_'+metric], label=metric)\n",
    "    ax22.set_ylabel(\"Score\", color=\"steelblue\")    \n",
    "plt.show()"
   ]
  },
  {
   "cell_type": "code",
   "execution_count": 56,
   "metadata": {},
   "outputs": [
    {
     "name": "stdout",
     "output_type": "stream",
     "text": [
      "RMSE NN on test set:\n",
      "0.3146382965404856\n",
      "RMSE NN on training set:\n",
      "0.3078380094888847\n"
     ]
    }
   ],
   "source": [
    "print(\"RMSE NN on test set:\")\n",
    "print(sqrt(mean((NNfitsontest-test_labels)**2)))\n",
    "\n",
    "print(\"RMSE NN on training set:\")\n",
    "print(sqrt(mean((NNfitsontrain-train_labels)**2)))"
   ]
  },
  {
   "cell_type": "markdown",
   "metadata": {},
   "source": [
    "### Refit NN to entire data set"
   ]
  },
  {
   "cell_type": "code",
   "execution_count": 57,
   "metadata": {},
   "outputs": [
    {
     "name": "stdout",
     "output_type": "stream",
     "text": [
      "Epoch 1/500\n",
      "384/384 - 1s - loss: 0.1250 - R2: 0.5657 - val_loss: 0.0816 - val_R2: -2.1446e+01\n",
      "Epoch 2/500\n",
      "384/384 - 1s - loss: 0.1230 - R2: 0.5781 - val_loss: 0.0980 - val_R2: -2.6245e+01\n",
      "Epoch 3/500\n",
      "384/384 - 1s - loss: 0.1229 - R2: 0.5814 - val_loss: 0.1157 - val_R2: -3.1378e+01\n",
      "Epoch 4/500\n",
      "384/384 - 1s - loss: 0.1231 - R2: 0.5788 - val_loss: 0.1008 - val_R2: -2.7171e+01\n",
      "Epoch 5/500\n",
      "384/384 - 1s - loss: 0.1223 - R2: 0.5847 - val_loss: 0.0943 - val_R2: -2.5476e+01\n",
      "Epoch 6/500\n",
      "384/384 - 1s - loss: 0.1225 - R2: 0.5858 - val_loss: 0.1035 - val_R2: -2.7942e+01\n",
      "Epoch 7/500\n",
      "384/384 - 1s - loss: 0.1226 - R2: 0.5771 - val_loss: 0.1042 - val_R2: -2.8202e+01\n",
      "Epoch 8/500\n",
      "384/384 - 1s - loss: 0.1211 - R2: 0.5838 - val_loss: 0.1115 - val_R2: -3.0331e+01\n",
      "Epoch 9/500\n",
      "384/384 - 1s - loss: 0.1219 - R2: 0.5821 - val_loss: 0.1200 - val_R2: -3.2750e+01\n",
      "Epoch 10/500\n",
      "384/384 - 1s - loss: 0.1222 - R2: 0.5818 - val_loss: 0.1005 - val_R2: -2.7175e+01\n",
      "Epoch 11/500\n",
      "384/384 - 1s - loss: 0.1218 - R2: 0.5811 - val_loss: 0.0975 - val_R2: -2.6326e+01\n",
      "Epoch 12/500\n",
      "384/384 - 1s - loss: 0.1216 - R2: 0.5852 - val_loss: 0.1191 - val_R2: -3.2421e+01\n",
      "Epoch 13/500\n",
      "384/384 - 1s - loss: 0.1219 - R2: 0.5849 - val_loss: 0.1123 - val_R2: -3.0475e+01\n",
      "Epoch 14/500\n",
      "384/384 - 1s - loss: 0.1216 - R2: 0.5844 - val_loss: 0.1031 - val_R2: -2.7936e+01\n",
      "Epoch 15/500\n",
      "384/384 - 1s - loss: 0.1210 - R2: 0.5881 - val_loss: 0.1050 - val_R2: -2.8539e+01\n",
      "Epoch 16/500\n",
      "384/384 - 1s - loss: 0.1215 - R2: 0.5803 - val_loss: 0.1167 - val_R2: -3.1811e+01\n",
      "Epoch 17/500\n",
      "384/384 - 1s - loss: 0.1222 - R2: 0.5792 - val_loss: 0.1101 - val_R2: -2.9941e+01\n",
      "Epoch 18/500\n",
      "384/384 - 1s - loss: 0.1208 - R2: 0.5505 - val_loss: 0.1073 - val_R2: -2.8992e+01\n",
      "Epoch 19/500\n",
      "384/384 - 1s - loss: 0.1211 - R2: 0.5853 - val_loss: 0.1014 - val_R2: -2.7375e+01\n",
      "Epoch 20/500\n",
      "384/384 - 1s - loss: 0.1213 - R2: 0.5862 - val_loss: 0.0984 - val_R2: -2.6618e+01\n",
      "Epoch 21/500\n",
      "384/384 - 1s - loss: 0.1204 - R2: 0.5858 - val_loss: 0.1093 - val_R2: -2.9687e+01\n",
      "Epoch 22/500\n",
      "384/384 - 1s - loss: 0.1207 - R2: 0.5896 - val_loss: 0.0980 - val_R2: -2.6435e+01\n",
      "Epoch 23/500\n",
      "384/384 - 1s - loss: 0.1204 - R2: 0.5875 - val_loss: 0.1057 - val_R2: -2.8717e+01\n",
      "Epoch 24/500\n",
      "384/384 - 1s - loss: 0.1218 - R2: 0.5848 - val_loss: 0.1080 - val_R2: -2.9337e+01\n",
      "Epoch 25/500\n",
      "384/384 - 1s - loss: 0.1215 - R2: 0.5812 - val_loss: 0.1028 - val_R2: -2.7744e+01\n",
      "Epoch 26/500\n",
      "384/384 - 1s - loss: 0.1217 - R2: 0.5840 - val_loss: 0.1199 - val_R2: -3.2789e+01\n",
      "Epoch 27/500\n",
      "384/384 - 1s - loss: 0.1205 - R2: 0.5686 - val_loss: 0.1011 - val_R2: -2.7392e+01\n",
      "Epoch 28/500\n",
      "384/384 - 1s - loss: 0.1210 - R2: 0.5818 - val_loss: 0.1011 - val_R2: -2.7229e+01\n",
      "Epoch 29/500\n",
      "384/384 - 1s - loss: 0.1209 - R2: 0.5857 - val_loss: 0.1029 - val_R2: -2.7856e+01\n",
      "Epoch 30/500\n",
      "384/384 - 1s - loss: 0.1216 - R2: 0.5830 - val_loss: 0.0971 - val_R2: -2.6159e+01\n",
      "Epoch 31/500\n",
      "384/384 - 1s - loss: 0.1207 - R2: 0.5842 - val_loss: 0.1075 - val_R2: -2.9124e+01\n",
      "Epoch 32/500\n",
      "384/384 - 1s - loss: 0.1208 - R2: 0.5851 - val_loss: 0.1195 - val_R2: -3.2539e+01\n",
      "Epoch 33/500\n",
      "384/384 - 1s - loss: 0.1210 - R2: 0.5796 - val_loss: 0.1249 - val_R2: -3.4140e+01\n",
      "Epoch 34/500\n",
      "384/384 - 1s - loss: 0.1213 - R2: 0.5855 - val_loss: 0.0981 - val_R2: -2.6539e+01\n",
      "Epoch 35/500\n",
      "384/384 - 1s - loss: 0.1198 - R2: 0.5897 - val_loss: 0.1096 - val_R2: -2.9772e+01\n",
      "Epoch 36/500\n",
      "384/384 - 1s - loss: 0.1204 - R2: 0.5801 - val_loss: 0.1063 - val_R2: -2.8882e+01\n",
      "Epoch 37/500\n",
      "384/384 - 1s - loss: 0.1202 - R2: 0.5914 - val_loss: 0.1007 - val_R2: -2.7239e+01\n",
      "Epoch 38/500\n",
      "384/384 - 1s - loss: 0.1200 - R2: 0.5733 - val_loss: 0.1290 - val_R2: -3.5316e+01\n",
      "Epoch 39/500\n",
      "384/384 - 1s - loss: 0.1199 - R2: 0.5912 - val_loss: 0.1226 - val_R2: -3.3517e+01\n",
      "Epoch 40/500\n",
      "384/384 - 1s - loss: 0.1207 - R2: 0.5828 - val_loss: 0.0896 - val_R2: -2.4080e+01\n",
      "Epoch 41/500\n",
      "384/384 - 1s - loss: 0.1204 - R2: 0.5857 - val_loss: 0.1194 - val_R2: -3.2544e+01\n",
      "Epoch 42/500\n",
      "384/384 - 1s - loss: 0.1197 - R2: 0.5902 - val_loss: 0.1003 - val_R2: -2.7255e+01\n",
      "Epoch 43/500\n",
      "384/384 - 1s - loss: 0.1201 - R2: 0.5903 - val_loss: 0.0947 - val_R2: -2.5514e+01\n",
      "Epoch 44/500\n",
      "384/384 - 1s - loss: 0.1198 - R2: 0.5894 - val_loss: 0.0892 - val_R2: -2.4047e+01\n",
      "Epoch 45/500\n",
      "384/384 - 1s - loss: 0.1202 - R2: 0.5908 - val_loss: 0.0889 - val_R2: -2.3854e+01\n",
      "Epoch 46/500\n",
      "384/384 - 1s - loss: 0.1197 - R2: 0.5918 - val_loss: 0.1070 - val_R2: -2.9108e+01\n",
      "Epoch 47/500\n",
      "384/384 - 1s - loss: 0.1195 - R2: 0.5856 - val_loss: 0.0962 - val_R2: -2.6048e+01\n",
      "Epoch 48/500\n",
      "384/384 - 1s - loss: 0.1205 - R2: 0.5808 - val_loss: 0.1142 - val_R2: -3.1147e+01\n",
      "Epoch 49/500\n",
      "384/384 - 1s - loss: 0.1204 - R2: 0.5906 - val_loss: 0.1026 - val_R2: -2.7832e+01\n",
      "Epoch 50/500\n",
      "384/384 - 1s - loss: 0.1198 - R2: 0.5875 - val_loss: 0.1048 - val_R2: -2.8472e+01\n",
      "Epoch 51/500\n",
      "384/384 - 1s - loss: 0.1191 - R2: 0.5931 - val_loss: 0.1189 - val_R2: -3.2504e+01\n",
      "Epoch 52/500\n",
      "384/384 - 1s - loss: 0.1196 - R2: 0.5912 - val_loss: 0.1030 - val_R2: -2.7922e+01\n",
      "Epoch 53/500\n",
      "384/384 - 1s - loss: 0.1187 - R2: 0.5972 - val_loss: 0.0916 - val_R2: -2.4647e+01\n",
      "Epoch 54/500\n",
      "384/384 - 1s - loss: 0.1198 - R2: 0.5894 - val_loss: 0.0936 - val_R2: -2.5199e+01\n",
      "Epoch 55/500\n",
      "384/384 - 1s - loss: 0.1197 - R2: 0.5859 - val_loss: 0.1229 - val_R2: -3.3545e+01\n",
      "Epoch 56/500\n",
      "384/384 - 1s - loss: 0.1191 - R2: 0.5926 - val_loss: 0.1027 - val_R2: -2.7939e+01\n",
      "Epoch 57/500\n",
      "384/384 - 1s - loss: 0.1196 - R2: 0.5885 - val_loss: 0.1213 - val_R2: -3.3188e+01\n",
      "Epoch 58/500\n",
      "384/384 - 1s - loss: 0.1197 - R2: 0.5866 - val_loss: 0.1199 - val_R2: -3.2673e+01\n",
      "Epoch 59/500\n",
      "384/384 - 1s - loss: 0.1207 - R2: 0.5864 - val_loss: 0.1071 - val_R2: -2.8960e+01\n",
      "Epoch 60/500\n",
      "384/384 - 1s - loss: 0.1195 - R2: 0.5918 - val_loss: 0.1099 - val_R2: -2.9786e+01\n",
      "Epoch 61/500\n",
      "384/384 - 1s - loss: 0.1197 - R2: 0.5897 - val_loss: 0.1034 - val_R2: -2.7954e+01\n",
      "Epoch 62/500\n",
      "384/384 - 1s - loss: 0.1199 - R2: 0.5756 - val_loss: 0.1147 - val_R2: -3.1269e+01\n",
      "Epoch 63/500\n",
      "384/384 - 1s - loss: 0.1188 - R2: 0.5929 - val_loss: 0.1091 - val_R2: -2.9645e+01\n",
      "Epoch 64/500\n",
      "384/384 - 1s - loss: 0.1197 - R2: 0.5940 - val_loss: 0.0941 - val_R2: -2.5371e+01\n",
      "Epoch 65/500\n",
      "384/384 - 1s - loss: 0.1198 - R2: 0.5815 - val_loss: 0.1050 - val_R2: -2.8458e+01\n",
      "Epoch 66/500\n",
      "384/384 - 1s - loss: 0.1195 - R2: 0.5908 - val_loss: 0.1039 - val_R2: -2.8161e+01\n",
      "Epoch 67/500\n",
      "384/384 - 1s - loss: 0.1192 - R2: -4.4833e-02 - val_loss: 0.1126 - val_R2: -3.0583e+01\n",
      "Epoch 68/500\n",
      "384/384 - 1s - loss: 0.1187 - R2: 0.5955 - val_loss: 0.1108 - val_R2: -3.0182e+01\n",
      "Epoch 69/500\n",
      "384/384 - 1s - loss: 0.1184 - R2: 0.5959 - val_loss: 0.1286 - val_R2: -3.5277e+01\n",
      "Epoch 70/500\n",
      "384/384 - 1s - loss: 0.1188 - R2: 0.5931 - val_loss: 0.1135 - val_R2: -3.0955e+01\n",
      "Epoch 71/500\n",
      "384/384 - 1s - loss: 0.1190 - R2: 0.5930 - val_loss: 0.0984 - val_R2: -2.6725e+01\n",
      "Epoch 72/500\n",
      "384/384 - 1s - loss: 0.1188 - R2: 0.5881 - val_loss: 0.0850 - val_R2: -2.2827e+01\n",
      "Epoch 73/500\n",
      "384/384 - 1s - loss: 0.1188 - R2: 0.5937 - val_loss: 0.1400 - val_R2: -3.8449e+01\n",
      "Epoch 74/500\n",
      "384/384 - 1s - loss: 0.1185 - R2: 0.5926 - val_loss: 0.1242 - val_R2: -3.3964e+01\n",
      "Epoch 75/500\n",
      "384/384 - 1s - loss: 0.1185 - R2: 0.5954 - val_loss: 0.1101 - val_R2: -2.9953e+01\n",
      "Epoch 76/500\n",
      "384/384 - 1s - loss: 0.1188 - R2: 0.5844 - val_loss: 0.1025 - val_R2: -2.7797e+01\n",
      "Epoch 77/500\n",
      "384/384 - 1s - loss: 0.1182 - R2: 0.5931 - val_loss: 0.0975 - val_R2: -2.6444e+01\n",
      "Epoch 78/500\n",
      "384/384 - 1s - loss: 0.1176 - R2: 0.5976 - val_loss: 0.1247 - val_R2: -3.4271e+01\n",
      "Epoch 79/500\n",
      "384/384 - 1s - loss: 0.1185 - R2: 0.5642 - val_loss: 0.1103 - val_R2: -3.0066e+01\n",
      "Epoch 80/500\n",
      "384/384 - 1s - loss: 0.1184 - R2: 0.5837 - val_loss: 0.0899 - val_R2: -2.4228e+01\n",
      "Epoch 81/500\n",
      "384/384 - 1s - loss: 0.1181 - R2: 0.5936 - val_loss: 0.1261 - val_R2: -3.4606e+01\n",
      "Epoch 82/500\n",
      "384/384 - 1s - loss: 0.1182 - R2: 0.5931 - val_loss: 0.1202 - val_R2: -3.2864e+01\n",
      "Epoch 83/500\n",
      "384/384 - 1s - loss: 0.1186 - R2: 0.5890 - val_loss: 0.1177 - val_R2: -3.2100e+01\n",
      "Epoch 84/500\n",
      "384/384 - 1s - loss: 0.1194 - R2: 0.5911 - val_loss: 0.1302 - val_R2: -3.5765e+01\n",
      "Epoch 85/500\n",
      "384/384 - 1s - loss: 0.1185 - R2: 0.5936 - val_loss: 0.1035 - val_R2: -2.8128e+01\n",
      "Epoch 86/500\n",
      "384/384 - 1s - loss: 0.1187 - R2: 0.5952 - val_loss: 0.1231 - val_R2: -3.3686e+01\n",
      "Epoch 87/500\n",
      "384/384 - 1s - loss: 0.1181 - R2: 0.5946 - val_loss: 0.1243 - val_R2: -3.4087e+01\n"
     ]
    },
    {
     "name": "stdout",
     "output_type": "stream",
     "text": [
      "Epoch 88/500\n",
      "384/384 - 1s - loss: 0.1185 - R2: 0.5931 - val_loss: 0.0961 - val_R2: -2.5993e+01\n",
      "Epoch 89/500\n",
      "384/384 - 1s - loss: 0.1181 - R2: 0.5944 - val_loss: 0.1010 - val_R2: -2.7236e+01\n",
      "Epoch 90/500\n",
      "384/384 - 1s - loss: 0.1186 - R2: 0.5936 - val_loss: 0.0880 - val_R2: -2.3660e+01\n",
      "Epoch 91/500\n",
      "384/384 - 1s - loss: 0.1186 - R2: 0.5978 - val_loss: 0.1202 - val_R2: -3.2784e+01\n",
      "Epoch 92/500\n",
      "384/384 - 1s - loss: 0.1177 - R2: 0.5940 - val_loss: 0.1115 - val_R2: -3.0396e+01\n",
      "Epoch 93/500\n",
      "384/384 - 1s - loss: 0.1176 - R2: 0.5963 - val_loss: 0.1010 - val_R2: -2.7360e+01\n",
      "Epoch 94/500\n",
      "384/384 - 1s - loss: 0.1187 - R2: 0.5975 - val_loss: 0.1331 - val_R2: -3.6459e+01\n",
      "Epoch 95/500\n",
      "384/384 - 1s - loss: 0.1184 - R2: 0.5959 - val_loss: 0.1066 - val_R2: -2.9053e+01\n",
      "Epoch 96/500\n",
      "384/384 - 1s - loss: 0.1182 - R2: 0.5931 - val_loss: 0.1146 - val_R2: -3.1259e+01\n",
      "Epoch 97/500\n",
      "384/384 - 1s - loss: 0.1188 - R2: 0.5926 - val_loss: 0.1128 - val_R2: -3.0790e+01\n",
      "Epoch 98/500\n",
      "384/384 - 1s - loss: 0.1181 - R2: 0.5943 - val_loss: 0.1150 - val_R2: -3.1478e+01\n",
      "Epoch 99/500\n",
      "384/384 - 1s - loss: 0.1174 - R2: 0.5925 - val_loss: 0.1360 - val_R2: -3.7451e+01\n",
      "Epoch 100/500\n",
      "384/384 - 1s - loss: 0.1184 - R2: 0.6000 - val_loss: 0.1145 - val_R2: -3.1402e+01\n",
      "Epoch 101/500\n",
      "384/384 - 1s - loss: 0.1179 - R2: 0.5967 - val_loss: 0.0937 - val_R2: -2.5336e+01\n",
      "Epoch 102/500\n",
      "384/384 - 1s - loss: 0.1181 - R2: 0.5952 - val_loss: 0.1053 - val_R2: -2.8706e+01\n",
      "Epoch 103/500\n",
      "384/384 - 1s - loss: 0.1182 - R2: 0.5961 - val_loss: 0.1079 - val_R2: -2.9358e+01\n",
      "Epoch 104/500\n",
      "384/384 - 1s - loss: 0.1174 - R2: 0.5995 - val_loss: 0.1176 - val_R2: -3.2146e+01\n",
      "Epoch 105/500\n",
      "384/384 - 1s - loss: 0.1179 - R2: 0.4533 - val_loss: 0.1310 - val_R2: -3.6010e+01\n",
      "Epoch 106/500\n",
      "384/384 - 1s - loss: 0.1183 - R2: 0.5942 - val_loss: 0.1292 - val_R2: -3.5470e+01\n",
      "Epoch 107/500\n",
      "384/384 - 1s - loss: 0.1185 - R2: 0.5915 - val_loss: 0.1156 - val_R2: -3.1617e+01\n",
      "Epoch 108/500\n",
      "384/384 - 1s - loss: 0.1178 - R2: 0.5927 - val_loss: 0.1283 - val_R2: -3.5159e+01\n",
      "Epoch 109/500\n",
      "384/384 - 1s - loss: 0.1177 - R2: 0.5972 - val_loss: 0.1074 - val_R2: -2.9223e+01\n",
      "Epoch 110/500\n",
      "384/384 - 1s - loss: 0.1176 - R2: 0.5932 - val_loss: 0.1334 - val_R2: -3.6627e+01\n",
      "Epoch 111/500\n",
      "384/384 - 1s - loss: 0.1179 - R2: 0.5914 - val_loss: 0.0978 - val_R2: -2.6547e+01\n",
      "Epoch 112/500\n",
      "384/384 - 1s - loss: 0.1167 - R2: 0.6010 - val_loss: 0.0963 - val_R2: -2.6007e+01\n",
      "Epoch 113/500\n",
      "384/384 - 1s - loss: 0.1178 - R2: 0.5961 - val_loss: 0.1082 - val_R2: -2.9465e+01\n",
      "Epoch 114/500\n",
      "384/384 - 1s - loss: 0.1167 - R2: 0.6005 - val_loss: 0.1029 - val_R2: -2.7997e+01\n",
      "Epoch 115/500\n",
      "384/384 - 1s - loss: 0.1178 - R2: 0.5951 - val_loss: 0.1235 - val_R2: -3.3828e+01\n",
      "Epoch 116/500\n",
      "384/384 - 1s - loss: 0.1176 - R2: 0.5952 - val_loss: 0.1076 - val_R2: -2.9233e+01\n",
      "Epoch 117/500\n",
      "384/384 - 1s - loss: 0.1169 - R2: 0.6014 - val_loss: 0.1118 - val_R2: -3.0415e+01\n",
      "Epoch 118/500\n",
      "384/384 - 1s - loss: 0.1172 - R2: 0.5972 - val_loss: 0.1013 - val_R2: -2.7526e+01\n",
      "Epoch 119/500\n",
      "384/384 - 1s - loss: 0.1171 - R2: 0.6029 - val_loss: 0.1058 - val_R2: -2.8824e+01\n",
      "Epoch 120/500\n",
      "384/384 - 1s - loss: 0.1167 - R2: 0.5987 - val_loss: 0.1184 - val_R2: -3.2505e+01\n",
      "Epoch 121/500\n",
      "384/384 - 1s - loss: 0.1171 - R2: 0.6017 - val_loss: 0.1328 - val_R2: -3.6508e+01\n",
      "Epoch 122/500\n",
      "384/384 - 1s - loss: 0.1170 - R2: 0.6001 - val_loss: 0.0990 - val_R2: -2.6983e+01\n",
      "Epoch 123/500\n",
      "384/384 - 1s - loss: 0.1175 - R2: 0.5991 - val_loss: 0.1129 - val_R2: -3.0830e+01\n",
      "Epoch 124/500\n",
      "384/384 - 1s - loss: 0.1170 - R2: 0.5875 - val_loss: 0.1268 - val_R2: -3.4697e+01\n",
      "Epoch 125/500\n",
      "384/384 - 1s - loss: 0.1174 - R2: 0.5949 - val_loss: 0.1249 - val_R2: -3.4232e+01\n",
      "Epoch 126/500\n",
      "384/384 - 1s - loss: 0.1168 - R2: 0.5992 - val_loss: 0.1011 - val_R2: -2.7380e+01\n",
      "Epoch 127/500\n",
      "384/384 - 1s - loss: 0.1179 - R2: 0.5959 - val_loss: 0.0968 - val_R2: -2.6212e+01\n",
      "Epoch 128/500\n",
      "384/384 - 1s - loss: 0.1163 - R2: 0.6011 - val_loss: 0.1251 - val_R2: -3.4435e+01\n",
      "Epoch 129/500\n",
      "384/384 - 1s - loss: 0.1167 - R2: 0.6041 - val_loss: 0.1296 - val_R2: -3.5633e+01\n",
      "Epoch 130/500\n",
      "384/384 - 1s - loss: 0.1170 - R2: 0.6006 - val_loss: 0.1190 - val_R2: -3.2550e+01\n",
      "Epoch 131/500\n",
      "384/384 - 1s - loss: 0.1168 - R2: 0.5979 - val_loss: 0.1061 - val_R2: -2.8850e+01\n",
      "Epoch 132/500\n",
      "384/384 - 1s - loss: 0.1166 - R2: 0.5879 - val_loss: 0.1112 - val_R2: -3.0332e+01\n",
      "Epoch 133/500\n",
      "384/384 - 1s - loss: 0.1171 - R2: 0.6022 - val_loss: 0.1203 - val_R2: -3.2996e+01\n",
      "Epoch 134/500\n",
      "384/384 - 1s - loss: 0.1173 - R2: 0.5961 - val_loss: 0.1500 - val_R2: -4.1452e+01\n",
      "Epoch 135/500\n",
      "384/384 - 1s - loss: 0.1165 - R2: 0.5981 - val_loss: 0.1072 - val_R2: -2.9142e+01\n",
      "Epoch 136/500\n",
      "384/384 - 1s - loss: 0.1171 - R2: 0.5464 - val_loss: 0.1298 - val_R2: -3.5699e+01\n",
      "Epoch 137/500\n",
      "384/384 - 1s - loss: 0.1160 - R2: 0.6048 - val_loss: 0.1141 - val_R2: -3.1056e+01\n",
      "Epoch 138/500\n",
      "384/384 - 1s - loss: 0.1168 - R2: 0.6007 - val_loss: 0.1109 - val_R2: -3.0244e+01\n",
      "Epoch 139/500\n",
      "384/384 - 1s - loss: 0.1165 - R2: 0.6030 - val_loss: 0.0964 - val_R2: -2.6177e+01\n",
      "Epoch 140/500\n",
      "384/384 - 1s - loss: 0.1172 - R2: 0.5982 - val_loss: 0.1116 - val_R2: -3.0655e+01\n",
      "Epoch 141/500\n",
      "384/384 - 1s - loss: 0.1168 - R2: 0.6049 - val_loss: 0.1403 - val_R2: -3.8667e+01\n",
      "Epoch 142/500\n",
      "384/384 - 1s - loss: 0.1169 - R2: 0.5970 - val_loss: 0.1150 - val_R2: -3.1441e+01\n",
      "Epoch 143/500\n",
      "384/384 - 1s - loss: 0.1174 - R2: 0.5966 - val_loss: 0.1054 - val_R2: -2.8612e+01\n",
      "Epoch 144/500\n",
      "384/384 - 1s - loss: 0.1168 - R2: 0.6021 - val_loss: 0.1093 - val_R2: -2.9855e+01\n",
      "Epoch 145/500\n",
      "384/384 - 1s - loss: 0.1167 - R2: 0.6010 - val_loss: 0.1300 - val_R2: -3.5749e+01\n",
      "Epoch 146/500\n",
      "384/384 - 1s - loss: 0.1168 - R2: 0.5975 - val_loss: 0.1390 - val_R2: -3.8238e+01\n",
      "Epoch 147/500\n",
      "384/384 - 1s - loss: 0.1165 - R2: 0.6006 - val_loss: 0.1240 - val_R2: -3.3967e+01\n",
      "Epoch 148/500\n",
      "384/384 - 1s - loss: 0.1161 - R2: 0.5972 - val_loss: 0.1096 - val_R2: -2.9741e+01\n",
      "Epoch 149/500\n",
      "384/384 - 1s - loss: 0.1165 - R2: 0.5988 - val_loss: 0.1125 - val_R2: -3.0709e+01\n",
      "Epoch 150/500\n",
      "384/384 - 1s - loss: 0.1163 - R2: 0.5956 - val_loss: 0.1640 - val_R2: -4.5336e+01\n",
      "Epoch 151/500\n",
      "384/384 - 1s - loss: 0.1164 - R2: 0.6010 - val_loss: 0.1109 - val_R2: -3.0118e+01\n",
      "Epoch 152/500\n",
      "384/384 - 1s - loss: 0.1159 - R2: 0.6027 - val_loss: 0.1170 - val_R2: -3.1958e+01\n",
      "Epoch 153/500\n",
      "384/384 - 1s - loss: 0.1162 - R2: 0.6032 - val_loss: 0.1105 - val_R2: -3.0181e+01\n",
      "Epoch 154/500\n",
      "384/384 - 1s - loss: 0.1159 - R2: 0.6008 - val_loss: 0.0897 - val_R2: -2.4298e+01\n",
      "Epoch 155/500\n",
      "384/384 - 1s - loss: 0.1166 - R2: 0.6023 - val_loss: 0.1068 - val_R2: -2.9064e+01\n",
      "Epoch 156/500\n",
      "384/384 - 1s - loss: 0.1177 - R2: 0.5946 - val_loss: 0.1099 - val_R2: -3.0033e+01\n",
      "Epoch 157/500\n",
      "384/384 - 1s - loss: 0.1168 - R2: 0.6002 - val_loss: 0.1008 - val_R2: -2.7472e+01\n",
      "Epoch 158/500\n",
      "384/384 - 1s - loss: 0.1170 - R2: 0.5990 - val_loss: 0.1131 - val_R2: -3.0886e+01\n",
      "Epoch 159/500\n",
      "384/384 - 1s - loss: 0.1168 - R2: 0.6000 - val_loss: 0.1046 - val_R2: -2.8558e+01\n",
      "Epoch 160/500\n",
      "384/384 - 1s - loss: 0.1155 - R2: 0.6021 - val_loss: 0.1225 - val_R2: -3.3492e+01\n",
      "Epoch 161/500\n",
      "384/384 - 1s - loss: 0.1168 - R2: 0.5984 - val_loss: 0.1249 - val_R2: -3.4321e+01\n",
      "Epoch 162/500\n",
      "384/384 - 1s - loss: 0.1151 - R2: 0.6043 - val_loss: 0.1100 - val_R2: -3.0034e+01\n",
      "Epoch 163/500\n",
      "384/384 - 1s - loss: 0.1164 - R2: 0.5923 - val_loss: 0.1235 - val_R2: -3.3884e+01\n",
      "Epoch 164/500\n",
      "384/384 - 1s - loss: 0.1157 - R2: 0.5684 - val_loss: 0.1095 - val_R2: -2.9852e+01\n",
      "Epoch 165/500\n",
      "384/384 - 1s - loss: 0.1153 - R2: 0.5998 - val_loss: 0.1004 - val_R2: -2.7425e+01\n",
      "Epoch 166/500\n",
      "384/384 - 1s - loss: 0.1154 - R2: 0.6059 - val_loss: 0.1098 - val_R2: -3.0092e+01\n",
      "Epoch 167/500\n",
      "384/384 - 1s - loss: 0.1162 - R2: 0.6006 - val_loss: 0.0931 - val_R2: -2.5145e+01\n",
      "Epoch 168/500\n",
      "384/384 - 1s - loss: 0.1168 - R2: 0.5883 - val_loss: 0.0949 - val_R2: -2.5627e+01\n",
      "Epoch 169/500\n",
      "384/384 - 1s - loss: 0.1157 - R2: 0.5961 - val_loss: 0.0927 - val_R2: -2.5154e+01\n",
      "Epoch 170/500\n",
      "384/384 - 1s - loss: 0.1163 - R2: 0.6038 - val_loss: 0.1396 - val_R2: -3.8262e+01\n",
      "Epoch 171/500\n",
      "384/384 - 1s - loss: 0.1156 - R2: 0.5985 - val_loss: 0.1067 - val_R2: -2.9183e+01\n",
      "Epoch 172/500\n",
      "384/384 - 1s - loss: 0.1155 - R2: 0.6021 - val_loss: 0.1342 - val_R2: -3.6856e+01\n",
      "Epoch 173/500\n",
      "384/384 - 1s - loss: 0.1167 - R2: 0.5972 - val_loss: 0.1100 - val_R2: -3.0161e+01\n"
     ]
    },
    {
     "name": "stdout",
     "output_type": "stream",
     "text": [
      "Epoch 174/500\n",
      "384/384 - 1s - loss: 0.1162 - R2: 0.5997 - val_loss: 0.1094 - val_R2: -3.0006e+01\n",
      "Epoch 175/500\n",
      "384/384 - 1s - loss: 0.1153 - R2: 0.5990 - val_loss: 0.1008 - val_R2: -2.7390e+01\n",
      "Epoch 176/500\n",
      "384/384 - 1s - loss: 0.1150 - R2: 0.6022 - val_loss: 0.0856 - val_R2: -2.3069e+01\n",
      "Epoch 177/500\n",
      "384/384 - 1s - loss: 0.1166 - R2: 0.5985 - val_loss: 0.0998 - val_R2: -2.7159e+01\n",
      "Epoch 178/500\n",
      "384/384 - 1s - loss: 0.1161 - R2: 0.6041 - val_loss: 0.1259 - val_R2: -3.4731e+01\n",
      "Epoch 179/500\n",
      "384/384 - 1s - loss: 0.1154 - R2: 0.6039 - val_loss: 0.1054 - val_R2: -2.8661e+01\n",
      "Epoch 180/500\n",
      "384/384 - 1s - loss: 0.1156 - R2: 0.5994 - val_loss: 0.0922 - val_R2: -2.5031e+01\n",
      "Epoch 181/500\n",
      "384/384 - 1s - loss: 0.1164 - R2: 0.6000 - val_loss: 0.1259 - val_R2: -3.4638e+01\n",
      "Epoch 182/500\n",
      "384/384 - 1s - loss: 0.1159 - R2: 0.6011 - val_loss: 0.1400 - val_R2: -3.8657e+01\n",
      "Epoch 183/500\n",
      "384/384 - 1s - loss: 0.1160 - R2: -9.5127e+00 - val_loss: 0.1040 - val_R2: -2.8402e+01\n",
      "Epoch 184/500\n",
      "384/384 - 1s - loss: 0.1149 - R2: 0.6096 - val_loss: 0.0867 - val_R2: -2.3498e+01\n",
      "Epoch 185/500\n",
      "384/384 - 1s - loss: 0.1160 - R2: 0.6016 - val_loss: 0.1294 - val_R2: -3.5556e+01\n",
      "Epoch 186/500\n",
      "384/384 - 1s - loss: 0.1149 - R2: 0.6080 - val_loss: 0.0979 - val_R2: -2.6432e+01\n",
      "Epoch 187/500\n",
      "384/384 - 1s - loss: 0.1155 - R2: 0.6057 - val_loss: 0.1425 - val_R2: -3.9428e+01\n",
      "Epoch 188/500\n",
      "384/384 - 1s - loss: 0.1152 - R2: 0.5945 - val_loss: 0.1232 - val_R2: -3.3911e+01\n",
      "Epoch 189/500\n",
      "384/384 - 1s - loss: 0.1151 - R2: 0.6013 - val_loss: 0.1173 - val_R2: -3.1981e+01\n",
      "Epoch 190/500\n",
      "384/384 - 1s - loss: 0.1155 - R2: 0.6051 - val_loss: 0.1037 - val_R2: -2.8307e+01\n",
      "Epoch 191/500\n",
      "384/384 - 1s - loss: 0.1157 - R2: 0.6010 - val_loss: 0.0995 - val_R2: -2.7116e+01\n",
      "Epoch 192/500\n",
      "384/384 - 1s - loss: 0.1157 - R2: 0.5897 - val_loss: 0.1293 - val_R2: -3.5456e+01\n",
      "Epoch 193/500\n",
      "384/384 - 1s - loss: 0.1153 - R2: 0.6048 - val_loss: 0.1141 - val_R2: -3.1146e+01\n",
      "Epoch 194/500\n",
      "384/384 - 1s - loss: 0.1151 - R2: 0.6062 - val_loss: 0.1014 - val_R2: -2.7707e+01\n",
      "Epoch 195/500\n",
      "384/384 - 1s - loss: 0.1160 - R2: 0.6016 - val_loss: 0.1021 - val_R2: -2.7473e+01\n",
      "Epoch 196/500\n",
      "384/384 - 1s - loss: 0.1150 - R2: 0.6049 - val_loss: 0.1503 - val_R2: -4.1563e+01\n",
      "Epoch 197/500\n",
      "384/384 - 1s - loss: 0.1158 - R2: 0.5987 - val_loss: 0.0944 - val_R2: -2.5504e+01\n",
      "Epoch 198/500\n",
      "384/384 - 1s - loss: 0.1152 - R2: 0.6042 - val_loss: 0.1309 - val_R2: -3.5876e+01\n",
      "Epoch 199/500\n",
      "384/384 - 1s - loss: 0.1154 - R2: 0.6073 - val_loss: 0.0931 - val_R2: -2.5156e+01\n",
      "Epoch 200/500\n",
      "384/384 - 1s - loss: 0.1151 - R2: 0.6045 - val_loss: 0.1400 - val_R2: -3.8438e+01\n",
      "Epoch 201/500\n",
      "384/384 - 1s - loss: 0.1159 - R2: 0.5909 - val_loss: 0.0948 - val_R2: -2.5718e+01\n",
      "Epoch 202/500\n",
      "384/384 - 1s - loss: 0.1153 - R2: 0.6033 - val_loss: 0.1193 - val_R2: -3.2614e+01\n",
      "Epoch 203/500\n",
      "384/384 - 1s - loss: 0.1159 - R2: 0.5889 - val_loss: 0.0995 - val_R2: -2.7132e+01\n",
      "Epoch 204/500\n",
      "384/384 - 1s - loss: 0.1142 - R2: 0.6005 - val_loss: 0.1298 - val_R2: -3.5710e+01\n",
      "Epoch 205/500\n",
      "384/384 - 1s - loss: 0.1145 - R2: 0.6091 - val_loss: 0.1039 - val_R2: -2.8266e+01\n",
      "Epoch 206/500\n",
      "384/384 - 1s - loss: 0.1147 - R2: 0.6060 - val_loss: 0.1012 - val_R2: -2.7617e+01\n",
      "Epoch 207/500\n",
      "384/384 - 1s - loss: 0.1148 - R2: 0.6041 - val_loss: 0.1227 - val_R2: -3.3524e+01\n",
      "Epoch 208/500\n",
      "384/384 - 1s - loss: 0.1147 - R2: 0.6038 - val_loss: 0.1141 - val_R2: -3.1337e+01\n",
      "Epoch 209/500\n",
      "384/384 - 1s - loss: 0.1150 - R2: 0.6039 - val_loss: 0.1265 - val_R2: -3.4767e+01\n",
      "Epoch 210/500\n",
      "384/384 - 1s - loss: 0.1140 - R2: 0.6038 - val_loss: 0.1084 - val_R2: -2.9668e+01\n",
      "Epoch 211/500\n",
      "384/384 - 1s - loss: 0.1154 - R2: 0.6039 - val_loss: 0.1028 - val_R2: -2.8019e+01\n",
      "Epoch 212/500\n",
      "384/384 - 1s - loss: 0.1154 - R2: 0.6047 - val_loss: 0.0800 - val_R2: -2.1523e+01\n",
      "Epoch 213/500\n",
      "384/384 - 1s - loss: 0.1154 - R2: 0.6020 - val_loss: 0.1203 - val_R2: -3.2979e+01\n",
      "Epoch 214/500\n",
      "384/384 - 1s - loss: 0.1144 - R2: -8.2637e+00 - val_loss: 0.1042 - val_R2: -2.8352e+01\n",
      "Epoch 215/500\n",
      "384/384 - 1s - loss: 0.1154 - R2: 0.6058 - val_loss: 0.1037 - val_R2: -2.8144e+01\n",
      "Epoch 216/500\n",
      "384/384 - 1s - loss: 0.1140 - R2: 0.6060 - val_loss: 0.1202 - val_R2: -3.2947e+01\n",
      "Epoch 217/500\n",
      "384/384 - 1s - loss: 0.1152 - R2: 0.5972 - val_loss: 0.1095 - val_R2: -2.9903e+01\n",
      "Epoch 218/500\n",
      "384/384 - 1s - loss: 0.1148 - R2: 0.6061 - val_loss: 0.1266 - val_R2: -3.4957e+01\n",
      "Epoch 219/500\n",
      "384/384 - 1s - loss: 0.1153 - R2: 0.6048 - val_loss: 0.0863 - val_R2: -2.3267e+01\n",
      "Epoch 220/500\n",
      "384/384 - 1s - loss: 0.1143 - R2: 0.6109 - val_loss: 0.1025 - val_R2: -2.7882e+01\n",
      "Epoch 221/500\n",
      "384/384 - 1s - loss: 0.1138 - R2: 0.6059 - val_loss: 0.1067 - val_R2: -2.9186e+01\n",
      "Epoch 222/500\n",
      "384/384 - 1s - loss: 0.1148 - R2: 0.6034 - val_loss: 0.1335 - val_R2: -3.6713e+01\n",
      "Epoch 223/500\n",
      "384/384 - 1s - loss: 0.1150 - R2: 0.6045 - val_loss: 0.1056 - val_R2: -2.8933e+01\n",
      "Epoch 224/500\n",
      "384/384 - 1s - loss: 0.1146 - R2: 0.6059 - val_loss: 0.1045 - val_R2: -2.8407e+01\n",
      "Epoch 225/500\n",
      "384/384 - 1s - loss: 0.1151 - R2: 0.6058 - val_loss: 0.1321 - val_R2: -3.6490e+01\n",
      "Epoch 226/500\n",
      "384/384 - 1s - loss: 0.1146 - R2: 0.5949 - val_loss: 0.0981 - val_R2: -2.6718e+01\n",
      "Epoch 227/500\n",
      "384/384 - 1s - loss: 0.1149 - R2: 0.6093 - val_loss: 0.0929 - val_R2: -2.5082e+01\n",
      "Epoch 228/500\n",
      "384/384 - 1s - loss: 0.1146 - R2: 0.6008 - val_loss: 0.1366 - val_R2: -3.7592e+01\n",
      "Epoch 229/500\n",
      "384/384 - 1s - loss: 0.1145 - R2: 0.6059 - val_loss: 0.1069 - val_R2: -2.8774e+01\n",
      "Epoch 230/500\n",
      "384/384 - 1s - loss: 0.1144 - R2: 0.6039 - val_loss: 0.1237 - val_R2: -3.3908e+01\n",
      "Epoch 231/500\n",
      "384/384 - 1s - loss: 0.1149 - R2: 0.6011 - val_loss: 0.1072 - val_R2: -2.9291e+01\n",
      "Epoch 232/500\n",
      "384/384 - 1s - loss: 0.1147 - R2: 0.6028 - val_loss: 0.0887 - val_R2: -2.3752e+01\n",
      "Epoch 233/500\n",
      "384/384 - 1s - loss: 0.1145 - R2: 0.6101 - val_loss: 0.0959 - val_R2: -2.5946e+01\n",
      "Epoch 234/500\n",
      "384/384 - 1s - loss: 0.1141 - R2: 0.6021 - val_loss: 0.0926 - val_R2: -2.5107e+01\n",
      "Epoch 235/500\n",
      "384/384 - 1s - loss: 0.1150 - R2: 0.6065 - val_loss: 0.1215 - val_R2: -3.3311e+01\n",
      "Epoch 236/500\n",
      "384/384 - 1s - loss: 0.1145 - R2: 0.6094 - val_loss: 0.1103 - val_R2: -3.0178e+01\n",
      "Epoch 237/500\n",
      "384/384 - 1s - loss: 0.1144 - R2: 0.6042 - val_loss: 0.1359 - val_R2: -3.7543e+01\n",
      "Epoch 238/500\n",
      "384/384 - 1s - loss: 0.1142 - R2: 0.6091 - val_loss: 0.1151 - val_R2: -3.1314e+01\n",
      "Epoch 239/500\n",
      "384/384 - 1s - loss: 0.1142 - R2: 0.6089 - val_loss: 0.1193 - val_R2: -3.2699e+01\n",
      "Epoch 240/500\n",
      "384/384 - 1s - loss: 0.1139 - R2: 0.6046 - val_loss: 0.0856 - val_R2: -2.3111e+01\n",
      "Epoch 241/500\n",
      "384/384 - 1s - loss: 0.1147 - R2: 0.5910 - val_loss: 0.1009 - val_R2: -2.7511e+01\n",
      "Epoch 242/500\n",
      "384/384 - 1s - loss: 0.1137 - R2: 0.6098 - val_loss: 0.1080 - val_R2: -2.9481e+01\n",
      "Epoch 243/500\n",
      "384/384 - 1s - loss: 0.1140 - R2: 0.6098 - val_loss: 0.1023 - val_R2: -2.7881e+01\n",
      "Epoch 244/500\n",
      "384/384 - 1s - loss: 0.1143 - R2: 0.5911 - val_loss: 0.1130 - val_R2: -3.0913e+01\n",
      "Epoch 245/500\n",
      "384/384 - 1s - loss: 0.1142 - R2: 0.6066 - val_loss: 0.0987 - val_R2: -2.7036e+01\n",
      "Epoch 246/500\n",
      "384/384 - 1s - loss: 0.1144 - R2: 0.6096 - val_loss: 0.0885 - val_R2: -2.3906e+01\n",
      "Epoch 247/500\n",
      "384/384 - 1s - loss: 0.1149 - R2: 0.6069 - val_loss: 0.1285 - val_R2: -3.5240e+01\n",
      "Epoch 248/500\n",
      "384/384 - 1s - loss: 0.1144 - R2: 0.6073 - val_loss: 0.1281 - val_R2: -3.5301e+01\n",
      "Epoch 249/500\n",
      "384/384 - 1s - loss: 0.1136 - R2: 0.6067 - val_loss: 0.1244 - val_R2: -3.4147e+01\n",
      "Epoch 250/500\n",
      "384/384 - 1s - loss: 0.1139 - R2: 0.6055 - val_loss: 0.1221 - val_R2: -3.3762e+01\n",
      "Epoch 251/500\n",
      "384/384 - 1s - loss: 0.1140 - R2: 0.6039 - val_loss: 0.1336 - val_R2: -3.6876e+01\n",
      "Epoch 252/500\n",
      "384/384 - 1s - loss: 0.1136 - R2: 0.6062 - val_loss: 0.1399 - val_R2: -3.8725e+01\n",
      "Epoch 253/500\n",
      "384/384 - 1s - loss: 0.1145 - R2: 0.6087 - val_loss: 0.1212 - val_R2: -3.3242e+01\n",
      "Epoch 254/500\n",
      "384/384 - 1s - loss: 0.1149 - R2: 0.6082 - val_loss: 0.1368 - val_R2: -3.7574e+01\n",
      "Epoch 255/500\n",
      "384/384 - 1s - loss: 0.1136 - R2: 0.6106 - val_loss: 0.0970 - val_R2: -2.6440e+01\n",
      "Epoch 256/500\n",
      "384/384 - 1s - loss: 0.1140 - R2: 0.6092 - val_loss: 0.1385 - val_R2: -3.8323e+01\n",
      "Epoch 257/500\n",
      "384/384 - 1s - loss: 0.1137 - R2: 0.6086 - val_loss: 0.1431 - val_R2: -3.9536e+01\n",
      "Epoch 258/500\n",
      "384/384 - 1s - loss: 0.1136 - R2: 0.6063 - val_loss: 0.0939 - val_R2: -2.5341e+01\n",
      "Epoch 259/500\n",
      "384/384 - 1s - loss: 0.1141 - R2: 0.6067 - val_loss: 0.1116 - val_R2: -3.0650e+01\n"
     ]
    },
    {
     "name": "stdout",
     "output_type": "stream",
     "text": [
      "Epoch 260/500\n",
      "384/384 - 1s - loss: 0.1137 - R2: 0.6120 - val_loss: 0.1395 - val_R2: -3.8655e+01\n",
      "Epoch 261/500\n",
      "384/384 - 1s - loss: 0.1139 - R2: 0.6056 - val_loss: 0.0943 - val_R2: -2.5586e+01\n",
      "Epoch 262/500\n",
      "384/384 - 1s - loss: 0.1135 - R2: 0.6106 - val_loss: 0.1163 - val_R2: -3.1791e+01\n",
      "Epoch 263/500\n",
      "384/384 - 1s - loss: 0.1139 - R2: 0.6062 - val_loss: 0.1324 - val_R2: -3.6547e+01\n",
      "Epoch 264/500\n",
      "384/384 - 1s - loss: 0.1137 - R2: 0.6081 - val_loss: 0.1247 - val_R2: -3.4073e+01\n",
      "Epoch 265/500\n",
      "384/384 - 1s - loss: 0.1141 - R2: 0.6074 - val_loss: 0.1397 - val_R2: -3.8760e+01\n",
      "Epoch 266/500\n",
      "384/384 - 1s - loss: 0.1141 - R2: 0.6074 - val_loss: 0.1174 - val_R2: -3.2243e+01\n",
      "Epoch 267/500\n",
      "384/384 - 1s - loss: 0.1142 - R2: 0.6014 - val_loss: 0.1145 - val_R2: -3.1171e+01\n",
      "Epoch 268/500\n",
      "384/384 - 1s - loss: 0.1144 - R2: 0.6097 - val_loss: 0.1206 - val_R2: -3.3238e+01\n",
      "Epoch 269/500\n",
      "384/384 - 1s - loss: 0.1136 - R2: 0.6114 - val_loss: 0.1117 - val_R2: -3.0740e+01\n",
      "Epoch 270/500\n",
      "384/384 - 1s - loss: 0.1138 - R2: 0.6050 - val_loss: 0.1277 - val_R2: -3.5202e+01\n",
      "Epoch 271/500\n",
      "384/384 - 1s - loss: 0.1134 - R2: 0.6086 - val_loss: 0.1246 - val_R2: -3.4310e+01\n",
      "Epoch 272/500\n",
      "384/384 - 1s - loss: 0.1138 - R2: 0.6076 - val_loss: 0.1480 - val_R2: -4.0775e+01\n",
      "Epoch 273/500\n",
      "384/384 - 1s - loss: 0.1144 - R2: 0.5985 - val_loss: 0.0996 - val_R2: -2.7200e+01\n",
      "Epoch 274/500\n",
      "384/384 - 1s - loss: 0.1140 - R2: 0.6074 - val_loss: 0.1166 - val_R2: -3.1815e+01\n",
      "Epoch 275/500\n",
      "384/384 - 1s - loss: 0.1133 - R2: 0.6096 - val_loss: 0.1133 - val_R2: -3.0959e+01\n",
      "Epoch 276/500\n",
      "384/384 - 1s - loss: 0.1136 - R2: 0.6079 - val_loss: 0.0991 - val_R2: -2.6837e+01\n",
      "Epoch 277/500\n",
      "384/384 - 1s - loss: 0.1144 - R2: 0.6063 - val_loss: 0.1418 - val_R2: -3.9168e+01\n",
      "Epoch 278/500\n",
      "384/384 - 1s - loss: 0.1144 - R2: 0.6089 - val_loss: 0.1100 - val_R2: -3.0111e+01\n",
      "Epoch 279/500\n",
      "384/384 - 1s - loss: 0.1145 - R2: 0.6067 - val_loss: 0.1389 - val_R2: -3.8323e+01\n",
      "Epoch 280/500\n",
      "384/384 - 1s - loss: 0.1136 - R2: 0.4544 - val_loss: 0.0859 - val_R2: -2.3157e+01\n",
      "Epoch 281/500\n",
      "384/384 - 1s - loss: 0.1132 - R2: 0.5681 - val_loss: 0.1198 - val_R2: -3.2913e+01\n",
      "Epoch 282/500\n",
      "384/384 - 1s - loss: 0.1140 - R2: 0.6091 - val_loss: 0.1076 - val_R2: -2.9419e+01\n",
      "Epoch 283/500\n",
      "384/384 - 1s - loss: 0.1135 - R2: 0.6061 - val_loss: 0.1161 - val_R2: -3.1978e+01\n",
      "Epoch 284/500\n",
      "384/384 - 1s - loss: 0.1131 - R2: 0.6134 - val_loss: 0.1429 - val_R2: -3.9624e+01\n",
      "Epoch 285/500\n",
      "384/384 - 1s - loss: 0.1144 - R2: 0.6064 - val_loss: 0.1012 - val_R2: -2.7515e+01\n",
      "Epoch 286/500\n",
      "384/384 - 1s - loss: 0.1136 - R2: 0.6104 - val_loss: 0.1140 - val_R2: -3.1203e+01\n",
      "Epoch 287/500\n",
      "384/384 - 1s - loss: 0.1129 - R2: 0.6093 - val_loss: 0.1109 - val_R2: -3.0436e+01\n",
      "Epoch 288/500\n",
      "384/384 - 1s - loss: 0.1130 - R2: 0.5883 - val_loss: 0.1190 - val_R2: -3.2525e+01\n",
      "Epoch 289/500\n",
      "384/384 - 1s - loss: 0.1138 - R2: 0.6073 - val_loss: 0.1006 - val_R2: -2.7458e+01\n",
      "Epoch 290/500\n",
      "384/384 - 1s - loss: 0.1134 - R2: 0.6080 - val_loss: 0.1118 - val_R2: -3.0677e+01\n",
      "Epoch 291/500\n",
      "384/384 - 1s - loss: 0.1144 - R2: 0.6071 - val_loss: 0.1332 - val_R2: -3.6824e+01\n",
      "Epoch 292/500\n",
      "384/384 - 1s - loss: 0.1132 - R2: 0.6116 - val_loss: 0.1392 - val_R2: -3.8389e+01\n",
      "Epoch 293/500\n",
      "384/384 - 1s - loss: 0.1135 - R2: 0.6103 - val_loss: 0.1080 - val_R2: -2.9677e+01\n",
      "Epoch 294/500\n",
      "384/384 - 1s - loss: 0.1136 - R2: 0.6099 - val_loss: 0.1162 - val_R2: -3.1833e+01\n",
      "Epoch 295/500\n",
      "384/384 - 1s - loss: 0.1132 - R2: 0.6084 - val_loss: 0.1438 - val_R2: -3.9815e+01\n",
      "Epoch 296/500\n",
      "384/384 - 1s - loss: 0.1138 - R2: 0.6060 - val_loss: 0.1333 - val_R2: -3.6804e+01\n",
      "Epoch 297/500\n",
      "384/384 - 1s - loss: 0.1136 - R2: 0.6036 - val_loss: 0.1230 - val_R2: -3.3953e+01\n",
      "Epoch 298/500\n",
      "384/384 - 1s - loss: 0.1133 - R2: 0.6112 - val_loss: 0.0998 - val_R2: -2.7233e+01\n",
      "Epoch 299/500\n",
      "384/384 - 1s - loss: 0.1141 - R2: 0.5062 - val_loss: 0.0952 - val_R2: -2.5899e+01\n",
      "Epoch 300/500\n",
      "384/384 - 1s - loss: 0.1138 - R2: 0.6016 - val_loss: 0.1186 - val_R2: -3.2443e+01\n",
      "Epoch 301/500\n",
      "384/384 - 1s - loss: 0.1136 - R2: 0.6063 - val_loss: 0.0966 - val_R2: -2.6136e+01\n",
      "Epoch 302/500\n",
      "384/384 - 1s - loss: 0.1140 - R2: 0.5984 - val_loss: 0.1449 - val_R2: -4.0062e+01\n",
      "Epoch 303/500\n",
      "384/384 - 1s - loss: 0.1134 - R2: 0.6142 - val_loss: 0.1096 - val_R2: -2.9990e+01\n",
      "Epoch 304/500\n",
      "384/384 - 1s - loss: 0.1131 - R2: 0.6142 - val_loss: 0.1048 - val_R2: -2.8511e+01\n",
      "Epoch 305/500\n",
      "384/384 - 1s - loss: 0.1131 - R2: 0.6106 - val_loss: 0.1388 - val_R2: -3.8258e+01\n",
      "Epoch 306/500\n",
      "384/384 - 1s - loss: 0.1126 - R2: 0.6102 - val_loss: 0.1287 - val_R2: -3.5427e+01\n",
      "Epoch 307/500\n",
      "384/384 - 1s - loss: 0.1130 - R2: 0.6090 - val_loss: 0.1153 - val_R2: -3.1525e+01\n",
      "Epoch 308/500\n",
      "384/384 - 1s - loss: 0.1133 - R2: 0.6062 - val_loss: 0.1111 - val_R2: -3.0438e+01\n",
      "Epoch 309/500\n",
      "384/384 - 1s - loss: 0.1128 - R2: 0.6123 - val_loss: 0.1107 - val_R2: -3.0290e+01\n",
      "Epoch 310/500\n",
      "384/384 - 1s - loss: 0.1129 - R2: 0.6127 - val_loss: 0.1044 - val_R2: -2.8472e+01\n",
      "Epoch 311/500\n",
      "384/384 - 1s - loss: 0.1134 - R2: 0.6065 - val_loss: 0.0900 - val_R2: -2.4347e+01\n",
      "Epoch 312/500\n",
      "384/384 - 1s - loss: 0.1131 - R2: 0.6073 - val_loss: 0.1428 - val_R2: -3.9597e+01\n",
      "Epoch 313/500\n",
      "384/384 - 1s - loss: 0.1136 - R2: 0.6102 - val_loss: 0.1050 - val_R2: -2.8662e+01\n",
      "Epoch 314/500\n",
      "384/384 - 1s - loss: 0.1129 - R2: 0.6078 - val_loss: 0.1094 - val_R2: -3.0041e+01\n",
      "Epoch 315/500\n",
      "384/384 - 1s - loss: 0.1133 - R2: 0.5683 - val_loss: 0.1193 - val_R2: -3.2930e+01\n",
      "Epoch 316/500\n",
      "384/384 - 1s - loss: 0.1130 - R2: 0.5972 - val_loss: 0.1415 - val_R2: -3.9028e+01\n",
      "Epoch 317/500\n",
      "384/384 - 1s - loss: 0.1132 - R2: 0.6092 - val_loss: 0.1427 - val_R2: -3.9502e+01\n",
      "Epoch 318/500\n",
      "384/384 - 1s - loss: 0.1126 - R2: 0.6141 - val_loss: 0.0838 - val_R2: -2.2691e+01\n",
      "Epoch 319/500\n",
      "384/384 - 1s - loss: 0.1129 - R2: 0.6100 - val_loss: 0.1309 - val_R2: -3.5920e+01\n",
      "Epoch 320/500\n",
      "384/384 - 1s - loss: 0.1126 - R2: 0.6153 - val_loss: 0.1218 - val_R2: -3.3568e+01\n",
      "Epoch 321/500\n",
      "384/384 - 1s - loss: 0.1127 - R2: 0.6091 - val_loss: 0.0938 - val_R2: -2.5385e+01\n",
      "Epoch 322/500\n",
      "384/384 - 1s - loss: 0.1128 - R2: 0.6128 - val_loss: 0.1211 - val_R2: -3.3154e+01\n",
      "Epoch 323/500\n",
      "384/384 - 1s - loss: 0.1131 - R2: 0.6080 - val_loss: 0.1247 - val_R2: -3.4345e+01\n",
      "Epoch 324/500\n",
      "384/384 - 1s - loss: 0.1137 - R2: 0.6084 - val_loss: 0.1327 - val_R2: -3.6586e+01\n",
      "Epoch 325/500\n",
      "384/384 - 1s - loss: 0.1130 - R2: 0.6083 - val_loss: 0.1018 - val_R2: -2.7917e+01\n",
      "Epoch 326/500\n",
      "384/384 - 1s - loss: 0.1125 - R2: 0.6103 - val_loss: 0.1160 - val_R2: -3.1760e+01\n",
      "Epoch 327/500\n",
      "384/384 - 1s - loss: 0.1127 - R2: 0.6112 - val_loss: 0.1061 - val_R2: -2.8968e+01\n",
      "Epoch 328/500\n",
      "384/384 - 1s - loss: 0.1133 - R2: 0.6142 - val_loss: 0.0956 - val_R2: -2.6071e+01\n",
      "Epoch 329/500\n",
      "384/384 - 1s - loss: 0.1125 - R2: 0.6141 - val_loss: 0.1229 - val_R2: -3.3865e+01\n",
      "Epoch 330/500\n",
      "384/384 - 1s - loss: 0.1130 - R2: 0.6111 - val_loss: 0.0957 - val_R2: -2.6104e+01\n",
      "Epoch 331/500\n",
      "384/384 - 1s - loss: 0.1141 - R2: 0.6060 - val_loss: 0.1183 - val_R2: -3.2623e+01\n",
      "Epoch 332/500\n",
      "384/384 - 1s - loss: 0.1126 - R2: 0.6126 - val_loss: 0.1030 - val_R2: -2.7959e+01\n",
      "Epoch 333/500\n",
      "384/384 - 1s - loss: 0.1130 - R2: 0.5662 - val_loss: 0.1158 - val_R2: -3.1839e+01\n",
      "Epoch 334/500\n",
      "384/384 - 1s - loss: 0.1128 - R2: 0.6070 - val_loss: 0.1290 - val_R2: -3.5574e+01\n",
      "Epoch 335/500\n",
      "384/384 - 1s - loss: 0.1130 - R2: 0.6124 - val_loss: 0.1274 - val_R2: -3.5075e+01\n",
      "Epoch 336/500\n",
      "384/384 - 1s - loss: 0.1141 - R2: 0.6056 - val_loss: 0.1115 - val_R2: -3.0716e+01\n",
      "Epoch 337/500\n",
      "384/384 - 1s - loss: 0.1129 - R2: 0.6125 - val_loss: 0.0955 - val_R2: -2.5948e+01\n",
      "Epoch 338/500\n",
      "384/384 - 1s - loss: 0.1128 - R2: 0.6108 - val_loss: 0.0948 - val_R2: -2.5741e+01\n",
      "Epoch 339/500\n",
      "384/384 - 1s - loss: 0.1133 - R2: 0.6141 - val_loss: 0.1192 - val_R2: -3.2708e+01\n",
      "Epoch 340/500\n",
      "384/384 - 1s - loss: 0.1128 - R2: 0.6101 - val_loss: 0.1466 - val_R2: -4.0843e+01\n",
      "Epoch 341/500\n",
      "384/384 - 1s - loss: 0.1137 - R2: 0.6118 - val_loss: 0.1156 - val_R2: -3.1835e+01\n",
      "Epoch 342/500\n",
      "384/384 - 1s - loss: 0.1131 - R2: 0.6121 - val_loss: 0.1162 - val_R2: -3.2148e+01\n",
      "Epoch 343/500\n",
      "384/384 - 1s - loss: 0.1126 - R2: 0.6107 - val_loss: 0.1170 - val_R2: -3.2055e+01\n",
      "Epoch 344/500\n",
      "384/384 - 1s - loss: 0.1132 - R2: 0.6159 - val_loss: 0.1281 - val_R2: -3.5209e+01\n",
      "Epoch 345/500\n",
      "384/384 - 1s - loss: 0.1131 - R2: 0.6074 - val_loss: 0.0765 - val_R2: -2.0437e+01\n"
     ]
    },
    {
     "name": "stdout",
     "output_type": "stream",
     "text": [
      "Epoch 346/500\n",
      "384/384 - 1s - loss: 0.1127 - R2: 0.6106 - val_loss: 0.1062 - val_R2: -2.9065e+01\n",
      "Epoch 347/500\n",
      "384/384 - 1s - loss: 0.1135 - R2: 0.6051 - val_loss: 0.1189 - val_R2: -3.2821e+01\n",
      "Epoch 348/500\n",
      "384/384 - 1s - loss: 0.1119 - R2: 0.6167 - val_loss: 0.1765 - val_R2: -4.9125e+01\n",
      "Epoch 349/500\n",
      "384/384 - 1s - loss: 0.1133 - R2: 0.6116 - val_loss: 0.1477 - val_R2: -4.0843e+01\n",
      "Epoch 350/500\n",
      "384/384 - 1s - loss: 0.1136 - R2: 0.6114 - val_loss: 0.1414 - val_R2: -3.9155e+01\n",
      "Epoch 351/500\n",
      "384/384 - 1s - loss: 0.1120 - R2: 0.6131 - val_loss: 0.1104 - val_R2: -3.0301e+01\n",
      "Epoch 352/500\n",
      "384/384 - 1s - loss: 0.1120 - R2: 0.6162 - val_loss: 0.1156 - val_R2: -3.1705e+01\n",
      "Epoch 353/500\n",
      "384/384 - 1s - loss: 0.1124 - R2: 0.6137 - val_loss: 0.1161 - val_R2: -3.1928e+01\n",
      "Epoch 354/500\n",
      "384/384 - 1s - loss: 0.1123 - R2: 0.6069 - val_loss: 0.0896 - val_R2: -2.4288e+01\n",
      "Epoch 355/500\n",
      "384/384 - 1s - loss: 0.1132 - R2: 0.6119 - val_loss: 0.1102 - val_R2: -3.0134e+01\n",
      "Epoch 356/500\n",
      "384/384 - 1s - loss: 0.1116 - R2: 0.6156 - val_loss: 0.1138 - val_R2: -3.1056e+01\n",
      "Epoch 357/500\n",
      "384/384 - 1s - loss: 0.1119 - R2: 0.6130 - val_loss: 0.1142 - val_R2: -3.1226e+01\n",
      "Epoch 358/500\n",
      "384/384 - 1s - loss: 0.1132 - R2: 0.6089 - val_loss: 0.1285 - val_R2: -3.5565e+01\n",
      "Epoch 359/500\n",
      "384/384 - 1s - loss: 0.1128 - R2: 0.6112 - val_loss: 0.1074 - val_R2: -2.9462e+01\n",
      "Epoch 360/500\n",
      "384/384 - 1s - loss: 0.1123 - R2: 0.6113 - val_loss: 0.0933 - val_R2: -2.5390e+01\n",
      "Epoch 361/500\n",
      "384/384 - 1s - loss: 0.1132 - R2: 0.6056 - val_loss: 0.1081 - val_R2: -2.9464e+01\n",
      "Epoch 362/500\n",
      "384/384 - 1s - loss: 0.1133 - R2: 0.5183 - val_loss: 0.1087 - val_R2: -2.9804e+01\n",
      "Epoch 363/500\n",
      "384/384 - 1s - loss: 0.1123 - R2: 0.6129 - val_loss: 0.1116 - val_R2: -3.0442e+01\n",
      "Epoch 364/500\n",
      "384/384 - 1s - loss: 0.1123 - R2: 0.6140 - val_loss: 0.1373 - val_R2: -3.8082e+01\n",
      "Epoch 365/500\n",
      "384/384 - 1s - loss: 0.1121 - R2: 0.6089 - val_loss: 0.1007 - val_R2: -2.7408e+01\n",
      "Epoch 366/500\n",
      "384/384 - 1s - loss: 0.1123 - R2: 0.6152 - val_loss: 0.1240 - val_R2: -3.4214e+01\n",
      "Epoch 367/500\n",
      "384/384 - 1s - loss: 0.1131 - R2: 0.6071 - val_loss: 0.1361 - val_R2: -3.7639e+01\n",
      "Epoch 368/500\n",
      "384/384 - 1s - loss: 0.1116 - R2: 0.6209 - val_loss: 0.1089 - val_R2: -2.9771e+01\n",
      "Epoch 369/500\n",
      "384/384 - 1s - loss: 0.1127 - R2: 0.6107 - val_loss: 0.1039 - val_R2: -2.8090e+01\n",
      "Epoch 370/500\n",
      "384/384 - 1s - loss: 0.1125 - R2: 0.6164 - val_loss: 0.0911 - val_R2: -2.4724e+01\n",
      "Epoch 371/500\n",
      "384/384 - 1s - loss: 0.1118 - R2: 0.6052 - val_loss: 0.1479 - val_R2: -4.0564e+01\n",
      "Epoch 372/500\n",
      "384/384 - 1s - loss: 0.1130 - R2: 0.6062 - val_loss: 0.0794 - val_R2: -2.1300e+01\n",
      "Epoch 373/500\n",
      "384/384 - 1s - loss: 0.1118 - R2: 0.6175 - val_loss: 0.1135 - val_R2: -3.1147e+01\n",
      "Epoch 374/500\n",
      "384/384 - 1s - loss: 0.1121 - R2: 0.5909 - val_loss: 0.1423 - val_R2: -3.9197e+01\n",
      "Epoch 375/500\n",
      "384/384 - 1s - loss: 0.1125 - R2: 0.6103 - val_loss: 0.1040 - val_R2: -2.8337e+01\n",
      "Epoch 376/500\n",
      "384/384 - 1s - loss: 0.1125 - R2: 0.6112 - val_loss: 0.1170 - val_R2: -3.2151e+01\n",
      "Epoch 377/500\n",
      "384/384 - 1s - loss: 0.1129 - R2: 0.6012 - val_loss: 0.1142 - val_R2: -3.1290e+01\n",
      "Epoch 378/500\n",
      "384/384 - 1s - loss: 0.1124 - R2: 0.6074 - val_loss: 0.1047 - val_R2: -2.8514e+01\n",
      "Epoch 379/500\n",
      "384/384 - 1s - loss: 0.1127 - R2: 0.6132 - val_loss: 0.1231 - val_R2: -3.4018e+01\n",
      "Epoch 380/500\n",
      "384/384 - 1s - loss: 0.1120 - R2: 0.6104 - val_loss: 0.0911 - val_R2: -2.4743e+01\n",
      "Epoch 381/500\n",
      "384/384 - 1s - loss: 0.1116 - R2: 0.6131 - val_loss: 0.1167 - val_R2: -3.1928e+01\n",
      "Epoch 382/500\n",
      "384/384 - 1s - loss: 0.1120 - R2: 0.6177 - val_loss: 0.1239 - val_R2: -3.4157e+01\n",
      "Epoch 383/500\n",
      "384/384 - 1s - loss: 0.1121 - R2: 0.6140 - val_loss: 0.1134 - val_R2: -3.1217e+01\n",
      "Epoch 384/500\n",
      "384/384 - 1s - loss: 0.1124 - R2: 0.6102 - val_loss: 0.1158 - val_R2: -3.1786e+01\n",
      "Epoch 385/500\n",
      "384/384 - 1s - loss: 0.1122 - R2: 0.6147 - val_loss: 0.1074 - val_R2: -2.9335e+01\n",
      "Epoch 386/500\n",
      "384/384 - 1s - loss: 0.1121 - R2: 0.6110 - val_loss: 0.1050 - val_R2: -2.8745e+01\n",
      "Epoch 387/500\n",
      "384/384 - 1s - loss: 0.1129 - R2: 0.6108 - val_loss: 0.1280 - val_R2: -3.5291e+01\n",
      "Epoch 388/500\n",
      "384/384 - 1s - loss: 0.1113 - R2: 0.6196 - val_loss: 0.1128 - val_R2: -3.0746e+01\n",
      "Epoch 389/500\n",
      "384/384 - 1s - loss: 0.1130 - R2: 0.6110 - val_loss: 0.1073 - val_R2: -2.9288e+01\n",
      "Epoch 390/500\n",
      "384/384 - 1s - loss: 0.1118 - R2: 0.6179 - val_loss: 0.1295 - val_R2: -3.5662e+01\n",
      "Epoch 391/500\n",
      "384/384 - 1s - loss: 0.1118 - R2: 0.6036 - val_loss: 0.0959 - val_R2: -2.6116e+01\n",
      "Epoch 392/500\n",
      "384/384 - 1s - loss: 0.1125 - R2: 0.6147 - val_loss: 0.1153 - val_R2: -3.1711e+01\n",
      "Epoch 393/500\n",
      "384/384 - 1s - loss: 0.1136 - R2: 0.6075 - val_loss: 0.1005 - val_R2: -2.7456e+01\n",
      "Epoch 394/500\n",
      "384/384 - 1s - loss: 0.1117 - R2: 0.6163 - val_loss: 0.0945 - val_R2: -2.5678e+01\n",
      "Epoch 395/500\n",
      "384/384 - 1s - loss: 0.1115 - R2: 0.6158 - val_loss: 0.1015 - val_R2: -2.7588e+01\n",
      "Epoch 396/500\n",
      "384/384 - 1s - loss: 0.1118 - R2: 0.6128 - val_loss: 0.1113 - val_R2: -3.0489e+01\n",
      "Epoch 397/500\n",
      "384/384 - 1s - loss: 0.1117 - R2: 0.6100 - val_loss: 0.1094 - val_R2: -2.9863e+01\n",
      "Epoch 398/500\n",
      "384/384 - 1s - loss: 0.1126 - R2: 0.6023 - val_loss: 0.0869 - val_R2: -2.3442e+01\n",
      "Epoch 399/500\n",
      "384/384 - 1s - loss: 0.1116 - R2: 0.6144 - val_loss: 0.1511 - val_R2: -4.1923e+01\n",
      "Epoch 400/500\n",
      "384/384 - 1s - loss: 0.1114 - R2: 0.6162 - val_loss: 0.1211 - val_R2: -3.3210e+01\n",
      "Epoch 401/500\n",
      "384/384 - 1s - loss: 0.1126 - R2: 0.6091 - val_loss: 0.1047 - val_R2: -2.8664e+01\n",
      "Epoch 402/500\n",
      "384/384 - 1s - loss: 0.1117 - R2: 0.6145 - val_loss: 0.1122 - val_R2: -3.0476e+01\n",
      "Epoch 403/500\n",
      "384/384 - 1s - loss: 0.1126 - R2: 0.6104 - val_loss: 0.1037 - val_R2: -2.8356e+01\n",
      "Epoch 404/500\n",
      "384/384 - 1s - loss: 0.1121 - R2: 0.6196 - val_loss: 0.1126 - val_R2: -3.0942e+01\n",
      "Epoch 405/500\n",
      "384/384 - 1s - loss: 0.1116 - R2: 0.6161 - val_loss: 0.1287 - val_R2: -3.5457e+01\n",
      "Epoch 406/500\n",
      "384/384 - 1s - loss: 0.1114 - R2: 0.6188 - val_loss: 0.1056 - val_R2: -2.8659e+01\n",
      "Epoch 407/500\n",
      "384/384 - 1s - loss: 0.1122 - R2: 0.6100 - val_loss: 0.1353 - val_R2: -3.7294e+01\n",
      "Epoch 408/500\n",
      "384/384 - 1s - loss: 0.1125 - R2: 0.6101 - val_loss: 0.1185 - val_R2: -3.2574e+01\n",
      "Epoch 409/500\n",
      "384/384 - 1s - loss: 0.1120 - R2: 0.6071 - val_loss: 0.0984 - val_R2: -2.6815e+01\n",
      "Epoch 410/500\n",
      "384/384 - 1s - loss: 0.1121 - R2: 0.6155 - val_loss: 0.1068 - val_R2: -2.9140e+01\n",
      "Epoch 411/500\n",
      "384/384 - 1s - loss: 0.1122 - R2: 0.6127 - val_loss: 0.1056 - val_R2: -2.8535e+01\n",
      "Epoch 412/500\n",
      "384/384 - 1s - loss: 0.1125 - R2: 0.6073 - val_loss: 0.0856 - val_R2: -2.3144e+01\n",
      "Epoch 413/500\n",
      "384/384 - 1s - loss: 0.1121 - R2: 0.6103 - val_loss: 0.1317 - val_R2: -3.6383e+01\n",
      "Epoch 414/500\n",
      "384/384 - 1s - loss: 0.1114 - R2: 0.6185 - val_loss: 0.0991 - val_R2: -2.7121e+01\n",
      "Epoch 415/500\n",
      "384/384 - 1s - loss: 0.1124 - R2: 0.6168 - val_loss: 0.1060 - val_R2: -2.9020e+01\n",
      "Epoch 416/500\n",
      "384/384 - 1s - loss: 0.1130 - R2: 0.6134 - val_loss: 0.1378 - val_R2: -3.7955e+01\n",
      "Epoch 417/500\n",
      "384/384 - 1s - loss: 0.1123 - R2: 0.6041 - val_loss: 0.1245 - val_R2: -3.4379e+01\n",
      "Epoch 418/500\n",
      "384/384 - 1s - loss: 0.1122 - R2: 0.6126 - val_loss: 0.1213 - val_R2: -3.3521e+01\n",
      "Epoch 419/500\n",
      "384/384 - 1s - loss: 0.1108 - R2: 0.6128 - val_loss: 0.0916 - val_R2: -2.4863e+01\n",
      "Epoch 420/500\n",
      "384/384 - 1s - loss: 0.1124 - R2: 0.6132 - val_loss: 0.1221 - val_R2: -3.3641e+01\n",
      "Epoch 421/500\n",
      "384/384 - 1s - loss: 0.1122 - R2: 0.6138 - val_loss: 0.0918 - val_R2: -2.4871e+01\n",
      "Epoch 422/500\n",
      "384/384 - 1s - loss: 0.1125 - R2: 0.6127 - val_loss: 0.1188 - val_R2: -3.2821e+01\n",
      "Epoch 423/500\n",
      "384/384 - 1s - loss: 0.1121 - R2: 0.4586 - val_loss: 0.0904 - val_R2: -2.4521e+01\n",
      "Epoch 424/500\n",
      "384/384 - 1s - loss: 0.1116 - R2: 0.6142 - val_loss: 0.1371 - val_R2: -3.8028e+01\n",
      "Epoch 425/500\n",
      "384/384 - 1s - loss: 0.1113 - R2: 0.6137 - val_loss: 0.0833 - val_R2: -2.2419e+01\n",
      "Epoch 426/500\n",
      "384/384 - 1s - loss: 0.1117 - R2: 0.6111 - val_loss: 0.1727 - val_R2: -4.8169e+01\n",
      "Epoch 427/500\n",
      "384/384 - 1s - loss: 0.1117 - R2: 0.6161 - val_loss: 0.1101 - val_R2: -3.0091e+01\n",
      "Epoch 428/500\n",
      "384/384 - 1s - loss: 0.1117 - R2: 0.6152 - val_loss: 0.0969 - val_R2: -2.6435e+01\n",
      "Epoch 429/500\n",
      "384/384 - 1s - loss: 0.1123 - R2: 0.6137 - val_loss: 0.1142 - val_R2: -3.1237e+01\n",
      "Epoch 430/500\n",
      "384/384 - 1s - loss: 0.1123 - R2: 0.6089 - val_loss: 0.1202 - val_R2: -3.2948e+01\n",
      "Epoch 431/500\n",
      "384/384 - 1s - loss: 0.1130 - R2: 0.6071 - val_loss: 0.0921 - val_R2: -2.5020e+01\n"
     ]
    },
    {
     "name": "stdout",
     "output_type": "stream",
     "text": [
      "Epoch 432/500\n",
      "384/384 - 1s - loss: 0.1110 - R2: 0.4629 - val_loss: 0.1178 - val_R2: -3.2507e+01\n",
      "Epoch 433/500\n",
      "384/384 - 1s - loss: 0.1112 - R2: 0.6179 - val_loss: 0.1003 - val_R2: -2.7103e+01\n",
      "Epoch 434/500\n",
      "384/384 - 1s - loss: 0.1121 - R2: 0.6128 - val_loss: 0.1155 - val_R2: -3.1875e+01\n",
      "Epoch 435/500\n",
      "384/384 - 1s - loss: 0.1116 - R2: 0.6167 - val_loss: 0.0998 - val_R2: -2.7287e+01\n",
      "Epoch 436/500\n",
      "384/384 - 1s - loss: 0.1112 - R2: 0.6031 - val_loss: 0.0912 - val_R2: -2.4693e+01\n",
      "Epoch 437/500\n",
      "384/384 - 1s - loss: 0.1114 - R2: 0.6115 - val_loss: 0.1326 - val_R2: -3.6860e+01\n",
      "Epoch 438/500\n",
      "384/384 - 1s - loss: 0.1125 - R2: 0.6133 - val_loss: 0.1194 - val_R2: -3.2868e+01\n",
      "Epoch 439/500\n",
      "384/384 - 1s - loss: 0.1118 - R2: 0.6162 - val_loss: 0.0817 - val_R2: -2.2021e+01\n",
      "Epoch 440/500\n",
      "384/384 - 1s - loss: 0.1124 - R2: 0.6114 - val_loss: 0.1312 - val_R2: -3.6121e+01\n",
      "Epoch 441/500\n",
      "384/384 - 1s - loss: 0.1118 - R2: 0.6152 - val_loss: 0.0822 - val_R2: -2.2032e+01\n",
      "Epoch 442/500\n",
      "384/384 - 1s - loss: 0.1124 - R2: 0.6102 - val_loss: 0.1321 - val_R2: -3.6427e+01\n",
      "Epoch 443/500\n",
      "384/384 - 1s - loss: 0.1121 - R2: 0.6163 - val_loss: 0.1154 - val_R2: -3.1694e+01\n",
      "Epoch 444/500\n",
      "384/384 - 1s - loss: 0.1110 - R2: 0.6104 - val_loss: 0.1094 - val_R2: -2.9970e+01\n",
      "Epoch 445/500\n",
      "384/384 - 1s - loss: 0.1122 - R2: 0.6120 - val_loss: 0.0958 - val_R2: -2.6170e+01\n",
      "Epoch 446/500\n",
      "384/384 - 1s - loss: 0.1109 - R2: 0.6186 - val_loss: 0.1243 - val_R2: -3.4218e+01\n",
      "Epoch 447/500\n",
      "384/384 - 1s - loss: 0.1114 - R2: 0.5889 - val_loss: 0.0886 - val_R2: -2.3965e+01\n",
      "Epoch 448/500\n",
      "384/384 - 1s - loss: 0.1118 - R2: 0.6178 - val_loss: 0.1081 - val_R2: -2.9647e+01\n",
      "Epoch 449/500\n",
      "384/384 - 1s - loss: 0.1120 - R2: 0.6160 - val_loss: 0.1491 - val_R2: -4.1216e+01\n",
      "Epoch 450/500\n",
      "384/384 - 1s - loss: 0.1116 - R2: 0.6166 - val_loss: 0.1291 - val_R2: -3.5380e+01\n",
      "Epoch 451/500\n",
      "384/384 - 1s - loss: 0.1110 - R2: 0.6179 - val_loss: 0.0857 - val_R2: -2.3235e+01\n",
      "Epoch 452/500\n",
      "384/384 - 1s - loss: 0.1109 - R2: 0.6102 - val_loss: 0.1454 - val_R2: -4.0305e+01\n",
      "Epoch 453/500\n",
      "384/384 - 1s - loss: 0.1115 - R2: 0.6200 - val_loss: 0.1221 - val_R2: -3.3413e+01\n",
      "Epoch 454/500\n",
      "384/384 - 1s - loss: 0.1106 - R2: 0.6189 - val_loss: 0.1809 - val_R2: -5.0217e+01\n",
      "Epoch 455/500\n",
      "384/384 - 1s - loss: 0.1120 - R2: 0.6139 - val_loss: 0.0865 - val_R2: -2.3104e+01\n",
      "Epoch 456/500\n",
      "384/384 - 1s - loss: 0.1117 - R2: 0.6122 - val_loss: 0.1319 - val_R2: -3.6444e+01\n",
      "Epoch 457/500\n",
      "384/384 - 1s - loss: 0.1113 - R2: 0.6185 - val_loss: 0.1553 - val_R2: -4.3138e+01\n",
      "Epoch 458/500\n",
      "384/384 - 1s - loss: 0.1114 - R2: 0.6141 - val_loss: 0.1420 - val_R2: -3.9265e+01\n",
      "Epoch 459/500\n",
      "384/384 - 1s - loss: 0.1119 - R2: 0.6102 - val_loss: 0.1116 - val_R2: -3.0771e+01\n",
      "Epoch 460/500\n",
      "384/384 - 1s - loss: 0.1114 - R2: 0.6202 - val_loss: 0.1132 - val_R2: -3.1020e+01\n",
      "Epoch 461/500\n",
      "384/384 - 1s - loss: 0.1114 - R2: 0.6189 - val_loss: 0.1274 - val_R2: -3.5299e+01\n",
      "Epoch 462/500\n",
      "384/384 - 1s - loss: 0.1115 - R2: 0.6110 - val_loss: 0.1060 - val_R2: -2.8858e+01\n",
      "Epoch 463/500\n",
      "384/384 - 1s - loss: 0.1119 - R2: 0.6149 - val_loss: 0.0991 - val_R2: -2.7059e+01\n",
      "Epoch 464/500\n",
      "384/384 - 1s - loss: 0.1117 - R2: 0.6155 - val_loss: 0.1501 - val_R2: -4.1693e+01\n",
      "Epoch 465/500\n",
      "384/384 - 1s - loss: 0.1109 - R2: 0.6169 - val_loss: 0.1335 - val_R2: -3.6940e+01\n",
      "Epoch 466/500\n",
      "384/384 - 1s - loss: 0.1107 - R2: 0.6178 - val_loss: 0.0993 - val_R2: -2.7047e+01\n",
      "Epoch 467/500\n",
      "384/384 - 1s - loss: 0.1107 - R2: 0.6178 - val_loss: 0.1169 - val_R2: -3.2160e+01\n",
      "Epoch 468/500\n",
      "384/384 - 1s - loss: 0.1108 - R2: 0.6185 - val_loss: 0.1338 - val_R2: -3.6990e+01\n",
      "Epoch 469/500\n",
      "384/384 - 1s - loss: 0.1112 - R2: 0.6013 - val_loss: 0.1277 - val_R2: -3.4708e+01\n",
      "Epoch 470/500\n",
      "384/384 - 1s - loss: 0.1120 - R2: 0.6099 - val_loss: 0.1076 - val_R2: -2.9605e+01\n",
      "Epoch 471/500\n",
      "384/384 - 1s - loss: 0.1121 - R2: 0.6126 - val_loss: 0.1169 - val_R2: -3.2300e+01\n",
      "Epoch 472/500\n",
      "384/384 - 1s - loss: 0.1114 - R2: 0.6167 - val_loss: 0.1118 - val_R2: -3.0813e+01\n",
      "Epoch 473/500\n",
      "384/384 - 1s - loss: 0.1122 - R2: 0.6168 - val_loss: 0.1091 - val_R2: -2.9946e+01\n",
      "Epoch 474/500\n",
      "384/384 - 1s - loss: 0.1119 - R2: 0.6097 - val_loss: 0.1014 - val_R2: -2.7585e+01\n",
      "Epoch 475/500\n",
      "384/384 - 1s - loss: 0.1116 - R2: 0.6158 - val_loss: 0.1079 - val_R2: -2.9462e+01\n",
      "Epoch 476/500\n",
      "384/384 - 1s - loss: 0.1121 - R2: 0.6173 - val_loss: 0.1070 - val_R2: -2.9264e+01\n",
      "Epoch 477/500\n",
      "384/384 - 1s - loss: 0.1117 - R2: 0.6176 - val_loss: 0.1047 - val_R2: -2.8598e+01\n",
      "Epoch 478/500\n",
      "384/384 - 1s - loss: 0.1115 - R2: 0.6175 - val_loss: 0.1064 - val_R2: -2.9160e+01\n",
      "Epoch 479/500\n",
      "384/384 - 1s - loss: 0.1118 - R2: 0.6153 - val_loss: 0.1381 - val_R2: -3.7909e+01\n",
      "Epoch 480/500\n",
      "384/384 - 1s - loss: 0.1105 - R2: 0.6205 - val_loss: 0.1143 - val_R2: -3.1155e+01\n",
      "Epoch 481/500\n",
      "384/384 - 1s - loss: 0.1113 - R2: 0.6190 - val_loss: 0.1034 - val_R2: -2.8320e+01\n",
      "Epoch 482/500\n",
      "384/384 - 1s - loss: 0.1112 - R2: 0.6162 - val_loss: 0.1386 - val_R2: -3.8420e+01\n",
      "Epoch 483/500\n",
      "384/384 - 1s - loss: 0.1109 - R2: 0.6191 - val_loss: 0.1070 - val_R2: -2.9209e+01\n",
      "Epoch 484/500\n",
      "384/384 - 1s - loss: 0.1111 - R2: 0.6189 - val_loss: 0.0888 - val_R2: -2.4010e+01\n",
      "Epoch 485/500\n",
      "384/384 - 1s - loss: 0.1113 - R2: 0.6131 - val_loss: 0.1609 - val_R2: -4.4597e+01\n",
      "Epoch 486/500\n",
      "384/384 - 1s - loss: 0.1115 - R2: 0.6178 - val_loss: 0.1207 - val_R2: -3.3240e+01\n",
      "Epoch 487/500\n",
      "384/384 - 1s - loss: 0.1112 - R2: 0.6165 - val_loss: 0.1690 - val_R2: -4.7005e+01\n",
      "Epoch 488/500\n",
      "384/384 - 1s - loss: 0.1107 - R2: 0.6208 - val_loss: 0.0896 - val_R2: -2.4264e+01\n",
      "Epoch 489/500\n",
      "384/384 - 1s - loss: 0.1111 - R2: 0.6190 - val_loss: 0.1234 - val_R2: -3.3896e+01\n",
      "Epoch 490/500\n",
      "384/384 - 1s - loss: 0.1113 - R2: 0.6172 - val_loss: 0.1072 - val_R2: -2.9334e+01\n",
      "Epoch 491/500\n",
      "384/384 - 1s - loss: 0.1105 - R2: 0.6189 - val_loss: 0.0999 - val_R2: -2.7274e+01\n",
      "Epoch 492/500\n",
      "384/384 - 1s - loss: 0.1099 - R2: 0.6204 - val_loss: 0.0944 - val_R2: -2.5709e+01\n",
      "Epoch 493/500\n",
      "384/384 - 1s - loss: 0.1113 - R2: 0.6168 - val_loss: 0.0967 - val_R2: -2.6418e+01\n",
      "Epoch 494/500\n",
      "384/384 - 1s - loss: 0.1115 - R2: 0.6165 - val_loss: 0.1000 - val_R2: -2.7351e+01\n",
      "Epoch 495/500\n",
      "384/384 - 1s - loss: 0.1115 - R2: 0.5544 - val_loss: 0.1087 - val_R2: -2.9748e+01\n",
      "Epoch 496/500\n",
      "384/384 - 1s - loss: 0.1114 - R2: 0.5952 - val_loss: 0.0913 - val_R2: -2.4828e+01\n",
      "Epoch 497/500\n",
      "384/384 - 1s - loss: 0.1112 - R2: 0.6180 - val_loss: 0.1237 - val_R2: -3.3960e+01\n",
      "Epoch 498/500\n",
      "384/384 - 1s - loss: 0.1107 - R2: 0.6186 - val_loss: 0.0879 - val_R2: -2.3743e+01\n",
      "Epoch 499/500\n",
      "384/384 - 1s - loss: 0.1106 - R2: 0.6220 - val_loss: 0.1062 - val_R2: -2.9053e+01\n",
      "Epoch 500/500\n",
      "384/384 - 1s - loss: 0.1109 - R2: 0.6132 - val_loss: 0.1162 - val_R2: -3.1860e+01\n"
     ]
    }
   ],
   "source": [
    "NNfullmodel = model\n",
    "\n",
    "NNfullmodel.compile(optimizer=sgd, loss='mean_squared_error', metrics=[R2])\n",
    "\n",
    "trainingfull = NNfullmodel.fit(x=subinfo[NNpredsuse], y=subinfo[respuse], \n",
    "     batch_size=32, epochs=epochs, shuffle=True, verbose=2,\n",
    "    validation_split=0.3)"
   ]
  },
  {
   "cell_type": "markdown",
   "metadata": {},
   "source": [
    "Calculate the fitted values and the residuals."
   ]
  },
  {
   "cell_type": "code",
   "execution_count": 58,
   "metadata": {},
   "outputs": [],
   "source": [
    "NNfullfits = np.reshape(NNfullmodel.predict(subinfo[NNpredsuse]),-1)\n",
    "subinfo['NNfullresids'] = subinfo[respuse]-NNfullfits"
   ]
  },
  {
   "cell_type": "markdown",
   "metadata": {},
   "source": [
    "# Set up Correlation Function Estimation"
   ]
  },
  {
   "cell_type": "markdown",
   "metadata": {},
   "source": [
    "For testing purposes, add a column which is the residual in the response, if the model were simply the average response."
   ]
  },
  {
   "cell_type": "code",
   "execution_count": 59,
   "metadata": {},
   "outputs": [],
   "source": [
    "subinfo['SimpResids'] = subinfo[respuse] - subinfo[respuse].mean()"
   ]
  },
  {
   "cell_type": "markdown",
   "metadata": {},
   "source": [
    "Define the column that will be used for the cross correlation quantity, e.g. size, mass, etc. "
   ]
  },
  {
   "cell_type": "code",
   "execution_count": 60,
   "metadata": {},
   "outputs": [],
   "source": [
    "S_weight_column='NNfullresids'"
   ]
  },
  {
   "cell_type": "markdown",
   "metadata": {},
   "source": [
    "Set up file and directory for output."
   ]
  },
  {
   "cell_type": "code",
   "execution_count": 61,
   "metadata": {},
   "outputs": [],
   "source": [
    "\n",
    "file_name='kappa_'+S_weight_column  #prefix to be appended to the files being saved. Should be different for different datasets.\n",
    "\n",
    "os.makedirs(file_dir,exist_ok=True)"
   ]
  },
  {
   "cell_type": "code",
   "execution_count": 62,
   "metadata": {},
   "outputs": [
    {
     "data": {
      "image/png": "[encoded data removed]",
      "text/plain": [
       "<Figure size 360x360 with 1 Axes>"
      ]
     },
     "metadata": {
      "needs_background": "light"
     },
     "output_type": "display_data"
    }
   ],
   "source": [
    "plt.figure(figsize=[5,5])\n",
    "hist(subinfo[S_weight_column], bins=100)\n",
    "plt.xlabel(S_weight_column,size=12)\n",
    "plt.show()    "
   ]
  },
  {
   "cell_type": "code",
   "execution_count": 63,
   "metadata": {},
   "outputs": [],
   "source": [
    "\"\"\" this function generates the input file for corr_pc\n",
    " corr_pc takes two samples to compute cross correlations. \n",
    " Shape sample: Sample of galaxies with shapes. For density correlations it is not necessary to pass shapes. \n",
    "               Prefix of filenames for this sample should be passed vias file_nameS\n",
    " Density sample: Sample of galaxies/particles that trace density field. For density correlations it is not necessary to pass shapes. \n",
    "                 If shapes are passed for this sample, w++ can be computed. Prefix of filenames for this sample should be passed vias file_nameD.\n",
    "                 If auto correlation is to be computed, simply set file_nameD=file_nameS.\n",
    " file_name: This is the prefix corr_pc will use to save the output files containing two point correlations. Input file to be passed to corr_pc is \n",
    "            also saved with this name. input file is saved in file_dir and the outputs are saved in new directory, file_dir+corr_data_out.\n",
    " corr: two point correlation to be computed. This should be density-density (wgg,wmm), shape-density (wg+) or shape-shape(w++). \n",
    "        When computing wg+, corr_pc will also compute and save wgg by default since pair counting is done anyways. \n",
    "        When doing w++, wg+ and wgg are also computed and saved.\n",
    " n_shape, n_density: number of galaxies in the shape sample and density sample respectively.\n",
    " do_jk: Whether to do jackknifing or not.\n",
    " njk: number of jackknife regions. jackknife regions are assumed to be labelled from 0...njk-1.\n",
    "\"\"\"\n",
    "def inp_gen(file_dir,file_name,file_nameS,file_nameD,corr=3,n_shape=0,n_density=0,njk=100,do_jk=1):\n",
    "    s=\"\"\n",
    "    s=s+\"which_corr     \"+str(corr)+\"\\n\" #0: density-density, 1: ia: shape-density, 2 ia:shape-shape, 3:kappa-density\n",
    "    s=s+\"coordinates    6\"+\"\\n\"  #0: rp-pi\n",
    "    s=s+\"estimator      0\"+\"\\n\"  #0:landy-szalay (LS): cross. works for both auto and cross correlations. For auto, pass same filenames for shape and density samples \n",
    "                                 # 1: LS:auto, for auto correlation only\n",
    "    s=s+\"data_sorted     0\"+\"\\n\"  #0: no sorting, 1:sorted by z, 2:sorted by dec (y)\n",
    "    s=s+\"use_comoving    1\"+\"\\n\"\n",
    "    s=s+\"do_jk           \"+str(do_jk)+\"\\n\" #0: no jackknife, 1: do jackknife. jk regions must be passed in a file. are assumed to be from 0..njk-1\n",
    "    s=s+\"sig_crit        0\"+\"\\n\" #for weak lensing, not important for ia, gg corrs.\n",
    "\n",
    "    #following passes information about shape sample\n",
    "    s=s+\"shape_pos       \"+file_dir+file_nameS+'_pos.dat'+\"\\n\"  # x, y coordinates\n",
    "    s=s+\"shape_z         \"+file_dir+file_nameS+'_z.dat'+\"\\n\"    # z coordinate\n",
    "    s=s+\"shape_e         \"+file_dir+file_nameS+'_kappa.dat'+\"\\n\"    # e1, e2 or kappa\n",
    "#     s=s+\"shape_wt         \"+file_dir+file_nameS+'_wt.dat'+\"\\n\"  # weights on galaxies. If no weighting, pass 0\n",
    "    s=s+\"shape_wt         0\"+\"\\n\"\n",
    "    s=s+\"shape_jk        \"+file_dir+file_nameS+'_jk.dat'+\"\\n\"   # jackknife regions\n",
    "\n",
    "    # following passes information about density sample\n",
    "    s=s+\"density_patch   0\"+\"\\n\" #for weak lensing, not important for ia, gg corrs.\n",
    "    s=s+\"density_pos     \"+file_dir+file_nameD+'_pos.dat'+\"\\n\"  # x, y coordinates\n",
    "    s=s+\"density_z       \"+file_dir+file_nameD+'_z.dat'+\"\\n\"    # z coordinate\n",
    "    s=s+\"density_wt       0\"+\"\\n\"  # weights on galaxies/particles. If no weighting, pass 0\n",
    "#     s=s+\"density_wt       \"+file_dir+file_nameD+'_wt.dat'+\"\\n\"  # weights on galaxies/particles. If no weighting, pass 0\n",
    "    s=s+\"density_jk      \"+file_dir+file_nameD+'_jk.dat'+\"\\n\"   # jackknife regions    \n",
    "    s=s+\"density_e      0\"+\"\\n\"   #if doing shape-shape, this file should be passed. # e1, e2\n",
    "\n",
    "    # following passes information about randoms corresponding to shape sample\n",
    "    s=s+\"Srandom_pos      0\"+\"\\n\"\n",
    "    s=s+\"Srandom_z        0\"+\"\\n\"\n",
    "    s=s+\"Srandoms_wt      0\"+\"\\n\"\n",
    "    s=s+\"Srand_jk         0\"+\"\\n\"\n",
    "\n",
    "    # following passes information about randoms corresponding to density sample\n",
    "    s=s+\"Drandom_patch    0\"+\"\\n\"\n",
    "    s=s+\"Drandom_pos      0\"+\"\\n\"\n",
    "    s=s+\"Drandom_z        0\"+\"\\n\"\n",
    "    s=s+\"Drandoms_wt      0\"+\"\\n\"\n",
    "    s=s+\"drand_jk         0\"+\"\\n\"\n",
    "\n",
    "    s=s+\"distances        0\"+\"\\n\"  #not needed for PB\n",
    "    s=s+\"patch_file       0\"+\"\\n\"  #not needed for PB\n",
    "    s=s+\"out_file         \"+file_dir+\"corr_data_out/\"+file_name+\"_\"+\"\\n\"  # prefix for the output files.\n",
    "    \n",
    "    os.makedirs(file_dir+\"corr_data_out/\",exist_ok=True) #directory where outputs are saved.\n",
    "    \n",
    "    s=s+\"n_threads       0\"+\"\\n\"   # number of openmp threads to use. 0== use maximum available.\n",
    "    s=s+\"n_shape         \"+str(n_shape)+\"\\n\"  #number of galaxies in shape sample\n",
    "    s=s+\"n_density       \"+str(n_density)+\"\\n\"  #number of galaxies in density sample\n",
    "    s=s+\"n_Srand         0\"+\"\\n\"\n",
    "    s=s+\"n_Drand         0\"+\"\\n\"\n",
    "    s=s+\"rand_subsample  0\"+\"\\n\"  #subsample randoms to speed up calculations.\n",
    "    s=s+\"n_jk          \"+str(njk)+\"\\n\"  #number of jk regions. regions are assumed to be labelled from 0....njk-1\n",
    "    s=s+\"n_patch         0 \"+\"\\n\"#not needed for PB\n",
    "\n",
    "    s=s+\"binR_min        0.1\"+\"\\n\"  # rp_min for the bins\n",
    "    s=s+\"binR_max       20\"+\"\\n\" # rp_max for the bins\n",
    "    s=s+\"n_bins         10\"+\"\\n\" #number of rp bins to use\n",
    "    s=s+\"lin_bin         0\"+\"\\n\"  #linear or log bins. 0: log, 1:linear\n",
    "    s=s+\"n_p_bin         20\"+\"\\n\"  #number of pi bins to use\n",
    "    s=s+\"pmin         -22\"+\"\\n\"  # pi_min (line of sight or z separation)\n",
    "    s=s+\"pmax         22\"+\"\\n\"   # pi_max (line of sight or z separation)\n",
    "    s=s+\"z_min         0\"+\"\\n\"    \n",
    "    s=s+\"z_max         300\"+\"\\n\" \n",
    "    s=s+\"dz            0.0001\"+\"\\n\" #not needed for PB\n",
    "    s=s+\"z_sep_min     -100\"+\"\\n\"  \n",
    "    s=s+\"z_sep_max     100\"+\"\\n\"   \n",
    "    s=s+\"periodic_box  1\"+\"\\n\"\n",
    "    s=s+\"box_size     75\"+\"\\n\"  #size of the box.\n",
    "\n",
    "    fil=open(file_dir+file_name+'.inp','w')\n",
    "    fil.write(s)\n"
   ]
  },
  {
   "cell_type": "markdown",
   "metadata": {},
   "source": [
    "This function splits the sim box into a grid in x-y plane. Number of grid splits along each axis are given by njk1, for a total of njk1^2 sub-sample regions.\n",
    "After this, each point in data (galaxy or particle) is assigned to its sub-sample."
   ]
  },
  {
   "cell_type": "code",
   "execution_count": 64,
   "metadata": {},
   "outputs": [],
   "source": [
    "def jk_box(data=[],Lbox=None,njk1=7):\n",
    "    if Lbox is None:\n",
    "        Lbox=np.ceil(max(data['x']))\n",
    "        print('jk_box using Lbox=',Lbox)\n",
    "    xjk=np.linspace(0,Lbox,njk1+1)\n",
    "    yjk=np.linspace(0,Lbox,njk1+1)\n",
    "    jk=np.zeros(len(data))\n",
    "    jjk=0\n",
    "    for i in np.arange(njk1):\n",
    "        xil=xjk[i]\n",
    "        xih=xjk[i+1]\n",
    "        x1=data['x']>xil\n",
    "        x2=data['x']<xih\n",
    "        for j in np.arange(njk1):\n",
    "            yil=yjk[j]\n",
    "            yih=yjk[j+1]\n",
    "            y1=data['y']>yil\n",
    "            y2=data['y']<=yih\n",
    "            jk[x1*x2*y1*y2]=jjk\n",
    "            jjk+=1\n",
    "#     jk=np.array(jk,dtype=[('jk','int32')])\n",
    "    return jk"
   ]
  },
  {
   "cell_type": "code",
   "execution_count": 65,
   "metadata": {},
   "outputs": [],
   "source": [
    "S_dat = Table.from_pandas(subinfo)"
   ]
  },
  {
   "cell_type": "markdown",
   "metadata": {},
   "source": [
    "Define `x`,`y`,`z` columns for cordinates. We will use the names `x`,`y`,`z`, below, instead of `gal_pos_x` etc. Different versions of the catalog have different naming conventions, please check. We will also use units of Mpc instead of Kpc, hence division by 1000."
   ]
  },
  {
   "cell_type": "code",
   "execution_count": 66,
   "metadata": {},
   "outputs": [],
   "source": [
    "S_dat['x']=np.float64(S_dat['gal_pos_x']/1000)\n",
    "S_dat['y']=np.float64(S_dat['gal_pos_y']/1000)\n",
    "S_dat['z']=np.float64(S_dat['gal_pos_z']/1000)"
   ]
  },
  {
   "cell_type": "markdown",
   "metadata": {},
   "source": [
    "Get jackknife regions for all the galaxies."
   ]
  },
  {
   "cell_type": "code",
   "execution_count": 67,
   "metadata": {},
   "outputs": [
    {
     "name": "stdout",
     "output_type": "stream",
     "text": [
      "jk_box using Lbox= 75.0\n"
     ]
    }
   ],
   "source": [
    "S_dat['jk'] = jk_box(data=S_dat)\n",
    "S_dat.sort('z')"
   ]
  },
  {
   "cell_type": "code",
   "execution_count": 68,
   "metadata": {},
   "outputs": [
    {
     "data": {
      "image/png": "[encoded data removed]",
      "text/plain": [
       "<Figure size 432x288 with 1 Axes>"
      ]
     },
     "metadata": {
      "needs_background": "light"
     },
     "output_type": "display_data"
    }
   ],
   "source": [
    "_=hist2d(S_dat['y'],S_dat['z'],1000,norm=LogNorm())"
   ]
  },
  {
   "cell_type": "markdown",
   "metadata": {},
   "source": [
    "We will assume density and shape sample to be same, hence following can be done."
   ]
  },
  {
   "cell_type": "markdown",
   "metadata": {},
   "source": [
    "For density sample, still use entire sample, but for `S_dat` restrict to satellite or central."
   ]
  },
  {
   "cell_type": "code",
   "execution_count": 69,
   "metadata": {},
   "outputs": [],
   "source": [
    "D_dat=S_dat"
   ]
  },
  {
   "cell_type": "markdown",
   "metadata": {},
   "source": [
    "We define a new column kappa, which will contain the \"processed\" version of weight column defined above. The \"processed\" here could be mean subtraction, renormalization or taking log of the quantity.\n",
    "Remeber to do this on the final version of catalog, after all the cuts have been applied since that can affect the mean, etc.\n",
    " For mass, we will take log to prevent few massive galaxies from dominating the measurements."
   ]
  },
  {
   "cell_type": "code",
   "execution_count": 70,
   "metadata": {},
   "outputs": [],
   "source": [
    "#S_dat['kappa']=np.log10(S_dat[S_weight_column])\n",
    "\n",
    "S_dat['kappa'] = S_dat[S_weight_column]\n",
    "S_dat['kappa'] -= S_dat['kappa'].mean()"
   ]
  },
  {
   "cell_type": "markdown",
   "metadata": {},
   "source": [
    "Function to write data files in format that can be read by corr_pc"
   ]
  },
  {
   "cell_type": "code",
   "execution_count": 71,
   "metadata": {},
   "outputs": [],
   "source": [
    "def write_data(data,file_name,file_dir,wt_col=None):\n",
    "    file_name=file_dir+file_name\n",
    "    np.savetxt(file_name+'_pos.dat',np.column_stack((data['x'],data['y']))) #x,y position of galaxies\n",
    "    np.savetxt(file_name+'_z.dat',data['z']) # z position of galaxies\n",
    "    if 'jk' in data.columns:\n",
    "        np.savetxt(file_name+'_jk.dat',data['jk'],fmt='%i') #jackknife is read as integer\n",
    "    if 'kappa' in data.columns: #ellipticities. corr_pc takes e1, e2\n",
    "        np.savetxt(file_name+'_kappa.dat',data['kappa'])\n",
    "    if wt_col is not None: #wt to be applied to each galaxy/particle.\n",
    "        wt=data[wt_col]*1.\n",
    "        wt/=wt.mean()\n",
    "        np.savetxt(file_name+'_wt.dat',wt)"
   ]
  },
  {
   "cell_type": "markdown",
   "metadata": {},
   "source": [
    "Write shape data to files."
   ]
  },
  {
   "cell_type": "code",
   "execution_count": 72,
   "metadata": {},
   "outputs": [],
   "source": [
    "file_nameS=file_name+'_shape'\n",
    "write_data(data=S_dat,file_name=file_nameS,file_dir=file_dir,)#wt_col='mass')"
   ]
  },
  {
   "cell_type": "markdown",
   "metadata": {},
   "source": [
    "Write density data to files. Only necessary if the two catalogs are different."
   ]
  },
  {
   "cell_type": "code",
   "execution_count": 73,
   "metadata": {},
   "outputs": [],
   "source": [
    "#file_nameD=file_name+'_density'\n",
    "#write_data(data=D_dat,file_name=file_nameD,file_dir=file_dir,wt_col='mass')\n",
    "file_nameD=file_nameS"
   ]
  },
  {
   "cell_type": "markdown",
   "metadata": {},
   "source": [
    "Generate the input file. Corr_pac will be called using this file.\n",
    "`corr=0` will only do wgg like correlation, no shapes. set `corr=1` for wg+ and wgg"
   ]
  },
  {
   "cell_type": "code",
   "execution_count": 74,
   "metadata": {},
   "outputs": [],
   "source": [
    "inp_gen(file_dir=file_dir,file_name=file_name,file_nameS=file_nameS,file_nameD=file_nameD,corr=3,n_shape=len(S_dat),n_density=len(D_dat),\n",
    "        njk=int(S_dat['jk'].max()+1),do_jk=1) "
   ]
  },
  {
   "cell_type": "code",
   "execution_count": 75,
   "metadata": {
    "scrolled": false
   },
   "outputs": [
    {
     "data": {
      "image/png": "[encoded data removed]",
      "text/plain": [
       "<Figure size 432x288 with 1 Axes>"
      ]
     },
     "metadata": {
      "needs_background": "light"
     },
     "output_type": "display_data"
    }
   ],
   "source": [
    "_=hist(S_dat['jk'],int(S_dat['jk'].max()+1))"
   ]
  },
  {
   "cell_type": "markdown",
   "metadata": {},
   "source": [
    "From within corr_pc directory, you can run corr_pc as \n",
    "\n",
    "`./corr_pc file_dir/file_name.inp`\n",
    "\n",
    "For example:\n",
    "\n",
    "`./corr_pc ./temp/ill_test/ill_test_kappa.inp`\n",
    "\n",
    "`./corr_pc ./temp/ChadAnalyses/kappa_SimpResids.inp`"
   ]
  },
  {
   "cell_type": "code",
   "execution_count": 76,
   "metadata": {},
   "outputs": [
    {
     "name": "stdout",
     "output_type": "stream",
     "text": [
      "Running ./corr_pc ./temp/ChadAnalyses/Mags/kappa_NNfullresids.inp\n",
      "Success\n"
     ]
    }
   ],
   "source": [
    "foo = './corr_pc '+ file_dir + file_name+'.inp'\n",
    "print('Running '+foo)\n",
    "holdout = os.system(foo)\n",
    "if(holdout == 0):\n",
    "    print(\"Success\")\n",
    "else:\n",
    "    print(\"Failure\")"
   ]
  },
  {
   "cell_type": "markdown",
   "metadata": {},
   "source": [
    "## Process the results to create correlation plots"
   ]
  },
  {
   "cell_type": "code",
   "execution_count": 77,
   "metadata": {},
   "outputs": [],
   "source": [
    "def check_empty(arr): # True is empty\n",
    "    try:\n",
    "        #print not arr.any()\n",
    "        try:\n",
    "            return not arr.any()\n",
    "        except:\n",
    "            if arr.size!=0: #for rec array\n",
    "                return False\n",
    "            else:\n",
    "                return True\n",
    "    except:\n",
    "        #print not bool(arr)\n",
    "        return not bool(arr) #for other python types, including dictionary"
   ]
  },
  {
   "cell_type": "code",
   "execution_count": 78,
   "metadata": {},
   "outputs": [],
   "source": [
    "ignore_keys=['rp','r','jk','cov','corr','jk_err','jkerr','data','data0']\n",
    "class cov_corr():\n",
    "    def mean_calc(self,data=[],axis=1):\n",
    "        return np.mean(data,axis)\n",
    "\n",
    "    def var_calc(self,data=[],axis=1):\n",
    "        return np.var(data,axis)\n",
    "\n",
    "    def residual_calc(self,data=[],axis=1): #calculate residual that go into cov calculation, y-E(y)\n",
    "        mean=self.mean_calc(data,axis)\n",
    "        dim0=len(mean)\n",
    "        dim1=np.shape(data)[axis]\n",
    "        #print dim0,dim1,axis\n",
    "# since mean is always 1-d array, [mean]*dim1 always give matrix [dim0 X dim1]...\n",
    "#hence depending on dimension of data may need to transpose to get correct residuals\n",
    "        try:\n",
    "            res=data-np.transpose([mean]*dim1)\n",
    "            print (\"transpose\")\n",
    "        except:\n",
    "            res=data-[mean]*dim1\n",
    "        return res\n",
    "\n",
    "    def cov_matrix2(self,data=[],axis=1,ddof=0):\n",
    "        return np.cov(data,rowvar=axis)\n",
    "\n",
    "    def cov_matrix(self,data=[],axis=1,ddof=0):\n",
    "        #return np.cov(data,rowvar=axis,ddof=1) #ddof=0 for correct variance\n",
    "        mean=self.mean_calc(data,axis)\n",
    "        dim0=len(mean)\n",
    "        dim1=np.shape(data)[axis]\n",
    "        res=self.residual_calc(data=data,axis=axis)\n",
    "        cov=np.zeros((dim0,dim0))\n",
    "        if len(res[0])!=dim1:\n",
    "            res=np.transpose(res)#residual has dimension of data..\n",
    "                                #depending on axis value, may need to transpose for correct covariance\n",
    "        for i in np.arange(dim0):\n",
    "            for j in np.arange(dim0):\n",
    "                cov[i][j]+=np.sum(res[i]*res[j])\n",
    "        cov/=np.float64(dim1-ddof)\n",
    "        return cov\n",
    "\n",
    "    def cross_cov_matrix2(self,data1=[],data2=[],axis=1,ddof=0):\n",
    "        cross_cov=np.cov(data1,data2,rowvar=axis)\n",
    "        N1=len(data1[0])\n",
    "        N2=len(data2[0])\n",
    "        cov2=np.zeros((N1,N2))\n",
    "        for i in np.arange(N1):\n",
    "            for j in np.arange(N2):\n",
    "                cov2[i][j]=cross_cov[i+N1][j]\n",
    "        return cov2\n",
    "\n",
    "    def cross_cov_matrix(self,data1=[],data2=[],axis=1,ddof=0):\n",
    "    #return np.cov(data,rowvar=axis,ddof=1) #ddof=0 for correct variance\n",
    "        mean1=self.mean_calc(data1,axis)\n",
    "        mean2=self.mean_calc(data2,axis)\n",
    "        dim0=len(mean1)\n",
    "        dim2=len(mean2)\n",
    "        dim1=np.shape(data1)[axis]\n",
    "        res1=self.residual_calc(data=data1,axis=axis)\n",
    "        res2=self.residual_calc(data=data2,axis=axis)\n",
    "        cov=np.zeros((dim0,dim2))\n",
    "        if dim0!=dim2:\n",
    "            print ('cross cov: dimensions of data 1 and data2 not equal')\n",
    "        if len(res1[0])!=dim1:\n",
    "            res2=np.transpose(res2)\n",
    "            res1=np.transpose(res1)#residual has dimension of data..\n",
    "                            #depending on axis value, may need to transpose for correct covariance\n",
    "        for i in np.arange(dim0):\n",
    "            for j in np.arange(dim2):\n",
    "                cov[i][j]+=np.sum(res1[i]*res2[j])\n",
    "        cov/=np.float64(dim1-ddof)\n",
    "        return cov\n",
    "\n",
    "    #for some reason numpy covariance matrix has some constant multiplied to it..\n",
    "    #seems to be some func of N but can't figure it out.\n",
    "    #this func returns that constants value by comparing it with variance\n",
    "    def var_cov_comparison(self,var=[],cov=[]):\n",
    "        l=len(cov[0])\n",
    "        v2=np.zeros_like(var)\n",
    "        for i in np.arange(l):\n",
    "            v2[i]=cov[i][i]\n",
    "        r=var/v2\n",
    "        x=r==r[0]\n",
    "        if sum(x)<l:\n",
    "            print (\"variance-covariance miss match\") #return full ratio array in case r is not constant\n",
    "            return r  #note comparison can be easily fooled due to floating point error\n",
    "        return [r[0]]\n",
    "\n",
    "    def corr_matrix(self,cov_mat=[]): #correlation matrix\n",
    "        diag=np.diag(cov_mat)\n",
    "        return cov_mat/np.sqrt(np.outer(diag,diag))\n",
    "        # dim=len(cov_mat[0])\n",
    "        # var=np.zeros(dim)\n",
    "        # corr=np.zeros((dim,dim))\n",
    "        # for i in np.arange(dim):\n",
    "        #     var[i]=cov_mat[i][i]\n",
    "        # for i in np.arange(dim):\n",
    "        #     for j in np.arange(dim):\n",
    "        #         corr[i][j]=cov_mat[i][j]/np.sqrt(var[i]*var[j])\n",
    "        # return corr\n",
    "\n",
    "    def cross_corr_matrix(self,cov_mat=[],data1=[],data2=[],axis=1): #correlation matrix\n",
    "        dim=len(cov_mat[0])\n",
    "        var1=self.var_calc(data1,axis)\n",
    "        var2=self.var_calc(data2,axis)\n",
    "        corr=np.zeros((dim,dim))\n",
    "#        for i in np.arange(dim):\n",
    " #           var[i]=cov_mat[i][i]\n",
    "        for i in np.arange(dim):\n",
    "            for j in np.arange(dim):\n",
    "                corr[i][j]=cov_mat[i][j]/np.sqrt(var1[i]*var2[j])\n",
    "        return corr\n",
    "\n",
    "    #stack column from various dictionary elements to get a data matrix which goes into covariance calculations\n",
    "    #incase dict elements have several columns, var defines the column to be used. better to have named columns\n",
    "    def dict_stack(self,dic={},var='',ignore_keys=ignore_keys):\n",
    "        keys=dic.keys()\n",
    "        j=0\n",
    "        mat=[]\n",
    "        axis=0\n",
    "        for i in keys:\n",
    "            if i in ignore_keys:\n",
    "                #print 'cov_corr.dict_stack::',i,'ignored in stacking'\n",
    "                continue\n",
    "            if j==0:\n",
    "                if not check_empty(var):\n",
    "                    mat=dic[i][var]\n",
    "                else:\n",
    "                    mat=dic[i]#[:]\n",
    "                j=j+1\n",
    "                continue\n",
    "            if not check_empty(var):\n",
    "                mat=np.vstack((mat,dic[i][var]))\n",
    "            else:\n",
    "                mat=np.vstack((mat,dic[i]))#dic[i][:]\n",
    "        return mat,axis\n",
    "\n",
    "\n",
    "    def dict_cov(self,dic={},var='',stack=0,axis=0,ddof=0,ignore_keys=ignore_keys):\n",
    "        if stack!=0:\n",
    "            #print \"cov_corr: Stacking dictionary\"\n",
    "            mat,axis=self.dict_stack(dic=dic,var=var,ignore_keys=ignore_keys)\n",
    "            #print \"cov_corr: dictionary stacked\"\n",
    "        if stack==0:\n",
    "            #print \"no stacking:\",var,axis\n",
    "            mat=dic[var]\n",
    "            axis=axis\n",
    "        cov=self.cov_matrix2(data=mat,axis=axis,ddof=ddof)\n",
    "        #print cov.shape\n",
    "        corr=self.corr_matrix(cov)\n",
    "        return cov,corr\n",
    "\n",
    "\n",
    "    def dict_cross_cov(self,dic={},dic2={},var1='',var2='',stack=0,axis=0,ddof=0):\n",
    "        if stack!=0:\n",
    "            #print \"cov_corr: Stacking dictionary\"\n",
    "            mat1,axis=self.dict_stack(dic=dic,var=var1)\n",
    "            if dic2:\n",
    "                mat2,axis=self.dict_stack(dic=dic2,var=var2)\n",
    "            else:\n",
    "                mat2,axis=self.dict_stack(dic=dic,var=var2)\n",
    "        if stack==0:\n",
    "            #print \"no stacking:\",var,axis\n",
    "            mat1=dic[var1]\n",
    "            if dic2:\n",
    "                mat2=dic2[var2]\n",
    "            else:\n",
    "                mat2=dic[var2]\n",
    "            axis=axis\n",
    "        cov=self.cross_cov_matrix2(data1=mat1,data2=mat2,axis=axis,ddof=ddof)\n",
    "        corr=self.cross_corr_matrix(cov_mat=cov,data1=mat1,data2=mat2,axis=axis)\n",
    "        return cov,corr\n",
    "\n",
    "    def matrix_diagonalize(self,m=[]):\n",
    "        N1=len(m)\n",
    "        N2=len(m[0])\n",
    "        for i in np.arange(N1):\n",
    "            for j in np.arange(N2):\n",
    "                if i==j:\n",
    "                    continue\n",
    "                m[i][j]=0\n",
    "        return m\n",
    "\n",
    "    def mat_inv(self,m=[]):\n",
    "        return np.linalg.inv(m)\n",
    "\n",
    "    def matrix_cut(self,mat=[],x=[]):\n",
    "        m=mat[x]\n",
    "        N=sum(x)\n",
    "        m2=np.zeros((N,N))\n",
    "        j=0\n",
    "        for i in m:\n",
    "            m2[j]=i[x]\n",
    "            j=j+1\n",
    "        return m2\n",
    "\n",
    "    def chi_sq(self,theory=[],data=[],x=[],cov=[]):\n",
    "        if len(x):\n",
    "            data=data[x]\n",
    "            theory=theory[x]\n",
    "            cov=self.matrix_cut(mat=cov,x=x)\n",
    "        cov_inv=self.mat_inv(m=cov)\n",
    "        #print data.shape,theory.shape,cov.shape,cov_inv.shape\n",
    "        N=len(data)\n",
    "        chi_sq=0\n",
    "        for i in np.arange(N):\n",
    "            for j in np.arange(N):\n",
    "                chi_sq+=((data[i]-theory[i])*(data[j]-theory[j])*(cov_inv[i][j]))\n",
    "        #chi_sq/=2.\n",
    "        return chi_sq,N"
   ]
  },
  {
   "cell_type": "code",
   "execution_count": 79,
   "metadata": {},
   "outputs": [],
   "source": [
    "def jk_read(dataset='',var=None,njk=100,auto_cross='_cross',bins='_bins',\n",
    "            home='',corr='_final',skiprows=0,**kwargs):\n",
    "    data_jk={}\n",
    "    filename=dataset\n",
    "    try:\n",
    "        data_jk['data']=np.genfromtxt(home+filename+bins+auto_cross+'_jk_final.dat',\n",
    "                                      names=True,skip_header=skiprows)\n",
    "    except:\n",
    "        print ('file not found')\n",
    "    try:\n",
    "        data_jk['data0']=np.genfromtxt(home+filename+bins+auto_cross+corr+'.dat',\n",
    "                                       names=True,skip_header=skiprows)\n",
    "    except:\n",
    "        print ('file not found',home+filename+bins+auto_cross+corr+'.dat')\n",
    "    for i in np.arange(njk):\n",
    "        data_jk[i]=np.genfromtxt(home+filename+bins+auto_cross+'_jk'+str(i)+corr+'.dat',names=True,\n",
    "                                 skip_header=skiprows)\n",
    "    cc=cov_corr()\n",
    "    if var and njk>0:\n",
    "        data_jk['cov']={}\n",
    "        data_jk['corr']={}\n",
    "        for v in var:\n",
    "            cov,corr=cc.dict_cov(dic=data_jk,var=v,stack=1,ignore_keys=['data','data0','cov','corr'])\n",
    "            cov*=njk-1.\n",
    "            data_jk['cov'][v]=cov\n",
    "            data_jk['corr'][v]=corr\n",
    "    return data_jk"
   ]
  },
  {
   "cell_type": "code",
   "execution_count": 80,
   "metadata": {},
   "outputs": [],
   "source": [
    "file_dir_out=file_dir+'corr_data_out/'\n",
    "\n",
    "njk = int(S_dat['jk'].max()+1)"
   ]
  },
  {
   "cell_type": "code",
   "execution_count": 81,
   "metadata": {},
   "outputs": [],
   "source": [
    "w_jk=jk_read(dataset=file_name,var=['wgg','wgp'],njk=njk,auto_cross='_cross',bins='_bins',\n",
    "            home=file_dir_out,corr='_final',skiprows=0)"
   ]
  },
  {
   "cell_type": "code",
   "execution_count": 82,
   "metadata": {
    "scrolled": true
   },
   "outputs": [
    {
     "data": {
      "text/plain": [
       "dict_keys(['data', 'data0', 0, 1, 2, 3, 4, 5, 6, 7, 8, 9, 10, 11, 12, 13, 14, 15, 16, 17, 18, 19, 20, 21, 22, 23, 24, 25, 26, 27, 28, 29, 30, 31, 32, 33, 34, 35, 36, 37, 38, 39, 40, 41, 42, 43, 44, 45, 46, 47, 48, 'cov', 'corr'])"
      ]
     },
     "execution_count": 82,
     "metadata": {},
     "output_type": "execute_result"
    }
   ],
   "source": [
    "w_jk.keys()"
   ]
  },
  {
   "cell_type": "markdown",
   "metadata": {},
   "source": [
    "'data': contains the jackknife mean and the jackknife errorbars\n",
    "\n",
    "'data0': Contains the full sample measurements. Do not use the errorbars from this set.\n",
    "\n",
    "0....njk-1: Contains measurements from the respective jackknife regions.\n",
    "\n",
    "cov, corr: Covariance and correlation matrices for the variables passed."
   ]
  },
  {
   "cell_type": "code",
   "execution_count": 83,
   "metadata": {
    "scrolled": true
   },
   "outputs": [
    {
     "data": {
      "text/plain": [
       "Text(0, 0.5, '$r_p w_{gg}$')"
      ]
     },
     "execution_count": 83,
     "metadata": {},
     "output_type": "execute_result"
    },
    {
     "data": {
      "image/png": "[encoded data removed]",
      "text/plain": [
       "<Figure size 432x288 with 1 Axes>"
      ]
     },
     "metadata": {
      "needs_background": "light"
     },
     "output_type": "display_data"
    }
   ],
   "source": [
    "rp=w_jk['data0']['rp']\n",
    "errorbar(rp,rp*w_jk['data0']['wgg'],rp*w_jk['data']['wgg_err'],fmt='bo')\n",
    "loglog()\n",
    "xlabel(r'$r_p$ (Mpc/h)')\n",
    "ylabel(r'$r_p w_{gg}$')"
   ]
  },
  {
   "cell_type": "code",
   "execution_count": 84,
   "metadata": {},
   "outputs": [
    {
     "data": {
      "text/plain": [
       "Text(0, 0.5, '$r_p w_{g\\\\kappa}$')"
      ]
     },
     "execution_count": 84,
     "metadata": {},
     "output_type": "execute_result"
    },
    {
     "data": {
      "image/png": "[encoded data removed]",
      "text/plain": [
       "<Figure size 432x288 with 1 Axes>"
      ]
     },
     "metadata": {
      "needs_background": "light"
     },
     "output_type": "display_data"
    }
   ],
   "source": [
    "rp=w_jk['data0']['rp']\n",
    "errorbar(rp,rp*w_jk['data0']['wgp'],rp*w_jk['data']['wgp_err'],fmt='bo')\n",
    "#loglog()\n",
    "xscale('log')\n",
    "xlabel(r'$r_p$ (Mpc/h)')\n",
    "ylabel(r'$r_p w_{g\\kappa}$')"
   ]
  },
  {
   "cell_type": "markdown",
   "metadata": {},
   "source": [
    "# Residual plots"
   ]
  },
  {
   "cell_type": "code",
   "execution_count": 85,
   "metadata": {},
   "outputs": [],
   "source": [
    "residsuse = 'NNfullresids'"
   ]
  },
  {
   "cell_type": "code",
   "execution_count": 86,
   "metadata": {},
   "outputs": [],
   "source": [
    "def calc_mean(xvar='',yvar='',data=[],data_cuts=None,rms=0,bins=None,N_bins=20,x_min=None,x_max=None,xlog=False,**kwargs):\n",
    "    \"\"\"\n",
    "    Compute the mean of y in bins of x.\n",
    "    \n",
    "    Arguments\n",
    "    ----------------\n",
    "    xvar: name of the x variable column\n",
    "    yvar: name of the y variable column\n",
    "    data: Dataset, can be a dict, astropy or pandas table or numpy named array\n",
    "    data_cuts: Any cuts to be applied on data. Boolean array. Useful for jackknife calculations\n",
    "    rms: if non-zero, compute rms instead of mean. quantity returned is <y**(rms+1)>^{1./(rms+1)}. rms can be any number.\n",
    "    bins: bin edges for the x axis to use. If None, we can compute it here using following arguments\n",
    "    N_bins: Number of bins\n",
    "    x_min: minimum value of x to use. If None, minimum from data[xvar] will be used\n",
    "    x_max: maximum value of x to use. If None, maximum from data[xvar] will be used\n",
    "    xlog: If True, use log bins in x. Otherwise linear bins are used.\n",
    "    \n",
    "    Returns:\n",
    "    bins: bin edges\n",
    "    bc: Bin centers\n",
    "    mean_y: mean value of y within bins\n",
    "    \"\"\"\n",
    "    datx=data[xvar]\n",
    "    daty=data[yvar]\n",
    "    if data_cuts is not None:\n",
    "        datx=datx[data_cuts]\n",
    "        daty=daty[data_cuts]\n",
    "    if bins is None:\n",
    "        if x_min is None:\n",
    "            x_min=min(datx)\n",
    "        if x_max is None:\n",
    "            x_max=max(datx)\n",
    "        if xlog:\n",
    "            bins=np.logspace(np.log10(x_min),np.log10(x_max),N_bins+1)\n",
    "        else:\n",
    "            bins=np.linspace(x_min,x_max,N_bins+1)\n",
    "    x_c,_=np.histogram(datx,bins=bins)\n",
    "    x_c=np.float64(x_c)\n",
    "    y_c,_=np.histogram(datx,weights=(daty**(rms+1.))/(rms+1),bins=bins)\n",
    "    mean_y=y_c/x_c\n",
    "    mean_y=mean_y**(1./(rms+1.))\n",
    "    bc=0.5*(bins[1:]+bins[:-1])\n",
    "    return bins,bc,mean_y"
   ]
  },
  {
   "cell_type": "code",
   "execution_count": 87,
   "metadata": {},
   "outputs": [],
   "source": [
    "def calc_mean_jk(mean_func=calc_mean,jk_col='jk',njk=None,xvar='',yvar='',data=[],data_cuts=None,rms=0,bins=None,N_bins=20,x_min=None,x_max=None,xlog=False,**kwargs):\n",
    "    \"\"\"\n",
    "    Compute the mean of y in bins of x, for every jackknife region. Returns a dict with calclations for all jackknife regions as well as the jackknife mean and covariance.\n",
    "    Arguments\n",
    "    ----------------\n",
    "    mean_func=calc_mean: function to use for computing mean values. \n",
    "    jk_col: jackknife column name\n",
    "    remaining arguments are same as calc_mean function above.\n",
    "    \n",
    "    returns:\n",
    "    \n",
    "    \"\"\"\n",
    "    if njk is None:\n",
    "        njk=max(data[jk_col])+1\n",
    "    njk=int(njk)\n",
    "    jkr=np.arange(njk)\n",
    "    means={}\n",
    "    bins,bins_center,means['full']=mean_func(xvar=xvar,yvar=yvar,data=data,data_cuts=data_cuts,rms=rms,bins=bins,N_bins=N_bins,x_min=x_min,x_max=x_max,xlog=xlog,**kwargs)\n",
    "    mean=np.zeros((njk,len(bins_center)))\n",
    "    dat_jk=data[jk_col]\n",
    "    for i in jkr:\n",
    "        x=dat_jk!=i\n",
    "        if data_cuts is not None:\n",
    "            x=np.logical_and(x,data_cuts)\n",
    "        bins,bins_center,mean[i]=mean_func(xvar=xvar,yvar=yvar,data=data,data_cuts=x,rms=rms,bins=bins,N_bins=N_bins,x_min=x_min,x_max=x_max,xlog=xlog,**kwargs)\n",
    "    means['regions']=mean\n",
    "    means['jk_mean']=np.mean(mean,axis=0)\n",
    "    means['jk_var']=np.var(mean,axis=0)*(njk-1)*(njk-1)/njk\n",
    "    means['jk_err']=np.sqrt(means['jk_var'])\n",
    "    return bins,bins_center,means"
   ]
  },
  {
   "cell_type": "code",
   "execution_count": 88,
   "metadata": {},
   "outputs": [
    {
     "data": {
      "image/png": "[encoded data removed]",
      "text/plain": [
       "<Figure size 432x288 with 2 Axes>"
      ]
     },
     "metadata": {
      "needs_background": "light"
     },
     "output_type": "display_data"
    }
   ],
   "source": [
    "bins,bc,m=calc_mean_jk(jk_col='jk',data=S_dat,xvar='mass',yvar=residsuse,xlog=True)\n",
    "\n",
    "_=hist2d(np.float64(S_dat['mass']),S_dat[residsuse],\n",
    "  bins=[np.float64(bins),np.linspace(-1.5,1.5,15)],\n",
    "  norm=LogNorm(),cmap='Reds')\n",
    "errorbar(bc,m['jk_mean'],m['jk_err'])\n",
    "xscale('log')\n",
    "xlabel('mass')\n",
    "ylabel(residsuse)\n",
    "colorbar()\n",
    "plt.show()"
   ]
  },
  {
   "cell_type": "code",
   "execution_count": 89,
   "metadata": {},
   "outputs": [
    {
     "data": {
      "image/png": "[encoded data removed]",
      "text/plain": [
       "<Figure size 432x288 with 1 Axes>"
      ]
     },
     "metadata": {
      "needs_background": "light"
     },
     "output_type": "display_data"
    },
    {
     "data": {
      "image/png": "[encoded data removed]",
      "text/plain": [
       "<Figure size 432x288 with 1 Axes>"
      ]
     },
     "metadata": {
      "needs_background": "light"
     },
     "output_type": "display_data"
    },
    {
     "data": {
      "image/png": "[encoded data removed]",
      "text/plain": [
       "<Figure size 432x288 with 1 Axes>"
      ]
     },
     "metadata": {
      "needs_background": "light"
     },
     "output_type": "display_data"
    },
    {
     "data": {
      "image/png": "[encoded data removed]",
      "text/plain": [
       "<Figure size 432x288 with 1 Axes>"
      ]
     },
     "metadata": {
      "needs_background": "light"
     },
     "output_type": "display_data"
    }
   ],
   "source": [
    "vlist = {'mc_disk','g - r','r - i','e1','e2','gband Mag'}\n",
    "vlist = predsscl\n",
    "\n",
    "for vname in vlist:\n",
    "    bins,bc,m=calc_mean_jk(jk_col='jk',data=S_dat,xvar=vname,yvar=residsuse,xlog=False)\n",
    "\n",
    "    #_=hist2d(np.float64(S_dat[vname]),S_dat['PPRresids'],\n",
    "    #  bins=[np.float64(bins),np.linspace(-1.5,1.5,15)],\n",
    "    #  norm=LogNorm(),cmap='Reds')\n",
    "    errorbar(bc,m['jk_mean'],m['jk_err'])\n",
    "    hlines(0,bc[0],bc[-1])\n",
    "    xlabel(vname)\n",
    "    ylabel(residsuse)\n",
    "    #colorbar()\n",
    "    plt.show()"
   ]
  },
  {
   "cell_type": "code",
   "execution_count": 90,
   "metadata": {},
   "outputs": [
    {
     "data": {
      "image/png": "[encoded data removed]",
      "text/plain": [
       "<Figure size 432x288 with 2 Axes>"
      ]
     },
     "metadata": {
      "needs_background": "light"
     },
     "output_type": "display_data"
    },
    {
     "data": {
      "image/png": "[encoded data removed]",
      "text/plain": [
       "<Figure size 432x288 with 2 Axes>"
      ]
     },
     "metadata": {
      "needs_background": "light"
     },
     "output_type": "display_data"
    },
    {
     "data": {
      "image/png": "[encoded data removed]",
      "text/plain": [
       "<Figure size 432x288 with 2 Axes>"
      ]
     },
     "metadata": {
      "needs_background": "light"
     },
     "output_type": "display_data"
    },
    {
     "data": {
      "image/png": "[encoded data removed]",
      "text/plain": [
       "<Figure size 432x288 with 2 Axes>"
      ]
     },
     "metadata": {
      "needs_background": "light"
     },
     "output_type": "display_data"
    }
   ],
   "source": [
    "vlist = {'f_disk','g - r','r - i','e1','e2','gband Mag'}\n",
    "vlist = predsscl\n",
    "\n",
    "for vname in vlist:\n",
    "    bins,bc,m=calc_mean_jk(jk_col='jk',data=S_dat,xvar=vname,yvar=residsuse,xlog=False)\n",
    "\n",
    "    _=hist2d(np.float64(S_dat[vname]),S_dat[residsuse],\n",
    "      bins=[np.float64(bins),np.linspace(-1.5,1.5,15)],\n",
    "      norm=LogNorm(),cmap='Reds')\n",
    "    errorbar(bc,m['jk_mean'],m['jk_err'])\n",
    "    hlines(0,bc[0],bc[-1])\n",
    "    xlabel(vname)\n",
    "    ylabel(residsuse)\n",
    "    colorbar()\n",
    "    plt.show()"
   ]
  },
  {
   "cell_type": "markdown",
   "metadata": {},
   "source": [
    "# RMSE"
   ]
  },
  {
   "cell_type": "code",
   "execution_count": 91,
   "metadata": {},
   "outputs": [
    {
     "name": "stdout",
     "output_type": "stream",
     "text": [
      "RMSE PPR on test set:\n",
      "0.2682344702277375\n",
      "RMSE PPR on training set:\n",
      "0.25913540402037005\n"
     ]
    }
   ],
   "source": [
    "print(\"RMSE PPR on test set:\")\n",
    "print(sqrt(mean((PPRfitsontest-test_labels)**2)))\n",
    "\n",
    "print(\"RMSE PPR on training set:\")\n",
    "print(sqrt(mean(residuals**2)))"
   ]
  },
  {
   "cell_type": "code",
   "execution_count": 92,
   "metadata": {},
   "outputs": [
    {
     "data": {
      "image/png": "[encoded data removed]",
      "text/plain": [
       "<Figure size 360x360 with 1 Axes>"
      ]
     },
     "metadata": {
      "needs_background": "light"
     },
     "output_type": "display_data"
    }
   ],
   "source": [
    "plt.figure(figsize=[5,5])\n",
    "hist2d(x=PPRfitsontest,\n",
    "       y=test_labels,\n",
    "         bins=200,\n",
    "         norm=matplotlib.colors.LogNorm())\n",
    "plt.title('Projection Pursuit Performance')\n",
    "plt.ylabel('Test Set Response',size=12)\n",
    "plt.xlabel('Test Set Fitted Values',size=12)\n",
    "plt.plot([-100, 100], [-100, 100], 'b-')\n",
    "plt.xlim(-1.5,3)\n",
    "plt.ylim(-1.5,3)\n",
    "\n",
    "plt.show()"
   ]
  },
  {
   "cell_type": "code",
   "execution_count": 93,
   "metadata": {},
   "outputs": [
    {
     "name": "stdout",
     "output_type": "stream",
     "text": [
      "RMSE NN on test set:\n",
      "0.3146382965404856\n",
      "RMSE NN on training set:\n",
      "0.3078380094888847\n"
     ]
    }
   ],
   "source": [
    "print(\"RMSE NN on test set:\")\n",
    "print(sqrt(mean((NNfitsontest-test_labels)**2)))\n",
    "\n",
    "print(\"RMSE NN on training set:\")\n",
    "print(sqrt(mean((NNfitsontrain-train_labels)**2)))"
   ]
  },
  {
   "cell_type": "code",
   "execution_count": 94,
   "metadata": {},
   "outputs": [
    {
     "data": {
      "image/png": "[encoded data removed]",
      "text/plain": [
       "<Figure size 360x360 with 1 Axes>"
      ]
     },
     "metadata": {
      "needs_background": "light"
     },
     "output_type": "display_data"
    }
   ],
   "source": [
    "plt.figure(figsize=[5,5])\n",
    "hist2d(x=NNfitsontest,\n",
    "       y=test_labels,\n",
    "         bins=200,\n",
    "         norm=matplotlib.colors.LogNorm())\n",
    "plt.title('Neural Network Performance')\n",
    "plt.ylabel('Test Set Response',size=12)\n",
    "plt.xlabel('Test Set Fitted Values',size=12)\n",
    "plt.plot([-100, 100], [-100, 100], 'b-')\n",
    "plt.xlim(-1.5,3)\n",
    "plt.ylim(-1.5,3)\n",
    "\n",
    "plt.show()"
   ]
  }
 ],
 "metadata": {
  "celltoolbar": "Tags",
  "kernelspec": {
   "display_name": "Python 3",
   "language": "python",
   "name": "python3"
  },
  "language_info": {
   "codemirror_mode": {
    "name": "ipython",
    "version": 3
   },
   "file_extension": ".py",
   "mimetype": "text/x-python",
   "name": "python",
   "nbconvert_exporter": "python",
   "pygments_lexer": "ipython3",
   "version": "3.8.3"
  }
 },
 "nbformat": 4,
 "nbformat_minor": 5
}
