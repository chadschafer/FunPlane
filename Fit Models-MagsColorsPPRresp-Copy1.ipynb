{
 "cells": [
  {
   "cell_type": "markdown",
   "metadata": {},
   "source": [
    "# Basic settings"
   ]
  },
  {
   "cell_type": "markdown",
   "metadata": {},
   "source": [
    "In an ideal world, only the things in the cell below would need to be changed."
   ]
  },
  {
   "cell_type": "code",
   "execution_count": 1,
   "metadata": {},
   "outputs": [],
   "source": [
    "file_dir='./temp/ChadAnalyses/MagsColorsPPRresp/'\n",
    "\n",
    "# This controls the number of projection functions in the PPR\n",
    "ruse = 5\n",
    "\n",
    "PPRpredsuse = ['rband Mag','gband Mag','iband Mag','zband Mag','g - r','r - i','i - z']\n",
    "\n",
    "NNpredsuse = PPRpredsuse\n",
    "for i in range(ruse):\n",
    "    NNpredsuse = NNpredsuse + ['PPRcompsplit' + chr(i+ord('0'))]\n",
    "\n",
    "predsscl = ['rband Mag','gband Mag','iband Mag','zband Mag','g - r','r - i','i - z']\n",
    "\n",
    "traintestseed = 1"
   ]
  },
  {
   "cell_type": "code",
   "execution_count": 2,
   "metadata": {},
   "outputs": [
    {
     "name": "stdout",
     "output_type": "stream",
     "text": [
      "Populating the interactive namespace from numpy and matplotlib\n"
     ]
    }
   ],
   "source": [
    "%pylab inline\n",
    "\n",
    "import illustris_python as il\n",
    "import pandas as pd\n",
    "import pickle\n",
    "\n",
    "import os\n",
    "\n",
    "from astropy.table import Table\n",
    "\n",
    "from matplotlib.colors import LogNorm"
   ]
  },
  {
   "cell_type": "code",
   "execution_count": 3,
   "metadata": {},
   "outputs": [],
   "source": [
    "basePath= '/hildafs/datasets/IllustrisTNG/TNG100-1/output'\n",
    "snapNum=99 #refers to final snapshot, redshift of zero"
   ]
  },
  {
   "cell_type": "markdown",
   "metadata": {},
   "source": [
    "# Create the combined catalog"
   ]
  },
  {
   "cell_type": "markdown",
   "metadata": {},
   "source": [
    "Start with data from the base Illustris catalog.\n",
    "\n",
    "See https://www.tng-project.org/data/docs/specifications/#sec2b"
   ]
  },
  {
   "cell_type": "markdown",
   "metadata": {},
   "source": [
    "These are the fields that will be extracted from this catalog."
   ]
  },
  {
   "cell_type": "code",
   "execution_count": 4,
   "metadata": {},
   "outputs": [],
   "source": [
    "addvariables = ['SubhaloBHMass','SubhaloGasMetallicity','SubhaloSFR',\n",
    "                'SubhaloStarMetallicity','SubhaloVmax']"
   ]
  },
  {
   "cell_type": "code",
   "execution_count": 5,
   "metadata": {},
   "outputs": [],
   "source": [
    "fields = ['SubhaloGrNr',\n",
    "          'SubhaloFlag',\n",
    "          'SubhaloMassType',\n",
    "          'SubhaloPos',\n",
    "          'SubhaloStellarPhotometrics',\n",
    "          'SubhaloMassInHalfRad',\n",
    "          'SubhaloHalfmassRad',\n",
    "          'SubhaloHalfmassRadType'] + addvariables"
   ]
  },
  {
   "cell_type": "code",
   "execution_count": 6,
   "metadata": {},
   "outputs": [],
   "source": [
    "subhalos=il.groupcat.loadSubhalos(basePath,snapNum,fields=fields)"
   ]
  },
  {
   "cell_type": "markdown",
   "metadata": {},
   "source": [
    "This is here just for reference:\n",
    "\n",
    "0. PartType0 - GAS\n",
    "1. PartType1 - DM\n",
    "2. PartType2 - (unused)\n",
    "3. PartType3 - TRACERS\n",
    "4. PartType4 - STARS & WIND PARTICLES\n",
    "5. PartType5 - BLACK HOLES"
   ]
  },
  {
   "cell_type": "markdown",
   "metadata": {},
   "source": [
    "### Read in additional catalogs"
   ]
  },
  {
   "cell_type": "markdown",
   "metadata": {},
   "source": [
    "THIS SEEMS TO BE UNNECESSARY. EVERYTHING IN HERE APPEARS TO BE IN THE FULL CATALOG BELOW.\n",
    "The shape catalog. Note that this catalog already comes in with a mass cut of `10**10 M_sun`."
   ]
  },
  {
   "cell_type": "code",
   "execution_count": 7,
   "metadata": {},
   "outputs": [],
   "source": [
    "#df_non_red_100_subfind_shapes = pd.DataFrame(\n",
    "#    pickle.load(open('/hildafs/datasets/IllustrisTNG/TNG100-1/df_non_red_100_subfind_mass-cut10', \"rb\" ) ))\n",
    "#df_non_red_100_subfind_shapes.shape"
   ]
  },
  {
   "cell_type": "markdown",
   "metadata": {},
   "source": [
    "The velocity dispersion catalog."
   ]
  },
  {
   "cell_type": "code",
   "execution_count": 8,
   "metadata": {
    "scrolled": true
   },
   "outputs": [
    {
     "name": "stdout",
     "output_type": "stream",
     "text": [
      "(20051, 5)\n"
     ]
    },
    {
     "data": {
      "text/html": [
       "<div>\n",
       "<style scoped>\n",
       "    .dataframe tbody tr th:only-of-type {\n",
       "        vertical-align: middle;\n",
       "    }\n",
       "\n",
       "    .dataframe tbody tr th {\n",
       "        vertical-align: top;\n",
       "    }\n",
       "\n",
       "    .dataframe thead th {\n",
       "        text-align: right;\n",
       "    }\n",
       "</style>\n",
       "<table border=\"1\" class=\"dataframe\">\n",
       "  <thead>\n",
       "    <tr style=\"text-align: right;\">\n",
       "      <th></th>\n",
       "      <th>gal_id</th>\n",
       "      <th>Lx</th>\n",
       "      <th>Ly</th>\n",
       "      <th>Lz</th>\n",
       "      <th>sigma_v</th>\n",
       "    </tr>\n",
       "  </thead>\n",
       "  <tbody>\n",
       "    <tr>\n",
       "      <th>0</th>\n",
       "      <td>0.0</td>\n",
       "      <td>-9.085662</td>\n",
       "      <td>-7.872045</td>\n",
       "      <td>-4.559502</td>\n",
       "      <td>374.378662</td>\n",
       "    </tr>\n",
       "    <tr>\n",
       "      <th>1</th>\n",
       "      <td>1.0</td>\n",
       "      <td>1.795185</td>\n",
       "      <td>-0.857926</td>\n",
       "      <td>1.563985</td>\n",
       "      <td>214.005508</td>\n",
       "    </tr>\n",
       "    <tr>\n",
       "      <th>2</th>\n",
       "      <td>2.0</td>\n",
       "      <td>0.620052</td>\n",
       "      <td>2.585010</td>\n",
       "      <td>0.742175</td>\n",
       "      <td>196.719849</td>\n",
       "    </tr>\n",
       "    <tr>\n",
       "      <th>3</th>\n",
       "      <td>3.0</td>\n",
       "      <td>0.292968</td>\n",
       "      <td>-0.387597</td>\n",
       "      <td>-1.368885</td>\n",
       "      <td>106.750359</td>\n",
       "    </tr>\n",
       "    <tr>\n",
       "      <th>4</th>\n",
       "      <td>4.0</td>\n",
       "      <td>-0.058817</td>\n",
       "      <td>0.112009</td>\n",
       "      <td>-0.858557</td>\n",
       "      <td>116.125282</td>\n",
       "    </tr>\n",
       "  </tbody>\n",
       "</table>\n",
       "</div>"
      ],
      "text/plain": [
       "   gal_id        Lx        Ly        Lz     sigma_v\n",
       "0     0.0 -9.085662 -7.872045 -4.559502  374.378662\n",
       "1     1.0  1.795185 -0.857926  1.563985  214.005508\n",
       "2     2.0  0.620052  2.585010  0.742175  196.719849\n",
       "3     3.0  0.292968 -0.387597 -1.368885  106.750359\n",
       "4     4.0 -0.058817  0.112009 -0.858557  116.125282"
      ]
     },
     "execution_count": 8,
     "metadata": {},
     "output_type": "execute_result"
    }
   ],
   "source": [
    "df_non_red_100_subfind_sigma_v = pd.DataFrame(pickle.load(\n",
    "    open('/hildafs/datasets/IllustrisTNG/TNG100-1/TNG100-1_99_galaxy_vel_disp_100.0.p', \n",
    "         \"rb\" ) ))\n",
    "\n",
    "print(df_non_red_100_subfind_sigma_v.shape)\n",
    "df_non_red_100_subfind_sigma_v.head()"
   ]
  },
  {
   "cell_type": "markdown",
   "metadata": {},
   "source": [
    "The \"full\" catalog."
   ]
  },
  {
   "cell_type": "code",
   "execution_count": 9,
   "metadata": {
    "scrolled": true
   },
   "outputs": [
    {
     "name": "stdout",
     "output_type": "stream",
     "text": [
      "(20051, 114)\n"
     ]
    },
    {
     "data": {
      "text/html": [
       "<div>\n",
       "<style scoped>\n",
       "    .dataframe tbody tr th:only-of-type {\n",
       "        vertical-align: middle;\n",
       "    }\n",
       "\n",
       "    .dataframe tbody tr th {\n",
       "        vertical-align: top;\n",
       "    }\n",
       "\n",
       "    .dataframe thead th {\n",
       "        text-align: right;\n",
       "    }\n",
       "</style>\n",
       "<table border=\"1\" class=\"dataframe\">\n",
       "  <thead>\n",
       "    <tr style=\"text-align: right;\">\n",
       "      <th></th>\n",
       "      <th>gal_id</th>\n",
       "      <th>f_disk</th>\n",
       "      <th>int_disk_thin</th>\n",
       "      <th>int_disk_thick</th>\n",
       "      <th>int_disk_counter_exp2</th>\n",
       "      <th>chisq_exp2</th>\n",
       "      <th>int_disk_exp1</th>\n",
       "      <th>int_disk_counter_exp1</th>\n",
       "      <th>chisq_exp1</th>\n",
       "      <th>mc_disk</th>\n",
       "      <th>...</th>\n",
       "      <th>bv_z</th>\n",
       "      <th>cv_x</th>\n",
       "      <th>cv_y</th>\n",
       "      <th>cv_z</th>\n",
       "      <th>mass</th>\n",
       "      <th>gal_pos_x</th>\n",
       "      <th>gal_pos_y</th>\n",
       "      <th>gal_pos_z</th>\n",
       "      <th>e1</th>\n",
       "      <th>e2</th>\n",
       "    </tr>\n",
       "  </thead>\n",
       "  <tbody>\n",
       "    <tr>\n",
       "      <th>0</th>\n",
       "      <td>0.0</td>\n",
       "      <td>0.102826</td>\n",
       "      <td>1.120683e-11</td>\n",
       "      <td>0.252965</td>\n",
       "      <td>0.090781</td>\n",
       "      <td>69.553006</td>\n",
       "      <td>0.359817</td>\n",
       "      <td>0.198626</td>\n",
       "      <td>54.325447</td>\n",
       "      <td>0.229510</td>\n",
       "      <td>...</td>\n",
       "      <td>0.377225</td>\n",
       "      <td>0.782535</td>\n",
       "      <td>0.612006</td>\n",
       "      <td>0.114402</td>\n",
       "      <td>3.705585e+12</td>\n",
       "      <td>0.849091</td>\n",
       "      <td>26.326996</td>\n",
       "      <td>18.306934</td>\n",
       "      <td>-0.109703</td>\n",
       "      <td>-0.157248</td>\n",
       "    </tr>\n",
       "    <tr>\n",
       "      <th>1</th>\n",
       "      <td>1.0</td>\n",
       "      <td>0.073827</td>\n",
       "      <td>5.167568e-03</td>\n",
       "      <td>0.082322</td>\n",
       "      <td>0.064100</td>\n",
       "      <td>287.146480</td>\n",
       "      <td>0.208253</td>\n",
       "      <td>0.173610</td>\n",
       "      <td>272.848191</td>\n",
       "      <td>0.084007</td>\n",
       "      <td>...</td>\n",
       "      <td>0.469768</td>\n",
       "      <td>-0.159400</td>\n",
       "      <td>0.476258</td>\n",
       "      <td>-0.864737</td>\n",
       "      <td>5.587917e+11</td>\n",
       "      <td>0.106473</td>\n",
       "      <td>24.633322</td>\n",
       "      <td>16.900553</td>\n",
       "      <td>0.295580</td>\n",
       "      <td>0.009956</td>\n",
       "    </tr>\n",
       "    <tr>\n",
       "      <th>2</th>\n",
       "      <td>2.0</td>\n",
       "      <td>0.104297</td>\n",
       "      <td>5.651366e-02</td>\n",
       "      <td>0.208010</td>\n",
       "      <td>0.100389</td>\n",
       "      <td>63.551982</td>\n",
       "      <td>0.203645</td>\n",
       "      <td>0.071742</td>\n",
       "      <td>77.861395</td>\n",
       "      <td>0.237992</td>\n",
       "      <td>...</td>\n",
       "      <td>-0.293690</td>\n",
       "      <td>0.135702</td>\n",
       "      <td>0.904910</td>\n",
       "      <td>0.403390</td>\n",
       "      <td>6.271396e+11</td>\n",
       "      <td>0.853112</td>\n",
       "      <td>26.725748</td>\n",
       "      <td>17.510679</td>\n",
       "      <td>0.026402</td>\n",
       "      <td>-0.016790</td>\n",
       "    </tr>\n",
       "    <tr>\n",
       "      <th>3</th>\n",
       "      <td>3.0</td>\n",
       "      <td>0.293960</td>\n",
       "      <td>3.609416e-01</td>\n",
       "      <td>0.187110</td>\n",
       "      <td>0.037387</td>\n",
       "      <td>72.289555</td>\n",
       "      <td>0.448154</td>\n",
       "      <td>0.028169</td>\n",
       "      <td>967.551351</td>\n",
       "      <td>0.564971</td>\n",
       "      <td>...</td>\n",
       "      <td>-0.012360</td>\n",
       "      <td>-0.111798</td>\n",
       "      <td>0.556926</td>\n",
       "      <td>0.823003</td>\n",
       "      <td>1.715515e+11</td>\n",
       "      <td>0.245455</td>\n",
       "      <td>26.517372</td>\n",
       "      <td>15.888749</td>\n",
       "      <td>-0.066341</td>\n",
       "      <td>-0.033003</td>\n",
       "    </tr>\n",
       "    <tr>\n",
       "      <th>4</th>\n",
       "      <td>4.0</td>\n",
       "      <td>0.158796</td>\n",
       "      <td>7.771672e-02</td>\n",
       "      <td>0.102280</td>\n",
       "      <td>0.022292</td>\n",
       "      <td>72.560206</td>\n",
       "      <td>0.135537</td>\n",
       "      <td>0.005955</td>\n",
       "      <td>184.095625</td>\n",
       "      <td>0.199667</td>\n",
       "      <td>...</td>\n",
       "      <td>0.015853</td>\n",
       "      <td>-0.002944</td>\n",
       "      <td>-0.163988</td>\n",
       "      <td>0.986458</td>\n",
       "      <td>1.333404e+11</td>\n",
       "      <td>0.768784</td>\n",
       "      <td>26.518290</td>\n",
       "      <td>15.530523</td>\n",
       "      <td>-0.028562</td>\n",
       "      <td>0.007162</td>\n",
       "    </tr>\n",
       "  </tbody>\n",
       "</table>\n",
       "<p>5 rows × 114 columns</p>\n",
       "</div>"
      ],
      "text/plain": [
       "   gal_id    f_disk  int_disk_thin  int_disk_thick  int_disk_counter_exp2  \\\n",
       "0     0.0  0.102826   1.120683e-11        0.252965               0.090781   \n",
       "1     1.0  0.073827   5.167568e-03        0.082322               0.064100   \n",
       "2     2.0  0.104297   5.651366e-02        0.208010               0.100389   \n",
       "3     3.0  0.293960   3.609416e-01        0.187110               0.037387   \n",
       "4     4.0  0.158796   7.771672e-02        0.102280               0.022292   \n",
       "\n",
       "   chisq_exp2  int_disk_exp1  int_disk_counter_exp1  chisq_exp1   mc_disk  \\\n",
       "0   69.553006       0.359817               0.198626   54.325447  0.229510   \n",
       "1  287.146480       0.208253               0.173610  272.848191  0.084007   \n",
       "2   63.551982       0.203645               0.071742   77.861395  0.237992   \n",
       "3   72.289555       0.448154               0.028169  967.551351  0.564971   \n",
       "4   72.560206       0.135537               0.005955  184.095625  0.199667   \n",
       "\n",
       "   ...      bv_z      cv_x      cv_y      cv_z          mass  gal_pos_x  \\\n",
       "0  ...  0.377225  0.782535  0.612006  0.114402  3.705585e+12   0.849091   \n",
       "1  ...  0.469768 -0.159400  0.476258 -0.864737  5.587917e+11   0.106473   \n",
       "2  ... -0.293690  0.135702  0.904910  0.403390  6.271396e+11   0.853112   \n",
       "3  ... -0.012360 -0.111798  0.556926  0.823003  1.715515e+11   0.245455   \n",
       "4  ...  0.015853 -0.002944 -0.163988  0.986458  1.333404e+11   0.768784   \n",
       "\n",
       "   gal_pos_y  gal_pos_z        e1        e2  \n",
       "0  26.326996  18.306934 -0.109703 -0.157248  \n",
       "1  24.633322  16.900553  0.295580  0.009956  \n",
       "2  26.725748  17.510679  0.026402 -0.016790  \n",
       "3  26.517372  15.888749 -0.066341 -0.033003  \n",
       "4  26.518290  15.530523 -0.028562  0.007162  \n",
       "\n",
       "[5 rows x 114 columns]"
      ]
     },
     "execution_count": 9,
     "metadata": {},
     "output_type": "execute_result"
    }
   ],
   "source": [
    "df_non_red_100_subfind_full = pickle.load(\n",
    "    open('/hildafs/datasets/IllustrisTNG/TNG100-1/TNG100-1_99_galaxy_component_shapes_3I_subfind_FULL_mass-cut9.p', \n",
    "         \"rb\" ) )\n",
    "\n",
    "print(df_non_red_100_subfind_full.shape)\n",
    "df_non_red_100_subfind_full.head()"
   ]
  },
  {
   "cell_type": "markdown",
   "metadata": {},
   "source": [
    "Note that, for some reason, `gal_id` appears twice in the \"full\" catalog. Hence, the `drop` function removes both of those instances. It's for this reason that I am dropping from the \"full\" catalog, and not from the velocity dispersion catalog."
   ]
  },
  {
   "cell_type": "code",
   "execution_count": 10,
   "metadata": {
    "scrolled": true
   },
   "outputs": [],
   "source": [
    "fullinfo = pd.concat(\n",
    "    [df_non_red_100_subfind_full.drop({'gal_id'},axis=1),\n",
    "     df_non_red_100_subfind_sigma_v], \n",
    "     axis=1)"
   ]
  },
  {
   "cell_type": "markdown",
   "metadata": {},
   "source": [
    "### Create the merged catalog"
   ]
  },
  {
   "cell_type": "markdown",
   "metadata": {},
   "source": [
    "For each variable in the base catalog, need to extract the elements based on `gal_id` in the supplemental catalog."
   ]
  },
  {
   "cell_type": "markdown",
   "metadata": {},
   "source": [
    "The photometric magnitudes."
   ]
  },
  {
   "cell_type": "code",
   "execution_count": 11,
   "metadata": {},
   "outputs": [],
   "source": [
    "fullinfo['gband Mag'] = subhalos['SubhaloStellarPhotometrics'][fullinfo['gal_id'].astype('int'),4]\n",
    "fullinfo['rband Mag'] = subhalos['SubhaloStellarPhotometrics'][fullinfo['gal_id'].astype('int'),5]\n",
    "fullinfo['iband Mag'] = subhalos['SubhaloStellarPhotometrics'][fullinfo['gal_id'].astype('int'),6]\n",
    "fullinfo['zband Mag'] = subhalos['SubhaloStellarPhotometrics'][fullinfo['gal_id'].astype('int'),7]"
   ]
  },
  {
   "cell_type": "markdown",
   "metadata": {},
   "source": [
    "Colors"
   ]
  },
  {
   "cell_type": "code",
   "execution_count": 12,
   "metadata": {},
   "outputs": [],
   "source": [
    "fullinfo['g - r'] = fullinfo['gband Mag'] - fullinfo['rband Mag']\n",
    "fullinfo['r - i'] = fullinfo['rband Mag'] - fullinfo['iband Mag']\n",
    "fullinfo['i - z'] = fullinfo['iband Mag'] - fullinfo['zband Mag']"
   ]
  },
  {
   "cell_type": "markdown",
   "metadata": {},
   "source": [
    "Size and mass. (Mass measures stars.)"
   ]
  },
  {
   "cell_type": "code",
   "execution_count": 13,
   "metadata": {},
   "outputs": [],
   "source": [
    "fullinfo['size'] = subhalos['SubhaloHalfmassRad'][fullinfo['gal_id'].astype('int')]\n",
    "fullinfo['galaxy_mass'] = \\\n",
    "     subhalos['SubhaloMassType'][fullinfo['gal_id'].astype('int'),4]*10**10"
   ]
  },
  {
   "cell_type": "markdown",
   "metadata": {},
   "source": [
    "Other variables from the base catalog."
   ]
  },
  {
   "cell_type": "code",
   "execution_count": 14,
   "metadata": {},
   "outputs": [],
   "source": [
    "for addvar in addvariables:\n",
    "    fullinfo[addvar] = subhalos[addvar][fullinfo['gal_id'].astype('int')]"
   ]
  },
  {
   "cell_type": "markdown",
   "metadata": {},
   "source": [
    "The subhalo flag is mapped over, in order to exclude flagged observations."
   ]
  },
  {
   "cell_type": "code",
   "execution_count": 15,
   "metadata": {},
   "outputs": [],
   "source": [
    "fullinfo['subhaloflag'] = subhalos['SubhaloFlag'][fullinfo['gal_id'].astype('int')]"
   ]
  },
  {
   "cell_type": "markdown",
   "metadata": {},
   "source": [
    "There are some duplicated columns. Note that the data in them were not actually identical. In particular, the position variables were off by a factor of 1000."
   ]
  },
  {
   "cell_type": "code",
   "execution_count": 16,
   "metadata": {},
   "outputs": [],
   "source": [
    "fullinfo = fullinfo.loc[:,~fullinfo.columns.duplicated()]"
   ]
  },
  {
   "cell_type": "markdown",
   "metadata": {},
   "source": [
    "Exclude any observations for which the `SubhaloFlag` is `False` or the mass is not sufficiently large. If mass cutoff is $10^9$, there should be 17513 rows remaining. If the mass cutoff is $10^{10}$, there should be 4987 rows remaining."
   ]
  },
  {
   "cell_type": "code",
   "execution_count": 17,
   "metadata": {},
   "outputs": [
    {
     "name": "stdout",
     "output_type": "stream",
     "text": [
      "17513\n"
     ]
    }
   ],
   "source": [
    "keep = (fullinfo['subhaloflag']) & (fullinfo['galaxy_mass'] > 10**9) \n",
    "print(sum(keep))\n",
    "\n",
    "subinfo = fullinfo[keep].copy()"
   ]
  },
  {
   "cell_type": "markdown",
   "metadata": {},
   "source": [
    "Create log-transformed versions of some variables."
   ]
  },
  {
   "cell_type": "code",
   "execution_count": 18,
   "metadata": {},
   "outputs": [],
   "source": [
    "varsToLogTransform = ['galaxy_mass',\n",
    "                      'sigma_v',\n",
    "                      'size']\n",
    "\n",
    "for varname in varsToLogTransform:\n",
    "    subinfo['log ' + varname] = log10(subinfo[varname])"
   ]
  },
  {
   "cell_type": "markdown",
   "metadata": {},
   "source": [
    "Some of the variables have a spike of values at zero, but are otherwise positive (and skewed). The strategy taken here is to create an indicator variable for zero values, and then log transform the positive values. Hence, there are two variables included in the model for each of these."
   ]
  },
  {
   "cell_type": "code",
   "execution_count": 19,
   "metadata": {},
   "outputs": [],
   "source": [
    "# SubhaloBHMassZero\n",
    "\n",
    "subinfo['SubhaloBHMassZero'] = (subinfo['SubhaloBHMass'] == 0).astype(int)\n",
    "\n",
    "subinfo['log SubhaloBHMass'] = \\\n",
    "   [0 if val == 0 else log10(val) for val in subinfo['SubhaloBHMass']]\n",
    "\n",
    "\n",
    "# SubhaloSFR\n",
    "\n",
    "subinfo['SubhaloSFRZero'] = (subinfo['SubhaloSFR'] == 0).astype(int)\n",
    "\n",
    "subinfo['log SubhaloSFR'] = \\\n",
    "   [0 if val == 0 else log10(val) for val in subinfo['SubhaloSFR']]\n",
    "\n",
    "\n",
    "# SubhaloGasMetallicity is not skewed\n",
    "\n",
    "subinfo['SubhaloGasMetallicityZero'] = (subinfo['SubhaloGasMetallicity'] == 0).astype(int)\n"
   ]
  },
  {
   "cell_type": "markdown",
   "metadata": {},
   "source": [
    "Create indicators for the different size bins."
   ]
  },
  {
   "cell_type": "code",
   "execution_count": 20,
   "metadata": {},
   "outputs": [],
   "source": [
    "holdQ = pd.qcut(subinfo['log size'],4,labels=[\"SizeQ1\",\"SizeQ2\",\"SizeQ3\",\"SizeQ4\"])\n",
    "\n",
    "subinfo['SizeQ1'] = (holdQ == \"SizeQ1\").astype(int)\n",
    "subinfo['SizeQ2'] = (holdQ == \"SizeQ2\").astype(int)\n",
    "subinfo['SizeQ3'] = (holdQ == \"SizeQ3\").astype(int)\n",
    "subinfo['SizeQ4'] = (holdQ == \"SizeQ4\").astype(int)\n",
    "\n",
    "subinfo['small sigma_v'] = (subinfo['log sigma_v'] <-2).astype(int)\n",
    "\n",
    "#subinfo = subinfo[subinfo['SizeQ4']==1]"
   ]
  },
  {
   "cell_type": "markdown",
   "metadata": {},
   "source": [
    "## Set the predictors and response"
   ]
  },
  {
   "cell_type": "code",
   "execution_count": 21,
   "metadata": {},
   "outputs": [],
   "source": [
    "respuse = 'log size'"
   ]
  },
  {
   "cell_type": "markdown",
   "metadata": {},
   "source": [
    "The predictors are now set at the top of the file."
   ]
  },
  {
   "cell_type": "raw",
   "metadata": {},
   "source": [
    "predsuse = ['log galaxy_mass','log sigma_v','rband Mag','gband Mag','iband Mag','zband Mag',\n",
    "           'g - r','r - i','i - z','mc_disk'] + addvariables\n",
    "\n",
    "predsuse = ['log galaxy_mass','log sigma_v','rband Mag','gband Mag','iband Mag','zband Mag',\n",
    "           'mc_disk','log SubhaloBHMass','log SubhaloBHMassZero','SubhaloSFR',\n",
    "            'SubhaloStarMetallicity','SubhaloVmax']\n",
    "\n",
    "predsuse = ['log galaxy_mass','log sigma_v','rband Mag','gband Mag','iband Mag',\n",
    "            'zband Mag', 'mc_disk','log SubhaloBHMass','SubhaloBHMassZero',\n",
    "            'log SubhaloSFR', 'SubhaloSFRZero']\n",
    "\n",
    "predsuse = ['log galaxy_mass','log sigma_v','rband Mag','gband Mag','iband Mag',\n",
    "            'zband Mag', 'g - r','r - i','i - z',\n",
    "            'log SubhaloSFR', 'SubhaloSFRZero','mc_disk']\n",
    "\n",
    "predsuse = ['log galaxy_mass','log sigma_v','rband Mag','gband Mag','iband Mag',\n",
    "            'zband Mag', 'g - r','r - i','i - z',\n",
    "            'log SubhaloSFR', 'SubhaloSFRZero']\n",
    "\n",
    "predsuse = ['log galaxy_mass','log sigma_v','rband Mag','gband Mag','iband Mag',\n",
    "            'zband Mag', 'g - r','r - i','i - z',\n",
    "            'log SubhaloSFR', 'SubhaloSFRZero','SizeQ1','SizeQ2','SizeQ3']\n",
    "\n",
    "predsuse = ['log galaxy_mass','log sigma_v','rband Mag','gband Mag','iband Mag',\n",
    "            'zband Mag', 'g - r','r - i','i - z',\n",
    "            'log SubhaloSFR', 'SubhaloSFRZero','central_bool','mc_disk','small sigma_v']\n",
    "\n",
    "\n",
    "PPRpredsuse = ['rband Mag','gband Mag','iband Mag',\n",
    "            'zband Mag', 'g - r','r - i','i - z']"
   ]
  },
  {
   "cell_type": "markdown",
   "metadata": {},
   "source": [
    "## Scale Selected Predictors"
   ]
  },
  {
   "cell_type": "code",
   "execution_count": 22,
   "metadata": {},
   "outputs": [],
   "source": [
    "from sklearn import preprocessing\n",
    "\n",
    "scaler = preprocessing.StandardScaler(copy=True)\n",
    "\n",
    "scaler.fit(subinfo[predsscl])\n",
    "\n",
    "foo = pd.DataFrame(scaler.transform(subinfo[predsscl]),columns=predsscl, index=subinfo.index)\n",
    "\n",
    "subinfo = pd.DataFrame.join(subinfo.drop(predsscl,axis=1),foo)"
   ]
  },
  {
   "cell_type": "code",
   "execution_count": 23,
   "metadata": {
    "scrolled": false
   },
   "outputs": [
    {
     "data": {
      "text/html": [
       "<div>\n",
       "<style scoped>\n",
       "    .dataframe tbody tr th:only-of-type {\n",
       "        vertical-align: middle;\n",
       "    }\n",
       "\n",
       "    .dataframe tbody tr th {\n",
       "        vertical-align: top;\n",
       "    }\n",
       "\n",
       "    .dataframe thead th {\n",
       "        text-align: right;\n",
       "    }\n",
       "</style>\n",
       "<table border=\"1\" class=\"dataframe\">\n",
       "  <thead>\n",
       "    <tr style=\"text-align: right;\">\n",
       "      <th></th>\n",
       "      <th>f_disk</th>\n",
       "      <th>int_disk_thin</th>\n",
       "      <th>int_disk_thick</th>\n",
       "      <th>int_disk_counter_exp2</th>\n",
       "      <th>chisq_exp2</th>\n",
       "      <th>int_disk_exp1</th>\n",
       "      <th>int_disk_counter_exp1</th>\n",
       "      <th>chisq_exp1</th>\n",
       "      <th>mc_disk</th>\n",
       "      <th>a_simple_disk</th>\n",
       "      <th>...</th>\n",
       "      <th>SizeQ3</th>\n",
       "      <th>SizeQ4</th>\n",
       "      <th>small sigma_v</th>\n",
       "      <th>rband Mag</th>\n",
       "      <th>gband Mag</th>\n",
       "      <th>iband Mag</th>\n",
       "      <th>zband Mag</th>\n",
       "      <th>g - r</th>\n",
       "      <th>r - i</th>\n",
       "      <th>i - z</th>\n",
       "    </tr>\n",
       "  </thead>\n",
       "  <tbody>\n",
       "    <tr>\n",
       "      <th>0</th>\n",
       "      <td>0.102826</td>\n",
       "      <td>1.120683e-11</td>\n",
       "      <td>0.252965</td>\n",
       "      <td>0.090781</td>\n",
       "      <td>69.553006</td>\n",
       "      <td>0.359817</td>\n",
       "      <td>0.198626</td>\n",
       "      <td>54.325447</td>\n",
       "      <td>0.229510</td>\n",
       "      <td>0.263015</td>\n",
       "      <td>...</td>\n",
       "      <td>0</td>\n",
       "      <td>1</td>\n",
       "      <td>0</td>\n",
       "      <td>-4.764354</td>\n",
       "      <td>-4.514183</td>\n",
       "      <td>-4.818780</td>\n",
       "      <td>-4.828142</td>\n",
       "      <td>1.405849</td>\n",
       "      <td>1.368940</td>\n",
       "      <td>1.326348</td>\n",
       "    </tr>\n",
       "    <tr>\n",
       "      <th>1</th>\n",
       "      <td>0.073827</td>\n",
       "      <td>5.167568e-03</td>\n",
       "      <td>0.082322</td>\n",
       "      <td>0.064100</td>\n",
       "      <td>287.146480</td>\n",
       "      <td>0.208253</td>\n",
       "      <td>0.173610</td>\n",
       "      <td>272.848191</td>\n",
       "      <td>0.084007</td>\n",
       "      <td>0.093535</td>\n",
       "      <td>...</td>\n",
       "      <td>0</td>\n",
       "      <td>1</td>\n",
       "      <td>0</td>\n",
       "      <td>-3.128438</td>\n",
       "      <td>-2.902219</td>\n",
       "      <td>-3.187275</td>\n",
       "      <td>-3.206353</td>\n",
       "      <td>1.332555</td>\n",
       "      <td>1.285862</td>\n",
       "      <td>1.205309</td>\n",
       "    </tr>\n",
       "    <tr>\n",
       "      <th>2</th>\n",
       "      <td>0.104297</td>\n",
       "      <td>5.651366e-02</td>\n",
       "      <td>0.208010</td>\n",
       "      <td>0.100389</td>\n",
       "      <td>63.551982</td>\n",
       "      <td>0.203645</td>\n",
       "      <td>0.071742</td>\n",
       "      <td>77.861395</td>\n",
       "      <td>0.237992</td>\n",
       "      <td>0.038423</td>\n",
       "      <td>...</td>\n",
       "      <td>0</td>\n",
       "      <td>1</td>\n",
       "      <td>0</td>\n",
       "      <td>-3.439029</td>\n",
       "      <td>-3.341743</td>\n",
       "      <td>-3.455535</td>\n",
       "      <td>-3.455128</td>\n",
       "      <td>0.464276</td>\n",
       "      <td>0.606512</td>\n",
       "      <td>0.769870</td>\n",
       "    </tr>\n",
       "    <tr>\n",
       "      <th>3</th>\n",
       "      <td>0.293960</td>\n",
       "      <td>3.609416e-01</td>\n",
       "      <td>0.187110</td>\n",
       "      <td>0.037387</td>\n",
       "      <td>72.289555</td>\n",
       "      <td>0.448154</td>\n",
       "      <td>0.028169</td>\n",
       "      <td>967.551351</td>\n",
       "      <td>0.564971</td>\n",
       "      <td>0.017284</td>\n",
       "      <td>...</td>\n",
       "      <td>0</td>\n",
       "      <td>1</td>\n",
       "      <td>0</td>\n",
       "      <td>-2.542429</td>\n",
       "      <td>-2.474658</td>\n",
       "      <td>-2.551160</td>\n",
       "      <td>-2.547872</td>\n",
       "      <td>0.315795</td>\n",
       "      <td>0.390239</td>\n",
       "      <td>0.492324</td>\n",
       "    </tr>\n",
       "    <tr>\n",
       "      <th>4</th>\n",
       "      <td>0.158796</td>\n",
       "      <td>7.771672e-02</td>\n",
       "      <td>0.102280</td>\n",
       "      <td>0.022292</td>\n",
       "      <td>72.560206</td>\n",
       "      <td>0.135537</td>\n",
       "      <td>0.005955</td>\n",
       "      <td>184.095625</td>\n",
       "      <td>0.199667</td>\n",
       "      <td>0.018827</td>\n",
       "      <td>...</td>\n",
       "      <td>0</td>\n",
       "      <td>1</td>\n",
       "      <td>0</td>\n",
       "      <td>-1.926942</td>\n",
       "      <td>-1.784699</td>\n",
       "      <td>-1.969079</td>\n",
       "      <td>-1.985330</td>\n",
       "      <td>0.839979</td>\n",
       "      <td>0.890802</td>\n",
       "      <td>0.858290</td>\n",
       "    </tr>\n",
       "  </tbody>\n",
       "</table>\n",
       "<p>5 rows × 141 columns</p>\n",
       "</div>"
      ],
      "text/plain": [
       "     f_disk  int_disk_thin  int_disk_thick  int_disk_counter_exp2  chisq_exp2  \\\n",
       "0  0.102826   1.120683e-11        0.252965               0.090781   69.553006   \n",
       "1  0.073827   5.167568e-03        0.082322               0.064100  287.146480   \n",
       "2  0.104297   5.651366e-02        0.208010               0.100389   63.551982   \n",
       "3  0.293960   3.609416e-01        0.187110               0.037387   72.289555   \n",
       "4  0.158796   7.771672e-02        0.102280               0.022292   72.560206   \n",
       "\n",
       "   int_disk_exp1  int_disk_counter_exp1  chisq_exp1   mc_disk  a_simple_disk  \\\n",
       "0       0.359817               0.198626   54.325447  0.229510       0.263015   \n",
       "1       0.208253               0.173610  272.848191  0.084007       0.093535   \n",
       "2       0.203645               0.071742   77.861395  0.237992       0.038423   \n",
       "3       0.448154               0.028169  967.551351  0.564971       0.017284   \n",
       "4       0.135537               0.005955  184.095625  0.199667       0.018827   \n",
       "\n",
       "   ...  SizeQ3  SizeQ4  small sigma_v  rband Mag  gband Mag  iband Mag  \\\n",
       "0  ...       0       1              0  -4.764354  -4.514183  -4.818780   \n",
       "1  ...       0       1              0  -3.128438  -2.902219  -3.187275   \n",
       "2  ...       0       1              0  -3.439029  -3.341743  -3.455535   \n",
       "3  ...       0       1              0  -2.542429  -2.474658  -2.551160   \n",
       "4  ...       0       1              0  -1.926942  -1.784699  -1.969079   \n",
       "\n",
       "   zband Mag     g - r     r - i     i - z  \n",
       "0  -4.828142  1.405849  1.368940  1.326348  \n",
       "1  -3.206353  1.332555  1.285862  1.205309  \n",
       "2  -3.455128  0.464276  0.606512  0.769870  \n",
       "3  -2.547872  0.315795  0.390239  0.492324  \n",
       "4  -1.985330  0.839979  0.890802  0.858290  \n",
       "\n",
       "[5 rows x 141 columns]"
      ]
     },
     "execution_count": 23,
     "metadata": {},
     "output_type": "execute_result"
    }
   ],
   "source": [
    "subinfo.head()"
   ]
  },
  {
   "cell_type": "markdown",
   "metadata": {},
   "source": [
    "## Split into Test and Training Sets"
   ]
  },
  {
   "cell_type": "code",
   "execution_count": 24,
   "metadata": {},
   "outputs": [],
   "source": [
    "from sklearn.model_selection import train_test_split"
   ]
  },
  {
   "cell_type": "code",
   "execution_count": 25,
   "metadata": {},
   "outputs": [],
   "source": [
    "train_features, test_features, train_labels, test_labels = \\\n",
    "   train_test_split(subinfo[PPRpredsuse], subinfo[respuse], \n",
    "        test_size = 0.2, random_state = traintestseed)\n",
    "\n",
    "train_features = train_features.astype(float)\n",
    "test_features = test_features.astype(float)"
   ]
  },
  {
   "cell_type": "markdown",
   "metadata": {},
   "source": [
    "# Projection Pursuit Regression"
   ]
  },
  {
   "cell_type": "code",
   "execution_count": 26,
   "metadata": {
    "scrolled": true
   },
   "outputs": [],
   "source": [
    "#pip install projection-pursuit\n",
    "from skpp import ProjectionPursuitRegressor"
   ]
  },
  {
   "cell_type": "code",
   "execution_count": 27,
   "metadata": {},
   "outputs": [],
   "source": [
    "deguse = 5"
   ]
  },
  {
   "cell_type": "code",
   "execution_count": 28,
   "metadata": {},
   "outputs": [
    {
     "data": {
      "image/png": "[encoded data removed]",
      "text/plain": [
       "<Figure size 360x360 with 1 Axes>"
      ]
     },
     "metadata": {
      "needs_background": "light"
     },
     "output_type": "display_data"
    },
    {
     "data": {
      "image/png": "[encoded data removed]",
      "text/plain": [
       "<Figure size 360x360 with 1 Axes>"
      ]
     },
     "metadata": {
      "needs_background": "light"
     },
     "output_type": "display_data"
    },
    {
     "data": {
      "image/png": "[encoded data removed]",
      "text/plain": [
       "<Figure size 360x360 with 1 Axes>"
      ]
     },
     "metadata": {
      "needs_background": "light"
     },
     "output_type": "display_data"
    },
    {
     "data": {
      "image/png": "[encoded data removed]",
      "text/plain": [
       "<Figure size 360x360 with 1 Axes>"
      ]
     },
     "metadata": {
      "needs_background": "light"
     },
     "output_type": "display_data"
    },
    {
     "data": {
      "image/png": "[encoded data removed]",
      "text/plain": [
       "<Figure size 360x360 with 1 Axes>"
      ]
     },
     "metadata": {
      "needs_background": "light"
     },
     "output_type": "display_data"
    },
    {
     "data": {
      "image/png": "[encoded data removed]",
      "text/plain": [
       "<Figure size 360x360 with 1 Axes>"
      ]
     },
     "metadata": {
      "needs_background": "light"
     },
     "output_type": "display_data"
    },
    {
     "data": {
      "image/png": "[encoded data removed]",
      "text/plain": [
       "<Figure size 360x360 with 1 Axes>"
      ]
     },
     "metadata": {
      "needs_background": "light"
     },
     "output_type": "display_data"
    }
   ],
   "source": [
    "for pred in PPRpredsuse:\n",
    "    plt.figure(figsize=[5,5])\n",
    "    hist(subinfo[pred], bins=100)\n",
    "    plt.xlabel(pred,size=12)\n",
    "    plt.show()"
   ]
  },
  {
   "cell_type": "markdown",
   "metadata": {},
   "source": [
    "Fit the model"
   ]
  },
  {
   "cell_type": "code",
   "execution_count": 29,
   "metadata": {},
   "outputs": [],
   "source": [
    "#from sklearn import preprocessing\n",
    "\n",
    "#scaler = preprocessing.StandardScaler(copy=True)\n",
    "\n",
    "#scaler.fit(train_features)\n",
    "\n",
    "#train_features_scl = pd.DataFrame(scaler.transform(train_features),columns=predsuse)\n",
    "\n",
    "#test_features_scl = pd.DataFrame(scaler.transform(test_features),columns=predsuse)"
   ]
  },
  {
   "cell_type": "code",
   "execution_count": 30,
   "metadata": {
    "scrolled": false
   },
   "outputs": [
    {
     "data": {
      "text/plain": [
       "ProjectionPursuitRegressor(degree=5, fit_type='spline', r=5)"
      ]
     },
     "execution_count": 30,
     "metadata": {},
     "output_type": "execute_result"
    }
   ],
   "source": [
    "PPRestimatorsplit = ProjectionPursuitRegressor(r=ruse,\n",
    "        show_plots=False, degree=deguse, fit_type='spline')\n",
    "\n",
    "PPRestimatorsplit.fit(train_features,train_labels)"
   ]
  },
  {
   "cell_type": "markdown",
   "metadata": {},
   "source": [
    "This is the projection of the data using the alpha vectors, i.e., this is prior to the application of the nonlinear functions."
   ]
  },
  {
   "cell_type": "code",
   "execution_count": 31,
   "metadata": {},
   "outputs": [],
   "source": [
    "projs = PPRestimatorsplit.transform(train_features)"
   ]
  },
  {
   "cell_type": "markdown",
   "metadata": {},
   "source": [
    "Determine the fits from each projection."
   ]
  },
  {
   "cell_type": "code",
   "execution_count": 32,
   "metadata": {},
   "outputs": [],
   "source": [
    "fitsbyproj = projs.copy()\n",
    "for i in range(ruse):\n",
    "    fitsbyproj[:,i] = PPRestimatorsplit._f[i](projs[:,i])*PPRestimatorsplit._beta[0][i]"
   ]
  },
  {
   "cell_type": "markdown",
   "metadata": {},
   "source": [
    "Calculate the fitted values and residuals, but also compare with what's returned by `predict`, as a double check."
   ]
  },
  {
   "cell_type": "code",
   "execution_count": 33,
   "metadata": {},
   "outputs": [
    {
     "name": "stdout",
     "output_type": "stream",
     "text": [
      "[1.43356996 1.66439754 1.32363027 ... 0.37557124 1.42120881 0.03279321]\n",
      "[1.43356996 1.66439754 1.32363027 ... 0.37557124 1.42120881 0.03279321]\n"
     ]
    }
   ],
   "source": [
    "fittedvalues = fitsbyproj.sum(1)\n",
    "residuals = train_labels - fittedvalues\n",
    "\n",
    "print(fittedvalues)\n",
    "print(PPRestimatorsplit.predict(train_features))"
   ]
  },
  {
   "cell_type": "markdown",
   "metadata": {},
   "source": [
    "This illustrates how each nonlinear function is fit to the residuals of the other fits."
   ]
  },
  {
   "cell_type": "code",
   "execution_count": 34,
   "metadata": {},
   "outputs": [
    {
     "data": {
      "image/png": "[encoded data removed]",
      "text/plain": [
       "<Figure size 864x288 with 2 Axes>"
      ]
     },
     "metadata": {
      "needs_background": "light"
     },
     "output_type": "display_data"
    },
    {
     "data": {
      "image/png": "[encoded data removed]",
      "text/plain": [
       "<Figure size 864x288 with 2 Axes>"
      ]
     },
     "metadata": {
      "needs_background": "light"
     },
     "output_type": "display_data"
    },
    {
     "data": {
      "image/png": "[encoded data removed]",
      "text/plain": [
       "<Figure size 864x288 with 2 Axes>"
      ]
     },
     "metadata": {
      "needs_background": "light"
     },
     "output_type": "display_data"
    },
    {
     "data": {
      "image/png": "[encoded data removed]",
      "text/plain": [
       "<Figure size 864x288 with 2 Axes>"
      ]
     },
     "metadata": {
      "needs_background": "light"
     },
     "output_type": "display_data"
    },
    {
     "data": {
      "image/png": "[encoded data removed]",
      "text/plain": [
       "<Figure size 864x288 with 2 Axes>"
      ]
     },
     "metadata": {
      "needs_background": "light"
     },
     "output_type": "display_data"
    }
   ],
   "source": [
    "for i in range(ruse):\n",
    "    \n",
    "    # The residuals from the fit leaving out projection i\n",
    "    residswithouti = residuals + fitsbyproj[:,i]\n",
    "    \n",
    "    fig,axs = plt.subplots(1,2,figsize=[12,4])\n",
    "    \n",
    "    axs[0].barh(PPRpredsuse, PPRestimatorsplit._alpha[:,i])\n",
    "    axs[0].plot([0, 0], [-5, len(PPRpredsuse)+5], 'k-')\n",
    "    axs[0].set(ylim=(-1,len(PPRpredsuse)))\n",
    "    \n",
    "    axs[1].hist2d(x=projs[:,i],\n",
    "       y=residswithouti,\n",
    "         bins=300,\n",
    "         norm=matplotlib.colors.LogNorm())\n",
    "\n",
    "    foo = PPRestimatorsplit._f[i](sort(projs[:,i]))*PPRestimatorsplit._beta[0][i]\n",
    "\n",
    "    plot(sort(projs[:,i]),foo,color=\"r\")\n",
    "    plt.title('')\n",
    "    plt.ylabel('Residuals',size=12)\n",
    "    plt.xlabel(('Projection '+str(i+1)),size=12)\n",
    "    plt.show()"
   ]
  },
  {
   "cell_type": "markdown",
   "metadata": {},
   "source": [
    "Plot of residuals versus fitted values."
   ]
  },
  {
   "cell_type": "code",
   "execution_count": 35,
   "metadata": {},
   "outputs": [
    {
     "data": {
      "image/png": "[encoded data removed]",
      "text/plain": [
       "<Figure size 360x360 with 1 Axes>"
      ]
     },
     "metadata": {
      "needs_background": "light"
     },
     "output_type": "display_data"
    }
   ],
   "source": [
    "plt.figure(figsize=[5,5])\n",
    "hist2d(x=fittedvalues,\n",
    "       y=residuals,\n",
    "         bins=200,\n",
    "         norm=matplotlib.colors.LogNorm())\n",
    "plt.title('')\n",
    "plt.ylabel('Residuals',size=12)\n",
    "plt.xlabel('Fitted Values',size=12)\n",
    "plt.show()"
   ]
  },
  {
   "cell_type": "code",
   "execution_count": 36,
   "metadata": {},
   "outputs": [
    {
     "data": {
      "image/png": "[encoded data removed]",
      "text/plain": [
       "<Figure size 360x360 with 1 Axes>"
      ]
     },
     "metadata": {
      "needs_background": "light"
     },
     "output_type": "display_data"
    }
   ],
   "source": [
    "plt.figure(figsize=[5,5])\n",
    "hist2d(x=fittedvalues,\n",
    "       y=train_labels,\n",
    "         bins=200,\n",
    "         norm=matplotlib.colors.LogNorm())\n",
    "plt.title('')\n",
    "plt.ylabel('Response',size=12)\n",
    "plt.xlabel('Fitted Values',size=12)\n",
    "plt.plot([-100, 100], [-100, 100], 'b-')\n",
    "\n",
    "plt.show()"
   ]
  },
  {
   "cell_type": "markdown",
   "metadata": {},
   "source": [
    "### Performance on test set\n",
    "\n",
    "Note that there is one catastrophic outlier that needs to be investigated more fully. It's worth noting that `g-r` is extreme."
   ]
  },
  {
   "cell_type": "code",
   "execution_count": 37,
   "metadata": {},
   "outputs": [],
   "source": [
    "PPRfitsontest = PPRestimatorsplit.predict(test_features)"
   ]
  },
  {
   "cell_type": "code",
   "execution_count": 38,
   "metadata": {
    "scrolled": false
   },
   "outputs": [
    {
     "name": "stdout",
     "output_type": "stream",
     "text": [
      "[-2.9264727 -2.661874  -2.611964  -2.6058738 -2.4773543]\n"
     ]
    },
    {
     "data": {
      "text/html": [
       "<div>\n",
       "<style scoped>\n",
       "    .dataframe tbody tr th:only-of-type {\n",
       "        vertical-align: middle;\n",
       "    }\n",
       "\n",
       "    .dataframe tbody tr th {\n",
       "        vertical-align: top;\n",
       "    }\n",
       "\n",
       "    .dataframe thead th {\n",
       "        text-align: right;\n",
       "    }\n",
       "</style>\n",
       "<table border=\"1\" class=\"dataframe\">\n",
       "  <thead>\n",
       "    <tr style=\"text-align: right;\">\n",
       "      <th></th>\n",
       "      <th>rband Mag</th>\n",
       "      <th>gband Mag</th>\n",
       "      <th>iband Mag</th>\n",
       "      <th>zband Mag</th>\n",
       "      <th>g - r</th>\n",
       "      <th>r - i</th>\n",
       "      <th>i - z</th>\n",
       "    </tr>\n",
       "  </thead>\n",
       "  <tbody>\n",
       "  </tbody>\n",
       "</table>\n",
       "</div>"
      ],
      "text/plain": [
       "Empty DataFrame\n",
       "Columns: [rband Mag, gband Mag, iband Mag, zband Mag, g - r, r - i, i - z]\n",
       "Index: []"
      ]
     },
     "execution_count": 38,
     "metadata": {},
     "output_type": "execute_result"
    }
   ],
   "source": [
    "print(sort(subinfo['g - r'])[:5])\n",
    "\n",
    "test_features[PPRfitsontest>25]"
   ]
  },
  {
   "cell_type": "code",
   "execution_count": 39,
   "metadata": {},
   "outputs": [
    {
     "data": {
      "image/png": "[encoded data removed]",
      "text/plain": [
       "<Figure size 360x360 with 1 Axes>"
      ]
     },
     "metadata": {
      "needs_background": "light"
     },
     "output_type": "display_data"
    }
   ],
   "source": [
    "plt.figure(figsize=[5,5])\n",
    "hist2d(x=PPRfitsontest[PPRfitsontest<25],\n",
    "       y=test_labels[PPRfitsontest<25],\n",
    "         bins=200,\n",
    "         norm=matplotlib.colors.LogNorm())\n",
    "plt.title('Projection Pursuit Performance')\n",
    "plt.ylabel('Test Set Response',size=12)\n",
    "plt.xlabel('Test Set Fitted Values',size=12)\n",
    "plt.plot([-100, 100], [-100, 100], 'b-')\n",
    "plt.xlim(-1.5,3)\n",
    "plt.ylim(-1.5,3)\n",
    "\n",
    "plt.show()"
   ]
  },
  {
   "cell_type": "markdown",
   "metadata": {},
   "source": [
    "RMSE"
   ]
  },
  {
   "cell_type": "code",
   "execution_count": 40,
   "metadata": {},
   "outputs": [
    {
     "name": "stdout",
     "output_type": "stream",
     "text": [
      "RMSE PPR on test set:\n",
      "0.267279821852352\n",
      "RMSE PPR on training set:\n",
      "0.2579194851349825\n"
     ]
    }
   ],
   "source": [
    "print(\"RMSE PPR on test set:\")\n",
    "print(sqrt(mean((PPRfitsontest-test_labels)**2)))\n",
    "\n",
    "print(\"RMSE PPR on training set:\")\n",
    "print(sqrt(mean(residuals**2)))"
   ]
  },
  {
   "cell_type": "markdown",
   "metadata": {},
   "source": [
    "Refit the model using the full data set. Calculate and store the residuals."
   ]
  },
  {
   "cell_type": "code",
   "execution_count": 41,
   "metadata": {},
   "outputs": [
    {
     "data": {
      "text/plain": [
       "ProjectionPursuitRegressor(degree=5, fit_type='spline', r=5)"
      ]
     },
     "execution_count": 41,
     "metadata": {},
     "output_type": "execute_result"
    }
   ],
   "source": [
    "PPRestimatorfull = ProjectionPursuitRegressor(r=ruse,show_plots=False,\n",
    "            degree=deguse, fit_type='spline')\n",
    "\n",
    "PPRestimatorfull.fit(subinfo[PPRpredsuse].astype(float),subinfo[respuse])"
   ]
  },
  {
   "cell_type": "code",
   "execution_count": 42,
   "metadata": {},
   "outputs": [
    {
     "name": "stdout",
     "output_type": "stream",
     "text": [
      "-1.270726285867535e-06\n",
      "0.2587192453916392\n"
     ]
    }
   ],
   "source": [
    "subinfo['PPRresids'] = subinfo[respuse] - PPRestimatorfull.predict(subinfo[PPRpredsuse].astype(float))\n",
    "\n",
    "print(mean(subinfo['PPRresids']))\n",
    "print(std(subinfo['PPRresids']))"
   ]
  },
  {
   "cell_type": "markdown",
   "metadata": {},
   "source": [
    "This will create columns in the main data frame which equal the nonparametric function applied to the projection. This is done for both the fits from the full data set, and from the fits from the training/test split."
   ]
  },
  {
   "cell_type": "code",
   "execution_count": 43,
   "metadata": {},
   "outputs": [],
   "source": [
    "projsfull = PPRestimatorfull.transform(subinfo[PPRpredsuse])\n",
    "\n",
    "for i in range(ruse):\n",
    "    subinfo['PPRcompfull' + chr(i+ord('0'))] = \\\n",
    "       PPRestimatorfull._f[i](projsfull[:,i].astype(float))*PPRestimatorfull._beta[0][i]\n",
    "    \n",
    "    \n",
    "projssplit = PPRestimatorsplit.transform(subinfo[PPRpredsuse])\n",
    "\n",
    "for i in range(ruse):\n",
    "    subinfo['PPRcompsplit' + chr(i+ord('0'))] = \\\n",
    "       PPRestimatorsplit._f[i](projssplit[:,i].astype(float))*PPRestimatorsplit._beta[0][i]"
   ]
  },
  {
   "cell_type": "code",
   "execution_count": 44,
   "metadata": {},
   "outputs": [
    {
     "data": {
      "text/html": [
       "<div>\n",
       "<style scoped>\n",
       "    .dataframe tbody tr th:only-of-type {\n",
       "        vertical-align: middle;\n",
       "    }\n",
       "\n",
       "    .dataframe tbody tr th {\n",
       "        vertical-align: top;\n",
       "    }\n",
       "\n",
       "    .dataframe thead th {\n",
       "        text-align: right;\n",
       "    }\n",
       "</style>\n",
       "<table border=\"1\" class=\"dataframe\">\n",
       "  <thead>\n",
       "    <tr style=\"text-align: right;\">\n",
       "      <th></th>\n",
       "      <th>f_disk</th>\n",
       "      <th>int_disk_thin</th>\n",
       "      <th>int_disk_thick</th>\n",
       "      <th>int_disk_counter_exp2</th>\n",
       "      <th>chisq_exp2</th>\n",
       "      <th>int_disk_exp1</th>\n",
       "      <th>int_disk_counter_exp1</th>\n",
       "      <th>chisq_exp1</th>\n",
       "      <th>mc_disk</th>\n",
       "      <th>a_simple_disk</th>\n",
       "      <th>...</th>\n",
       "      <th>PPRcompfull0</th>\n",
       "      <th>PPRcompfull1</th>\n",
       "      <th>PPRcompfull2</th>\n",
       "      <th>PPRcompfull3</th>\n",
       "      <th>PPRcompfull4</th>\n",
       "      <th>PPRcompsplit0</th>\n",
       "      <th>PPRcompsplit1</th>\n",
       "      <th>PPRcompsplit2</th>\n",
       "      <th>PPRcompsplit3</th>\n",
       "      <th>PPRcompsplit4</th>\n",
       "    </tr>\n",
       "  </thead>\n",
       "  <tbody>\n",
       "    <tr>\n",
       "      <th>0</th>\n",
       "      <td>0.102826</td>\n",
       "      <td>1.120683e-11</td>\n",
       "      <td>0.252965</td>\n",
       "      <td>0.090781</td>\n",
       "      <td>69.553006</td>\n",
       "      <td>0.359817</td>\n",
       "      <td>0.198626</td>\n",
       "      <td>54.325447</td>\n",
       "      <td>0.229510</td>\n",
       "      <td>0.263015</td>\n",
       "      <td>...</td>\n",
       "      <td>1.656011</td>\n",
       "      <td>0.187672</td>\n",
       "      <td>0.087276</td>\n",
       "      <td>1.045934</td>\n",
       "      <td>0.007127</td>\n",
       "      <td>1.663847</td>\n",
       "      <td>0.180010</td>\n",
       "      <td>0.091525</td>\n",
       "      <td>0.450489</td>\n",
       "      <td>0.427070</td>\n",
       "    </tr>\n",
       "    <tr>\n",
       "      <th>1</th>\n",
       "      <td>0.073827</td>\n",
       "      <td>5.167568e-03</td>\n",
       "      <td>0.082322</td>\n",
       "      <td>0.064100</td>\n",
       "      <td>287.146480</td>\n",
       "      <td>0.208253</td>\n",
       "      <td>0.173610</td>\n",
       "      <td>272.848191</td>\n",
       "      <td>0.084007</td>\n",
       "      <td>0.093535</td>\n",
       "      <td>...</td>\n",
       "      <td>1.592951</td>\n",
       "      <td>0.897116</td>\n",
       "      <td>0.083696</td>\n",
       "      <td>-0.148125</td>\n",
       "      <td>-0.000731</td>\n",
       "      <td>1.600706</td>\n",
       "      <td>0.860264</td>\n",
       "      <td>0.065913</td>\n",
       "      <td>-0.006814</td>\n",
       "      <td>-0.132405</td>\n",
       "    </tr>\n",
       "    <tr>\n",
       "      <th>2</th>\n",
       "      <td>0.104297</td>\n",
       "      <td>5.651366e-02</td>\n",
       "      <td>0.208010</td>\n",
       "      <td>0.100389</td>\n",
       "      <td>63.551982</td>\n",
       "      <td>0.203645</td>\n",
       "      <td>0.071742</td>\n",
       "      <td>77.861395</td>\n",
       "      <td>0.237992</td>\n",
       "      <td>0.038423</td>\n",
       "      <td>...</td>\n",
       "      <td>1.629323</td>\n",
       "      <td>0.443244</td>\n",
       "      <td>0.049980</td>\n",
       "      <td>-0.144616</td>\n",
       "      <td>0.010699</td>\n",
       "      <td>1.648076</td>\n",
       "      <td>0.469379</td>\n",
       "      <td>0.050326</td>\n",
       "      <td>-0.015916</td>\n",
       "      <td>-0.133494</td>\n",
       "    </tr>\n",
       "    <tr>\n",
       "      <th>3</th>\n",
       "      <td>0.293960</td>\n",
       "      <td>3.609416e-01</td>\n",
       "      <td>0.187110</td>\n",
       "      <td>0.037387</td>\n",
       "      <td>72.289555</td>\n",
       "      <td>0.448154</td>\n",
       "      <td>0.028169</td>\n",
       "      <td>967.551351</td>\n",
       "      <td>0.564971</td>\n",
       "      <td>0.017284</td>\n",
       "      <td>...</td>\n",
       "      <td>1.608505</td>\n",
       "      <td>0.167490</td>\n",
       "      <td>0.081255</td>\n",
       "      <td>0.017754</td>\n",
       "      <td>0.008106</td>\n",
       "      <td>1.622607</td>\n",
       "      <td>0.193421</td>\n",
       "      <td>0.086396</td>\n",
       "      <td>-0.004032</td>\n",
       "      <td>0.013798</td>\n",
       "    </tr>\n",
       "    <tr>\n",
       "      <th>4</th>\n",
       "      <td>0.158796</td>\n",
       "      <td>7.771672e-02</td>\n",
       "      <td>0.102280</td>\n",
       "      <td>0.022292</td>\n",
       "      <td>72.560206</td>\n",
       "      <td>0.135537</td>\n",
       "      <td>0.005955</td>\n",
       "      <td>184.095625</td>\n",
       "      <td>0.199667</td>\n",
       "      <td>0.018827</td>\n",
       "      <td>...</td>\n",
       "      <td>1.556960</td>\n",
       "      <td>0.396838</td>\n",
       "      <td>0.052563</td>\n",
       "      <td>0.065440</td>\n",
       "      <td>0.007632</td>\n",
       "      <td>1.556543</td>\n",
       "      <td>0.427043</td>\n",
       "      <td>0.041024</td>\n",
       "      <td>-0.014101</td>\n",
       "      <td>0.036963</td>\n",
       "    </tr>\n",
       "  </tbody>\n",
       "</table>\n",
       "<p>5 rows × 152 columns</p>\n",
       "</div>"
      ],
      "text/plain": [
       "     f_disk  int_disk_thin  int_disk_thick  int_disk_counter_exp2  chisq_exp2  \\\n",
       "0  0.102826   1.120683e-11        0.252965               0.090781   69.553006   \n",
       "1  0.073827   5.167568e-03        0.082322               0.064100  287.146480   \n",
       "2  0.104297   5.651366e-02        0.208010               0.100389   63.551982   \n",
       "3  0.293960   3.609416e-01        0.187110               0.037387   72.289555   \n",
       "4  0.158796   7.771672e-02        0.102280               0.022292   72.560206   \n",
       "\n",
       "   int_disk_exp1  int_disk_counter_exp1  chisq_exp1   mc_disk  a_simple_disk  \\\n",
       "0       0.359817               0.198626   54.325447  0.229510       0.263015   \n",
       "1       0.208253               0.173610  272.848191  0.084007       0.093535   \n",
       "2       0.203645               0.071742   77.861395  0.237992       0.038423   \n",
       "3       0.448154               0.028169  967.551351  0.564971       0.017284   \n",
       "4       0.135537               0.005955  184.095625  0.199667       0.018827   \n",
       "\n",
       "   ...  PPRcompfull0  PPRcompfull1  PPRcompfull2  PPRcompfull3  PPRcompfull4  \\\n",
       "0  ...      1.656011      0.187672      0.087276      1.045934      0.007127   \n",
       "1  ...      1.592951      0.897116      0.083696     -0.148125     -0.000731   \n",
       "2  ...      1.629323      0.443244      0.049980     -0.144616      0.010699   \n",
       "3  ...      1.608505      0.167490      0.081255      0.017754      0.008106   \n",
       "4  ...      1.556960      0.396838      0.052563      0.065440      0.007632   \n",
       "\n",
       "   PPRcompsplit0  PPRcompsplit1  PPRcompsplit2  PPRcompsplit3  PPRcompsplit4  \n",
       "0       1.663847       0.180010       0.091525       0.450489       0.427070  \n",
       "1       1.600706       0.860264       0.065913      -0.006814      -0.132405  \n",
       "2       1.648076       0.469379       0.050326      -0.015916      -0.133494  \n",
       "3       1.622607       0.193421       0.086396      -0.004032       0.013798  \n",
       "4       1.556543       0.427043       0.041024      -0.014101       0.036963  \n",
       "\n",
       "[5 rows x 152 columns]"
      ]
     },
     "execution_count": 44,
     "metadata": {},
     "output_type": "execute_result"
    }
   ],
   "source": [
    "subinfo.head()"
   ]
  },
  {
   "cell_type": "markdown",
   "metadata": {},
   "source": [
    "## Random Forest\n",
    "\n",
    "Some of the syntax is taken from \n",
    "https://towardsdatascience.com/random-forest-in-python-24d0893d51c0"
   ]
  },
  {
   "cell_type": "raw",
   "metadata": {},
   "source": [
    "from sklearn.ensemble import RandomForestRegressor"
   ]
  },
  {
   "cell_type": "markdown",
   "metadata": {},
   "source": [
    "Instantiate model with `numtrees` decision trees"
   ]
  },
  {
   "cell_type": "raw",
   "metadata": {},
   "source": [
    "numtrees = 50"
   ]
  },
  {
   "cell_type": "raw",
   "metadata": {},
   "source": [
    "rf = RandomForestRegressor(n_estimators = numtrees, random_state = 0)"
   ]
  },
  {
   "cell_type": "markdown",
   "metadata": {},
   "source": [
    "Train the model on training data"
   ]
  },
  {
   "cell_type": "raw",
   "metadata": {},
   "source": [
    "rf.fit(train_features, train_labels);"
   ]
  },
  {
   "cell_type": "markdown",
   "metadata": {},
   "source": [
    "Predict on the test set"
   ]
  },
  {
   "cell_type": "raw",
   "metadata": {},
   "source": [
    "RFfitsontest = rf.predict(test_features)"
   ]
  },
  {
   "cell_type": "raw",
   "metadata": {
    "scrolled": false
   },
   "source": [
    "plt.figure(figsize=[5,5])\n",
    "hist2d(x=RFfitsontest,\n",
    "       y=test_labels,\n",
    "         bins=200,\n",
    "         norm=matplotlib.colors.LogNorm())\n",
    "plt.title('Random Forest Performance')\n",
    "plt.ylabel('Test Set Response',size=12)\n",
    "plt.xlabel('Test Set Fitted Values',size=12)\n",
    "plt.plot([-100, 100], [-100, 100], 'b-')\n",
    "plt.xlim(-1.5,3)\n",
    "plt.ylim(-1.5,3)\n",
    "\n",
    "plt.show()"
   ]
  },
  {
   "cell_type": "raw",
   "metadata": {},
   "source": [
    "def scl01(x):\n",
    "    foo = x - min(x)\n",
    "    return foo/max(foo)"
   ]
  },
  {
   "cell_type": "raw",
   "metadata": {},
   "source": [
    "for varname in predsscl:\n",
    "    plt.figure(figsize=[5,5])\n",
    "    plt.scatter(RFfitsontest,test_labels,s=0.5,c=scl01(test_features[varname]),\n",
    "            cmap=\"magma\")\n",
    "    plt.title(varname)\n",
    "    plt.ylabel('Test Set Response',size=12)\n",
    "    plt.xlabel('Test Set Fitted Values',size=12)\n",
    "    plt.plot([-100, 100], [-100, 100], 'b-')\n",
    "    plt.xlim(-1.5,3)\n",
    "    plt.ylim(-1.5,3)\n",
    "\n",
    "    plt.show()"
   ]
  },
  {
   "cell_type": "raw",
   "metadata": {},
   "source": [
    "print(sqrt(mean((RFfitsontest-test_labels)**2)))\n",
    "print(std(test_labels))"
   ]
  },
  {
   "cell_type": "raw",
   "metadata": {
    "scrolled": true
   },
   "source": [
    "plt.figure(figsize=[5,5])\n",
    "hist2d(x=RFfitsontest[PPRfitsontest<25],\n",
    "       y=PPRfitsontest[PPRfitsontest<25],\n",
    "         bins=200,\n",
    "         norm=matplotlib.colors.LogNorm())\n",
    "plt.title('Comparing Predictions')\n",
    "plt.ylabel('Projection Pursuit Prediction',size=12)\n",
    "plt.xlabel('Random Forest Prediction',size=12)\n",
    "plt.plot([-100, 100], [-100, 100], 'b-')\n",
    "plt.xlim(-1.5,3)\n",
    "plt.ylim(-1.5,3)\n",
    "\n",
    "plt.show()"
   ]
  },
  {
   "cell_type": "markdown",
   "metadata": {},
   "source": [
    "Fit on the full data set."
   ]
  },
  {
   "cell_type": "raw",
   "metadata": {},
   "source": [
    "rffull = RandomForestRegressor(n_estimators = 1000, random_state = 0)\n",
    "\n",
    "rffull.fit(subinfo[predsuse],subinfo[respuse])\n",
    "\n",
    "subinfo['RFresids'] = subinfo[respuse] - rffull.predict(subinfo[predsuse])"
   ]
  },
  {
   "cell_type": "markdown",
   "metadata": {},
   "source": [
    "## Tuning parameter selection for Random forest"
   ]
  },
  {
   "cell_type": "markdown",
   "metadata": {},
   "source": [
    "Some of this code is adapated (stolen) from https://towardsdatascience.com/hyperparameter-tuning-the-random-forest-in-python-using-scikit-learn-28d2aa77dd74"
   ]
  },
  {
   "cell_type": "raw",
   "metadata": {},
   "source": [
    "from sklearn.model_selection import RandomizedSearchCV,GridSearchCV"
   ]
  },
  {
   "cell_type": "raw",
   "metadata": {},
   "source": [
    "# Number of trees in random forest\n",
    "n_estimators = [int(x) for x in np.linspace(start = 200, stop = 2000, num = 10)]\n",
    "\n",
    "# Maximum number of levels in tree\n",
    "max_depth = [int(x) for x in np.linspace(10, 110, num = 11)]\n",
    "max_depth.append(None)\n",
    "\n",
    "max_features = [int(x) for x in np.linspace(2,len(predsuse),num=4)]\n",
    "\n",
    "# Create the random grid\n",
    "random_grid = {'n_estimators': n_estimators,\n",
    "               'max_features': max_features,\n",
    "               'max_depth': max_depth}\n",
    "\n",
    "print(random_grid)"
   ]
  },
  {
   "cell_type": "raw",
   "metadata": {
    "scrolled": true
   },
   "source": [
    "# Use the random grid to search for best hyperparameters\n",
    "# First create the base model to tune\n",
    "rf = RandomForestRegressor()\n",
    "# Random search of parameters, using 3 fold cross validation, \n",
    "# search across n_iter different combinations, and use all available cores\n",
    "rf_random = RandomizedSearchCV(estimator = rf, param_distributions = random_grid,\n",
    "                    n_iter = 100, cv = 5, verbose=5, random_state=0, n_jobs = -1)\n",
    "# Fit the random search model\n",
    "rf_random.fit(train_features, train_labels)"
   ]
  },
  {
   "cell_type": "raw",
   "metadata": {},
   "source": [
    "print(rf_random.best_params_['n_estimators'])\n",
    "\n",
    "print(rf_random.best_params_['max_features'])\n",
    "\n",
    "print(rf_random.best_params_['max_depth'])"
   ]
  },
  {
   "cell_type": "raw",
   "metadata": {},
   "source": [
    "# Number of trees in random forest\n",
    "n_estimators = [int(x) for x in np.linspace(start = rf_random.best_params_['n_estimators']-200, \n",
    "                                            stop = rf_random.best_params_['n_estimators']+200, num = 3)]\n",
    "\n",
    "# Maximum number of levels in tree\n",
    "max_depth = [int(x) for x in np.linspace(max(rf_random.best_params_['max_depth']-20,10), \n",
    "                                         rf_random.best_params_['max_depth']+20, num = 3)]\n",
    "\n",
    "holdmf = min(rf_random.best_params_['max_features'],len(predsuse)-2)\n",
    "\n",
    "max_features = [int(x) for x in np.linspace(holdmf-2, holdmf+2,num=3)]\n",
    "\n",
    "param_grid = {\n",
    "    'max_depth': max_depth,\n",
    "    'max_features': max_features,\n",
    "    'n_estimators': n_estimators\n",
    "}\n",
    "print(param_grid)"
   ]
  },
  {
   "cell_type": "raw",
   "metadata": {
    "scrolled": true
   },
   "source": [
    "# Create a based model\n",
    "rf = RandomForestRegressor()\n",
    "# Instantiate the grid search model\n",
    "rf_grid = GridSearchCV(estimator = rf, param_grid = param_grid, \n",
    "                          cv = 5, n_jobs = -1, verbose = 2)\n",
    "\n",
    "rf_grid.fit(train_features, train_labels)"
   ]
  },
  {
   "cell_type": "raw",
   "metadata": {},
   "source": [
    "rf_grid.best_params_"
   ]
  },
  {
   "cell_type": "raw",
   "metadata": {},
   "source": [
    "RFgridfitsontest = rf_grid.predict(test_features)"
   ]
  },
  {
   "cell_type": "raw",
   "metadata": {},
   "source": [
    "plt.figure(figsize=[5,5])\n",
    "hist2d(x=RFgridfitsontest,\n",
    "       y=test_labels,\n",
    "         bins=200,\n",
    "         norm=matplotlib.colors.LogNorm())\n",
    "plt.title('Random Forest Performance')\n",
    "plt.ylabel('Test Set Response',size=12)\n",
    "plt.xlabel('Test Set Fitted Values',size=12)\n",
    "plt.plot([-100, 100], [-100, 100], 'b-')\n",
    "plt.xlim(-1.5,3)\n",
    "plt.ylim(-1.5,3)\n",
    "\n",
    "plt.show()"
   ]
  },
  {
   "cell_type": "markdown",
   "metadata": {},
   "source": [
    "\n",
    "# Neural Network\n",
    "\n",
    "Some of this syntax is based on https://towardsdatascience.com/deep-learning-with-python-neural-networks-complete-tutorial-6b53c0b06af0"
   ]
  },
  {
   "cell_type": "markdown",
   "metadata": {},
   "source": [
    "Need to redo the training/test split (using the same seed), so that the new variables are correctly allocated."
   ]
  },
  {
   "cell_type": "code",
   "execution_count": 45,
   "metadata": {},
   "outputs": [],
   "source": [
    "train_features, test_features, train_labels, test_labels = \\\n",
    "   train_test_split(subinfo[NNpredsuse], subinfo[respuse], \n",
    "        test_size = 0.2, random_state = traintestseed)\n",
    "\n",
    "train_features = train_features.astype(float)\n",
    "test_features = test_features.astype(float)"
   ]
  },
  {
   "cell_type": "code",
   "execution_count": 46,
   "metadata": {},
   "outputs": [],
   "source": [
    "from tensorflow.keras import models, layers, utils, backend as K"
   ]
  },
  {
   "cell_type": "markdown",
   "metadata": {},
   "source": [
    "Set up the model architecture"
   ]
  },
  {
   "cell_type": "code",
   "execution_count": 47,
   "metadata": {},
   "outputs": [
    {
     "name": "stdout",
     "output_type": "stream",
     "text": [
      "Model: \"SimpleNN\"\n",
      "_________________________________________________________________\n",
      "Layer (type)                 Output Shape              Param #   \n",
      "=================================================================\n",
      "h1 (Dense)                   (None, 100)               1300      \n",
      "_________________________________________________________________\n",
      "drop1 (Dropout)              (None, 100)               0         \n",
      "_________________________________________________________________\n",
      "h2 (Dense)                   (None, 100)               10100     \n",
      "_________________________________________________________________\n",
      "drop2 (Dropout)              (None, 100)               0         \n",
      "_________________________________________________________________\n",
      "output (Dense)               (None, 1)                 101       \n",
      "=================================================================\n",
      "Total params: 11,501\n",
      "Trainable params: 11,501\n",
      "Non-trainable params: 0\n",
      "_________________________________________________________________\n"
     ]
    }
   ],
   "source": [
    "n_features = len(NNpredsuse)\n",
    "\n",
    "model = models.Sequential(name=\"SimpleNN\", layers=[\n",
    "    ### hidden layer 1\n",
    "    layers.Dense(name=\"h1\", input_dim=n_features,\n",
    "                 units=100, \n",
    "                 activation='relu'),\n",
    "    \n",
    "    layers.Dropout(name=\"drop1\", rate=0.2),\n",
    "    \n",
    "    ### hidden layer 2\n",
    "    layers.Dense(name=\"h2\", units=100, \n",
    "                 activation='relu'),\n",
    "    \n",
    "    layers.Dropout(name=\"drop2\", rate=0.2),\n",
    "    \n",
    "    ### hidden layer 3\n",
    "#    layers.Dense(name=\"h3\", units=20, \n",
    " #                activation='relu'),\n",
    "  #  layers.Dropout(name=\"drop3\", rate=0.2),\n",
    "    \n",
    "    ### layer output\n",
    "    layers.Dense(name=\"output\", units=1, activation='linear')\n",
    "])\n",
    "model.summary()"
   ]
  },
  {
   "cell_type": "markdown",
   "metadata": {},
   "source": [
    "Define metrics"
   ]
  },
  {
   "cell_type": "code",
   "execution_count": 48,
   "metadata": {},
   "outputs": [],
   "source": [
    "def R2(y, y_hat):\n",
    "    ss_res =  K.sum(K.square(y - y_hat)) \n",
    "    ss_tot = K.sum(K.square(y - K.mean(y))) \n",
    "    return ( 1 - ss_res/(ss_tot + K.epsilon()) )"
   ]
  },
  {
   "cell_type": "markdown",
   "metadata": {},
   "source": [
    "Compile the neural network"
   ]
  },
  {
   "cell_type": "code",
   "execution_count": 49,
   "metadata": {},
   "outputs": [],
   "source": [
    "from tensorflow.keras.optimizers import SGD\n",
    "\n",
    "epochs=500\n",
    "learning_rate = 0.001\n",
    "decay_rate = learning_rate / epochs\n",
    "momentum = 0.8\n",
    "\n",
    "sgd = SGD(lr=learning_rate, momentum=momentum, decay=decay_rate, nesterov=True)\n",
    "\n",
    "model.compile(optimizer=sgd, loss='mean_squared_error', metrics=[R2])"
   ]
  },
  {
   "cell_type": "code",
   "execution_count": 50,
   "metadata": {},
   "outputs": [
    {
     "name": "stdout",
     "output_type": "stream",
     "text": [
      "Epoch 1/500\n",
      "307/307 [==============================] - 1s 4ms/step - loss: 0.2557 - R2: -0.2415 - val_loss: 0.1082 - val_R2: 0.5028\n",
      "Epoch 2/500\n",
      "307/307 [==============================] - 1s 3ms/step - loss: 0.1477 - R2: 0.2870 - val_loss: 0.0974 - val_R2: 0.5490\n",
      "Epoch 3/500\n",
      "307/307 [==============================] - 1s 3ms/step - loss: 0.1295 - R2: 0.3776 - val_loss: 0.0921 - val_R2: 0.5746\n",
      "Epoch 4/500\n",
      "307/307 [==============================] - 1s 3ms/step - loss: 0.1217 - R2: 0.4139 - val_loss: 0.0901 - val_R2: 0.5819\n",
      "Epoch 5/500\n",
      "307/307 [==============================] - 1s 3ms/step - loss: 0.1171 - R2: 0.4346 - val_loss: 0.0885 - val_R2: 0.5885\n",
      "Epoch 6/500\n",
      "307/307 [==============================] - 1s 3ms/step - loss: 0.1109 - R2: 0.4699 - val_loss: 0.0891 - val_R2: 0.5795\n",
      "Epoch 7/500\n",
      "307/307 [==============================] - 1s 3ms/step - loss: 0.1065 - R2: 0.4837 - val_loss: 0.0869 - val_R2: 0.5944\n",
      "Epoch 8/500\n",
      "307/307 [==============================] - 1s 3ms/step - loss: 0.1043 - R2: 0.4916 - val_loss: 0.0852 - val_R2: 0.6015\n",
      "Epoch 9/500\n",
      "307/307 [==============================] - 1s 3ms/step - loss: 0.1048 - R2: 0.4924 - val_loss: 0.0852 - val_R2: 0.5991\n",
      "Epoch 10/500\n",
      "307/307 [==============================] - 1s 3ms/step - loss: 0.0994 - R2: 0.5197 - val_loss: 0.0843 - val_R2: 0.6050\n",
      "Epoch 11/500\n",
      "307/307 [==============================] - 1s 3ms/step - loss: 0.0983 - R2: 0.5249 - val_loss: 0.0830 - val_R2: 0.6104\n",
      "Epoch 12/500\n",
      "307/307 [==============================] - 1s 3ms/step - loss: 0.0975 - R2: 0.5344 - val_loss: 0.0836 - val_R2: 0.6048\n",
      "Epoch 13/500\n",
      "307/307 [==============================] - 1s 3ms/step - loss: 0.0975 - R2: 0.5364 - val_loss: 0.0826 - val_R2: 0.6128\n",
      "Epoch 14/500\n",
      "307/307 [==============================] - 1s 3ms/step - loss: 0.0966 - R2: 0.5399 - val_loss: 0.0827 - val_R2: 0.6090\n",
      "Epoch 15/500\n",
      "307/307 [==============================] - 1s 3ms/step - loss: 0.0950 - R2: 0.5372 - val_loss: 0.0821 - val_R2: 0.6123\n",
      "Epoch 16/500\n",
      "307/307 [==============================] - 1s 3ms/step - loss: 0.0956 - R2: 0.5394 - val_loss: 0.0814 - val_R2: 0.6146\n",
      "Epoch 17/500\n",
      "307/307 [==============================] - 1s 3ms/step - loss: 0.0937 - R2: 0.5420 - val_loss: 0.0809 - val_R2: 0.6177\n",
      "Epoch 18/500\n",
      "307/307 [==============================] - 1s 3ms/step - loss: 0.0932 - R2: 0.5500 - val_loss: 0.0809 - val_R2: 0.6164\n",
      "Epoch 19/500\n",
      "307/307 [==============================] - 1s 3ms/step - loss: 0.0916 - R2: 0.5583 - val_loss: 0.0802 - val_R2: 0.6200\n",
      "Epoch 20/500\n",
      "307/307 [==============================] - 1s 3ms/step - loss: 0.0908 - R2: 0.5603 - val_loss: 0.0805 - val_R2: 0.6177\n",
      "Epoch 21/500\n",
      "307/307 [==============================] - 1s 3ms/step - loss: 0.0907 - R2: 0.5601 - val_loss: 0.0798 - val_R2: 0.6202\n",
      "Epoch 22/500\n",
      "307/307 [==============================] - 1s 3ms/step - loss: 0.0905 - R2: 0.5602 - val_loss: 0.0797 - val_R2: 0.6218\n",
      "Epoch 23/500\n",
      "307/307 [==============================] - 1s 3ms/step - loss: 0.0905 - R2: 0.5621 - val_loss: 0.0794 - val_R2: 0.6229\n",
      "Epoch 24/500\n",
      "307/307 [==============================] - 1s 3ms/step - loss: 0.0882 - R2: 0.5685 - val_loss: 0.0786 - val_R2: 0.6273\n",
      "Epoch 25/500\n",
      "307/307 [==============================] - 1s 3ms/step - loss: 0.0877 - R2: 0.5789 - val_loss: 0.0780 - val_R2: 0.6300\n",
      "Epoch 26/500\n",
      "307/307 [==============================] - 1s 3ms/step - loss: 0.0880 - R2: 0.5688 - val_loss: 0.0784 - val_R2: 0.6263\n",
      "Epoch 27/500\n",
      "307/307 [==============================] - 1s 3ms/step - loss: 0.0867 - R2: 0.5747 - val_loss: 0.0775 - val_R2: 0.6308\n",
      "Epoch 28/500\n",
      "307/307 [==============================] - 1s 3ms/step - loss: 0.0864 - R2: 0.5792 - val_loss: 0.0775 - val_R2: 0.6299\n",
      "Epoch 29/500\n",
      "307/307 [==============================] - 1s 3ms/step - loss: 0.0871 - R2: 0.5717 - val_loss: 0.0773 - val_R2: 0.6313\n",
      "Epoch 30/500\n",
      "307/307 [==============================] - 1s 3ms/step - loss: 0.0855 - R2: 0.5821 - val_loss: 0.0768 - val_R2: 0.6330\n",
      "Epoch 31/500\n",
      "307/307 [==============================] - 1s 3ms/step - loss: 0.0855 - R2: 0.5836 - val_loss: 0.0768 - val_R2: 0.6331\n",
      "Epoch 32/500\n",
      "307/307 [==============================] - 1s 3ms/step - loss: 0.0838 - R2: 0.5932 - val_loss: 0.0771 - val_R2: 0.6295\n",
      "Epoch 33/500\n",
      "307/307 [==============================] - 1s 3ms/step - loss: 0.0841 - R2: 0.5883 - val_loss: 0.0764 - val_R2: 0.6336\n",
      "Epoch 34/500\n",
      "307/307 [==============================] - 1s 3ms/step - loss: 0.0838 - R2: 0.5900 - val_loss: 0.0761 - val_R2: 0.6355\n",
      "Epoch 35/500\n",
      "307/307 [==============================] - 1s 3ms/step - loss: 0.0828 - R2: 0.5969 - val_loss: 0.0763 - val_R2: 0.6331\n",
      "Epoch 36/500\n",
      "307/307 [==============================] - 1s 3ms/step - loss: 0.0827 - R2: 0.5941 - val_loss: 0.0753 - val_R2: 0.6393\n",
      "Epoch 37/500\n",
      "307/307 [==============================] - 1s 3ms/step - loss: 0.0820 - R2: 0.5957 - val_loss: 0.0751 - val_R2: 0.6398\n",
      "Epoch 38/500\n",
      "307/307 [==============================] - 1s 3ms/step - loss: 0.0817 - R2: 0.5914 - val_loss: 0.0749 - val_R2: 0.6408\n",
      "Epoch 39/500\n",
      "307/307 [==============================] - 1s 3ms/step - loss: 0.0825 - R2: 0.5937 - val_loss: 0.0750 - val_R2: 0.6390\n",
      "Epoch 40/500\n",
      "307/307 [==============================] - 1s 3ms/step - loss: 0.0810 - R2: 0.5996 - val_loss: 0.0745 - val_R2: 0.6419\n",
      "Epoch 41/500\n",
      "307/307 [==============================] - 1s 3ms/step - loss: 0.0813 - R2: 0.6019 - val_loss: 0.0737 - val_R2: 0.6453\n",
      "Epoch 42/500\n",
      "307/307 [==============================] - 1s 3ms/step - loss: 0.0813 - R2: 0.5967 - val_loss: 0.0734 - val_R2: 0.6466\n",
      "Epoch 43/500\n",
      "307/307 [==============================] - 1s 3ms/step - loss: 0.0805 - R2: 0.6128 - val_loss: 0.0739 - val_R2: 0.6431\n",
      "Epoch 44/500\n",
      "307/307 [==============================] - 1s 3ms/step - loss: 0.0799 - R2: 0.6138 - val_loss: 0.0737 - val_R2: 0.6451\n",
      "Epoch 45/500\n",
      "307/307 [==============================] - 1s 3ms/step - loss: 0.0790 - R2: 0.6127 - val_loss: 0.0735 - val_R2: 0.6463\n",
      "Epoch 46/500\n",
      "307/307 [==============================] - 1s 3ms/step - loss: 0.0798 - R2: 0.6063 - val_loss: 0.0729 - val_R2: 0.6492\n",
      "Epoch 47/500\n",
      "307/307 [==============================] - 1s 3ms/step - loss: 0.0794 - R2: 0.6103 - val_loss: 0.0730 - val_R2: 0.6481\n",
      "Epoch 48/500\n",
      "307/307 [==============================] - 1s 3ms/step - loss: 0.0799 - R2: 0.6069 - val_loss: 0.0727 - val_R2: 0.6495\n",
      "Epoch 49/500\n",
      "307/307 [==============================] - 1s 3ms/step - loss: 0.0789 - R2: 0.6093 - val_loss: 0.0725 - val_R2: 0.6502\n",
      "Epoch 50/500\n",
      "307/307 [==============================] - 1s 3ms/step - loss: 0.0792 - R2: 0.6099 - val_loss: 0.0729 - val_R2: 0.6476\n",
      "Epoch 51/500\n",
      "307/307 [==============================] - 1s 3ms/step - loss: 0.0786 - R2: 0.6122 - val_loss: 0.0722 - val_R2: 0.6508\n",
      "Epoch 52/500\n",
      "307/307 [==============================] - 1s 3ms/step - loss: 0.0777 - R2: 0.6155 - val_loss: 0.0722 - val_R2: 0.6515\n",
      "Epoch 53/500\n",
      "307/307 [==============================] - 1s 3ms/step - loss: 0.0783 - R2: 0.6143 - val_loss: 0.0723 - val_R2: 0.6510\n",
      "Epoch 54/500\n",
      "307/307 [==============================] - 1s 3ms/step - loss: 0.0777 - R2: 0.6186 - val_loss: 0.0722 - val_R2: 0.6507\n",
      "Epoch 55/500\n",
      "307/307 [==============================] - 1s 3ms/step - loss: 0.0769 - R2: 0.6207 - val_loss: 0.0716 - val_R2: 0.6539\n",
      "Epoch 56/500\n",
      "307/307 [==============================] - 1s 3ms/step - loss: 0.0758 - R2: 0.6265 - val_loss: 0.0714 - val_R2: 0.6550\n",
      "Epoch 57/500\n",
      "307/307 [==============================] - 1s 3ms/step - loss: 0.0765 - R2: 0.6273 - val_loss: 0.0714 - val_R2: 0.6540\n",
      "Epoch 58/500\n",
      "307/307 [==============================] - 1s 3ms/step - loss: 0.0769 - R2: 0.6237 - val_loss: 0.0712 - val_R2: 0.6556\n",
      "Epoch 59/500\n",
      "307/307 [==============================] - 1s 3ms/step - loss: 0.0755 - R2: 0.6244 - val_loss: 0.0708 - val_R2: 0.6560\n",
      "Epoch 60/500\n",
      "307/307 [==============================] - 1s 3ms/step - loss: 0.0762 - R2: 0.6213 - val_loss: 0.0711 - val_R2: 0.6555\n",
      "Epoch 61/500\n",
      "307/307 [==============================] - 1s 3ms/step - loss: 0.0755 - R2: 0.6300 - val_loss: 0.0708 - val_R2: 0.6575\n",
      "Epoch 62/500\n",
      "307/307 [==============================] - 1s 3ms/step - loss: 0.0761 - R2: 0.6220 - val_loss: 0.0709 - val_R2: 0.6559\n",
      "Epoch 63/500\n"
     ]
    },
    {
     "name": "stdout",
     "output_type": "stream",
     "text": [
      "307/307 [==============================] - 1s 3ms/step - loss: 0.0749 - R2: 0.6318 - val_loss: 0.0704 - val_R2: 0.6590\n",
      "Epoch 64/500\n",
      "307/307 [==============================] - 1s 3ms/step - loss: 0.0754 - R2: 0.6217 - val_loss: 0.0704 - val_R2: 0.6572\n",
      "Epoch 65/500\n",
      "307/307 [==============================] - 1s 3ms/step - loss: 0.0751 - R2: 0.6322 - val_loss: 0.0705 - val_R2: 0.6573\n",
      "Epoch 66/500\n",
      "307/307 [==============================] - 1s 3ms/step - loss: 0.0749 - R2: 0.6289 - val_loss: 0.0703 - val_R2: 0.6583\n",
      "Epoch 67/500\n",
      "307/307 [==============================] - 1s 3ms/step - loss: 0.0751 - R2: 0.6225 - val_loss: 0.0704 - val_R2: 0.6586\n",
      "Epoch 68/500\n",
      "307/307 [==============================] - 1s 3ms/step - loss: 0.0746 - R2: 0.6255 - val_loss: 0.0705 - val_R2: 0.6579\n",
      "Epoch 69/500\n",
      "307/307 [==============================] - 1s 3ms/step - loss: 0.0744 - R2: 0.6317 - val_loss: 0.0704 - val_R2: 0.6573\n",
      "Epoch 70/500\n",
      "307/307 [==============================] - 1s 3ms/step - loss: 0.0742 - R2: 0.6366 - val_loss: 0.0702 - val_R2: 0.6587\n",
      "Epoch 71/500\n",
      "307/307 [==============================] - 1s 3ms/step - loss: 0.0735 - R2: 0.6388 - val_loss: 0.0700 - val_R2: 0.6593\n",
      "Epoch 72/500\n",
      "307/307 [==============================] - 1s 3ms/step - loss: 0.0738 - R2: 0.6345 - val_loss: 0.0701 - val_R2: 0.6593\n",
      "Epoch 73/500\n",
      "307/307 [==============================] - 1s 3ms/step - loss: 0.0729 - R2: 0.6348 - val_loss: 0.0696 - val_R2: 0.6619\n",
      "Epoch 74/500\n",
      "307/307 [==============================] - 1s 3ms/step - loss: 0.0741 - R2: 0.6329 - val_loss: 0.0703 - val_R2: 0.6582\n",
      "Epoch 75/500\n",
      "307/307 [==============================] - 1s 3ms/step - loss: 0.0734 - R2: 0.6352 - val_loss: 0.0693 - val_R2: 0.6628\n",
      "Epoch 76/500\n",
      "307/307 [==============================] - 1s 3ms/step - loss: 0.0732 - R2: 0.6396 - val_loss: 0.0700 - val_R2: 0.6596\n",
      "Epoch 77/500\n",
      "307/307 [==============================] - 1s 3ms/step - loss: 0.0726 - R2: 0.6343 - val_loss: 0.0695 - val_R2: 0.6620\n",
      "Epoch 78/500\n",
      "307/307 [==============================] - 1s 3ms/step - loss: 0.0738 - R2: 0.6356 - val_loss: 0.0695 - val_R2: 0.6620\n",
      "Epoch 79/500\n",
      "307/307 [==============================] - 1s 3ms/step - loss: 0.0728 - R2: 0.6366 - val_loss: 0.0695 - val_R2: 0.6617\n",
      "Epoch 80/500\n",
      "307/307 [==============================] - 1s 3ms/step - loss: 0.0732 - R2: 0.6351 - val_loss: 0.0701 - val_R2: 0.6578\n",
      "Epoch 81/500\n",
      "307/307 [==============================] - 1s 3ms/step - loss: 0.0733 - R2: 0.6326 - val_loss: 0.0694 - val_R2: 0.6617\n",
      "Epoch 82/500\n",
      "307/307 [==============================] - 1s 3ms/step - loss: 0.0720 - R2: 0.6413 - val_loss: 0.0694 - val_R2: 0.6615\n",
      "Epoch 83/500\n",
      "307/307 [==============================] - 1s 3ms/step - loss: 0.0726 - R2: 0.6385 - val_loss: 0.0695 - val_R2: 0.6615\n",
      "Epoch 84/500\n",
      "307/307 [==============================] - 1s 3ms/step - loss: 0.0721 - R2: 0.6377 - val_loss: 0.0690 - val_R2: 0.6638\n",
      "Epoch 85/500\n",
      "307/307 [==============================] - 1s 3ms/step - loss: 0.0723 - R2: 0.6390 - val_loss: 0.0692 - val_R2: 0.6622\n",
      "Epoch 86/500\n",
      "307/307 [==============================] - 1s 3ms/step - loss: 0.0720 - R2: 0.6448 - val_loss: 0.0692 - val_R2: 0.6623\n",
      "Epoch 87/500\n",
      "307/307 [==============================] - 1s 3ms/step - loss: 0.0725 - R2: 0.6415 - val_loss: 0.0690 - val_R2: 0.6635\n",
      "Epoch 88/500\n",
      "307/307 [==============================] - 1s 3ms/step - loss: 0.0716 - R2: 0.6452 - val_loss: 0.0696 - val_R2: 0.6602\n",
      "Epoch 89/500\n",
      "307/307 [==============================] - 1s 3ms/step - loss: 0.0720 - R2: 0.6363 - val_loss: 0.0695 - val_R2: 0.6611\n",
      "Epoch 90/500\n",
      "307/307 [==============================] - 1s 3ms/step - loss: 0.0718 - R2: 0.6396 - val_loss: 0.0692 - val_R2: 0.6618\n",
      "Epoch 91/500\n",
      "307/307 [==============================] - 1s 3ms/step - loss: 0.0718 - R2: 0.6444 - val_loss: 0.0690 - val_R2: 0.6635\n",
      "Epoch 92/500\n",
      "307/307 [==============================] - 1s 3ms/step - loss: 0.0722 - R2: 0.6500 - val_loss: 0.0692 - val_R2: 0.6614\n",
      "Epoch 93/500\n",
      "307/307 [==============================] - 1s 3ms/step - loss: 0.0723 - R2: 0.6361 - val_loss: 0.0688 - val_R2: 0.6638\n",
      "Epoch 94/500\n",
      "307/307 [==============================] - 1s 3ms/step - loss: 0.0715 - R2: 0.6477 - val_loss: 0.0696 - val_R2: 0.6602\n",
      "Epoch 95/500\n",
      "307/307 [==============================] - 1s 3ms/step - loss: 0.0718 - R2: 0.6416 - val_loss: 0.0692 - val_R2: 0.6621\n",
      "Epoch 96/500\n",
      "307/307 [==============================] - 1s 3ms/step - loss: 0.0710 - R2: 0.6503 - val_loss: 0.0687 - val_R2: 0.6646\n",
      "Epoch 97/500\n",
      "307/307 [==============================] - 1s 3ms/step - loss: 0.0715 - R2: 0.6530 - val_loss: 0.0692 - val_R2: 0.6617\n",
      "Epoch 98/500\n",
      "307/307 [==============================] - 1s 3ms/step - loss: 0.0714 - R2: 0.6448 - val_loss: 0.0689 - val_R2: 0.6629\n",
      "Epoch 99/500\n",
      "307/307 [==============================] - 1s 3ms/step - loss: 0.0722 - R2: 0.6427 - val_loss: 0.0689 - val_R2: 0.6635\n",
      "Epoch 100/500\n",
      "307/307 [==============================] - 1s 3ms/step - loss: 0.0715 - R2: 0.6445 - val_loss: 0.0691 - val_R2: 0.6625\n",
      "Epoch 101/500\n",
      "307/307 [==============================] - 1s 3ms/step - loss: 0.0707 - R2: 0.6405 - val_loss: 0.0688 - val_R2: 0.6635\n",
      "Epoch 102/500\n",
      "307/307 [==============================] - 1s 3ms/step - loss: 0.0710 - R2: 0.6447 - val_loss: 0.0690 - val_R2: 0.6624\n",
      "Epoch 103/500\n",
      "307/307 [==============================] - 1s 3ms/step - loss: 0.0709 - R2: 0.6412 - val_loss: 0.0691 - val_R2: 0.6620\n",
      "Epoch 104/500\n",
      "307/307 [==============================] - 1s 3ms/step - loss: 0.0707 - R2: 0.6495 - val_loss: 0.0685 - val_R2: 0.6651\n",
      "Epoch 105/500\n",
      "307/307 [==============================] - 1s 3ms/step - loss: 0.0717 - R2: 0.6410 - val_loss: 0.0687 - val_R2: 0.6642\n",
      "Epoch 106/500\n",
      "307/307 [==============================] - 1s 3ms/step - loss: 0.0715 - R2: 0.6424 - val_loss: 0.0685 - val_R2: 0.6651\n",
      "Epoch 107/500\n",
      "307/307 [==============================] - 1s 3ms/step - loss: 0.0713 - R2: 0.6391 - val_loss: 0.0692 - val_R2: 0.6613\n",
      "Epoch 108/500\n",
      "307/307 [==============================] - 1s 3ms/step - loss: 0.0701 - R2: 0.6530 - val_loss: 0.0684 - val_R2: 0.6657\n",
      "Epoch 109/500\n",
      "307/307 [==============================] - 1s 3ms/step - loss: 0.0702 - R2: 0.6535 - val_loss: 0.0688 - val_R2: 0.6643\n",
      "Epoch 110/500\n",
      "307/307 [==============================] - 1s 3ms/step - loss: 0.0711 - R2: 0.6443 - val_loss: 0.0686 - val_R2: 0.6640\n",
      "Epoch 111/500\n",
      "307/307 [==============================] - 1s 3ms/step - loss: 0.0705 - R2: 0.6475 - val_loss: 0.0688 - val_R2: 0.6630\n",
      "Epoch 112/500\n",
      "307/307 [==============================] - 1s 3ms/step - loss: 0.0707 - R2: 0.6503 - val_loss: 0.0687 - val_R2: 0.6640\n",
      "Epoch 113/500\n",
      "307/307 [==============================] - 1s 3ms/step - loss: 0.0710 - R2: 0.6479 - val_loss: 0.0686 - val_R2: 0.6648\n",
      "Epoch 114/500\n",
      "307/307 [==============================] - 1s 3ms/step - loss: 0.0710 - R2: 0.6450 - val_loss: 0.0684 - val_R2: 0.6656\n",
      "Epoch 115/500\n",
      "307/307 [==============================] - 1s 3ms/step - loss: 0.0704 - R2: 0.6545 - val_loss: 0.0685 - val_R2: 0.6639\n",
      "Epoch 116/500\n",
      "307/307 [==============================] - 1s 3ms/step - loss: 0.0703 - R2: 0.6523 - val_loss: 0.0686 - val_R2: 0.6642\n",
      "Epoch 117/500\n",
      "307/307 [==============================] - 1s 3ms/step - loss: 0.0700 - R2: 0.6541 - val_loss: 0.0686 - val_R2: 0.6645\n",
      "Epoch 118/500\n",
      "307/307 [==============================] - 1s 3ms/step - loss: 0.0707 - R2: 0.6459 - val_loss: 0.0687 - val_R2: 0.6639\n",
      "Epoch 119/500\n",
      "307/307 [==============================] - 1s 3ms/step - loss: 0.0711 - R2: 0.6468 - val_loss: 0.0685 - val_R2: 0.6658\n",
      "Epoch 120/500\n",
      "307/307 [==============================] - 1s 3ms/step - loss: 0.0701 - R2: 0.6464 - val_loss: 0.0687 - val_R2: 0.6638\n",
      "Epoch 121/500\n",
      "307/307 [==============================] - 1s 3ms/step - loss: 0.0705 - R2: 0.6501 - val_loss: 0.0682 - val_R2: 0.6662\n",
      "Epoch 122/500\n",
      "307/307 [==============================] - 1s 3ms/step - loss: 0.0703 - R2: 0.6515 - val_loss: 0.0683 - val_R2: 0.6656\n",
      "Epoch 123/500\n",
      "307/307 [==============================] - 1s 3ms/step - loss: 0.0713 - R2: 0.6454 - val_loss: 0.0688 - val_R2: 0.6636\n",
      "Epoch 124/500\n",
      "307/307 [==============================] - 1s 3ms/step - loss: 0.0704 - R2: 0.6503 - val_loss: 0.0682 - val_R2: 0.6664\n"
     ]
    },
    {
     "name": "stdout",
     "output_type": "stream",
     "text": [
      "Epoch 125/500\n",
      "307/307 [==============================] - 1s 3ms/step - loss: 0.0691 - R2: 0.6507 - val_loss: 0.0684 - val_R2: 0.6651\n",
      "Epoch 126/500\n",
      "307/307 [==============================] - 1s 3ms/step - loss: 0.0710 - R2: 0.6479 - val_loss: 0.0684 - val_R2: 0.6652\n",
      "Epoch 127/500\n",
      "307/307 [==============================] - 1s 3ms/step - loss: 0.0702 - R2: 0.6476 - val_loss: 0.0687 - val_R2: 0.6634\n",
      "Epoch 128/500\n",
      "307/307 [==============================] - 1s 3ms/step - loss: 0.0701 - R2: 0.6510 - val_loss: 0.0681 - val_R2: 0.6669\n",
      "Epoch 129/500\n",
      "307/307 [==============================] - 1s 3ms/step - loss: 0.0693 - R2: 0.6548 - val_loss: 0.0687 - val_R2: 0.6640\n",
      "Epoch 130/500\n",
      "307/307 [==============================] - 1s 3ms/step - loss: 0.0696 - R2: 0.6554 - val_loss: 0.0683 - val_R2: 0.6648\n",
      "Epoch 131/500\n",
      "307/307 [==============================] - 1s 3ms/step - loss: 0.0701 - R2: 0.6562 - val_loss: 0.0682 - val_R2: 0.6656\n",
      "Epoch 132/500\n",
      "307/307 [==============================] - 1s 3ms/step - loss: 0.0700 - R2: 0.6488 - val_loss: 0.0681 - val_R2: 0.6664\n",
      "Epoch 133/500\n",
      "307/307 [==============================] - 1s 3ms/step - loss: 0.0699 - R2: 0.6505 - val_loss: 0.0679 - val_R2: 0.6671\n",
      "Epoch 134/500\n",
      "307/307 [==============================] - 1s 3ms/step - loss: 0.0702 - R2: 0.6487 - val_loss: 0.0686 - val_R2: 0.6641\n",
      "Epoch 135/500\n",
      "307/307 [==============================] - 1s 3ms/step - loss: 0.0695 - R2: 0.6537 - val_loss: 0.0682 - val_R2: 0.6664\n",
      "Epoch 136/500\n",
      "307/307 [==============================] - 1s 3ms/step - loss: 0.0697 - R2: 0.6535 - val_loss: 0.0686 - val_R2: 0.6634\n",
      "Epoch 137/500\n",
      "307/307 [==============================] - 1s 3ms/step - loss: 0.0691 - R2: 0.6464 - val_loss: 0.0683 - val_R2: 0.6659\n",
      "Epoch 138/500\n",
      "307/307 [==============================] - 1s 3ms/step - loss: 0.0695 - R2: 0.6504 - val_loss: 0.0682 - val_R2: 0.6663\n",
      "Epoch 139/500\n",
      "307/307 [==============================] - 1s 3ms/step - loss: 0.0698 - R2: 0.6530 - val_loss: 0.0687 - val_R2: 0.6637\n",
      "Epoch 140/500\n",
      "307/307 [==============================] - 1s 3ms/step - loss: 0.0691 - R2: 0.6591 - val_loss: 0.0683 - val_R2: 0.6656\n",
      "Epoch 141/500\n",
      "307/307 [==============================] - 1s 3ms/step - loss: 0.0697 - R2: 0.6539 - val_loss: 0.0685 - val_R2: 0.6642\n",
      "Epoch 142/500\n",
      "307/307 [==============================] - 1s 3ms/step - loss: 0.0696 - R2: 0.6557 - val_loss: 0.0685 - val_R2: 0.6647\n",
      "Epoch 143/500\n",
      "307/307 [==============================] - 1s 3ms/step - loss: 0.0701 - R2: 0.6496 - val_loss: 0.0677 - val_R2: 0.6688\n",
      "Epoch 144/500\n",
      "307/307 [==============================] - 1s 3ms/step - loss: 0.0691 - R2: 0.6579 - val_loss: 0.0680 - val_R2: 0.6670\n",
      "Epoch 145/500\n",
      "307/307 [==============================] - 1s 3ms/step - loss: 0.0696 - R2: 0.6582 - val_loss: 0.0680 - val_R2: 0.6666\n",
      "Epoch 146/500\n",
      "307/307 [==============================] - 1s 3ms/step - loss: 0.0696 - R2: 0.6580 - val_loss: 0.0679 - val_R2: 0.6678\n",
      "Epoch 147/500\n",
      "307/307 [==============================] - 1s 3ms/step - loss: 0.0699 - R2: 0.6537 - val_loss: 0.0682 - val_R2: 0.6662\n",
      "Epoch 148/500\n",
      "307/307 [==============================] - 1s 3ms/step - loss: 0.0698 - R2: 0.6486 - val_loss: 0.0682 - val_R2: 0.6662\n",
      "Epoch 149/500\n",
      "307/307 [==============================] - 1s 3ms/step - loss: 0.0691 - R2: 0.6567 - val_loss: 0.0679 - val_R2: 0.6679\n",
      "Epoch 150/500\n",
      "307/307 [==============================] - 1s 3ms/step - loss: 0.0693 - R2: 0.6570 - val_loss: 0.0683 - val_R2: 0.6650\n",
      "Epoch 151/500\n",
      "307/307 [==============================] - 1s 3ms/step - loss: 0.0697 - R2: 0.6533 - val_loss: 0.0679 - val_R2: 0.6675\n",
      "Epoch 152/500\n",
      "307/307 [==============================] - 1s 3ms/step - loss: 0.0703 - R2: 0.6433 - val_loss: 0.0680 - val_R2: 0.6668\n",
      "Epoch 153/500\n",
      "307/307 [==============================] - 1s 3ms/step - loss: 0.0693 - R2: 0.6540 - val_loss: 0.0681 - val_R2: 0.6663\n",
      "Epoch 154/500\n",
      "307/307 [==============================] - 1s 3ms/step - loss: 0.0692 - R2: 0.6552 - val_loss: 0.0680 - val_R2: 0.6663\n",
      "Epoch 155/500\n",
      "307/307 [==============================] - 1s 3ms/step - loss: 0.0702 - R2: 0.6500 - val_loss: 0.0682 - val_R2: 0.6647\n",
      "Epoch 156/500\n",
      "307/307 [==============================] - 1s 3ms/step - loss: 0.0689 - R2: 0.6635 - val_loss: 0.0681 - val_R2: 0.6664\n",
      "Epoch 157/500\n",
      "307/307 [==============================] - 1s 3ms/step - loss: 0.0694 - R2: 0.6601 - val_loss: 0.0680 - val_R2: 0.6669\n",
      "Epoch 158/500\n",
      "307/307 [==============================] - 1s 3ms/step - loss: 0.0692 - R2: 0.6494 - val_loss: 0.0683 - val_R2: 0.6652\n",
      "Epoch 159/500\n",
      "307/307 [==============================] - 1s 3ms/step - loss: 0.0695 - R2: 0.6551 - val_loss: 0.0685 - val_R2: 0.6641\n",
      "Epoch 160/500\n",
      "307/307 [==============================] - 1s 3ms/step - loss: 0.0693 - R2: 0.6542 - val_loss: 0.0676 - val_R2: 0.6686\n",
      "Epoch 161/500\n",
      "307/307 [==============================] - 1s 3ms/step - loss: 0.0694 - R2: 0.6583 - val_loss: 0.0679 - val_R2: 0.6671\n",
      "Epoch 162/500\n",
      "307/307 [==============================] - 1s 3ms/step - loss: 0.0687 - R2: 0.6502 - val_loss: 0.0678 - val_R2: 0.6675\n",
      "Epoch 163/500\n",
      "307/307 [==============================] - 1s 3ms/step - loss: 0.0690 - R2: 0.6554 - val_loss: 0.0679 - val_R2: 0.6669\n",
      "Epoch 164/500\n",
      "307/307 [==============================] - 1s 3ms/step - loss: 0.0697 - R2: 0.6522 - val_loss: 0.0679 - val_R2: 0.6664\n",
      "Epoch 165/500\n",
      "307/307 [==============================] - 1s 3ms/step - loss: 0.0690 - R2: 0.6525 - val_loss: 0.0682 - val_R2: 0.6663\n",
      "Epoch 166/500\n",
      "307/307 [==============================] - 1s 3ms/step - loss: 0.0698 - R2: 0.6538 - val_loss: 0.0681 - val_R2: 0.6669\n",
      "Epoch 167/500\n",
      "307/307 [==============================] - 1s 3ms/step - loss: 0.0693 - R2: 0.6428 - val_loss: 0.0678 - val_R2: 0.6675\n",
      "Epoch 168/500\n",
      "307/307 [==============================] - 1s 3ms/step - loss: 0.0689 - R2: 0.6569 - val_loss: 0.0679 - val_R2: 0.6673\n",
      "Epoch 169/500\n",
      "307/307 [==============================] - 1s 3ms/step - loss: 0.0687 - R2: 0.6555 - val_loss: 0.0680 - val_R2: 0.6666\n",
      "Epoch 170/500\n",
      "307/307 [==============================] - 1s 3ms/step - loss: 0.0693 - R2: 0.6487 - val_loss: 0.0680 - val_R2: 0.6663\n",
      "Epoch 171/500\n",
      "307/307 [==============================] - 1s 3ms/step - loss: 0.0694 - R2: 0.6608 - val_loss: 0.0679 - val_R2: 0.6671\n",
      "Epoch 172/500\n",
      "307/307 [==============================] - 1s 3ms/step - loss: 0.0688 - R2: 0.6607 - val_loss: 0.0682 - val_R2: 0.6658\n",
      "Epoch 173/500\n",
      "307/307 [==============================] - 1s 3ms/step - loss: 0.0699 - R2: 0.6557 - val_loss: 0.0682 - val_R2: 0.6656\n",
      "Epoch 174/500\n",
      "307/307 [==============================] - 1s 3ms/step - loss: 0.0688 - R2: 0.6601 - val_loss: 0.0682 - val_R2: 0.6652\n",
      "Epoch 175/500\n",
      "307/307 [==============================] - 1s 3ms/step - loss: 0.0687 - R2: 0.6530 - val_loss: 0.0677 - val_R2: 0.6679\n",
      "Epoch 176/500\n",
      "307/307 [==============================] - 1s 3ms/step - loss: 0.0678 - R2: 0.6604 - val_loss: 0.0678 - val_R2: 0.6664\n",
      "Epoch 177/500\n",
      "307/307 [==============================] - 1s 3ms/step - loss: 0.0686 - R2: 0.6555 - val_loss: 0.0678 - val_R2: 0.6672\n",
      "Epoch 178/500\n",
      "307/307 [==============================] - 1s 3ms/step - loss: 0.0685 - R2: 0.6603 - val_loss: 0.0676 - val_R2: 0.6681\n",
      "Epoch 179/500\n",
      "307/307 [==============================] - 1s 3ms/step - loss: 0.0684 - R2: 0.6497 - val_loss: 0.0677 - val_R2: 0.6679\n",
      "Epoch 180/500\n",
      "307/307 [==============================] - 1s 3ms/step - loss: 0.0690 - R2: 0.6513 - val_loss: 0.0674 - val_R2: 0.6693\n",
      "Epoch 181/500\n",
      "307/307 [==============================] - 1s 3ms/step - loss: 0.0688 - R2: 0.6604 - val_loss: 0.0678 - val_R2: 0.6673\n",
      "Epoch 182/500\n",
      "307/307 [==============================] - 1s 3ms/step - loss: 0.0679 - R2: 0.6567 - val_loss: 0.0675 - val_R2: 0.6692\n",
      "Epoch 183/500\n",
      "307/307 [==============================] - 1s 3ms/step - loss: 0.0680 - R2: 0.6566 - val_loss: 0.0681 - val_R2: 0.6659\n",
      "Epoch 184/500\n",
      "307/307 [==============================] - 1s 3ms/step - loss: 0.0693 - R2: 0.6533 - val_loss: 0.0680 - val_R2: 0.6657\n",
      "Epoch 185/500\n",
      "307/307 [==============================] - 1s 3ms/step - loss: 0.0688 - R2: 0.6566 - val_loss: 0.0677 - val_R2: 0.6676\n",
      "Epoch 186/500\n"
     ]
    },
    {
     "name": "stdout",
     "output_type": "stream",
     "text": [
      "307/307 [==============================] - 1s 3ms/step - loss: 0.0688 - R2: 0.6547 - val_loss: 0.0675 - val_R2: 0.6685\n",
      "Epoch 187/500\n",
      "307/307 [==============================] - 1s 3ms/step - loss: 0.0692 - R2: 0.6577 - val_loss: 0.0677 - val_R2: 0.6671\n",
      "Epoch 188/500\n",
      "307/307 [==============================] - 1s 3ms/step - loss: 0.0688 - R2: 0.6551 - val_loss: 0.0675 - val_R2: 0.6694\n",
      "Epoch 189/500\n",
      "307/307 [==============================] - 1s 3ms/step - loss: 0.0683 - R2: 0.6615 - val_loss: 0.0678 - val_R2: 0.6677\n",
      "Epoch 190/500\n",
      "307/307 [==============================] - 1s 3ms/step - loss: 0.0677 - R2: 0.6656 - val_loss: 0.0678 - val_R2: 0.6665\n",
      "Epoch 191/500\n",
      "307/307 [==============================] - 1s 3ms/step - loss: 0.0689 - R2: 0.6562 - val_loss: 0.0679 - val_R2: 0.6664\n",
      "Epoch 192/500\n",
      "307/307 [==============================] - 1s 3ms/step - loss: 0.0684 - R2: 0.6563 - val_loss: 0.0674 - val_R2: 0.6684\n",
      "Epoch 193/500\n",
      "307/307 [==============================] - 1s 3ms/step - loss: 0.0684 - R2: 0.6560 - val_loss: 0.0676 - val_R2: 0.6680\n",
      "Epoch 194/500\n",
      "307/307 [==============================] - 1s 3ms/step - loss: 0.0689 - R2: 0.6582 - val_loss: 0.0678 - val_R2: 0.6666\n",
      "Epoch 195/500\n",
      "307/307 [==============================] - 1s 3ms/step - loss: 0.0685 - R2: 0.6561 - val_loss: 0.0674 - val_R2: 0.6686\n",
      "Epoch 196/500\n",
      "307/307 [==============================] - 1s 3ms/step - loss: 0.0685 - R2: 0.6543 - val_loss: 0.0681 - val_R2: 0.6654\n",
      "Epoch 197/500\n",
      "307/307 [==============================] - 1s 3ms/step - loss: 0.0686 - R2: 0.6527 - val_loss: 0.0674 - val_R2: 0.6691\n",
      "Epoch 198/500\n",
      "307/307 [==============================] - 1s 3ms/step - loss: 0.0692 - R2: 0.6525 - val_loss: 0.0677 - val_R2: 0.6671\n",
      "Epoch 199/500\n",
      "307/307 [==============================] - 1s 3ms/step - loss: 0.0691 - R2: 0.6544 - val_loss: 0.0677 - val_R2: 0.6674\n",
      "Epoch 200/500\n",
      "307/307 [==============================] - 1s 3ms/step - loss: 0.0683 - R2: 0.6596 - val_loss: 0.0681 - val_R2: 0.6650\n",
      "Epoch 201/500\n",
      "307/307 [==============================] - 1s 3ms/step - loss: 0.0680 - R2: 0.6595 - val_loss: 0.0677 - val_R2: 0.6679\n",
      "Epoch 202/500\n",
      "307/307 [==============================] - 1s 3ms/step - loss: 0.0687 - R2: 0.6496 - val_loss: 0.0675 - val_R2: 0.6682\n",
      "Epoch 203/500\n",
      "307/307 [==============================] - 1s 3ms/step - loss: 0.0687 - R2: 0.6562 - val_loss: 0.0677 - val_R2: 0.6677\n",
      "Epoch 204/500\n",
      "307/307 [==============================] - 1s 3ms/step - loss: 0.0680 - R2: 0.6541 - val_loss: 0.0677 - val_R2: 0.6671\n",
      "Epoch 205/500\n",
      "307/307 [==============================] - 1s 3ms/step - loss: 0.0682 - R2: 0.6568 - val_loss: 0.0674 - val_R2: 0.6688\n",
      "Epoch 206/500\n",
      "307/307 [==============================] - 1s 3ms/step - loss: 0.0684 - R2: 0.6625 - val_loss: 0.0672 - val_R2: 0.6699\n",
      "Epoch 207/500\n",
      "307/307 [==============================] - 1s 3ms/step - loss: 0.0679 - R2: 0.6621 - val_loss: 0.0677 - val_R2: 0.6668\n",
      "Epoch 208/500\n",
      "307/307 [==============================] - 1s 3ms/step - loss: 0.0682 - R2: 0.6564 - val_loss: 0.0674 - val_R2: 0.6687\n",
      "Epoch 209/500\n",
      "307/307 [==============================] - 1s 3ms/step - loss: 0.0681 - R2: 0.6592 - val_loss: 0.0673 - val_R2: 0.6694\n",
      "Epoch 210/500\n",
      "307/307 [==============================] - 1s 3ms/step - loss: 0.0680 - R2: 0.6586 - val_loss: 0.0675 - val_R2: 0.6688\n",
      "Epoch 211/500\n",
      "307/307 [==============================] - 1s 3ms/step - loss: 0.0684 - R2: 0.6529 - val_loss: 0.0677 - val_R2: 0.6670\n",
      "Epoch 212/500\n",
      "307/307 [==============================] - 1s 3ms/step - loss: 0.0683 - R2: 0.6587 - val_loss: 0.0675 - val_R2: 0.6678\n",
      "Epoch 213/500\n",
      "307/307 [==============================] - 1s 3ms/step - loss: 0.0676 - R2: 0.6596 - val_loss: 0.0674 - val_R2: 0.6689\n",
      "Epoch 214/500\n",
      "307/307 [==============================] - 1s 3ms/step - loss: 0.0690 - R2: 0.6592 - val_loss: 0.0676 - val_R2: 0.6677\n",
      "Epoch 215/500\n",
      "307/307 [==============================] - 1s 3ms/step - loss: 0.0676 - R2: 0.6685 - val_loss: 0.0676 - val_R2: 0.6684\n",
      "Epoch 216/500\n",
      "307/307 [==============================] - 1s 3ms/step - loss: 0.0683 - R2: 0.6637 - val_loss: 0.0674 - val_R2: 0.6690\n",
      "Epoch 217/500\n",
      "307/307 [==============================] - 1s 3ms/step - loss: 0.0682 - R2: 0.6613 - val_loss: 0.0674 - val_R2: 0.6689\n",
      "Epoch 218/500\n",
      "307/307 [==============================] - 1s 3ms/step - loss: 0.0680 - R2: 0.6623 - val_loss: 0.0675 - val_R2: 0.6681\n",
      "Epoch 219/500\n",
      "307/307 [==============================] - 1s 3ms/step - loss: 0.0680 - R2: 0.6636 - val_loss: 0.0671 - val_R2: 0.6709\n",
      "Epoch 220/500\n",
      "307/307 [==============================] - 1s 3ms/step - loss: 0.0678 - R2: 0.6639 - val_loss: 0.0677 - val_R2: 0.6664\n",
      "Epoch 221/500\n",
      "307/307 [==============================] - 1s 3ms/step - loss: 0.0679 - R2: 0.6653 - val_loss: 0.0675 - val_R2: 0.6678\n",
      "Epoch 222/500\n",
      "307/307 [==============================] - 1s 3ms/step - loss: 0.0676 - R2: 0.6591 - val_loss: 0.0675 - val_R2: 0.6683\n",
      "Epoch 223/500\n",
      "307/307 [==============================] - 1s 3ms/step - loss: 0.0677 - R2: 0.6543 - val_loss: 0.0672 - val_R2: 0.6700\n",
      "Epoch 224/500\n",
      "307/307 [==============================] - 1s 3ms/step - loss: 0.0689 - R2: 0.6527 - val_loss: 0.0677 - val_R2: 0.6676\n",
      "Epoch 225/500\n",
      "307/307 [==============================] - 1s 3ms/step - loss: 0.0678 - R2: 0.6539 - val_loss: 0.0678 - val_R2: 0.6667\n",
      "Epoch 226/500\n",
      "307/307 [==============================] - 1s 3ms/step - loss: 0.0682 - R2: 0.6601 - val_loss: 0.0671 - val_R2: 0.6704\n",
      "Epoch 227/500\n",
      "307/307 [==============================] - 1s 3ms/step - loss: 0.0680 - R2: 0.6540 - val_loss: 0.0674 - val_R2: 0.6692\n",
      "Epoch 228/500\n",
      "307/307 [==============================] - 1s 3ms/step - loss: 0.0680 - R2: 0.6602 - val_loss: 0.0675 - val_R2: 0.6676\n",
      "Epoch 229/500\n",
      "307/307 [==============================] - 1s 3ms/step - loss: 0.0675 - R2: 0.6607 - val_loss: 0.0673 - val_R2: 0.6694\n",
      "Epoch 230/500\n",
      "307/307 [==============================] - 1s 3ms/step - loss: 0.0673 - R2: 0.6682 - val_loss: 0.0672 - val_R2: 0.6690\n",
      "Epoch 231/500\n",
      "307/307 [==============================] - 1s 3ms/step - loss: 0.0673 - R2: 0.6486 - val_loss: 0.0670 - val_R2: 0.6709\n",
      "Epoch 232/500\n",
      "307/307 [==============================] - 1s 3ms/step - loss: 0.0673 - R2: 0.6664 - val_loss: 0.0671 - val_R2: 0.6701\n",
      "Epoch 233/500\n",
      "307/307 [==============================] - 1s 3ms/step - loss: 0.0678 - R2: 0.6643 - val_loss: 0.0672 - val_R2: 0.6700\n",
      "Epoch 234/500\n",
      "307/307 [==============================] - 1s 3ms/step - loss: 0.0679 - R2: 0.6597 - val_loss: 0.0673 - val_R2: 0.6700\n",
      "Epoch 235/500\n",
      "307/307 [==============================] - 1s 3ms/step - loss: 0.0682 - R2: 0.6584 - val_loss: 0.0674 - val_R2: 0.6690\n",
      "Epoch 236/500\n",
      "307/307 [==============================] - 1s 3ms/step - loss: 0.0680 - R2: 0.6560 - val_loss: 0.0673 - val_R2: 0.6687\n",
      "Epoch 237/500\n",
      "307/307 [==============================] - 1s 3ms/step - loss: 0.0676 - R2: 0.6645 - val_loss: 0.0675 - val_R2: 0.6673\n",
      "Epoch 238/500\n",
      "307/307 [==============================] - 1s 3ms/step - loss: 0.0678 - R2: 0.6629 - val_loss: 0.0672 - val_R2: 0.6697\n",
      "Epoch 239/500\n",
      "307/307 [==============================] - 1s 3ms/step - loss: 0.0673 - R2: 0.6632 - val_loss: 0.0678 - val_R2: 0.6662\n",
      "Epoch 240/500\n",
      "307/307 [==============================] - 1s 3ms/step - loss: 0.0677 - R2: 0.6614 - val_loss: 0.0671 - val_R2: 0.6704\n",
      "Epoch 241/500\n",
      "307/307 [==============================] - 1s 3ms/step - loss: 0.0677 - R2: 0.6651 - val_loss: 0.0673 - val_R2: 0.6695\n",
      "Epoch 242/500\n",
      "307/307 [==============================] - 1s 3ms/step - loss: 0.0679 - R2: 0.6614 - val_loss: 0.0674 - val_R2: 0.6688\n",
      "Epoch 243/500\n",
      "307/307 [==============================] - 1s 3ms/step - loss: 0.0680 - R2: 0.6651 - val_loss: 0.0673 - val_R2: 0.6692\n",
      "Epoch 244/500\n",
      "307/307 [==============================] - 1s 3ms/step - loss: 0.0679 - R2: 0.6573 - val_loss: 0.0671 - val_R2: 0.6695\n",
      "Epoch 245/500\n",
      "307/307 [==============================] - 1s 3ms/step - loss: 0.0673 - R2: 0.6626 - val_loss: 0.0673 - val_R2: 0.6690\n",
      "Epoch 246/500\n",
      "307/307 [==============================] - 1s 3ms/step - loss: 0.0676 - R2: 0.6578 - val_loss: 0.0669 - val_R2: 0.6712\n",
      "Epoch 247/500\n",
      "307/307 [==============================] - 1s 3ms/step - loss: 0.0671 - R2: 0.6637 - val_loss: 0.0673 - val_R2: 0.6688\n"
     ]
    },
    {
     "name": "stdout",
     "output_type": "stream",
     "text": [
      "Epoch 248/500\n",
      "307/307 [==============================] - 1s 3ms/step - loss: 0.0679 - R2: 0.6593 - val_loss: 0.0674 - val_R2: 0.6680\n",
      "Epoch 249/500\n",
      "307/307 [==============================] - 1s 3ms/step - loss: 0.0685 - R2: 0.6622 - val_loss: 0.0674 - val_R2: 0.6682\n",
      "Epoch 250/500\n",
      "307/307 [==============================] - 1s 3ms/step - loss: 0.0671 - R2: 0.6563 - val_loss: 0.0676 - val_R2: 0.6679\n",
      "Epoch 251/500\n",
      "307/307 [==============================] - 1s 3ms/step - loss: 0.0674 - R2: 0.6640 - val_loss: 0.0676 - val_R2: 0.6673\n",
      "Epoch 252/500\n",
      "307/307 [==============================] - 1s 3ms/step - loss: 0.0676 - R2: 0.6642 - val_loss: 0.0674 - val_R2: 0.6678\n",
      "Epoch 253/500\n",
      "307/307 [==============================] - 1s 3ms/step - loss: 0.0672 - R2: 0.6646 - val_loss: 0.0672 - val_R2: 0.6692\n",
      "Epoch 254/500\n",
      "307/307 [==============================] - 1s 3ms/step - loss: 0.0681 - R2: 0.6619 - val_loss: 0.0669 - val_R2: 0.6714\n",
      "Epoch 255/500\n",
      "307/307 [==============================] - 1s 3ms/step - loss: 0.0676 - R2: 0.6592 - val_loss: 0.0669 - val_R2: 0.6709\n",
      "Epoch 256/500\n",
      "307/307 [==============================] - 1s 3ms/step - loss: 0.0680 - R2: 0.6606 - val_loss: 0.0669 - val_R2: 0.6712\n",
      "Epoch 257/500\n",
      "307/307 [==============================] - 1s 3ms/step - loss: 0.0679 - R2: 0.6583 - val_loss: 0.0672 - val_R2: 0.6705\n",
      "Epoch 258/500\n",
      "307/307 [==============================] - 1s 3ms/step - loss: 0.0675 - R2: 0.6654 - val_loss: 0.0672 - val_R2: 0.6700\n",
      "Epoch 259/500\n",
      "307/307 [==============================] - 1s 3ms/step - loss: 0.0677 - R2: 0.6610 - val_loss: 0.0671 - val_R2: 0.6704\n",
      "Epoch 260/500\n",
      "307/307 [==============================] - 1s 3ms/step - loss: 0.0685 - R2: 0.6597 - val_loss: 0.0673 - val_R2: 0.6693\n",
      "Epoch 261/500\n",
      "307/307 [==============================] - 1s 3ms/step - loss: 0.0670 - R2: 0.6629 - val_loss: 0.0669 - val_R2: 0.6714\n",
      "Epoch 262/500\n",
      "307/307 [==============================] - 1s 3ms/step - loss: 0.0676 - R2: 0.6601 - val_loss: 0.0673 - val_R2: 0.6685\n",
      "Epoch 263/500\n",
      "307/307 [==============================] - 1s 3ms/step - loss: 0.0674 - R2: 0.6658 - val_loss: 0.0666 - val_R2: 0.6723\n",
      "Epoch 264/500\n",
      "307/307 [==============================] - 1s 3ms/step - loss: 0.0678 - R2: 0.6671 - val_loss: 0.0669 - val_R2: 0.6713\n",
      "Epoch 265/500\n",
      "307/307 [==============================] - 1s 3ms/step - loss: 0.0672 - R2: 0.6683 - val_loss: 0.0672 - val_R2: 0.6689\n",
      "Epoch 266/500\n",
      "307/307 [==============================] - 1s 3ms/step - loss: 0.0671 - R2: 0.6659 - val_loss: 0.0674 - val_R2: 0.6684\n",
      "Epoch 267/500\n",
      "307/307 [==============================] - 1s 3ms/step - loss: 0.0676 - R2: 0.6571 - val_loss: 0.0668 - val_R2: 0.6712\n",
      "Epoch 268/500\n",
      "307/307 [==============================] - 1s 3ms/step - loss: 0.0671 - R2: 0.6595 - val_loss: 0.0674 - val_R2: 0.6678\n",
      "Epoch 269/500\n",
      "307/307 [==============================] - 1s 3ms/step - loss: 0.0668 - R2: 0.6624 - val_loss: 0.0669 - val_R2: 0.6708\n",
      "Epoch 270/500\n",
      "307/307 [==============================] - 1s 3ms/step - loss: 0.0670 - R2: 0.6585 - val_loss: 0.0671 - val_R2: 0.6697\n",
      "Epoch 271/500\n",
      "307/307 [==============================] - 1s 3ms/step - loss: 0.0682 - R2: 0.6510 - val_loss: 0.0672 - val_R2: 0.6695\n",
      "Epoch 272/500\n",
      "307/307 [==============================] - 1s 3ms/step - loss: 0.0674 - R2: 0.6601 - val_loss: 0.0674 - val_R2: 0.6681\n",
      "Epoch 273/500\n",
      "307/307 [==============================] - 1s 3ms/step - loss: 0.0676 - R2: 0.6648 - val_loss: 0.0673 - val_R2: 0.6683\n",
      "Epoch 274/500\n",
      "307/307 [==============================] - 1s 3ms/step - loss: 0.0668 - R2: 0.6678 - val_loss: 0.0673 - val_R2: 0.6686\n",
      "Epoch 275/500\n",
      "307/307 [==============================] - 1s 3ms/step - loss: 0.0677 - R2: 0.6644 - val_loss: 0.0673 - val_R2: 0.6684\n",
      "Epoch 276/500\n",
      "307/307 [==============================] - 1s 3ms/step - loss: 0.0674 - R2: 0.6613 - val_loss: 0.0667 - val_R2: 0.6718\n",
      "Epoch 277/500\n",
      "307/307 [==============================] - 1s 3ms/step - loss: 0.0673 - R2: 0.6637 - val_loss: 0.0672 - val_R2: 0.6696\n",
      "Epoch 278/500\n",
      "307/307 [==============================] - 1s 3ms/step - loss: 0.0671 - R2: 0.6680 - val_loss: 0.0671 - val_R2: 0.6694\n",
      "Epoch 279/500\n",
      "307/307 [==============================] - 1s 3ms/step - loss: 0.0678 - R2: 0.6599 - val_loss: 0.0668 - val_R2: 0.6712\n",
      "Epoch 280/500\n",
      "307/307 [==============================] - 1s 3ms/step - loss: 0.0666 - R2: 0.6661 - val_loss: 0.0668 - val_R2: 0.6713\n",
      "Epoch 281/500\n",
      "307/307 [==============================] - 1s 3ms/step - loss: 0.0674 - R2: 0.6616 - val_loss: 0.0676 - val_R2: 0.6663\n",
      "Epoch 282/500\n",
      "307/307 [==============================] - 1s 3ms/step - loss: 0.0661 - R2: 0.6720 - val_loss: 0.0673 - val_R2: 0.6680\n",
      "Epoch 283/500\n",
      "307/307 [==============================] - 1s 3ms/step - loss: 0.0674 - R2: 0.6613 - val_loss: 0.0669 - val_R2: 0.6710\n",
      "Epoch 284/500\n",
      "307/307 [==============================] - 1s 3ms/step - loss: 0.0673 - R2: 0.6669 - val_loss: 0.0675 - val_R2: 0.6674\n",
      "Epoch 285/500\n",
      "307/307 [==============================] - 1s 3ms/step - loss: 0.0669 - R2: 0.6714 - val_loss: 0.0670 - val_R2: 0.6705\n",
      "Epoch 286/500\n",
      "307/307 [==============================] - 1s 3ms/step - loss: 0.0669 - R2: 0.6612 - val_loss: 0.0671 - val_R2: 0.6695\n",
      "Epoch 287/500\n",
      "307/307 [==============================] - 1s 3ms/step - loss: 0.0673 - R2: 0.6587 - val_loss: 0.0666 - val_R2: 0.6719\n",
      "Epoch 288/500\n",
      "307/307 [==============================] - 1s 3ms/step - loss: 0.0668 - R2: 0.6726 - val_loss: 0.0670 - val_R2: 0.6703\n",
      "Epoch 289/500\n",
      "307/307 [==============================] - 1s 3ms/step - loss: 0.0671 - R2: 0.6652 - val_loss: 0.0672 - val_R2: 0.6692\n",
      "Epoch 290/500\n",
      "307/307 [==============================] - 1s 3ms/step - loss: 0.0668 - R2: 0.6673 - val_loss: 0.0671 - val_R2: 0.6696\n",
      "Epoch 291/500\n",
      "307/307 [==============================] - 1s 3ms/step - loss: 0.0670 - R2: 0.6565 - val_loss: 0.0667 - val_R2: 0.6715\n",
      "Epoch 292/500\n",
      "307/307 [==============================] - 1s 3ms/step - loss: 0.0668 - R2: 0.6685 - val_loss: 0.0667 - val_R2: 0.6718\n",
      "Epoch 293/500\n",
      "307/307 [==============================] - 1s 3ms/step - loss: 0.0674 - R2: 0.6552 - val_loss: 0.0673 - val_R2: 0.6681\n",
      "Epoch 294/500\n",
      "307/307 [==============================] - 1s 3ms/step - loss: 0.0668 - R2: 0.6618 - val_loss: 0.0673 - val_R2: 0.6688\n",
      "Epoch 295/500\n",
      "307/307 [==============================] - 1s 3ms/step - loss: 0.0669 - R2: 0.6533 - val_loss: 0.0670 - val_R2: 0.6699\n",
      "Epoch 296/500\n",
      "307/307 [==============================] - 1s 3ms/step - loss: 0.0664 - R2: 0.6655 - val_loss: 0.0671 - val_R2: 0.6694\n",
      "Epoch 297/500\n",
      "307/307 [==============================] - 1s 3ms/step - loss: 0.0671 - R2: 0.6692 - val_loss: 0.0672 - val_R2: 0.6691\n",
      "Epoch 298/500\n",
      "307/307 [==============================] - 1s 3ms/step - loss: 0.0670 - R2: 0.6608 - val_loss: 0.0666 - val_R2: 0.6720\n",
      "Epoch 299/500\n",
      "307/307 [==============================] - 1s 3ms/step - loss: 0.0675 - R2: 0.6557 - val_loss: 0.0670 - val_R2: 0.6704\n",
      "Epoch 300/500\n",
      "307/307 [==============================] - 1s 3ms/step - loss: 0.0669 - R2: 0.6625 - val_loss: 0.0667 - val_R2: 0.6717\n",
      "Epoch 301/500\n",
      "307/307 [==============================] - 1s 3ms/step - loss: 0.0676 - R2: 0.6628 - val_loss: 0.0669 - val_R2: 0.6710\n",
      "Epoch 302/500\n",
      "307/307 [==============================] - 1s 3ms/step - loss: 0.0676 - R2: 0.6665 - val_loss: 0.0667 - val_R2: 0.6712\n",
      "Epoch 303/500\n",
      "307/307 [==============================] - 1s 3ms/step - loss: 0.0667 - R2: 0.6637 - val_loss: 0.0672 - val_R2: 0.6691\n",
      "Epoch 304/500\n",
      "307/307 [==============================] - 1s 3ms/step - loss: 0.0675 - R2: 0.6624 - val_loss: 0.0673 - val_R2: 0.6686\n",
      "Epoch 305/500\n",
      "307/307 [==============================] - 1s 3ms/step - loss: 0.0670 - R2: 0.6615 - val_loss: 0.0671 - val_R2: 0.6700\n",
      "Epoch 306/500\n",
      "307/307 [==============================] - 1s 3ms/step - loss: 0.0672 - R2: 0.6603 - val_loss: 0.0669 - val_R2: 0.6704\n",
      "Epoch 307/500\n",
      "307/307 [==============================] - 1s 3ms/step - loss: 0.0670 - R2: 0.6629 - val_loss: 0.0667 - val_R2: 0.6710\n",
      "Epoch 308/500\n",
      "307/307 [==============================] - 1s 3ms/step - loss: 0.0673 - R2: 0.6637 - val_loss: 0.0673 - val_R2: 0.6680\n",
      "Epoch 309/500\n"
     ]
    },
    {
     "name": "stdout",
     "output_type": "stream",
     "text": [
      "307/307 [==============================] - 1s 3ms/step - loss: 0.0669 - R2: 0.6671 - val_loss: 0.0677 - val_R2: 0.6655\n",
      "Epoch 310/500\n",
      "307/307 [==============================] - 1s 3ms/step - loss: 0.0664 - R2: 0.6684 - val_loss: 0.0676 - val_R2: 0.6658\n",
      "Epoch 311/500\n",
      "307/307 [==============================] - 1s 3ms/step - loss: 0.0663 - R2: 0.6665 - val_loss: 0.0666 - val_R2: 0.6717\n",
      "Epoch 312/500\n",
      "307/307 [==============================] - 1s 3ms/step - loss: 0.0669 - R2: 0.6685 - val_loss: 0.0666 - val_R2: 0.6715\n",
      "Epoch 313/500\n",
      "307/307 [==============================] - 1s 3ms/step - loss: 0.0664 - R2: 0.6708 - val_loss: 0.0671 - val_R2: 0.6695\n",
      "Epoch 314/500\n",
      "307/307 [==============================] - 1s 3ms/step - loss: 0.0670 - R2: 0.6717 - val_loss: 0.0670 - val_R2: 0.6696\n",
      "Epoch 315/500\n",
      "307/307 [==============================] - 1s 3ms/step - loss: 0.0670 - R2: 0.6624 - val_loss: 0.0669 - val_R2: 0.6700\n",
      "Epoch 316/500\n",
      "307/307 [==============================] - 1s 3ms/step - loss: 0.0674 - R2: 0.6542 - val_loss: 0.0664 - val_R2: 0.6722\n",
      "Epoch 317/500\n",
      "307/307 [==============================] - 1s 3ms/step - loss: 0.0663 - R2: 0.6696 - val_loss: 0.0665 - val_R2: 0.6717\n",
      "Epoch 318/500\n",
      "307/307 [==============================] - 1s 3ms/step - loss: 0.0668 - R2: 0.6624 - val_loss: 0.0667 - val_R2: 0.6711\n",
      "Epoch 319/500\n",
      "307/307 [==============================] - 1s 3ms/step - loss: 0.0663 - R2: 0.6664 - val_loss: 0.0669 - val_R2: 0.6709\n",
      "Epoch 320/500\n",
      "307/307 [==============================] - 1s 3ms/step - loss: 0.0670 - R2: 0.6644 - val_loss: 0.0672 - val_R2: 0.6687\n",
      "Epoch 321/500\n",
      "307/307 [==============================] - 1s 3ms/step - loss: 0.0668 - R2: 0.6685 - val_loss: 0.0668 - val_R2: 0.6708\n",
      "Epoch 322/500\n",
      "307/307 [==============================] - 1s 3ms/step - loss: 0.0673 - R2: 0.6593 - val_loss: 0.0673 - val_R2: 0.6689\n",
      "Epoch 323/500\n",
      "307/307 [==============================] - 1s 3ms/step - loss: 0.0673 - R2: 0.6679 - val_loss: 0.0663 - val_R2: 0.6738\n",
      "Epoch 324/500\n",
      "307/307 [==============================] - 1s 3ms/step - loss: 0.0665 - R2: 0.6686 - val_loss: 0.0667 - val_R2: 0.6707\n",
      "Epoch 325/500\n",
      "307/307 [==============================] - 1s 3ms/step - loss: 0.0676 - R2: 0.6663 - val_loss: 0.0665 - val_R2: 0.6719\n",
      "Epoch 326/500\n",
      "307/307 [==============================] - 1s 3ms/step - loss: 0.0665 - R2: 0.6689 - val_loss: 0.0669 - val_R2: 0.6696\n",
      "Epoch 327/500\n",
      "307/307 [==============================] - 1s 3ms/step - loss: 0.0663 - R2: 0.6709 - val_loss: 0.0666 - val_R2: 0.6708\n",
      "Epoch 328/500\n",
      "307/307 [==============================] - 1s 3ms/step - loss: 0.0668 - R2: 0.6604 - val_loss: 0.0667 - val_R2: 0.6715\n",
      "Epoch 329/500\n",
      "307/307 [==============================] - 1s 3ms/step - loss: 0.0669 - R2: 0.6667 - val_loss: 0.0665 - val_R2: 0.6716\n",
      "Epoch 330/500\n",
      "307/307 [==============================] - 1s 3ms/step - loss: 0.0670 - R2: 0.6659 - val_loss: 0.0662 - val_R2: 0.6739\n",
      "Epoch 331/500\n",
      "307/307 [==============================] - 1s 3ms/step - loss: 0.0667 - R2: 0.6669 - val_loss: 0.0669 - val_R2: 0.6699\n",
      "Epoch 332/500\n",
      "307/307 [==============================] - 1s 3ms/step - loss: 0.0669 - R2: 0.6547 - val_loss: 0.0668 - val_R2: 0.6700\n",
      "Epoch 333/500\n",
      "307/307 [==============================] - 1s 3ms/step - loss: 0.0661 - R2: 0.6697 - val_loss: 0.0667 - val_R2: 0.6711\n",
      "Epoch 334/500\n",
      "307/307 [==============================] - 1s 3ms/step - loss: 0.0667 - R2: 0.6607 - val_loss: 0.0670 - val_R2: 0.6693\n",
      "Epoch 335/500\n",
      "307/307 [==============================] - 1s 3ms/step - loss: 0.0667 - R2: 0.6634 - val_loss: 0.0669 - val_R2: 0.6706\n",
      "Epoch 336/500\n",
      "307/307 [==============================] - 1s 3ms/step - loss: 0.0665 - R2: 0.6670 - val_loss: 0.0667 - val_R2: 0.6714\n",
      "Epoch 337/500\n",
      "307/307 [==============================] - 1s 3ms/step - loss: 0.0668 - R2: 0.6591 - val_loss: 0.0669 - val_R2: 0.6707\n",
      "Epoch 338/500\n",
      "307/307 [==============================] - 1s 3ms/step - loss: 0.0663 - R2: 0.6711 - val_loss: 0.0674 - val_R2: 0.6680\n",
      "Epoch 339/500\n",
      "307/307 [==============================] - 1s 3ms/step - loss: 0.0671 - R2: 0.6602 - val_loss: 0.0666 - val_R2: 0.6720\n",
      "Epoch 340/500\n",
      "307/307 [==============================] - 1s 3ms/step - loss: 0.0666 - R2: 0.6641 - val_loss: 0.0664 - val_R2: 0.6723\n",
      "Epoch 341/500\n",
      "307/307 [==============================] - 1s 3ms/step - loss: 0.0659 - R2: 0.6711 - val_loss: 0.0660 - val_R2: 0.6743\n",
      "Epoch 342/500\n",
      "307/307 [==============================] - 1s 3ms/step - loss: 0.0669 - R2: 0.6639 - val_loss: 0.0668 - val_R2: 0.6702\n",
      "Epoch 343/500\n",
      "307/307 [==============================] - 1s 3ms/step - loss: 0.0664 - R2: 0.6685 - val_loss: 0.0665 - val_R2: 0.6725\n",
      "Epoch 344/500\n",
      "307/307 [==============================] - 1s 3ms/step - loss: 0.0671 - R2: 0.6677 - val_loss: 0.0670 - val_R2: 0.6699\n",
      "Epoch 345/500\n",
      "307/307 [==============================] - 1s 3ms/step - loss: 0.0663 - R2: 0.6709 - val_loss: 0.0666 - val_R2: 0.6718\n",
      "Epoch 346/500\n",
      "307/307 [==============================] - 1s 3ms/step - loss: 0.0665 - R2: 0.6687 - val_loss: 0.0664 - val_R2: 0.6731\n",
      "Epoch 347/500\n",
      "307/307 [==============================] - 1s 3ms/step - loss: 0.0665 - R2: 0.6709 - val_loss: 0.0665 - val_R2: 0.6718\n",
      "Epoch 348/500\n",
      "307/307 [==============================] - 1s 3ms/step - loss: 0.0670 - R2: 0.6638 - val_loss: 0.0663 - val_R2: 0.6734\n",
      "Epoch 349/500\n",
      "307/307 [==============================] - 1s 3ms/step - loss: 0.0671 - R2: 0.6589 - val_loss: 0.0663 - val_R2: 0.6728\n",
      "Epoch 350/500\n",
      "307/307 [==============================] - 1s 3ms/step - loss: 0.0666 - R2: 0.6721 - val_loss: 0.0668 - val_R2: 0.6707\n",
      "Epoch 351/500\n",
      "307/307 [==============================] - 1s 3ms/step - loss: 0.0664 - R2: 0.6660 - val_loss: 0.0661 - val_R2: 0.6742\n",
      "Epoch 352/500\n",
      "307/307 [==============================] - 1s 3ms/step - loss: 0.0662 - R2: 0.6665 - val_loss: 0.0663 - val_R2: 0.6728\n",
      "Epoch 353/500\n",
      "307/307 [==============================] - 1s 3ms/step - loss: 0.0664 - R2: 0.6703 - val_loss: 0.0659 - val_R2: 0.6752\n",
      "Epoch 354/500\n",
      "307/307 [==============================] - 1s 3ms/step - loss: 0.0668 - R2: 0.6615 - val_loss: 0.0663 - val_R2: 0.6730\n",
      "Epoch 355/500\n",
      "307/307 [==============================] - 1s 3ms/step - loss: 0.0671 - R2: 0.6631 - val_loss: 0.0666 - val_R2: 0.6715\n",
      "Epoch 356/500\n",
      "307/307 [==============================] - 1s 3ms/step - loss: 0.0664 - R2: 0.6671 - val_loss: 0.0667 - val_R2: 0.6707\n",
      "Epoch 357/500\n",
      "307/307 [==============================] - 1s 3ms/step - loss: 0.0666 - R2: 0.6665 - val_loss: 0.0663 - val_R2: 0.6731\n",
      "Epoch 358/500\n",
      "307/307 [==============================] - 1s 3ms/step - loss: 0.0669 - R2: 0.6647 - val_loss: 0.0663 - val_R2: 0.6735\n",
      "Epoch 359/500\n",
      "307/307 [==============================] - 1s 3ms/step - loss: 0.0676 - R2: 0.6697 - val_loss: 0.0666 - val_R2: 0.6713\n",
      "Epoch 360/500\n",
      "307/307 [==============================] - 1s 3ms/step - loss: 0.0661 - R2: 0.6716 - val_loss: 0.0664 - val_R2: 0.6731\n",
      "Epoch 361/500\n",
      "307/307 [==============================] - 1s 3ms/step - loss: 0.0669 - R2: 0.6651 - val_loss: 0.0669 - val_R2: 0.6696\n",
      "Epoch 362/500\n",
      "307/307 [==============================] - 1s 3ms/step - loss: 0.0665 - R2: 0.6668 - val_loss: 0.0665 - val_R2: 0.6717\n",
      "Epoch 363/500\n",
      "307/307 [==============================] - 1s 3ms/step - loss: 0.0666 - R2: 0.6621 - val_loss: 0.0666 - val_R2: 0.6717\n",
      "Epoch 364/500\n",
      "307/307 [==============================] - 1s 3ms/step - loss: 0.0664 - R2: 0.6664 - val_loss: 0.0665 - val_R2: 0.6721\n",
      "Epoch 365/500\n",
      "307/307 [==============================] - 1s 3ms/step - loss: 0.0665 - R2: 0.6648 - val_loss: 0.0664 - val_R2: 0.6720\n",
      "Epoch 366/500\n",
      "307/307 [==============================] - 1s 3ms/step - loss: 0.0659 - R2: 0.6669 - val_loss: 0.0665 - val_R2: 0.6719\n",
      "Epoch 367/500\n",
      "307/307 [==============================] - 1s 3ms/step - loss: 0.0659 - R2: 0.6678 - val_loss: 0.0668 - val_R2: 0.6704\n",
      "Epoch 368/500\n",
      "307/307 [==============================] - 1s 3ms/step - loss: 0.0663 - R2: 0.6728 - val_loss: 0.0663 - val_R2: 0.6732\n",
      "Epoch 369/500\n",
      "307/307 [==============================] - 1s 3ms/step - loss: 0.0665 - R2: 0.6679 - val_loss: 0.0665 - val_R2: 0.6722\n",
      "Epoch 370/500\n",
      "307/307 [==============================] - 1s 3ms/step - loss: 0.0663 - R2: 0.6691 - val_loss: 0.0668 - val_R2: 0.6704\n"
     ]
    },
    {
     "name": "stdout",
     "output_type": "stream",
     "text": [
      "Epoch 371/500\n",
      "307/307 [==============================] - 1s 3ms/step - loss: 0.0671 - R2: 0.6595 - val_loss: 0.0666 - val_R2: 0.6716\n",
      "Epoch 372/500\n",
      "307/307 [==============================] - 1s 3ms/step - loss: 0.0663 - R2: 0.6673 - val_loss: 0.0670 - val_R2: 0.6688\n",
      "Epoch 373/500\n",
      "307/307 [==============================] - 1s 3ms/step - loss: 0.0660 - R2: 0.6658 - val_loss: 0.0669 - val_R2: 0.6700\n",
      "Epoch 374/500\n",
      "307/307 [==============================] - 1s 3ms/step - loss: 0.0663 - R2: 0.6723 - val_loss: 0.0667 - val_R2: 0.6697\n",
      "Epoch 375/500\n",
      "307/307 [==============================] - 1s 3ms/step - loss: 0.0668 - R2: 0.6658 - val_loss: 0.0664 - val_R2: 0.6725\n",
      "Epoch 376/500\n",
      "307/307 [==============================] - 1s 3ms/step - loss: 0.0664 - R2: 0.6658 - val_loss: 0.0665 - val_R2: 0.6718\n",
      "Epoch 377/500\n",
      "307/307 [==============================] - 1s 3ms/step - loss: 0.0670 - R2: 0.6608 - val_loss: 0.0664 - val_R2: 0.6724\n",
      "Epoch 378/500\n",
      "307/307 [==============================] - 1s 3ms/step - loss: 0.0659 - R2: 0.6674 - val_loss: 0.0663 - val_R2: 0.6730\n",
      "Epoch 379/500\n",
      "307/307 [==============================] - 1s 3ms/step - loss: 0.0665 - R2: 0.6634 - val_loss: 0.0667 - val_R2: 0.6712\n",
      "Epoch 380/500\n",
      "307/307 [==============================] - 1s 3ms/step - loss: 0.0670 - R2: 0.6648 - val_loss: 0.0668 - val_R2: 0.6703\n",
      "Epoch 381/500\n",
      "307/307 [==============================] - 1s 3ms/step - loss: 0.0657 - R2: 0.6728 - val_loss: 0.0665 - val_R2: 0.6716\n",
      "Epoch 382/500\n",
      "307/307 [==============================] - 1s 3ms/step - loss: 0.0663 - R2: 0.6716 - val_loss: 0.0664 - val_R2: 0.6727\n",
      "Epoch 383/500\n",
      "307/307 [==============================] - 1s 3ms/step - loss: 0.0667 - R2: 0.6630 - val_loss: 0.0669 - val_R2: 0.6701\n",
      "Epoch 384/500\n",
      "307/307 [==============================] - 1s 3ms/step - loss: 0.0664 - R2: 0.6723 - val_loss: 0.0661 - val_R2: 0.6739\n",
      "Epoch 385/500\n",
      "307/307 [==============================] - 1s 3ms/step - loss: 0.0665 - R2: 0.6620 - val_loss: 0.0665 - val_R2: 0.6712\n",
      "Epoch 386/500\n",
      "307/307 [==============================] - 1s 3ms/step - loss: 0.0663 - R2: 0.6683 - val_loss: 0.0663 - val_R2: 0.6730\n",
      "Epoch 387/500\n",
      "307/307 [==============================] - 1s 3ms/step - loss: 0.0663 - R2: 0.6657 - val_loss: 0.0665 - val_R2: 0.6717\n",
      "Epoch 388/500\n",
      "307/307 [==============================] - 1s 3ms/step - loss: 0.0664 - R2: 0.6726 - val_loss: 0.0661 - val_R2: 0.6736\n",
      "Epoch 389/500\n",
      "307/307 [==============================] - 1s 3ms/step - loss: 0.0656 - R2: 0.6720 - val_loss: 0.0666 - val_R2: 0.6710\n",
      "Epoch 390/500\n",
      "307/307 [==============================] - 1s 3ms/step - loss: 0.0663 - R2: 0.6707 - val_loss: 0.0664 - val_R2: 0.6720\n",
      "Epoch 391/500\n",
      "307/307 [==============================] - 1s 3ms/step - loss: 0.0662 - R2: 0.6585 - val_loss: 0.0665 - val_R2: 0.6714\n",
      "Epoch 392/500\n",
      "307/307 [==============================] - 1s 3ms/step - loss: 0.0660 - R2: 0.6694 - val_loss: 0.0667 - val_R2: 0.6711\n",
      "Epoch 393/500\n",
      "307/307 [==============================] - 1s 3ms/step - loss: 0.0659 - R2: 0.6733 - val_loss: 0.0664 - val_R2: 0.6722\n",
      "Epoch 394/500\n",
      "307/307 [==============================] - 1s 3ms/step - loss: 0.0657 - R2: 0.6683 - val_loss: 0.0665 - val_R2: 0.6711\n",
      "Epoch 395/500\n",
      "307/307 [==============================] - 1s 3ms/step - loss: 0.0665 - R2: 0.6642 - val_loss: 0.0666 - val_R2: 0.6712\n",
      "Epoch 396/500\n",
      "307/307 [==============================] - 1s 3ms/step - loss: 0.0667 - R2: 0.6663 - val_loss: 0.0662 - val_R2: 0.6734\n",
      "Epoch 397/500\n",
      "307/307 [==============================] - 1s 3ms/step - loss: 0.0661 - R2: 0.6696 - val_loss: 0.0667 - val_R2: 0.6708\n",
      "Epoch 398/500\n",
      "307/307 [==============================] - 1s 3ms/step - loss: 0.0662 - R2: 0.6714 - val_loss: 0.0662 - val_R2: 0.6738\n",
      "Epoch 399/500\n",
      "307/307 [==============================] - 1s 3ms/step - loss: 0.0657 - R2: 0.6694 - val_loss: 0.0664 - val_R2: 0.6723\n",
      "Epoch 400/500\n",
      "307/307 [==============================] - 1s 3ms/step - loss: 0.0668 - R2: 0.6660 - val_loss: 0.0663 - val_R2: 0.6725\n",
      "Epoch 401/500\n",
      "307/307 [==============================] - 1s 3ms/step - loss: 0.0664 - R2: 0.6671 - val_loss: 0.0659 - val_R2: 0.6749\n",
      "Epoch 402/500\n",
      "307/307 [==============================] - 1s 3ms/step - loss: 0.0663 - R2: 0.6694 - val_loss: 0.0663 - val_R2: 0.6725\n",
      "Epoch 403/500\n",
      "307/307 [==============================] - 1s 3ms/step - loss: 0.0663 - R2: 0.6679 - val_loss: 0.0665 - val_R2: 0.6716\n",
      "Epoch 404/500\n",
      "307/307 [==============================] - 1s 3ms/step - loss: 0.0659 - R2: 0.6631 - val_loss: 0.0667 - val_R2: 0.6717\n",
      "Epoch 405/500\n",
      "307/307 [==============================] - 1s 3ms/step - loss: 0.0664 - R2: 0.6689 - val_loss: 0.0663 - val_R2: 0.6724\n",
      "Epoch 406/500\n",
      "307/307 [==============================] - 1s 3ms/step - loss: 0.0657 - R2: 0.6677 - val_loss: 0.0665 - val_R2: 0.6722\n",
      "Epoch 407/500\n",
      "307/307 [==============================] - 1s 3ms/step - loss: 0.0660 - R2: 0.6645 - val_loss: 0.0661 - val_R2: 0.6739\n",
      "Epoch 408/500\n",
      "307/307 [==============================] - 1s 3ms/step - loss: 0.0666 - R2: 0.6651 - val_loss: 0.0666 - val_R2: 0.6709\n",
      "Epoch 409/500\n",
      "307/307 [==============================] - 1s 3ms/step - loss: 0.0662 - R2: 0.6635 - val_loss: 0.0662 - val_R2: 0.6733\n",
      "Epoch 410/500\n",
      "307/307 [==============================] - 1s 3ms/step - loss: 0.0663 - R2: 0.6732 - val_loss: 0.0671 - val_R2: 0.6687\n",
      "Epoch 411/500\n",
      "307/307 [==============================] - 1s 3ms/step - loss: 0.0663 - R2: 0.6631 - val_loss: 0.0670 - val_R2: 0.6688\n",
      "Epoch 412/500\n",
      "307/307 [==============================] - 1s 3ms/step - loss: 0.0664 - R2: 0.6660 - val_loss: 0.0663 - val_R2: 0.6728\n",
      "Epoch 413/500\n",
      "307/307 [==============================] - 1s 3ms/step - loss: 0.0661 - R2: 0.6681 - val_loss: 0.0666 - val_R2: 0.6716\n",
      "Epoch 414/500\n",
      "307/307 [==============================] - 1s 3ms/step - loss: 0.0661 - R2: 0.6655 - val_loss: 0.0665 - val_R2: 0.6725\n",
      "Epoch 415/500\n",
      "307/307 [==============================] - 1s 3ms/step - loss: 0.0667 - R2: 0.6691 - val_loss: 0.0664 - val_R2: 0.6725\n",
      "Epoch 416/500\n",
      "307/307 [==============================] - 1s 3ms/step - loss: 0.0657 - R2: 0.6716 - val_loss: 0.0664 - val_R2: 0.6717\n",
      "Epoch 417/500\n",
      "307/307 [==============================] - 1s 3ms/step - loss: 0.0661 - R2: 0.6713 - val_loss: 0.0663 - val_R2: 0.6725\n",
      "Epoch 418/500\n",
      "307/307 [==============================] - 1s 3ms/step - loss: 0.0661 - R2: 0.6655 - val_loss: 0.0666 - val_R2: 0.6704\n",
      "Epoch 419/500\n",
      "307/307 [==============================] - 1s 3ms/step - loss: 0.0660 - R2: 0.6735 - val_loss: 0.0660 - val_R2: 0.6744\n",
      "Epoch 420/500\n",
      "307/307 [==============================] - 1s 3ms/step - loss: 0.0657 - R2: 0.6736 - val_loss: 0.0659 - val_R2: 0.6748\n",
      "Epoch 421/500\n",
      "307/307 [==============================] - 1s 3ms/step - loss: 0.0659 - R2: 0.6704 - val_loss: 0.0660 - val_R2: 0.6737\n",
      "Epoch 422/500\n",
      "307/307 [==============================] - 1s 3ms/step - loss: 0.0659 - R2: 0.6718 - val_loss: 0.0663 - val_R2: 0.6727\n",
      "Epoch 423/500\n",
      "307/307 [==============================] - 1s 3ms/step - loss: 0.0653 - R2: 0.6825 - val_loss: 0.0662 - val_R2: 0.6732\n",
      "Epoch 424/500\n",
      "307/307 [==============================] - 1s 3ms/step - loss: 0.0660 - R2: 0.6705 - val_loss: 0.0665 - val_R2: 0.6713\n",
      "Epoch 425/500\n",
      "307/307 [==============================] - 1s 3ms/step - loss: 0.0661 - R2: 0.6654 - val_loss: 0.0664 - val_R2: 0.6720\n",
      "Epoch 426/500\n",
      "307/307 [==============================] - 1s 3ms/step - loss: 0.0672 - R2: 0.6657 - val_loss: 0.0662 - val_R2: 0.6729\n",
      "Epoch 427/500\n",
      "307/307 [==============================] - 1s 3ms/step - loss: 0.0661 - R2: 0.6697 - val_loss: 0.0664 - val_R2: 0.6725\n",
      "Epoch 428/500\n",
      "307/307 [==============================] - 1s 3ms/step - loss: 0.0662 - R2: 0.6720 - val_loss: 0.0665 - val_R2: 0.6710\n",
      "Epoch 429/500\n",
      "307/307 [==============================] - 1s 3ms/step - loss: 0.0660 - R2: 0.6723 - val_loss: 0.0663 - val_R2: 0.6726\n",
      "Epoch 430/500\n",
      "307/307 [==============================] - 1s 3ms/step - loss: 0.0662 - R2: 0.6671 - val_loss: 0.0660 - val_R2: 0.6739\n",
      "Epoch 431/500\n",
      "307/307 [==============================] - 1s 3ms/step - loss: 0.0650 - R2: 0.6759 - val_loss: 0.0667 - val_R2: 0.6705\n",
      "Epoch 432/500\n"
     ]
    },
    {
     "name": "stdout",
     "output_type": "stream",
     "text": [
      "307/307 [==============================] - 1s 3ms/step - loss: 0.0659 - R2: 0.6653 - val_loss: 0.0660 - val_R2: 0.6745\n",
      "Epoch 433/500\n",
      "307/307 [==============================] - 1s 3ms/step - loss: 0.0659 - R2: 0.6637 - val_loss: 0.0664 - val_R2: 0.6714\n",
      "Epoch 434/500\n",
      "307/307 [==============================] - 1s 3ms/step - loss: 0.0663 - R2: 0.6705 - val_loss: 0.0662 - val_R2: 0.6733\n",
      "Epoch 435/500\n",
      "307/307 [==============================] - 1s 3ms/step - loss: 0.0664 - R2: 0.6656 - val_loss: 0.0662 - val_R2: 0.6731\n",
      "Epoch 436/500\n",
      "307/307 [==============================] - 1s 3ms/step - loss: 0.0659 - R2: 0.6699 - val_loss: 0.0665 - val_R2: 0.6713\n",
      "Epoch 437/500\n",
      "307/307 [==============================] - 1s 3ms/step - loss: 0.0666 - R2: 0.6660 - val_loss: 0.0657 - val_R2: 0.6757\n",
      "Epoch 438/500\n",
      "307/307 [==============================] - 1s 3ms/step - loss: 0.0664 - R2: 0.6718 - val_loss: 0.0660 - val_R2: 0.6741\n",
      "Epoch 439/500\n",
      "307/307 [==============================] - 1s 3ms/step - loss: 0.0662 - R2: 0.6690 - val_loss: 0.0661 - val_R2: 0.6739\n",
      "Epoch 440/500\n",
      "307/307 [==============================] - 1s 3ms/step - loss: 0.0662 - R2: 0.6657 - val_loss: 0.0666 - val_R2: 0.6706\n",
      "Epoch 441/500\n",
      "307/307 [==============================] - 1s 3ms/step - loss: 0.0662 - R2: 0.6692 - val_loss: 0.0664 - val_R2: 0.6721\n",
      "Epoch 442/500\n",
      "307/307 [==============================] - 1s 3ms/step - loss: 0.0663 - R2: 0.6677 - val_loss: 0.0666 - val_R2: 0.6706\n",
      "Epoch 443/500\n",
      "307/307 [==============================] - 1s 3ms/step - loss: 0.0661 - R2: 0.6682 - val_loss: 0.0667 - val_R2: 0.6703\n",
      "Epoch 444/500\n",
      "307/307 [==============================] - 1s 3ms/step - loss: 0.0661 - R2: 0.6674 - val_loss: 0.0665 - val_R2: 0.6718\n",
      "Epoch 445/500\n",
      "307/307 [==============================] - 1s 3ms/step - loss: 0.0659 - R2: 0.6669 - val_loss: 0.0663 - val_R2: 0.6729\n",
      "Epoch 446/500\n",
      "307/307 [==============================] - 1s 3ms/step - loss: 0.0658 - R2: 0.6621 - val_loss: 0.0664 - val_R2: 0.6718\n",
      "Epoch 447/500\n",
      "307/307 [==============================] - 1s 3ms/step - loss: 0.0661 - R2: 0.6627 - val_loss: 0.0661 - val_R2: 0.6735\n",
      "Epoch 448/500\n",
      "307/307 [==============================] - 1s 3ms/step - loss: 0.0658 - R2: 0.6753 - val_loss: 0.0663 - val_R2: 0.6724\n",
      "Epoch 449/500\n",
      "307/307 [==============================] - 1s 3ms/step - loss: 0.0659 - R2: 0.6689 - val_loss: 0.0671 - val_R2: 0.6671\n",
      "Epoch 450/500\n",
      "307/307 [==============================] - 1s 3ms/step - loss: 0.0659 - R2: 0.6693 - val_loss: 0.0662 - val_R2: 0.6735\n",
      "Epoch 451/500\n",
      "307/307 [==============================] - 1s 3ms/step - loss: 0.0649 - R2: 0.6720 - val_loss: 0.0659 - val_R2: 0.6742\n",
      "Epoch 452/500\n",
      "307/307 [==============================] - 1s 3ms/step - loss: 0.0663 - R2: 0.6689 - val_loss: 0.0664 - val_R2: 0.6719\n",
      "Epoch 453/500\n",
      "307/307 [==============================] - 1s 3ms/step - loss: 0.0660 - R2: 0.6693 - val_loss: 0.0661 - val_R2: 0.6732\n",
      "Epoch 454/500\n",
      "307/307 [==============================] - 1s 3ms/step - loss: 0.0658 - R2: 0.6699 - val_loss: 0.0661 - val_R2: 0.6733\n",
      "Epoch 455/500\n",
      "307/307 [==============================] - 1s 3ms/step - loss: 0.0656 - R2: 0.6738 - val_loss: 0.0659 - val_R2: 0.6744\n",
      "Epoch 456/500\n",
      "307/307 [==============================] - 1s 3ms/step - loss: 0.0661 - R2: 0.6684 - val_loss: 0.0661 - val_R2: 0.6743\n",
      "Epoch 457/500\n",
      "307/307 [==============================] - 1s 3ms/step - loss: 0.0655 - R2: 0.6721 - val_loss: 0.0659 - val_R2: 0.6749\n",
      "Epoch 458/500\n",
      "307/307 [==============================] - 1s 3ms/step - loss: 0.0664 - R2: 0.6640 - val_loss: 0.0662 - val_R2: 0.6730\n",
      "Epoch 459/500\n",
      "307/307 [==============================] - 1s 3ms/step - loss: 0.0661 - R2: 0.6646 - val_loss: 0.0667 - val_R2: 0.6705\n",
      "Epoch 460/500\n",
      "307/307 [==============================] - 1s 3ms/step - loss: 0.0652 - R2: 0.6764 - val_loss: 0.0661 - val_R2: 0.6732\n",
      "Epoch 461/500\n",
      "307/307 [==============================] - 1s 3ms/step - loss: 0.0660 - R2: 0.6747 - val_loss: 0.0657 - val_R2: 0.6762\n",
      "Epoch 462/500\n",
      "307/307 [==============================] - 1s 3ms/step - loss: 0.0658 - R2: 0.6752 - val_loss: 0.0667 - val_R2: 0.6703\n",
      "Epoch 463/500\n",
      "307/307 [==============================] - 1s 3ms/step - loss: 0.0658 - R2: 0.6720 - val_loss: 0.0667 - val_R2: 0.6702\n",
      "Epoch 464/500\n",
      "307/307 [==============================] - 1s 3ms/step - loss: 0.0662 - R2: 0.6652 - val_loss: 0.0662 - val_R2: 0.6737\n",
      "Epoch 465/500\n",
      "307/307 [==============================] - 1s 3ms/step - loss: 0.0658 - R2: 0.6736 - val_loss: 0.0660 - val_R2: 0.6737\n",
      "Epoch 466/500\n",
      "307/307 [==============================] - 1s 3ms/step - loss: 0.0665 - R2: 0.6699 - val_loss: 0.0662 - val_R2: 0.6725\n",
      "Epoch 467/500\n",
      "307/307 [==============================] - 1s 3ms/step - loss: 0.0662 - R2: 0.6713 - val_loss: 0.0662 - val_R2: 0.6725\n",
      "Epoch 468/500\n",
      "307/307 [==============================] - 1s 3ms/step - loss: 0.0662 - R2: 0.6729 - val_loss: 0.0664 - val_R2: 0.6724\n",
      "Epoch 469/500\n",
      "307/307 [==============================] - 1s 3ms/step - loss: 0.0660 - R2: 0.6703 - val_loss: 0.0664 - val_R2: 0.6721\n",
      "Epoch 470/500\n",
      "307/307 [==============================] - 1s 3ms/step - loss: 0.0654 - R2: 0.6780 - val_loss: 0.0659 - val_R2: 0.6740\n",
      "Epoch 471/500\n",
      "307/307 [==============================] - 1s 3ms/step - loss: 0.0661 - R2: 0.6706 - val_loss: 0.0667 - val_R2: 0.6704\n",
      "Epoch 472/500\n",
      "307/307 [==============================] - 1s 3ms/step - loss: 0.0654 - R2: 0.6744 - val_loss: 0.0660 - val_R2: 0.6743\n",
      "Epoch 473/500\n",
      "307/307 [==============================] - 1s 3ms/step - loss: 0.0660 - R2: 0.6721 - val_loss: 0.0662 - val_R2: 0.6736\n",
      "Epoch 474/500\n",
      "307/307 [==============================] - 1s 3ms/step - loss: 0.0662 - R2: 0.6681 - val_loss: 0.0658 - val_R2: 0.6744\n",
      "Epoch 475/500\n",
      "307/307 [==============================] - 1s 3ms/step - loss: 0.0653 - R2: 0.6737 - val_loss: 0.0665 - val_R2: 0.6711\n",
      "Epoch 476/500\n",
      "307/307 [==============================] - 1s 3ms/step - loss: 0.0661 - R2: 0.6693 - val_loss: 0.0661 - val_R2: 0.6735\n",
      "Epoch 477/500\n",
      "307/307 [==============================] - 1s 3ms/step - loss: 0.0660 - R2: 0.6700 - val_loss: 0.0665 - val_R2: 0.6715\n",
      "Epoch 478/500\n",
      "307/307 [==============================] - 1s 3ms/step - loss: 0.0658 - R2: 0.6687 - val_loss: 0.0663 - val_R2: 0.6726\n",
      "Epoch 479/500\n",
      "307/307 [==============================] - 1s 3ms/step - loss: 0.0655 - R2: 0.6755 - val_loss: 0.0660 - val_R2: 0.6737\n",
      "Epoch 480/500\n",
      "307/307 [==============================] - 1s 3ms/step - loss: 0.0660 - R2: 0.6701 - val_loss: 0.0665 - val_R2: 0.6711\n",
      "Epoch 481/500\n",
      "307/307 [==============================] - 1s 3ms/step - loss: 0.0656 - R2: 0.6683 - val_loss: 0.0665 - val_R2: 0.6720\n",
      "Epoch 482/500\n",
      "307/307 [==============================] - 1s 3ms/step - loss: 0.0657 - R2: 0.6676 - val_loss: 0.0655 - val_R2: 0.6769\n",
      "Epoch 483/500\n",
      "307/307 [==============================] - 1s 3ms/step - loss: 0.0661 - R2: 0.6711 - val_loss: 0.0664 - val_R2: 0.6718\n",
      "Epoch 484/500\n",
      "307/307 [==============================] - 1s 3ms/step - loss: 0.0653 - R2: 0.6728 - val_loss: 0.0660 - val_R2: 0.6742\n",
      "Epoch 485/500\n",
      "307/307 [==============================] - 1s 3ms/step - loss: 0.0658 - R2: 0.6684 - val_loss: 0.0663 - val_R2: 0.6728\n",
      "Epoch 486/500\n",
      "307/307 [==============================] - 1s 3ms/step - loss: 0.0657 - R2: 0.6760 - val_loss: 0.0664 - val_R2: 0.6717\n",
      "Epoch 487/500\n",
      "307/307 [==============================] - 1s 3ms/step - loss: 0.0659 - R2: 0.6663 - val_loss: 0.0660 - val_R2: 0.6744\n",
      "Epoch 488/500\n",
      "307/307 [==============================] - 1s 3ms/step - loss: 0.0660 - R2: 0.6746 - val_loss: 0.0664 - val_R2: 0.6715\n",
      "Epoch 489/500\n",
      "307/307 [==============================] - 1s 3ms/step - loss: 0.0657 - R2: 0.6672 - val_loss: 0.0660 - val_R2: 0.6739\n",
      "Epoch 490/500\n",
      "307/307 [==============================] - 1s 3ms/step - loss: 0.0659 - R2: 0.6709 - val_loss: 0.0666 - val_R2: 0.6699\n",
      "Epoch 491/500\n",
      "307/307 [==============================] - 1s 3ms/step - loss: 0.0662 - R2: 0.6681 - val_loss: 0.0659 - val_R2: 0.6744\n",
      "Epoch 492/500\n",
      "307/307 [==============================] - 1s 3ms/step - loss: 0.0658 - R2: 0.6704 - val_loss: 0.0662 - val_R2: 0.6733\n",
      "Epoch 493/500\n",
      "307/307 [==============================] - 1s 3ms/step - loss: 0.0652 - R2: 0.6718 - val_loss: 0.0663 - val_R2: 0.6718\n"
     ]
    },
    {
     "name": "stdout",
     "output_type": "stream",
     "text": [
      "Epoch 494/500\n",
      "307/307 [==============================] - 1s 3ms/step - loss: 0.0659 - R2: 0.6679 - val_loss: 0.0666 - val_R2: 0.6710\n",
      "Epoch 495/500\n",
      "307/307 [==============================] - 1s 3ms/step - loss: 0.0660 - R2: 0.6656 - val_loss: 0.0661 - val_R2: 0.6730\n",
      "Epoch 496/500\n",
      "307/307 [==============================] - 1s 3ms/step - loss: 0.0657 - R2: 0.6751 - val_loss: 0.0663 - val_R2: 0.6720\n",
      "Epoch 497/500\n",
      "307/307 [==============================] - 1s 3ms/step - loss: 0.0660 - R2: 0.6672 - val_loss: 0.0661 - val_R2: 0.6732\n",
      "Epoch 498/500\n",
      "307/307 [==============================] - 1s 3ms/step - loss: 0.0657 - R2: 0.6671 - val_loss: 0.0666 - val_R2: 0.6707\n",
      "Epoch 499/500\n",
      "307/307 [==============================] - 1s 3ms/step - loss: 0.0658 - R2: 0.6753 - val_loss: 0.0662 - val_R2: 0.6731\n",
      "Epoch 500/500\n",
      "307/307 [==============================] - 1s 3ms/step - loss: 0.0656 - R2: 0.6685 - val_loss: 0.0660 - val_R2: 0.6746\n"
     ]
    }
   ],
   "source": [
    "training = model.fit(x=train_features, y=train_labels, \n",
    "     batch_size=32, epochs=epochs, shuffle=True, verbose=1,\n",
    "    validation_split=0.3)"
   ]
  },
  {
   "cell_type": "code",
   "execution_count": 51,
   "metadata": {},
   "outputs": [
    {
     "name": "stdout",
     "output_type": "stream",
     "text": [
      "0.2650485515652774\n",
      "0.2528265665523882\n"
     ]
    }
   ],
   "source": [
    "NNfitsontest = np.reshape(model.predict(test_features),-1)\n",
    "NNfitsontrain = np.reshape(model.predict(train_features),-1)\n",
    "\n",
    "print(sqrt(mean((NNfitsontest-test_labels)**2)))\n",
    "\n",
    "print(sqrt(mean((NNfitsontrain-train_labels)**2)))"
   ]
  },
  {
   "cell_type": "code",
   "execution_count": 52,
   "metadata": {},
   "outputs": [
    {
     "data": {
      "image/png": "[encoded data removed]",
      "text/plain": [
       "<Figure size 360x360 with 1 Axes>"
      ]
     },
     "metadata": {
      "needs_background": "light"
     },
     "output_type": "display_data"
    }
   ],
   "source": [
    "plt.figure(figsize=[5,5])\n",
    "hist2d(x=NNfitsontrain,\n",
    "       y=train_labels,\n",
    "         bins=200,\n",
    "         norm=matplotlib.colors.LogNorm())\n",
    "plt.title('Neural Network Performance')\n",
    "plt.ylabel('Training Set Response',size=12)\n",
    "plt.xlabel('Training Set Fitted Values',size=12)\n",
    "plt.plot([-100, 100], [-100, 100], 'b-')\n",
    "plt.xlim(-1.5,3)\n",
    "plt.ylim(-1.5,3)\n",
    "\n",
    "plt.show()"
   ]
  },
  {
   "cell_type": "code",
   "execution_count": 53,
   "metadata": {},
   "outputs": [
    {
     "data": {
      "image/png": "[encoded data removed]",
      "text/plain": [
       "<Figure size 360x360 with 1 Axes>"
      ]
     },
     "metadata": {
      "needs_background": "light"
     },
     "output_type": "display_data"
    }
   ],
   "source": [
    "plt.figure(figsize=[5,5])\n",
    "hist2d(x=NNfitsontest,\n",
    "       y=test_labels,\n",
    "         bins=200,\n",
    "         norm=matplotlib.colors.LogNorm())\n",
    "plt.title('Neural Network Performance')\n",
    "plt.ylabel('Test Set Response',size=12)\n",
    "plt.xlabel('Test Set Fitted Values',size=12)\n",
    "plt.plot([-100, 100], [-100, 100], 'b-')\n",
    "plt.xlim(-1.5,3)\n",
    "plt.ylim(-1.5,3)\n",
    "\n",
    "plt.show()"
   ]
  },
  {
   "cell_type": "code",
   "execution_count": 54,
   "metadata": {
    "scrolled": false
   },
   "outputs": [
    {
     "data": {
      "image/png": "[encoded data removed]",
      "text/plain": [
       "<Figure size 1080x216 with 4 Axes>"
      ]
     },
     "metadata": {
      "needs_background": "light"
     },
     "output_type": "display_data"
    }
   ],
   "source": [
    "# plot\n",
    "\n",
    "metrics = [k for k in training.history.keys() if (\"loss\" not in k) and (\"val\" not in k)]    \n",
    "fig, ax = plt.subplots(nrows=1, ncols=2, sharey=True, figsize=(15,3))\n",
    "       \n",
    "## training\n",
    "\n",
    "ax[0].set(title=\"Training\")    \n",
    "ax11 = ax[0].twinx()    \n",
    "ax[0].plot(training.history['loss'], color='black')\n",
    "ax[0].set_xlabel('Epochs')    \n",
    "ax[0].set_ylabel('Loss', color='black')    \n",
    "for metric in metrics:        \n",
    "    ax11.plot(training.history[metric], label=metric) \n",
    "    ax11.set_ylabel(\"Score\", color='steelblue')    \n",
    "ax11.legend()\n",
    "        \n",
    "## validation\n",
    "\n",
    "ax[1].set(title=\"Validation\")    \n",
    "ax22 = ax[1].twinx()    \n",
    "ax[1].plot(training.history['val_loss'], color='black')\n",
    "ax[1].set_xlabel('Epochs')    \n",
    "ax[1].set_ylabel('Loss', color='black')    \n",
    "for metric in metrics:          \n",
    "    ax22.plot(training.history['val_'+metric], label=metric)\n",
    "    ax22.set_ylabel(\"Score\", color=\"steelblue\")    \n",
    "plt.show()"
   ]
  },
  {
   "cell_type": "code",
   "execution_count": 55,
   "metadata": {},
   "outputs": [
    {
     "name": "stdout",
     "output_type": "stream",
     "text": [
      "RMSE NN on test set:\n",
      "0.2650485515652774\n",
      "RMSE NN on training set:\n",
      "0.2528265665523882\n"
     ]
    }
   ],
   "source": [
    "print(\"RMSE NN on test set:\")\n",
    "print(sqrt(mean((NNfitsontest-test_labels)**2)))\n",
    "\n",
    "print(\"RMSE NN on training set:\")\n",
    "print(sqrt(mean((NNfitsontrain-train_labels)**2)))"
   ]
  },
  {
   "cell_type": "markdown",
   "metadata": {},
   "source": [
    "### Refit NN to entire data set"
   ]
  },
  {
   "cell_type": "code",
   "execution_count": 56,
   "metadata": {},
   "outputs": [
    {
     "name": "stdout",
     "output_type": "stream",
     "text": [
      "Epoch 1/500\n",
      "384/384 - 1s - loss: 0.0817 - R2: 0.7062 - val_loss: 0.0638 - val_R2: -1.6542e+01\n",
      "Epoch 2/500\n",
      "384/384 - 1s - loss: 0.0801 - R2: 0.7103 - val_loss: 0.0725 - val_R2: -1.9155e+01\n",
      "Epoch 3/500\n",
      "384/384 - 1s - loss: 0.0802 - R2: 0.7115 - val_loss: 0.0805 - val_R2: -2.1594e+01\n",
      "Epoch 4/500\n",
      "384/384 - 1s - loss: 0.0794 - R2: 0.7041 - val_loss: 0.0859 - val_R2: -2.3185e+01\n",
      "Epoch 5/500\n",
      "384/384 - 1s - loss: 0.0787 - R2: 0.7142 - val_loss: 0.0837 - val_R2: -2.2576e+01\n",
      "Epoch 6/500\n",
      "384/384 - 1s - loss: 0.0788 - R2: 0.7149 - val_loss: 0.0826 - val_R2: -2.2306e+01\n",
      "Epoch 7/500\n",
      "384/384 - 1s - loss: 0.0784 - R2: 0.7129 - val_loss: 0.0864 - val_R2: -2.3411e+01\n",
      "Epoch 8/500\n",
      "384/384 - 1s - loss: 0.0787 - R2: 0.7183 - val_loss: 0.0839 - val_R2: -2.2646e+01\n",
      "Epoch 9/500\n",
      "384/384 - 1s - loss: 0.0789 - R2: 0.7161 - val_loss: 0.0868 - val_R2: -2.3458e+01\n",
      "Epoch 10/500\n",
      "384/384 - 1s - loss: 0.0783 - R2: 0.7141 - val_loss: 0.0963 - val_R2: -2.6280e+01\n",
      "Epoch 11/500\n",
      "384/384 - 1s - loss: 0.0775 - R2: 0.7196 - val_loss: 0.0864 - val_R2: -2.3450e+01\n",
      "Epoch 12/500\n",
      "384/384 - 1s - loss: 0.0787 - R2: 0.7187 - val_loss: 0.0873 - val_R2: -2.3709e+01\n",
      "Epoch 13/500\n",
      "384/384 - 1s - loss: 0.0784 - R2: 0.6347 - val_loss: 0.0866 - val_R2: -2.3530e+01\n",
      "Epoch 14/500\n",
      "384/384 - 1s - loss: 0.0784 - R2: 0.7145 - val_loss: 0.0875 - val_R2: -2.3821e+01\n",
      "Epoch 15/500\n",
      "384/384 - 1s - loss: 0.0781 - R2: 0.7145 - val_loss: 0.0887 - val_R2: -2.4149e+01\n",
      "Epoch 16/500\n",
      "384/384 - 1s - loss: 0.0784 - R2: 0.7143 - val_loss: 0.0962 - val_R2: -2.6307e+01\n",
      "Epoch 17/500\n",
      "384/384 - 1s - loss: 0.0782 - R2: 0.7182 - val_loss: 0.0940 - val_R2: -2.5682e+01\n",
      "Epoch 18/500\n",
      "384/384 - 1s - loss: 0.0786 - R2: 0.7186 - val_loss: 0.0927 - val_R2: -2.5305e+01\n",
      "Epoch 19/500\n",
      "384/384 - 1s - loss: 0.0784 - R2: 0.7135 - val_loss: 0.0933 - val_R2: -2.5457e+01\n",
      "Epoch 20/500\n",
      "384/384 - 1s - loss: 0.0780 - R2: 0.7184 - val_loss: 0.0925 - val_R2: -2.5212e+01\n",
      "Epoch 21/500\n",
      "384/384 - 1s - loss: 0.0791 - R2: 0.7136 - val_loss: 0.0981 - val_R2: -2.6836e+01\n",
      "Epoch 22/500\n",
      "384/384 - 1s - loss: 0.0780 - R2: 0.7184 - val_loss: 0.0941 - val_R2: -2.5710e+01\n",
      "Epoch 23/500\n",
      "384/384 - 1s - loss: 0.0781 - R2: 0.7137 - val_loss: 0.0968 - val_R2: -2.6493e+01\n",
      "Epoch 24/500\n",
      "384/384 - 1s - loss: 0.0786 - R2: 0.7152 - val_loss: 0.0940 - val_R2: -2.5656e+01\n",
      "Epoch 25/500\n",
      "384/384 - 1s - loss: 0.0786 - R2: 0.7173 - val_loss: 0.0913 - val_R2: -2.4959e+01\n",
      "Epoch 26/500\n",
      "384/384 - 1s - loss: 0.0781 - R2: 0.7158 - val_loss: 0.0968 - val_R2: -2.6474e+01\n",
      "Epoch 27/500\n",
      "384/384 - 1s - loss: 0.0779 - R2: 0.7199 - val_loss: 0.0957 - val_R2: -2.6130e+01\n",
      "Epoch 28/500\n",
      "384/384 - 1s - loss: 0.0780 - R2: 0.7197 - val_loss: 0.0907 - val_R2: -2.4773e+01\n",
      "Epoch 29/500\n",
      "384/384 - 1s - loss: 0.0783 - R2: 0.7111 - val_loss: 0.0971 - val_R2: -2.6584e+01\n",
      "Epoch 30/500\n",
      "384/384 - 1s - loss: 0.0776 - R2: 0.7186 - val_loss: 0.0922 - val_R2: -2.5213e+01\n",
      "Epoch 31/500\n",
      "384/384 - 1s - loss: 0.0774 - R2: 0.7175 - val_loss: 0.0975 - val_R2: -2.6669e+01\n",
      "Epoch 32/500\n",
      "384/384 - 1s - loss: 0.0774 - R2: 0.7236 - val_loss: 0.1034 - val_R2: -2.8374e+01\n",
      "Epoch 33/500\n",
      "384/384 - 1s - loss: 0.0782 - R2: 0.7175 - val_loss: 0.0969 - val_R2: -2.6539e+01\n",
      "Epoch 34/500\n",
      "384/384 - 1s - loss: 0.0776 - R2: 0.7154 - val_loss: 0.0944 - val_R2: -2.5807e+01\n",
      "Epoch 35/500\n",
      "384/384 - 1s - loss: 0.0775 - R2: 0.7168 - val_loss: 0.0953 - val_R2: -2.6105e+01\n",
      "Epoch 36/500\n",
      "384/384 - 1s - loss: 0.0779 - R2: 0.7101 - val_loss: 0.0974 - val_R2: -2.6697e+01\n",
      "Epoch 37/500\n",
      "384/384 - 1s - loss: 0.0776 - R2: 0.7178 - val_loss: 0.1006 - val_R2: -2.7617e+01\n",
      "Epoch 38/500\n",
      "384/384 - 1s - loss: 0.0779 - R2: 0.7180 - val_loss: 0.0938 - val_R2: -2.5675e+01\n",
      "Epoch 39/500\n",
      "384/384 - 1s - loss: 0.0780 - R2: 0.7174 - val_loss: 0.0969 - val_R2: -2.6545e+01\n",
      "Epoch 40/500\n",
      "384/384 - 1s - loss: 0.0776 - R2: 0.7191 - val_loss: 0.0956 - val_R2: -2.6205e+01\n",
      "Epoch 41/500\n",
      "384/384 - 1s - loss: 0.0781 - R2: 0.7154 - val_loss: 0.0999 - val_R2: -2.7443e+01\n",
      "Epoch 42/500\n",
      "384/384 - 1s - loss: 0.0776 - R2: 0.7223 - val_loss: 0.0982 - val_R2: -2.6922e+01\n",
      "Epoch 43/500\n",
      "384/384 - 1s - loss: 0.0773 - R2: 0.7009 - val_loss: 0.0998 - val_R2: -2.7331e+01\n",
      "Epoch 44/500\n",
      "384/384 - 1s - loss: 0.0779 - R2: 0.7188 - val_loss: 0.0987 - val_R2: -2.7062e+01\n",
      "Epoch 45/500\n",
      "384/384 - 1s - loss: 0.0776 - R2: 0.7144 - val_loss: 0.0997 - val_R2: -2.7359e+01\n",
      "Epoch 46/500\n",
      "384/384 - 1s - loss: 0.0767 - R2: 0.7222 - val_loss: 0.0948 - val_R2: -2.5944e+01\n",
      "Epoch 47/500\n",
      "384/384 - 1s - loss: 0.0777 - R2: 0.7171 - val_loss: 0.0980 - val_R2: -2.6868e+01\n",
      "Epoch 48/500\n",
      "384/384 - 1s - loss: 0.0780 - R2: 0.7162 - val_loss: 0.1003 - val_R2: -2.7520e+01\n",
      "Epoch 49/500\n",
      "384/384 - 1s - loss: 0.0782 - R2: 0.7171 - val_loss: 0.0993 - val_R2: -2.7219e+01\n",
      "Epoch 50/500\n",
      "384/384 - 1s - loss: 0.0780 - R2: 0.7212 - val_loss: 0.0948 - val_R2: -2.5944e+01\n",
      "Epoch 51/500\n",
      "384/384 - 1s - loss: 0.0777 - R2: 0.7196 - val_loss: 0.0958 - val_R2: -2.6233e+01\n",
      "Epoch 52/500\n",
      "384/384 - 1s - loss: 0.0779 - R2: 0.7166 - val_loss: 0.0942 - val_R2: -2.5776e+01\n",
      "Epoch 53/500\n",
      "384/384 - 1s - loss: 0.0778 - R2: 0.7198 - val_loss: 0.0991 - val_R2: -2.7171e+01\n",
      "Epoch 54/500\n",
      "384/384 - 1s - loss: 0.0770 - R2: 0.7182 - val_loss: 0.0986 - val_R2: -2.7058e+01\n",
      "Epoch 55/500\n",
      "384/384 - 1s - loss: 0.0770 - R2: 0.7241 - val_loss: 0.0937 - val_R2: -2.5632e+01\n",
      "Epoch 56/500\n",
      "384/384 - 1s - loss: 0.0776 - R2: 0.7193 - val_loss: 0.0922 - val_R2: -2.5223e+01\n",
      "Epoch 57/500\n",
      "384/384 - 1s - loss: 0.0777 - R2: 0.7099 - val_loss: 0.1035 - val_R2: -2.8434e+01\n",
      "Epoch 58/500\n",
      "384/384 - 1s - loss: 0.0770 - R2: 0.7220 - val_loss: 0.1012 - val_R2: -2.7813e+01\n",
      "Epoch 59/500\n",
      "384/384 - 1s - loss: 0.0776 - R2: 0.7186 - val_loss: 0.0997 - val_R2: -2.7322e+01\n",
      "Epoch 60/500\n",
      "384/384 - 1s - loss: 0.0773 - R2: 0.7193 - val_loss: 0.1034 - val_R2: -2.8373e+01\n",
      "Epoch 61/500\n",
      "384/384 - 1s - loss: 0.0773 - R2: 0.7201 - val_loss: 0.0997 - val_R2: -2.7407e+01\n",
      "Epoch 62/500\n",
      "384/384 - 1s - loss: 0.0773 - R2: 0.7175 - val_loss: 0.1005 - val_R2: -2.7648e+01\n",
      "Epoch 63/500\n",
      "384/384 - 1s - loss: 0.0780 - R2: 0.7151 - val_loss: 0.0996 - val_R2: -2.7348e+01\n",
      "Epoch 64/500\n",
      "384/384 - 1s - loss: 0.0777 - R2: 0.7219 - val_loss: 0.0982 - val_R2: -2.6941e+01\n",
      "Epoch 65/500\n",
      "384/384 - 1s - loss: 0.0768 - R2: 0.7220 - val_loss: 0.0989 - val_R2: -2.7125e+01\n",
      "Epoch 66/500\n",
      "384/384 - 1s - loss: 0.0776 - R2: 0.7202 - val_loss: 0.0974 - val_R2: -2.6697e+01\n",
      "Epoch 67/500\n",
      "384/384 - 1s - loss: 0.0775 - R2: 0.7173 - val_loss: 0.1010 - val_R2: -2.7772e+01\n",
      "Epoch 68/500\n",
      "384/384 - 1s - loss: 0.0771 - R2: 0.7241 - val_loss: 0.0958 - val_R2: -2.6286e+01\n",
      "Epoch 69/500\n",
      "384/384 - 1s - loss: 0.0774 - R2: 0.7166 - val_loss: 0.1034 - val_R2: -2.8460e+01\n",
      "Epoch 70/500\n",
      "384/384 - 1s - loss: 0.0773 - R2: 0.7211 - val_loss: 0.0992 - val_R2: -2.7234e+01\n",
      "Epoch 71/500\n",
      "384/384 - 1s - loss: 0.0773 - R2: 0.7180 - val_loss: 0.0949 - val_R2: -2.5969e+01\n",
      "Epoch 72/500\n",
      "384/384 - 1s - loss: 0.0771 - R2: 0.7168 - val_loss: 0.0994 - val_R2: -2.7277e+01\n",
      "Epoch 73/500\n",
      "384/384 - 1s - loss: 0.0772 - R2: 0.7213 - val_loss: 0.1054 - val_R2: -2.8990e+01\n",
      "Epoch 74/500\n",
      "384/384 - 1s - loss: 0.0771 - R2: 0.7178 - val_loss: 0.0947 - val_R2: -2.5978e+01\n",
      "Epoch 75/500\n",
      "384/384 - 1s - loss: 0.0773 - R2: 0.7202 - val_loss: 0.1077 - val_R2: -2.9680e+01\n",
      "Epoch 76/500\n",
      "384/384 - 1s - loss: 0.0774 - R2: 0.7202 - val_loss: 0.1035 - val_R2: -2.8470e+01\n",
      "Epoch 77/500\n",
      "384/384 - 1s - loss: 0.0775 - R2: 0.7216 - val_loss: 0.0959 - val_R2: -2.6272e+01\n",
      "Epoch 78/500\n",
      "384/384 - 1s - loss: 0.0778 - R2: 0.7221 - val_loss: 0.0997 - val_R2: -2.7361e+01\n",
      "Epoch 79/500\n",
      "384/384 - 1s - loss: 0.0774 - R2: 0.7106 - val_loss: 0.0980 - val_R2: -2.6888e+01\n",
      "Epoch 80/500\n",
      "384/384 - 1s - loss: 0.0777 - R2: 0.7185 - val_loss: 0.1017 - val_R2: -2.7913e+01\n",
      "Epoch 81/500\n",
      "384/384 - 1s - loss: 0.0771 - R2: 0.7224 - val_loss: 0.0951 - val_R2: -2.6022e+01\n",
      "Epoch 82/500\n",
      "384/384 - 1s - loss: 0.0769 - R2: 0.7219 - val_loss: 0.1038 - val_R2: -2.8488e+01\n",
      "Epoch 83/500\n",
      "384/384 - 1s - loss: 0.0769 - R2: 0.7214 - val_loss: 0.1008 - val_R2: -2.7651e+01\n",
      "Epoch 84/500\n",
      "384/384 - 1s - loss: 0.0768 - R2: 0.7222 - val_loss: 0.1015 - val_R2: -2.7833e+01\n",
      "Epoch 85/500\n",
      "384/384 - 1s - loss: 0.0772 - R2: 0.7140 - val_loss: 0.0982 - val_R2: -2.6915e+01\n",
      "Epoch 86/500\n",
      "384/384 - 1s - loss: 0.0770 - R2: 0.7198 - val_loss: 0.1041 - val_R2: -2.8632e+01\n",
      "Epoch 87/500\n",
      "384/384 - 1s - loss: 0.0775 - R2: 0.7216 - val_loss: 0.1028 - val_R2: -2.8215e+01\n"
     ]
    },
    {
     "name": "stdout",
     "output_type": "stream",
     "text": [
      "Epoch 88/500\n",
      "384/384 - 1s - loss: 0.0765 - R2: 0.7223 - val_loss: 0.1004 - val_R2: -2.7609e+01\n",
      "Epoch 89/500\n",
      "384/384 - 1s - loss: 0.0772 - R2: 0.7154 - val_loss: 0.1013 - val_R2: -2.7847e+01\n",
      "Epoch 90/500\n",
      "384/384 - 1s - loss: 0.0770 - R2: 0.6941 - val_loss: 0.1022 - val_R2: -2.8106e+01\n",
      "Epoch 91/500\n",
      "384/384 - 1s - loss: 0.0770 - R2: 0.7222 - val_loss: 0.0976 - val_R2: -2.6768e+01\n",
      "Epoch 92/500\n",
      "384/384 - 1s - loss: 0.0771 - R2: 0.7187 - val_loss: 0.0996 - val_R2: -2.7339e+01\n",
      "Epoch 93/500\n",
      "384/384 - 1s - loss: 0.0771 - R2: 0.7218 - val_loss: 0.0940 - val_R2: -2.5762e+01\n",
      "Epoch 94/500\n",
      "384/384 - 1s - loss: 0.0774 - R2: 0.7198 - val_loss: 0.0991 - val_R2: -2.7183e+01\n",
      "Epoch 95/500\n",
      "384/384 - 1s - loss: 0.0772 - R2: 0.7161 - val_loss: 0.0991 - val_R2: -2.7171e+01\n",
      "Epoch 96/500\n",
      "384/384 - 1s - loss: 0.0767 - R2: 0.7259 - val_loss: 0.0982 - val_R2: -2.6900e+01\n",
      "Epoch 97/500\n",
      "384/384 - 1s - loss: 0.0772 - R2: 0.7198 - val_loss: 0.1033 - val_R2: -2.8346e+01\n",
      "Epoch 98/500\n",
      "384/384 - 1s - loss: 0.0770 - R2: 0.7127 - val_loss: 0.1021 - val_R2: -2.8053e+01\n",
      "Epoch 99/500\n",
      "384/384 - 1s - loss: 0.0769 - R2: 0.7195 - val_loss: 0.1030 - val_R2: -2.8265e+01\n",
      "Epoch 100/500\n",
      "384/384 - 1s - loss: 0.0776 - R2: 0.7193 - val_loss: 0.1008 - val_R2: -2.7712e+01\n",
      "Epoch 101/500\n",
      "384/384 - 1s - loss: 0.0770 - R2: 0.7212 - val_loss: 0.0962 - val_R2: -2.6374e+01\n",
      "Epoch 102/500\n",
      "384/384 - 1s - loss: 0.0761 - R2: 0.7285 - val_loss: 0.1055 - val_R2: -2.8988e+01\n",
      "Epoch 103/500\n",
      "384/384 - 1s - loss: 0.0767 - R2: 0.7227 - val_loss: 0.1019 - val_R2: -2.8004e+01\n",
      "Epoch 104/500\n",
      "384/384 - 1s - loss: 0.0767 - R2: 0.7221 - val_loss: 0.1005 - val_R2: -2.7614e+01\n",
      "Epoch 105/500\n",
      "384/384 - 1s - loss: 0.0767 - R2: 0.7203 - val_loss: 0.1021 - val_R2: -2.8071e+01\n",
      "Epoch 106/500\n",
      "384/384 - 1s - loss: 0.0766 - R2: 0.7199 - val_loss: 0.1037 - val_R2: -2.8522e+01\n",
      "Epoch 107/500\n",
      "384/384 - 1s - loss: 0.0777 - R2: 0.7180 - val_loss: 0.0969 - val_R2: -2.6603e+01\n",
      "Epoch 108/500\n",
      "384/384 - 1s - loss: 0.0775 - R2: 0.7220 - val_loss: 0.1000 - val_R2: -2.7481e+01\n",
      "Epoch 109/500\n",
      "384/384 - 1s - loss: 0.0768 - R2: 0.7099 - val_loss: 0.1088 - val_R2: -2.9967e+01\n",
      "Epoch 110/500\n",
      "384/384 - 1s - loss: 0.0768 - R2: 0.7227 - val_loss: 0.1084 - val_R2: -2.9842e+01\n",
      "Epoch 111/500\n",
      "384/384 - 1s - loss: 0.0767 - R2: 0.7170 - val_loss: 0.1073 - val_R2: -2.9543e+01\n",
      "Epoch 112/500\n",
      "384/384 - 1s - loss: 0.0763 - R2: 0.7220 - val_loss: 0.1048 - val_R2: -2.8854e+01\n",
      "Epoch 113/500\n",
      "384/384 - 1s - loss: 0.0768 - R2: 0.7193 - val_loss: 0.1020 - val_R2: -2.8066e+01\n",
      "Epoch 114/500\n",
      "384/384 - 1s - loss: 0.0772 - R2: 0.7212 - val_loss: 0.1052 - val_R2: -2.8965e+01\n",
      "Epoch 115/500\n",
      "384/384 - 1s - loss: 0.0767 - R2: 0.7212 - val_loss: 0.1038 - val_R2: -2.8574e+01\n",
      "Epoch 116/500\n",
      "384/384 - 1s - loss: 0.0770 - R2: 0.7205 - val_loss: 0.1098 - val_R2: -3.0241e+01\n",
      "Epoch 117/500\n",
      "384/384 - 1s - loss: 0.0766 - R2: 0.7279 - val_loss: 0.1040 - val_R2: -2.8645e+01\n",
      "Epoch 118/500\n",
      "384/384 - 1s - loss: 0.0765 - R2: 0.7265 - val_loss: 0.0996 - val_R2: -2.7403e+01\n",
      "Epoch 119/500\n",
      "384/384 - 1s - loss: 0.0762 - R2: 0.7186 - val_loss: 0.1014 - val_R2: -2.7887e+01\n",
      "Epoch 120/500\n",
      "384/384 - 1s - loss: 0.0774 - R2: 0.7229 - val_loss: 0.1078 - val_R2: -2.9691e+01\n",
      "Epoch 121/500\n",
      "384/384 - 1s - loss: 0.0768 - R2: 0.7218 - val_loss: 0.0989 - val_R2: -2.7201e+01\n",
      "Epoch 122/500\n",
      "384/384 - 1s - loss: 0.0762 - R2: 0.7264 - val_loss: 0.1025 - val_R2: -2.8203e+01\n",
      "Epoch 123/500\n",
      "384/384 - 1s - loss: 0.0765 - R2: 0.7209 - val_loss: 0.1028 - val_R2: -2.8291e+01\n",
      "Epoch 124/500\n",
      "384/384 - 1s - loss: 0.0766 - R2: 0.7226 - val_loss: 0.1035 - val_R2: -2.8508e+01\n",
      "Epoch 125/500\n",
      "384/384 - 1s - loss: 0.0763 - R2: 0.7260 - val_loss: 0.0985 - val_R2: -2.7065e+01\n",
      "Epoch 126/500\n",
      "384/384 - 1s - loss: 0.0768 - R2: 0.7221 - val_loss: 0.1056 - val_R2: -2.9104e+01\n",
      "Epoch 127/500\n",
      "384/384 - 1s - loss: 0.0768 - R2: 0.7215 - val_loss: 0.1027 - val_R2: -2.8248e+01\n",
      "Epoch 128/500\n",
      "384/384 - 1s - loss: 0.0768 - R2: 0.7228 - val_loss: 0.1053 - val_R2: -2.9037e+01\n",
      "Epoch 129/500\n",
      "384/384 - 1s - loss: 0.0765 - R2: 0.7238 - val_loss: 0.1076 - val_R2: -2.9695e+01\n",
      "Epoch 130/500\n",
      "384/384 - 1s - loss: 0.0771 - R2: 0.7207 - val_loss: 0.1021 - val_R2: -2.8092e+01\n",
      "Epoch 131/500\n",
      "384/384 - 1s - loss: 0.0766 - R2: 0.7253 - val_loss: 0.1069 - val_R2: -2.9416e+01\n",
      "Epoch 132/500\n",
      "384/384 - 1s - loss: 0.0767 - R2: 0.7199 - val_loss: 0.1019 - val_R2: -2.8025e+01\n",
      "Epoch 133/500\n",
      "384/384 - 1s - loss: 0.0765 - R2: 0.3536 - val_loss: 0.1038 - val_R2: -2.8582e+01\n",
      "Epoch 134/500\n",
      "384/384 - 1s - loss: 0.0771 - R2: 0.7189 - val_loss: 0.1043 - val_R2: -2.8710e+01\n",
      "Epoch 135/500\n",
      "384/384 - 1s - loss: 0.0766 - R2: 0.7270 - val_loss: 0.1028 - val_R2: -2.8316e+01\n",
      "Epoch 136/500\n",
      "384/384 - 1s - loss: 0.0766 - R2: 0.7230 - val_loss: 0.1003 - val_R2: -2.7573e+01\n",
      "Epoch 137/500\n",
      "384/384 - 1s - loss: 0.0769 - R2: 0.7224 - val_loss: 0.1005 - val_R2: -2.7638e+01\n",
      "Epoch 138/500\n",
      "384/384 - 1s - loss: 0.0772 - R2: 0.7238 - val_loss: 0.1028 - val_R2: -2.8237e+01\n",
      "Epoch 139/500\n",
      "384/384 - 1s - loss: 0.0772 - R2: 0.7171 - val_loss: 0.1030 - val_R2: -2.8318e+01\n",
      "Epoch 140/500\n",
      "384/384 - 1s - loss: 0.0763 - R2: 0.7272 - val_loss: 0.1080 - val_R2: -2.9738e+01\n",
      "Epoch 141/500\n",
      "384/384 - 1s - loss: 0.0763 - R2: 0.7238 - val_loss: 0.1072 - val_R2: -2.9536e+01\n",
      "Epoch 142/500\n",
      "384/384 - 1s - loss: 0.0759 - R2: 0.7261 - val_loss: 0.1023 - val_R2: -2.8109e+01\n",
      "Epoch 143/500\n",
      "384/384 - 1s - loss: 0.0764 - R2: 0.7253 - val_loss: 0.1021 - val_R2: -2.8090e+01\n",
      "Epoch 144/500\n",
      "384/384 - 1s - loss: 0.0770 - R2: 0.7243 - val_loss: 0.1052 - val_R2: -2.8941e+01\n",
      "Epoch 145/500\n",
      "384/384 - 1s - loss: 0.0768 - R2: 0.6971 - val_loss: 0.1049 - val_R2: -2.8839e+01\n",
      "Epoch 146/500\n",
      "384/384 - 1s - loss: 0.0760 - R2: 0.7256 - val_loss: 0.1045 - val_R2: -2.8760e+01\n",
      "Epoch 147/500\n",
      "384/384 - 1s - loss: 0.0764 - R2: 0.7254 - val_loss: 0.1038 - val_R2: -2.8574e+01\n",
      "Epoch 148/500\n",
      "384/384 - 1s - loss: 0.0768 - R2: 0.7223 - val_loss: 0.1075 - val_R2: -2.9627e+01\n",
      "Epoch 149/500\n",
      "384/384 - 1s - loss: 0.0762 - R2: 0.7233 - val_loss: 0.0963 - val_R2: -2.6440e+01\n",
      "Epoch 150/500\n",
      "384/384 - 1s - loss: 0.0761 - R2: 0.7261 - val_loss: 0.1051 - val_R2: -2.8915e+01\n",
      "Epoch 151/500\n",
      "384/384 - 1s - loss: 0.0769 - R2: 0.7248 - val_loss: 0.1024 - val_R2: -2.8171e+01\n",
      "Epoch 152/500\n",
      "384/384 - 1s - loss: 0.0767 - R2: 0.7203 - val_loss: 0.0993 - val_R2: -2.7269e+01\n",
      "Epoch 153/500\n",
      "384/384 - 1s - loss: 0.0768 - R2: 0.6627 - val_loss: 0.1036 - val_R2: -2.8482e+01\n",
      "Epoch 154/500\n",
      "384/384 - 1s - loss: 0.0763 - R2: 0.7237 - val_loss: 0.1006 - val_R2: -2.7677e+01\n",
      "Epoch 155/500\n",
      "384/384 - 1s - loss: 0.0761 - R2: 0.7237 - val_loss: 0.1008 - val_R2: -2.7719e+01\n",
      "Epoch 156/500\n",
      "384/384 - 1s - loss: 0.0765 - R2: 0.7125 - val_loss: 0.1080 - val_R2: -2.9763e+01\n",
      "Epoch 157/500\n",
      "384/384 - 1s - loss: 0.0761 - R2: 0.7088 - val_loss: 0.1004 - val_R2: -2.7626e+01\n",
      "Epoch 158/500\n",
      "384/384 - 1s - loss: 0.0761 - R2: 0.7209 - val_loss: 0.1061 - val_R2: -2.9233e+01\n",
      "Epoch 159/500\n",
      "384/384 - 1s - loss: 0.0769 - R2: 0.7198 - val_loss: 0.1045 - val_R2: -2.8754e+01\n",
      "Epoch 160/500\n",
      "384/384 - 1s - loss: 0.0765 - R2: 0.7223 - val_loss: 0.1035 - val_R2: -2.8457e+01\n",
      "Epoch 161/500\n",
      "384/384 - 1s - loss: 0.0762 - R2: 0.7178 - val_loss: 0.1059 - val_R2: -2.9115e+01\n",
      "Epoch 162/500\n",
      "384/384 - 1s - loss: 0.0768 - R2: 0.7196 - val_loss: 0.1040 - val_R2: -2.8610e+01\n",
      "Epoch 163/500\n",
      "384/384 - 1s - loss: 0.0768 - R2: 0.7216 - val_loss: 0.1010 - val_R2: -2.7736e+01\n",
      "Epoch 164/500\n",
      "384/384 - 1s - loss: 0.0762 - R2: 0.7235 - val_loss: 0.1013 - val_R2: -2.7860e+01\n",
      "Epoch 165/500\n",
      "384/384 - 1s - loss: 0.0762 - R2: 0.7094 - val_loss: 0.1035 - val_R2: -2.8492e+01\n",
      "Epoch 166/500\n",
      "384/384 - 1s - loss: 0.0769 - R2: 0.7209 - val_loss: 0.1069 - val_R2: -2.9464e+01\n",
      "Epoch 167/500\n",
      "384/384 - 1s - loss: 0.0763 - R2: 0.7253 - val_loss: 0.1090 - val_R2: -3.0051e+01\n",
      "Epoch 168/500\n",
      "384/384 - 1s - loss: 0.0766 - R2: 0.7225 - val_loss: 0.1085 - val_R2: -2.9908e+01\n",
      "Epoch 169/500\n",
      "384/384 - 1s - loss: 0.0764 - R2: 0.7230 - val_loss: 0.1029 - val_R2: -2.8317e+01\n",
      "Epoch 170/500\n",
      "384/384 - 1s - loss: 0.0761 - R2: 0.7197 - val_loss: 0.1026 - val_R2: -2.8201e+01\n",
      "Epoch 171/500\n",
      "384/384 - 1s - loss: 0.0759 - R2: 0.7259 - val_loss: 0.1044 - val_R2: -2.8742e+01\n",
      "Epoch 172/500\n",
      "384/384 - 1s - loss: 0.0765 - R2: 0.7267 - val_loss: 0.1048 - val_R2: -2.8810e+01\n",
      "Epoch 173/500\n",
      "384/384 - 1s - loss: 0.0768 - R2: 0.6729 - val_loss: 0.1073 - val_R2: -2.9533e+01\n"
     ]
    },
    {
     "name": "stdout",
     "output_type": "stream",
     "text": [
      "Epoch 174/500\n",
      "384/384 - 1s - loss: 0.0760 - R2: 0.7273 - val_loss: 0.1026 - val_R2: -2.8211e+01\n",
      "Epoch 175/500\n",
      "384/384 - 1s - loss: 0.0760 - R2: 0.7114 - val_loss: 0.0993 - val_R2: -2.7283e+01\n",
      "Epoch 176/500\n",
      "384/384 - 1s - loss: 0.0762 - R2: 0.7233 - val_loss: 0.1009 - val_R2: -2.7743e+01\n",
      "Epoch 177/500\n",
      "384/384 - 1s - loss: 0.0765 - R2: 0.7211 - val_loss: 0.1031 - val_R2: -2.8378e+01\n",
      "Epoch 178/500\n",
      "384/384 - 1s - loss: 0.0764 - R2: 0.7230 - val_loss: 0.1068 - val_R2: -2.9407e+01\n",
      "Epoch 179/500\n",
      "384/384 - 1s - loss: 0.0763 - R2: 0.6857 - val_loss: 0.1023 - val_R2: -2.8155e+01\n",
      "Epoch 180/500\n",
      "384/384 - 1s - loss: 0.0768 - R2: 0.7201 - val_loss: 0.1007 - val_R2: -2.7671e+01\n",
      "Epoch 181/500\n",
      "384/384 - 1s - loss: 0.0764 - R2: 0.7236 - val_loss: 0.1042 - val_R2: -2.8667e+01\n",
      "Epoch 182/500\n",
      "384/384 - 1s - loss: 0.0759 - R2: 0.7195 - val_loss: 0.1047 - val_R2: -2.8824e+01\n",
      "Epoch 183/500\n",
      "384/384 - 1s - loss: 0.0766 - R2: 0.7191 - val_loss: 0.1103 - val_R2: -3.0393e+01\n",
      "Epoch 184/500\n",
      "384/384 - 1s - loss: 0.0765 - R2: 0.7226 - val_loss: 0.1015 - val_R2: -2.7912e+01\n",
      "Epoch 185/500\n",
      "384/384 - 1s - loss: 0.0762 - R2: 0.7275 - val_loss: 0.1009 - val_R2: -2.7723e+01\n",
      "Epoch 186/500\n",
      "384/384 - 1s - loss: 0.0765 - R2: 0.7012 - val_loss: 0.1026 - val_R2: -2.8208e+01\n",
      "Epoch 187/500\n",
      "384/384 - 1s - loss: 0.0764 - R2: 0.7231 - val_loss: 0.1019 - val_R2: -2.8017e+01\n",
      "Epoch 188/500\n",
      "384/384 - 1s - loss: 0.0762 - R2: 0.7264 - val_loss: 0.1011 - val_R2: -2.7798e+01\n",
      "Epoch 189/500\n",
      "384/384 - 1s - loss: 0.0765 - R2: 0.7221 - val_loss: 0.1064 - val_R2: -2.9274e+01\n",
      "Epoch 190/500\n",
      "384/384 - 1s - loss: 0.0760 - R2: 0.7260 - val_loss: 0.1028 - val_R2: -2.8300e+01\n",
      "Epoch 191/500\n",
      "384/384 - 1s - loss: 0.0759 - R2: 0.7103 - val_loss: 0.1049 - val_R2: -2.8888e+01\n",
      "Epoch 192/500\n",
      "384/384 - 1s - loss: 0.0767 - R2: 0.7211 - val_loss: 0.1103 - val_R2: -3.0394e+01\n",
      "Epoch 193/500\n",
      "384/384 - 1s - loss: 0.0762 - R2: 0.7227 - val_loss: 0.1060 - val_R2: -2.9219e+01\n",
      "Epoch 194/500\n",
      "384/384 - 1s - loss: 0.0764 - R2: 0.7258 - val_loss: 0.1091 - val_R2: -3.0040e+01\n",
      "Epoch 195/500\n",
      "384/384 - 1s - loss: 0.0760 - R2: 0.7185 - val_loss: 0.1034 - val_R2: -2.8474e+01\n",
      "Epoch 196/500\n",
      "384/384 - 1s - loss: 0.0765 - R2: 0.7241 - val_loss: 0.1073 - val_R2: -2.9580e+01\n",
      "Epoch 197/500\n",
      "384/384 - 1s - loss: 0.0761 - R2: 0.7244 - val_loss: 0.1081 - val_R2: -2.9800e+01\n",
      "Epoch 198/500\n",
      "384/384 - 1s - loss: 0.0757 - R2: 0.7224 - val_loss: 0.1068 - val_R2: -2.9439e+01\n",
      "Epoch 199/500\n",
      "384/384 - 1s - loss: 0.0756 - R2: 0.7262 - val_loss: 0.1038 - val_R2: -2.8591e+01\n",
      "Epoch 200/500\n",
      "384/384 - 1s - loss: 0.0757 - R2: 0.7265 - val_loss: 0.1056 - val_R2: -2.9119e+01\n",
      "Epoch 201/500\n",
      "384/384 - 1s - loss: 0.0763 - R2: 0.7140 - val_loss: 0.1047 - val_R2: -2.8837e+01\n",
      "Epoch 202/500\n",
      "384/384 - 1s - loss: 0.0762 - R2: 0.7187 - val_loss: 0.1051 - val_R2: -2.8984e+01\n",
      "Epoch 203/500\n",
      "384/384 - 1s - loss: 0.0762 - R2: 0.7191 - val_loss: 0.1057 - val_R2: -2.9105e+01\n",
      "Epoch 204/500\n",
      "384/384 - 1s - loss: 0.0762 - R2: 0.7272 - val_loss: 0.1061 - val_R2: -2.9204e+01\n",
      "Epoch 205/500\n",
      "384/384 - 1s - loss: 0.0764 - R2: 0.7237 - val_loss: 0.1024 - val_R2: -2.8172e+01\n",
      "Epoch 206/500\n",
      "384/384 - 1s - loss: 0.0765 - R2: 0.7253 - val_loss: 0.1039 - val_R2: -2.8625e+01\n",
      "Epoch 207/500\n",
      "384/384 - 1s - loss: 0.0760 - R2: 0.7257 - val_loss: 0.1037 - val_R2: -2.8557e+01\n",
      "Epoch 208/500\n",
      "384/384 - 1s - loss: 0.0760 - R2: 0.7236 - val_loss: 0.1078 - val_R2: -2.9682e+01\n",
      "Epoch 209/500\n",
      "384/384 - 1s - loss: 0.0761 - R2: 0.7264 - val_loss: 0.1085 - val_R2: -2.9883e+01\n",
      "Epoch 210/500\n",
      "384/384 - 1s - loss: 0.0764 - R2: 0.7257 - val_loss: 0.1055 - val_R2: -2.9040e+01\n",
      "Epoch 211/500\n",
      "384/384 - 1s - loss: 0.0767 - R2: 0.7194 - val_loss: 0.1040 - val_R2: -2.8633e+01\n",
      "Epoch 212/500\n",
      "384/384 - 1s - loss: 0.0760 - R2: 0.7064 - val_loss: 0.1065 - val_R2: -2.9360e+01\n",
      "Epoch 213/500\n",
      "384/384 - 1s - loss: 0.0758 - R2: 0.7226 - val_loss: 0.1037 - val_R2: -2.8553e+01\n",
      "Epoch 214/500\n",
      "384/384 - 1s - loss: 0.0761 - R2: 0.7119 - val_loss: 0.1034 - val_R2: -2.8459e+01\n",
      "Epoch 215/500\n",
      "384/384 - 1s - loss: 0.0759 - R2: 0.7269 - val_loss: 0.1063 - val_R2: -2.9276e+01\n",
      "Epoch 216/500\n",
      "384/384 - 1s - loss: 0.0767 - R2: 0.7209 - val_loss: 0.1074 - val_R2: -2.9585e+01\n",
      "Epoch 217/500\n",
      "384/384 - 1s - loss: 0.0762 - R2: 0.7265 - val_loss: 0.1057 - val_R2: -2.9111e+01\n",
      "Epoch 218/500\n",
      "384/384 - 1s - loss: 0.0765 - R2: 0.7246 - val_loss: 0.1052 - val_R2: -2.8971e+01\n",
      "Epoch 219/500\n",
      "384/384 - 1s - loss: 0.0768 - R2: 0.7228 - val_loss: 0.1053 - val_R2: -2.9033e+01\n",
      "Epoch 220/500\n",
      "384/384 - 1s - loss: 0.0767 - R2: 0.5207 - val_loss: 0.1081 - val_R2: -2.9779e+01\n",
      "Epoch 221/500\n",
      "384/384 - 1s - loss: 0.0765 - R2: 0.7208 - val_loss: 0.1011 - val_R2: -2.7833e+01\n",
      "Epoch 222/500\n",
      "384/384 - 1s - loss: 0.0755 - R2: 0.7256 - val_loss: 0.1062 - val_R2: -2.9202e+01\n",
      "Epoch 223/500\n",
      "384/384 - 1s - loss: 0.0756 - R2: 0.7249 - val_loss: 0.1054 - val_R2: -2.9017e+01\n",
      "Epoch 224/500\n",
      "384/384 - 1s - loss: 0.0765 - R2: 0.7239 - val_loss: 0.1077 - val_R2: -2.9673e+01\n",
      "Epoch 225/500\n",
      "384/384 - 1s - loss: 0.0761 - R2: 0.7112 - val_loss: 0.1041 - val_R2: -2.8686e+01\n",
      "Epoch 226/500\n",
      "384/384 - 1s - loss: 0.0754 - R2: 0.7288 - val_loss: 0.1083 - val_R2: -2.9842e+01\n",
      "Epoch 227/500\n",
      "384/384 - 1s - loss: 0.0761 - R2: 0.7222 - val_loss: 0.1085 - val_R2: -2.9937e+01\n",
      "Epoch 228/500\n",
      "384/384 - 1s - loss: 0.0755 - R2: 0.7185 - val_loss: 0.1083 - val_R2: -2.9853e+01\n",
      "Epoch 229/500\n",
      "384/384 - 1s - loss: 0.0763 - R2: 0.7232 - val_loss: 0.1076 - val_R2: -2.9642e+01\n",
      "Epoch 230/500\n",
      "384/384 - 1s - loss: 0.0758 - R2: 0.7252 - val_loss: 0.1056 - val_R2: -2.9081e+01\n",
      "Epoch 231/500\n",
      "384/384 - 1s - loss: 0.0759 - R2: 0.7254 - val_loss: 0.1051 - val_R2: -2.8914e+01\n",
      "Epoch 232/500\n",
      "384/384 - 1s - loss: 0.0760 - R2: 0.7237 - val_loss: 0.1085 - val_R2: -2.9870e+01\n",
      "Epoch 233/500\n",
      "384/384 - 1s - loss: 0.0767 - R2: 0.7202 - val_loss: 0.1023 - val_R2: -2.8151e+01\n",
      "Epoch 234/500\n",
      "384/384 - 1s - loss: 0.0761 - R2: 0.7115 - val_loss: 0.1017 - val_R2: -2.7982e+01\n",
      "Epoch 235/500\n",
      "384/384 - 1s - loss: 0.0768 - R2: 0.7233 - val_loss: 0.1059 - val_R2: -2.9191e+01\n",
      "Epoch 236/500\n",
      "384/384 - 1s - loss: 0.0758 - R2: 0.7259 - val_loss: 0.1058 - val_R2: -2.9144e+01\n",
      "Epoch 237/500\n",
      "384/384 - 1s - loss: 0.0755 - R2: 0.7259 - val_loss: 0.1037 - val_R2: -2.8557e+01\n",
      "Epoch 238/500\n",
      "384/384 - 1s - loss: 0.0756 - R2: 0.7242 - val_loss: 0.1076 - val_R2: -2.9658e+01\n",
      "Epoch 239/500\n",
      "384/384 - 1s - loss: 0.0766 - R2: 0.7222 - val_loss: 0.1077 - val_R2: -2.9668e+01\n",
      "Epoch 240/500\n",
      "384/384 - 1s - loss: 0.0759 - R2: 0.7223 - val_loss: 0.1021 - val_R2: -2.8146e+01\n",
      "Epoch 241/500\n",
      "384/384 - 1s - loss: 0.0759 - R2: 0.7281 - val_loss: 0.1028 - val_R2: -2.8294e+01\n",
      "Epoch 242/500\n",
      "384/384 - 1s - loss: 0.0751 - R2: 0.7245 - val_loss: 0.1083 - val_R2: -2.9849e+01\n",
      "Epoch 243/500\n",
      "384/384 - 1s - loss: 0.0758 - R2: 0.7271 - val_loss: 0.1075 - val_R2: -2.9615e+01\n",
      "Epoch 244/500\n",
      "384/384 - 1s - loss: 0.0756 - R2: 0.7264 - val_loss: 0.1069 - val_R2: -2.9451e+01\n",
      "Epoch 245/500\n",
      "384/384 - 1s - loss: 0.0760 - R2: 0.7248 - val_loss: 0.1006 - val_R2: -2.7641e+01\n",
      "Epoch 246/500\n",
      "384/384 - 1s - loss: 0.0756 - R2: 0.7248 - val_loss: 0.1036 - val_R2: -2.8486e+01\n",
      "Epoch 247/500\n",
      "384/384 - 1s - loss: 0.0763 - R2: 0.7215 - val_loss: 0.1066 - val_R2: -2.9343e+01\n",
      "Epoch 248/500\n",
      "384/384 - 1s - loss: 0.0758 - R2: 0.7273 - val_loss: 0.1078 - val_R2: -2.9706e+01\n",
      "Epoch 249/500\n",
      "384/384 - 1s - loss: 0.0762 - R2: 0.7243 - val_loss: 0.1048 - val_R2: -2.8860e+01\n",
      "Epoch 250/500\n",
      "384/384 - 1s - loss: 0.0759 - R2: 0.7256 - val_loss: 0.1085 - val_R2: -2.9903e+01\n",
      "Epoch 251/500\n",
      "384/384 - 1s - loss: 0.0765 - R2: 0.7246 - val_loss: 0.1070 - val_R2: -2.9452e+01\n",
      "Epoch 252/500\n",
      "384/384 - 1s - loss: 0.0757 - R2: 0.7273 - val_loss: 0.1098 - val_R2: -3.0274e+01\n",
      "Epoch 253/500\n",
      "384/384 - 1s - loss: 0.0758 - R2: 0.7253 - val_loss: 0.1086 - val_R2: -2.9956e+01\n",
      "Epoch 254/500\n",
      "384/384 - 1s - loss: 0.0759 - R2: 0.7260 - val_loss: 0.1045 - val_R2: -2.8784e+01\n",
      "Epoch 255/500\n",
      "384/384 - 1s - loss: 0.0760 - R2: 0.7263 - val_loss: 0.1085 - val_R2: -2.9905e+01\n",
      "Epoch 256/500\n",
      "384/384 - 1s - loss: 0.0758 - R2: 0.7242 - val_loss: 0.1047 - val_R2: -2.8837e+01\n",
      "Epoch 257/500\n",
      "384/384 - 1s - loss: 0.0750 - R2: 0.7301 - val_loss: 0.1071 - val_R2: -2.9530e+01\n",
      "Epoch 258/500\n",
      "384/384 - 1s - loss: 0.0759 - R2: 0.7250 - val_loss: 0.1072 - val_R2: -2.9529e+01\n",
      "Epoch 259/500\n",
      "384/384 - 1s - loss: 0.0763 - R2: 0.7233 - val_loss: 0.1061 - val_R2: -2.9235e+01\n"
     ]
    },
    {
     "name": "stdout",
     "output_type": "stream",
     "text": [
      "Epoch 260/500\n",
      "384/384 - 1s - loss: 0.0757 - R2: 0.7210 - val_loss: 0.1074 - val_R2: -2.9594e+01\n",
      "Epoch 261/500\n",
      "384/384 - 1s - loss: 0.0756 - R2: 0.7183 - val_loss: 0.1043 - val_R2: -2.8750e+01\n",
      "Epoch 262/500\n",
      "384/384 - 1s - loss: 0.0756 - R2: 0.7257 - val_loss: 0.1102 - val_R2: -3.0392e+01\n",
      "Epoch 263/500\n",
      "384/384 - 1s - loss: 0.0760 - R2: 0.6989 - val_loss: 0.1066 - val_R2: -2.9393e+01\n",
      "Epoch 264/500\n",
      "384/384 - 1s - loss: 0.0765 - R2: 0.7204 - val_loss: 0.1060 - val_R2: -2.9214e+01\n",
      "Epoch 265/500\n",
      "384/384 - 1s - loss: 0.0752 - R2: 0.7291 - val_loss: 0.1043 - val_R2: -2.8741e+01\n",
      "Epoch 266/500\n",
      "384/384 - 1s - loss: 0.0768 - R2: 0.7242 - val_loss: 0.1070 - val_R2: -2.9480e+01\n",
      "Epoch 267/500\n",
      "384/384 - 1s - loss: 0.0759 - R2: 0.7193 - val_loss: 0.1061 - val_R2: -2.9242e+01\n",
      "Epoch 268/500\n",
      "384/384 - 1s - loss: 0.0759 - R2: 0.7265 - val_loss: 0.1052 - val_R2: -2.8970e+01\n",
      "Epoch 269/500\n",
      "384/384 - 1s - loss: 0.0755 - R2: 0.7251 - val_loss: 0.1074 - val_R2: -2.9574e+01\n",
      "Epoch 270/500\n",
      "384/384 - 1s - loss: 0.0764 - R2: 0.7240 - val_loss: 0.1089 - val_R2: -2.9993e+01\n",
      "Epoch 271/500\n",
      "384/384 - 1s - loss: 0.0762 - R2: 0.7227 - val_loss: 0.1081 - val_R2: -2.9798e+01\n",
      "Epoch 272/500\n",
      "384/384 - 1s - loss: 0.0764 - R2: 0.7224 - val_loss: 0.1055 - val_R2: -2.9073e+01\n",
      "Epoch 273/500\n",
      "384/384 - 1s - loss: 0.0754 - R2: 0.7276 - val_loss: 0.1058 - val_R2: -2.9136e+01\n",
      "Epoch 274/500\n",
      "384/384 - 1s - loss: 0.0762 - R2: 0.7221 - val_loss: 0.1059 - val_R2: -2.9230e+01\n",
      "Epoch 275/500\n",
      "384/384 - 1s - loss: 0.0760 - R2: 0.7226 - val_loss: 0.1079 - val_R2: -2.9796e+01\n",
      "Epoch 276/500\n",
      "384/384 - 1s - loss: 0.0759 - R2: 0.7176 - val_loss: 0.1066 - val_R2: -2.9387e+01\n",
      "Epoch 277/500\n",
      "384/384 - 1s - loss: 0.0763 - R2: 0.7243 - val_loss: 0.1051 - val_R2: -2.8937e+01\n",
      "Epoch 278/500\n",
      "384/384 - 1s - loss: 0.0754 - R2: 0.7280 - val_loss: 0.1044 - val_R2: -2.8776e+01\n",
      "Epoch 279/500\n",
      "384/384 - 1s - loss: 0.0759 - R2: 0.7257 - val_loss: 0.1115 - val_R2: -3.0777e+01\n",
      "Epoch 280/500\n",
      "384/384 - 1s - loss: 0.0767 - R2: 0.7210 - val_loss: 0.1053 - val_R2: -2.9007e+01\n",
      "Epoch 281/500\n",
      "384/384 - 1s - loss: 0.0760 - R2: 0.7236 - val_loss: 0.1052 - val_R2: -2.8982e+01\n",
      "Epoch 282/500\n",
      "384/384 - 1s - loss: 0.0757 - R2: 0.7253 - val_loss: 0.1046 - val_R2: -2.8778e+01\n",
      "Epoch 283/500\n",
      "384/384 - 1s - loss: 0.0762 - R2: 0.7210 - val_loss: 0.1054 - val_R2: -2.8997e+01\n",
      "Epoch 284/500\n",
      "384/384 - 1s - loss: 0.0761 - R2: 0.7261 - val_loss: 0.1065 - val_R2: -2.9331e+01\n",
      "Epoch 285/500\n",
      "384/384 - 1s - loss: 0.0756 - R2: 0.7264 - val_loss: 0.1080 - val_R2: -2.9774e+01\n",
      "Epoch 286/500\n",
      "384/384 - 1s - loss: 0.0756 - R2: 0.7261 - val_loss: 0.1051 - val_R2: -2.8942e+01\n",
      "Epoch 287/500\n",
      "384/384 - 1s - loss: 0.0760 - R2: 0.7251 - val_loss: 0.1050 - val_R2: -2.8923e+01\n",
      "Epoch 288/500\n",
      "384/384 - 1s - loss: 0.0759 - R2: 0.7183 - val_loss: 0.1124 - val_R2: -3.1028e+01\n",
      "Epoch 289/500\n",
      "384/384 - 1s - loss: 0.0759 - R2: 0.7260 - val_loss: 0.1053 - val_R2: -2.9021e+01\n",
      "Epoch 290/500\n",
      "384/384 - 1s - loss: 0.0756 - R2: 0.7251 - val_loss: 0.1042 - val_R2: -2.8701e+01\n",
      "Epoch 291/500\n",
      "384/384 - 1s - loss: 0.0760 - R2: 0.7246 - val_loss: 0.1005 - val_R2: -2.7663e+01\n",
      "Epoch 292/500\n",
      "384/384 - 1s - loss: 0.0754 - R2: 0.7275 - val_loss: 0.1074 - val_R2: -2.9558e+01\n",
      "Epoch 293/500\n",
      "384/384 - 1s - loss: 0.0756 - R2: 0.7261 - val_loss: 0.1054 - val_R2: -2.8995e+01\n",
      "Epoch 294/500\n",
      "384/384 - 1s - loss: 0.0756 - R2: 0.7266 - val_loss: 0.1028 - val_R2: -2.8266e+01\n",
      "Epoch 295/500\n",
      "384/384 - 1s - loss: 0.0757 - R2: 0.7296 - val_loss: 0.1097 - val_R2: -3.0220e+01\n",
      "Epoch 296/500\n",
      "384/384 - 1s - loss: 0.0752 - R2: 0.7253 - val_loss: 0.1073 - val_R2: -2.9517e+01\n",
      "Epoch 297/500\n",
      "384/384 - 1s - loss: 0.0759 - R2: 0.7288 - val_loss: 0.1082 - val_R2: -2.9777e+01\n",
      "Epoch 298/500\n",
      "384/384 - 1s - loss: 0.0758 - R2: 0.7265 - val_loss: 0.1053 - val_R2: -2.8998e+01\n",
      "Epoch 299/500\n",
      "384/384 - 1s - loss: 0.0756 - R2: 0.7249 - val_loss: 0.1070 - val_R2: -2.9467e+01\n",
      "Epoch 300/500\n",
      "384/384 - 1s - loss: 0.0756 - R2: 0.7242 - val_loss: 0.1091 - val_R2: -3.0054e+01\n",
      "Epoch 301/500\n",
      "384/384 - 1s - loss: 0.0757 - R2: 0.7269 - val_loss: 0.1053 - val_R2: -2.9002e+01\n",
      "Epoch 302/500\n",
      "384/384 - 1s - loss: 0.0752 - R2: 0.7274 - val_loss: 0.1067 - val_R2: -2.9437e+01\n",
      "Epoch 303/500\n",
      "384/384 - 1s - loss: 0.0763 - R2: 0.7239 - val_loss: 0.1118 - val_R2: -3.0847e+01\n",
      "Epoch 304/500\n",
      "384/384 - 1s - loss: 0.0757 - R2: 0.7181 - val_loss: 0.1032 - val_R2: -2.8425e+01\n",
      "Epoch 305/500\n",
      "384/384 - 1s - loss: 0.0760 - R2: 0.7243 - val_loss: 0.1060 - val_R2: -2.9188e+01\n",
      "Epoch 306/500\n",
      "384/384 - 1s - loss: 0.0758 - R2: 0.7260 - val_loss: 0.1050 - val_R2: -2.8914e+01\n",
      "Epoch 307/500\n",
      "384/384 - 1s - loss: 0.0755 - R2: 0.7237 - val_loss: 0.1068 - val_R2: -2.9445e+01\n",
      "Epoch 308/500\n",
      "384/384 - 1s - loss: 0.0758 - R2: 0.7262 - val_loss: 0.1056 - val_R2: -2.9109e+01\n",
      "Epoch 309/500\n",
      "384/384 - 1s - loss: 0.0755 - R2: 0.7254 - val_loss: 0.1153 - val_R2: -3.1859e+01\n",
      "Epoch 310/500\n",
      "384/384 - 1s - loss: 0.0756 - R2: 0.7195 - val_loss: 0.1039 - val_R2: -2.8614e+01\n",
      "Epoch 311/500\n",
      "384/384 - 1s - loss: 0.0756 - R2: 0.7268 - val_loss: 0.0999 - val_R2: -2.7486e+01\n",
      "Epoch 312/500\n",
      "384/384 - 1s - loss: 0.0760 - R2: 0.7171 - val_loss: 0.1127 - val_R2: -3.1090e+01\n",
      "Epoch 313/500\n",
      "384/384 - 1s - loss: 0.0762 - R2: 0.7256 - val_loss: 0.1049 - val_R2: -2.8923e+01\n",
      "Epoch 314/500\n",
      "384/384 - 1s - loss: 0.0750 - R2: 0.7279 - val_loss: 0.1080 - val_R2: -2.9789e+01\n",
      "Epoch 315/500\n",
      "384/384 - 1s - loss: 0.0756 - R2: 0.7100 - val_loss: 0.1051 - val_R2: -2.8957e+01\n",
      "Epoch 316/500\n",
      "384/384 - 1s - loss: 0.0754 - R2: 0.7269 - val_loss: 0.1060 - val_R2: -2.9220e+01\n",
      "Epoch 317/500\n",
      "384/384 - 1s - loss: 0.0761 - R2: 0.7245 - val_loss: 0.1088 - val_R2: -3.0001e+01\n",
      "Epoch 318/500\n",
      "384/384 - 1s - loss: 0.0750 - R2: 0.7320 - val_loss: 0.1103 - val_R2: -3.0415e+01\n",
      "Epoch 319/500\n",
      "384/384 - 1s - loss: 0.0753 - R2: 0.7260 - val_loss: 0.1059 - val_R2: -2.9231e+01\n",
      "Epoch 320/500\n",
      "384/384 - 1s - loss: 0.0756 - R2: 0.7282 - val_loss: 0.1052 - val_R2: -2.8990e+01\n",
      "Epoch 321/500\n",
      "384/384 - 1s - loss: 0.0757 - R2: 0.7202 - val_loss: 0.1039 - val_R2: -2.8652e+01\n",
      "Epoch 322/500\n",
      "384/384 - 1s - loss: 0.0757 - R2: 0.7248 - val_loss: 0.1072 - val_R2: -2.9581e+01\n",
      "Epoch 323/500\n",
      "384/384 - 1s - loss: 0.0751 - R2: 0.7199 - val_loss: 0.1054 - val_R2: -2.9063e+01\n",
      "Epoch 324/500\n",
      "384/384 - 1s - loss: 0.0759 - R2: 0.7244 - val_loss: 0.1034 - val_R2: -2.8482e+01\n",
      "Epoch 325/500\n",
      "384/384 - 1s - loss: 0.0755 - R2: 0.7264 - val_loss: 0.1018 - val_R2: -2.8006e+01\n",
      "Epoch 326/500\n",
      "384/384 - 1s - loss: 0.0758 - R2: 0.7268 - val_loss: 0.1066 - val_R2: -2.9399e+01\n",
      "Epoch 327/500\n",
      "384/384 - 1s - loss: 0.0762 - R2: 0.7250 - val_loss: 0.1083 - val_R2: -2.9874e+01\n",
      "Epoch 328/500\n",
      "384/384 - 1s - loss: 0.0760 - R2: 0.7267 - val_loss: 0.1019 - val_R2: -2.8109e+01\n",
      "Epoch 329/500\n",
      "384/384 - 1s - loss: 0.0753 - R2: 0.7238 - val_loss: 0.1107 - val_R2: -3.0549e+01\n",
      "Epoch 330/500\n",
      "384/384 - 1s - loss: 0.0761 - R2: 0.7257 - val_loss: 0.1064 - val_R2: -2.9340e+01\n",
      "Epoch 331/500\n",
      "384/384 - 1s - loss: 0.0760 - R2: 0.7090 - val_loss: 0.1067 - val_R2: -2.9435e+01\n",
      "Epoch 332/500\n",
      "384/384 - 1s - loss: 0.0763 - R2: 0.7244 - val_loss: 0.1067 - val_R2: -2.9436e+01\n",
      "Epoch 333/500\n",
      "384/384 - 1s - loss: 0.0761 - R2: 0.7238 - val_loss: 0.1077 - val_R2: -2.9727e+01\n",
      "Epoch 334/500\n",
      "384/384 - 1s - loss: 0.0755 - R2: 0.7231 - val_loss: 0.1057 - val_R2: -2.9166e+01\n",
      "Epoch 335/500\n",
      "384/384 - 1s - loss: 0.0755 - R2: 0.7260 - val_loss: 0.1073 - val_R2: -2.9623e+01\n",
      "Epoch 336/500\n",
      "384/384 - 1s - loss: 0.0756 - R2: 0.7229 - val_loss: 0.1088 - val_R2: -3.0035e+01\n",
      "Epoch 337/500\n",
      "384/384 - 1s - loss: 0.0762 - R2: 0.7264 - val_loss: 0.1066 - val_R2: -2.9391e+01\n",
      "Epoch 338/500\n",
      "384/384 - 1s - loss: 0.0756 - R2: 0.7077 - val_loss: 0.1080 - val_R2: -2.9806e+01\n",
      "Epoch 339/500\n",
      "384/384 - 1s - loss: 0.0749 - R2: 0.7274 - val_loss: 0.1082 - val_R2: -2.9867e+01\n",
      "Epoch 340/500\n",
      "384/384 - 1s - loss: 0.0758 - R2: 0.7236 - val_loss: 0.1088 - val_R2: -3.0024e+01\n",
      "Epoch 341/500\n",
      "384/384 - 1s - loss: 0.0756 - R2: 0.6523 - val_loss: 0.1039 - val_R2: -2.8618e+01\n",
      "Epoch 342/500\n",
      "384/384 - 1s - loss: 0.0753 - R2: 0.5803 - val_loss: 0.1084 - val_R2: -2.9889e+01\n",
      "Epoch 343/500\n",
      "384/384 - 1s - loss: 0.0753 - R2: 0.7265 - val_loss: 0.1082 - val_R2: -2.9874e+01\n",
      "Epoch 344/500\n",
      "384/384 - 1s - loss: 0.0755 - R2: 0.7229 - val_loss: 0.1125 - val_R2: -3.1109e+01\n",
      "Epoch 345/500\n",
      "384/384 - 1s - loss: 0.0756 - R2: 0.7249 - val_loss: 0.1099 - val_R2: -3.0367e+01\n"
     ]
    },
    {
     "name": "stdout",
     "output_type": "stream",
     "text": [
      "Epoch 346/500\n",
      "384/384 - 1s - loss: 0.0752 - R2: 0.7162 - val_loss: 0.1072 - val_R2: -2.9613e+01\n",
      "Epoch 347/500\n",
      "384/384 - 1s - loss: 0.0754 - R2: 0.7250 - val_loss: 0.1072 - val_R2: -2.9604e+01\n",
      "Epoch 348/500\n",
      "384/384 - 1s - loss: 0.0753 - R2: 0.7272 - val_loss: 0.1059 - val_R2: -2.9244e+01\n",
      "Epoch 349/500\n",
      "384/384 - 1s - loss: 0.0754 - R2: 0.7230 - val_loss: 0.1109 - val_R2: -3.0598e+01\n",
      "Epoch 350/500\n",
      "384/384 - 1s - loss: 0.0756 - R2: 0.4229 - val_loss: 0.1093 - val_R2: -3.0158e+01\n",
      "Epoch 351/500\n",
      "384/384 - 1s - loss: 0.0762 - R2: 0.7222 - val_loss: 0.1100 - val_R2: -3.0329e+01\n",
      "Epoch 352/500\n",
      "384/384 - 1s - loss: 0.0749 - R2: 0.7298 - val_loss: 0.1048 - val_R2: -2.8905e+01\n",
      "Epoch 353/500\n",
      "384/384 - 1s - loss: 0.0753 - R2: 0.7157 - val_loss: 0.1080 - val_R2: -2.9800e+01\n",
      "Epoch 354/500\n",
      "384/384 - 1s - loss: 0.0756 - R2: 0.7259 - val_loss: 0.1119 - val_R2: -3.0896e+01\n",
      "Epoch 355/500\n",
      "384/384 - 1s - loss: 0.0761 - R2: 0.7194 - val_loss: 0.1133 - val_R2: -3.1309e+01\n",
      "Epoch 356/500\n",
      "384/384 - 1s - loss: 0.0762 - R2: 0.7242 - val_loss: 0.1057 - val_R2: -2.9177e+01\n",
      "Epoch 357/500\n",
      "384/384 - 1s - loss: 0.0754 - R2: 0.7278 - val_loss: 0.1078 - val_R2: -2.9735e+01\n",
      "Epoch 358/500\n",
      "384/384 - 1s - loss: 0.0757 - R2: 0.7227 - val_loss: 0.1103 - val_R2: -3.0462e+01\n",
      "Epoch 359/500\n",
      "384/384 - 1s - loss: 0.0753 - R2: 0.7254 - val_loss: 0.1093 - val_R2: -3.0161e+01\n",
      "Epoch 360/500\n",
      "384/384 - 1s - loss: 0.0750 - R2: 0.7245 - val_loss: 0.1116 - val_R2: -3.0827e+01\n",
      "Epoch 361/500\n",
      "384/384 - 1s - loss: 0.0749 - R2: 0.7248 - val_loss: 0.1132 - val_R2: -3.1230e+01\n",
      "Epoch 362/500\n",
      "384/384 - 1s - loss: 0.0758 - R2: 0.7215 - val_loss: 0.1082 - val_R2: -2.9890e+01\n",
      "Epoch 363/500\n",
      "384/384 - 1s - loss: 0.0756 - R2: 0.7249 - val_loss: 0.1047 - val_R2: -2.8845e+01\n",
      "Epoch 364/500\n",
      "384/384 - 1s - loss: 0.0755 - R2: 0.7250 - val_loss: 0.1087 - val_R2: -2.9951e+01\n",
      "Epoch 365/500\n",
      "384/384 - 1s - loss: 0.0756 - R2: 0.7252 - val_loss: 0.1080 - val_R2: -2.9808e+01\n",
      "Epoch 366/500\n",
      "384/384 - 1s - loss: 0.0751 - R2: 0.7012 - val_loss: 0.1057 - val_R2: -2.9142e+01\n",
      "Epoch 367/500\n",
      "384/384 - 1s - loss: 0.0759 - R2: 0.7310 - val_loss: 0.1088 - val_R2: -3.0034e+01\n",
      "Epoch 368/500\n",
      "384/384 - 1s - loss: 0.0749 - R2: 0.7288 - val_loss: 0.1071 - val_R2: -2.9559e+01\n",
      "Epoch 369/500\n",
      "384/384 - 1s - loss: 0.0750 - R2: 0.7289 - val_loss: 0.1042 - val_R2: -2.8729e+01\n",
      "Epoch 370/500\n",
      "384/384 - 1s - loss: 0.0752 - R2: 0.7288 - val_loss: 0.1077 - val_R2: -2.9730e+01\n",
      "Epoch 371/500\n",
      "384/384 - 1s - loss: 0.0748 - R2: 0.7252 - val_loss: 0.1136 - val_R2: -3.1329e+01\n",
      "Epoch 372/500\n",
      "384/384 - 1s - loss: 0.0752 - R2: 0.7251 - val_loss: 0.1167 - val_R2: -3.2247e+01\n",
      "Epoch 373/500\n",
      "384/384 - 1s - loss: 0.0755 - R2: 0.7245 - val_loss: 0.1051 - val_R2: -2.8976e+01\n",
      "Epoch 374/500\n",
      "384/384 - 1s - loss: 0.0755 - R2: 0.7267 - val_loss: 0.1069 - val_R2: -2.9466e+01\n",
      "Epoch 375/500\n",
      "384/384 - 1s - loss: 0.0745 - R2: 0.7310 - val_loss: 0.1092 - val_R2: -3.0149e+01\n",
      "Epoch 376/500\n",
      "384/384 - 1s - loss: 0.0754 - R2: 0.7257 - val_loss: 0.1059 - val_R2: -2.9196e+01\n",
      "Epoch 377/500\n",
      "384/384 - 1s - loss: 0.0755 - R2: 0.7180 - val_loss: 0.1054 - val_R2: -2.9049e+01\n",
      "Epoch 378/500\n",
      "384/384 - 1s - loss: 0.0757 - R2: 0.7146 - val_loss: 0.1086 - val_R2: -2.9961e+01\n",
      "Epoch 379/500\n",
      "384/384 - 1s - loss: 0.0755 - R2: 0.7236 - val_loss: 0.1080 - val_R2: -2.9810e+01\n",
      "Epoch 380/500\n",
      "384/384 - 1s - loss: 0.0756 - R2: 0.7278 - val_loss: 0.1100 - val_R2: -3.0388e+01\n",
      "Epoch 381/500\n",
      "384/384 - 1s - loss: 0.0754 - R2: 0.7274 - val_loss: 0.1070 - val_R2: -2.9494e+01\n",
      "Epoch 382/500\n",
      "384/384 - 1s - loss: 0.0756 - R2: 0.7244 - val_loss: 0.1085 - val_R2: -2.9940e+01\n",
      "Epoch 383/500\n",
      "384/384 - 1s - loss: 0.0753 - R2: 0.7271 - val_loss: 0.1055 - val_R2: -2.9124e+01\n",
      "Epoch 384/500\n",
      "384/384 - 1s - loss: 0.0755 - R2: 0.7282 - val_loss: 0.1073 - val_R2: -2.9609e+01\n",
      "Epoch 385/500\n",
      "384/384 - 1s - loss: 0.0758 - R2: 0.7244 - val_loss: 0.1068 - val_R2: -2.9444e+01\n",
      "Epoch 386/500\n",
      "384/384 - 1s - loss: 0.0761 - R2: 0.7216 - val_loss: 0.1075 - val_R2: -2.9661e+01\n",
      "Epoch 387/500\n",
      "384/384 - 1s - loss: 0.0760 - R2: 0.7210 - val_loss: 0.1125 - val_R2: -3.1086e+01\n",
      "Epoch 388/500\n",
      "384/384 - 1s - loss: 0.0749 - R2: 0.7306 - val_loss: 0.1123 - val_R2: -3.1072e+01\n",
      "Epoch 389/500\n",
      "384/384 - 1s - loss: 0.0754 - R2: 0.7227 - val_loss: 0.1098 - val_R2: -3.0337e+01\n",
      "Epoch 390/500\n",
      "384/384 - 1s - loss: 0.0753 - R2: 0.7266 - val_loss: 0.1116 - val_R2: -3.0838e+01\n",
      "Epoch 391/500\n",
      "384/384 - 1s - loss: 0.0755 - R2: 0.7231 - val_loss: 0.1089 - val_R2: -3.0030e+01\n",
      "Epoch 392/500\n",
      "384/384 - 1s - loss: 0.0754 - R2: 0.7278 - val_loss: 0.1103 - val_R2: -3.0444e+01\n",
      "Epoch 393/500\n",
      "384/384 - 1s - loss: 0.0756 - R2: 0.7136 - val_loss: 0.1121 - val_R2: -3.0980e+01\n",
      "Epoch 394/500\n",
      "384/384 - 1s - loss: 0.0751 - R2: 0.7263 - val_loss: 0.1142 - val_R2: -3.1568e+01\n",
      "Epoch 395/500\n",
      "384/384 - 1s - loss: 0.0755 - R2: 0.7271 - val_loss: 0.1072 - val_R2: -2.9607e+01\n",
      "Epoch 396/500\n",
      "384/384 - 1s - loss: 0.0755 - R2: 0.7246 - val_loss: 0.1117 - val_R2: -3.0833e+01\n",
      "Epoch 397/500\n",
      "384/384 - 1s - loss: 0.0749 - R2: 0.7258 - val_loss: 0.1119 - val_R2: -3.0910e+01\n",
      "Epoch 398/500\n",
      "384/384 - 1s - loss: 0.0758 - R2: 0.7238 - val_loss: 0.1095 - val_R2: -3.0263e+01\n",
      "Epoch 399/500\n",
      "384/384 - 1s - loss: 0.0747 - R2: 0.7287 - val_loss: 0.1053 - val_R2: -2.9069e+01\n",
      "Epoch 400/500\n",
      "384/384 - 1s - loss: 0.0757 - R2: 0.7197 - val_loss: 0.1088 - val_R2: -3.0044e+01\n",
      "Epoch 401/500\n",
      "384/384 - 1s - loss: 0.0758 - R2: 0.6273 - val_loss: 0.1081 - val_R2: -2.9819e+01\n",
      "Epoch 402/500\n",
      "384/384 - 1s - loss: 0.0756 - R2: 0.7289 - val_loss: 0.1091 - val_R2: -3.0120e+01\n",
      "Epoch 403/500\n",
      "384/384 - 1s - loss: 0.0755 - R2: 0.7237 - val_loss: 0.1074 - val_R2: -2.9648e+01\n",
      "Epoch 404/500\n",
      "384/384 - 1s - loss: 0.0754 - R2: 0.7247 - val_loss: 0.1112 - val_R2: -3.0729e+01\n",
      "Epoch 405/500\n",
      "384/384 - 1s - loss: 0.0754 - R2: 0.7124 - val_loss: 0.1104 - val_R2: -3.0479e+01\n",
      "Epoch 406/500\n",
      "384/384 - 1s - loss: 0.0752 - R2: 0.7274 - val_loss: 0.1056 - val_R2: -2.9102e+01\n",
      "Epoch 407/500\n",
      "384/384 - 1s - loss: 0.0755 - R2: 0.7232 - val_loss: 0.1071 - val_R2: -2.9548e+01\n",
      "Epoch 408/500\n",
      "384/384 - 1s - loss: 0.0759 - R2: 0.7188 - val_loss: 0.1081 - val_R2: -2.9859e+01\n",
      "Epoch 409/500\n",
      "384/384 - 1s - loss: 0.0750 - R2: 0.7288 - val_loss: 0.1089 - val_R2: -3.0070e+01\n",
      "Epoch 410/500\n",
      "384/384 - 1s - loss: 0.0755 - R2: 0.7281 - val_loss: 0.1063 - val_R2: -2.9340e+01\n",
      "Epoch 411/500\n",
      "384/384 - 1s - loss: 0.0751 - R2: 0.7299 - val_loss: 0.1075 - val_R2: -2.9661e+01\n",
      "Epoch 412/500\n",
      "384/384 - 1s - loss: 0.0756 - R2: 0.7262 - val_loss: 0.1097 - val_R2: -3.0325e+01\n",
      "Epoch 413/500\n",
      "384/384 - 1s - loss: 0.0759 - R2: 0.7267 - val_loss: 0.1069 - val_R2: -2.9535e+01\n",
      "Epoch 414/500\n",
      "384/384 - 1s - loss: 0.0752 - R2: 0.7262 - val_loss: 0.1104 - val_R2: -3.0452e+01\n",
      "Epoch 415/500\n",
      "384/384 - 1s - loss: 0.0754 - R2: 0.7281 - val_loss: 0.1088 - val_R2: -3.0024e+01\n",
      "Epoch 416/500\n",
      "384/384 - 1s - loss: 0.0752 - R2: 0.7289 - val_loss: 0.1109 - val_R2: -3.0642e+01\n",
      "Epoch 417/500\n",
      "384/384 - 1s - loss: 0.0758 - R2: 0.6990 - val_loss: 0.1070 - val_R2: -2.9567e+01\n",
      "Epoch 418/500\n",
      "384/384 - 1s - loss: 0.0752 - R2: 0.7259 - val_loss: 0.1046 - val_R2: -2.8881e+01\n",
      "Epoch 419/500\n",
      "384/384 - 1s - loss: 0.0750 - R2: 0.7287 - val_loss: 0.1118 - val_R2: -3.0888e+01\n",
      "Epoch 420/500\n",
      "384/384 - 1s - loss: 0.0749 - R2: 0.7270 - val_loss: 0.1064 - val_R2: -2.9388e+01\n",
      "Epoch 421/500\n",
      "384/384 - 1s - loss: 0.0755 - R2: 0.7246 - val_loss: 0.1112 - val_R2: -3.0700e+01\n",
      "Epoch 422/500\n",
      "384/384 - 1s - loss: 0.0750 - R2: 0.7279 - val_loss: 0.1114 - val_R2: -3.0779e+01\n",
      "Epoch 423/500\n",
      "384/384 - 1s - loss: 0.0755 - R2: 0.7265 - val_loss: 0.1096 - val_R2: -3.0289e+01\n",
      "Epoch 424/500\n",
      "384/384 - 1s - loss: 0.0753 - R2: 0.7269 - val_loss: 0.1141 - val_R2: -3.1541e+01\n",
      "Epoch 425/500\n",
      "384/384 - 1s - loss: 0.0754 - R2: 0.7258 - val_loss: 0.1057 - val_R2: -2.9171e+01\n",
      "Epoch 426/500\n",
      "384/384 - 1s - loss: 0.0751 - R2: 0.7251 - val_loss: 0.1130 - val_R2: -3.1252e+01\n",
      "Epoch 427/500\n",
      "384/384 - 1s - loss: 0.0754 - R2: 0.7274 - val_loss: 0.1127 - val_R2: -3.1168e+01\n",
      "Epoch 428/500\n",
      "384/384 - 1s - loss: 0.0754 - R2: 0.7283 - val_loss: 0.1126 - val_R2: -3.1131e+01\n",
      "Epoch 429/500\n",
      "384/384 - 1s - loss: 0.0753 - R2: 0.7225 - val_loss: 0.1116 - val_R2: -3.0874e+01\n",
      "Epoch 430/500\n",
      "384/384 - 1s - loss: 0.0749 - R2: 0.7292 - val_loss: 0.1134 - val_R2: -3.1333e+01\n",
      "Epoch 431/500\n",
      "384/384 - 1s - loss: 0.0749 - R2: 0.7307 - val_loss: 0.1069 - val_R2: -2.9522e+01\n"
     ]
    },
    {
     "name": "stdout",
     "output_type": "stream",
     "text": [
      "Epoch 432/500\n",
      "384/384 - 1s - loss: 0.0752 - R2: 0.7298 - val_loss: 0.1101 - val_R2: -3.0408e+01\n",
      "Epoch 433/500\n",
      "384/384 - 1s - loss: 0.0752 - R2: 0.7320 - val_loss: 0.1133 - val_R2: -3.1320e+01\n",
      "Epoch 434/500\n",
      "384/384 - 1s - loss: 0.0757 - R2: 0.7254 - val_loss: 0.1086 - val_R2: -2.9970e+01\n",
      "Epoch 435/500\n",
      "384/384 - 1s - loss: 0.0758 - R2: 0.7246 - val_loss: 0.1094 - val_R2: -3.0215e+01\n",
      "Epoch 436/500\n",
      "384/384 - 1s - loss: 0.0754 - R2: 0.7229 - val_loss: 0.1073 - val_R2: -2.9637e+01\n",
      "Epoch 437/500\n",
      "384/384 - 1s - loss: 0.0755 - R2: 0.7299 - val_loss: 0.1123 - val_R2: -3.1006e+01\n",
      "Epoch 438/500\n",
      "384/384 - 1s - loss: 0.0751 - R2: 0.7283 - val_loss: 0.1104 - val_R2: -3.0508e+01\n",
      "Epoch 439/500\n",
      "384/384 - 1s - loss: 0.0750 - R2: 0.7278 - val_loss: 0.1071 - val_R2: -2.9557e+01\n",
      "Epoch 440/500\n",
      "384/384 - 1s - loss: 0.0750 - R2: 0.7315 - val_loss: 0.1118 - val_R2: -3.0895e+01\n",
      "Epoch 441/500\n",
      "384/384 - 1s - loss: 0.0758 - R2: 0.7237 - val_loss: 0.1101 - val_R2: -3.0410e+01\n",
      "Epoch 442/500\n",
      "384/384 - 1s - loss: 0.0756 - R2: 0.7263 - val_loss: 0.1104 - val_R2: -3.0483e+01\n",
      "Epoch 443/500\n",
      "384/384 - 1s - loss: 0.0754 - R2: 0.7270 - val_loss: 0.1068 - val_R2: -2.9504e+01\n",
      "Epoch 444/500\n",
      "384/384 - 1s - loss: 0.0745 - R2: 0.7307 - val_loss: 0.1057 - val_R2: -2.9181e+01\n",
      "Epoch 445/500\n",
      "384/384 - 1s - loss: 0.0751 - R2: 0.7262 - val_loss: 0.1111 - val_R2: -3.0733e+01\n",
      "Epoch 446/500\n",
      "384/384 - 1s - loss: 0.0755 - R2: 0.7277 - val_loss: 0.1050 - val_R2: -2.8963e+01\n",
      "Epoch 447/500\n",
      "384/384 - 1s - loss: 0.0752 - R2: 0.7208 - val_loss: 0.1067 - val_R2: -2.9459e+01\n",
      "Epoch 448/500\n",
      "384/384 - 1s - loss: 0.0753 - R2: 0.7270 - val_loss: 0.1075 - val_R2: -2.9673e+01\n",
      "Epoch 449/500\n",
      "384/384 - 1s - loss: 0.0751 - R2: 0.7289 - val_loss: 0.1107 - val_R2: -3.0561e+01\n",
      "Epoch 450/500\n",
      "384/384 - 1s - loss: 0.0755 - R2: 0.7253 - val_loss: 0.1084 - val_R2: -2.9926e+01\n",
      "Epoch 451/500\n",
      "384/384 - 1s - loss: 0.0763 - R2: 0.7243 - val_loss: 0.1081 - val_R2: -2.9822e+01\n",
      "Epoch 452/500\n",
      "384/384 - 1s - loss: 0.0757 - R2: 0.7262 - val_loss: 0.1076 - val_R2: -2.9688e+01\n",
      "Epoch 453/500\n",
      "384/384 - 1s - loss: 0.0757 - R2: 0.7256 - val_loss: 0.1108 - val_R2: -3.0593e+01\n",
      "Epoch 454/500\n",
      "384/384 - 1s - loss: 0.0754 - R2: 0.7287 - val_loss: 0.1115 - val_R2: -3.0808e+01\n",
      "Epoch 455/500\n",
      "384/384 - 1s - loss: 0.0752 - R2: 0.7277 - val_loss: 0.1068 - val_R2: -2.9446e+01\n",
      "Epoch 456/500\n",
      "384/384 - 1s - loss: 0.0748 - R2: 0.7308 - val_loss: 0.1071 - val_R2: -2.9528e+01\n",
      "Epoch 457/500\n",
      "384/384 - 1s - loss: 0.0751 - R2: 0.7290 - val_loss: 0.1100 - val_R2: -3.0376e+01\n",
      "Epoch 458/500\n",
      "384/384 - 1s - loss: 0.0750 - R2: 0.7273 - val_loss: 0.1097 - val_R2: -3.0250e+01\n",
      "Epoch 459/500\n",
      "384/384 - 1s - loss: 0.0751 - R2: 0.7270 - val_loss: 0.1081 - val_R2: -2.9864e+01\n",
      "Epoch 460/500\n",
      "384/384 - 1s - loss: 0.0755 - R2: 0.7247 - val_loss: 0.1115 - val_R2: -3.0811e+01\n",
      "Epoch 461/500\n",
      "384/384 - 1s - loss: 0.0748 - R2: 0.7309 - val_loss: 0.1126 - val_R2: -3.1119e+01\n",
      "Epoch 462/500\n",
      "384/384 - 1s - loss: 0.0753 - R2: 0.7299 - val_loss: 0.1139 - val_R2: -3.1494e+01\n",
      "Epoch 463/500\n",
      "384/384 - 1s - loss: 0.0747 - R2: 0.7277 - val_loss: 0.1102 - val_R2: -3.0447e+01\n",
      "Epoch 464/500\n",
      "384/384 - 1s - loss: 0.0754 - R2: 0.7262 - val_loss: 0.1090 - val_R2: -3.0089e+01\n",
      "Epoch 465/500\n",
      "384/384 - 1s - loss: 0.0755 - R2: 0.7259 - val_loss: 0.1090 - val_R2: -3.0083e+01\n",
      "Epoch 466/500\n",
      "384/384 - 1s - loss: 0.0754 - R2: 0.7280 - val_loss: 0.1131 - val_R2: -3.1200e+01\n",
      "Epoch 467/500\n",
      "384/384 - 1s - loss: 0.0746 - R2: 0.7283 - val_loss: 0.1102 - val_R2: -3.0401e+01\n",
      "Epoch 468/500\n",
      "384/384 - 1s - loss: 0.0752 - R2: 0.7262 - val_loss: 0.1097 - val_R2: -3.0299e+01\n",
      "Epoch 469/500\n",
      "384/384 - 1s - loss: 0.0756 - R2: 0.7218 - val_loss: 0.1073 - val_R2: -2.9628e+01\n",
      "Epoch 470/500\n",
      "384/384 - 1s - loss: 0.0749 - R2: 0.7296 - val_loss: 0.1109 - val_R2: -3.0639e+01\n",
      "Epoch 471/500\n",
      "384/384 - 1s - loss: 0.0751 - R2: 0.7105 - val_loss: 0.1105 - val_R2: -3.0481e+01\n",
      "Epoch 472/500\n",
      "384/384 - 1s - loss: 0.0753 - R2: 0.7275 - val_loss: 0.1100 - val_R2: -3.0385e+01\n",
      "Epoch 473/500\n",
      "384/384 - 1s - loss: 0.0751 - R2: 0.7249 - val_loss: 0.1123 - val_R2: -3.1035e+01\n",
      "Epoch 474/500\n",
      "384/384 - 1s - loss: 0.0750 - R2: 0.7251 - val_loss: 0.1098 - val_R2: -3.0308e+01\n",
      "Epoch 475/500\n",
      "384/384 - 1s - loss: 0.0751 - R2: 0.7264 - val_loss: 0.1086 - val_R2: -2.9980e+01\n",
      "Epoch 476/500\n",
      "384/384 - 1s - loss: 0.0749 - R2: 0.7288 - val_loss: 0.1089 - val_R2: -3.0056e+01\n",
      "Epoch 477/500\n",
      "384/384 - 1s - loss: 0.0749 - R2: 0.7304 - val_loss: 0.1078 - val_R2: -2.9751e+01\n",
      "Epoch 478/500\n",
      "384/384 - 1s - loss: 0.0753 - R2: 0.7275 - val_loss: 0.1092 - val_R2: -3.0153e+01\n",
      "Epoch 479/500\n",
      "384/384 - 1s - loss: 0.0750 - R2: 0.7288 - val_loss: 0.1107 - val_R2: -3.0577e+01\n",
      "Epoch 480/500\n",
      "384/384 - 1s - loss: 0.0751 - R2: 0.7305 - val_loss: 0.1080 - val_R2: -2.9832e+01\n",
      "Epoch 481/500\n",
      "384/384 - 1s - loss: 0.0749 - R2: 0.7326 - val_loss: 0.1118 - val_R2: -3.0910e+01\n",
      "Epoch 482/500\n",
      "384/384 - 1s - loss: 0.0748 - R2: 0.7243 - val_loss: 0.1130 - val_R2: -3.1191e+01\n",
      "Epoch 483/500\n",
      "384/384 - 1s - loss: 0.0750 - R2: 0.5950 - val_loss: 0.1059 - val_R2: -2.9183e+01\n",
      "Epoch 484/500\n",
      "384/384 - 1s - loss: 0.0748 - R2: 0.7306 - val_loss: 0.1082 - val_R2: -2.9854e+01\n",
      "Epoch 485/500\n",
      "384/384 - 1s - loss: 0.0756 - R2: 0.7261 - val_loss: 0.1098 - val_R2: -3.0316e+01\n",
      "Epoch 486/500\n",
      "384/384 - 1s - loss: 0.0752 - R2: 0.7264 - val_loss: 0.1119 - val_R2: -3.0897e+01\n",
      "Epoch 487/500\n",
      "384/384 - 1s - loss: 0.0749 - R2: 0.7264 - val_loss: 0.1099 - val_R2: -3.0358e+01\n",
      "Epoch 488/500\n",
      "384/384 - 1s - loss: 0.0741 - R2: 0.7314 - val_loss: 0.1113 - val_R2: -3.0756e+01\n",
      "Epoch 489/500\n",
      "384/384 - 1s - loss: 0.0745 - R2: 0.7246 - val_loss: 0.1118 - val_R2: -3.0905e+01\n",
      "Epoch 490/500\n",
      "384/384 - 1s - loss: 0.0750 - R2: 0.7268 - val_loss: 0.1084 - val_R2: -2.9939e+01\n",
      "Epoch 491/500\n",
      "384/384 - 1s - loss: 0.0749 - R2: 0.7285 - val_loss: 0.1096 - val_R2: -3.0295e+01\n",
      "Epoch 492/500\n",
      "384/384 - 1s - loss: 0.0757 - R2: 0.7065 - val_loss: 0.1054 - val_R2: -2.9081e+01\n",
      "Epoch 493/500\n",
      "384/384 - 1s - loss: 0.0756 - R2: 0.7249 - val_loss: 0.1038 - val_R2: -2.8642e+01\n",
      "Epoch 494/500\n",
      "384/384 - 1s - loss: 0.0748 - R2: 0.7274 - val_loss: 0.1109 - val_R2: -3.0609e+01\n",
      "Epoch 495/500\n",
      "384/384 - 1s - loss: 0.0753 - R2: 0.7232 - val_loss: 0.1124 - val_R2: -3.1036e+01\n",
      "Epoch 496/500\n",
      "384/384 - 1s - loss: 0.0752 - R2: 0.7220 - val_loss: 0.1062 - val_R2: -2.9319e+01\n",
      "Epoch 497/500\n",
      "384/384 - 1s - loss: 0.0752 - R2: 0.7223 - val_loss: 0.1084 - val_R2: -2.9912e+01\n",
      "Epoch 498/500\n",
      "384/384 - 1s - loss: 0.0753 - R2: 0.7254 - val_loss: 0.1065 - val_R2: -2.9366e+01\n",
      "Epoch 499/500\n",
      "384/384 - 1s - loss: 0.0751 - R2: 0.7265 - val_loss: 0.1061 - val_R2: -2.9282e+01\n",
      "Epoch 500/500\n",
      "384/384 - 1s - loss: 0.0749 - R2: 0.7232 - val_loss: 0.1123 - val_R2: -3.1049e+01\n"
     ]
    }
   ],
   "source": [
    "NNfullmodel = model\n",
    "\n",
    "NNfullmodel.compile(optimizer=sgd, loss='mean_squared_error', metrics=[R2])\n",
    "\n",
    "trainingfull = NNfullmodel.fit(x=subinfo[NNpredsuse], y=subinfo[respuse], \n",
    "     batch_size=32, epochs=epochs, shuffle=True, verbose=2,\n",
    "    validation_split=0.3)"
   ]
  },
  {
   "cell_type": "markdown",
   "metadata": {},
   "source": [
    "Calculate the fitted values and the residuals."
   ]
  },
  {
   "cell_type": "code",
   "execution_count": 57,
   "metadata": {},
   "outputs": [],
   "source": [
    "NNfullfits = np.reshape(NNfullmodel.predict(subinfo[NNpredsuse]),-1)\n",
    "subinfo['NNfullresids'] = subinfo[respuse]-NNfullfits"
   ]
  },
  {
   "cell_type": "markdown",
   "metadata": {},
   "source": [
    "# Set up Correlation Function Estimation"
   ]
  },
  {
   "cell_type": "markdown",
   "metadata": {},
   "source": [
    "For testing purposes, add a column which is the residual in the response, if the model were simply the average response."
   ]
  },
  {
   "cell_type": "code",
   "execution_count": 58,
   "metadata": {},
   "outputs": [],
   "source": [
    "subinfo['SimpResids'] = subinfo[respuse] - subinfo[respuse].mean()"
   ]
  },
  {
   "cell_type": "markdown",
   "metadata": {},
   "source": [
    "Define the column that will be used for the cross correlation quantity, e.g. size, mass, etc. "
   ]
  },
  {
   "cell_type": "code",
   "execution_count": 59,
   "metadata": {},
   "outputs": [],
   "source": [
    "S_weight_column='NNfullresids'"
   ]
  },
  {
   "cell_type": "markdown",
   "metadata": {},
   "source": [
    "Set up file and directory for output."
   ]
  },
  {
   "cell_type": "code",
   "execution_count": 60,
   "metadata": {},
   "outputs": [],
   "source": [
    "\n",
    "file_name='kappa_'+S_weight_column  #prefix to be appended to the files being saved. Should be different for different datasets.\n",
    "\n",
    "os.makedirs(file_dir,exist_ok=True)"
   ]
  },
  {
   "cell_type": "code",
   "execution_count": 61,
   "metadata": {},
   "outputs": [
    {
     "data": {
      "image/png": "[encoded data removed]",
      "text/plain": [
       "<Figure size 360x360 with 1 Axes>"
      ]
     },
     "metadata": {
      "needs_background": "light"
     },
     "output_type": "display_data"
    }
   ],
   "source": [
    "plt.figure(figsize=[5,5])\n",
    "hist(subinfo[S_weight_column], bins=100)\n",
    "plt.xlabel(S_weight_column,size=12)\n",
    "plt.show()    "
   ]
  },
  {
   "cell_type": "code",
   "execution_count": 62,
   "metadata": {},
   "outputs": [],
   "source": [
    "\"\"\" this function generates the input file for corr_pc\n",
    " corr_pc takes two samples to compute cross correlations. \n",
    " Shape sample: Sample of galaxies with shapes. For density correlations it is not necessary to pass shapes. \n",
    "               Prefix of filenames for this sample should be passed vias file_nameS\n",
    " Density sample: Sample of galaxies/particles that trace density field. For density correlations it is not necessary to pass shapes. \n",
    "                 If shapes are passed for this sample, w++ can be computed. Prefix of filenames for this sample should be passed vias file_nameD.\n",
    "                 If auto correlation is to be computed, simply set file_nameD=file_nameS.\n",
    " file_name: This is the prefix corr_pc will use to save the output files containing two point correlations. Input file to be passed to corr_pc is \n",
    "            also saved with this name. input file is saved in file_dir and the outputs are saved in new directory, file_dir+corr_data_out.\n",
    " corr: two point correlation to be computed. This should be density-density (wgg,wmm), shape-density (wg+) or shape-shape(w++). \n",
    "        When computing wg+, corr_pc will also compute and save wgg by default since pair counting is done anyways. \n",
    "        When doing w++, wg+ and wgg are also computed and saved.\n",
    " n_shape, n_density: number of galaxies in the shape sample and density sample respectively.\n",
    " do_jk: Whether to do jackknifing or not.\n",
    " njk: number of jackknife regions. jackknife regions are assumed to be labelled from 0...njk-1.\n",
    "\"\"\"\n",
    "def inp_gen(file_dir,file_name,file_nameS,file_nameD,corr=3,n_shape=0,n_density=0,njk=100,do_jk=1):\n",
    "    s=\"\"\n",
    "    s=s+\"which_corr     \"+str(corr)+\"\\n\" #0: density-density, 1: ia: shape-density, 2 ia:shape-shape, 3:kappa-density\n",
    "    s=s+\"coordinates    6\"+\"\\n\"  #0: rp-pi\n",
    "    s=s+\"estimator      0\"+\"\\n\"  #0:landy-szalay (LS): cross. works for both auto and cross correlations. For auto, pass same filenames for shape and density samples \n",
    "                                 # 1: LS:auto, for auto correlation only\n",
    "    s=s+\"data_sorted     0\"+\"\\n\"  #0: no sorting, 1:sorted by z, 2:sorted by dec (y)\n",
    "    s=s+\"use_comoving    1\"+\"\\n\"\n",
    "    s=s+\"do_jk           \"+str(do_jk)+\"\\n\" #0: no jackknife, 1: do jackknife. jk regions must be passed in a file. are assumed to be from 0..njk-1\n",
    "    s=s+\"sig_crit        0\"+\"\\n\" #for weak lensing, not important for ia, gg corrs.\n",
    "\n",
    "    #following passes information about shape sample\n",
    "    s=s+\"shape_pos       \"+file_dir+file_nameS+'_pos.dat'+\"\\n\"  # x, y coordinates\n",
    "    s=s+\"shape_z         \"+file_dir+file_nameS+'_z.dat'+\"\\n\"    # z coordinate\n",
    "    s=s+\"shape_e         \"+file_dir+file_nameS+'_kappa.dat'+\"\\n\"    # e1, e2 or kappa\n",
    "#     s=s+\"shape_wt         \"+file_dir+file_nameS+'_wt.dat'+\"\\n\"  # weights on galaxies. If no weighting, pass 0\n",
    "    s=s+\"shape_wt         0\"+\"\\n\"\n",
    "    s=s+\"shape_jk        \"+file_dir+file_nameS+'_jk.dat'+\"\\n\"   # jackknife regions\n",
    "\n",
    "    # following passes information about density sample\n",
    "    s=s+\"density_patch   0\"+\"\\n\" #for weak lensing, not important for ia, gg corrs.\n",
    "    s=s+\"density_pos     \"+file_dir+file_nameD+'_pos.dat'+\"\\n\"  # x, y coordinates\n",
    "    s=s+\"density_z       \"+file_dir+file_nameD+'_z.dat'+\"\\n\"    # z coordinate\n",
    "    s=s+\"density_wt       0\"+\"\\n\"  # weights on galaxies/particles. If no weighting, pass 0\n",
    "#     s=s+\"density_wt       \"+file_dir+file_nameD+'_wt.dat'+\"\\n\"  # weights on galaxies/particles. If no weighting, pass 0\n",
    "    s=s+\"density_jk      \"+file_dir+file_nameD+'_jk.dat'+\"\\n\"   # jackknife regions    \n",
    "    s=s+\"density_e      0\"+\"\\n\"   #if doing shape-shape, this file should be passed. # e1, e2\n",
    "\n",
    "    # following passes information about randoms corresponding to shape sample\n",
    "    s=s+\"Srandom_pos      0\"+\"\\n\"\n",
    "    s=s+\"Srandom_z        0\"+\"\\n\"\n",
    "    s=s+\"Srandoms_wt      0\"+\"\\n\"\n",
    "    s=s+\"Srand_jk         0\"+\"\\n\"\n",
    "\n",
    "    # following passes information about randoms corresponding to density sample\n",
    "    s=s+\"Drandom_patch    0\"+\"\\n\"\n",
    "    s=s+\"Drandom_pos      0\"+\"\\n\"\n",
    "    s=s+\"Drandom_z        0\"+\"\\n\"\n",
    "    s=s+\"Drandoms_wt      0\"+\"\\n\"\n",
    "    s=s+\"drand_jk         0\"+\"\\n\"\n",
    "\n",
    "    s=s+\"distances        0\"+\"\\n\"  #not needed for PB\n",
    "    s=s+\"patch_file       0\"+\"\\n\"  #not needed for PB\n",
    "    s=s+\"out_file         \"+file_dir+\"corr_data_out/\"+file_name+\"_\"+\"\\n\"  # prefix for the output files.\n",
    "    \n",
    "    os.makedirs(file_dir+\"corr_data_out/\",exist_ok=True) #directory where outputs are saved.\n",
    "    \n",
    "    s=s+\"n_threads       0\"+\"\\n\"   # number of openmp threads to use. 0== use maximum available.\n",
    "    s=s+\"n_shape         \"+str(n_shape)+\"\\n\"  #number of galaxies in shape sample\n",
    "    s=s+\"n_density       \"+str(n_density)+\"\\n\"  #number of galaxies in density sample\n",
    "    s=s+\"n_Srand         0\"+\"\\n\"\n",
    "    s=s+\"n_Drand         0\"+\"\\n\"\n",
    "    s=s+\"rand_subsample  0\"+\"\\n\"  #subsample randoms to speed up calculations.\n",
    "    s=s+\"n_jk          \"+str(njk)+\"\\n\"  #number of jk regions. regions are assumed to be labelled from 0....njk-1\n",
    "    s=s+\"n_patch         0 \"+\"\\n\"#not needed for PB\n",
    "\n",
    "    s=s+\"binR_min        0.1\"+\"\\n\"  # rp_min for the bins\n",
    "    s=s+\"binR_max       20\"+\"\\n\" # rp_max for the bins\n",
    "    s=s+\"n_bins         10\"+\"\\n\" #number of rp bins to use\n",
    "    s=s+\"lin_bin         0\"+\"\\n\"  #linear or log bins. 0: log, 1:linear\n",
    "    s=s+\"n_p_bin         20\"+\"\\n\"  #number of pi bins to use\n",
    "    s=s+\"pmin         -22\"+\"\\n\"  # pi_min (line of sight or z separation)\n",
    "    s=s+\"pmax         22\"+\"\\n\"   # pi_max (line of sight or z separation)\n",
    "    s=s+\"z_min         0\"+\"\\n\"    \n",
    "    s=s+\"z_max         300\"+\"\\n\" \n",
    "    s=s+\"dz            0.0001\"+\"\\n\" #not needed for PB\n",
    "    s=s+\"z_sep_min     -100\"+\"\\n\"  \n",
    "    s=s+\"z_sep_max     100\"+\"\\n\"   \n",
    "    s=s+\"periodic_box  1\"+\"\\n\"\n",
    "    s=s+\"box_size     75\"+\"\\n\"  #size of the box.\n",
    "\n",
    "    fil=open(file_dir+file_name+'.inp','w')\n",
    "    fil.write(s)\n"
   ]
  },
  {
   "cell_type": "markdown",
   "metadata": {},
   "source": [
    "This function splits the sim box into a grid in x-y plane. Number of grid splits along each axis are given by njk1, for a total of njk1^2 sub-sample regions.\n",
    "After this, each point in data (galaxy or particle) is assigned to its sub-sample."
   ]
  },
  {
   "cell_type": "code",
   "execution_count": 63,
   "metadata": {},
   "outputs": [],
   "source": [
    "def jk_box(data=[],Lbox=None,njk1=7):\n",
    "    if Lbox is None:\n",
    "        Lbox=np.ceil(max(data['x']))\n",
    "        print('jk_box using Lbox=',Lbox)\n",
    "    xjk=np.linspace(0,Lbox,njk1+1)\n",
    "    yjk=np.linspace(0,Lbox,njk1+1)\n",
    "    jk=np.zeros(len(data))\n",
    "    jjk=0\n",
    "    for i in np.arange(njk1):\n",
    "        xil=xjk[i]\n",
    "        xih=xjk[i+1]\n",
    "        x1=data['x']>xil\n",
    "        x2=data['x']<xih\n",
    "        for j in np.arange(njk1):\n",
    "            yil=yjk[j]\n",
    "            yih=yjk[j+1]\n",
    "            y1=data['y']>yil\n",
    "            y2=data['y']<=yih\n",
    "            jk[x1*x2*y1*y2]=jjk\n",
    "            jjk+=1\n",
    "#     jk=np.array(jk,dtype=[('jk','int32')])\n",
    "    return jk"
   ]
  },
  {
   "cell_type": "code",
   "execution_count": 64,
   "metadata": {},
   "outputs": [],
   "source": [
    "S_dat = Table.from_pandas(subinfo)"
   ]
  },
  {
   "cell_type": "markdown",
   "metadata": {},
   "source": [
    "Define `x`,`y`,`z` columns for cordinates. We will use the names `x`,`y`,`z`, below, instead of `gal_pos_x` etc. Different versions of the catalog have different naming conventions, please check. We will also use units of Mpc instead of Kpc, hence division by 1000."
   ]
  },
  {
   "cell_type": "code",
   "execution_count": 65,
   "metadata": {},
   "outputs": [],
   "source": [
    "S_dat['x']=np.float64(S_dat['gal_pos_x']/1000)\n",
    "S_dat['y']=np.float64(S_dat['gal_pos_y']/1000)\n",
    "S_dat['z']=np.float64(S_dat['gal_pos_z']/1000)"
   ]
  },
  {
   "cell_type": "markdown",
   "metadata": {},
   "source": [
    "Get jackknife regions for all the galaxies."
   ]
  },
  {
   "cell_type": "code",
   "execution_count": 66,
   "metadata": {},
   "outputs": [
    {
     "name": "stdout",
     "output_type": "stream",
     "text": [
      "jk_box using Lbox= 75.0\n"
     ]
    }
   ],
   "source": [
    "S_dat['jk'] = jk_box(data=S_dat)\n",
    "S_dat.sort('z')"
   ]
  },
  {
   "cell_type": "code",
   "execution_count": 67,
   "metadata": {},
   "outputs": [
    {
     "data": {
      "image/png": "[encoded data removed]",
      "text/plain": [
       "<Figure size 432x288 with 1 Axes>"
      ]
     },
     "metadata": {
      "needs_background": "light"
     },
     "output_type": "display_data"
    }
   ],
   "source": [
    "_=hist2d(S_dat['y'],S_dat['z'],1000,norm=LogNorm())"
   ]
  },
  {
   "cell_type": "markdown",
   "metadata": {},
   "source": [
    "We will assume density and shape sample to be same, hence following can be done."
   ]
  },
  {
   "cell_type": "markdown",
   "metadata": {},
   "source": [
    "For density sample, still use entire sample, but for `S_dat` restrict to satellite or central."
   ]
  },
  {
   "cell_type": "code",
   "execution_count": 68,
   "metadata": {},
   "outputs": [],
   "source": [
    "D_dat=S_dat"
   ]
  },
  {
   "cell_type": "markdown",
   "metadata": {},
   "source": [
    "We define a new column kappa, which will contain the \"processed\" version of weight column defined above. The \"processed\" here could be mean subtraction, renormalization or taking log of the quantity.\n",
    "Remeber to do this on the final version of catalog, after all the cuts have been applied since that can affect the mean, etc.\n",
    " For mass, we will take log to prevent few massive galaxies from dominating the measurements."
   ]
  },
  {
   "cell_type": "code",
   "execution_count": 69,
   "metadata": {},
   "outputs": [],
   "source": [
    "#S_dat['kappa']=np.log10(S_dat[S_weight_column])\n",
    "\n",
    "S_dat['kappa'] = S_dat[S_weight_column]\n",
    "S_dat['kappa'] -= S_dat['kappa'].mean()"
   ]
  },
  {
   "cell_type": "markdown",
   "metadata": {},
   "source": [
    "Function to write data files in format that can be read by corr_pc"
   ]
  },
  {
   "cell_type": "code",
   "execution_count": 70,
   "metadata": {},
   "outputs": [],
   "source": [
    "def write_data(data,file_name,file_dir,wt_col=None):\n",
    "    file_name=file_dir+file_name\n",
    "    np.savetxt(file_name+'_pos.dat',np.column_stack((data['x'],data['y']))) #x,y position of galaxies\n",
    "    np.savetxt(file_name+'_z.dat',data['z']) # z position of galaxies\n",
    "    if 'jk' in data.columns:\n",
    "        np.savetxt(file_name+'_jk.dat',data['jk'],fmt='%i') #jackknife is read as integer\n",
    "    if 'kappa' in data.columns: #ellipticities. corr_pc takes e1, e2\n",
    "        np.savetxt(file_name+'_kappa.dat',data['kappa'])\n",
    "    if wt_col is not None: #wt to be applied to each galaxy/particle.\n",
    "        wt=data[wt_col]*1.\n",
    "        wt/=wt.mean()\n",
    "        np.savetxt(file_name+'_wt.dat',wt)"
   ]
  },
  {
   "cell_type": "markdown",
   "metadata": {},
   "source": [
    "Write shape data to files."
   ]
  },
  {
   "cell_type": "code",
   "execution_count": 71,
   "metadata": {},
   "outputs": [],
   "source": [
    "file_nameS=file_name+'_shape'\n",
    "write_data(data=S_dat,file_name=file_nameS,file_dir=file_dir,)#wt_col='mass')"
   ]
  },
  {
   "cell_type": "markdown",
   "metadata": {},
   "source": [
    "Write density data to files. Only necessary if the two catalogs are different."
   ]
  },
  {
   "cell_type": "code",
   "execution_count": 72,
   "metadata": {},
   "outputs": [],
   "source": [
    "#file_nameD=file_name+'_density'\n",
    "#write_data(data=D_dat,file_name=file_nameD,file_dir=file_dir,wt_col='mass')\n",
    "file_nameD=file_nameS"
   ]
  },
  {
   "cell_type": "markdown",
   "metadata": {},
   "source": [
    "Generate the input file. Corr_pac will be called using this file.\n",
    "`corr=0` will only do wgg like correlation, no shapes. set `corr=1` for wg+ and wgg"
   ]
  },
  {
   "cell_type": "code",
   "execution_count": 73,
   "metadata": {},
   "outputs": [],
   "source": [
    "inp_gen(file_dir=file_dir,file_name=file_name,file_nameS=file_nameS,file_nameD=file_nameD,corr=3,n_shape=len(S_dat),n_density=len(D_dat),\n",
    "        njk=int(S_dat['jk'].max()+1),do_jk=1) "
   ]
  },
  {
   "cell_type": "code",
   "execution_count": 74,
   "metadata": {
    "scrolled": false
   },
   "outputs": [
    {
     "data": {
      "image/png": "[encoded data removed]",
      "text/plain": [
       "<Figure size 432x288 with 1 Axes>"
      ]
     },
     "metadata": {
      "needs_background": "light"
     },
     "output_type": "display_data"
    }
   ],
   "source": [
    "_=hist(S_dat['jk'],int(S_dat['jk'].max()+1))"
   ]
  },
  {
   "cell_type": "markdown",
   "metadata": {},
   "source": [
    "From within corr_pc directory, you can run corr_pc as \n",
    "\n",
    "`./corr_pc file_dir/file_name.inp`\n",
    "\n",
    "For example:\n",
    "\n",
    "`./corr_pc ./temp/ill_test/ill_test_kappa.inp`\n",
    "\n",
    "`./corr_pc ./temp/ChadAnalyses/kappa_SimpResids.inp`"
   ]
  },
  {
   "cell_type": "code",
   "execution_count": 75,
   "metadata": {},
   "outputs": [
    {
     "name": "stdout",
     "output_type": "stream",
     "text": [
      "Running ./corr_pc ./temp/ChadAnalyses/MagsColorsPPRresp/kappa_NNfullresids.inp\n",
      "Success\n"
     ]
    }
   ],
   "source": [
    "foo = './corr_pc '+ file_dir + file_name+'.inp'\n",
    "print('Running '+foo)\n",
    "holdout = os.system(foo)\n",
    "if(holdout == 0):\n",
    "    print(\"Success\")\n",
    "else:\n",
    "    print(\"Failure\")"
   ]
  },
  {
   "cell_type": "markdown",
   "metadata": {},
   "source": [
    "## Process the results to create correlation plots"
   ]
  },
  {
   "cell_type": "code",
   "execution_count": 76,
   "metadata": {},
   "outputs": [],
   "source": [
    "def check_empty(arr): # True is empty\n",
    "    try:\n",
    "        #print not arr.any()\n",
    "        try:\n",
    "            return not arr.any()\n",
    "        except:\n",
    "            if arr.size!=0: #for rec array\n",
    "                return False\n",
    "            else:\n",
    "                return True\n",
    "    except:\n",
    "        #print not bool(arr)\n",
    "        return not bool(arr) #for other python types, including dictionary"
   ]
  },
  {
   "cell_type": "code",
   "execution_count": 77,
   "metadata": {},
   "outputs": [],
   "source": [
    "ignore_keys=['rp','r','jk','cov','corr','jk_err','jkerr','data','data0']\n",
    "class cov_corr():\n",
    "    def mean_calc(self,data=[],axis=1):\n",
    "        return np.mean(data,axis)\n",
    "\n",
    "    def var_calc(self,data=[],axis=1):\n",
    "        return np.var(data,axis)\n",
    "\n",
    "    def residual_calc(self,data=[],axis=1): #calculate residual that go into cov calculation, y-E(y)\n",
    "        mean=self.mean_calc(data,axis)\n",
    "        dim0=len(mean)\n",
    "        dim1=np.shape(data)[axis]\n",
    "        #print dim0,dim1,axis\n",
    "# since mean is always 1-d array, [mean]*dim1 always give matrix [dim0 X dim1]...\n",
    "#hence depending on dimension of data may need to transpose to get correct residuals\n",
    "        try:\n",
    "            res=data-np.transpose([mean]*dim1)\n",
    "            print (\"transpose\")\n",
    "        except:\n",
    "            res=data-[mean]*dim1\n",
    "        return res\n",
    "\n",
    "    def cov_matrix2(self,data=[],axis=1,ddof=0):\n",
    "        return np.cov(data,rowvar=axis)\n",
    "\n",
    "    def cov_matrix(self,data=[],axis=1,ddof=0):\n",
    "        #return np.cov(data,rowvar=axis,ddof=1) #ddof=0 for correct variance\n",
    "        mean=self.mean_calc(data,axis)\n",
    "        dim0=len(mean)\n",
    "        dim1=np.shape(data)[axis]\n",
    "        res=self.residual_calc(data=data,axis=axis)\n",
    "        cov=np.zeros((dim0,dim0))\n",
    "        if len(res[0])!=dim1:\n",
    "            res=np.transpose(res)#residual has dimension of data..\n",
    "                                #depending on axis value, may need to transpose for correct covariance\n",
    "        for i in np.arange(dim0):\n",
    "            for j in np.arange(dim0):\n",
    "                cov[i][j]+=np.sum(res[i]*res[j])\n",
    "        cov/=np.float64(dim1-ddof)\n",
    "        return cov\n",
    "\n",
    "    def cross_cov_matrix2(self,data1=[],data2=[],axis=1,ddof=0):\n",
    "        cross_cov=np.cov(data1,data2,rowvar=axis)\n",
    "        N1=len(data1[0])\n",
    "        N2=len(data2[0])\n",
    "        cov2=np.zeros((N1,N2))\n",
    "        for i in np.arange(N1):\n",
    "            for j in np.arange(N2):\n",
    "                cov2[i][j]=cross_cov[i+N1][j]\n",
    "        return cov2\n",
    "\n",
    "    def cross_cov_matrix(self,data1=[],data2=[],axis=1,ddof=0):\n",
    "    #return np.cov(data,rowvar=axis,ddof=1) #ddof=0 for correct variance\n",
    "        mean1=self.mean_calc(data1,axis)\n",
    "        mean2=self.mean_calc(data2,axis)\n",
    "        dim0=len(mean1)\n",
    "        dim2=len(mean2)\n",
    "        dim1=np.shape(data1)[axis]\n",
    "        res1=self.residual_calc(data=data1,axis=axis)\n",
    "        res2=self.residual_calc(data=data2,axis=axis)\n",
    "        cov=np.zeros((dim0,dim2))\n",
    "        if dim0!=dim2:\n",
    "            print ('cross cov: dimensions of data 1 and data2 not equal')\n",
    "        if len(res1[0])!=dim1:\n",
    "            res2=np.transpose(res2)\n",
    "            res1=np.transpose(res1)#residual has dimension of data..\n",
    "                            #depending on axis value, may need to transpose for correct covariance\n",
    "        for i in np.arange(dim0):\n",
    "            for j in np.arange(dim2):\n",
    "                cov[i][j]+=np.sum(res1[i]*res2[j])\n",
    "        cov/=np.float64(dim1-ddof)\n",
    "        return cov\n",
    "\n",
    "    #for some reason numpy covariance matrix has some constant multiplied to it..\n",
    "    #seems to be some func of N but can't figure it out.\n",
    "    #this func returns that constants value by comparing it with variance\n",
    "    def var_cov_comparison(self,var=[],cov=[]):\n",
    "        l=len(cov[0])\n",
    "        v2=np.zeros_like(var)\n",
    "        for i in np.arange(l):\n",
    "            v2[i]=cov[i][i]\n",
    "        r=var/v2\n",
    "        x=r==r[0]\n",
    "        if sum(x)<l:\n",
    "            print (\"variance-covariance miss match\") #return full ratio array in case r is not constant\n",
    "            return r  #note comparison can be easily fooled due to floating point error\n",
    "        return [r[0]]\n",
    "\n",
    "    def corr_matrix(self,cov_mat=[]): #correlation matrix\n",
    "        diag=np.diag(cov_mat)\n",
    "        return cov_mat/np.sqrt(np.outer(diag,diag))\n",
    "        # dim=len(cov_mat[0])\n",
    "        # var=np.zeros(dim)\n",
    "        # corr=np.zeros((dim,dim))\n",
    "        # for i in np.arange(dim):\n",
    "        #     var[i]=cov_mat[i][i]\n",
    "        # for i in np.arange(dim):\n",
    "        #     for j in np.arange(dim):\n",
    "        #         corr[i][j]=cov_mat[i][j]/np.sqrt(var[i]*var[j])\n",
    "        # return corr\n",
    "\n",
    "    def cross_corr_matrix(self,cov_mat=[],data1=[],data2=[],axis=1): #correlation matrix\n",
    "        dim=len(cov_mat[0])\n",
    "        var1=self.var_calc(data1,axis)\n",
    "        var2=self.var_calc(data2,axis)\n",
    "        corr=np.zeros((dim,dim))\n",
    "#        for i in np.arange(dim):\n",
    " #           var[i]=cov_mat[i][i]\n",
    "        for i in np.arange(dim):\n",
    "            for j in np.arange(dim):\n",
    "                corr[i][j]=cov_mat[i][j]/np.sqrt(var1[i]*var2[j])\n",
    "        return corr\n",
    "\n",
    "    #stack column from various dictionary elements to get a data matrix which goes into covariance calculations\n",
    "    #incase dict elements have several columns, var defines the column to be used. better to have named columns\n",
    "    def dict_stack(self,dic={},var='',ignore_keys=ignore_keys):\n",
    "        keys=dic.keys()\n",
    "        j=0\n",
    "        mat=[]\n",
    "        axis=0\n",
    "        for i in keys:\n",
    "            if i in ignore_keys:\n",
    "                #print 'cov_corr.dict_stack::',i,'ignored in stacking'\n",
    "                continue\n",
    "            if j==0:\n",
    "                if not check_empty(var):\n",
    "                    mat=dic[i][var]\n",
    "                else:\n",
    "                    mat=dic[i]#[:]\n",
    "                j=j+1\n",
    "                continue\n",
    "            if not check_empty(var):\n",
    "                mat=np.vstack((mat,dic[i][var]))\n",
    "            else:\n",
    "                mat=np.vstack((mat,dic[i]))#dic[i][:]\n",
    "        return mat,axis\n",
    "\n",
    "\n",
    "    def dict_cov(self,dic={},var='',stack=0,axis=0,ddof=0,ignore_keys=ignore_keys):\n",
    "        if stack!=0:\n",
    "            #print \"cov_corr: Stacking dictionary\"\n",
    "            mat,axis=self.dict_stack(dic=dic,var=var,ignore_keys=ignore_keys)\n",
    "            #print \"cov_corr: dictionary stacked\"\n",
    "        if stack==0:\n",
    "            #print \"no stacking:\",var,axis\n",
    "            mat=dic[var]\n",
    "            axis=axis\n",
    "        cov=self.cov_matrix2(data=mat,axis=axis,ddof=ddof)\n",
    "        #print cov.shape\n",
    "        corr=self.corr_matrix(cov)\n",
    "        return cov,corr\n",
    "\n",
    "\n",
    "    def dict_cross_cov(self,dic={},dic2={},var1='',var2='',stack=0,axis=0,ddof=0):\n",
    "        if stack!=0:\n",
    "            #print \"cov_corr: Stacking dictionary\"\n",
    "            mat1,axis=self.dict_stack(dic=dic,var=var1)\n",
    "            if dic2:\n",
    "                mat2,axis=self.dict_stack(dic=dic2,var=var2)\n",
    "            else:\n",
    "                mat2,axis=self.dict_stack(dic=dic,var=var2)\n",
    "        if stack==0:\n",
    "            #print \"no stacking:\",var,axis\n",
    "            mat1=dic[var1]\n",
    "            if dic2:\n",
    "                mat2=dic2[var2]\n",
    "            else:\n",
    "                mat2=dic[var2]\n",
    "            axis=axis\n",
    "        cov=self.cross_cov_matrix2(data1=mat1,data2=mat2,axis=axis,ddof=ddof)\n",
    "        corr=self.cross_corr_matrix(cov_mat=cov,data1=mat1,data2=mat2,axis=axis)\n",
    "        return cov,corr\n",
    "\n",
    "    def matrix_diagonalize(self,m=[]):\n",
    "        N1=len(m)\n",
    "        N2=len(m[0])\n",
    "        for i in np.arange(N1):\n",
    "            for j in np.arange(N2):\n",
    "                if i==j:\n",
    "                    continue\n",
    "                m[i][j]=0\n",
    "        return m\n",
    "\n",
    "    def mat_inv(self,m=[]):\n",
    "        return np.linalg.inv(m)\n",
    "\n",
    "    def matrix_cut(self,mat=[],x=[]):\n",
    "        m=mat[x]\n",
    "        N=sum(x)\n",
    "        m2=np.zeros((N,N))\n",
    "        j=0\n",
    "        for i in m:\n",
    "            m2[j]=i[x]\n",
    "            j=j+1\n",
    "        return m2\n",
    "\n",
    "    def chi_sq(self,theory=[],data=[],x=[],cov=[]):\n",
    "        if len(x):\n",
    "            data=data[x]\n",
    "            theory=theory[x]\n",
    "            cov=self.matrix_cut(mat=cov,x=x)\n",
    "        cov_inv=self.mat_inv(m=cov)\n",
    "        #print data.shape,theory.shape,cov.shape,cov_inv.shape\n",
    "        N=len(data)\n",
    "        chi_sq=0\n",
    "        for i in np.arange(N):\n",
    "            for j in np.arange(N):\n",
    "                chi_sq+=((data[i]-theory[i])*(data[j]-theory[j])*(cov_inv[i][j]))\n",
    "        #chi_sq/=2.\n",
    "        return chi_sq,N"
   ]
  },
  {
   "cell_type": "code",
   "execution_count": 78,
   "metadata": {},
   "outputs": [],
   "source": [
    "def jk_read(dataset='',var=None,njk=100,auto_cross='_cross',bins='_bins',\n",
    "            home='',corr='_final',skiprows=0,**kwargs):\n",
    "    data_jk={}\n",
    "    filename=dataset\n",
    "    try:\n",
    "        data_jk['data']=np.genfromtxt(home+filename+bins+auto_cross+'_jk_final.dat',\n",
    "                                      names=True,skip_header=skiprows)\n",
    "    except:\n",
    "        print ('file not found')\n",
    "    try:\n",
    "        data_jk['data0']=np.genfromtxt(home+filename+bins+auto_cross+corr+'.dat',\n",
    "                                       names=True,skip_header=skiprows)\n",
    "    except:\n",
    "        print ('file not found',home+filename+bins+auto_cross+corr+'.dat')\n",
    "    for i in np.arange(njk):\n",
    "        data_jk[i]=np.genfromtxt(home+filename+bins+auto_cross+'_jk'+str(i)+corr+'.dat',names=True,\n",
    "                                 skip_header=skiprows)\n",
    "    cc=cov_corr()\n",
    "    if var and njk>0:\n",
    "        data_jk['cov']={}\n",
    "        data_jk['corr']={}\n",
    "        for v in var:\n",
    "            cov,corr=cc.dict_cov(dic=data_jk,var=v,stack=1,ignore_keys=['data','data0','cov','corr'])\n",
    "            cov*=njk-1.\n",
    "            data_jk['cov'][v]=cov\n",
    "            data_jk['corr'][v]=corr\n",
    "    return data_jk"
   ]
  },
  {
   "cell_type": "code",
   "execution_count": 79,
   "metadata": {},
   "outputs": [],
   "source": [
    "file_dir_out=file_dir+'corr_data_out/'\n",
    "\n",
    "njk = int(S_dat['jk'].max()+1)"
   ]
  },
  {
   "cell_type": "code",
   "execution_count": 80,
   "metadata": {},
   "outputs": [],
   "source": [
    "w_jk=jk_read(dataset=file_name,var=['wgg','wgp'],njk=njk,auto_cross='_cross',bins='_bins',\n",
    "            home=file_dir_out,corr='_final',skiprows=0)"
   ]
  },
  {
   "cell_type": "code",
   "execution_count": 81,
   "metadata": {
    "scrolled": true
   },
   "outputs": [
    {
     "data": {
      "text/plain": [
       "dict_keys(['data', 'data0', 0, 1, 2, 3, 4, 5, 6, 7, 8, 9, 10, 11, 12, 13, 14, 15, 16, 17, 18, 19, 20, 21, 22, 23, 24, 25, 26, 27, 28, 29, 30, 31, 32, 33, 34, 35, 36, 37, 38, 39, 40, 41, 42, 43, 44, 45, 46, 47, 48, 'cov', 'corr'])"
      ]
     },
     "execution_count": 81,
     "metadata": {},
     "output_type": "execute_result"
    }
   ],
   "source": [
    "w_jk.keys()"
   ]
  },
  {
   "cell_type": "markdown",
   "metadata": {},
   "source": [
    "'data': contains the jackknife mean and the jackknife errorbars\n",
    "\n",
    "'data0': Contains the full sample measurements. Do not use the errorbars from this set.\n",
    "\n",
    "0....njk-1: Contains measurements from the respective jackknife regions.\n",
    "\n",
    "cov, corr: Covariance and correlation matrices for the variables passed."
   ]
  },
  {
   "cell_type": "code",
   "execution_count": 82,
   "metadata": {
    "scrolled": true
   },
   "outputs": [
    {
     "data": {
      "text/plain": [
       "Text(0, 0.5, '$r_p w_{gg}$')"
      ]
     },
     "execution_count": 82,
     "metadata": {},
     "output_type": "execute_result"
    },
    {
     "data": {
      "image/png": "[encoded data removed]",
      "text/plain": [
       "<Figure size 432x288 with 1 Axes>"
      ]
     },
     "metadata": {
      "needs_background": "light"
     },
     "output_type": "display_data"
    }
   ],
   "source": [
    "rp=w_jk['data0']['rp']\n",
    "errorbar(rp,rp*w_jk['data0']['wgg'],rp*w_jk['data']['wgg_err'],fmt='bo')\n",
    "loglog()\n",
    "xlabel(r'$r_p$ (Mpc/h)')\n",
    "ylabel(r'$r_p w_{gg}$')"
   ]
  },
  {
   "cell_type": "code",
   "execution_count": 83,
   "metadata": {},
   "outputs": [
    {
     "data": {
      "text/plain": [
       "Text(0, 0.5, '$r_p w_{g\\\\kappa}$')"
      ]
     },
     "execution_count": 83,
     "metadata": {},
     "output_type": "execute_result"
    },
    {
     "data": {
      "image/png": "[encoded data removed]",
      "text/plain": [
       "<Figure size 432x288 with 1 Axes>"
      ]
     },
     "metadata": {
      "needs_background": "light"
     },
     "output_type": "display_data"
    }
   ],
   "source": [
    "rp=w_jk['data0']['rp']\n",
    "errorbar(rp,rp*w_jk['data0']['wgp'],rp*w_jk['data']['wgp_err'],fmt='bo')\n",
    "#loglog()\n",
    "xscale('log')\n",
    "xlabel(r'$r_p$ (Mpc/h)')\n",
    "ylabel(r'$r_p w_{g\\kappa}$')"
   ]
  },
  {
   "cell_type": "markdown",
   "metadata": {},
   "source": [
    "# Residual plots"
   ]
  },
  {
   "cell_type": "code",
   "execution_count": 84,
   "metadata": {},
   "outputs": [],
   "source": [
    "residsuse = 'NNfullresids'"
   ]
  },
  {
   "cell_type": "code",
   "execution_count": 85,
   "metadata": {},
   "outputs": [],
   "source": [
    "def calc_mean(xvar='',yvar='',data=[],data_cuts=None,rms=0,bins=None,N_bins=20,x_min=None,x_max=None,xlog=False,**kwargs):\n",
    "    \"\"\"\n",
    "    Compute the mean of y in bins of x.\n",
    "    \n",
    "    Arguments\n",
    "    ----------------\n",
    "    xvar: name of the x variable column\n",
    "    yvar: name of the y variable column\n",
    "    data: Dataset, can be a dict, astropy or pandas table or numpy named array\n",
    "    data_cuts: Any cuts to be applied on data. Boolean array. Useful for jackknife calculations\n",
    "    rms: if non-zero, compute rms instead of mean. quantity returned is <y**(rms+1)>^{1./(rms+1)}. rms can be any number.\n",
    "    bins: bin edges for the x axis to use. If None, we can compute it here using following arguments\n",
    "    N_bins: Number of bins\n",
    "    x_min: minimum value of x to use. If None, minimum from data[xvar] will be used\n",
    "    x_max: maximum value of x to use. If None, maximum from data[xvar] will be used\n",
    "    xlog: If True, use log bins in x. Otherwise linear bins are used.\n",
    "    \n",
    "    Returns:\n",
    "    bins: bin edges\n",
    "    bc: Bin centers\n",
    "    mean_y: mean value of y within bins\n",
    "    \"\"\"\n",
    "    datx=data[xvar]\n",
    "    daty=data[yvar]\n",
    "    if data_cuts is not None:\n",
    "        datx=datx[data_cuts]\n",
    "        daty=daty[data_cuts]\n",
    "    if bins is None:\n",
    "        if x_min is None:\n",
    "            x_min=min(datx)\n",
    "        if x_max is None:\n",
    "            x_max=max(datx)\n",
    "        if xlog:\n",
    "            bins=np.logspace(np.log10(x_min),np.log10(x_max),N_bins+1)\n",
    "        else:\n",
    "            bins=np.linspace(x_min,x_max,N_bins+1)\n",
    "    x_c,_=np.histogram(datx,bins=bins)\n",
    "    x_c=np.float64(x_c)\n",
    "    y_c,_=np.histogram(datx,weights=(daty**(rms+1.))/(rms+1),bins=bins)\n",
    "    mean_y=y_c/x_c\n",
    "    mean_y=mean_y**(1./(rms+1.))\n",
    "    bc=0.5*(bins[1:]+bins[:-1])\n",
    "    return bins,bc,mean_y"
   ]
  },
  {
   "cell_type": "code",
   "execution_count": 86,
   "metadata": {},
   "outputs": [],
   "source": [
    "def calc_mean_jk(mean_func=calc_mean,jk_col='jk',njk=None,xvar='',yvar='',data=[],data_cuts=None,rms=0,bins=None,N_bins=20,x_min=None,x_max=None,xlog=False,**kwargs):\n",
    "    \"\"\"\n",
    "    Compute the mean of y in bins of x, for every jackknife region. Returns a dict with calclations for all jackknife regions as well as the jackknife mean and covariance.\n",
    "    Arguments\n",
    "    ----------------\n",
    "    mean_func=calc_mean: function to use for computing mean values. \n",
    "    jk_col: jackknife column name\n",
    "    remaining arguments are same as calc_mean function above.\n",
    "    \n",
    "    returns:\n",
    "    \n",
    "    \"\"\"\n",
    "    if njk is None:\n",
    "        njk=max(data[jk_col])+1\n",
    "    njk=int(njk)\n",
    "    jkr=np.arange(njk)\n",
    "    means={}\n",
    "    bins,bins_center,means['full']=mean_func(xvar=xvar,yvar=yvar,data=data,data_cuts=data_cuts,rms=rms,bins=bins,N_bins=N_bins,x_min=x_min,x_max=x_max,xlog=xlog,**kwargs)\n",
    "    mean=np.zeros((njk,len(bins_center)))\n",
    "    dat_jk=data[jk_col]\n",
    "    for i in jkr:\n",
    "        x=dat_jk!=i\n",
    "        if data_cuts is not None:\n",
    "            x=np.logical_and(x,data_cuts)\n",
    "        bins,bins_center,mean[i]=mean_func(xvar=xvar,yvar=yvar,data=data,data_cuts=x,rms=rms,bins=bins,N_bins=N_bins,x_min=x_min,x_max=x_max,xlog=xlog,**kwargs)\n",
    "    means['regions']=mean\n",
    "    means['jk_mean']=np.mean(mean,axis=0)\n",
    "    means['jk_var']=np.var(mean,axis=0)*(njk-1)*(njk-1)/njk\n",
    "    means['jk_err']=np.sqrt(means['jk_var'])\n",
    "    return bins,bins_center,means"
   ]
  },
  {
   "cell_type": "code",
   "execution_count": 87,
   "metadata": {},
   "outputs": [
    {
     "data": {
      "image/png": "[encoded data removed]",
      "text/plain": [
       "<Figure size 432x288 with 2 Axes>"
      ]
     },
     "metadata": {
      "needs_background": "light"
     },
     "output_type": "display_data"
    }
   ],
   "source": [
    "bins,bc,m=calc_mean_jk(jk_col='jk',data=S_dat,xvar='mass',yvar=residsuse,xlog=True)\n",
    "\n",
    "_=hist2d(np.float64(S_dat['mass']),S_dat[residsuse],\n",
    "  bins=[np.float64(bins),np.linspace(-1.5,1.5,15)],\n",
    "  norm=LogNorm(),cmap='Reds')\n",
    "errorbar(bc,m['jk_mean'],m['jk_err'])\n",
    "xscale('log')\n",
    "xlabel('mass')\n",
    "ylabel(residsuse)\n",
    "colorbar()\n",
    "plt.show()"
   ]
  },
  {
   "cell_type": "code",
   "execution_count": 88,
   "metadata": {},
   "outputs": [
    {
     "data": {
      "image/png": "[encoded data removed]",
      "text/plain": [
       "<Figure size 432x288 with 1 Axes>"
      ]
     },
     "metadata": {
      "needs_background": "light"
     },
     "output_type": "display_data"
    },
    {
     "data": {
      "image/png": "[encoded data removed]",
      "text/plain": [
       "<Figure size 432x288 with 1 Axes>"
      ]
     },
     "metadata": {
      "needs_background": "light"
     },
     "output_type": "display_data"
    },
    {
     "data": {
      "image/png": "[encoded data removed]",
      "text/plain": [
       "<Figure size 432x288 with 1 Axes>"
      ]
     },
     "metadata": {
      "needs_background": "light"
     },
     "output_type": "display_data"
    },
    {
     "data": {
      "image/png": "[encoded data removed]",
      "text/plain": [
       "<Figure size 432x288 with 1 Axes>"
      ]
     },
     "metadata": {
      "needs_background": "light"
     },
     "output_type": "display_data"
    },
    {
     "name": "stderr",
     "output_type": "stream",
     "text": [
      "<ipython-input-85-a0da35c195f3>:40: RuntimeWarning: invalid value encountered in true_divide\n",
      "  mean_y=y_c/x_c\n"
     ]
    },
    {
     "data": {
      "image/png": "[encoded data removed]",
      "text/plain": [
       "<Figure size 432x288 with 1 Axes>"
      ]
     },
     "metadata": {
      "needs_background": "light"
     },
     "output_type": "display_data"
    },
    {
     "data": {
      "image/png": "[encoded data removed]",
      "text/plain": [
       "<Figure size 432x288 with 1 Axes>"
      ]
     },
     "metadata": {
      "needs_background": "light"
     },
     "output_type": "display_data"
    },
    {
     "data": {
      "image/png": "[encoded data removed]",
      "text/plain": [
       "<Figure size 432x288 with 1 Axes>"
      ]
     },
     "metadata": {
      "needs_background": "light"
     },
     "output_type": "display_data"
    }
   ],
   "source": [
    "vlist = {'mc_disk','g - r','r - i','e1','e2','gband Mag'}\n",
    "vlist = predsscl\n",
    "\n",
    "for vname in vlist:\n",
    "    bins,bc,m=calc_mean_jk(jk_col='jk',data=S_dat,xvar=vname,yvar=residsuse,xlog=False)\n",
    "\n",
    "    #_=hist2d(np.float64(S_dat[vname]),S_dat['PPRresids'],\n",
    "    #  bins=[np.float64(bins),np.linspace(-1.5,1.5,15)],\n",
    "    #  norm=LogNorm(),cmap='Reds')\n",
    "    errorbar(bc,m['jk_mean'],m['jk_err'])\n",
    "    hlines(0,bc[0],bc[-1])\n",
    "    xlabel(vname)\n",
    "    ylabel(residsuse)\n",
    "    #colorbar()\n",
    "    plt.show()"
   ]
  },
  {
   "cell_type": "code",
   "execution_count": 89,
   "metadata": {},
   "outputs": [
    {
     "data": {
      "image/png": "[encoded data removed]",
      "text/plain": [
       "<Figure size 432x288 with 2 Axes>"
      ]
     },
     "metadata": {
      "needs_background": "light"
     },
     "output_type": "display_data"
    },
    {
     "data": {
      "image/png": "[encoded data removed]",
      "text/plain": [
       "<Figure size 432x288 with 2 Axes>"
      ]
     },
     "metadata": {
      "needs_background": "light"
     },
     "output_type": "display_data"
    },
    {
     "data": {
      "image/png": "[encoded data removed]",
      "text/plain": [
       "<Figure size 432x288 with 2 Axes>"
      ]
     },
     "metadata": {
      "needs_background": "light"
     },
     "output_type": "display_data"
    },
    {
     "data": {
      "image/png": "[encoded data removed]",
      "text/plain": [
       "<Figure size 432x288 with 2 Axes>"
      ]
     },
     "metadata": {
      "needs_background": "light"
     },
     "output_type": "display_data"
    },
    {
     "name": "stderr",
     "output_type": "stream",
     "text": [
      "<ipython-input-85-a0da35c195f3>:40: RuntimeWarning: invalid value encountered in true_divide\n",
      "  mean_y=y_c/x_c\n"
     ]
    },
    {
     "data": {
      "image/png": "[encoded data removed]",
      "text/plain": [
       "<Figure size 432x288 with 2 Axes>"
      ]
     },
     "metadata": {
      "needs_background": "light"
     },
     "output_type": "display_data"
    },
    {
     "data": {
      "image/png": "[encoded data removed]",
      "text/plain": [
       "<Figure size 432x288 with 2 Axes>"
      ]
     },
     "metadata": {
      "needs_background": "light"
     },
     "output_type": "display_data"
    },
    {
     "data": {
      "image/png": "[encoded data removed]",
      "text/plain": [
       "<Figure size 432x288 with 2 Axes>"
      ]
     },
     "metadata": {
      "needs_background": "light"
     },
     "output_type": "display_data"
    }
   ],
   "source": [
    "vlist = {'f_disk','g - r','r - i','e1','e2','gband Mag'}\n",
    "vlist = predsscl\n",
    "\n",
    "for vname in vlist:\n",
    "    bins,bc,m=calc_mean_jk(jk_col='jk',data=S_dat,xvar=vname,yvar=residsuse,xlog=False)\n",
    "\n",
    "    _=hist2d(np.float64(S_dat[vname]),S_dat[residsuse],\n",
    "      bins=[np.float64(bins),np.linspace(-1.5,1.5,15)],\n",
    "      norm=LogNorm(),cmap='Reds')\n",
    "    errorbar(bc,m['jk_mean'],m['jk_err'])\n",
    "    hlines(0,bc[0],bc[-1])\n",
    "    xlabel(vname)\n",
    "    ylabel(residsuse)\n",
    "    colorbar()\n",
    "    plt.show()"
   ]
  },
  {
   "cell_type": "markdown",
   "metadata": {},
   "source": [
    "# RMSE"
   ]
  },
  {
   "cell_type": "code",
   "execution_count": 90,
   "metadata": {},
   "outputs": [
    {
     "name": "stdout",
     "output_type": "stream",
     "text": [
      "RMSE PPR on test set:\n",
      "0.267279821852352\n",
      "RMSE PPR on training set:\n",
      "0.2579194851349825\n"
     ]
    }
   ],
   "source": [
    "print(\"RMSE PPR on test set:\")\n",
    "print(sqrt(mean((PPRfitsontest-test_labels)**2)))\n",
    "\n",
    "print(\"RMSE PPR on training set:\")\n",
    "print(sqrt(mean(residuals**2)))"
   ]
  },
  {
   "cell_type": "code",
   "execution_count": null,
   "metadata": {},
   "outputs": [],
   "source": [
    "plt.figure(figsize=[5,5])\n",
    "hist2d(x=PPRfitsontest,\n",
    "       y=test_labels,\n",
    "         bins=200,\n",
    "         norm=matplotlib.colors.LogNorm())\n",
    "plt.title('Projection Pursuit Performance')\n",
    "plt.ylabel('Test Set Response',size=12)\n",
    "plt.xlabel('Test Set Fitted Values',size=12)\n",
    "plt.plot([-100, 100], [-100, 100], 'b-')\n",
    "plt.xlim(-1.5,3)\n",
    "plt.ylim(-1.5,3)\n",
    "\n",
    "plt.show()"
   ]
  },
  {
   "cell_type": "code",
   "execution_count": null,
   "metadata": {},
   "outputs": [],
   "source": [
    "print(\"RMSE NN on test set:\")\n",
    "print(sqrt(mean((NNfitsontest-test_labels)**2)))\n",
    "\n",
    "print(\"RMSE NN on training set:\")\n",
    "print(sqrt(mean((NNfitsontrain-train_labels)**2)))"
   ]
  },
  {
   "cell_type": "code",
   "execution_count": null,
   "metadata": {},
   "outputs": [],
   "source": [
    "plt.figure(figsize=[5,5])\n",
    "hist2d(x=NNfitsontest,\n",
    "       y=test_labels,\n",
    "         bins=200,\n",
    "         norm=matplotlib.colors.LogNorm())\n",
    "plt.title('Neural Network Performance')\n",
    "plt.ylabel('Test Set Response',size=12)\n",
    "plt.xlabel('Test Set Fitted Values',size=12)\n",
    "plt.plot([-100, 100], [-100, 100], 'b-')\n",
    "plt.xlim(-1.5,3)\n",
    "plt.ylim(-1.5,3)\n",
    "\n",
    "plt.show()"
   ]
  }
 ],
 "metadata": {
  "celltoolbar": "Tags",
  "kernelspec": {
   "display_name": "Python 3",
   "language": "python",
   "name": "python3"
  },
  "language_info": {
   "codemirror_mode": {
    "name": "ipython",
    "version": 3
   },
   "file_extension": ".py",
   "mimetype": "text/x-python",
   "name": "python",
   "nbconvert_exporter": "python",
   "pygments_lexer": "ipython3",
   "version": "3.8.3"
  }
 },
 "nbformat": 4,
 "nbformat_minor": 5
}
