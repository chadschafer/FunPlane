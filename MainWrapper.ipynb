{
 "cells": [
  {
   "cell_type": "markdown",
   "metadata": {},
   "source": [
    "This is the primary starting point for the analysis.\n",
    "\n",
    "The `primary_notebook` is read in, and then edited prior to being executed.\n",
    "\n",
    "At the top of `primary_notebook`, there are a series of cells that hold the different settings for the different runs.\n",
    "\n",
    "This code identifies a cell in `primary_notebook` as being a settings cell by checking to see if it contains the identifiers `runname` and `PPRpredsuse`.\n",
    "\n",
    "By adjusting `runlist` in this notebook, you are specifying which of these settings cells you want to utilize. Regardless of their cell numbers in `primary_notebook`, these settings cells are numbered 0, 1, and so forth.\n",
    "\n",
    "So, for example, if `runlist` is set to be `range(7)`, then settings cells 0, 1,..., 6 will be run.\n",
    "\n",
    "The argument `addlabel` can be used to add a tag onto the resulting file names."
   ]
  },
  {
   "cell_type": "code",
   "execution_count": 1,
   "metadata": {},
   "outputs": [],
   "source": [
    "import time"
   ]
  },
  {
   "cell_type": "code",
   "execution_count": 2,
   "metadata": {},
   "outputs": [],
   "source": [
    "runlist = [1,5,6]\n",
    "runlist = [8]\n",
    "runlist = [6]\n",
    "\n",
    "addlabel =\"mass9\""
   ]
  },
  {
   "cell_type": "markdown",
   "metadata": {},
   "source": [
    "`primary_notebook` holds the template for the analysis."
   ]
  },
  {
   "cell_type": "code",
   "execution_count": 3,
   "metadata": {},
   "outputs": [],
   "source": [
    "primary_notebook = \"./Fit Models-Primary.ipynb\""
   ]
  },
  {
   "cell_type": "markdown",
   "metadata": {},
   "source": [
    "Read in the notebook."
   ]
  },
  {
   "cell_type": "code",
   "execution_count": 4,
   "metadata": {
    "scrolled": true
   },
   "outputs": [],
   "source": [
    "import nbformat\n",
    "from nbconvert.preprocessors import ExecutePreprocessor"
   ]
  },
  {
   "cell_type": "code",
   "execution_count": 5,
   "metadata": {},
   "outputs": [],
   "source": [
    "with open(primary_notebook) as f:\n",
    "    nb = nbformat.read(f, as_version=4)"
   ]
  },
  {
   "cell_type": "markdown",
   "metadata": {},
   "source": [
    "Parse the file to find the number of available runs, and their names."
   ]
  },
  {
   "cell_type": "code",
   "execution_count": 6,
   "metadata": {},
   "outputs": [
    {
     "name": "stdout",
     "output_type": "stream",
     "text": [
      "['Mags', 'MagsColors', 'MagsColorsTrueMass', 'MagsColorsTruesigmav', 'MagsColorsTrueSFR', 'MagsColorsTrueCS', 'MagsColorsPredCS', 'MagsColorsPredCSDens', 'MagsColorsGalDens2D', 'MagsColorsGalDens3D', 'MagsColorsTrueAll']\n",
      "[4, 5, 7, 8, 9, 10, 11, 12, 13, 14, 15]\n"
     ]
    }
   ],
   "source": [
    "runnames = []\n",
    "runcells = []\n",
    "\n",
    "for cellno in range(100):\n",
    "    if(('runname' in nb['cells'][cellno]['source']) & \\\n",
    "       ('PPRpredsuse' in nb['cells'][cellno]['source'])):\n",
    "        runname = str.split(nb['cells'][cellno]['source'],'\"')[1]\n",
    "        runnames.append(str.split(nb['cells'][cellno]['source'],'\"')[1])\n",
    "        runcells.append(cellno)\n",
    "        nb['cells'][cellno]['cell_type'] = 'raw'\n",
    "        \n",
    "print(runnames)\n",
    "print(runcells)"
   ]
  },
  {
   "cell_type": "code",
   "execution_count": 7,
   "metadata": {},
   "outputs": [],
   "source": [
    "ep = ExecutePreprocessor(timeout=600, kernel_name='python3')"
   ]
  },
  {
   "cell_type": "code",
   "execution_count": 8,
   "metadata": {},
   "outputs": [
    {
     "name": "stdout",
     "output_type": "stream",
     "text": [
      "Will run MagsColorsPredCS\n"
     ]
    }
   ],
   "source": [
    "for runnumtouse in runlist:\n",
    "    print(\"Will run\",runnames[runnumtouse])"
   ]
  },
  {
   "cell_type": "code",
   "execution_count": 9,
   "metadata": {},
   "outputs": [
    {
     "name": "stdout",
     "output_type": "stream",
     "text": [
      "Running MagsColorsPredCS\n",
      "Time to run: 7.71 minutes\n",
      "\n"
     ]
    }
   ],
   "source": [
    "for runnumtouse in runlist:\n",
    "    ts = time.time()\n",
    "    print(\"Running\",runnames[runnumtouse])\n",
    "    nb['cells'][runcells[runnumtouse]]['cell_type'] = 'code'\n",
    "    ep.preprocess(nb)\n",
    "    with open(\"executed_notebook_\"+runnames[runnumtouse]+\"_\"+addlabel+\".ipynb\", \\\n",
    "              'w', encoding='utf-8') as f:\n",
    "        nbformat.write(nb, f)\n",
    "    nb['cells'][runcells[runnumtouse]]['cell_type'] = 'raw'\n",
    "    print('Time to run:',round((time.time()-ts)/60,2),'minutes')\n",
    "    print(\"\")"
   ]
  },
  {
   "cell_type": "code",
   "execution_count": null,
   "metadata": {},
   "outputs": [],
   "source": []
  }
 ],
 "metadata": {
  "kernelspec": {
   "display_name": "Python 3",
   "language": "python",
   "name": "python3"
  },
  "language_info": {
   "codemirror_mode": {
    "name": "ipython",
    "version": 3
   },
   "file_extension": ".py",
   "mimetype": "text/x-python",
   "name": "python",
   "nbconvert_exporter": "python",
   "pygments_lexer": "ipython3",
   "version": "3.8.3"
  }
 },
 "nbformat": 4,
 "nbformat_minor": 4
}
