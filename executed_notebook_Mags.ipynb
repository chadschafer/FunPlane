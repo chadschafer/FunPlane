{
 "cells": [
  {
   "cell_type": "markdown",
   "metadata": {},
   "source": [
    "# Basic settings"
   ]
  },
  {
   "cell_type": "markdown",
   "metadata": {},
   "source": [
    "### Settings that define the different runs\n",
    "\n",
    "Each cell contains one run settings. These should all be coded as \"Raw NBConvert\" cells. The wrapper function will pull out the appropriate settings and run the full notebook, and finally save the output as a separate Jupyter notebook."
   ]
  },
  {
   "cell_type": "code",
   "execution_count": 1,
   "metadata": {},
   "outputs": [],
   "source": [
    "runname = \"Mags\"\n",
    "\n",
    "PPRpredsuse = ['rband Mag','gband Mag','iband Mag','zband Mag']\n",
    "NNpredsuse = PPRpredsuse\n",
    "\n",
    "predsscl = ['rband Mag','gband Mag','iband Mag','zband Mag']"
   ]
  },
  {
   "cell_type": "raw",
   "metadata": {},
   "source": [
    "runname = \"MagsColors\"\n",
    "\n",
    "PPRpredsuse = ['rband Mag','gband Mag','iband Mag','zband Mag','g - r','r - i','i - z']\n",
    "\n",
    "NNpredsuse = PPRpredsuse\n",
    "\n",
    "predsscl = ['rband Mag','gband Mag','iband Mag','zband Mag','g - r','r - i','i - z']"
   ]
  },
  {
   "cell_type": "raw",
   "metadata": {},
   "source": [
    "# I intentionally changed the name to runnname so that this cell would be skipped.\n",
    "\n",
    "runnname = \"MagsColorsPPRresp\"\n",
    "\n",
    "PPRpredsuse = ['rband Mag','gband Mag','iband Mag','zband Mag','g - r','r - i','i - z']\n",
    "\n",
    "NNpredsuse = PPRpredsuse\n",
    "for i in range(ruse):\n",
    "    NNpredsuse = NNpredsuse + ['PPRcompsplit' + chr(i+ord('0'))]\n",
    "    \n",
    "predsscl = ['rband Mag','gband Mag','iband Mag','zband Mag','g - r','r - i','i - z']"
   ]
  },
  {
   "cell_type": "raw",
   "metadata": {},
   "source": [
    "runname = \"MagsColorsTrueMass\"\n",
    "\n",
    "PPRpredsuse = ['rband Mag','gband Mag','iband Mag','zband Mag','g - r','r - i','i - z', 'log galaxy_mass']\n",
    "\n",
    "NNpredsuse = PPRpredsuse\n",
    "\n",
    "predsscl = ['rband Mag','gband Mag','iband Mag','zband Mag','g - r','r - i','i - z','log galaxy_mass']"
   ]
  },
  {
   "cell_type": "raw",
   "metadata": {},
   "source": [
    "runname = \"MagsColorsTruesigmav\"\n",
    "\n",
    "PPRpredsuse = ['rband Mag','gband Mag','iband Mag','zband Mag','g - r','r - i','i - z', 'log sigma_v','small sigma_v']\n",
    "\n",
    "NNpredsuse = PPRpredsuse\n",
    "\n",
    "predsscl = ['rband Mag','gband Mag','iband Mag','zband Mag','g - r','r - i','i - z','log sigma_v']"
   ]
  },
  {
   "cell_type": "raw",
   "metadata": {},
   "source": [
    "runname = \"MagsColorsTrueSFR\"\n",
    "\n",
    "PPRpredsuse = ['rband Mag','gband Mag','iband Mag','zband Mag','g - r','r - i','i - z', 'log SubhaloSFR', 'SubhaloSFRZero']\n",
    "\n",
    "NNpredsuse = PPRpredsuse\n",
    "\n",
    "predsscl = ['rband Mag','gband Mag','iband Mag','zband Mag','g - r','r - i','i - z','log SubhaloSFR']"
   ]
  },
  {
   "cell_type": "raw",
   "metadata": {},
   "source": [
    "runname = \"MagsColorsTrueCS\"\n",
    "\n",
    "PPRpredsuse = ['rband Mag','gband Mag','iband Mag','zband Mag','g - r','r - i','i - z','central_bool']\n",
    "\n",
    "NNpredsuse = PPRpredsuse\n",
    "\n",
    "predsscl = ['rband Mag','gband Mag','iband Mag','zband Mag','g - r','r - i','i - z']"
   ]
  },
  {
   "cell_type": "raw",
   "metadata": {},
   "source": [
    "runname = \"MagsColorsTrueAll\"\n",
    "\n",
    "PPRpredsuse = ['log galaxy_mass','log sigma_v','rband Mag','gband Mag','iband Mag',\n",
    "            'zband Mag', 'g - r','r - i','i - z',\n",
    "            'log SubhaloSFR', 'SubhaloSFRZero','central_bool','mc_disk','small sigma_v']\n",
    "\n",
    "NNpredsuse = PPRpredsuse\n",
    "\n",
    "predsscl = ['rband Mag','gband Mag','iband Mag','zband Mag','g - r','r - i','i - z','log SubhaloSFR','log sigma_v','log galaxy_mass','mc_disk']"
   ]
  },
  {
   "cell_type": "raw",
   "metadata": {},
   "source": [
    "predsuse = ['log galaxy_mass','log sigma_v','rband Mag','gband Mag','iband Mag',\n",
    "            'zband Mag', 'g - r','r - i','i - z',\n",
    "            'log SubhaloSFR', 'SubhaloSFRZero','central_bool','mc_disk','small sigma_v']"
   ]
  },
  {
   "cell_type": "code",
   "execution_count": 2,
   "metadata": {},
   "outputs": [],
   "source": [
    "file_dir='./temp/ChadAnalyses/'+runname+'/'"
   ]
  },
  {
   "cell_type": "markdown",
   "metadata": {},
   "source": [
    "This is the end of settings cells."
   ]
  },
  {
   "cell_type": "code",
   "execution_count": 3,
   "metadata": {},
   "outputs": [],
   "source": [
    "%%capture ReportOutput\n",
    "\n",
    "print(\"\\n----------------------------------------------------\")\n",
    "print(\"Output files stored in:\")\n",
    "print(file_dir)\n",
    "print(\"\\n----------------------------------------------------\")\n",
    "print(\"Predictors Used in Projection Pursuit Model:\")\n",
    "print(PPRpredsuse)\n",
    "print(\"\\n----------------------------------------------------\")\n",
    "print(\"Predictors Used in Neural Network Model:\")\n",
    "print(NNpredsuse)"
   ]
  },
  {
   "cell_type": "markdown",
   "metadata": {},
   "source": [
    "### Settings that are fixed across runs"
   ]
  },
  {
   "cell_type": "code",
   "execution_count": 4,
   "metadata": {},
   "outputs": [],
   "source": [
    "# This controls the number of projection functions in the PPR\n",
    "ruse = 5\n",
    "\n",
    "traintestseed = 1\n",
    "\n",
    "epochs=500\n",
    "\n",
    "learning_rate = 0.001\n",
    "\n",
    "decay_rate = learning_rate / epochs\n",
    "\n",
    "momentum = 0.8\n"
   ]
  },
  {
   "cell_type": "markdown",
   "metadata": {},
   "source": [
    "These are the \"quick\" settings. They are designed to allow the user to more rapidly verify that there are not bugs in the setup."
   ]
  },
  {
   "cell_type": "raw",
   "metadata": {},
   "source": [
    "ruse = 1\n",
    "\n",
    "traintestseed = 1\n",
    "\n",
    "epochs=2\n",
    "\n",
    "learning_rate = 0.001\n",
    "\n",
    "decay_rate = learning_rate / epochs\n",
    "\n",
    "momentum = 0.8"
   ]
  },
  {
   "cell_type": "code",
   "execution_count": 5,
   "metadata": {},
   "outputs": [],
   "source": [
    "%%capture ReportOutput\n",
    "\n",
    "ReportOutput()\n",
    "\n",
    "print(\"\\n----------------------------------------------------\")\n",
    "print(\"Number of projection functions in PPR:\",ruse)\n",
    "print(\"\\n----------------------------------------------------\")\n",
    "print(\"Seed used in train/test split:\",traintestseed)"
   ]
  },
  {
   "cell_type": "markdown",
   "metadata": {},
   "source": [
    "# Import Packages"
   ]
  },
  {
   "cell_type": "code",
   "execution_count": 6,
   "metadata": {},
   "outputs": [
    {
     "name": "stdout",
     "output_type": "stream",
     "text": [
      "Populating the interactive namespace from numpy and matplotlib\n"
     ]
    }
   ],
   "source": [
    "%pylab inline\n",
    "\n",
    "import illustris_python as il\n",
    "import pandas as pd\n",
    "import pickle\n",
    "\n",
    "import os\n",
    "\n",
    "from astropy.table import Table\n",
    "\n",
    "from matplotlib.colors import LogNorm"
   ]
  },
  {
   "cell_type": "code",
   "execution_count": 7,
   "metadata": {},
   "outputs": [],
   "source": [
    "basePath= '/hildafs/datasets/IllustrisTNG/TNG100-1/output'\n",
    "snapNum=99 #refers to final snapshot, redshift of zero"
   ]
  },
  {
   "cell_type": "markdown",
   "metadata": {},
   "source": [
    "# Create the combined catalog"
   ]
  },
  {
   "cell_type": "markdown",
   "metadata": {},
   "source": [
    "Start with data from the base Illustris catalog.\n",
    "\n",
    "See https://www.tng-project.org/data/docs/specifications/#sec2b"
   ]
  },
  {
   "cell_type": "markdown",
   "metadata": {},
   "source": [
    "These are the fields that will be extracted from this catalog."
   ]
  },
  {
   "cell_type": "code",
   "execution_count": 8,
   "metadata": {},
   "outputs": [],
   "source": [
    "addvariables = ['SubhaloBHMass','SubhaloGasMetallicity','SubhaloSFR',\n",
    "                'SubhaloStarMetallicity','SubhaloVmax']"
   ]
  },
  {
   "cell_type": "code",
   "execution_count": 9,
   "metadata": {},
   "outputs": [],
   "source": [
    "fields = ['SubhaloGrNr',\n",
    "          'SubhaloFlag',\n",
    "          'SubhaloMassType',\n",
    "          'SubhaloPos',\n",
    "          'SubhaloStellarPhotometrics',\n",
    "          'SubhaloMassInHalfRad',\n",
    "          'SubhaloHalfmassRad',\n",
    "          'SubhaloHalfmassRadType'] + addvariables"
   ]
  },
  {
   "cell_type": "code",
   "execution_count": 10,
   "metadata": {},
   "outputs": [],
   "source": [
    "subhalos=il.groupcat.loadSubhalos(basePath,snapNum,fields=fields)"
   ]
  },
  {
   "cell_type": "markdown",
   "metadata": {},
   "source": [
    "This is here just for reference:\n",
    "\n",
    "0. PartType0 - GAS\n",
    "1. PartType1 - DM\n",
    "2. PartType2 - (unused)\n",
    "3. PartType3 - TRACERS\n",
    "4. PartType4 - STARS & WIND PARTICLES\n",
    "5. PartType5 - BLACK HOLES"
   ]
  },
  {
   "cell_type": "markdown",
   "metadata": {},
   "source": [
    "### Read in additional catalogs"
   ]
  },
  {
   "cell_type": "markdown",
   "metadata": {},
   "source": [
    "THIS SEEMS TO BE UNNECESSARY. EVERYTHING IN HERE APPEARS TO BE IN THE FULL CATALOG BELOW.\n",
    "The shape catalog. Note that this catalog already comes in with a mass cut of `10**10 M_sun`."
   ]
  },
  {
   "cell_type": "code",
   "execution_count": 11,
   "metadata": {},
   "outputs": [],
   "source": [
    "#df_non_red_100_subfind_shapes = pd.DataFrame(\n",
    "#    pickle.load(open('/hildafs/datasets/IllustrisTNG/TNG100-1/df_non_red_100_subfind_mass-cut10', \"rb\" ) ))\n",
    "#df_non_red_100_subfind_shapes.shape"
   ]
  },
  {
   "cell_type": "markdown",
   "metadata": {},
   "source": [
    "The velocity dispersion catalog."
   ]
  },
  {
   "cell_type": "code",
   "execution_count": 12,
   "metadata": {
    "scrolled": true
   },
   "outputs": [
    {
     "name": "stdout",
     "output_type": "stream",
     "text": [
      "(20051, 5)\n"
     ]
    },
    {
     "data": {
      "text/html": [
       "<div>\n",
       "<style scoped>\n",
       "    .dataframe tbody tr th:only-of-type {\n",
       "        vertical-align: middle;\n",
       "    }\n",
       "\n",
       "    .dataframe tbody tr th {\n",
       "        vertical-align: top;\n",
       "    }\n",
       "\n",
       "    .dataframe thead th {\n",
       "        text-align: right;\n",
       "    }\n",
       "</style>\n",
       "<table border=\"1\" class=\"dataframe\">\n",
       "  <thead>\n",
       "    <tr style=\"text-align: right;\">\n",
       "      <th></th>\n",
       "      <th>gal_id</th>\n",
       "      <th>Lx</th>\n",
       "      <th>Ly</th>\n",
       "      <th>Lz</th>\n",
       "      <th>sigma_v</th>\n",
       "    </tr>\n",
       "  </thead>\n",
       "  <tbody>\n",
       "    <tr>\n",
       "      <th>0</th>\n",
       "      <td>0.0</td>\n",
       "      <td>-9.085662</td>\n",
       "      <td>-7.872045</td>\n",
       "      <td>-4.559502</td>\n",
       "      <td>374.378662</td>\n",
       "    </tr>\n",
       "    <tr>\n",
       "      <th>1</th>\n",
       "      <td>1.0</td>\n",
       "      <td>1.795185</td>\n",
       "      <td>-0.857926</td>\n",
       "      <td>1.563985</td>\n",
       "      <td>214.005508</td>\n",
       "    </tr>\n",
       "    <tr>\n",
       "      <th>2</th>\n",
       "      <td>2.0</td>\n",
       "      <td>0.620052</td>\n",
       "      <td>2.585010</td>\n",
       "      <td>0.742175</td>\n",
       "      <td>196.719849</td>\n",
       "    </tr>\n",
       "    <tr>\n",
       "      <th>3</th>\n",
       "      <td>3.0</td>\n",
       "      <td>0.292968</td>\n",
       "      <td>-0.387597</td>\n",
       "      <td>-1.368885</td>\n",
       "      <td>106.750359</td>\n",
       "    </tr>\n",
       "    <tr>\n",
       "      <th>4</th>\n",
       "      <td>4.0</td>\n",
       "      <td>-0.058817</td>\n",
       "      <td>0.112009</td>\n",
       "      <td>-0.858557</td>\n",
       "      <td>116.125282</td>\n",
       "    </tr>\n",
       "  </tbody>\n",
       "</table>\n",
       "</div>"
      ],
      "text/plain": [
       "   gal_id        Lx        Ly        Lz     sigma_v\n",
       "0     0.0 -9.085662 -7.872045 -4.559502  374.378662\n",
       "1     1.0  1.795185 -0.857926  1.563985  214.005508\n",
       "2     2.0  0.620052  2.585010  0.742175  196.719849\n",
       "3     3.0  0.292968 -0.387597 -1.368885  106.750359\n",
       "4     4.0 -0.058817  0.112009 -0.858557  116.125282"
      ]
     },
     "execution_count": 12,
     "metadata": {},
     "output_type": "execute_result"
    }
   ],
   "source": [
    "df_non_red_100_subfind_sigma_v = pd.DataFrame(pickle.load(\n",
    "    open('/hildafs/datasets/IllustrisTNG/TNG100-1/TNG100-1_99_galaxy_vel_disp_100.0.p', \n",
    "         \"rb\" ) ))\n",
    "\n",
    "print(df_non_red_100_subfind_sigma_v.shape)\n",
    "df_non_red_100_subfind_sigma_v.head()"
   ]
  },
  {
   "cell_type": "markdown",
   "metadata": {},
   "source": [
    "The \"full\" catalog."
   ]
  },
  {
   "cell_type": "code",
   "execution_count": 13,
   "metadata": {
    "scrolled": true
   },
   "outputs": [
    {
     "name": "stdout",
     "output_type": "stream",
     "text": [
      "(20051, 114)\n"
     ]
    },
    {
     "data": {
      "text/html": [
       "<div>\n",
       "<style scoped>\n",
       "    .dataframe tbody tr th:only-of-type {\n",
       "        vertical-align: middle;\n",
       "    }\n",
       "\n",
       "    .dataframe tbody tr th {\n",
       "        vertical-align: top;\n",
       "    }\n",
       "\n",
       "    .dataframe thead th {\n",
       "        text-align: right;\n",
       "    }\n",
       "</style>\n",
       "<table border=\"1\" class=\"dataframe\">\n",
       "  <thead>\n",
       "    <tr style=\"text-align: right;\">\n",
       "      <th></th>\n",
       "      <th>gal_id</th>\n",
       "      <th>f_disk</th>\n",
       "      <th>int_disk_thin</th>\n",
       "      <th>int_disk_thick</th>\n",
       "      <th>int_disk_counter_exp2</th>\n",
       "      <th>chisq_exp2</th>\n",
       "      <th>int_disk_exp1</th>\n",
       "      <th>int_disk_counter_exp1</th>\n",
       "      <th>chisq_exp1</th>\n",
       "      <th>mc_disk</th>\n",
       "      <th>...</th>\n",
       "      <th>bv_z</th>\n",
       "      <th>cv_x</th>\n",
       "      <th>cv_y</th>\n",
       "      <th>cv_z</th>\n",
       "      <th>mass</th>\n",
       "      <th>gal_pos_x</th>\n",
       "      <th>gal_pos_y</th>\n",
       "      <th>gal_pos_z</th>\n",
       "      <th>e1</th>\n",
       "      <th>e2</th>\n",
       "    </tr>\n",
       "  </thead>\n",
       "  <tbody>\n",
       "    <tr>\n",
       "      <th>0</th>\n",
       "      <td>0.0</td>\n",
       "      <td>0.102826</td>\n",
       "      <td>1.120683e-11</td>\n",
       "      <td>0.252965</td>\n",
       "      <td>0.090781</td>\n",
       "      <td>69.553006</td>\n",
       "      <td>0.359817</td>\n",
       "      <td>0.198626</td>\n",
       "      <td>54.325447</td>\n",
       "      <td>0.229510</td>\n",
       "      <td>...</td>\n",
       "      <td>0.377225</td>\n",
       "      <td>0.782535</td>\n",
       "      <td>0.612006</td>\n",
       "      <td>0.114402</td>\n",
       "      <td>3.705585e+12</td>\n",
       "      <td>0.849091</td>\n",
       "      <td>26.326996</td>\n",
       "      <td>18.306934</td>\n",
       "      <td>-0.109703</td>\n",
       "      <td>-0.157248</td>\n",
       "    </tr>\n",
       "    <tr>\n",
       "      <th>1</th>\n",
       "      <td>1.0</td>\n",
       "      <td>0.073827</td>\n",
       "      <td>5.167568e-03</td>\n",
       "      <td>0.082322</td>\n",
       "      <td>0.064100</td>\n",
       "      <td>287.146480</td>\n",
       "      <td>0.208253</td>\n",
       "      <td>0.173610</td>\n",
       "      <td>272.848191</td>\n",
       "      <td>0.084007</td>\n",
       "      <td>...</td>\n",
       "      <td>0.469768</td>\n",
       "      <td>-0.159400</td>\n",
       "      <td>0.476258</td>\n",
       "      <td>-0.864737</td>\n",
       "      <td>5.587917e+11</td>\n",
       "      <td>0.106473</td>\n",
       "      <td>24.633322</td>\n",
       "      <td>16.900553</td>\n",
       "      <td>0.295580</td>\n",
       "      <td>0.009956</td>\n",
       "    </tr>\n",
       "    <tr>\n",
       "      <th>2</th>\n",
       "      <td>2.0</td>\n",
       "      <td>0.104297</td>\n",
       "      <td>5.651366e-02</td>\n",
       "      <td>0.208010</td>\n",
       "      <td>0.100389</td>\n",
       "      <td>63.551982</td>\n",
       "      <td>0.203645</td>\n",
       "      <td>0.071742</td>\n",
       "      <td>77.861395</td>\n",
       "      <td>0.237992</td>\n",
       "      <td>...</td>\n",
       "      <td>-0.293690</td>\n",
       "      <td>0.135702</td>\n",
       "      <td>0.904910</td>\n",
       "      <td>0.403390</td>\n",
       "      <td>6.271396e+11</td>\n",
       "      <td>0.853112</td>\n",
       "      <td>26.725748</td>\n",
       "      <td>17.510679</td>\n",
       "      <td>0.026402</td>\n",
       "      <td>-0.016790</td>\n",
       "    </tr>\n",
       "    <tr>\n",
       "      <th>3</th>\n",
       "      <td>3.0</td>\n",
       "      <td>0.293960</td>\n",
       "      <td>3.609416e-01</td>\n",
       "      <td>0.187110</td>\n",
       "      <td>0.037387</td>\n",
       "      <td>72.289555</td>\n",
       "      <td>0.448154</td>\n",
       "      <td>0.028169</td>\n",
       "      <td>967.551351</td>\n",
       "      <td>0.564971</td>\n",
       "      <td>...</td>\n",
       "      <td>-0.012360</td>\n",
       "      <td>-0.111798</td>\n",
       "      <td>0.556926</td>\n",
       "      <td>0.823003</td>\n",
       "      <td>1.715515e+11</td>\n",
       "      <td>0.245455</td>\n",
       "      <td>26.517372</td>\n",
       "      <td>15.888749</td>\n",
       "      <td>-0.066341</td>\n",
       "      <td>-0.033003</td>\n",
       "    </tr>\n",
       "    <tr>\n",
       "      <th>4</th>\n",
       "      <td>4.0</td>\n",
       "      <td>0.158796</td>\n",
       "      <td>7.771672e-02</td>\n",
       "      <td>0.102280</td>\n",
       "      <td>0.022292</td>\n",
       "      <td>72.560206</td>\n",
       "      <td>0.135537</td>\n",
       "      <td>0.005955</td>\n",
       "      <td>184.095625</td>\n",
       "      <td>0.199667</td>\n",
       "      <td>...</td>\n",
       "      <td>0.015853</td>\n",
       "      <td>-0.002944</td>\n",
       "      <td>-0.163988</td>\n",
       "      <td>0.986458</td>\n",
       "      <td>1.333404e+11</td>\n",
       "      <td>0.768784</td>\n",
       "      <td>26.518290</td>\n",
       "      <td>15.530523</td>\n",
       "      <td>-0.028562</td>\n",
       "      <td>0.007162</td>\n",
       "    </tr>\n",
       "  </tbody>\n",
       "</table>\n",
       "<p>5 rows × 114 columns</p>\n",
       "</div>"
      ],
      "text/plain": [
       "   gal_id    f_disk  int_disk_thin  int_disk_thick  int_disk_counter_exp2  \\\n",
       "0     0.0  0.102826   1.120683e-11        0.252965               0.090781   \n",
       "1     1.0  0.073827   5.167568e-03        0.082322               0.064100   \n",
       "2     2.0  0.104297   5.651366e-02        0.208010               0.100389   \n",
       "3     3.0  0.293960   3.609416e-01        0.187110               0.037387   \n",
       "4     4.0  0.158796   7.771672e-02        0.102280               0.022292   \n",
       "\n",
       "   chisq_exp2  int_disk_exp1  int_disk_counter_exp1  chisq_exp1   mc_disk  \\\n",
       "0   69.553006       0.359817               0.198626   54.325447  0.229510   \n",
       "1  287.146480       0.208253               0.173610  272.848191  0.084007   \n",
       "2   63.551982       0.203645               0.071742   77.861395  0.237992   \n",
       "3   72.289555       0.448154               0.028169  967.551351  0.564971   \n",
       "4   72.560206       0.135537               0.005955  184.095625  0.199667   \n",
       "\n",
       "   ...      bv_z      cv_x      cv_y      cv_z          mass  gal_pos_x  \\\n",
       "0  ...  0.377225  0.782535  0.612006  0.114402  3.705585e+12   0.849091   \n",
       "1  ...  0.469768 -0.159400  0.476258 -0.864737  5.587917e+11   0.106473   \n",
       "2  ... -0.293690  0.135702  0.904910  0.403390  6.271396e+11   0.853112   \n",
       "3  ... -0.012360 -0.111798  0.556926  0.823003  1.715515e+11   0.245455   \n",
       "4  ...  0.015853 -0.002944 -0.163988  0.986458  1.333404e+11   0.768784   \n",
       "\n",
       "   gal_pos_y  gal_pos_z        e1        e2  \n",
       "0  26.326996  18.306934 -0.109703 -0.157248  \n",
       "1  24.633322  16.900553  0.295580  0.009956  \n",
       "2  26.725748  17.510679  0.026402 -0.016790  \n",
       "3  26.517372  15.888749 -0.066341 -0.033003  \n",
       "4  26.518290  15.530523 -0.028562  0.007162  \n",
       "\n",
       "[5 rows x 114 columns]"
      ]
     },
     "execution_count": 13,
     "metadata": {},
     "output_type": "execute_result"
    }
   ],
   "source": [
    "df_non_red_100_subfind_full = pickle.load(\n",
    "    open('/hildafs/datasets/IllustrisTNG/TNG100-1/TNG100-1_99_galaxy_component_shapes_3I_subfind_FULL_mass-cut9.p', \n",
    "         \"rb\" ) )\n",
    "\n",
    "print(df_non_red_100_subfind_full.shape)\n",
    "df_non_red_100_subfind_full.head()"
   ]
  },
  {
   "cell_type": "markdown",
   "metadata": {},
   "source": [
    "Note that, for some reason, `gal_id` appears twice in the \"full\" catalog. Hence, the `drop` function removes both of those instances. It's for this reason that I am dropping from the \"full\" catalog, and not from the velocity dispersion catalog."
   ]
  },
  {
   "cell_type": "code",
   "execution_count": 14,
   "metadata": {
    "scrolled": true
   },
   "outputs": [],
   "source": [
    "fullinfo = pd.concat(\n",
    "    [df_non_red_100_subfind_full.drop({'gal_id'},axis=1),\n",
    "     df_non_red_100_subfind_sigma_v], \n",
    "     axis=1)"
   ]
  },
  {
   "cell_type": "markdown",
   "metadata": {},
   "source": [
    "### Create the merged catalog"
   ]
  },
  {
   "cell_type": "markdown",
   "metadata": {},
   "source": [
    "For each variable in the base catalog, need to extract the elements based on `gal_id` in the supplemental catalog."
   ]
  },
  {
   "cell_type": "markdown",
   "metadata": {},
   "source": [
    "The photometric magnitudes."
   ]
  },
  {
   "cell_type": "code",
   "execution_count": 15,
   "metadata": {},
   "outputs": [],
   "source": [
    "fullinfo['gband Mag'] = subhalos['SubhaloStellarPhotometrics'][fullinfo['gal_id'].astype('int'),4]\n",
    "fullinfo['rband Mag'] = subhalos['SubhaloStellarPhotometrics'][fullinfo['gal_id'].astype('int'),5]\n",
    "fullinfo['iband Mag'] = subhalos['SubhaloStellarPhotometrics'][fullinfo['gal_id'].astype('int'),6]\n",
    "fullinfo['zband Mag'] = subhalos['SubhaloStellarPhotometrics'][fullinfo['gal_id'].astype('int'),7]"
   ]
  },
  {
   "cell_type": "markdown",
   "metadata": {},
   "source": [
    "Colors"
   ]
  },
  {
   "cell_type": "code",
   "execution_count": 16,
   "metadata": {},
   "outputs": [],
   "source": [
    "fullinfo['g - r'] = fullinfo['gband Mag'] - fullinfo['rband Mag']\n",
    "fullinfo['r - i'] = fullinfo['rband Mag'] - fullinfo['iband Mag']\n",
    "fullinfo['i - z'] = fullinfo['iband Mag'] - fullinfo['zband Mag']"
   ]
  },
  {
   "cell_type": "markdown",
   "metadata": {},
   "source": [
    "Size and mass. (Mass measures stars.)"
   ]
  },
  {
   "cell_type": "code",
   "execution_count": 17,
   "metadata": {},
   "outputs": [],
   "source": [
    "fullinfo['size'] = subhalos['SubhaloHalfmassRad'][fullinfo['gal_id'].astype('int')]\n",
    "fullinfo['galaxy_mass'] = \\\n",
    "     subhalos['SubhaloMassType'][fullinfo['gal_id'].astype('int'),4]*10**10"
   ]
  },
  {
   "cell_type": "markdown",
   "metadata": {},
   "source": [
    "Other variables from the base catalog."
   ]
  },
  {
   "cell_type": "code",
   "execution_count": 18,
   "metadata": {},
   "outputs": [],
   "source": [
    "for addvar in addvariables:\n",
    "    fullinfo[addvar] = subhalos[addvar][fullinfo['gal_id'].astype('int')]"
   ]
  },
  {
   "cell_type": "markdown",
   "metadata": {},
   "source": [
    "The subhalo flag is mapped over, in order to exclude flagged observations."
   ]
  },
  {
   "cell_type": "code",
   "execution_count": 19,
   "metadata": {},
   "outputs": [],
   "source": [
    "fullinfo['subhaloflag'] = subhalos['SubhaloFlag'][fullinfo['gal_id'].astype('int')]"
   ]
  },
  {
   "cell_type": "markdown",
   "metadata": {},
   "source": [
    "There are some duplicated columns. Note that the data in them were not actually identical. In particular, the position variables were off by a factor of 1000."
   ]
  },
  {
   "cell_type": "code",
   "execution_count": 20,
   "metadata": {},
   "outputs": [],
   "source": [
    "fullinfo = fullinfo.loc[:,~fullinfo.columns.duplicated()]"
   ]
  },
  {
   "cell_type": "markdown",
   "metadata": {},
   "source": [
    "Exclude any observations for which the `SubhaloFlag` is `False` or the mass is not sufficiently large. If mass cutoff is $10^9$, there should be 17513 rows remaining. If the mass cutoff is $10^{10}$, there should be 4987 rows remaining."
   ]
  },
  {
   "cell_type": "code",
   "execution_count": 21,
   "metadata": {},
   "outputs": [
    {
     "name": "stdout",
     "output_type": "stream",
     "text": [
      "17513\n"
     ]
    }
   ],
   "source": [
    "keep = (fullinfo['subhaloflag']) & (fullinfo['galaxy_mass'] > 10**9) \n",
    "print(sum(keep))\n",
    "\n",
    "subinfo = fullinfo[keep].copy()"
   ]
  },
  {
   "cell_type": "markdown",
   "metadata": {},
   "source": [
    "Create log-transformed versions of some variables."
   ]
  },
  {
   "cell_type": "code",
   "execution_count": 22,
   "metadata": {},
   "outputs": [],
   "source": [
    "varsToLogTransform = ['galaxy_mass',\n",
    "                      'sigma_v',\n",
    "                      'size']\n",
    "\n",
    "for varname in varsToLogTransform:\n",
    "    subinfo['log ' + varname] = log10(subinfo[varname])"
   ]
  },
  {
   "cell_type": "markdown",
   "metadata": {},
   "source": [
    "Some of the variables have a spike of values at zero, but are otherwise positive (and skewed). The strategy taken here is to create an indicator variable for zero values, and then log transform the positive values. Hence, there are two variables included in the model for each of these."
   ]
  },
  {
   "cell_type": "code",
   "execution_count": 23,
   "metadata": {},
   "outputs": [],
   "source": [
    "# SubhaloBHMassZero\n",
    "\n",
    "subinfo['SubhaloBHMassZero'] = (subinfo['SubhaloBHMass'] == 0).astype(int)\n",
    "\n",
    "subinfo['log SubhaloBHMass'] = \\\n",
    "   [0 if val == 0 else log10(val) for val in subinfo['SubhaloBHMass']]\n",
    "\n",
    "\n",
    "# SubhaloSFR\n",
    "\n",
    "subinfo['SubhaloSFRZero'] = (subinfo['SubhaloSFR'] == 0).astype(int)\n",
    "\n",
    "subinfo['log SubhaloSFR'] = \\\n",
    "   [0 if val == 0 else log10(val) for val in subinfo['SubhaloSFR']]\n",
    "\n",
    "\n",
    "# SubhaloGasMetallicity is not skewed\n",
    "\n",
    "subinfo['SubhaloGasMetallicityZero'] = (subinfo['SubhaloGasMetallicity'] == 0).astype(int)\n"
   ]
  },
  {
   "cell_type": "markdown",
   "metadata": {},
   "source": [
    "Create indicators for the different size bins."
   ]
  },
  {
   "cell_type": "code",
   "execution_count": 24,
   "metadata": {},
   "outputs": [],
   "source": [
    "holdQ = pd.qcut(subinfo['log size'],4,labels=[\"SizeQ1\",\"SizeQ2\",\"SizeQ3\",\"SizeQ4\"])\n",
    "\n",
    "subinfo['SizeQ1'] = (holdQ == \"SizeQ1\").astype(int)\n",
    "subinfo['SizeQ2'] = (holdQ == \"SizeQ2\").astype(int)\n",
    "subinfo['SizeQ3'] = (holdQ == \"SizeQ3\").astype(int)\n",
    "subinfo['SizeQ4'] = (holdQ == \"SizeQ4\").astype(int)\n",
    "\n",
    "subinfo['small sigma_v'] = (subinfo['log sigma_v'] <-2).astype(int)\n",
    "\n",
    "#subinfo = subinfo[subinfo['SizeQ4']==1]"
   ]
  },
  {
   "cell_type": "markdown",
   "metadata": {},
   "source": [
    "## Set the predictors and response"
   ]
  },
  {
   "cell_type": "code",
   "execution_count": 25,
   "metadata": {},
   "outputs": [],
   "source": [
    "respuse = 'log size'"
   ]
  },
  {
   "cell_type": "markdown",
   "metadata": {},
   "source": [
    "The predictors are now set at the top of the file."
   ]
  },
  {
   "cell_type": "raw",
   "metadata": {},
   "source": [
    "predsuse = ['log galaxy_mass','log sigma_v','rband Mag','gband Mag','iband Mag','zband Mag',\n",
    "           'g - r','r - i','i - z','mc_disk'] + addvariables\n",
    "\n",
    "predsuse = ['log galaxy_mass','log sigma_v','rband Mag','gband Mag','iband Mag','zband Mag',\n",
    "           'mc_disk','log SubhaloBHMass','log SubhaloBHMassZero','SubhaloSFR',\n",
    "            'SubhaloStarMetallicity','SubhaloVmax']\n",
    "\n",
    "predsuse = ['log galaxy_mass','log sigma_v','rband Mag','gband Mag','iband Mag',\n",
    "            'zband Mag', 'mc_disk','log SubhaloBHMass','SubhaloBHMassZero',\n",
    "            'log SubhaloSFR', 'SubhaloSFRZero']\n",
    "\n",
    "predsuse = ['log galaxy_mass','log sigma_v','rband Mag','gband Mag','iband Mag',\n",
    "            'zband Mag', 'g - r','r - i','i - z',\n",
    "            'log SubhaloSFR', 'SubhaloSFRZero','mc_disk']\n",
    "\n",
    "predsuse = ['log galaxy_mass','log sigma_v','rband Mag','gband Mag','iband Mag',\n",
    "            'zband Mag', 'g - r','r - i','i - z',\n",
    "            'log SubhaloSFR', 'SubhaloSFRZero']\n",
    "\n",
    "predsuse = ['log galaxy_mass','log sigma_v','rband Mag','gband Mag','iband Mag',\n",
    "            'zband Mag', 'g - r','r - i','i - z',\n",
    "            'log SubhaloSFR', 'SubhaloSFRZero','SizeQ1','SizeQ2','SizeQ3']\n",
    "\n",
    "predsuse = ['log galaxy_mass','log sigma_v','rband Mag','gband Mag','iband Mag',\n",
    "            'zband Mag', 'g - r','r - i','i - z',\n",
    "            'log SubhaloSFR', 'SubhaloSFRZero','central_bool','mc_disk','small sigma_v']\n",
    "\n",
    "\n",
    "PPRpredsuse = ['rband Mag','gband Mag','iband Mag',\n",
    "            'zband Mag', 'g - r','r - i','i - z']"
   ]
  },
  {
   "cell_type": "markdown",
   "metadata": {},
   "source": [
    "## Scale Selected Predictors"
   ]
  },
  {
   "cell_type": "code",
   "execution_count": 26,
   "metadata": {},
   "outputs": [],
   "source": [
    "from sklearn import preprocessing\n",
    "\n",
    "scaler = preprocessing.StandardScaler(copy=True)\n",
    "\n",
    "scaler.fit(subinfo[predsscl])\n",
    "\n",
    "foo = pd.DataFrame(scaler.transform(subinfo[predsscl]),columns=predsscl, index=subinfo.index)\n",
    "\n",
    "subinfo = pd.DataFrame.join(subinfo.drop(predsscl,axis=1),foo)"
   ]
  },
  {
   "cell_type": "code",
   "execution_count": 27,
   "metadata": {
    "scrolled": false
   },
   "outputs": [
    {
     "data": {
      "text/html": [
       "<div>\n",
       "<style scoped>\n",
       "    .dataframe tbody tr th:only-of-type {\n",
       "        vertical-align: middle;\n",
       "    }\n",
       "\n",
       "    .dataframe tbody tr th {\n",
       "        vertical-align: top;\n",
       "    }\n",
       "\n",
       "    .dataframe thead th {\n",
       "        text-align: right;\n",
       "    }\n",
       "</style>\n",
       "<table border=\"1\" class=\"dataframe\">\n",
       "  <thead>\n",
       "    <tr style=\"text-align: right;\">\n",
       "      <th></th>\n",
       "      <th>f_disk</th>\n",
       "      <th>int_disk_thin</th>\n",
       "      <th>int_disk_thick</th>\n",
       "      <th>int_disk_counter_exp2</th>\n",
       "      <th>chisq_exp2</th>\n",
       "      <th>int_disk_exp1</th>\n",
       "      <th>int_disk_counter_exp1</th>\n",
       "      <th>chisq_exp1</th>\n",
       "      <th>mc_disk</th>\n",
       "      <th>a_simple_disk</th>\n",
       "      <th>...</th>\n",
       "      <th>SubhaloGasMetallicityZero</th>\n",
       "      <th>SizeQ1</th>\n",
       "      <th>SizeQ2</th>\n",
       "      <th>SizeQ3</th>\n",
       "      <th>SizeQ4</th>\n",
       "      <th>small sigma_v</th>\n",
       "      <th>rband Mag</th>\n",
       "      <th>gband Mag</th>\n",
       "      <th>iband Mag</th>\n",
       "      <th>zband Mag</th>\n",
       "    </tr>\n",
       "  </thead>\n",
       "  <tbody>\n",
       "    <tr>\n",
       "      <th>0</th>\n",
       "      <td>0.102826</td>\n",
       "      <td>1.120683e-11</td>\n",
       "      <td>0.252965</td>\n",
       "      <td>0.090781</td>\n",
       "      <td>69.553006</td>\n",
       "      <td>0.359817</td>\n",
       "      <td>0.198626</td>\n",
       "      <td>54.325447</td>\n",
       "      <td>0.229510</td>\n",
       "      <td>0.263015</td>\n",
       "      <td>...</td>\n",
       "      <td>0</td>\n",
       "      <td>0</td>\n",
       "      <td>0</td>\n",
       "      <td>0</td>\n",
       "      <td>1</td>\n",
       "      <td>0</td>\n",
       "      <td>-4.764354</td>\n",
       "      <td>-4.514183</td>\n",
       "      <td>-4.818780</td>\n",
       "      <td>-4.828142</td>\n",
       "    </tr>\n",
       "    <tr>\n",
       "      <th>1</th>\n",
       "      <td>0.073827</td>\n",
       "      <td>5.167568e-03</td>\n",
       "      <td>0.082322</td>\n",
       "      <td>0.064100</td>\n",
       "      <td>287.146480</td>\n",
       "      <td>0.208253</td>\n",
       "      <td>0.173610</td>\n",
       "      <td>272.848191</td>\n",
       "      <td>0.084007</td>\n",
       "      <td>0.093535</td>\n",
       "      <td>...</td>\n",
       "      <td>0</td>\n",
       "      <td>0</td>\n",
       "      <td>0</td>\n",
       "      <td>0</td>\n",
       "      <td>1</td>\n",
       "      <td>0</td>\n",
       "      <td>-3.128438</td>\n",
       "      <td>-2.902219</td>\n",
       "      <td>-3.187275</td>\n",
       "      <td>-3.206353</td>\n",
       "    </tr>\n",
       "    <tr>\n",
       "      <th>2</th>\n",
       "      <td>0.104297</td>\n",
       "      <td>5.651366e-02</td>\n",
       "      <td>0.208010</td>\n",
       "      <td>0.100389</td>\n",
       "      <td>63.551982</td>\n",
       "      <td>0.203645</td>\n",
       "      <td>0.071742</td>\n",
       "      <td>77.861395</td>\n",
       "      <td>0.237992</td>\n",
       "      <td>0.038423</td>\n",
       "      <td>...</td>\n",
       "      <td>0</td>\n",
       "      <td>0</td>\n",
       "      <td>0</td>\n",
       "      <td>0</td>\n",
       "      <td>1</td>\n",
       "      <td>0</td>\n",
       "      <td>-3.439029</td>\n",
       "      <td>-3.341743</td>\n",
       "      <td>-3.455535</td>\n",
       "      <td>-3.455128</td>\n",
       "    </tr>\n",
       "    <tr>\n",
       "      <th>3</th>\n",
       "      <td>0.293960</td>\n",
       "      <td>3.609416e-01</td>\n",
       "      <td>0.187110</td>\n",
       "      <td>0.037387</td>\n",
       "      <td>72.289555</td>\n",
       "      <td>0.448154</td>\n",
       "      <td>0.028169</td>\n",
       "      <td>967.551351</td>\n",
       "      <td>0.564971</td>\n",
       "      <td>0.017284</td>\n",
       "      <td>...</td>\n",
       "      <td>0</td>\n",
       "      <td>0</td>\n",
       "      <td>0</td>\n",
       "      <td>0</td>\n",
       "      <td>1</td>\n",
       "      <td>0</td>\n",
       "      <td>-2.542429</td>\n",
       "      <td>-2.474658</td>\n",
       "      <td>-2.551160</td>\n",
       "      <td>-2.547872</td>\n",
       "    </tr>\n",
       "    <tr>\n",
       "      <th>4</th>\n",
       "      <td>0.158796</td>\n",
       "      <td>7.771672e-02</td>\n",
       "      <td>0.102280</td>\n",
       "      <td>0.022292</td>\n",
       "      <td>72.560206</td>\n",
       "      <td>0.135537</td>\n",
       "      <td>0.005955</td>\n",
       "      <td>184.095625</td>\n",
       "      <td>0.199667</td>\n",
       "      <td>0.018827</td>\n",
       "      <td>...</td>\n",
       "      <td>0</td>\n",
       "      <td>0</td>\n",
       "      <td>0</td>\n",
       "      <td>0</td>\n",
       "      <td>1</td>\n",
       "      <td>0</td>\n",
       "      <td>-1.926942</td>\n",
       "      <td>-1.784699</td>\n",
       "      <td>-1.969079</td>\n",
       "      <td>-1.985330</td>\n",
       "    </tr>\n",
       "  </tbody>\n",
       "</table>\n",
       "<p>5 rows × 141 columns</p>\n",
       "</div>"
      ],
      "text/plain": [
       "     f_disk  int_disk_thin  int_disk_thick  int_disk_counter_exp2  chisq_exp2  \\\n",
       "0  0.102826   1.120683e-11        0.252965               0.090781   69.553006   \n",
       "1  0.073827   5.167568e-03        0.082322               0.064100  287.146480   \n",
       "2  0.104297   5.651366e-02        0.208010               0.100389   63.551982   \n",
       "3  0.293960   3.609416e-01        0.187110               0.037387   72.289555   \n",
       "4  0.158796   7.771672e-02        0.102280               0.022292   72.560206   \n",
       "\n",
       "   int_disk_exp1  int_disk_counter_exp1  chisq_exp1   mc_disk  a_simple_disk  \\\n",
       "0       0.359817               0.198626   54.325447  0.229510       0.263015   \n",
       "1       0.208253               0.173610  272.848191  0.084007       0.093535   \n",
       "2       0.203645               0.071742   77.861395  0.237992       0.038423   \n",
       "3       0.448154               0.028169  967.551351  0.564971       0.017284   \n",
       "4       0.135537               0.005955  184.095625  0.199667       0.018827   \n",
       "\n",
       "   ...  SubhaloGasMetallicityZero  SizeQ1  SizeQ2  SizeQ3  SizeQ4  \\\n",
       "0  ...                          0       0       0       0       1   \n",
       "1  ...                          0       0       0       0       1   \n",
       "2  ...                          0       0       0       0       1   \n",
       "3  ...                          0       0       0       0       1   \n",
       "4  ...                          0       0       0       0       1   \n",
       "\n",
       "   small sigma_v  rband Mag  gband Mag  iband Mag  zband Mag  \n",
       "0              0  -4.764354  -4.514183  -4.818780  -4.828142  \n",
       "1              0  -3.128438  -2.902219  -3.187275  -3.206353  \n",
       "2              0  -3.439029  -3.341743  -3.455535  -3.455128  \n",
       "3              0  -2.542429  -2.474658  -2.551160  -2.547872  \n",
       "4              0  -1.926942  -1.784699  -1.969079  -1.985330  \n",
       "\n",
       "[5 rows x 141 columns]"
      ]
     },
     "execution_count": 27,
     "metadata": {},
     "output_type": "execute_result"
    }
   ],
   "source": [
    "subinfo.head()"
   ]
  },
  {
   "cell_type": "markdown",
   "metadata": {},
   "source": [
    "## Split into Test and Training Sets"
   ]
  },
  {
   "cell_type": "code",
   "execution_count": 28,
   "metadata": {},
   "outputs": [],
   "source": [
    "from sklearn.model_selection import train_test_split"
   ]
  },
  {
   "cell_type": "code",
   "execution_count": 29,
   "metadata": {},
   "outputs": [],
   "source": [
    "train_features, test_features, train_labels, test_labels = \\\n",
    "   train_test_split(subinfo[PPRpredsuse], subinfo[respuse], \n",
    "        test_size = 0.2, random_state = traintestseed)\n",
    "\n",
    "train_features = train_features.astype(float)\n",
    "test_features = test_features.astype(float)"
   ]
  },
  {
   "cell_type": "markdown",
   "metadata": {},
   "source": [
    "# Projection Pursuit Regression"
   ]
  },
  {
   "cell_type": "code",
   "execution_count": 30,
   "metadata": {
    "scrolled": true
   },
   "outputs": [],
   "source": [
    "#pip install projection-pursuit\n",
    "from skpp import ProjectionPursuitRegressor"
   ]
  },
  {
   "cell_type": "code",
   "execution_count": 31,
   "metadata": {},
   "outputs": [],
   "source": [
    "deguse = 5"
   ]
  },
  {
   "cell_type": "code",
   "execution_count": 32,
   "metadata": {},
   "outputs": [
    {
     "data": {
      "image/png": "[encoded data removed]",
      "text/plain": [
       "<Figure size 360x360 with 1 Axes>"
      ]
     },
     "metadata": {
      "needs_background": "light"
     },
     "output_type": "display_data"
    },
    {
     "data": {
      "image/png": "[encoded data removed]",
      "text/plain": [
       "<Figure size 360x360 with 1 Axes>"
      ]
     },
     "metadata": {
      "needs_background": "light"
     },
     "output_type": "display_data"
    },
    {
     "data": {
      "image/png": "[encoded data removed]",
      "text/plain": [
       "<Figure size 360x360 with 1 Axes>"
      ]
     },
     "metadata": {
      "needs_background": "light"
     },
     "output_type": "display_data"
    },
    {
     "data": {
      "image/png": "[encoded data removed]",
      "text/plain": [
       "<Figure size 360x360 with 1 Axes>"
      ]
     },
     "metadata": {
      "needs_background": "light"
     },
     "output_type": "display_data"
    }
   ],
   "source": [
    "for pred in PPRpredsuse:\n",
    "    plt.figure(figsize=[5,5])\n",
    "    hist(subinfo[pred], bins=100)\n",
    "    plt.xlabel(pred,size=12)\n",
    "    plt.show()"
   ]
  },
  {
   "cell_type": "markdown",
   "metadata": {},
   "source": [
    "Fit the model"
   ]
  },
  {
   "cell_type": "code",
   "execution_count": 33,
   "metadata": {},
   "outputs": [],
   "source": [
    "#from sklearn import preprocessing\n",
    "\n",
    "#scaler = preprocessing.StandardScaler(copy=True)\n",
    "\n",
    "#scaler.fit(train_features)\n",
    "\n",
    "#train_features_scl = pd.DataFrame(scaler.transform(train_features),columns=predsuse)\n",
    "\n",
    "#test_features_scl = pd.DataFrame(scaler.transform(test_features),columns=predsuse)"
   ]
  },
  {
   "cell_type": "code",
   "execution_count": 34,
   "metadata": {
    "scrolled": false
   },
   "outputs": [
    {
     "data": {
      "text/plain": [
       "ProjectionPursuitRegressor(degree=5, fit_type='spline', r=5)"
      ]
     },
     "execution_count": 34,
     "metadata": {},
     "output_type": "execute_result"
    }
   ],
   "source": [
    "PPRestimatorsplit = ProjectionPursuitRegressor(r=ruse,\n",
    "        show_plots=False, degree=deguse, fit_type='spline')\n",
    "\n",
    "PPRestimatorsplit.fit(train_features,train_labels)"
   ]
  },
  {
   "cell_type": "markdown",
   "metadata": {},
   "source": [
    "This is the projection of the data using the alpha vectors, i.e., this is prior to the application of the nonlinear functions."
   ]
  },
  {
   "cell_type": "code",
   "execution_count": 35,
   "metadata": {},
   "outputs": [],
   "source": [
    "projs = PPRestimatorsplit.transform(train_features)"
   ]
  },
  {
   "cell_type": "markdown",
   "metadata": {},
   "source": [
    "Determine the fits from each projection."
   ]
  },
  {
   "cell_type": "code",
   "execution_count": 36,
   "metadata": {},
   "outputs": [],
   "source": [
    "fitsbyproj = projs.copy()\n",
    "for i in range(ruse):\n",
    "    fitsbyproj[:,i] = PPRestimatorsplit._f[i](projs[:,i])*PPRestimatorsplit._beta[0][i]"
   ]
  },
  {
   "cell_type": "markdown",
   "metadata": {},
   "source": [
    "Calculate the fitted values and residuals, but also compare with what's returned by `predict`, as a double check."
   ]
  },
  {
   "cell_type": "code",
   "execution_count": 37,
   "metadata": {},
   "outputs": [
    {
     "name": "stdout",
     "output_type": "stream",
     "text": [
      "[1.43163163 1.67800101 1.33416996 ... 0.42302371 1.40704243 0.02878348]\n",
      "[1.43163163 1.67800101 1.33416996 ... 0.42302371 1.40704243 0.02878348]\n"
     ]
    }
   ],
   "source": [
    "fittedvalues = fitsbyproj.sum(1)\n",
    "residuals = train_labels - fittedvalues\n",
    "\n",
    "print(fittedvalues)\n",
    "print(PPRestimatorsplit.predict(train_features))"
   ]
  },
  {
   "cell_type": "markdown",
   "metadata": {},
   "source": [
    "This illustrates how each nonlinear function is fit to the residuals of the other fits."
   ]
  },
  {
   "cell_type": "code",
   "execution_count": 38,
   "metadata": {},
   "outputs": [],
   "source": [
    "%%capture ReportOutput\n",
    "\n",
    "ReportOutput()\n",
    "\n",
    "for i in range(ruse):\n",
    "    \n",
    "    # The residuals from the fit leaving out projection i\n",
    "    residswithouti = residuals + fitsbyproj[:,i]\n",
    "    \n",
    "    fig,axs = plt.subplots(1,2,figsize=[12,4])\n",
    "    \n",
    "    axs[0].barh(PPRpredsuse, PPRestimatorsplit._alpha[:,i])\n",
    "    axs[0].plot([0, 0], [-5, len(PPRpredsuse)+5], 'k-')\n",
    "    axs[0].set(ylim=(-1,len(PPRpredsuse)))\n",
    "    \n",
    "    axs[1].hist2d(x=projs[:,i],\n",
    "       y=residswithouti,\n",
    "         bins=300,\n",
    "         norm=matplotlib.colors.LogNorm())\n",
    "\n",
    "    foo = PPRestimatorsplit._f[i](sort(projs[:,i]))*PPRestimatorsplit._beta[0][i]\n",
    "\n",
    "    plot(sort(projs[:,i]),foo,color=\"r\")\n",
    "    plt.title('')\n",
    "    plt.ylabel('Residuals',size=12)\n",
    "    plt.xlabel(('Projection '+str(i+1)),size=12)\n",
    "    plt.show()"
   ]
  },
  {
   "cell_type": "markdown",
   "metadata": {},
   "source": [
    "Plot of residuals versus fitted values."
   ]
  },
  {
   "cell_type": "code",
   "execution_count": 39,
   "metadata": {},
   "outputs": [],
   "source": [
    "%%capture ReportOutput\n",
    "\n",
    "ReportOutput()\n",
    "\n",
    "plt.figure(figsize=[5,5])\n",
    "hist2d(x=fittedvalues,\n",
    "       y=residuals,\n",
    "         bins=200,\n",
    "         norm=matplotlib.colors.LogNorm())\n",
    "plt.title('')\n",
    "plt.ylabel('Residuals',size=12)\n",
    "plt.xlabel('Fitted Values',size=12)\n",
    "plt.show()"
   ]
  },
  {
   "cell_type": "code",
   "execution_count": 40,
   "metadata": {},
   "outputs": [
    {
     "data": {
      "image/png": "[encoded data removed]",
      "text/plain": [
       "<Figure size 360x360 with 1 Axes>"
      ]
     },
     "metadata": {
      "needs_background": "light"
     },
     "output_type": "display_data"
    }
   ],
   "source": [
    "plt.figure(figsize=[5,5])\n",
    "hist2d(x=fittedvalues,\n",
    "       y=train_labels,\n",
    "         bins=200,\n",
    "         norm=matplotlib.colors.LogNorm())\n",
    "plt.title('')\n",
    "plt.ylabel('Response',size=12)\n",
    "plt.xlabel('Fitted Values',size=12)\n",
    "plt.plot([-100, 100], [-100, 100], 'b-')\n",
    "\n",
    "plt.show()"
   ]
  },
  {
   "cell_type": "markdown",
   "metadata": {},
   "source": [
    "### Performance on test set"
   ]
  },
  {
   "cell_type": "code",
   "execution_count": 41,
   "metadata": {},
   "outputs": [],
   "source": [
    "PPRfitsontest = PPRestimatorsplit.predict(test_features)"
   ]
  },
  {
   "cell_type": "code",
   "execution_count": 42,
   "metadata": {},
   "outputs": [],
   "source": [
    "%%capture ReportOutput\n",
    "\n",
    "ReportOutput()\n",
    "\n",
    "plt.figure(figsize=[5,5])\n",
    "hist2d(x=PPRfitsontest,\n",
    "       y=test_labels,\n",
    "         bins=200,\n",
    "         norm=matplotlib.colors.LogNorm())\n",
    "plt.title('Projection Pursuit Performance')\n",
    "plt.ylabel('Test Set Response',size=12)\n",
    "plt.xlabel('Test Set Fitted Values',size=12)\n",
    "plt.plot([-100, 100], [-100, 100], 'b-')\n",
    "plt.xlim(-1.5,3)\n",
    "plt.ylim(-1.5,3)\n",
    "\n",
    "plt.show()"
   ]
  },
  {
   "cell_type": "markdown",
   "metadata": {},
   "source": [
    "RMSE"
   ]
  },
  {
   "cell_type": "code",
   "execution_count": 43,
   "metadata": {},
   "outputs": [],
   "source": [
    "%%capture ReportOutput\n",
    "\n",
    "ReportOutput()\n",
    "\n",
    "print(\"\\n----------------------------------------------------\")\n",
    "\n",
    "print(\"RMSE PPR on test set:\",round(sqrt(mean((PPRfitsontest-test_labels)**2)),3))\n",
    "\n",
    "print(\"RMSE PPR on training set:\",round(sqrt(mean(residuals**2)),3))"
   ]
  },
  {
   "cell_type": "markdown",
   "metadata": {},
   "source": [
    "Refit the model using the full data set. Calculate and store the residuals."
   ]
  },
  {
   "cell_type": "code",
   "execution_count": 44,
   "metadata": {},
   "outputs": [
    {
     "data": {
      "text/plain": [
       "ProjectionPursuitRegressor(degree=5, fit_type='spline', r=5)"
      ]
     },
     "execution_count": 44,
     "metadata": {},
     "output_type": "execute_result"
    }
   ],
   "source": [
    "PPRestimatorfull = ProjectionPursuitRegressor(r=ruse,show_plots=False,\n",
    "            degree=deguse, fit_type='spline')\n",
    "\n",
    "PPRestimatorfull.fit(subinfo[PPRpredsuse].astype(float),subinfo[respuse])"
   ]
  },
  {
   "cell_type": "code",
   "execution_count": 45,
   "metadata": {},
   "outputs": [
    {
     "name": "stdout",
     "output_type": "stream",
     "text": [
      "-2.651986072285952e-06\n",
      "0.26339868952751433\n"
     ]
    }
   ],
   "source": [
    "subinfo['PPRresids'] = subinfo[respuse] - PPRestimatorfull.predict(subinfo[PPRpredsuse].astype(float))\n",
    "\n",
    "print(mean(subinfo['PPRresids']))\n",
    "print(std(subinfo['PPRresids']))"
   ]
  },
  {
   "cell_type": "markdown",
   "metadata": {},
   "source": [
    "This will create columns in the main data frame which equal the nonparametric function applied to the projection. This is done for both the fits from the full data set, and from the fits from the training/test split."
   ]
  },
  {
   "cell_type": "code",
   "execution_count": 46,
   "metadata": {},
   "outputs": [],
   "source": [
    "projsfull = PPRestimatorfull.transform(subinfo[PPRpredsuse])\n",
    "\n",
    "for i in range(ruse):\n",
    "    subinfo['PPRcompfull' + chr(i+ord('0'))] = \\\n",
    "       PPRestimatorfull._f[i](projsfull[:,i].astype(float))*PPRestimatorfull._beta[0][i]\n",
    "    \n",
    "    \n",
    "projssplit = PPRestimatorsplit.transform(subinfo[PPRpredsuse])\n",
    "\n",
    "for i in range(ruse):\n",
    "    subinfo['PPRcompsplit' + chr(i+ord('0'))] = \\\n",
    "       PPRestimatorsplit._f[i](projssplit[:,i].astype(float))*PPRestimatorsplit._beta[0][i]"
   ]
  },
  {
   "cell_type": "code",
   "execution_count": 47,
   "metadata": {},
   "outputs": [
    {
     "data": {
      "text/html": [
       "<div>\n",
       "<style scoped>\n",
       "    .dataframe tbody tr th:only-of-type {\n",
       "        vertical-align: middle;\n",
       "    }\n",
       "\n",
       "    .dataframe tbody tr th {\n",
       "        vertical-align: top;\n",
       "    }\n",
       "\n",
       "    .dataframe thead th {\n",
       "        text-align: right;\n",
       "    }\n",
       "</style>\n",
       "<table border=\"1\" class=\"dataframe\">\n",
       "  <thead>\n",
       "    <tr style=\"text-align: right;\">\n",
       "      <th></th>\n",
       "      <th>f_disk</th>\n",
       "      <th>int_disk_thin</th>\n",
       "      <th>int_disk_thick</th>\n",
       "      <th>int_disk_counter_exp2</th>\n",
       "      <th>chisq_exp2</th>\n",
       "      <th>int_disk_exp1</th>\n",
       "      <th>int_disk_counter_exp1</th>\n",
       "      <th>chisq_exp1</th>\n",
       "      <th>mc_disk</th>\n",
       "      <th>a_simple_disk</th>\n",
       "      <th>...</th>\n",
       "      <th>PPRcompfull0</th>\n",
       "      <th>PPRcompfull1</th>\n",
       "      <th>PPRcompfull2</th>\n",
       "      <th>PPRcompfull3</th>\n",
       "      <th>PPRcompfull4</th>\n",
       "      <th>PPRcompsplit0</th>\n",
       "      <th>PPRcompsplit1</th>\n",
       "      <th>PPRcompsplit2</th>\n",
       "      <th>PPRcompsplit3</th>\n",
       "      <th>PPRcompsplit4</th>\n",
       "    </tr>\n",
       "  </thead>\n",
       "  <tbody>\n",
       "    <tr>\n",
       "      <th>0</th>\n",
       "      <td>0.102826</td>\n",
       "      <td>1.120683e-11</td>\n",
       "      <td>0.252965</td>\n",
       "      <td>0.090781</td>\n",
       "      <td>69.553006</td>\n",
       "      <td>0.359817</td>\n",
       "      <td>0.198626</td>\n",
       "      <td>54.325447</td>\n",
       "      <td>0.229510</td>\n",
       "      <td>0.263015</td>\n",
       "      <td>...</td>\n",
       "      <td>-27.604632</td>\n",
       "      <td>-4.979577</td>\n",
       "      <td>36.512120</td>\n",
       "      <td>-0.024708</td>\n",
       "      <td>-0.216315</td>\n",
       "      <td>1.641552</td>\n",
       "      <td>-0.719920</td>\n",
       "      <td>2.604135</td>\n",
       "      <td>-0.104936</td>\n",
       "      <td>-0.079913</td>\n",
       "    </tr>\n",
       "    <tr>\n",
       "      <th>1</th>\n",
       "      <td>0.073827</td>\n",
       "      <td>5.167568e-03</td>\n",
       "      <td>0.082322</td>\n",
       "      <td>0.064100</td>\n",
       "      <td>287.146480</td>\n",
       "      <td>0.208253</td>\n",
       "      <td>0.173610</td>\n",
       "      <td>272.848191</td>\n",
       "      <td>0.084007</td>\n",
       "      <td>0.093535</td>\n",
       "      <td>...</td>\n",
       "      <td>0.641340</td>\n",
       "      <td>-0.907997</td>\n",
       "      <td>2.538823</td>\n",
       "      <td>0.043684</td>\n",
       "      <td>-0.056110</td>\n",
       "      <td>1.579933</td>\n",
       "      <td>0.414269</td>\n",
       "      <td>0.319868</td>\n",
       "      <td>0.054208</td>\n",
       "      <td>0.009753</td>\n",
       "    </tr>\n",
       "    <tr>\n",
       "      <th>2</th>\n",
       "      <td>0.104297</td>\n",
       "      <td>5.651366e-02</td>\n",
       "      <td>0.208010</td>\n",
       "      <td>0.100389</td>\n",
       "      <td>63.551982</td>\n",
       "      <td>0.203645</td>\n",
       "      <td>0.071742</td>\n",
       "      <td>77.861395</td>\n",
       "      <td>0.237992</td>\n",
       "      <td>0.038423</td>\n",
       "      <td>...</td>\n",
       "      <td>1.707466</td>\n",
       "      <td>-0.261275</td>\n",
       "      <td>1.034898</td>\n",
       "      <td>-0.081565</td>\n",
       "      <td>-0.152549</td>\n",
       "      <td>1.583379</td>\n",
       "      <td>0.225877</td>\n",
       "      <td>0.253601</td>\n",
       "      <td>-0.023083</td>\n",
       "      <td>0.029036</td>\n",
       "    </tr>\n",
       "    <tr>\n",
       "      <th>3</th>\n",
       "      <td>0.293960</td>\n",
       "      <td>3.609416e-01</td>\n",
       "      <td>0.187110</td>\n",
       "      <td>0.037387</td>\n",
       "      <td>72.289555</td>\n",
       "      <td>0.448154</td>\n",
       "      <td>0.028169</td>\n",
       "      <td>967.551351</td>\n",
       "      <td>0.564971</td>\n",
       "      <td>0.017284</td>\n",
       "      <td>...</td>\n",
       "      <td>2.348417</td>\n",
       "      <td>-0.284053</td>\n",
       "      <td>0.003618</td>\n",
       "      <td>-0.018709</td>\n",
       "      <td>-0.071552</td>\n",
       "      <td>1.579319</td>\n",
       "      <td>0.088399</td>\n",
       "      <td>0.233323</td>\n",
       "      <td>0.042510</td>\n",
       "      <td>-0.003231</td>\n",
       "    </tr>\n",
       "    <tr>\n",
       "      <th>4</th>\n",
       "      <td>0.158796</td>\n",
       "      <td>7.771672e-02</td>\n",
       "      <td>0.102280</td>\n",
       "      <td>0.022292</td>\n",
       "      <td>72.560206</td>\n",
       "      <td>0.135537</td>\n",
       "      <td>0.005955</td>\n",
       "      <td>184.095625</td>\n",
       "      <td>0.199667</td>\n",
       "      <td>0.018827</td>\n",
       "      <td>...</td>\n",
       "      <td>2.246750</td>\n",
       "      <td>-0.261537</td>\n",
       "      <td>0.014123</td>\n",
       "      <td>0.057616</td>\n",
       "      <td>-0.012196</td>\n",
       "      <td>1.567529</td>\n",
       "      <td>0.231959</td>\n",
       "      <td>0.225536</td>\n",
       "      <td>0.068624</td>\n",
       "      <td>-0.014396</td>\n",
       "    </tr>\n",
       "  </tbody>\n",
       "</table>\n",
       "<p>5 rows × 152 columns</p>\n",
       "</div>"
      ],
      "text/plain": [
       "     f_disk  int_disk_thin  int_disk_thick  int_disk_counter_exp2  chisq_exp2  \\\n",
       "0  0.102826   1.120683e-11        0.252965               0.090781   69.553006   \n",
       "1  0.073827   5.167568e-03        0.082322               0.064100  287.146480   \n",
       "2  0.104297   5.651366e-02        0.208010               0.100389   63.551982   \n",
       "3  0.293960   3.609416e-01        0.187110               0.037387   72.289555   \n",
       "4  0.158796   7.771672e-02        0.102280               0.022292   72.560206   \n",
       "\n",
       "   int_disk_exp1  int_disk_counter_exp1  chisq_exp1   mc_disk  a_simple_disk  \\\n",
       "0       0.359817               0.198626   54.325447  0.229510       0.263015   \n",
       "1       0.208253               0.173610  272.848191  0.084007       0.093535   \n",
       "2       0.203645               0.071742   77.861395  0.237992       0.038423   \n",
       "3       0.448154               0.028169  967.551351  0.564971       0.017284   \n",
       "4       0.135537               0.005955  184.095625  0.199667       0.018827   \n",
       "\n",
       "   ...  PPRcompfull0  PPRcompfull1  PPRcompfull2  PPRcompfull3  PPRcompfull4  \\\n",
       "0  ...    -27.604632     -4.979577     36.512120     -0.024708     -0.216315   \n",
       "1  ...      0.641340     -0.907997      2.538823      0.043684     -0.056110   \n",
       "2  ...      1.707466     -0.261275      1.034898     -0.081565     -0.152549   \n",
       "3  ...      2.348417     -0.284053      0.003618     -0.018709     -0.071552   \n",
       "4  ...      2.246750     -0.261537      0.014123      0.057616     -0.012196   \n",
       "\n",
       "   PPRcompsplit0  PPRcompsplit1  PPRcompsplit2  PPRcompsplit3  PPRcompsplit4  \n",
       "0       1.641552      -0.719920       2.604135      -0.104936      -0.079913  \n",
       "1       1.579933       0.414269       0.319868       0.054208       0.009753  \n",
       "2       1.583379       0.225877       0.253601      -0.023083       0.029036  \n",
       "3       1.579319       0.088399       0.233323       0.042510      -0.003231  \n",
       "4       1.567529       0.231959       0.225536       0.068624      -0.014396  \n",
       "\n",
       "[5 rows x 152 columns]"
      ]
     },
     "execution_count": 47,
     "metadata": {},
     "output_type": "execute_result"
    }
   ],
   "source": [
    "subinfo.head()"
   ]
  },
  {
   "cell_type": "markdown",
   "metadata": {},
   "source": [
    "## Random Forest\n",
    "\n",
    "Some of the syntax is taken from \n",
    "https://towardsdatascience.com/random-forest-in-python-24d0893d51c0"
   ]
  },
  {
   "cell_type": "raw",
   "metadata": {},
   "source": [
    "from sklearn.ensemble import RandomForestRegressor"
   ]
  },
  {
   "cell_type": "markdown",
   "metadata": {},
   "source": [
    "Instantiate model with `numtrees` decision trees"
   ]
  },
  {
   "cell_type": "raw",
   "metadata": {},
   "source": [
    "numtrees = 50"
   ]
  },
  {
   "cell_type": "raw",
   "metadata": {},
   "source": [
    "rf = RandomForestRegressor(n_estimators = numtrees, random_state = 0)"
   ]
  },
  {
   "cell_type": "markdown",
   "metadata": {},
   "source": [
    "Train the model on training data"
   ]
  },
  {
   "cell_type": "raw",
   "metadata": {},
   "source": [
    "rf.fit(train_features, train_labels);"
   ]
  },
  {
   "cell_type": "markdown",
   "metadata": {},
   "source": [
    "Predict on the test set"
   ]
  },
  {
   "cell_type": "raw",
   "metadata": {},
   "source": [
    "RFfitsontest = rf.predict(test_features)"
   ]
  },
  {
   "cell_type": "raw",
   "metadata": {
    "scrolled": false
   },
   "source": [
    "plt.figure(figsize=[5,5])\n",
    "hist2d(x=RFfitsontest,\n",
    "       y=test_labels,\n",
    "         bins=200,\n",
    "         norm=matplotlib.colors.LogNorm())\n",
    "plt.title('Random Forest Performance')\n",
    "plt.ylabel('Test Set Response',size=12)\n",
    "plt.xlabel('Test Set Fitted Values',size=12)\n",
    "plt.plot([-100, 100], [-100, 100], 'b-')\n",
    "plt.xlim(-1.5,3)\n",
    "plt.ylim(-1.5,3)\n",
    "\n",
    "plt.show()"
   ]
  },
  {
   "cell_type": "raw",
   "metadata": {},
   "source": [
    "def scl01(x):\n",
    "    foo = x - min(x)\n",
    "    return foo/max(foo)"
   ]
  },
  {
   "cell_type": "raw",
   "metadata": {},
   "source": [
    "for varname in predsscl:\n",
    "    plt.figure(figsize=[5,5])\n",
    "    plt.scatter(RFfitsontest,test_labels,s=0.5,c=scl01(test_features[varname]),\n",
    "            cmap=\"magma\")\n",
    "    plt.title(varname)\n",
    "    plt.ylabel('Test Set Response',size=12)\n",
    "    plt.xlabel('Test Set Fitted Values',size=12)\n",
    "    plt.plot([-100, 100], [-100, 100], 'b-')\n",
    "    plt.xlim(-1.5,3)\n",
    "    plt.ylim(-1.5,3)\n",
    "\n",
    "    plt.show()"
   ]
  },
  {
   "cell_type": "raw",
   "metadata": {},
   "source": [
    "print(sqrt(mean((RFfitsontest-test_labels)**2)))\n",
    "print(std(test_labels))"
   ]
  },
  {
   "cell_type": "raw",
   "metadata": {
    "scrolled": true
   },
   "source": [
    "plt.figure(figsize=[5,5])\n",
    "hist2d(x=RFfitsontest[PPRfitsontest<25],\n",
    "       y=PPRfitsontest[PPRfitsontest<25],\n",
    "         bins=200,\n",
    "         norm=matplotlib.colors.LogNorm())\n",
    "plt.title('Comparing Predictions')\n",
    "plt.ylabel('Projection Pursuit Prediction',size=12)\n",
    "plt.xlabel('Random Forest Prediction',size=12)\n",
    "plt.plot([-100, 100], [-100, 100], 'b-')\n",
    "plt.xlim(-1.5,3)\n",
    "plt.ylim(-1.5,3)\n",
    "\n",
    "plt.show()"
   ]
  },
  {
   "cell_type": "markdown",
   "metadata": {},
   "source": [
    "Fit on the full data set."
   ]
  },
  {
   "cell_type": "raw",
   "metadata": {},
   "source": [
    "rffull = RandomForestRegressor(n_estimators = 1000, random_state = 0)\n",
    "\n",
    "rffull.fit(subinfo[predsuse],subinfo[respuse])\n",
    "\n",
    "subinfo['RFresids'] = subinfo[respuse] - rffull.predict(subinfo[predsuse])"
   ]
  },
  {
   "cell_type": "markdown",
   "metadata": {},
   "source": [
    "## Tuning parameter selection for Random forest"
   ]
  },
  {
   "cell_type": "markdown",
   "metadata": {},
   "source": [
    "Some of this code is adapated (stolen) from https://towardsdatascience.com/hyperparameter-tuning-the-random-forest-in-python-using-scikit-learn-28d2aa77dd74"
   ]
  },
  {
   "cell_type": "raw",
   "metadata": {},
   "source": [
    "from sklearn.model_selection import RandomizedSearchCV,GridSearchCV"
   ]
  },
  {
   "cell_type": "raw",
   "metadata": {},
   "source": [
    "# Number of trees in random forest\n",
    "n_estimators = [int(x) for x in np.linspace(start = 200, stop = 2000, num = 10)]\n",
    "\n",
    "# Maximum number of levels in tree\n",
    "max_depth = [int(x) for x in np.linspace(10, 110, num = 11)]\n",
    "max_depth.append(None)\n",
    "\n",
    "max_features = [int(x) for x in np.linspace(2,len(predsuse),num=4)]\n",
    "\n",
    "# Create the random grid\n",
    "random_grid = {'n_estimators': n_estimators,\n",
    "               'max_features': max_features,\n",
    "               'max_depth': max_depth}\n",
    "\n",
    "print(random_grid)"
   ]
  },
  {
   "cell_type": "raw",
   "metadata": {
    "scrolled": true
   },
   "source": [
    "# Use the random grid to search for best hyperparameters\n",
    "# First create the base model to tune\n",
    "rf = RandomForestRegressor()\n",
    "# Random search of parameters, using 3 fold cross validation, \n",
    "# search across n_iter different combinations, and use all available cores\n",
    "rf_random = RandomizedSearchCV(estimator = rf, param_distributions = random_grid,\n",
    "                    n_iter = 100, cv = 5, verbose=5, random_state=0, n_jobs = -1)\n",
    "# Fit the random search model\n",
    "rf_random.fit(train_features, train_labels)"
   ]
  },
  {
   "cell_type": "raw",
   "metadata": {},
   "source": [
    "print(rf_random.best_params_['n_estimators'])\n",
    "\n",
    "print(rf_random.best_params_['max_features'])\n",
    "\n",
    "print(rf_random.best_params_['max_depth'])"
   ]
  },
  {
   "cell_type": "raw",
   "metadata": {},
   "source": [
    "# Number of trees in random forest\n",
    "n_estimators = [int(x) for x in np.linspace(start = rf_random.best_params_['n_estimators']-200, \n",
    "                                            stop = rf_random.best_params_['n_estimators']+200, num = 3)]\n",
    "\n",
    "# Maximum number of levels in tree\n",
    "max_depth = [int(x) for x in np.linspace(max(rf_random.best_params_['max_depth']-20,10), \n",
    "                                         rf_random.best_params_['max_depth']+20, num = 3)]\n",
    "\n",
    "holdmf = min(rf_random.best_params_['max_features'],len(predsuse)-2)\n",
    "\n",
    "max_features = [int(x) for x in np.linspace(holdmf-2, holdmf+2,num=3)]\n",
    "\n",
    "param_grid = {\n",
    "    'max_depth': max_depth,\n",
    "    'max_features': max_features,\n",
    "    'n_estimators': n_estimators\n",
    "}\n",
    "print(param_grid)"
   ]
  },
  {
   "cell_type": "raw",
   "metadata": {
    "scrolled": true
   },
   "source": [
    "# Create a based model\n",
    "rf = RandomForestRegressor()\n",
    "# Instantiate the grid search model\n",
    "rf_grid = GridSearchCV(estimator = rf, param_grid = param_grid, \n",
    "                          cv = 5, n_jobs = -1, verbose = 2)\n",
    "\n",
    "rf_grid.fit(train_features, train_labels)"
   ]
  },
  {
   "cell_type": "raw",
   "metadata": {},
   "source": [
    "rf_grid.best_params_"
   ]
  },
  {
   "cell_type": "raw",
   "metadata": {},
   "source": [
    "RFgridfitsontest = rf_grid.predict(test_features)"
   ]
  },
  {
   "cell_type": "raw",
   "metadata": {},
   "source": [
    "plt.figure(figsize=[5,5])\n",
    "hist2d(x=RFgridfitsontest,\n",
    "       y=test_labels,\n",
    "         bins=200,\n",
    "         norm=matplotlib.colors.LogNorm())\n",
    "plt.title('Random Forest Performance')\n",
    "plt.ylabel('Test Set Response',size=12)\n",
    "plt.xlabel('Test Set Fitted Values',size=12)\n",
    "plt.plot([-100, 100], [-100, 100], 'b-')\n",
    "plt.xlim(-1.5,3)\n",
    "plt.ylim(-1.5,3)\n",
    "\n",
    "plt.show()"
   ]
  },
  {
   "cell_type": "markdown",
   "metadata": {},
   "source": [
    "\n",
    "# Neural Network\n",
    "\n",
    "Some of this syntax is based on https://towardsdatascience.com/deep-learning-with-python-neural-networks-complete-tutorial-6b53c0b06af0"
   ]
  },
  {
   "cell_type": "markdown",
   "metadata": {},
   "source": [
    "Need to redo the training/test split (using the same seed), so that the new variables are correctly allocated."
   ]
  },
  {
   "cell_type": "code",
   "execution_count": 48,
   "metadata": {},
   "outputs": [],
   "source": [
    "train_features, test_features, train_labels, test_labels = \\\n",
    "   train_test_split(subinfo[NNpredsuse], subinfo[respuse], \n",
    "        test_size = 0.2, random_state = traintestseed)\n",
    "\n",
    "train_features = train_features.astype(float)\n",
    "test_features = test_features.astype(float)"
   ]
  },
  {
   "cell_type": "code",
   "execution_count": 49,
   "metadata": {},
   "outputs": [],
   "source": [
    "from tensorflow.keras import models, layers, utils, backend as K"
   ]
  },
  {
   "cell_type": "markdown",
   "metadata": {},
   "source": [
    "Set up the model architecture"
   ]
  },
  {
   "cell_type": "code",
   "execution_count": 50,
   "metadata": {
    "scrolled": true
   },
   "outputs": [
    {
     "name": "stdout",
     "output_type": "stream",
     "text": [
      "Model: \"SimpleNN\"\n",
      "_________________________________________________________________\n",
      "Layer (type)                 Output Shape              Param #   \n",
      "=================================================================\n",
      "h1 (Dense)                   (None, 200)               1000      \n",
      "_________________________________________________________________\n",
      "drop1 (Dropout)              (None, 200)               0         \n",
      "_________________________________________________________________\n",
      "h2 (Dense)                   (None, 200)               40200     \n",
      "_________________________________________________________________\n",
      "drop2 (Dropout)              (None, 200)               0         \n",
      "_________________________________________________________________\n",
      "output (Dense)               (None, 1)                 201       \n",
      "=================================================================\n",
      "Total params: 41,401\n",
      "Trainable params: 41,401\n",
      "Non-trainable params: 0\n",
      "_________________________________________________________________\n"
     ]
    }
   ],
   "source": [
    "n_features = len(NNpredsuse)\n",
    "\n",
    "model = models.Sequential(name=\"SimpleNN\", layers=[\n",
    "    ### hidden layer 1\n",
    "    layers.Dense(name=\"h1\", input_dim=n_features,\n",
    "                 units=200, \n",
    "                 activation='relu'),\n",
    "    \n",
    "    layers.Dropout(name=\"drop1\", rate=0.2),\n",
    "    \n",
    "    ### hidden layer 2\n",
    "    layers.Dense(name=\"h2\", units=200, \n",
    "                 activation='relu'),\n",
    "    \n",
    "    layers.Dropout(name=\"drop2\", rate=0.2),\n",
    "    \n",
    "    ### hidden layer 3\n",
    "#    layers.Dense(name=\"h3\", units=20, \n",
    " #                activation='relu'),\n",
    "  #  layers.Dropout(name=\"drop3\", rate=0.2),\n",
    "    \n",
    "    ### layer output\n",
    "    layers.Dense(name=\"output\", units=1, activation='linear')\n",
    "])\n",
    "model.summary()"
   ]
  },
  {
   "cell_type": "code",
   "execution_count": 51,
   "metadata": {},
   "outputs": [],
   "source": [
    "%%capture ReportOutput\n",
    "\n",
    "ReportOutput()\n",
    "\n",
    "print(\"\\n----------------------------------------------------\")\n",
    "model.summary()"
   ]
  },
  {
   "cell_type": "markdown",
   "metadata": {},
   "source": [
    "Define metrics"
   ]
  },
  {
   "cell_type": "code",
   "execution_count": 52,
   "metadata": {},
   "outputs": [],
   "source": [
    "def R2(y, y_hat):\n",
    "    ss_res =  K.sum(K.square(y - y_hat)) \n",
    "    ss_tot = K.sum(K.square(y - K.mean(y))) \n",
    "    return ( 1 - ss_res/(ss_tot + K.epsilon()) )"
   ]
  },
  {
   "cell_type": "markdown",
   "metadata": {},
   "source": [
    "Compile the neural network"
   ]
  },
  {
   "cell_type": "code",
   "execution_count": 53,
   "metadata": {},
   "outputs": [],
   "source": [
    "from tensorflow.keras.optimizers import SGD\n",
    "\n",
    "\n",
    "sgd = SGD(lr=learning_rate, momentum=momentum, decay=decay_rate, nesterov=True)\n",
    "\n",
    "model.compile(optimizer=sgd, loss='mean_squared_error', metrics=[R2])"
   ]
  },
  {
   "cell_type": "code",
   "execution_count": 54,
   "metadata": {},
   "outputs": [],
   "source": [
    "%%capture ReportOutput\n",
    "\n",
    "ReportOutput()\n",
    "\n",
    "print(\"\\n----------------------------------------------------\")\n",
    "print(\"Number of epochs:\",epochs)\n",
    "print(\"learning rate:\",learning_rate)\n",
    "print(\"decay rate:\",decay_rate)\n",
    "print(\"momentum:\",momentum)\n",
    "\n"
   ]
  },
  {
   "cell_type": "code",
   "execution_count": 55,
   "metadata": {},
   "outputs": [],
   "source": [
    "training = model.fit(x=train_features, y=train_labels, \n",
    "     batch_size=32, epochs=epochs, shuffle=True, verbose=0,\n",
    "    validation_split=0.3)"
   ]
  },
  {
   "cell_type": "code",
   "execution_count": 56,
   "metadata": {},
   "outputs": [
    {
     "name": "stdout",
     "output_type": "stream",
     "text": [
      "0.3120203867679842\n",
      "0.3047150208197385\n"
     ]
    }
   ],
   "source": [
    "NNfitsontest = np.reshape(model.predict(test_features),-1)\n",
    "NNfitsontrain = np.reshape(model.predict(train_features),-1)\n",
    "\n",
    "print(sqrt(mean((NNfitsontest-test_labels)**2)))\n",
    "\n",
    "print(sqrt(mean((NNfitsontrain-train_labels)**2)))"
   ]
  },
  {
   "cell_type": "code",
   "execution_count": 57,
   "metadata": {},
   "outputs": [
    {
     "data": {
      "image/png": "[encoded data removed]",
      "text/plain": [
       "<Figure size 360x360 with 1 Axes>"
      ]
     },
     "metadata": {
      "needs_background": "light"
     },
     "output_type": "display_data"
    }
   ],
   "source": [
    "plt.figure(figsize=[5,5])\n",
    "hist2d(x=NNfitsontrain,\n",
    "       y=train_labels,\n",
    "         bins=200,\n",
    "         norm=matplotlib.colors.LogNorm())\n",
    "plt.title('Neural Network Performance')\n",
    "plt.ylabel('Training Set Response',size=12)\n",
    "plt.xlabel('Training Set Fitted Values',size=12)\n",
    "plt.plot([-100, 100], [-100, 100], 'b-')\n",
    "plt.xlim(-1.5,3)\n",
    "plt.ylim(-1.5,3)\n",
    "\n",
    "plt.show()"
   ]
  },
  {
   "cell_type": "code",
   "execution_count": 58,
   "metadata": {},
   "outputs": [],
   "source": [
    "%%capture ReportOutput\n",
    "\n",
    "ReportOutput()\n",
    "\n",
    "plt.figure(figsize=[5,5])\n",
    "hist2d(x=NNfitsontest,\n",
    "       y=test_labels,\n",
    "         bins=200,\n",
    "         norm=matplotlib.colors.LogNorm())\n",
    "plt.title('Neural Network Performance')\n",
    "plt.ylabel('Test Set Response',size=12)\n",
    "plt.xlabel('Test Set Fitted Values',size=12)\n",
    "plt.plot([-100, 100], [-100, 100], 'b-')\n",
    "plt.xlim(-1.5,3)\n",
    "plt.ylim(-1.5,3)\n",
    "\n",
    "plt.show()"
   ]
  },
  {
   "cell_type": "code",
   "execution_count": 59,
   "metadata": {
    "scrolled": false
   },
   "outputs": [
    {
     "data": {
      "image/png": "[encoded data removed]",
      "text/plain": [
       "<Figure size 1080x216 with 4 Axes>"
      ]
     },
     "metadata": {
      "needs_background": "light"
     },
     "output_type": "display_data"
    }
   ],
   "source": [
    "# plot\n",
    "\n",
    "metrics = [k for k in training.history.keys() if (\"loss\" not in k) and (\"val\" not in k)]    \n",
    "fig, ax = plt.subplots(nrows=1, ncols=2, sharey=True, figsize=(15,3))\n",
    "       \n",
    "## training\n",
    "\n",
    "ax[0].set(title=\"Training\")    \n",
    "ax11 = ax[0].twinx()    \n",
    "ax[0].plot(training.history['loss'], color='black')\n",
    "ax[0].set_xlabel('Epochs')    \n",
    "ax[0].set_ylabel('Loss', color='black')    \n",
    "for metric in metrics:        \n",
    "    ax11.plot(training.history[metric], label=metric) \n",
    "    ax11.set_ylabel(\"Score\", color='steelblue')    \n",
    "ax11.legend()\n",
    "        \n",
    "## validation\n",
    "\n",
    "ax[1].set(title=\"Validation\")    \n",
    "ax22 = ax[1].twinx()    \n",
    "ax[1].plot(training.history['val_loss'], color='black')\n",
    "ax[1].set_xlabel('Epochs')    \n",
    "ax[1].set_ylabel('Loss', color='black')    \n",
    "for metric in metrics:          \n",
    "    ax22.plot(training.history['val_'+metric], label=metric)\n",
    "    ax22.set_ylabel(\"Score\", color=\"steelblue\")    \n",
    "plt.show()"
   ]
  },
  {
   "cell_type": "code",
   "execution_count": 60,
   "metadata": {},
   "outputs": [],
   "source": [
    "%%capture ReportOutput\n",
    "\n",
    "ReportOutput()\n",
    "\n",
    "print(\"\\n----------------------------------------------------\")\n",
    "\n",
    "print(\"RMSE NN on test set:\",round(sqrt(mean((NNfitsontest-test_labels)**2)),3))\n",
    "\n",
    "print(\"RMSE NN on training set:\",round(sqrt(mean((NNfitsontrain-train_labels)**2)),3))"
   ]
  },
  {
   "cell_type": "markdown",
   "metadata": {},
   "source": [
    "### Refit NN to entire data set"
   ]
  },
  {
   "cell_type": "code",
   "execution_count": 61,
   "metadata": {},
   "outputs": [],
   "source": [
    "NNfullmodel = model\n",
    "\n",
    "NNfullmodel.compile(optimizer=sgd, loss='mean_squared_error', metrics=[R2])\n",
    "\n",
    "holdpreds = subinfo[NNpredsuse].astype(float)\n",
    "trainingfull = NNfullmodel.fit(x=holdpreds, y=subinfo[respuse], \n",
    "     batch_size=32, epochs=epochs, shuffle=True, verbose=0,\n",
    "    validation_split=0.3)\n",
    "    \n",
    "NNfullfits = np.reshape(NNfullmodel.predict(holdpreds),-1)\n",
    "subinfo['NNfullresids'] = subinfo[respuse]-NNfullfits"
   ]
  },
  {
   "cell_type": "markdown",
   "metadata": {},
   "source": [
    "# Set up Correlation Function Estimation"
   ]
  },
  {
   "cell_type": "markdown",
   "metadata": {},
   "source": [
    "For testing purposes, add a column which is the residual in the response, if the model were simply the average response."
   ]
  },
  {
   "cell_type": "code",
   "execution_count": 62,
   "metadata": {},
   "outputs": [],
   "source": [
    "subinfo['SimpResids'] = subinfo[respuse] - subinfo[respuse].mean()"
   ]
  },
  {
   "cell_type": "markdown",
   "metadata": {},
   "source": [
    "Define the column that will be used for the cross correlation quantity, e.g. size, mass, etc. "
   ]
  },
  {
   "cell_type": "code",
   "execution_count": 63,
   "metadata": {},
   "outputs": [],
   "source": [
    "S_weight_column='NNfullresids'"
   ]
  },
  {
   "cell_type": "markdown",
   "metadata": {},
   "source": [
    "Set up file and directory for output."
   ]
  },
  {
   "cell_type": "code",
   "execution_count": 64,
   "metadata": {},
   "outputs": [],
   "source": [
    "\n",
    "file_name='kappa_'+S_weight_column  #prefix to be appended to the files being saved. Should be different for different datasets.\n",
    "\n",
    "os.makedirs(file_dir,exist_ok=True)"
   ]
  },
  {
   "cell_type": "code",
   "execution_count": 65,
   "metadata": {},
   "outputs": [
    {
     "data": {
      "image/png": "[encoded data removed]",
      "text/plain": [
       "<Figure size 360x360 with 1 Axes>"
      ]
     },
     "metadata": {
      "needs_background": "light"
     },
     "output_type": "display_data"
    }
   ],
   "source": [
    "plt.figure(figsize=[5,5])\n",
    "hist(subinfo[S_weight_column], bins=100)\n",
    "plt.xlabel(S_weight_column,size=12)\n",
    "plt.show()    "
   ]
  },
  {
   "cell_type": "code",
   "execution_count": 66,
   "metadata": {},
   "outputs": [],
   "source": [
    "\"\"\" this function generates the input file for corr_pc\n",
    " corr_pc takes two samples to compute cross correlations. \n",
    " Shape sample: Sample of galaxies with shapes. For density correlations it is not necessary to pass shapes. \n",
    "               Prefix of filenames for this sample should be passed vias file_nameS\n",
    " Density sample: Sample of galaxies/particles that trace density field. For density correlations it is not necessary to pass shapes. \n",
    "                 If shapes are passed for this sample, w++ can be computed. Prefix of filenames for this sample should be passed vias file_nameD.\n",
    "                 If auto correlation is to be computed, simply set file_nameD=file_nameS.\n",
    " file_name: This is the prefix corr_pc will use to save the output files containing two point correlations. Input file to be passed to corr_pc is \n",
    "            also saved with this name. input file is saved in file_dir and the outputs are saved in new directory, file_dir+corr_data_out.\n",
    " corr: two point correlation to be computed. This should be density-density (wgg,wmm), shape-density (wg+) or shape-shape(w++). \n",
    "        When computing wg+, corr_pc will also compute and save wgg by default since pair counting is done anyways. \n",
    "        When doing w++, wg+ and wgg are also computed and saved.\n",
    " n_shape, n_density: number of galaxies in the shape sample and density sample respectively.\n",
    " do_jk: Whether to do jackknifing or not.\n",
    " njk: number of jackknife regions. jackknife regions are assumed to be labelled from 0...njk-1.\n",
    "\"\"\"\n",
    "def inp_gen(file_dir,file_name,file_nameS,file_nameD,corr=3,n_shape=0,n_density=0,njk=100,do_jk=1):\n",
    "    s=\"\"\n",
    "    s=s+\"which_corr     \"+str(corr)+\"\\n\" #0: density-density, 1: ia: shape-density, 2 ia:shape-shape, 3:kappa-density\n",
    "    s=s+\"coordinates    6\"+\"\\n\"  #0: rp-pi\n",
    "    s=s+\"estimator      0\"+\"\\n\"  #0:landy-szalay (LS): cross. works for both auto and cross correlations. For auto, pass same filenames for shape and density samples \n",
    "                                 # 1: LS:auto, for auto correlation only\n",
    "    s=s+\"data_sorted     0\"+\"\\n\"  #0: no sorting, 1:sorted by z, 2:sorted by dec (y)\n",
    "    s=s+\"use_comoving    1\"+\"\\n\"\n",
    "    s=s+\"do_jk           \"+str(do_jk)+\"\\n\" #0: no jackknife, 1: do jackknife. jk regions must be passed in a file. are assumed to be from 0..njk-1\n",
    "    s=s+\"sig_crit        0\"+\"\\n\" #for weak lensing, not important for ia, gg corrs.\n",
    "\n",
    "    #following passes information about shape sample\n",
    "    s=s+\"shape_pos       \"+file_dir+file_nameS+'_pos.dat'+\"\\n\"  # x, y coordinates\n",
    "    s=s+\"shape_z         \"+file_dir+file_nameS+'_z.dat'+\"\\n\"    # z coordinate\n",
    "    s=s+\"shape_e         \"+file_dir+file_nameS+'_kappa.dat'+\"\\n\"    # e1, e2 or kappa\n",
    "#     s=s+\"shape_wt         \"+file_dir+file_nameS+'_wt.dat'+\"\\n\"  # weights on galaxies. If no weighting, pass 0\n",
    "    s=s+\"shape_wt         0\"+\"\\n\"\n",
    "    s=s+\"shape_jk        \"+file_dir+file_nameS+'_jk.dat'+\"\\n\"   # jackknife regions\n",
    "\n",
    "    # following passes information about density sample\n",
    "    s=s+\"density_patch   0\"+\"\\n\" #for weak lensing, not important for ia, gg corrs.\n",
    "    s=s+\"density_pos     \"+file_dir+file_nameD+'_pos.dat'+\"\\n\"  # x, y coordinates\n",
    "    s=s+\"density_z       \"+file_dir+file_nameD+'_z.dat'+\"\\n\"    # z coordinate\n",
    "    s=s+\"density_wt       0\"+\"\\n\"  # weights on galaxies/particles. If no weighting, pass 0\n",
    "#     s=s+\"density_wt       \"+file_dir+file_nameD+'_wt.dat'+\"\\n\"  # weights on galaxies/particles. If no weighting, pass 0\n",
    "    s=s+\"density_jk      \"+file_dir+file_nameD+'_jk.dat'+\"\\n\"   # jackknife regions    \n",
    "    s=s+\"density_e      0\"+\"\\n\"   #if doing shape-shape, this file should be passed. # e1, e2\n",
    "\n",
    "    # following passes information about randoms corresponding to shape sample\n",
    "    s=s+\"Srandom_pos      0\"+\"\\n\"\n",
    "    s=s+\"Srandom_z        0\"+\"\\n\"\n",
    "    s=s+\"Srandoms_wt      0\"+\"\\n\"\n",
    "    s=s+\"Srand_jk         0\"+\"\\n\"\n",
    "\n",
    "    # following passes information about randoms corresponding to density sample\n",
    "    s=s+\"Drandom_patch    0\"+\"\\n\"\n",
    "    s=s+\"Drandom_pos      0\"+\"\\n\"\n",
    "    s=s+\"Drandom_z        0\"+\"\\n\"\n",
    "    s=s+\"Drandoms_wt      0\"+\"\\n\"\n",
    "    s=s+\"drand_jk         0\"+\"\\n\"\n",
    "\n",
    "    s=s+\"distances        0\"+\"\\n\"  #not needed for PB\n",
    "    s=s+\"patch_file       0\"+\"\\n\"  #not needed for PB\n",
    "    s=s+\"out_file         \"+file_dir+\"corr_data_out/\"+file_name+\"_\"+\"\\n\"  # prefix for the output files.\n",
    "    \n",
    "    os.makedirs(file_dir+\"corr_data_out/\",exist_ok=True) #directory where outputs are saved.\n",
    "    \n",
    "    s=s+\"n_threads       0\"+\"\\n\"   # number of openmp threads to use. 0== use maximum available.\n",
    "    s=s+\"n_shape         \"+str(n_shape)+\"\\n\"  #number of galaxies in shape sample\n",
    "    s=s+\"n_density       \"+str(n_density)+\"\\n\"  #number of galaxies in density sample\n",
    "    s=s+\"n_Srand         0\"+\"\\n\"\n",
    "    s=s+\"n_Drand         0\"+\"\\n\"\n",
    "    s=s+\"rand_subsample  0\"+\"\\n\"  #subsample randoms to speed up calculations.\n",
    "    s=s+\"n_jk          \"+str(njk)+\"\\n\"  #number of jk regions. regions are assumed to be labelled from 0....njk-1\n",
    "    s=s+\"n_patch         0 \"+\"\\n\"#not needed for PB\n",
    "\n",
    "    s=s+\"binR_min        0.1\"+\"\\n\"  # rp_min for the bins\n",
    "    s=s+\"binR_max       20\"+\"\\n\" # rp_max for the bins\n",
    "    s=s+\"n_bins         10\"+\"\\n\" #number of rp bins to use\n",
    "    s=s+\"lin_bin         0\"+\"\\n\"  #linear or log bins. 0: log, 1:linear\n",
    "    s=s+\"n_p_bin         20\"+\"\\n\"  #number of pi bins to use\n",
    "    s=s+\"pmin         -22\"+\"\\n\"  # pi_min (line of sight or z separation)\n",
    "    s=s+\"pmax         22\"+\"\\n\"   # pi_max (line of sight or z separation)\n",
    "    s=s+\"z_min         0\"+\"\\n\"    \n",
    "    s=s+\"z_max         300\"+\"\\n\" \n",
    "    s=s+\"dz            0.0001\"+\"\\n\" #not needed for PB\n",
    "    s=s+\"z_sep_min     -100\"+\"\\n\"  \n",
    "    s=s+\"z_sep_max     100\"+\"\\n\"   \n",
    "    s=s+\"periodic_box  1\"+\"\\n\"\n",
    "    s=s+\"box_size     75\"+\"\\n\"  #size of the box.\n",
    "\n",
    "    fil=open(file_dir+file_name+'.inp','w')\n",
    "    fil.write(s)\n"
   ]
  },
  {
   "cell_type": "markdown",
   "metadata": {},
   "source": [
    "This function splits the sim box into a grid in x-y plane. Number of grid splits along each axis are given by njk1, for a total of njk1^2 sub-sample regions.\n",
    "After this, each point in data (galaxy or particle) is assigned to its sub-sample."
   ]
  },
  {
   "cell_type": "code",
   "execution_count": 67,
   "metadata": {},
   "outputs": [],
   "source": [
    "def jk_box(data=[],Lbox=None,njk1=7):\n",
    "    if Lbox is None:\n",
    "        Lbox=np.ceil(max(data['x']))\n",
    "        print('jk_box using Lbox=',Lbox)\n",
    "    xjk=np.linspace(0,Lbox,njk1+1)\n",
    "    yjk=np.linspace(0,Lbox,njk1+1)\n",
    "    jk=np.zeros(len(data))\n",
    "    jjk=0\n",
    "    for i in np.arange(njk1):\n",
    "        xil=xjk[i]\n",
    "        xih=xjk[i+1]\n",
    "        x1=data['x']>xil\n",
    "        x2=data['x']<xih\n",
    "        for j in np.arange(njk1):\n",
    "            yil=yjk[j]\n",
    "            yih=yjk[j+1]\n",
    "            y1=data['y']>yil\n",
    "            y2=data['y']<=yih\n",
    "            jk[x1*x2*y1*y2]=jjk\n",
    "            jjk+=1\n",
    "#     jk=np.array(jk,dtype=[('jk','int32')])\n",
    "    return jk"
   ]
  },
  {
   "cell_type": "code",
   "execution_count": 68,
   "metadata": {},
   "outputs": [],
   "source": [
    "S_dat = Table.from_pandas(subinfo)"
   ]
  },
  {
   "cell_type": "markdown",
   "metadata": {},
   "source": [
    "Define `x`,`y`,`z` columns for cordinates. We will use the names `x`,`y`,`z`, below, instead of `gal_pos_x` etc. Different versions of the catalog have different naming conventions, please check. We will also use units of Mpc instead of Kpc, hence division by 1000."
   ]
  },
  {
   "cell_type": "code",
   "execution_count": 69,
   "metadata": {},
   "outputs": [],
   "source": [
    "S_dat['x']=np.float64(S_dat['gal_pos_x']/1000)\n",
    "S_dat['y']=np.float64(S_dat['gal_pos_y']/1000)\n",
    "S_dat['z']=np.float64(S_dat['gal_pos_z']/1000)"
   ]
  },
  {
   "cell_type": "markdown",
   "metadata": {},
   "source": [
    "Get jackknife regions for all the galaxies."
   ]
  },
  {
   "cell_type": "code",
   "execution_count": 70,
   "metadata": {},
   "outputs": [
    {
     "name": "stdout",
     "output_type": "stream",
     "text": [
      "jk_box using Lbox= 75.0\n"
     ]
    }
   ],
   "source": [
    "S_dat['jk'] = jk_box(data=S_dat)\n",
    "S_dat.sort('z')"
   ]
  },
  {
   "cell_type": "code",
   "execution_count": 71,
   "metadata": {},
   "outputs": [
    {
     "data": {
      "image/png": "[encoded data removed]",
      "text/plain": [
       "<Figure size 432x288 with 1 Axes>"
      ]
     },
     "metadata": {
      "needs_background": "light"
     },
     "output_type": "display_data"
    }
   ],
   "source": [
    "_=hist2d(S_dat['y'],S_dat['z'],1000,norm=LogNorm())"
   ]
  },
  {
   "cell_type": "markdown",
   "metadata": {},
   "source": [
    "We will assume density and shape sample to be same, hence following can be done."
   ]
  },
  {
   "cell_type": "markdown",
   "metadata": {},
   "source": [
    "For density sample, still use entire sample, but for `S_dat` restrict to satellite or central."
   ]
  },
  {
   "cell_type": "code",
   "execution_count": 72,
   "metadata": {},
   "outputs": [],
   "source": [
    "D_dat=S_dat"
   ]
  },
  {
   "cell_type": "markdown",
   "metadata": {},
   "source": [
    "We define a new column kappa, which will contain the \"processed\" version of weight column defined above. The \"processed\" here could be mean subtraction, renormalization or taking log of the quantity.\n",
    "Remeber to do this on the final version of catalog, after all the cuts have been applied since that can affect the mean, etc.\n",
    " For mass, we will take log to prevent few massive galaxies from dominating the measurements."
   ]
  },
  {
   "cell_type": "code",
   "execution_count": 73,
   "metadata": {},
   "outputs": [],
   "source": [
    "#S_dat['kappa']=np.log10(S_dat[S_weight_column])\n",
    "\n",
    "S_dat['kappa'] = S_dat[S_weight_column]\n",
    "S_dat['kappa'] -= S_dat['kappa'].mean()"
   ]
  },
  {
   "cell_type": "markdown",
   "metadata": {},
   "source": [
    "Function to write data files in format that can be read by corr_pc"
   ]
  },
  {
   "cell_type": "code",
   "execution_count": 74,
   "metadata": {},
   "outputs": [],
   "source": [
    "def write_data(data,file_name,file_dir,wt_col=None):\n",
    "    file_name=file_dir+file_name\n",
    "    np.savetxt(file_name+'_pos.dat',np.column_stack((data['x'],data['y']))) #x,y position of galaxies\n",
    "    np.savetxt(file_name+'_z.dat',data['z']) # z position of galaxies\n",
    "    if 'jk' in data.columns:\n",
    "        np.savetxt(file_name+'_jk.dat',data['jk'],fmt='%i') #jackknife is read as integer\n",
    "    if 'kappa' in data.columns: #ellipticities. corr_pc takes e1, e2\n",
    "        np.savetxt(file_name+'_kappa.dat',data['kappa'])\n",
    "    if wt_col is not None: #wt to be applied to each galaxy/particle.\n",
    "        wt=data[wt_col]*1.\n",
    "        wt/=wt.mean()\n",
    "        np.savetxt(file_name+'_wt.dat',wt)"
   ]
  },
  {
   "cell_type": "markdown",
   "metadata": {},
   "source": [
    "Write shape data to files."
   ]
  },
  {
   "cell_type": "code",
   "execution_count": 75,
   "metadata": {},
   "outputs": [],
   "source": [
    "file_nameS=file_name+'_shape'\n",
    "write_data(data=S_dat,file_name=file_nameS,file_dir=file_dir,)#wt_col='mass')"
   ]
  },
  {
   "cell_type": "markdown",
   "metadata": {},
   "source": [
    "Write density data to files. Only necessary if the two catalogs are different."
   ]
  },
  {
   "cell_type": "code",
   "execution_count": 76,
   "metadata": {},
   "outputs": [],
   "source": [
    "#file_nameD=file_name+'_density'\n",
    "#write_data(data=D_dat,file_name=file_nameD,file_dir=file_dir,wt_col='mass')\n",
    "file_nameD=file_nameS"
   ]
  },
  {
   "cell_type": "markdown",
   "metadata": {},
   "source": [
    "Generate the input file. Corr_pac will be called using this file.\n",
    "`corr=0` will only do wgg like correlation, no shapes. set `corr=1` for wg+ and wgg"
   ]
  },
  {
   "cell_type": "code",
   "execution_count": 77,
   "metadata": {},
   "outputs": [],
   "source": [
    "inp_gen(file_dir=file_dir,file_name=file_name,file_nameS=file_nameS,file_nameD=file_nameD,corr=3,n_shape=len(S_dat),n_density=len(D_dat),\n",
    "        njk=int(S_dat['jk'].max()+1),do_jk=1) "
   ]
  },
  {
   "cell_type": "code",
   "execution_count": 78,
   "metadata": {
    "scrolled": false
   },
   "outputs": [
    {
     "data": {
      "image/png": "[encoded data removed]",
      "text/plain": [
       "<Figure size 432x288 with 1 Axes>"
      ]
     },
     "metadata": {
      "needs_background": "light"
     },
     "output_type": "display_data"
    }
   ],
   "source": [
    "_=hist(S_dat['jk'],int(S_dat['jk'].max()+1))"
   ]
  },
  {
   "cell_type": "markdown",
   "metadata": {},
   "source": [
    "From within corr_pc directory, you can run corr_pc as \n",
    "\n",
    "`./corr_pc file_dir/file_name.inp`\n",
    "\n",
    "For example:\n",
    "\n",
    "`./corr_pc ./temp/ill_test/ill_test_kappa.inp`\n",
    "\n",
    "`./corr_pc ./temp/ChadAnalyses/kappa_SimpResids.inp`"
   ]
  },
  {
   "cell_type": "code",
   "execution_count": 79,
   "metadata": {},
   "outputs": [
    {
     "name": "stdout",
     "output_type": "stream",
     "text": [
      "Running ./corr_pc ./temp/ChadAnalyses/Mags/kappa_NNfullresids.inp\n"
     ]
    },
    {
     "name": "stdout",
     "output_type": "stream",
     "text": [
      "Success\n"
     ]
    }
   ],
   "source": [
    "foo = './corr_pc '+ file_dir + file_name+'.inp'\n",
    "print('Running '+foo)\n",
    "holdout = os.system(foo)\n",
    "if(holdout == 0):\n",
    "    print(\"Success\")\n",
    "else:\n",
    "    print(\"Failure\")"
   ]
  },
  {
   "cell_type": "markdown",
   "metadata": {},
   "source": [
    "## Process the results to create correlation plots"
   ]
  },
  {
   "cell_type": "code",
   "execution_count": 80,
   "metadata": {},
   "outputs": [],
   "source": [
    "def check_empty(arr): # True is empty\n",
    "    try:\n",
    "        #print not arr.any()\n",
    "        try:\n",
    "            return not arr.any()\n",
    "        except:\n",
    "            if arr.size!=0: #for rec array\n",
    "                return False\n",
    "            else:\n",
    "                return True\n",
    "    except:\n",
    "        #print not bool(arr)\n",
    "        return not bool(arr) #for other python types, including dictionary"
   ]
  },
  {
   "cell_type": "code",
   "execution_count": 81,
   "metadata": {},
   "outputs": [],
   "source": [
    "ignore_keys=['rp','r','jk','cov','corr','jk_err','jkerr','data','data0']\n",
    "class cov_corr():\n",
    "    def mean_calc(self,data=[],axis=1):\n",
    "        return np.mean(data,axis)\n",
    "\n",
    "    def var_calc(self,data=[],axis=1):\n",
    "        return np.var(data,axis)\n",
    "\n",
    "    def residual_calc(self,data=[],axis=1): #calculate residual that go into cov calculation, y-E(y)\n",
    "        mean=self.mean_calc(data,axis)\n",
    "        dim0=len(mean)\n",
    "        dim1=np.shape(data)[axis]\n",
    "        #print dim0,dim1,axis\n",
    "# since mean is always 1-d array, [mean]*dim1 always give matrix [dim0 X dim1]...\n",
    "#hence depending on dimension of data may need to transpose to get correct residuals\n",
    "        try:\n",
    "            res=data-np.transpose([mean]*dim1)\n",
    "            print (\"transpose\")\n",
    "        except:\n",
    "            res=data-[mean]*dim1\n",
    "        return res\n",
    "\n",
    "    def cov_matrix2(self,data=[],axis=1,ddof=0):\n",
    "        return np.cov(data,rowvar=axis)\n",
    "\n",
    "    def cov_matrix(self,data=[],axis=1,ddof=0):\n",
    "        #return np.cov(data,rowvar=axis,ddof=1) #ddof=0 for correct variance\n",
    "        mean=self.mean_calc(data,axis)\n",
    "        dim0=len(mean)\n",
    "        dim1=np.shape(data)[axis]\n",
    "        res=self.residual_calc(data=data,axis=axis)\n",
    "        cov=np.zeros((dim0,dim0))\n",
    "        if len(res[0])!=dim1:\n",
    "            res=np.transpose(res)#residual has dimension of data..\n",
    "                                #depending on axis value, may need to transpose for correct covariance\n",
    "        for i in np.arange(dim0):\n",
    "            for j in np.arange(dim0):\n",
    "                cov[i][j]+=np.sum(res[i]*res[j])\n",
    "        cov/=np.float64(dim1-ddof)\n",
    "        return cov\n",
    "\n",
    "    def cross_cov_matrix2(self,data1=[],data2=[],axis=1,ddof=0):\n",
    "        cross_cov=np.cov(data1,data2,rowvar=axis)\n",
    "        N1=len(data1[0])\n",
    "        N2=len(data2[0])\n",
    "        cov2=np.zeros((N1,N2))\n",
    "        for i in np.arange(N1):\n",
    "            for j in np.arange(N2):\n",
    "                cov2[i][j]=cross_cov[i+N1][j]\n",
    "        return cov2\n",
    "\n",
    "    def cross_cov_matrix(self,data1=[],data2=[],axis=1,ddof=0):\n",
    "    #return np.cov(data,rowvar=axis,ddof=1) #ddof=0 for correct variance\n",
    "        mean1=self.mean_calc(data1,axis)\n",
    "        mean2=self.mean_calc(data2,axis)\n",
    "        dim0=len(mean1)\n",
    "        dim2=len(mean2)\n",
    "        dim1=np.shape(data1)[axis]\n",
    "        res1=self.residual_calc(data=data1,axis=axis)\n",
    "        res2=self.residual_calc(data=data2,axis=axis)\n",
    "        cov=np.zeros((dim0,dim2))\n",
    "        if dim0!=dim2:\n",
    "            print ('cross cov: dimensions of data 1 and data2 not equal')\n",
    "        if len(res1[0])!=dim1:\n",
    "            res2=np.transpose(res2)\n",
    "            res1=np.transpose(res1)#residual has dimension of data..\n",
    "                            #depending on axis value, may need to transpose for correct covariance\n",
    "        for i in np.arange(dim0):\n",
    "            for j in np.arange(dim2):\n",
    "                cov[i][j]+=np.sum(res1[i]*res2[j])\n",
    "        cov/=np.float64(dim1-ddof)\n",
    "        return cov\n",
    "\n",
    "    #for some reason numpy covariance matrix has some constant multiplied to it..\n",
    "    #seems to be some func of N but can't figure it out.\n",
    "    #this func returns that constants value by comparing it with variance\n",
    "    def var_cov_comparison(self,var=[],cov=[]):\n",
    "        l=len(cov[0])\n",
    "        v2=np.zeros_like(var)\n",
    "        for i in np.arange(l):\n",
    "            v2[i]=cov[i][i]\n",
    "        r=var/v2\n",
    "        x=r==r[0]\n",
    "        if sum(x)<l:\n",
    "            print (\"variance-covariance miss match\") #return full ratio array in case r is not constant\n",
    "            return r  #note comparison can be easily fooled due to floating point error\n",
    "        return [r[0]]\n",
    "\n",
    "    def corr_matrix(self,cov_mat=[]): #correlation matrix\n",
    "        diag=np.diag(cov_mat)\n",
    "        return cov_mat/np.sqrt(np.outer(diag,diag))\n",
    "        # dim=len(cov_mat[0])\n",
    "        # var=np.zeros(dim)\n",
    "        # corr=np.zeros((dim,dim))\n",
    "        # for i in np.arange(dim):\n",
    "        #     var[i]=cov_mat[i][i]\n",
    "        # for i in np.arange(dim):\n",
    "        #     for j in np.arange(dim):\n",
    "        #         corr[i][j]=cov_mat[i][j]/np.sqrt(var[i]*var[j])\n",
    "        # return corr\n",
    "\n",
    "    def cross_corr_matrix(self,cov_mat=[],data1=[],data2=[],axis=1): #correlation matrix\n",
    "        dim=len(cov_mat[0])\n",
    "        var1=self.var_calc(data1,axis)\n",
    "        var2=self.var_calc(data2,axis)\n",
    "        corr=np.zeros((dim,dim))\n",
    "#        for i in np.arange(dim):\n",
    " #           var[i]=cov_mat[i][i]\n",
    "        for i in np.arange(dim):\n",
    "            for j in np.arange(dim):\n",
    "                corr[i][j]=cov_mat[i][j]/np.sqrt(var1[i]*var2[j])\n",
    "        return corr\n",
    "\n",
    "    #stack column from various dictionary elements to get a data matrix which goes into covariance calculations\n",
    "    #incase dict elements have several columns, var defines the column to be used. better to have named columns\n",
    "    def dict_stack(self,dic={},var='',ignore_keys=ignore_keys):\n",
    "        keys=dic.keys()\n",
    "        j=0\n",
    "        mat=[]\n",
    "        axis=0\n",
    "        for i in keys:\n",
    "            if i in ignore_keys:\n",
    "                #print 'cov_corr.dict_stack::',i,'ignored in stacking'\n",
    "                continue\n",
    "            if j==0:\n",
    "                if not check_empty(var):\n",
    "                    mat=dic[i][var]\n",
    "                else:\n",
    "                    mat=dic[i]#[:]\n",
    "                j=j+1\n",
    "                continue\n",
    "            if not check_empty(var):\n",
    "                mat=np.vstack((mat,dic[i][var]))\n",
    "            else:\n",
    "                mat=np.vstack((mat,dic[i]))#dic[i][:]\n",
    "        return mat,axis\n",
    "\n",
    "\n",
    "    def dict_cov(self,dic={},var='',stack=0,axis=0,ddof=0,ignore_keys=ignore_keys):\n",
    "        if stack!=0:\n",
    "            #print \"cov_corr: Stacking dictionary\"\n",
    "            mat,axis=self.dict_stack(dic=dic,var=var,ignore_keys=ignore_keys)\n",
    "            #print \"cov_corr: dictionary stacked\"\n",
    "        if stack==0:\n",
    "            #print \"no stacking:\",var,axis\n",
    "            mat=dic[var]\n",
    "            axis=axis\n",
    "        cov=self.cov_matrix2(data=mat,axis=axis,ddof=ddof)\n",
    "        #print cov.shape\n",
    "        corr=self.corr_matrix(cov)\n",
    "        return cov,corr\n",
    "\n",
    "\n",
    "    def dict_cross_cov(self,dic={},dic2={},var1='',var2='',stack=0,axis=0,ddof=0):\n",
    "        if stack!=0:\n",
    "            #print \"cov_corr: Stacking dictionary\"\n",
    "            mat1,axis=self.dict_stack(dic=dic,var=var1)\n",
    "            if dic2:\n",
    "                mat2,axis=self.dict_stack(dic=dic2,var=var2)\n",
    "            else:\n",
    "                mat2,axis=self.dict_stack(dic=dic,var=var2)\n",
    "        if stack==0:\n",
    "            #print \"no stacking:\",var,axis\n",
    "            mat1=dic[var1]\n",
    "            if dic2:\n",
    "                mat2=dic2[var2]\n",
    "            else:\n",
    "                mat2=dic[var2]\n",
    "            axis=axis\n",
    "        cov=self.cross_cov_matrix2(data1=mat1,data2=mat2,axis=axis,ddof=ddof)\n",
    "        corr=self.cross_corr_matrix(cov_mat=cov,data1=mat1,data2=mat2,axis=axis)\n",
    "        return cov,corr\n",
    "\n",
    "    def matrix_diagonalize(self,m=[]):\n",
    "        N1=len(m)\n",
    "        N2=len(m[0])\n",
    "        for i in np.arange(N1):\n",
    "            for j in np.arange(N2):\n",
    "                if i==j:\n",
    "                    continue\n",
    "                m[i][j]=0\n",
    "        return m\n",
    "\n",
    "    def mat_inv(self,m=[]):\n",
    "        return np.linalg.inv(m)\n",
    "\n",
    "    def matrix_cut(self,mat=[],x=[]):\n",
    "        m=mat[x]\n",
    "        N=sum(x)\n",
    "        m2=np.zeros((N,N))\n",
    "        j=0\n",
    "        for i in m:\n",
    "            m2[j]=i[x]\n",
    "            j=j+1\n",
    "        return m2\n",
    "\n",
    "    def chi_sq(self,theory=[],data=[],x=[],cov=[]):\n",
    "        if len(x):\n",
    "            data=data[x]\n",
    "            theory=theory[x]\n",
    "            cov=self.matrix_cut(mat=cov,x=x)\n",
    "        cov_inv=self.mat_inv(m=cov)\n",
    "        #print data.shape,theory.shape,cov.shape,cov_inv.shape\n",
    "        N=len(data)\n",
    "        chi_sq=0\n",
    "        for i in np.arange(N):\n",
    "            for j in np.arange(N):\n",
    "                chi_sq+=((data[i]-theory[i])*(data[j]-theory[j])*(cov_inv[i][j]))\n",
    "        #chi_sq/=2.\n",
    "        return chi_sq,N"
   ]
  },
  {
   "cell_type": "code",
   "execution_count": 82,
   "metadata": {},
   "outputs": [],
   "source": [
    "def jk_read(dataset='',var=None,njk=100,auto_cross='_cross',bins='_bins',\n",
    "            home='',corr='_final',skiprows=0,**kwargs):\n",
    "    data_jk={}\n",
    "    filename=dataset\n",
    "    try:\n",
    "        data_jk['data']=np.genfromtxt(home+filename+bins+auto_cross+'_jk_final.dat',\n",
    "                                      names=True,skip_header=skiprows)\n",
    "    except:\n",
    "        print ('file not found')\n",
    "    try:\n",
    "        data_jk['data0']=np.genfromtxt(home+filename+bins+auto_cross+corr+'.dat',\n",
    "                                       names=True,skip_header=skiprows)\n",
    "    except:\n",
    "        print ('file not found',home+filename+bins+auto_cross+corr+'.dat')\n",
    "    for i in np.arange(njk):\n",
    "        data_jk[i]=np.genfromtxt(home+filename+bins+auto_cross+'_jk'+str(i)+corr+'.dat',names=True,\n",
    "                                 skip_header=skiprows)\n",
    "    cc=cov_corr()\n",
    "    if var and njk>0:\n",
    "        data_jk['cov']={}\n",
    "        data_jk['corr']={}\n",
    "        for v in var:\n",
    "            cov,corr=cc.dict_cov(dic=data_jk,var=v,stack=1,ignore_keys=['data','data0','cov','corr'])\n",
    "            cov*=njk-1.\n",
    "            data_jk['cov'][v]=cov\n",
    "            data_jk['corr'][v]=corr\n",
    "    return data_jk"
   ]
  },
  {
   "cell_type": "code",
   "execution_count": 83,
   "metadata": {},
   "outputs": [],
   "source": [
    "file_dir_out=file_dir+'corr_data_out/'\n",
    "\n",
    "njk = int(S_dat['jk'].max()+1)"
   ]
  },
  {
   "cell_type": "code",
   "execution_count": 84,
   "metadata": {},
   "outputs": [],
   "source": [
    "w_jk=jk_read(dataset=file_name,var=['wgg','wgp'],njk=njk,auto_cross='_cross',bins='_bins',\n",
    "            home=file_dir_out,corr='_final',skiprows=0)"
   ]
  },
  {
   "cell_type": "code",
   "execution_count": 85,
   "metadata": {
    "scrolled": true
   },
   "outputs": [
    {
     "data": {
      "text/plain": [
       "dict_keys(['data', 'data0', 0, 1, 2, 3, 4, 5, 6, 7, 8, 9, 10, 11, 12, 13, 14, 15, 16, 17, 18, 19, 20, 21, 22, 23, 24, 25, 26, 27, 28, 29, 30, 31, 32, 33, 34, 35, 36, 37, 38, 39, 40, 41, 42, 43, 44, 45, 46, 47, 48, 'cov', 'corr'])"
      ]
     },
     "execution_count": 85,
     "metadata": {},
     "output_type": "execute_result"
    }
   ],
   "source": [
    "w_jk.keys()"
   ]
  },
  {
   "cell_type": "markdown",
   "metadata": {},
   "source": [
    "'data': contains the jackknife mean and the jackknife errorbars\n",
    "\n",
    "'data0': Contains the full sample measurements. Do not use the errorbars from this set.\n",
    "\n",
    "0....njk-1: Contains measurements from the respective jackknife regions.\n",
    "\n",
    "cov, corr: Covariance and correlation matrices for the variables passed."
   ]
  },
  {
   "cell_type": "code",
   "execution_count": 86,
   "metadata": {
    "scrolled": true
   },
   "outputs": [
    {
     "data": {
      "text/plain": [
       "Text(0, 0.5, '$r_p w_{gg}$')"
      ]
     },
     "execution_count": 86,
     "metadata": {},
     "output_type": "execute_result"
    },
    {
     "data": {
      "image/png": "[encoded data removed]",
      "text/plain": [
       "<Figure size 432x288 with 1 Axes>"
      ]
     },
     "metadata": {
      "needs_background": "light"
     },
     "output_type": "display_data"
    }
   ],
   "source": [
    "rp=w_jk['data0']['rp']\n",
    "errorbar(rp,rp*w_jk['data0']['wgg'],rp*w_jk['data']['wgg_err'],fmt='bo')\n",
    "loglog()\n",
    "xlabel(r'$r_p$ (Mpc/h)')\n",
    "ylabel(r'$r_p w_{gg}$')"
   ]
  },
  {
   "cell_type": "code",
   "execution_count": 87,
   "metadata": {},
   "outputs": [
    {
     "data": {
      "text/plain": [
       "Text(0, 0.5, '$r_p w_{g\\\\kappa}$')"
      ]
     },
     "execution_count": 87,
     "metadata": {},
     "output_type": "execute_result"
    },
    {
     "data": {
      "image/png": "[encoded data removed]",
      "text/plain": [
       "<Figure size 432x288 with 1 Axes>"
      ]
     },
     "metadata": {
      "needs_background": "light"
     },
     "output_type": "display_data"
    }
   ],
   "source": [
    "rp=w_jk['data0']['rp']\n",
    "errorbar(rp,rp*w_jk['data0']['wgp'],rp*w_jk['data']['wgp_err'],fmt='bo')\n",
    "#loglog()\n",
    "xscale('log')\n",
    "xlabel(r'$r_p$ (Mpc/h)')\n",
    "ylabel(r'$r_p w_{g\\kappa}$')"
   ]
  },
  {
   "cell_type": "markdown",
   "metadata": {},
   "source": [
    "# Residual plots"
   ]
  },
  {
   "cell_type": "code",
   "execution_count": 88,
   "metadata": {},
   "outputs": [],
   "source": [
    "residsuse = 'NNfullresids'"
   ]
  },
  {
   "cell_type": "code",
   "execution_count": 89,
   "metadata": {},
   "outputs": [],
   "source": [
    "def calc_mean(xvar='',yvar='',data=[],data_cuts=None,rms=0,bins=None,N_bins=20,x_min=None,x_max=None,xlog=False,**kwargs):\n",
    "    \"\"\"\n",
    "    Compute the mean of y in bins of x.\n",
    "    \n",
    "    Arguments\n",
    "    ----------------\n",
    "    xvar: name of the x variable column\n",
    "    yvar: name of the y variable column\n",
    "    data: Dataset, can be a dict, astropy or pandas table or numpy named array\n",
    "    data_cuts: Any cuts to be applied on data. Boolean array. Useful for jackknife calculations\n",
    "    rms: if non-zero, compute rms instead of mean. quantity returned is <y**(rms+1)>^{1./(rms+1)}. rms can be any number.\n",
    "    bins: bin edges for the x axis to use. If None, we can compute it here using following arguments\n",
    "    N_bins: Number of bins\n",
    "    x_min: minimum value of x to use. If None, minimum from data[xvar] will be used\n",
    "    x_max: maximum value of x to use. If None, maximum from data[xvar] will be used\n",
    "    xlog: If True, use log bins in x. Otherwise linear bins are used.\n",
    "    \n",
    "    Returns:\n",
    "    bins: bin edges\n",
    "    bc: Bin centers\n",
    "    mean_y: mean value of y within bins\n",
    "    \"\"\"\n",
    "    datx=data[xvar]\n",
    "    daty=data[yvar]\n",
    "    if data_cuts is not None:\n",
    "        datx=datx[data_cuts]\n",
    "        daty=daty[data_cuts]\n",
    "    if bins is None:\n",
    "        if x_min is None:\n",
    "            x_min=min(datx)\n",
    "        if x_max is None:\n",
    "            x_max=max(datx)\n",
    "        if xlog:\n",
    "            bins=np.logspace(np.log10(x_min),np.log10(x_max),N_bins+1)\n",
    "        else:\n",
    "            bins=np.linspace(x_min,x_max,N_bins+1)\n",
    "    x_c,_=np.histogram(datx,bins=bins)\n",
    "    x_c=np.float64(x_c)\n",
    "    y_c,_=np.histogram(datx,weights=(daty**(rms+1.))/(rms+1),bins=bins)\n",
    "    mean_y=y_c/x_c\n",
    "    mean_y=mean_y**(1./(rms+1.))\n",
    "    bc=0.5*(bins[1:]+bins[:-1])\n",
    "    return bins,bc,mean_y"
   ]
  },
  {
   "cell_type": "code",
   "execution_count": 90,
   "metadata": {},
   "outputs": [],
   "source": [
    "def calc_mean_jk(mean_func=calc_mean,jk_col='jk',njk=None,xvar='',yvar='',data=[],data_cuts=None,rms=0,bins=None,N_bins=20,x_min=None,x_max=None,xlog=False,**kwargs):\n",
    "    \"\"\"\n",
    "    Compute the mean of y in bins of x, for every jackknife region. Returns a dict with calclations for all jackknife regions as well as the jackknife mean and covariance.\n",
    "    Arguments\n",
    "    ----------------\n",
    "    mean_func=calc_mean: function to use for computing mean values. \n",
    "    jk_col: jackknife column name\n",
    "    remaining arguments are same as calc_mean function above.\n",
    "    \n",
    "    returns:\n",
    "    \n",
    "    \"\"\"\n",
    "    if njk is None:\n",
    "        njk=max(data[jk_col])+1\n",
    "    njk=int(njk)\n",
    "    jkr=np.arange(njk)\n",
    "    means={}\n",
    "    bins,bins_center,means['full']=mean_func(xvar=xvar,yvar=yvar,data=data,data_cuts=data_cuts,rms=rms,bins=bins,N_bins=N_bins,x_min=x_min,x_max=x_max,xlog=xlog,**kwargs)\n",
    "    mean=np.zeros((njk,len(bins_center)))\n",
    "    dat_jk=data[jk_col]\n",
    "    for i in jkr:\n",
    "        x=dat_jk!=i\n",
    "        if data_cuts is not None:\n",
    "            x=np.logical_and(x,data_cuts)\n",
    "        bins,bins_center,mean[i]=mean_func(xvar=xvar,yvar=yvar,data=data,data_cuts=x,rms=rms,bins=bins,N_bins=N_bins,x_min=x_min,x_max=x_max,xlog=xlog,**kwargs)\n",
    "    means['regions']=mean\n",
    "    means['jk_mean']=np.mean(mean,axis=0)\n",
    "    means['jk_var']=np.var(mean,axis=0)*(njk-1)*(njk-1)/njk\n",
    "    means['jk_err']=np.sqrt(means['jk_var'])\n",
    "    return bins,bins_center,means"
   ]
  },
  {
   "cell_type": "code",
   "execution_count": 91,
   "metadata": {},
   "outputs": [
    {
     "data": {
      "image/png": "[encoded data removed]",
      "text/plain": [
       "<Figure size 432x288 with 2 Axes>"
      ]
     },
     "metadata": {
      "needs_background": "light"
     },
     "output_type": "display_data"
    }
   ],
   "source": [
    "bins,bc,m=calc_mean_jk(jk_col='jk',data=S_dat,xvar='mass',yvar=residsuse,xlog=True)\n",
    "\n",
    "_=hist2d(np.float64(S_dat['mass']),S_dat[residsuse],\n",
    "  bins=[np.float64(bins),np.linspace(-1.5,1.5,15)],\n",
    "  norm=LogNorm(),cmap='Reds')\n",
    "errorbar(bc,m['jk_mean'],m['jk_err'])\n",
    "xscale('log')\n",
    "xlabel('mass')\n",
    "ylabel(residsuse)\n",
    "colorbar()\n",
    "plt.show()"
   ]
  },
  {
   "cell_type": "code",
   "execution_count": 92,
   "metadata": {},
   "outputs": [
    {
     "data": {
      "image/png": "[encoded data removed]",
      "text/plain": [
       "<Figure size 432x288 with 1 Axes>"
      ]
     },
     "metadata": {
      "needs_background": "light"
     },
     "output_type": "display_data"
    },
    {
     "data": {
      "image/png": "[encoded data removed]",
      "text/plain": [
       "<Figure size 432x288 with 1 Axes>"
      ]
     },
     "metadata": {
      "needs_background": "light"
     },
     "output_type": "display_data"
    },
    {
     "data": {
      "image/png": "[encoded data removed]",
      "text/plain": [
       "<Figure size 432x288 with 1 Axes>"
      ]
     },
     "metadata": {
      "needs_background": "light"
     },
     "output_type": "display_data"
    },
    {
     "data": {
      "image/png": "[encoded data removed]",
      "text/plain": [
       "<Figure size 432x288 with 1 Axes>"
      ]
     },
     "metadata": {
      "needs_background": "light"
     },
     "output_type": "display_data"
    }
   ],
   "source": [
    "vlist = {'mc_disk','g - r','r - i','e1','e2','gband Mag'}\n",
    "vlist = predsscl\n",
    "\n",
    "for vname in vlist:\n",
    "    bins,bc,m=calc_mean_jk(jk_col='jk',data=S_dat,xvar=vname,yvar=residsuse,xlog=False)\n",
    "\n",
    "    #_=hist2d(np.float64(S_dat[vname]),S_dat['PPRresids'],\n",
    "    #  bins=[np.float64(bins),np.linspace(-1.5,1.5,15)],\n",
    "    #  norm=LogNorm(),cmap='Reds')\n",
    "    errorbar(bc,m['jk_mean'],m['jk_err'])\n",
    "    hlines(0,bc[0],bc[-1])\n",
    "    xlabel(vname)\n",
    "    ylabel(residsuse)\n",
    "    #colorbar()\n",
    "    plt.show()"
   ]
  },
  {
   "cell_type": "code",
   "execution_count": 93,
   "metadata": {},
   "outputs": [
    {
     "data": {
      "image/png": "[encoded data removed]",
      "text/plain": [
       "<Figure size 432x288 with 2 Axes>"
      ]
     },
     "metadata": {
      "needs_background": "light"
     },
     "output_type": "display_data"
    },
    {
     "data": {
      "image/png": "[encoded data removed]",
      "text/plain": [
       "<Figure size 432x288 with 2 Axes>"
      ]
     },
     "metadata": {
      "needs_background": "light"
     },
     "output_type": "display_data"
    },
    {
     "data": {
      "image/png": "[encoded data removed]",
      "text/plain": [
       "<Figure size 432x288 with 2 Axes>"
      ]
     },
     "metadata": {
      "needs_background": "light"
     },
     "output_type": "display_data"
    },
    {
     "data": {
      "image/png": "[encoded data removed]",
      "text/plain": [
       "<Figure size 432x288 with 2 Axes>"
      ]
     },
     "metadata": {
      "needs_background": "light"
     },
     "output_type": "display_data"
    }
   ],
   "source": [
    "vlist = {'f_disk','g - r','r - i','e1','e2','gband Mag'}\n",
    "vlist = predsscl\n",
    "\n",
    "for vname in vlist:\n",
    "    bins,bc,m=calc_mean_jk(jk_col='jk',data=S_dat,xvar=vname,yvar=residsuse,xlog=False)\n",
    "\n",
    "    _=hist2d(np.float64(S_dat[vname]),S_dat[residsuse],\n",
    "      bins=[np.float64(bins),np.linspace(-1.5,1.5,15)],\n",
    "      norm=LogNorm(),cmap='Reds')\n",
    "    errorbar(bc,m['jk_mean'],m['jk_err'])\n",
    "    hlines(0,bc[0],bc[-1])\n",
    "    xlabel(vname)\n",
    "    ylabel(residsuse)\n",
    "    colorbar()\n",
    "    plt.show()"
   ]
  },
  {
   "cell_type": "markdown",
   "metadata": {},
   "source": [
    "# RMSE"
   ]
  },
  {
   "cell_type": "code",
   "execution_count": 94,
   "metadata": {},
   "outputs": [
    {
     "name": "stdout",
     "output_type": "stream",
     "text": [
      "RMSE PPR on test set:\n",
      "0.2679702102999569\n",
      "RMSE PPR on training set:\n",
      "0.2593108382861657\n"
     ]
    }
   ],
   "source": [
    "print(\"RMSE PPR on test set:\")\n",
    "print(sqrt(mean((PPRfitsontest-test_labels)**2)))\n",
    "\n",
    "print(\"RMSE PPR on training set:\")\n",
    "print(sqrt(mean(residuals**2)))"
   ]
  },
  {
   "cell_type": "code",
   "execution_count": 95,
   "metadata": {},
   "outputs": [
    {
     "data": {
      "image/png": "[encoded data removed]",
      "text/plain": [
       "<Figure size 360x360 with 1 Axes>"
      ]
     },
     "metadata": {
      "needs_background": "light"
     },
     "output_type": "display_data"
    }
   ],
   "source": [
    "plt.figure(figsize=[5,5])\n",
    "hist2d(x=PPRfitsontest,\n",
    "       y=test_labels,\n",
    "         bins=200,\n",
    "         norm=matplotlib.colors.LogNorm())\n",
    "plt.title('Projection Pursuit Performance')\n",
    "plt.ylabel('Test Set Response',size=12)\n",
    "plt.xlabel('Test Set Fitted Values',size=12)\n",
    "plt.plot([-100, 100], [-100, 100], 'b-')\n",
    "plt.xlim(-1.5,3)\n",
    "plt.ylim(-1.5,3)\n",
    "\n",
    "plt.show()"
   ]
  },
  {
   "cell_type": "code",
   "execution_count": 96,
   "metadata": {},
   "outputs": [
    {
     "name": "stdout",
     "output_type": "stream",
     "text": [
      "RMSE NN on test set:\n",
      "0.3120203867679842\n",
      "RMSE NN on training set:\n",
      "0.3047150208197385\n"
     ]
    }
   ],
   "source": [
    "print(\"RMSE NN on test set:\")\n",
    "print(sqrt(mean((NNfitsontest-test_labels)**2)))\n",
    "\n",
    "print(\"RMSE NN on training set:\")\n",
    "print(sqrt(mean((NNfitsontrain-train_labels)**2)))"
   ]
  },
  {
   "cell_type": "code",
   "execution_count": 97,
   "metadata": {
    "scrolled": true
   },
   "outputs": [
    {
     "data": {
      "image/png": "[encoded data removed]",
      "text/plain": [
       "<Figure size 360x360 with 1 Axes>"
      ]
     },
     "metadata": {
      "needs_background": "light"
     },
     "output_type": "display_data"
    }
   ],
   "source": [
    "plt.figure(figsize=[5,5])\n",
    "hist2d(x=NNfitsontest,\n",
    "       y=test_labels,\n",
    "         bins=200,\n",
    "         norm=matplotlib.colors.LogNorm())\n",
    "plt.title('Neural Network Performance')\n",
    "plt.ylabel('Test Set Response',size=12)\n",
    "plt.xlabel('Test Set Fitted Values',size=12)\n",
    "plt.plot([-100, 100], [-100, 100], 'b-')\n",
    "plt.xlim(-1.5,3)\n",
    "plt.ylim(-1.5,3)\n",
    "\n",
    "plt.show()"
   ]
  },
  {
   "cell_type": "code",
   "execution_count": 98,
   "metadata": {},
   "outputs": [
    {
     "name": "stdout",
     "output_type": "stream",
     "text": [
      "\n",
      "----------------------------------------------------\n",
      "Output files stored in:\n",
      "./temp/ChadAnalyses/Mags/\n",
      "\n",
      "----------------------------------------------------\n",
      "Predictors Used in Projection Pursuit Model:\n",
      "['rband Mag', 'gband Mag', 'iband Mag', 'zband Mag']\n",
      "\n",
      "----------------------------------------------------\n",
      "Predictors Used in Neural Network Model:\n",
      "['rband Mag', 'gband Mag', 'iband Mag', 'zband Mag']\n",
      "\n",
      "----------------------------------------------------\n",
      "Number of projection functions in PPR: 5\n",
      "\n",
      "----------------------------------------------------\n",
      "Seed used in train/test split: 1\n",
      "\n",
      "----------------------------------------------------\n",
      "RMSE PPR on test set: 0.268\n",
      "RMSE PPR on training set: 0.259\n",
      "\n",
      "----------------------------------------------------\n",
      "Model: \"SimpleNN\"\n",
      "_________________________________________________________________\n",
      "Layer (type)                 Output Shape              Param #   \n",
      "=================================================================\n",
      "h1 (Dense)                   (None, 200)               1000      \n",
      "_________________________________________________________________\n",
      "drop1 (Dropout)              (None, 200)               0         \n",
      "_________________________________________________________________\n",
      "h2 (Dense)                   (None, 200)               40200     \n",
      "_________________________________________________________________\n",
      "drop2 (Dropout)              (None, 200)               0         \n",
      "_________________________________________________________________\n",
      "output (Dense)               (None, 1)                 201       \n",
      "=================================================================\n",
      "Total params: 41,401\n",
      "Trainable params: 41,401\n",
      "Non-trainable params: 0\n",
      "_________________________________________________________________\n",
      "\n",
      "----------------------------------------------------\n",
      "Number of epochs: 500\n",
      "learning rate: 0.001\n",
      "decay rate: 2e-06\n",
      "momentum: 0.8\n",
      "\n",
      "----------------------------------------------------\n",
      "RMSE NN on test set: 0.312\n",
      "RMSE NN on training set: 0.305\n"
     ]
    },
    {
     "data": {
      "image/png": "[encoded data removed]",
      "text/plain": [
       "<Figure size 864x288 with 2 Axes>"
      ]
     },
     "metadata": {
      "needs_background": "light"
     },
     "output_type": "display_data"
    },
    {
     "data": {
      "image/png": "[encoded data removed]",
      "text/plain": [
       "<Figure size 864x288 with 2 Axes>"
      ]
     },
     "metadata": {
      "needs_background": "light"
     },
     "output_type": "display_data"
    },
    {
     "data": {
      "image/png": "[encoded data removed]",
      "text/plain": [
       "<Figure size 864x288 with 2 Axes>"
      ]
     },
     "metadata": {
      "needs_background": "light"
     },
     "output_type": "display_data"
    },
    {
     "data": {
      "image/png": "[encoded data removed]",
      "text/plain": [
       "<Figure size 864x288 with 2 Axes>"
      ]
     },
     "metadata": {
      "needs_background": "light"
     },
     "output_type": "display_data"
    },
    {
     "data": {
      "image/png": "[encoded data removed]",
      "text/plain": [
       "<Figure size 864x288 with 2 Axes>"
      ]
     },
     "metadata": {
      "needs_background": "light"
     },
     "output_type": "display_data"
    },
    {
     "data": {
      "image/png": "[encoded data removed]",
      "text/plain": [
       "<Figure size 360x360 with 1 Axes>"
      ]
     },
     "metadata": {
      "needs_background": "light"
     },
     "output_type": "display_data"
    },
    {
     "data": {
      "image/png": "[encoded data removed]",
      "text/plain": [
       "<Figure size 360x360 with 1 Axes>"
      ]
     },
     "metadata": {
      "needs_background": "light"
     },
     "output_type": "display_data"
    },
    {
     "data": {
      "image/png": "[encoded data removed]",
      "text/plain": [
       "<Figure size 360x360 with 1 Axes>"
      ]
     },
     "metadata": {
      "needs_background": "light"
     },
     "output_type": "display_data"
    }
   ],
   "source": [
    "ReportOutput()"
   ]
  }
 ],
 "metadata": {
  "celltoolbar": "Tags",
  "kernelspec": {
   "display_name": "Python 3",
   "language": "python",
   "name": "python3"
  },
  "language_info": {
   "codemirror_mode": {
    "name": "ipython",
    "version": 3
   },
   "file_extension": ".py",
   "mimetype": "text/x-python",
   "name": "python",
   "nbconvert_exporter": "python",
   "pygments_lexer": "ipython3",
   "version": "3.8.3"
  }
 },
 "nbformat": 4,
 "nbformat_minor": 5
}
