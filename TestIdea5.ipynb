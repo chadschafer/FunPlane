{
 "cells": [
  {
   "cell_type": "code",
   "execution_count": 1,
   "metadata": {},
   "outputs": [],
   "source": [
    "globalseed = 1"
   ]
  },
  {
   "cell_type": "markdown",
   "metadata": {},
   "source": [
    "All galaxies with mass below this value will be excluded."
   ]
  },
  {
   "cell_type": "code",
   "execution_count": 2,
   "metadata": {},
   "outputs": [],
   "source": [
    "masscut = 10**9"
   ]
  },
  {
   "cell_type": "markdown",
   "metadata": {},
   "source": [
    "# Basic settings"
   ]
  },
  {
   "cell_type": "markdown",
   "metadata": {},
   "source": [
    "### Settings that define the different runs\n",
    "\n",
    "Each cell contains one run settings. These should all be coded as \"Raw NBConvert\" cells. The wrapper function will pull out the appropriate settings and run the full notebook, and finally save the output as a separate Jupyter notebook."
   ]
  },
  {
   "cell_type": "raw",
   "metadata": {},
   "source": [
    "runname = \"MagsColorsPredCSDens\"\n",
    "\n",
    "PPRpredsuse = ['rband Mag','gband Mag','iband Mag','zband Mag','g - r','r - i','i - z','CSpredsbyNN','delta_smooth_R','tidal1_R','tidal2_R']\n",
    "\n",
    "NNpredsuse = PPRpredsuse\n",
    "\n",
    "predsscl = ['rband Mag','gband Mag','iband Mag','zband Mag','g - r','r - i','i - z','delta_smooth_R','tidal1_R','tidal2_R']"
   ]
  },
  {
   "cell_type": "raw",
   "metadata": {},
   "source": [
    "runname = \"MagsColorsGalDens2D\"\n",
    "\n",
    "PPRpredsuse = ['rband Mag','gband Mag','iband Mag','zband Mag','g - r','r - i','i - z','delta_smooth_R','tidal1_R','tidal2_R']\n",
    "\n",
    "NNpredsuse = PPRpredsuse\n",
    "\n",
    "predsscl = ['rband Mag','gband Mag','iband Mag','zband Mag','g - r','r - i','i - z','delta_smooth_R','tidal1_R','tidal2_R']"
   ]
  },
  {
   "cell_type": "raw",
   "metadata": {},
   "source": [
    "runname = \"MagsColorsGalDens3D\"\n",
    "\n",
    "PPRpredsuse = ['rband Mag','gband Mag','iband Mag','zband Mag','g - r','r - i','i - z','delta3d_smooth_real','delta3d_smooth_imag']\n",
    "\n",
    "NNpredsuse = PPRpredsuse\n",
    "\n",
    "predsscl = ['rband Mag','gband Mag','iband Mag','zband Mag','g - r','r - i','i - z','delta3d_smooth_real','delta3d_smooth_imag']"
   ]
  },
  {
   "cell_type": "raw",
   "metadata": {},
   "source": [
    "runname = \"MagsColorsTrueAll\"\n",
    "\n",
    "PPRpredsuse = ['log galaxy_mass','log sigma_v','rband Mag','gband Mag','iband Mag',\n",
    "            'zband Mag', 'g - r','r - i','i - z',\n",
    "            'log SubhaloSFR', 'SubhaloSFRZero','central_bool','mc_disk','small sigma_v']\n",
    "\n",
    "NNpredsuse = PPRpredsuse\n",
    "\n",
    "predsscl = ['rband Mag','gband Mag','iband Mag','zband Mag','g - r','r - i','i - z','log SubhaloSFR','log sigma_v','log galaxy_mass','mc_disk']"
   ]
  },
  {
   "cell_type": "raw",
   "metadata": {},
   "source": [
    "runname = \"PaperModel3colors\"\n",
    "\n",
    "PPRpredsuse = ['log galaxy_mass','log sigma_v','rband Mag','gband Mag','iband Mag',\n",
    "            'zband Mag', 'g - r','r - i','i - z',\n",
    "            'log SubhaloSFR', 'SubhaloSFRZero','central_bool','mc_disk']\n",
    "\n",
    "NNpredsuse = PPRpredsuse\n",
    "\n",
    "predsscl = ['rband Mag','gband Mag','iband Mag','zband Mag','g - r','r - i','i - z','log SubhaloSFR','log sigma_v','log galaxy_mass','mc_disk']"
   ]
  },
  {
   "cell_type": "raw",
   "metadata": {},
   "source": [
    "runname = \"PaperModel3\"\n",
    "\n",
    "PPRpredsuse = ['log galaxy_mass','log sigma_v','rband Mag','gband Mag','iband Mag',\n",
    "            'zband Mag',\n",
    "            'log SubhaloSFR', 'SubhaloSFRZero','central_bool','mc_disk',\n",
    "            'delta3d_smooth_real_1.0]\n",
    "\n",
    "NNpredsuse = PPRpredsuse\n",
    "\n",
    "predsscl = ['rband Mag','gband Mag','iband Mag','zband Mag','log SubhaloSFR','log sigma_v','log galaxy_mass','mc_disk',\n",
    "            'delta3d_smooth_real_0.1']"
   ]
  },
  {
   "cell_type": "raw",
   "metadata": {},
   "source": [
    "runname = \"PaperModel4\"\n",
    "\n",
    "PPRpredsuse = ['log galaxy_mass','log sigma_v','rband Mag','gband Mag','iband Mag',\n",
    "            'zband Mag',\n",
    "            'log SubhaloSFR', 'SubhaloSFRZero','central_bool','mc_disk',\n",
    "            'log delta3d_smooth_real_0.5', 'log delta3d_smooth_real_1.0',\n",
    "            'log delta3d_smooth_real_2.0','log delta3d_smooth_real_5.0']\n",
    "\n",
    "NNpredsuse = PPRpredsuse\n",
    "\n",
    "predsscl = ['rband Mag','gband Mag','iband Mag','zband Mag','log SubhaloSFR','log sigma_v','log galaxy_mass','mc_disk',\n",
    "            'log delta3d_smooth_real_0.5', 'log delta3d_smooth_real_1.0',\n",
    "            'log delta3d_smooth_real_2.0','log delta3d_smooth_real_5.0']"
   ]
  },
  {
   "cell_type": "markdown",
   "metadata": {},
   "source": [
    "`PredsFullModel` holds all of the predictors that are used in the model with both observable and unobservable features. (This was called `PredsFullTest` in previous versions.)"
   ]
  },
  {
   "cell_type": "code",
   "execution_count": 3,
   "metadata": {},
   "outputs": [],
   "source": [
    "runname = \"ComparisonModel\"\n",
    "\n",
    "PredsFullModel = ['log galaxy_mass','log sigma_v',\n",
    "            'log SubhaloSFR', 'SubhaloSFRZero','mc_disk',\n",
    "            'log delta3d_smooth_real_0.5', 'log delta3d_smooth_real_1.0',\n",
    "            'log delta3d_smooth_real_2.0','log delta3d_smooth_real_5.0',\n",
    "            'rband Mag','gband Mag','iband Mag','zband Mag','delta_smooth_R']\n",
    "\n",
    "ObsPredsUse = ['rband Mag','gband Mag','iband Mag','zband Mag','delta_smooth_R','mc_disk']\n",
    "\n",
    "FullModelRespUse = 'log size'\n",
    "\n",
    "predsscl = ['rband Mag','gband Mag','iband Mag','zband Mag','log SubhaloSFR','log sigma_v','log galaxy_mass','mc_disk',\n",
    "            'log delta3d_smooth_real_0.5', 'log delta3d_smooth_real_1.0',\n",
    "            'log delta3d_smooth_real_2.0','log delta3d_smooth_real_5.0','delta_smooth_R']"
   ]
  },
  {
   "cell_type": "code",
   "execution_count": 4,
   "metadata": {},
   "outputs": [],
   "source": [
    "file_dir='./temp/ChadAnalyses/'+runname+'/'"
   ]
  },
  {
   "cell_type": "markdown",
   "metadata": {},
   "source": [
    "This is the end of settings cells."
   ]
  },
  {
   "cell_type": "markdown",
   "metadata": {},
   "source": [
    "### Settings that are fixed across runs"
   ]
  },
  {
   "cell_type": "code",
   "execution_count": 5,
   "metadata": {},
   "outputs": [],
   "source": [
    "traintestseed = globalseed"
   ]
  },
  {
   "cell_type": "markdown",
   "metadata": {},
   "source": [
    "# Import Packages"
   ]
  },
  {
   "cell_type": "code",
   "execution_count": 6,
   "metadata": {},
   "outputs": [
    {
     "name": "stdout",
     "output_type": "stream",
     "text": [
      "Populating the interactive namespace from numpy and matplotlib\n"
     ]
    }
   ],
   "source": [
    "%pylab inline\n",
    "\n",
    "import illustris_python as il\n",
    "import pandas as pd\n",
    "import pickle\n",
    "\n",
    "import os\n",
    "\n",
    "from astropy.table import Table\n",
    "\n",
    "from matplotlib.colors import LogNorm\n",
    "\n",
    "import random\n",
    "\n",
    "from skpp import ProjectionPursuitRegressor"
   ]
  },
  {
   "cell_type": "markdown",
   "metadata": {},
   "source": [
    "This is a suite of code that runs the projection pursuit regression."
   ]
  },
  {
   "cell_type": "code",
   "execution_count": 7,
   "metadata": {},
   "outputs": [],
   "source": [
    "%run ./FullPPR.ipynb"
   ]
  },
  {
   "cell_type": "code",
   "execution_count": 8,
   "metadata": {},
   "outputs": [],
   "source": [
    "np.random.seed(globalseed)"
   ]
  },
  {
   "cell_type": "code",
   "execution_count": 9,
   "metadata": {},
   "outputs": [],
   "source": [
    "basePath= '/hildafs/datasets/IllustrisTNG/TNG100-1/output'\n",
    "snapNum=99 #refers to final snapshot, redshift of zero"
   ]
  },
  {
   "cell_type": "markdown",
   "metadata": {},
   "source": [
    "# Create the combined catalog"
   ]
  },
  {
   "cell_type": "markdown",
   "metadata": {},
   "source": [
    "Start with data from the base Illustris catalog.\n",
    "\n",
    "See https://www.tng-project.org/data/docs/specifications/#sec2b"
   ]
  },
  {
   "cell_type": "markdown",
   "metadata": {},
   "source": [
    "These are the fields that will be extracted from this catalog."
   ]
  },
  {
   "cell_type": "code",
   "execution_count": 10,
   "metadata": {},
   "outputs": [],
   "source": [
    "addvariables = ['SubhaloBHMass','SubhaloGasMetallicity','SubhaloSFR',\n",
    "                'SubhaloStarMetallicity','SubhaloVmax']"
   ]
  },
  {
   "cell_type": "code",
   "execution_count": 11,
   "metadata": {},
   "outputs": [],
   "source": [
    "fields = ['SubhaloGrNr',\n",
    "          'SubhaloFlag',\n",
    "          'SubhaloMassType',\n",
    "          'SubhaloPos',\n",
    "          'SubhaloStellarPhotometrics',\n",
    "          'SubhaloMassInHalfRad',\n",
    "          'SubhaloHalfmassRad',\n",
    "          'SubhaloHalfmassRadType'] + addvariables"
   ]
  },
  {
   "cell_type": "code",
   "execution_count": 12,
   "metadata": {},
   "outputs": [],
   "source": [
    "subhalos=il.groupcat.loadSubhalos(basePath,snapNum,fields=fields)"
   ]
  },
  {
   "cell_type": "markdown",
   "metadata": {},
   "source": [
    "This is here just for reference:\n",
    "\n",
    "0. PartType0 - GAS\n",
    "1. PartType1 - DM\n",
    "2. PartType2 - (unused)\n",
    "3. PartType3 - TRACERS\n",
    "4. PartType4 - STARS & WIND PARTICLES\n",
    "5. PartType5 - BLACK HOLES"
   ]
  },
  {
   "cell_type": "markdown",
   "metadata": {},
   "source": [
    "### Read in additional catalogs"
   ]
  },
  {
   "cell_type": "markdown",
   "metadata": {},
   "source": [
    "THIS SEEMS TO BE UNNECESSARY. EVERYTHING IN HERE APPEARS TO BE IN THE FULL CATALOG BELOW.\n",
    "The shape catalog. Note that this catalog already comes in with a mass cut of `10**10 M_sun`."
   ]
  },
  {
   "cell_type": "code",
   "execution_count": 13,
   "metadata": {},
   "outputs": [],
   "source": [
    "#df_non_red_100_subfind_shapes = pd.DataFrame(\n",
    "#    pickle.load(open('/hildafs/datasets/IllustrisTNG/TNG100-1/df_non_red_100_subfind_mass-cut10', \"rb\" ) ))\n",
    "#df_non_red_100_subfind_shapes.shape"
   ]
  },
  {
   "cell_type": "markdown",
   "metadata": {},
   "source": [
    "The velocity dispersion catalog."
   ]
  },
  {
   "cell_type": "code",
   "execution_count": 14,
   "metadata": {},
   "outputs": [
    {
     "name": "stdout",
     "output_type": "stream",
     "text": [
      "(20051, 5)\n"
     ]
    },
    {
     "data": {
      "text/html": [
       "<div>\n",
       "<style scoped>\n",
       "    .dataframe tbody tr th:only-of-type {\n",
       "        vertical-align: middle;\n",
       "    }\n",
       "\n",
       "    .dataframe tbody tr th {\n",
       "        vertical-align: top;\n",
       "    }\n",
       "\n",
       "    .dataframe thead th {\n",
       "        text-align: right;\n",
       "    }\n",
       "</style>\n",
       "<table border=\"1\" class=\"dataframe\">\n",
       "  <thead>\n",
       "    <tr style=\"text-align: right;\">\n",
       "      <th></th>\n",
       "      <th>gal_id</th>\n",
       "      <th>Lx</th>\n",
       "      <th>Ly</th>\n",
       "      <th>Lz</th>\n",
       "      <th>sigma_v</th>\n",
       "    </tr>\n",
       "  </thead>\n",
       "  <tbody>\n",
       "    <tr>\n",
       "      <th>0</th>\n",
       "      <td>0.0</td>\n",
       "      <td>-9.085662</td>\n",
       "      <td>-7.872045</td>\n",
       "      <td>-4.559502</td>\n",
       "      <td>374.378662</td>\n",
       "    </tr>\n",
       "    <tr>\n",
       "      <th>1</th>\n",
       "      <td>1.0</td>\n",
       "      <td>1.795185</td>\n",
       "      <td>-0.857926</td>\n",
       "      <td>1.563985</td>\n",
       "      <td>214.005508</td>\n",
       "    </tr>\n",
       "    <tr>\n",
       "      <th>2</th>\n",
       "      <td>2.0</td>\n",
       "      <td>0.620052</td>\n",
       "      <td>2.585010</td>\n",
       "      <td>0.742175</td>\n",
       "      <td>196.719849</td>\n",
       "    </tr>\n",
       "    <tr>\n",
       "      <th>3</th>\n",
       "      <td>3.0</td>\n",
       "      <td>0.292968</td>\n",
       "      <td>-0.387597</td>\n",
       "      <td>-1.368885</td>\n",
       "      <td>106.750359</td>\n",
       "    </tr>\n",
       "    <tr>\n",
       "      <th>4</th>\n",
       "      <td>4.0</td>\n",
       "      <td>-0.058817</td>\n",
       "      <td>0.112009</td>\n",
       "      <td>-0.858557</td>\n",
       "      <td>116.125282</td>\n",
       "    </tr>\n",
       "  </tbody>\n",
       "</table>\n",
       "</div>"
      ],
      "text/plain": [
       "   gal_id        Lx        Ly        Lz     sigma_v\n",
       "0     0.0 -9.085662 -7.872045 -4.559502  374.378662\n",
       "1     1.0  1.795185 -0.857926  1.563985  214.005508\n",
       "2     2.0  0.620052  2.585010  0.742175  196.719849\n",
       "3     3.0  0.292968 -0.387597 -1.368885  106.750359\n",
       "4     4.0 -0.058817  0.112009 -0.858557  116.125282"
      ]
     },
     "execution_count": 14,
     "metadata": {},
     "output_type": "execute_result"
    }
   ],
   "source": [
    "df_non_red_100_subfind_sigma_v = pd.DataFrame(pickle.load(\n",
    "    open('/hildafs/datasets/IllustrisTNG/TNG100-1/TNG100-1_99_galaxy_vel_disp_100.0.p', \n",
    "         \"rb\" ) ))\n",
    "\n",
    "print(df_non_red_100_subfind_sigma_v.shape)\n",
    "df_non_red_100_subfind_sigma_v.head()"
   ]
  },
  {
   "cell_type": "markdown",
   "metadata": {},
   "source": [
    "Density information."
   ]
  },
  {
   "cell_type": "code",
   "execution_count": 15,
   "metadata": {},
   "outputs": [],
   "source": [
    "galdens = pickle.load(open('galdens.p', 'rb'))"
   ]
  },
  {
   "cell_type": "markdown",
   "metadata": {},
   "source": [
    "The \"full\" catalog."
   ]
  },
  {
   "cell_type": "code",
   "execution_count": 16,
   "metadata": {
    "scrolled": true
   },
   "outputs": [
    {
     "name": "stdout",
     "output_type": "stream",
     "text": [
      "(20051, 114)\n"
     ]
    },
    {
     "data": {
      "text/html": [
       "<div>\n",
       "<style scoped>\n",
       "    .dataframe tbody tr th:only-of-type {\n",
       "        vertical-align: middle;\n",
       "    }\n",
       "\n",
       "    .dataframe tbody tr th {\n",
       "        vertical-align: top;\n",
       "    }\n",
       "\n",
       "    .dataframe thead th {\n",
       "        text-align: right;\n",
       "    }\n",
       "</style>\n",
       "<table border=\"1\" class=\"dataframe\">\n",
       "  <thead>\n",
       "    <tr style=\"text-align: right;\">\n",
       "      <th></th>\n",
       "      <th>gal_id</th>\n",
       "      <th>f_disk</th>\n",
       "      <th>int_disk_thin</th>\n",
       "      <th>int_disk_thick</th>\n",
       "      <th>int_disk_counter_exp2</th>\n",
       "      <th>chisq_exp2</th>\n",
       "      <th>int_disk_exp1</th>\n",
       "      <th>int_disk_counter_exp1</th>\n",
       "      <th>chisq_exp1</th>\n",
       "      <th>mc_disk</th>\n",
       "      <th>...</th>\n",
       "      <th>bv_z</th>\n",
       "      <th>cv_x</th>\n",
       "      <th>cv_y</th>\n",
       "      <th>cv_z</th>\n",
       "      <th>mass</th>\n",
       "      <th>gal_pos_x</th>\n",
       "      <th>gal_pos_y</th>\n",
       "      <th>gal_pos_z</th>\n",
       "      <th>e1</th>\n",
       "      <th>e2</th>\n",
       "    </tr>\n",
       "  </thead>\n",
       "  <tbody>\n",
       "    <tr>\n",
       "      <th>0</th>\n",
       "      <td>0.0</td>\n",
       "      <td>0.102826</td>\n",
       "      <td>1.120683e-11</td>\n",
       "      <td>0.252965</td>\n",
       "      <td>0.090781</td>\n",
       "      <td>69.553006</td>\n",
       "      <td>0.359817</td>\n",
       "      <td>0.198626</td>\n",
       "      <td>54.325447</td>\n",
       "      <td>0.229510</td>\n",
       "      <td>...</td>\n",
       "      <td>0.377225</td>\n",
       "      <td>0.782535</td>\n",
       "      <td>0.612006</td>\n",
       "      <td>0.114402</td>\n",
       "      <td>3.705585e+12</td>\n",
       "      <td>0.849091</td>\n",
       "      <td>26.326996</td>\n",
       "      <td>18.306934</td>\n",
       "      <td>-0.109703</td>\n",
       "      <td>-0.157248</td>\n",
       "    </tr>\n",
       "    <tr>\n",
       "      <th>1</th>\n",
       "      <td>1.0</td>\n",
       "      <td>0.073827</td>\n",
       "      <td>5.167568e-03</td>\n",
       "      <td>0.082322</td>\n",
       "      <td>0.064100</td>\n",
       "      <td>287.146480</td>\n",
       "      <td>0.208253</td>\n",
       "      <td>0.173610</td>\n",
       "      <td>272.848191</td>\n",
       "      <td>0.084007</td>\n",
       "      <td>...</td>\n",
       "      <td>0.469768</td>\n",
       "      <td>-0.159400</td>\n",
       "      <td>0.476258</td>\n",
       "      <td>-0.864737</td>\n",
       "      <td>5.587917e+11</td>\n",
       "      <td>0.106473</td>\n",
       "      <td>24.633322</td>\n",
       "      <td>16.900553</td>\n",
       "      <td>0.295580</td>\n",
       "      <td>0.009956</td>\n",
       "    </tr>\n",
       "    <tr>\n",
       "      <th>2</th>\n",
       "      <td>2.0</td>\n",
       "      <td>0.104297</td>\n",
       "      <td>5.651366e-02</td>\n",
       "      <td>0.208010</td>\n",
       "      <td>0.100389</td>\n",
       "      <td>63.551982</td>\n",
       "      <td>0.203645</td>\n",
       "      <td>0.071742</td>\n",
       "      <td>77.861395</td>\n",
       "      <td>0.237992</td>\n",
       "      <td>...</td>\n",
       "      <td>-0.293690</td>\n",
       "      <td>0.135702</td>\n",
       "      <td>0.904910</td>\n",
       "      <td>0.403390</td>\n",
       "      <td>6.271396e+11</td>\n",
       "      <td>0.853112</td>\n",
       "      <td>26.725748</td>\n",
       "      <td>17.510679</td>\n",
       "      <td>0.026402</td>\n",
       "      <td>-0.016790</td>\n",
       "    </tr>\n",
       "    <tr>\n",
       "      <th>3</th>\n",
       "      <td>3.0</td>\n",
       "      <td>0.293960</td>\n",
       "      <td>3.609416e-01</td>\n",
       "      <td>0.187110</td>\n",
       "      <td>0.037387</td>\n",
       "      <td>72.289555</td>\n",
       "      <td>0.448154</td>\n",
       "      <td>0.028169</td>\n",
       "      <td>967.551351</td>\n",
       "      <td>0.564971</td>\n",
       "      <td>...</td>\n",
       "      <td>-0.012360</td>\n",
       "      <td>-0.111798</td>\n",
       "      <td>0.556926</td>\n",
       "      <td>0.823003</td>\n",
       "      <td>1.715515e+11</td>\n",
       "      <td>0.245455</td>\n",
       "      <td>26.517372</td>\n",
       "      <td>15.888749</td>\n",
       "      <td>-0.066341</td>\n",
       "      <td>-0.033003</td>\n",
       "    </tr>\n",
       "    <tr>\n",
       "      <th>4</th>\n",
       "      <td>4.0</td>\n",
       "      <td>0.158796</td>\n",
       "      <td>7.771672e-02</td>\n",
       "      <td>0.102280</td>\n",
       "      <td>0.022292</td>\n",
       "      <td>72.560206</td>\n",
       "      <td>0.135537</td>\n",
       "      <td>0.005955</td>\n",
       "      <td>184.095625</td>\n",
       "      <td>0.199667</td>\n",
       "      <td>...</td>\n",
       "      <td>0.015853</td>\n",
       "      <td>-0.002944</td>\n",
       "      <td>-0.163988</td>\n",
       "      <td>0.986458</td>\n",
       "      <td>1.333404e+11</td>\n",
       "      <td>0.768784</td>\n",
       "      <td>26.518290</td>\n",
       "      <td>15.530523</td>\n",
       "      <td>-0.028562</td>\n",
       "      <td>0.007162</td>\n",
       "    </tr>\n",
       "  </tbody>\n",
       "</table>\n",
       "<p>5 rows × 114 columns</p>\n",
       "</div>"
      ],
      "text/plain": [
       "   gal_id    f_disk  int_disk_thin  int_disk_thick  int_disk_counter_exp2  \\\n",
       "0     0.0  0.102826   1.120683e-11        0.252965               0.090781   \n",
       "1     1.0  0.073827   5.167568e-03        0.082322               0.064100   \n",
       "2     2.0  0.104297   5.651366e-02        0.208010               0.100389   \n",
       "3     3.0  0.293960   3.609416e-01        0.187110               0.037387   \n",
       "4     4.0  0.158796   7.771672e-02        0.102280               0.022292   \n",
       "\n",
       "   chisq_exp2  int_disk_exp1  int_disk_counter_exp1  chisq_exp1   mc_disk  \\\n",
       "0   69.553006       0.359817               0.198626   54.325447  0.229510   \n",
       "1  287.146480       0.208253               0.173610  272.848191  0.084007   \n",
       "2   63.551982       0.203645               0.071742   77.861395  0.237992   \n",
       "3   72.289555       0.448154               0.028169  967.551351  0.564971   \n",
       "4   72.560206       0.135537               0.005955  184.095625  0.199667   \n",
       "\n",
       "   ...      bv_z      cv_x      cv_y      cv_z          mass  gal_pos_x  \\\n",
       "0  ...  0.377225  0.782535  0.612006  0.114402  3.705585e+12   0.849091   \n",
       "1  ...  0.469768 -0.159400  0.476258 -0.864737  5.587917e+11   0.106473   \n",
       "2  ... -0.293690  0.135702  0.904910  0.403390  6.271396e+11   0.853112   \n",
       "3  ... -0.012360 -0.111798  0.556926  0.823003  1.715515e+11   0.245455   \n",
       "4  ...  0.015853 -0.002944 -0.163988  0.986458  1.333404e+11   0.768784   \n",
       "\n",
       "   gal_pos_y  gal_pos_z        e1        e2  \n",
       "0  26.326996  18.306934 -0.109703 -0.157248  \n",
       "1  24.633322  16.900553  0.295580  0.009956  \n",
       "2  26.725748  17.510679  0.026402 -0.016790  \n",
       "3  26.517372  15.888749 -0.066341 -0.033003  \n",
       "4  26.518290  15.530523 -0.028562  0.007162  \n",
       "\n",
       "[5 rows x 114 columns]"
      ]
     },
     "execution_count": 16,
     "metadata": {},
     "output_type": "execute_result"
    }
   ],
   "source": [
    "df_non_red_100_subfind_full = pickle.load(\n",
    "    open('/hildafs/datasets/IllustrisTNG/TNG100-1/TNG100-1_99_galaxy_component_shapes_3I_subfind_FULL_mass-cut9.p', \n",
    "         \"rb\" ) )\n",
    "\n",
    "print(df_non_red_100_subfind_full.shape)\n",
    "df_non_red_100_subfind_full.head()"
   ]
  },
  {
   "cell_type": "markdown",
   "metadata": {},
   "source": [
    "Note that, for some reason, `gal_id` appears twice in the \"full\" catalog. Hence, the `drop` function removes both of those instances. It's for this reason that I am dropping from the \"full\" catalog, and not from the velocity dispersion catalog."
   ]
  },
  {
   "cell_type": "code",
   "execution_count": 17,
   "metadata": {
    "scrolled": true
   },
   "outputs": [],
   "source": [
    "fullinfo = pd.concat(\n",
    "    [df_non_red_100_subfind_full.drop({'gal_id'},axis=1),\n",
    "     df_non_red_100_subfind_sigma_v,\n",
    "     galdens], \n",
    "     axis=1)"
   ]
  },
  {
   "cell_type": "markdown",
   "metadata": {},
   "source": [
    "### Create the merged catalog"
   ]
  },
  {
   "cell_type": "markdown",
   "metadata": {},
   "source": [
    "For each variable in the base catalog, need to extract the elements based on `gal_id` in the supplemental catalog."
   ]
  },
  {
   "cell_type": "markdown",
   "metadata": {},
   "source": [
    "The photometric magnitudes."
   ]
  },
  {
   "cell_type": "code",
   "execution_count": 18,
   "metadata": {},
   "outputs": [],
   "source": [
    "fullinfo['gband Mag'] = subhalos['SubhaloStellarPhotometrics'][fullinfo['gal_id'].astype('int'),4]\n",
    "fullinfo['rband Mag'] = subhalos['SubhaloStellarPhotometrics'][fullinfo['gal_id'].astype('int'),5]\n",
    "fullinfo['iband Mag'] = subhalos['SubhaloStellarPhotometrics'][fullinfo['gal_id'].astype('int'),6]\n",
    "fullinfo['zband Mag'] = subhalos['SubhaloStellarPhotometrics'][fullinfo['gal_id'].astype('int'),7]"
   ]
  },
  {
   "cell_type": "markdown",
   "metadata": {},
   "source": [
    "Colors"
   ]
  },
  {
   "cell_type": "code",
   "execution_count": 19,
   "metadata": {},
   "outputs": [],
   "source": [
    "fullinfo['g - r'] = fullinfo['gband Mag'] - fullinfo['rband Mag']\n",
    "fullinfo['r - i'] = fullinfo['rband Mag'] - fullinfo['iband Mag']\n",
    "fullinfo['i - z'] = fullinfo['iband Mag'] - fullinfo['zband Mag']"
   ]
  },
  {
   "cell_type": "markdown",
   "metadata": {},
   "source": [
    "Size and mass. (Mass measures stars.)"
   ]
  },
  {
   "cell_type": "code",
   "execution_count": 20,
   "metadata": {},
   "outputs": [],
   "source": [
    "fullinfo['size'] = subhalos['SubhaloHalfmassRad'][fullinfo['gal_id'].astype('int')]\n",
    "fullinfo['galaxy_mass'] = \\\n",
    "     subhalos['SubhaloMassType'][fullinfo['gal_id'].astype('int'),4]*10**10"
   ]
  },
  {
   "cell_type": "markdown",
   "metadata": {},
   "source": [
    "Other variables from the base catalog."
   ]
  },
  {
   "cell_type": "code",
   "execution_count": 21,
   "metadata": {},
   "outputs": [],
   "source": [
    "for addvar in addvariables:\n",
    "    fullinfo[addvar] = subhalos[addvar][fullinfo['gal_id'].astype('int')]"
   ]
  },
  {
   "cell_type": "markdown",
   "metadata": {},
   "source": [
    "The subhalo flag is mapped over, in order to exclude flagged observations."
   ]
  },
  {
   "cell_type": "code",
   "execution_count": 22,
   "metadata": {},
   "outputs": [],
   "source": [
    "fullinfo['subhaloflag'] = subhalos['SubhaloFlag'][fullinfo['gal_id'].astype('int')]"
   ]
  },
  {
   "cell_type": "markdown",
   "metadata": {},
   "source": [
    "There are some duplicated columns. Note that the data in them were not actually identical. In particular, the position variables were off by a factor of 1000."
   ]
  },
  {
   "cell_type": "code",
   "execution_count": 23,
   "metadata": {},
   "outputs": [],
   "source": [
    "fullinfo = fullinfo.loc[:,~fullinfo.columns.duplicated()]"
   ]
  },
  {
   "cell_type": "markdown",
   "metadata": {},
   "source": [
    "Exclude any observations for which the `SubhaloFlag` is `False` or the mass is not sufficiently large. If mass cutoff is $10^9$, there should be 17513 rows remaining. If the mass cutoff is $10^{10}$, there should be 4987 rows remaining."
   ]
  },
  {
   "cell_type": "code",
   "execution_count": 24,
   "metadata": {},
   "outputs": [
    {
     "name": "stdout",
     "output_type": "stream",
     "text": [
      "17513\n"
     ]
    }
   ],
   "source": [
    "keep = (fullinfo['subhaloflag']) & (fullinfo['galaxy_mass'] > masscut) \n",
    "print(sum(keep))\n",
    "\n",
    "subinfo = fullinfo[keep].copy()"
   ]
  },
  {
   "cell_type": "markdown",
   "metadata": {},
   "source": [
    "Create log-transformed versions of some variables."
   ]
  },
  {
   "cell_type": "code",
   "execution_count": 25,
   "metadata": {},
   "outputs": [],
   "source": [
    "varsToLogTransform = ['galaxy_mass',\n",
    "                      'sigma_v',\n",
    "                      'size','delta3d_smooth_real_0.1',\n",
    "                      'delta3d_smooth_real_0.5',\n",
    "                      'delta3d_smooth_real_1.0',\n",
    "                      'delta3d_smooth_real_2.0',\n",
    "                      'delta3d_smooth_real_5.0']\n",
    "\n",
    "for varname in varsToLogTransform:\n",
    "    subinfo['log ' + varname] = log10(subinfo[varname])"
   ]
  },
  {
   "cell_type": "markdown",
   "metadata": {},
   "source": [
    "Some of the variables have a spike of values at zero, but are otherwise positive (and skewed). The strategy taken here is to create an indicator variable for zero values, and then log transform the positive values. Hence, there are two variables included in the model for each of these."
   ]
  },
  {
   "cell_type": "code",
   "execution_count": 26,
   "metadata": {},
   "outputs": [],
   "source": [
    "# SubhaloBHMassZero\n",
    "\n",
    "subinfo['SubhaloBHMassZero'] = (subinfo['SubhaloBHMass'] == 0).astype(int)\n",
    "\n",
    "subinfo['log SubhaloBHMass'] = \\\n",
    "   [0 if val == 0 else log10(val) for val in subinfo['SubhaloBHMass']]\n",
    "\n",
    "\n",
    "# SubhaloSFR\n",
    "\n",
    "subinfo['SubhaloSFRZero'] = (subinfo['SubhaloSFR'] == 0).astype(int)\n",
    "\n",
    "subinfo['log SubhaloSFR'] = \\\n",
    "   [0 if val == 0 else log10(val) for val in subinfo['SubhaloSFR']]\n",
    "\n",
    "\n",
    "# SubhaloGasMetallicity is not skewed\n",
    "\n",
    "subinfo['SubhaloGasMetallicityZero'] = (subinfo['SubhaloGasMetallicity'] == 0).astype(int)\n"
   ]
  },
  {
   "cell_type": "markdown",
   "metadata": {},
   "source": [
    "Create indicators for the different size bins."
   ]
  },
  {
   "cell_type": "code",
   "execution_count": 27,
   "metadata": {},
   "outputs": [],
   "source": [
    "holdQ = pd.qcut(subinfo['log size'],4,labels=[\"SizeQ1\",\"SizeQ2\",\"SizeQ3\",\"SizeQ4\"])\n",
    "\n",
    "subinfo['SizeQ1'] = (holdQ == \"SizeQ1\").astype(int)\n",
    "subinfo['SizeQ2'] = (holdQ == \"SizeQ2\").astype(int)\n",
    "subinfo['SizeQ3'] = (holdQ == \"SizeQ3\").astype(int)\n",
    "subinfo['SizeQ4'] = (holdQ == \"SizeQ4\").astype(int)\n",
    "\n",
    "subinfo['small sigma_v'] = (subinfo['log sigma_v'] <-2).astype(int)\n",
    "\n",
    "#subinfo = subinfo[subinfo['SizeQ4']==1]"
   ]
  },
  {
   "cell_type": "markdown",
   "metadata": {},
   "source": [
    "These are the predicted values for central/satellite classifcation."
   ]
  },
  {
   "cell_type": "code",
   "execution_count": 28,
   "metadata": {},
   "outputs": [],
   "source": [
    "subinfo['CSpredsbyNN'] = pickle.load(open(\"CSpredsbyNN.p\",'rb'))"
   ]
  },
  {
   "cell_type": "code",
   "execution_count": 29,
   "metadata": {},
   "outputs": [],
   "source": [
    "subinfo['3Dcomb'] = subinfo['delta3d_smooth_real_0.1'] - 1.4*subinfo['delta3d_smooth_real_0.5'] + \\\n",
    "0.4*subinfo['delta3d_smooth_real_1.0']"
   ]
  },
  {
   "cell_type": "markdown",
   "metadata": {},
   "source": [
    "## Set the response"
   ]
  },
  {
   "cell_type": "code",
   "execution_count": 30,
   "metadata": {},
   "outputs": [],
   "source": [
    "respuse = 'log size'"
   ]
  },
  {
   "cell_type": "code",
   "execution_count": 31,
   "metadata": {
    "scrolled": true
   },
   "outputs": [
    {
     "data": {
      "text/html": [
       "<div>\n",
       "<style scoped>\n",
       "    .dataframe tbody tr th:only-of-type {\n",
       "        vertical-align: middle;\n",
       "    }\n",
       "\n",
       "    .dataframe tbody tr th {\n",
       "        vertical-align: top;\n",
       "    }\n",
       "\n",
       "    .dataframe thead th {\n",
       "        text-align: right;\n",
       "    }\n",
       "</style>\n",
       "<table border=\"1\" class=\"dataframe\">\n",
       "  <thead>\n",
       "    <tr style=\"text-align: right;\">\n",
       "      <th></th>\n",
       "      <th>f_disk</th>\n",
       "      <th>int_disk_thin</th>\n",
       "      <th>int_disk_thick</th>\n",
       "      <th>int_disk_counter_exp2</th>\n",
       "      <th>chisq_exp2</th>\n",
       "      <th>int_disk_exp1</th>\n",
       "      <th>int_disk_counter_exp1</th>\n",
       "      <th>chisq_exp1</th>\n",
       "      <th>mc_disk</th>\n",
       "      <th>a_simple_disk</th>\n",
       "      <th>...</th>\n",
       "      <th>SubhaloSFRZero</th>\n",
       "      <th>log SubhaloSFR</th>\n",
       "      <th>SubhaloGasMetallicityZero</th>\n",
       "      <th>SizeQ1</th>\n",
       "      <th>SizeQ2</th>\n",
       "      <th>SizeQ3</th>\n",
       "      <th>SizeQ4</th>\n",
       "      <th>small sigma_v</th>\n",
       "      <th>CSpredsbyNN</th>\n",
       "      <th>3Dcomb</th>\n",
       "    </tr>\n",
       "  </thead>\n",
       "  <tbody>\n",
       "    <tr>\n",
       "      <th>0</th>\n",
       "      <td>0.102826</td>\n",
       "      <td>1.120683e-11</td>\n",
       "      <td>0.252965</td>\n",
       "      <td>0.090781</td>\n",
       "      <td>69.553006</td>\n",
       "      <td>0.359817</td>\n",
       "      <td>0.198626</td>\n",
       "      <td>54.325447</td>\n",
       "      <td>0.229510</td>\n",
       "      <td>0.263015</td>\n",
       "      <td>...</td>\n",
       "      <td>0</td>\n",
       "      <td>0.347757</td>\n",
       "      <td>0</td>\n",
       "      <td>0</td>\n",
       "      <td>0</td>\n",
       "      <td>0</td>\n",
       "      <td>1</td>\n",
       "      <td>0</td>\n",
       "      <td>0.142798</td>\n",
       "      <td>-800.735008</td>\n",
       "    </tr>\n",
       "    <tr>\n",
       "      <th>1</th>\n",
       "      <td>0.073827</td>\n",
       "      <td>5.167568e-03</td>\n",
       "      <td>0.082322</td>\n",
       "      <td>0.064100</td>\n",
       "      <td>287.146480</td>\n",
       "      <td>0.208253</td>\n",
       "      <td>0.173610</td>\n",
       "      <td>272.848191</td>\n",
       "      <td>0.084007</td>\n",
       "      <td>0.093535</td>\n",
       "      <td>...</td>\n",
       "      <td>0</td>\n",
       "      <td>-0.383750</td>\n",
       "      <td>0</td>\n",
       "      <td>0</td>\n",
       "      <td>0</td>\n",
       "      <td>0</td>\n",
       "      <td>1</td>\n",
       "      <td>0</td>\n",
       "      <td>0.153434</td>\n",
       "      <td>-100.536295</td>\n",
       "    </tr>\n",
       "    <tr>\n",
       "      <th>2</th>\n",
       "      <td>0.104297</td>\n",
       "      <td>5.651366e-02</td>\n",
       "      <td>0.208010</td>\n",
       "      <td>0.100389</td>\n",
       "      <td>63.551982</td>\n",
       "      <td>0.203645</td>\n",
       "      <td>0.071742</td>\n",
       "      <td>77.861395</td>\n",
       "      <td>0.237992</td>\n",
       "      <td>0.038423</td>\n",
       "      <td>...</td>\n",
       "      <td>0</td>\n",
       "      <td>1.240355</td>\n",
       "      <td>0</td>\n",
       "      <td>0</td>\n",
       "      <td>0</td>\n",
       "      <td>0</td>\n",
       "      <td>1</td>\n",
       "      <td>0</td>\n",
       "      <td>0.115919</td>\n",
       "      <td>-246.018807</td>\n",
       "    </tr>\n",
       "    <tr>\n",
       "      <th>3</th>\n",
       "      <td>0.293960</td>\n",
       "      <td>3.609416e-01</td>\n",
       "      <td>0.187110</td>\n",
       "      <td>0.037387</td>\n",
       "      <td>72.289555</td>\n",
       "      <td>0.448154</td>\n",
       "      <td>0.028169</td>\n",
       "      <td>967.551351</td>\n",
       "      <td>0.564971</td>\n",
       "      <td>0.017284</td>\n",
       "      <td>...</td>\n",
       "      <td>0</td>\n",
       "      <td>0.705811</td>\n",
       "      <td>0</td>\n",
       "      <td>0</td>\n",
       "      <td>0</td>\n",
       "      <td>0</td>\n",
       "      <td>1</td>\n",
       "      <td>0</td>\n",
       "      <td>0.081635</td>\n",
       "      <td>-84.596632</td>\n",
       "    </tr>\n",
       "    <tr>\n",
       "      <th>4</th>\n",
       "      <td>0.158796</td>\n",
       "      <td>7.771672e-02</td>\n",
       "      <td>0.102280</td>\n",
       "      <td>0.022292</td>\n",
       "      <td>72.560206</td>\n",
       "      <td>0.135537</td>\n",
       "      <td>0.005955</td>\n",
       "      <td>184.095625</td>\n",
       "      <td>0.199667</td>\n",
       "      <td>0.018827</td>\n",
       "      <td>...</td>\n",
       "      <td>0</td>\n",
       "      <td>0.150661</td>\n",
       "      <td>0</td>\n",
       "      <td>0</td>\n",
       "      <td>0</td>\n",
       "      <td>0</td>\n",
       "      <td>1</td>\n",
       "      <td>0</td>\n",
       "      <td>0.087160</td>\n",
       "      <td>-131.607632</td>\n",
       "    </tr>\n",
       "  </tbody>\n",
       "</table>\n",
       "<p>5 rows × 156 columns</p>\n",
       "</div>"
      ],
      "text/plain": [
       "     f_disk  int_disk_thin  int_disk_thick  int_disk_counter_exp2  chisq_exp2  \\\n",
       "0  0.102826   1.120683e-11        0.252965               0.090781   69.553006   \n",
       "1  0.073827   5.167568e-03        0.082322               0.064100  287.146480   \n",
       "2  0.104297   5.651366e-02        0.208010               0.100389   63.551982   \n",
       "3  0.293960   3.609416e-01        0.187110               0.037387   72.289555   \n",
       "4  0.158796   7.771672e-02        0.102280               0.022292   72.560206   \n",
       "\n",
       "   int_disk_exp1  int_disk_counter_exp1  chisq_exp1   mc_disk  a_simple_disk  \\\n",
       "0       0.359817               0.198626   54.325447  0.229510       0.263015   \n",
       "1       0.208253               0.173610  272.848191  0.084007       0.093535   \n",
       "2       0.203645               0.071742   77.861395  0.237992       0.038423   \n",
       "3       0.448154               0.028169  967.551351  0.564971       0.017284   \n",
       "4       0.135537               0.005955  184.095625  0.199667       0.018827   \n",
       "\n",
       "   ...  SubhaloSFRZero  log SubhaloSFR  SubhaloGasMetallicityZero  SizeQ1  \\\n",
       "0  ...               0        0.347757                          0       0   \n",
       "1  ...               0       -0.383750                          0       0   \n",
       "2  ...               0        1.240355                          0       0   \n",
       "3  ...               0        0.705811                          0       0   \n",
       "4  ...               0        0.150661                          0       0   \n",
       "\n",
       "   SizeQ2  SizeQ3  SizeQ4  small sigma_v  CSpredsbyNN      3Dcomb  \n",
       "0       0       0       1              0     0.142798 -800.735008  \n",
       "1       0       0       1              0     0.153434 -100.536295  \n",
       "2       0       0       1              0     0.115919 -246.018807  \n",
       "3       0       0       1              0     0.081635  -84.596632  \n",
       "4       0       0       1              0     0.087160 -131.607632  \n",
       "\n",
       "[5 rows x 156 columns]"
      ]
     },
     "execution_count": 31,
     "metadata": {},
     "output_type": "execute_result"
    }
   ],
   "source": [
    "subinfo.head()"
   ]
  },
  {
   "cell_type": "markdown",
   "metadata": {},
   "source": [
    "## Split data\n",
    "\n",
    "This will create a grid of pixels in (x,y,z) space.\n",
    "\n",
    "It will be used to make the splits into the separate sets."
   ]
  },
  {
   "cell_type": "markdown",
   "metadata": {},
   "source": [
    "The entire data set needs to be divided into the following groups:\n",
    "1. **Set 0**: The training/test set for learning the relationship between the kernel function and the pairs of observable/unobservable variables for galaxies.\n",
    "2. **Set 1** The set that uses the model trained on Set 0 to fit the model relating the log size to the observable features plus the Kernel PCA-derived features.\n",
    "3. **Set 2** The final test set\n",
    "\n",
    "The following sets the proportion of the cells that will be in each of the four sets.\n",
    "**Note that due to pixelization, the proportions will not exactly equal these.**"
   ]
  },
  {
   "cell_type": "code",
   "execution_count": 32,
   "metadata": {},
   "outputs": [],
   "source": [
    "propinset = [0.5, 0.4, 0.1]"
   ]
  },
  {
   "cell_type": "markdown",
   "metadata": {},
   "source": [
    "Divide the rows into pixels. The value of 'gridsize' determines how many pixels are in each direction, i.e., the total number of pixels is 'gridsize' cubed."
   ]
  },
  {
   "cell_type": "code",
   "execution_count": 33,
   "metadata": {},
   "outputs": [],
   "source": [
    "gridsize = 5\n",
    "\n",
    "gx = np.linspace(min(subinfo['gal_pos_x']), max(subinfo['gal_pos_x']), gridsize+1)\n",
    "gy = np.linspace(min(subinfo['gal_pos_y']), max(subinfo['gal_pos_y']), gridsize+1)\n",
    "gz = np.linspace(min(subinfo['gal_pos_z']), max(subinfo['gal_pos_z']), gridsize+1)\n",
    "\n",
    "\n",
    "# Assign to pixels\n",
    "\n",
    "pixelnum = (subinfo['gal_pos_x'] >= gx[1]).astype(int)\n",
    "\n",
    "for i in range(2,gridsize):\n",
    "    pixelnum = pixelnum + (subinfo['gal_pos_x'] >= gx[i]).astype(int)\n",
    "    \n",
    "for i in range(1,gridsize):\n",
    "    pixelnum = pixelnum + gridsize*(subinfo['gal_pos_y'] >= gy[i]).astype(int)\n",
    "    \n",
    "for i in range(1,gridsize):\n",
    "    pixelnum = pixelnum + gridsize*gridsize*(subinfo['gal_pos_z'] >= gz[i]).astype(int)\n",
    "\n",
    "subinfo['pixelnum'] = pixelnum"
   ]
  },
  {
   "cell_type": "markdown",
   "metadata": {},
   "source": [
    "Randomly split the cells among the four sets. Note that the seed is set by `traintestseed`."
   ]
  },
  {
   "cell_type": "code",
   "execution_count": 34,
   "metadata": {
    "scrolled": false
   },
   "outputs": [],
   "source": [
    "pixeldf = pd.crosstab(index=subinfo['pixelnum'], columns='count')\n",
    "pixeldf = pixeldf.sample(frac=1,random_state=traintestseed)\n",
    "\n",
    "pixeldf=pd.DataFrame({'pixelnum':list(pixeldf.index),'count':list(pixeldf['count'])})"
   ]
  },
  {
   "cell_type": "code",
   "execution_count": 35,
   "metadata": {
    "scrolled": true
   },
   "outputs": [
    {
     "name": "stdout",
     "output_type": "stream",
     "text": [
      "Target for Set: 0.5\n",
      "Actual for Set: 0.503\n",
      "Target for Set: 0.4\n",
      "Actual for Set: 0.4\n",
      "Target for Set: 0.1\n",
      "Actual for Set: 0.097\n"
     ]
    }
   ],
   "source": [
    "pos = 0\n",
    "pixeldf['Set'] = pixeldf['count']\n",
    "\n",
    "totgals = subinfo.shape[0]\n",
    "setnum = np.empty(totgals)\n",
    "\n",
    "# Assign pixels to Sets\n",
    "\n",
    "for setind in range(len(propinset)):\n",
    "    galsinset = 0\n",
    "    print('Target for Set:',propinset[setind])\n",
    "    while(galsinset < (propinset[setind]*totgals) and pos < (gridsize**3)):\n",
    "        pixeldf['Set'][pos] = setind\n",
    "        galsinset = galsinset + pixeldf['count'][pos]\n",
    "        setnum[subinfo['pixelnum'] == pixeldf['pixelnum'][pos]] = setind\n",
    "        pos +=1\n",
    "    \n",
    "    print('Actual for Set:',round(galsinset/totgals,3))\n",
    "    \n",
    "subinfo['Set'] = setnum"
   ]
  },
  {
   "cell_type": "markdown",
   "metadata": {},
   "source": [
    "## Scale Selected Predictors"
   ]
  },
  {
   "cell_type": "markdown",
   "metadata": {},
   "source": [
    "The predictors listed in `predsscl` are scaled to have (approximately) mean zero and SD one. Note that the scaling factors are only determined using only Set Zero, but then are applied to all sets."
   ]
  },
  {
   "cell_type": "code",
   "execution_count": 36,
   "metadata": {},
   "outputs": [],
   "source": [
    "from sklearn import preprocessing\n",
    "\n",
    "scaler = preprocessing.StandardScaler(copy=True)\n",
    "\n",
    "if(len(predsscl)>0):\n",
    "    scaler.fit(subinfo[subinfo['Set']==0][predsscl])\n",
    "    foo = pd.DataFrame(scaler.transform(subinfo[predsscl]),columns=predsscl, index=subinfo.index)\n",
    "    subinfo = pd.DataFrame.join(subinfo.drop(predsscl,axis=1),foo)"
   ]
  },
  {
   "cell_type": "markdown",
   "metadata": {},
   "source": [
    "## Dimension Reduction"
   ]
  },
  {
   "cell_type": "markdown",
   "metadata": {},
   "source": [
    "The objective here is to transform the entire set of predictors into a new representation that will be (1) useful for predicting the response and (2) be easier to predict using the observable features."
   ]
  },
  {
   "cell_type": "code",
   "execution_count": 37,
   "metadata": {},
   "outputs": [],
   "source": [
    "from mpl_toolkits.mplot3d import Axes3D\n",
    "from sklearn import manifold, datasets"
   ]
  },
  {
   "cell_type": "markdown",
   "metadata": {},
   "source": [
    "The approach taken is Kernel PCA. The primary tuning parameter is referred to as \"gamma,\" and is here assigned to `gamma1`. "
   ]
  },
  {
   "cell_type": "code",
   "execution_count": 38,
   "metadata": {},
   "outputs": [],
   "source": [
    "gamma1 = .001"
   ]
  },
  {
   "cell_type": "markdown",
   "metadata": {},
   "source": [
    "Initialize the Kernel PCA object. The number of components and the choice of kernel could also be important."
   ]
  },
  {
   "cell_type": "code",
   "execution_count": 39,
   "metadata": {},
   "outputs": [],
   "source": [
    "from sklearn.decomposition import KernelPCA, PCA\n",
    "\n",
    "Kernel_pca = KernelPCA(n_components = 20, kernel= \"sigmoid\", gamma=gamma1)"
   ]
  },
  {
   "cell_type": "markdown",
   "metadata": {},
   "source": [
    "Fit the transformation using only Set 0."
   ]
  },
  {
   "cell_type": "code",
   "execution_count": 40,
   "metadata": {},
   "outputs": [],
   "source": [
    "fittotrainset = Kernel_pca.fit_transform(subinfo[subinfo['Set']==0][PredsFullModel].astype(float))"
   ]
  },
  {
   "cell_type": "markdown",
   "metadata": {},
   "source": [
    "Now apply the transformation to the entire data set to obtain the positions in this new space."
   ]
  },
  {
   "cell_type": "code",
   "execution_count": 41,
   "metadata": {},
   "outputs": [],
   "source": [
    "Y = Kernel_pca.transform(subinfo[PredsFullModel].astype(float))"
   ]
  },
  {
   "cell_type": "raw",
   "metadata": {},
   "source": [
    "names = ['V0','V1','V2','V3','V4','V5','V6','V7','V8','V9','V10','V11','V12','V13','V14','V15','V16','V17','V18','V19']\n",
    "\n",
    "train_features = fittotrainset\n",
    "train_labels = subinfo[subinfo['Set']==0][FullModelRespUse] \n",
    "\n",
    "train_pixels = subinfo[subinfo['Set']==0]['pixelnum'] \n",
    "\n",
    "train_features = train_features.astype(float)\n",
    "\n",
    "test_features = 0\n",
    "test_labels = 0\n",
    "#test_features = Set2[NEWpreds2]\n",
    "#test_labels = subinfo[subinfo['Set']==2][FullModelRespUse] \n",
    "\n",
    "#test_features = test_features.astype(float)\n",
    "\n",
    "rtry = [4,6,8,10,12,14,16]\n",
    "\n",
    "FullPPR(train_features, train_labels, test_features, test_labels,\n",
    "            train_pixels, rtry, runname='OrigModel',PredsNames=names,degtry=[2])"
   ]
  },
  {
   "cell_type": "markdown",
   "metadata": {},
   "source": [
    "This will just make things a little cleaner later."
   ]
  },
  {
   "cell_type": "code",
   "execution_count": 42,
   "metadata": {},
   "outputs": [],
   "source": [
    "Set0 = subinfo[subinfo['Set']==0]\n",
    "Xmat = Set0[PredsFullModel]"
   ]
  },
  {
   "cell_type": "markdown",
   "metadata": {},
   "source": [
    "This creates a matrix `Kmat` which holds the kernel function evaluated at all pairs of predictor vectors."
   ]
  },
  {
   "cell_type": "code",
   "execution_count": 43,
   "metadata": {},
   "outputs": [],
   "source": [
    "from sklearn.metrics.pairwise import sigmoid_kernel\n",
    "\n",
    "Kmat = sigmoid_kernel(Xmat, gamma = gamma1)"
   ]
  },
  {
   "cell_type": "markdown",
   "metadata": {},
   "source": [
    "According to the documentation, \"`KernelCenterer` centers the features without explicitly computing the mapping. Working with centered kernels is sometime expected when dealing with algebra computation such as eigendecomposition for `KernelPCA` for instance.\"\n",
    "\n",
    "It was found that this step is necessary in order to get the results using this \"step-by-step\" approach to match up with the results obtained directly from `KernelPCA` above."
   ]
  },
  {
   "cell_type": "code",
   "execution_count": 44,
   "metadata": {},
   "outputs": [],
   "source": [
    "from sklearn.preprocessing import KernelCenterer\n",
    "\n",
    "transformer = KernelCenterer().fit(Kmat)\n",
    "KmatTrans = transformer.transform(Kmat)"
   ]
  },
  {
   "cell_type": "markdown",
   "metadata": {},
   "source": [
    "This was used as a check on the above code, to ensure that the \"built-in\" and \"manual\" approaches to calculating the Kernel PCA representation gave the same results.\n",
    "\n",
    "This can be ignored."
   ]
  },
  {
   "cell_type": "code",
   "execution_count": 45,
   "metadata": {
    "scrolled": true
   },
   "outputs": [
    {
     "name": "stdout",
     "output_type": "stream",
     "text": [
      "[ 8.25294101e-02  4.43531501e-02  6.43292327e-02  3.76976559e-02\n",
      " -4.08345941e-03 -6.53576142e-03  7.73033695e-04  4.21841812e-03\n",
      "  6.37400686e-04  3.89435569e-04  1.40073177e-04 -5.79108164e-04\n",
      " -3.46799620e-04  4.91319415e-04 -1.16949182e-05  3.11270907e-05\n",
      " -2.85435775e-04  3.45715924e-04 -1.46991867e-04 -1.07235483e-04]\n",
      "[ 8.25294101e-02  4.43531501e-02  6.43292327e-02  3.76976559e-02\n",
      " -4.08345941e-03 -6.53576142e-03  7.73033695e-04  4.21841812e-03\n",
      "  6.37400686e-04  3.89435569e-04  1.40073177e-04 -5.79108164e-04\n",
      " -3.46799620e-04  4.91319415e-04 -1.16949182e-05  3.11270907e-05\n",
      " -2.85435775e-04  3.45715924e-04 -1.46991867e-04 -1.07235483e-04]\n",
      "[ 8.25294101e-02  4.43531501e-02  6.43292327e-02  3.76976559e-02\n",
      " -4.08345941e-03 -6.53576142e-03  7.73033695e-04  4.21841812e-03\n",
      "  6.37400686e-04  3.89435569e-04  1.40073177e-04 -5.79108164e-04\n",
      " -3.46799620e-04  4.91319415e-04 -1.16949182e-05  3.11270907e-05\n",
      " -2.85435775e-04  3.45715924e-04 -1.46991867e-04 -1.07235483e-04]\n"
     ]
    }
   ],
   "source": [
    "foo = np.matmul(Kernel_pca.alphas_.T, KmatTrans)\n",
    "\n",
    "foo2 = foo.T/sqrt(Kernel_pca.lambdas_)\n",
    "\n",
    "print(foo2[0,])\n",
    "\n",
    "print(Kernel_pca.alphas_[0,:]*sqrt(Kernel_pca.lambdas_))\n",
    "\n",
    "print(fittotrainset[0,:])"
   ]
  },
  {
   "cell_type": "markdown",
   "metadata": {},
   "source": [
    "This plot is intended to give a sense of the relationship (if any) between the low-dimensional representation learned from Kernel PCA and the response."
   ]
  },
  {
   "cell_type": "code",
   "execution_count": 46,
   "metadata": {},
   "outputs": [
    {
     "data": {
      "image/png": "[encoded data removed]",
      "text/plain": [
       "<Figure size 432x288 with 1 Axes>"
      ]
     },
     "metadata": {
      "needs_background": "light"
     },
     "output_type": "display_data"
    }
   ],
   "source": [
    "coluse = subinfo[FullModelRespUse]\n",
    "\n",
    "plt.scatter(fittotrainset[:, 0], fittotrainset[:, 1], c=coluse[subinfo['Set']==0], cmap=plt.cm.Spectral,s=3)\n",
    "plt.title(\"Results from Kernel PCA\")\n",
    "\n",
    "plt.show()"
   ]
  },
  {
   "cell_type": "markdown",
   "metadata": {},
   "source": [
    "### Construct the Kernel training and test sets\n",
    "\n",
    "Next we construct a training/test set that will be used in learning the relationship between the kernel function and the observable/unobservable pairs.\n",
    "\n",
    "Not all pairs are chosen, as there would be too many, in general. The value of `numpairs` controls this."
   ]
  },
  {
   "cell_type": "code",
   "execution_count": 47,
   "metadata": {},
   "outputs": [],
   "source": [
    "numpairs = 20000"
   ]
  },
  {
   "cell_type": "markdown",
   "metadata": {},
   "source": [
    "Choose out the pairs."
   ]
  },
  {
   "cell_type": "code",
   "execution_count": 48,
   "metadata": {},
   "outputs": [],
   "source": [
    "from itertools import combinations\n",
    "\n",
    "allpairs = list(combinations(range(Xmat.shape[0]), 2))\n",
    "samppairs = random.sample(allpairs,numpairs)"
   ]
  },
  {
   "cell_type": "markdown",
   "metadata": {},
   "source": [
    "The matrix `KernModTrainTest` holds the data used to train and test the kernel function model.\n",
    "\n",
    "Each row of `KernModTrainTest` holds one pair.\n",
    "\n",
    "The first column of `KernModTrainTest` is the \"reponse,\" i.e., the kernel function evaluated between the two observations in the pair.\n",
    "\n",
    "The next set of columns holds the **observable** variables from the first galaxy in the pair.\n",
    "\n",
    "The next set of columns holds the **observable and unobservable** variables from the second galaxy in the pair.\n",
    "\n",
    "The final column is the inner product between the observable variables between the two variables in the pair. Keep in mind that the inner product is a key ingredient in the calculation of the sigmoid kernel. It has been found that including this as one of the available predictors improves the performance of the model."
   ]
  },
  {
   "cell_type": "code",
   "execution_count": 49,
   "metadata": {},
   "outputs": [],
   "source": [
    "pos = 0\n",
    "br1 = len(ObsPredsUse)+1\n",
    "br2 = br1 + len(PredsFullModel)\n",
    "\n",
    "KernModTrainTest = np.zeros((numpairs,br2+1))\n",
    "\n",
    "for pr in samppairs:\n",
    "    KernModTrainTest[pos,0] = KmatTrans[pr]\n",
    "    KernModTrainTest[pos,1:br1] = Set0.iloc[pr[0]][ObsPredsUse]\n",
    "    KernModTrainTest[pos,br1:br2] = Set0.iloc[pr[1]][PredsFullModel]\n",
    "    KernModTrainTest[pos,br2] = sum(Set0.iloc[pr[0]][ObsPredsUse] * Set0.iloc[pr[1]][ObsPredsUse])\n",
    "\n",
    "    pos +=1"
   ]
  },
  {
   "cell_type": "markdown",
   "metadata": {},
   "source": [
    "### Fit Neural Network for Kernel function\n",
    "\n",
    "Use the set built above to fit the neural network for predicting the kernel function."
   ]
  },
  {
   "cell_type": "markdown",
   "metadata": {},
   "source": [
    "Tuning parameters"
   ]
  },
  {
   "cell_type": "code",
   "execution_count": 50,
   "metadata": {},
   "outputs": [],
   "source": [
    "learning_rate = 0.0001\n",
    "momentum = 0.8\n",
    "bsize = 128\n",
    "numepochs = 500\n",
    "dropoutrate = 0.50\n",
    "decay_rate = learning_rate / numepochs"
   ]
  },
  {
   "cell_type": "markdown",
   "metadata": {},
   "source": [
    "Split into train and test sets."
   ]
  },
  {
   "cell_type": "code",
   "execution_count": 51,
   "metadata": {},
   "outputs": [],
   "source": [
    "from sklearn.model_selection import train_test_split\n",
    "\n",
    "train_features, test_features, train_labels, test_labels = \\\n",
    "   train_test_split(KernModTrainTest[:,1:], KernModTrainTest[:,0], \n",
    "        test_size = 0.2, random_state = 0)"
   ]
  },
  {
   "cell_type": "markdown",
   "metadata": {},
   "source": [
    "Set up functions."
   ]
  },
  {
   "cell_type": "code",
   "execution_count": 52,
   "metadata": {},
   "outputs": [],
   "source": [
    "from tensorflow.keras import models, layers, utils, backend as K\n",
    "from tensorflow.random import set_seed\n",
    "\n",
    "set_seed(0)"
   ]
  },
  {
   "cell_type": "markdown",
   "metadata": {},
   "source": [
    "Set up model architecture."
   ]
  },
  {
   "cell_type": "code",
   "execution_count": 53,
   "metadata": {},
   "outputs": [
    {
     "name": "stdout",
     "output_type": "stream",
     "text": [
      "Model: \"SimpleNN\"\n",
      "_________________________________________________________________\n",
      "Layer (type)                 Output Shape              Param #   \n",
      "=================================================================\n",
      "h1 (Dense)                   (None, 6000)              132000    \n",
      "_________________________________________________________________\n",
      "drop1 (Dropout)              (None, 6000)              0         \n",
      "_________________________________________________________________\n",
      "h2 (Dense)                   (None, 4000)              24004000  \n",
      "_________________________________________________________________\n",
      "drop2 (Dropout)              (None, 4000)              0         \n",
      "_________________________________________________________________\n",
      "output (Dense)               (None, 1)                 4001      \n",
      "=================================================================\n",
      "Total params: 24,140,001\n",
      "Trainable params: 24,140,001\n",
      "Non-trainable params: 0\n",
      "_________________________________________________________________\n"
     ]
    }
   ],
   "source": [
    "n_features = train_features.shape[1]\n",
    "\n",
    "\n",
    "model = models.Sequential(name=\"SimpleNN\", layers=[\n",
    "    ### hidden layer 1\n",
    "    layers.Dense(name=\"h1\", input_dim=n_features,\n",
    "                 units=6000, \n",
    "                 activation='relu'),\n",
    "    \n",
    "    layers.Dropout(name=\"drop1\", rate=dropoutrate, seed=globalseed),\n",
    "    \n",
    "    ### hidden layer 2\n",
    "    layers.Dense(name=\"h2\", units=4000, \n",
    "                 activation='relu'),\n",
    "    \n",
    "    layers.Dropout(name=\"drop2\", rate=dropoutrate, seed=globalseed+1),\n",
    "    \n",
    "    ### hidden layer 3\n",
    "    #layers.Dense(name=\"h3\", units=400, \n",
    "    #            activation='relu'),\n",
    "    \n",
    "    #layers.Dropout(name=\"drop3\", rate=dropoutrate, seed=globalseed+2),\n",
    "    \n",
    "    ### hidden layer 4\n",
    "    #layers.Dense(name=\"h4\", units=400, \n",
    "    #            activation='relu'),\n",
    "    \n",
    "    #layers.Dropout(name=\"drop4\", rate=dropoutrate, seed=globalseed+3),\n",
    "    \n",
    "    ### layer output\n",
    "    layers.Dense(name=\"output\", units=1, activation='linear')\n",
    "])\n",
    "model.summary()"
   ]
  },
  {
   "cell_type": "markdown",
   "metadata": {},
   "source": [
    "Define the metric to be used."
   ]
  },
  {
   "cell_type": "code",
   "execution_count": 54,
   "metadata": {},
   "outputs": [],
   "source": [
    "def R2(y, y_hat):\n",
    "    ss_res =  K.sum(K.square(y - y_hat)) \n",
    "    ss_tot = K.sum(K.square(y - K.mean(y))) \n",
    "    return ( 1 - ss_res/(ss_tot + K.epsilon()) )"
   ]
  },
  {
   "cell_type": "markdown",
   "metadata": {},
   "source": [
    "Compile the model and output some of the tuning parameters."
   ]
  },
  {
   "cell_type": "code",
   "execution_count": 55,
   "metadata": {},
   "outputs": [
    {
     "name": "stdout",
     "output_type": "stream",
     "text": [
      "\n",
      "----------------------------------------------------\n",
      "Number of epochs: 500\n",
      "learning rate: 0.0001\n",
      "decay rate: 2.0000000000000002e-07\n",
      "momentum: 0.8\n",
      "dropout rate: 0.5\n",
      "batch size: 128\n"
     ]
    }
   ],
   "source": [
    "from tensorflow.keras.optimizers import SGD\n",
    "\n",
    "sgd = SGD(lr=learning_rate, momentum=momentum, decay=decay_rate, nesterov=True)\n",
    "\n",
    "model.compile(optimizer=sgd, loss='mean_squared_error', metrics=[R2])\n",
    "\n",
    "print(\"\\n----------------------------------------------------\")\n",
    "print(\"Number of epochs:\",numepochs)\n",
    "print(\"learning rate:\",learning_rate)\n",
    "print(\"decay rate:\",decay_rate)\n",
    "print(\"momentum:\",momentum)\n",
    "print(\"dropout rate:\",dropoutrate)\n",
    "print(\"batch size:\",bsize)"
   ]
  },
  {
   "cell_type": "markdown",
   "metadata": {},
   "source": [
    "The scale of the kernel function can be quite small. It was found that adjusting it helped with the training. The response is multiplied by `fitscale` prior to training."
   ]
  },
  {
   "cell_type": "code",
   "execution_count": 56,
   "metadata": {},
   "outputs": [],
   "source": [
    "fitscale = 1000\n",
    "train_labels = train_labels*fitscale"
   ]
  },
  {
   "cell_type": "markdown",
   "metadata": {},
   "source": [
    "Train the model"
   ]
  },
  {
   "cell_type": "code",
   "execution_count": null,
   "metadata": {},
   "outputs": [
    {
     "name": "stdout",
     "output_type": "stream",
     "text": [
      "Epoch 1/500\n",
      "88/88 - 5s - loss: 6.0037 - R2: 0.4878 - val_loss: 2.5542 - val_R2: 0.7602\n",
      "Epoch 2/500\n",
      "88/88 - 5s - loss: 2.4174 - R2: 0.7874 - val_loss: 2.3947 - val_R2: 0.7636\n",
      "Epoch 3/500\n",
      "88/88 - 5s - loss: 2.1614 - R2: 0.7963 - val_loss: 2.3794 - val_R2: 0.7632\n",
      "Epoch 4/500\n",
      "88/88 - 5s - loss: 2.0555 - R2: 0.8078 - val_loss: 2.3624 - val_R2: 0.7632\n",
      "Epoch 5/500\n",
      "88/88 - 5s - loss: 2.0320 - R2: 0.8038 - val_loss: 2.3259 - val_R2: 0.7665\n",
      "Epoch 6/500\n",
      "88/88 - 5s - loss: 2.0257 - R2: 0.8099 - val_loss: 2.3234 - val_R2: 0.7655\n",
      "Epoch 7/500\n",
      "88/88 - 5s - loss: 1.9881 - R2: 0.8083 - val_loss: 2.2690 - val_R2: 0.7712\n",
      "Epoch 8/500\n",
      "88/88 - 5s - loss: 1.9390 - R2: 0.8153 - val_loss: 2.2817 - val_R2: 0.7688\n",
      "Epoch 9/500\n"
     ]
    }
   ],
   "source": [
    "training = model.fit(x=train_features, y=train_labels, \n",
    "     batch_size=bsize, epochs=numepochs, shuffle=True, verbose=2,\n",
    "    validation_split=0.3)"
   ]
  },
  {
   "cell_type": "markdown",
   "metadata": {},
   "source": [
    "Fitted values on both training and test sets."
   ]
  },
  {
   "cell_type": "code",
   "execution_count": null,
   "metadata": {},
   "outputs": [],
   "source": [
    "NNfitsontest = np.reshape(model.predict(test_features),-1)\n",
    "NNfitsontrain = np.reshape(model.predict(train_features),-1)"
   ]
  },
  {
   "cell_type": "markdown",
   "metadata": {},
   "source": [
    "The RMSE on the training and test sets."
   ]
  },
  {
   "cell_type": "code",
   "execution_count": null,
   "metadata": {},
   "outputs": [],
   "source": [
    "print(\"RMSE on training set:\",round(sqrt(mean((NNfitsontrain-train_labels)**2)),5))\n",
    "print(\"RMSE on test set:\",round(sqrt(mean((NNfitsontest-test_labels*fitscale)**2)),5))"
   ]
  },
  {
   "cell_type": "markdown",
   "metadata": {},
   "source": [
    "Plots showing performance of model, comparing fitted values with actual response, on both training and test sets."
   ]
  },
  {
   "cell_type": "code",
   "execution_count": null,
   "metadata": {},
   "outputs": [],
   "source": [
    "plt.figure(figsize=[5,5])\n",
    "hist2d(x=NNfitsontrain,\n",
    "       y=train_labels,\n",
    "         bins=200,\n",
    "         norm=matplotlib.colors.LogNorm())\n",
    "plt.title('Neural Network Performance')\n",
    "plt.ylabel('Training Set Response',size=12)\n",
    "plt.xlabel('Training Set Fitted Values',size=12)\n",
    "plt.plot([-100, 100], [-100, 100], 'b-')\n",
    "#plt.xlim(-1.5,3)\n",
    "#plt.ylim(-1.5,3)\n",
    "plt.show()\n",
    "\n",
    "plt.figure(figsize=[5,5])\n",
    "hist2d(x=NNfitsontest,\n",
    "       y=test_labels*fitscale,\n",
    "         bins=200,\n",
    "         norm=matplotlib.colors.LogNorm())\n",
    "plt.title('Neural Network Performance')\n",
    "plt.ylabel('Test Set Response',size=12)\n",
    "plt.xlabel('Test Set Fitted Values',size=12)\n",
    "plt.plot([-100, 100], [-100, 100], 'b-')\n",
    "#plt.xlim(-1.5,3)\n",
    "#plt.ylim(-1.5,3)\n",
    "\n",
    "plt.show()"
   ]
  },
  {
   "cell_type": "markdown",
   "metadata": {},
   "source": [
    "These plots show how performance evolves over the epochs."
   ]
  },
  {
   "cell_type": "code",
   "execution_count": null,
   "metadata": {
    "scrolled": true
   },
   "outputs": [],
   "source": [
    "metrics = [k for k in training.history.keys() if (\"loss\" not in k) and (\"val\" not in k)]    \n",
    "fig, ax = plt.subplots(nrows=1, ncols=2, sharey=True, figsize=(15,3))\n",
    "       \n",
    "## training\n",
    "\n",
    "ax[0].set(title=\"Training\")    \n",
    "ax11 = ax[0].twinx()    \n",
    "ax[0].plot(training.history['loss'], color='black')\n",
    "ax[0].set_xlabel('Epochs')    \n",
    "ax[0].set_ylabel('Loss', color='black')    \n",
    "for metric in metrics:        \n",
    "    ax11.plot(training.history[metric], label=metric) \n",
    "    ax11.set_ylabel(\"Score\", color='steelblue')    \n",
    "ax11.legend()\n",
    "        \n",
    "## validation\n",
    "\n",
    "ax[1].set(title=\"Validation\")    \n",
    "ax22 = ax[1].twinx()    \n",
    "ax[1].plot(training.history['val_loss'], color='black')\n",
    "ax[1].set_xlabel('Epochs')    \n",
    "ax[1].set_ylabel('Loss', color='black')    \n",
    "for metric in metrics:          \n",
    "    ax22.plot(training.history['val_'+metric], label=metric)\n",
    "    ax22.set_ylabel(\"Score\", color=\"steelblue\")    \n",
    "plt.show()"
   ]
  },
  {
   "cell_type": "markdown",
   "metadata": {},
   "source": [
    "## Predicting the Kernel Function"
   ]
  },
  {
   "cell_type": "markdown",
   "metadata": {},
   "source": [
    "Here we use the neural network fit above to actually extend the kernel function to cases where in each pair one of the galaxies only has observable variables.\n",
    "\n",
    "Set 1 consists of galaxies for which only observable variables are assumed known."
   ]
  },
  {
   "cell_type": "code",
   "execution_count": null,
   "metadata": {},
   "outputs": [],
   "source": [
    "Set1 = subinfo[subinfo['Set']==1][ObsPredsUse].copy()"
   ]
  },
  {
   "cell_type": "markdown",
   "metadata": {},
   "source": [
    "Calculate the estimated kernel applied to pairs consisting of a single row of Set 1, and each row of the training set used when fitting the neural network.\n",
    "\n",
    "For each row $i$ in Set 1, calculate the (estimated) kernel function evaluated between $i$ and all galaxies in Set 0, i.e., the training/test set for the neural network.\n",
    "\n",
    "The final result in the matrix `estK`.\n",
    "\n",
    "Note that calling the predict function is time consuming. The strategy here is to break the task into batches of size `gs`. On each iteration, a group of `gs` rows of Set 1 are processed."
   ]
  },
  {
   "cell_type": "code",
   "execution_count": null,
   "metadata": {},
   "outputs": [],
   "source": [
    "from tqdm import tqdm\n",
    "import time\n",
    "\n",
    "s1z = Set1.shape[0] # The number of observations in Set 1\n",
    "gs = 10\n",
    "\n",
    "estK = np.zeros((Xmat.shape[0],s1z))\n",
    "\n",
    "pos = 0\n",
    "\n",
    "# This takes a while\n",
    "for i in tqdm(range(int(floor(s1z/gs)))):\n",
    "    \n",
    "    fulldf = pd.DataFrame()\n",
    "    \n",
    "    for j in range(gs):\n",
    "        onerow = matmul(np.ones([Xmat.shape[0],1]),np.array(Set1.iloc[pos,:]).reshape(1,6))\n",
    "        onerow = pd.DataFrame(onerow,index=Xmat.index, columns = Set1.columns)\n",
    "        holddf = pd.concat([onerow, Xmat],axis=1)\n",
    "        holddf['inprod'] = matmul(np.array(Xmat[ObsPredsUse]),np.array(Set1.iloc[pos,:]).reshape(6,1))\n",
    "        fulldf = fulldf.append(holddf)\n",
    "        pos +=1\n",
    "\n",
    "    estK[:,(i*gs):((i+1)*gs)] = model.predict_on_batch(fulldf).reshape(Xmat.shape[0],gs,order='F')/fitscale\n",
    "\n",
    "# Do the last group\n",
    "\n",
    "gs = s1z-pos # Reset gs to number of remaining rows\n",
    "\n",
    "if(gs > 0):\n",
    "    fulldf = pd.DataFrame()\n",
    "    \n",
    "    for j in range(gs):\n",
    "        onerow = matmul(np.ones([Xmat.shape[0],1]),np.array(Set1.iloc[pos,:]).reshape(1,6))\n",
    "        onerow = pd.DataFrame(onerow,index=Xmat.index, columns = Set1.columns)\n",
    "        holddf = pd.concat([onerow, Xmat],axis=1)\n",
    "        holddf['inprod'] = matmul(np.array(Xmat[ObsPredsUse]),np.array(Set1.iloc[pos,:]).reshape(6,1))\n",
    "        fulldf = fulldf.append(holddf)\n",
    "        pos +=1\n",
    "\n",
    "    estK[:,(s1z-gs):s1z] = model.predict_on_batch(fulldf).reshape(Xmat.shape[0],gs,order='F')/fitscale\n",
    "\n",
    "#import pickle\n",
    "#output = open('estK.pkl', 'wb')\n",
    "#pickle.dump(estK, output)\n",
    "#output.close()\n",
    "\n",
    "# Find the coordinates in the new space.\n",
    "\n",
    "foo = np.matmul(Kernel_pca.alphas_.T, estK)\n",
    "newcoords = foo.T/sqrt(Kernel_pca.lambdas_)\n",
    "\n",
    "# Add them into the data frame.\n",
    "\n",
    "Set1.drop(columns=[x for x in Set1.columns if x.startswith('KPCA')],inplace=True, errors='ignore')\n",
    "\n",
    "for i in range(newcoords.shape[1]):\n",
    "    Set1['KPCA'+str(i)] = newcoords[:,i]\n",
    "    \n",
    "NEWpreds = [x for x in Set1.columns if x.startswith('KPCA')]"
   ]
  },
  {
   "cell_type": "markdown",
   "metadata": {},
   "source": [
    "Do the same thing for Set 2, which will serve as a final test set."
   ]
  },
  {
   "cell_type": "code",
   "execution_count": null,
   "metadata": {},
   "outputs": [],
   "source": [
    "Set2 = subinfo[subinfo['Set']==2][ObsPredsUse].copy()\n",
    "\n",
    "from tqdm import tqdm\n",
    "import time\n",
    "\n",
    "s1z = Set2.shape[0] # The number of observations in Set 2\n",
    "gs = 10\n",
    "\n",
    "estK = np.zeros((Xmat.shape[0],s1z))\n",
    "#estK = np.zeros((Xmat.shape[0],10))\n",
    "\n",
    "pos = 0\n",
    "\n",
    "# This takes a while\n",
    "for i in tqdm(range(int(floor(s1z/gs)))):\n",
    "    \n",
    "    fulldf = pd.DataFrame()\n",
    "    \n",
    "    for j in range(gs):\n",
    "        onerow = matmul(np.ones([Xmat.shape[0],1]),np.array(Set2.iloc[pos,:]).reshape(1,6))\n",
    "        onerow = pd.DataFrame(onerow,index=Xmat.index, columns = Set2.columns)\n",
    "        holddf = pd.concat([onerow, Xmat],axis=1)\n",
    "        holddf['inprod'] = matmul(np.array(Xmat[ObsPredsUse]),np.array(Set2.iloc[pos,:]).reshape(6,1))\n",
    "        fulldf = fulldf.append(holddf)\n",
    "        pos +=1\n",
    "\n",
    "    estK[:,(i*gs):((i+1)*gs)] = model.predict_on_batch(fulldf).reshape(Xmat.shape[0],gs,order='F')/fitscale\n",
    "\n",
    "# Do the last group\n",
    "\n",
    "gs = s1z-pos # Reset gs to number of remaining rows\n",
    "\n",
    "if(gs > 0):\n",
    "    fulldf = pd.DataFrame()\n",
    "    \n",
    "    for j in range(gs):\n",
    "        onerow = matmul(np.ones([Xmat.shape[0],1]),np.array(Set2.iloc[pos,:]).reshape(1,6))\n",
    "        onerow = pd.DataFrame(onerow,index=Xmat.index, columns = Set2.columns)\n",
    "        holddf = pd.concat([onerow, Xmat],axis=1)\n",
    "        holddf['inprod'] = matmul(np.array(Xmat[ObsPredsUse]),np.array(Set2.iloc[pos,:]).reshape(6,1))\n",
    "        fulldf = fulldf.append(holddf)\n",
    "        pos +=1\n",
    "\n",
    "    estK[:,(s1z-gs):s1z] = model.predict_on_batch(fulldf).reshape(Xmat.shape[0],gs,order='F')/fitscale\n",
    "\n",
    "#import pickle\n",
    "#output = open('estK.pkl', 'wb')\n",
    "#pickle.dump(estK, output)\n",
    "#output.close()\n",
    "\n",
    "# Find the coordinates in the new space.\n",
    "\n",
    "foo = np.matmul(Kernel_pca.alphas_.T, estK)\n",
    "newcoords = foo.T/sqrt(Kernel_pca.lambdas_)\n",
    "\n",
    "# Add them into the data frame.\n",
    "\n",
    "Set2.drop(columns=[x for x in Set2.columns if x.startswith('KPCA')],inplace=True, errors='ignore')\n",
    "\n",
    "for i in range(newcoords.shape[1]):\n",
    "    Set2['KPCA'+str(i)] = newcoords[:,i]"
   ]
  },
  {
   "cell_type": "raw",
   "metadata": {},
   "source": [
    "coluse = subinfo[FullModelRespUse]\n",
    "plt.scatter(Y[:, 0], Y[:, 1], c=coluse, cmap=plt.cm.Spectral,s=3)\n",
    "plt.title(\"Results from Kernel PCA\")\n",
    "plt.show()\n",
    "\n",
    "coluse = subinfo[FullModelRespUse]\n",
    "plt.scatter(Yobs[:, 0], Yobs[:, 1], c=coluse, cmap=plt.cm.Spectral,s=3)\n",
    "plt.title(\"Results from Kernel PCA\")\n",
    "plt.show()\n",
    "\n",
    "coluse = subinfo[FullModelRespUse]\n",
    "plt.scatter(Y[:, 4], Yobs[:, 4], c=coluse, cmap=plt.cm.Spectral,s=3)\n",
    "plt.title(\"Results from Kernel PCA\")\n",
    "plt.show()\n",
    "\n",
    "plt.scatter(fittotrainset[:, 0], fittotrainset[:, 1], c=coluse[subinfo['Set']==0], cmap=plt.cm.Spectral,s=3)\n",
    "plt.title(\"Results from Kernel PCA\")\n",
    "plt.show()"
   ]
  },
  {
   "cell_type": "raw",
   "metadata": {},
   "source": [
    "train_features = subinfo[subinfo['Set']==0][ObsPredsUse]\n",
    "train_labels = subinfo[subinfo['Set']==0][FullModelRespUse]\n",
    "\n",
    "train_pixels = subinfo[subinfo['Set']==0]['pixelnum']\n",
    "\n",
    "train_features = train_features.astype(float)\n",
    "\n",
    "test_features = subinfo[subinfo['Set']>0][ObsPredsUse]\n",
    "test_labels = subinfo[subinfo['Set']>0][FullModelRespUse]\n",
    "\n",
    "test_features = test_features.astype(float)\n",
    "\n",
    "rtry = [3,4,5,6,7,8,9,10,11,12]\n",
    "\n",
    "FullPPR(train_features, train_labels, test_features, test_labels,\n",
    "            train_pixels, rtry, runname='OrigModel',PredsNames=ObsPredsUse,degtry=[3])"
   ]
  },
  {
   "cell_type": "markdown",
   "metadata": {},
   "source": [
    "Each of the new predictors is scaled to have mean zero and SD one. Note that the scaling is based only on the observations in Set 1, but applied to both Set 1 and Set 2."
   ]
  },
  {
   "cell_type": "code",
   "execution_count": null,
   "metadata": {},
   "outputs": [],
   "source": [
    "scaler = preprocessing.StandardScaler(copy=True)\n",
    "scaler.fit(Set1[NEWpreds])\n",
    "foo = pd.DataFrame(scaler.transform(Set1[NEWpreds]),columns=NEWpreds, index=Set1.index)\n",
    "Set1 = pd.DataFrame.join(Set1.drop(NEWpreds,axis=1),foo)\n",
    "\n",
    "foo = pd.DataFrame(scaler.transform(Set2[NEWpreds]),columns=NEWpreds, index=Set2.index)\n",
    "Set2 = pd.DataFrame.join(Set2.drop(NEWpreds,axis=1),foo)"
   ]
  },
  {
   "cell_type": "code",
   "execution_count": null,
   "metadata": {},
   "outputs": [],
   "source": [
    "from scipy.stats import kurtosis\n",
    "\n",
    "kurtosishold = numpy.zeros(len(NEWpreds))"
   ]
  },
  {
   "cell_type": "markdown",
   "metadata": {},
   "source": [
    "This shows the distribution of each of the new predictors. Also, the kurtosis is calculated and displayed. Highly skewed predictors are problematic, and seem to be largely driven by outliers. Hence, among these, ones with large kurtosis are removed."
   ]
  },
  {
   "cell_type": "code",
   "execution_count": null,
   "metadata": {
    "scrolled": false
   },
   "outputs": [],
   "source": [
    "pos = 0\n",
    "for pred in NEWpreds:\n",
    "    plt.figure(figsize=[5,5])\n",
    "    hist(Set1[pred], bins=100)\n",
    "    kurtosishold[pos] = kurtosis(Set1[pred])\n",
    "    print(kurtosis(Set1[pred]))\n",
    "    plt.xlabel(pred,size=12)\n",
    "    plt.show()\n",
    "    pos +=1"
   ]
  },
  {
   "cell_type": "markdown",
   "metadata": {},
   "source": [
    "The full list of predictors is constructed."
   ]
  },
  {
   "cell_type": "code",
   "execution_count": null,
   "metadata": {
    "scrolled": true
   },
   "outputs": [],
   "source": [
    "NEWpreds2 = list(np.array(NEWpreds)[kurtosishold<100]) + ObsPredsUse\n",
    "\n",
    "print(NEWpreds2)"
   ]
  },
  {
   "cell_type": "code",
   "execution_count": null,
   "metadata": {
    "scrolled": true
   },
   "outputs": [],
   "source": [
    "train_features = Set1[NEWpreds2]\n",
    "train_labels = subinfo[subinfo['Set']==1][FullModelRespUse]\n",
    "\n",
    "train_pixels = subinfo[subinfo['Set']==1]['pixelnum'] \n",
    "\n",
    "train_features = train_features.astype(float)\n",
    "\n",
    "test_features = Set2[NEWpreds2]\n",
    "test_labels = subinfo[subinfo['Set']==2][FullModelRespUse] \n",
    "test_features = test_features.astype(float)\n",
    "\n",
    "rtry = [4,6,8,10,12,14,16]\n",
    "\n",
    "FullPPR(train_features, train_labels, test_features, test_labels,\n",
    "            train_pixels, rtry, runname='OrigModel',PredsNames=NEWpreds2,degtry=[2])"
   ]
  },
  {
   "cell_type": "code",
   "execution_count": null,
   "metadata": {},
   "outputs": [],
   "source": [
    "train_features = Set1[ObsPredsUse]\n",
    "train_labels = subinfo[subinfo['Set']==1][FullModelRespUse] \n",
    "\n",
    "train_pixels = subinfo[subinfo['Set']==1]['pixelnum'] \n",
    "\n",
    "train_features = train_features.astype(float)\n",
    "\n",
    "test_features = Set2[ObsPredsUse]\n",
    "test_labels = subinfo[subinfo['Set']==2][FullModelRespUse] \n",
    "test_features = test_features.astype(float)\n",
    "\n",
    "rtry = [2,4,6,8,10,12,14]\n",
    "\n",
    "FullPPR(train_features, train_labels, test_features, test_labels,\n",
    "            train_pixels, rtry, runname='OrigModel',PredsNames=ObsPredsUse,degtry=[3])"
   ]
  },
  {
   "cell_type": "raw",
   "metadata": {},
   "source": []
  }
 ],
 "metadata": {
  "celltoolbar": "Tags",
  "kernelspec": {
   "display_name": "Python 3",
   "language": "python",
   "name": "python3"
  },
  "language_info": {
   "codemirror_mode": {
    "name": "ipython",
    "version": 3
   },
   "file_extension": ".py",
   "mimetype": "text/x-python",
   "name": "python",
   "nbconvert_exporter": "python",
   "pygments_lexer": "ipython3",
   "version": "3.8.3"
  }
 },
 "nbformat": 4,
 "nbformat_minor": 5
}
