{
 "cells": [
  {
   "cell_type": "markdown",
   "metadata": {},
   "source": [
    "The objective in this analysis is to repeat the fits of Mags and MagsColors fits several times to see if it is robust to different test/train splits."
   ]
  },
  {
   "cell_type": "code",
   "execution_count": 1,
   "metadata": {},
   "outputs": [],
   "source": [
    "runlist = [0,1]\n",
    "seedlist = range(5)"
   ]
  },
  {
   "cell_type": "code",
   "execution_count": 2,
   "metadata": {},
   "outputs": [],
   "source": [
    "import time"
   ]
  },
  {
   "cell_type": "markdown",
   "metadata": {},
   "source": [
    "`primary_notebook` holds the template for the analysis."
   ]
  },
  {
   "cell_type": "code",
   "execution_count": 3,
   "metadata": {},
   "outputs": [],
   "source": [
    "primary_notebook = \"./Fit Models-Primary.ipynb\""
   ]
  },
  {
   "cell_type": "markdown",
   "metadata": {},
   "source": [
    "Read in the notebook."
   ]
  },
  {
   "cell_type": "code",
   "execution_count": 4,
   "metadata": {
    "scrolled": true
   },
   "outputs": [],
   "source": [
    "import nbformat\n",
    "from nbconvert.preprocessors import ExecutePreprocessor"
   ]
  },
  {
   "cell_type": "code",
   "execution_count": 5,
   "metadata": {},
   "outputs": [],
   "source": [
    "with open(primary_notebook) as f:\n",
    "    nb = nbformat.read(f, as_version=4)"
   ]
  },
  {
   "cell_type": "markdown",
   "metadata": {},
   "source": [
    "Parse the file to find the number of available runs, and their names."
   ]
  },
  {
   "cell_type": "code",
   "execution_count": 6,
   "metadata": {},
   "outputs": [
    {
     "name": "stdout",
     "output_type": "stream",
     "text": [
      "['Mags', 'MagsColors', 'MagsColorsTrueMass', 'MagsColorsTruesigmav', 'MagsColorsTrueSFR', 'MagsColorsTrueCS', 'MagsColorsGalDens2D', 'MagsColorsGalDens3D', 'MagsColorsTrueAll']\n",
      "[4, 5, 7, 8, 9, 10, 11, 12, 13]\n"
     ]
    }
   ],
   "source": [
    "runnames = []\n",
    "runcells = []\n",
    "\n",
    "for cellno in range(100):\n",
    "    if(('runname' in nb['cells'][cellno]['source']) & \\\n",
    "       ('PPRpredsuse' in nb['cells'][cellno]['source'])):\n",
    "        runname = str.split(nb['cells'][cellno]['source'],'\"')[1]\n",
    "        runnames.append(str.split(nb['cells'][cellno]['source'],'\"')[1])\n",
    "        runcells.append(cellno)\n",
    "        nb['cells'][cellno]['cell_type'] = 'raw'\n",
    "        \n",
    "print(runnames)\n",
    "print(runcells)"
   ]
  },
  {
   "cell_type": "markdown",
   "metadata": {},
   "source": [
    "Find the cell with the test/train split information."
   ]
  },
  {
   "cell_type": "code",
   "execution_count": 7,
   "metadata": {},
   "outputs": [
    {
     "name": "stdout",
     "output_type": "stream",
     "text": [
      "0\n"
     ]
    },
    {
     "data": {
      "text/plain": [
       "'globalseed = 0'"
      ]
     },
     "execution_count": 7,
     "metadata": {},
     "output_type": "execute_result"
    }
   ],
   "source": [
    "for seedcellno in range(100):\n",
    "    if('globalseed' in nb['cells'][seedcellno]['source']):\n",
    "        print(seedcellno)\n",
    "        break\n",
    "\n",
    "        \n",
    "#seeduse = 2\n",
    "#nb['cells'][seedcellno]['source'] = \"traintestseed = \" + str(seeduse)\n",
    "\n",
    "nb['cells'][seedcellno]['source']"
   ]
  },
  {
   "cell_type": "code",
   "execution_count": 8,
   "metadata": {},
   "outputs": [],
   "source": [
    "ep = ExecutePreprocessor(timeout=600, kernel_name='python3')"
   ]
  },
  {
   "cell_type": "code",
   "execution_count": 9,
   "metadata": {
    "scrolled": false
   },
   "outputs": [
    {
     "name": "stdout",
     "output_type": "stream",
     "text": [
      "Running Mags with globalseed equal to 0\n",
      "Time to run: 17.9 minutes\n",
      "\n",
      "Running Mags with globalseed equal to 1\n",
      "Time to run: 17.71 minutes\n",
      "\n",
      "Running Mags with globalseed equal to 2\n",
      "Time to run: 17.81 minutes\n",
      "\n",
      "Running Mags with globalseed equal to 3\n",
      "Time to run: 17.67 minutes\n",
      "\n",
      "Running Mags with globalseed equal to 4\n",
      "Time to run: 17.55 minutes\n",
      "\n",
      "Running MagsColors with globalseed equal to 0\n",
      "Time to run: 17.82 minutes\n",
      "\n",
      "Running MagsColors with globalseed equal to 1\n",
      "Time to run: 17.89 minutes\n",
      "\n",
      "Running MagsColors with globalseed equal to 2\n",
      "Time to run: 18.34 minutes\n",
      "\n",
      "Running MagsColors with globalseed equal to 3\n",
      "Time to run: 17.9 minutes\n",
      "\n",
      "Running MagsColors with globalseed equal to 4\n",
      "Time to run: 17.58 minutes\n",
      "\n"
     ]
    }
   ],
   "source": [
    "for runnumtouse in runlist:\n",
    "    for seeduse in seedlist:\n",
    "        ts = time.time()\n",
    "        print(\"Running\",runnames[runnumtouse], \"with globalseed equal to\", seeduse)\n",
    "        nb['cells'][runcells[runnumtouse]]['cell_type'] = 'code'\n",
    "        nb['cells'][seedcellno]['source'] = \"globalseed = \" + str(seeduse)\n",
    "        ep.preprocess(nb)\n",
    "        with open(\"executed_notebook_\"+runnames[runnumtouse]+\"_\"+str(seeduse)+\".ipynb\", \\\n",
    "              'w', encoding='utf-8') as f:\n",
    "            nbformat.write(nb, f)\n",
    "        nb['cells'][runcells[runnumtouse]]['cell_type'] = 'raw'\n",
    "        print('Time to run:',round((time.time()-ts)/60,2),'minutes')\n",
    "        print(\"\")"
   ]
  },
  {
   "cell_type": "code",
   "execution_count": null,
   "metadata": {},
   "outputs": [],
   "source": []
  }
 ],
 "metadata": {
  "kernelspec": {
   "display_name": "Python 3",
   "language": "python",
   "name": "python3"
  },
  "language_info": {
   "codemirror_mode": {
    "name": "ipython",
    "version": 3
   },
   "file_extension": ".py",
   "mimetype": "text/x-python",
   "name": "python",
   "nbconvert_exporter": "python",
   "pygments_lexer": "ipython3",
   "version": "3.8.3"
  }
 },
 "nbformat": 4,
 "nbformat_minor": 4
}
