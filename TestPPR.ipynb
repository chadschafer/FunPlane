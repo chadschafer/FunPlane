{
 "cells": [
  {
   "cell_type": "code",
   "execution_count": 10,
   "metadata": {},
   "outputs": [],
   "source": [
    "def multiPPR(train_obs_features, train_aux_features, train_labels, r0, r1, \n",
    "             degree=3, random_state=0):\n",
    "    \n",
    "    import numpy as np\n",
    "    from skpp import ProjectionPursuitRegressor\n",
    "    \n",
    "    ntrain = len(train_labels)\n",
    "    \n",
    "    # Gmat holds the intermediate-level response variables\n",
    "    # in its columns\n",
    "    \n",
    "    Gmat = np.zeros([ntrain,r1])\n",
    "    for i in range(r1):\n",
    "        Gmat[:,i] = train_labels/r1\n",
    "        \n",
    "    # Start the main iterations\n",
    "    \n",
    "    converged = False\n",
    "    \n",
    "    while(not converged):\n",
    "        for i in range(r1):\n",
    "            model = ProjectionPursuitRegressor(r=r0, show_plots=False,\n",
    "                    degree=degree, fit_type='spline',\n",
    "                    random_state=random_state)\n",
    "            \n",
    "            holdfit = model.fit(train_obs_features, Gmat[:,i])\n",
    "                        \n",
    "            Gmat[:,i] = holdfit.predict(train_obs_features)\n",
    "            \n",
    "            converged = True\n",
    "            \n",
    "    return Gmat"
   ]
  },
  {
   "cell_type": "code",
   "execution_count": 11,
   "metadata": {
    "scrolled": false
   },
   "outputs": [
    {
     "name": "stdout",
     "output_type": "stream",
     "text": [
      "(100,)\n",
      "(100,)\n"
     ]
    },
    {
     "data": {
      "text/plain": [
       "array([[0.86130841, 0.86130841],\n",
       "       [0.77380921, 0.77380921],\n",
       "       [0.83994521, 0.83994521],\n",
       "       [0.91187976, 0.91187976],\n",
       "       [0.98953449, 0.98953449],\n",
       "       [0.34850784, 0.34850784],\n",
       "       [1.04846686, 1.04846686],\n",
       "       [1.00719464, 1.00719464],\n",
       "       [0.76365255, 0.76365255],\n",
       "       [0.93222478, 0.93222478],\n",
       "       [1.08956902, 1.08956902],\n",
       "       [0.64990229, 0.64990229],\n",
       "       [0.86973232, 0.86973232],\n",
       "       [1.07109442, 1.07109442],\n",
       "       [0.89305306, 0.89305306],\n",
       "       [1.23225433, 1.23225433],\n",
       "       [1.1204939 , 1.1204939 ],\n",
       "       [0.82043528, 0.82043528],\n",
       "       [0.75917422, 0.75917422],\n",
       "       [0.79392361, 0.79392361],\n",
       "       [0.65201795, 0.65201795],\n",
       "       [0.79935782, 0.79935782],\n",
       "       [0.47883744, 0.47883744],\n",
       "       [0.86252101, 0.86252101],\n",
       "       [1.18034704, 1.18034704],\n",
       "       [0.8067411 , 0.8067411 ],\n",
       "       [0.72325308, 0.72325308],\n",
       "       [0.44748024, 0.44748024],\n",
       "       [0.61145896, 0.61145896],\n",
       "       [0.5933275 , 0.5933275 ],\n",
       "       [0.65036262, 0.65036262],\n",
       "       [0.64666105, 0.64666105],\n",
       "       [0.44879872, 0.44879872],\n",
       "       [0.52415369, 0.52415369],\n",
       "       [0.64348096, 0.64348096],\n",
       "       [1.18916574, 1.18916574],\n",
       "       [0.49981452, 0.49981452],\n",
       "       [0.95544377, 0.95544377],\n",
       "       [0.2821956 , 0.2821956 ],\n",
       "       [1.14779897, 1.14779897],\n",
       "       [0.55906544, 0.55906544],\n",
       "       [0.80054323, 0.80054323],\n",
       "       [0.77792295, 0.77792295],\n",
       "       [0.81656792, 0.81656792],\n",
       "       [1.04377295, 1.04377295],\n",
       "       [0.91417705, 0.91417705],\n",
       "       [0.79864532, 0.79864532],\n",
       "       [0.88964925, 0.88964925],\n",
       "       [0.79037096, 0.79037096],\n",
       "       [0.63012096, 0.63012096],\n",
       "       [0.36368034, 0.36368034],\n",
       "       [0.82394371, 0.82394371],\n",
       "       [1.17615221, 1.17615221],\n",
       "       [0.62743883, 0.62743883],\n",
       "       [0.97895179, 0.97895179],\n",
       "       [0.88552234, 0.88552234],\n",
       "       [0.77489784, 0.77489784],\n",
       "       [0.51459573, 0.51459573],\n",
       "       [0.59130591, 0.59130591],\n",
       "       [0.52365439, 0.52365439],\n",
       "       [0.4291182 , 0.4291182 ],\n",
       "       [1.04982792, 1.04982792],\n",
       "       [0.67178933, 0.67178933],\n",
       "       [0.78056274, 0.78056274],\n",
       "       [0.75284833, 0.75284833],\n",
       "       [0.41887024, 0.41887024],\n",
       "       [0.70272897, 0.70272897],\n",
       "       [1.00074214, 1.00074214],\n",
       "       [0.56958265, 0.56958265],\n",
       "       [0.42818211, 0.42818211],\n",
       "       [0.84467911, 0.84467911],\n",
       "       [0.75779009, 0.75779009],\n",
       "       [0.46009144, 0.46009144],\n",
       "       [1.09270451, 1.09270451],\n",
       "       [0.57972685, 0.57972685],\n",
       "       [0.62004985, 0.62004985],\n",
       "       [0.48468684, 0.48468684],\n",
       "       [0.6687996 , 0.6687996 ],\n",
       "       [0.80533942, 0.80533942],\n",
       "       [0.79868208, 0.79868208],\n",
       "       [0.55077311, 0.55077311],\n",
       "       [0.77963534, 0.77963534],\n",
       "       [1.29813397, 1.29813397],\n",
       "       [0.49633415, 0.49633415],\n",
       "       [0.4332439 , 0.4332439 ],\n",
       "       [0.76240035, 0.76240035],\n",
       "       [0.7245876 , 0.7245876 ],\n",
       "       [0.75575008, 0.75575008],\n",
       "       [0.57684888, 0.57684888],\n",
       "       [1.13022577, 1.13022577],\n",
       "       [0.28752095, 0.28752095],\n",
       "       [0.83486581, 0.83486581],\n",
       "       [0.8443842 , 0.8443842 ],\n",
       "       [1.02446565, 1.02446565],\n",
       "       [1.24141124, 1.24141124],\n",
       "       [0.77197867, 0.77197867],\n",
       "       [0.9201405 , 0.9201405 ],\n",
       "       [0.45442498, 0.45442498],\n",
       "       [0.92106109, 0.92106109],\n",
       "       [0.40948024, 0.40948024]])"
      ]
     },
     "execution_count": 11,
     "metadata": {},
     "output_type": "execute_result"
    }
   ],
   "source": [
    "import numpy as np\n",
    "\n",
    "ntrain = 100\n",
    "r0 = 3\n",
    "r1 = 2\n",
    "\n",
    "train_obs_features = np.random.rand(ntrain,4)\n",
    "train_aux_features = np.random.rand(ntrain,2)\n",
    "train_labels = train_obs_features[:,0] + train_obs_features[:,1] + np.random.rand(ntrain)\n",
    "\n",
    "multiPPR(train_obs_features, train_aux_features, train_labels, r0, r1)\n",
    "\n"
   ]
  },
  {
   "cell_type": "code",
   "execution_count": 21,
   "metadata": {},
   "outputs": [],
   "source": [
    "from skpp import ProjectionPursuitRegressor\n"
   ]
  },
  {
   "cell_type": "code",
   "execution_count": 23,
   "metadata": {},
   "outputs": [
    {
     "name": "stdout",
     "output_type": "stream",
     "text": [
      "Help on function fit in module skpp.skpp:\n",
      "\n",
      "fit(self, X, Y)\n",
      "    Train the model.\n",
      "    \n",
      "    Parameters\n",
      "    ----------\n",
      "    X : array-like of shape (n_samples, n_features)\n",
      "            The training input samples.\n",
      "    Y : array-like, shape (n_samples,) or (n_samples, n_outputs)\n",
      "            The target values.\n",
      "    \n",
      "    Returns\n",
      "    -------\n",
      "    self : ProjectionPursuitRegressor\n",
      "            A trained model.\n",
      "\n"
     ]
    }
   ],
   "source": [
    "help(ProjectionPursuitRegressor.fit)"
   ]
  },
  {
   "cell_type": "code",
   "execution_count": null,
   "metadata": {},
   "outputs": [],
   "source": []
  }
 ],
 "metadata": {
  "kernelspec": {
   "display_name": "Python 3",
   "language": "python",
   "name": "python3"
  },
  "language_info": {
   "codemirror_mode": {
    "name": "ipython",
    "version": 3
   },
   "file_extension": ".py",
   "mimetype": "text/x-python",
   "name": "python",
   "nbconvert_exporter": "python",
   "pygments_lexer": "ipython3",
   "version": "3.8.3"
  }
 },
 "nbformat": 4,
 "nbformat_minor": 4
}
